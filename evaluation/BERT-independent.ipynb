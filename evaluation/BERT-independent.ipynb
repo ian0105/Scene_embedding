{
 "cells": [
  {
   "cell_type": "code",
   "execution_count": 61,
   "id": "f2f694bc",
   "metadata": {},
   "outputs": [],
   "source": [
    "import torch\n",
    "import torch.nn as nn\n",
    "import torch.optim as optim\n",
    "import numpy as np\n",
    "import os\n",
    "from tqdm import tqdm\n",
    "import torch.nn.functional as F\n",
    "from gensim.models import Word2Vec\n",
    "from sklearn import metrics\n",
    "from sklearn.metrics import classification_report\n",
    "import itertools\n",
    "import random"
   ]
  },
  {
   "cell_type": "code",
   "execution_count": 62,
   "id": "ccefb015",
   "metadata": {},
   "outputs": [],
   "source": [
    "import torch\n",
    "import torch.nn as nn"
   ]
  },
  {
   "cell_type": "code",
   "execution_count": 63,
   "id": "4cbbc82f",
   "metadata": {},
   "outputs": [],
   "source": [
    "device = 'cuda'"
   ]
  },
  {
   "cell_type": "markdown",
   "id": "21cf40f7",
   "metadata": {},
   "source": [
    "# 313 881\n"
   ]
  },
  {
   "cell_type": "code",
   "execution_count": 4,
   "id": "92ae8adc",
   "metadata": {},
   "outputs": [],
   "source": [
    "pos_weight = 881/313"
   ]
  },
  {
   "cell_type": "code",
   "execution_count": 5,
   "id": "59309431",
   "metadata": {},
   "outputs": [],
   "source": [
    "class BertModel(nn.Module):\n",
    "    def __init__(self, voc_size:int=30000, seq_len: int=512, d_model: int=384, d_ff:int=3072, pad_idx: int=1,\n",
    "                num_encoder: int=12, num_heads: int=12, n_layers=6, dropout: float=0.1):\n",
    "        super(BertModel, self).__init__()\n",
    "        self.pad_idx = pad_idx\n",
    "        self.layers = nn.ModuleList([nn.TransformerEncoderLayer(d_model=d_model, nhead=8, batch_first=True) for _ in range(n_layers)])\n",
    "        self.fc = nn.Linear(d_model, d_model)\n",
    "        self.activ1 = nn.Tanh()\n",
    "        self.classifier = nn.Linear(d_model, 1)\n",
    "        \n",
    "    def forward(self, input: torch.Tensor) -> torch.Tensor:\n",
    "        output = input\n",
    "        for layer in self.layers:\n",
    "            output = layer(output)\n",
    "        #output = output.mean(dim=1, keepdim=True)\n",
    "        output = output[:,-1]\n",
    "        h_pooled = self.activ1(self.fc(output)) # [batch_size, d_model]\n",
    "        logits_clsf = self.classifier(h_pooled) # [batch_size, 2]\n",
    "        return logits_clsf # [B, S, D_model]"
   ]
  },
  {
   "cell_type": "code",
   "execution_count": 6,
   "id": "b19e17f8",
   "metadata": {},
   "outputs": [],
   "source": [
    "def log_metrics(preds, labels):\n",
    "    preds = torch.stack(preds)\n",
    "    preds = preds.cpu().detach().numpy()\n",
    "    labels = torch.stack(labels)\n",
    "    labels = labels.cpu().detach().numpy()\n",
    "    \n",
    "    \n",
    "    ## Method 2 using ravel()\n",
    "    fpr_micro, tpr_micro, _ = metrics.roc_curve(labels.ravel(), preds.ravel())\n",
    "    auc_micro = metrics.auc(fpr_micro, tpr_micro)\n",
    "    n=10\n",
    "    preds = [round(i) for i in preds.ravel()]\n",
    "    acc = metrics.accuracy_score(labels.ravel(), preds)\n",
    "    f1 = metrics.f1_score(labels.ravel(), preds)\n",
    "    preds = [preds[i*n:(i+1)*n] for i in range(len(preds)//6)]\n",
    "    #target_names = list(genre_list.keys())\n",
    "    #print(classification_report(labels,preds, target_names=target_names))\n",
    "    return {\"auc_micro\": auc_micro, \"acc\" : acc, \"f1\" : f1, 'pred' : preds}"
   ]
  },
  {
   "cell_type": "code",
   "execution_count": 93,
   "id": "671403bc",
   "metadata": {},
   "outputs": [],
   "source": [
    "def train_one_epoch(dataloader, model, optimizer, device, loss_fn):\n",
    "    model.train()\n",
    "    tk0 = tqdm(dataloader, total=len(dataloader))\n",
    "    total_loss = 0.0\n",
    "    \n",
    "    for source_tensor, label in tk0:\n",
    "        optimizer.zero_grad()\n",
    "        output = model(source_tensor.to(device))\n",
    "        loss = loss_fn(output.view(-1, output.size(-1)), torch.FloatTensor([label]).to(device))\n",
    "        \n",
    "        total_loss += loss\n",
    "        loss.backward()\n",
    "        optimizer.step()\n",
    "        \n",
    "    avg_train_loss = total_loss / len(dataloader) \n",
    "    print(\" Average training loss: {0:.2f}\".format(avg_train_loss))  \n",
    "\n",
    "def test_one_epoch(testset, model, loss_fn):\n",
    "    model.eval()\n",
    "    tk0 = tqdm(testset, total=len(testset))\n",
    "    targets = []\n",
    "    outputs = []\n",
    "    total_loss = 0.0\n",
    "    with torch.no_grad():\n",
    "        for source_tensor, label in tk0:\n",
    "            label = torch.FloatTensor([label])\n",
    "            output = model(source_tensor.to(device))\n",
    "            loss = loss_fn(output.view(-1, output.size(-1)), label.to(device))\n",
    "            total_loss += loss\n",
    "            targets.extend(label)\n",
    "            outputs.extend(torch.sigmoid(output[0]).to('cpu'))\n",
    "    avg_valid_loss = total_loss / len(testset) \n",
    "    score = log_metrics(outputs, targets)\n",
    "    print(\" Average valid loss: {0:.2f}\".format(avg_valid_loss))  \n",
    "    print('AUC_SCORE: ', score[\"auc_micro\"], \" acc: \", score[\"acc\"], \"f1: \", score[\"f1\"])\n",
    "    return score, avg_valid_loss\n",
    "    \n",
    "def fit(model, train_dataloader, valid_dataloader=None,test_dataloader=None, EPOCHS=3, lr=0.0000005):\n",
    "    loss_fn = nn.BCEWithLogitsLoss(pos_weight=torch.tensor(pos_weight)) #ignore padding\n",
    "    optimizer = torch.optim.AdamW(model.parameters(),lr=lr)\n",
    "    for i in range(EPOCHS):\n",
    "        print(f\"EPOCHS:{i+1}\")\n",
    "        print('TRAIN')\n",
    "        train_one_epoch(train_dataloader, model, optimizer, device, loss_fn)\n",
    "        auc, loss = test_one_epoch(valid_dataloader,model, loss_fn)\n",
    "        if i == 0:\n",
    "            torch.save(model,'rnn_best.model')\n",
    "            best_f1 = auc['f1']\n",
    "        if  best_f1<auc['f1']:\n",
    "            best_f1 = auc['f1']\n",
    "            print(i,' EPOCH BEST MODEL!')\n",
    "            torch.save(model,'rnn_best.model')\n",
    "        print('Test')\n",
    "        auc, loss = test_one_epoch(test_dataloader,model, loss_fn)\n",
    "    best_model = torch.load('rnn_best.model')\n",
    "    auc, loss  = test_one_epoch(test_dataloader,best_model, loss_fn)\n",
    "    print('BEST MODEL')\n",
    "    print('AUC_SCORE: ', auc[\"auc_micro\"], \" acc: \", auc[\"acc\"], \"f1: \", auc[\"f1\"])\n",
    "    return auc"
   ]
  },
  {
   "cell_type": "markdown",
   "id": "5fb6e8d6",
   "metadata": {},
   "source": [
    "            best_f1 = auc['f1']\n",
    "        if  auc['f1']>best_f1:\n",
    "            best_f1 = auc['f1']"
   ]
  },
  {
   "cell_type": "code",
   "execution_count": null,
   "id": "5db5349a",
   "metadata": {},
   "outputs": [],
   "source": []
  },
  {
   "cell_type": "code",
   "execution_count": 94,
   "id": "5638d064",
   "metadata": {},
   "outputs": [],
   "source": [
    "import pickle\n",
    "with open('movie_split_independent film.pickle','rb') as fw:\n",
    "    movie_split = pickle.load(fw)"
   ]
  },
  {
   "cell_type": "code",
   "execution_count": null,
   "id": "a84f2b49",
   "metadata": {},
   "outputs": [],
   "source": []
  },
  {
   "cell_type": "code",
   "execution_count": null,
   "id": "4f4af798",
   "metadata": {},
   "outputs": [],
   "source": []
  },
  {
   "cell_type": "code",
   "execution_count": null,
   "id": "e2e4c668",
   "metadata": {},
   "outputs": [],
   "source": []
  },
  {
   "cell_type": "code",
   "execution_count": 95,
   "id": "adf380ba",
   "metadata": {},
   "outputs": [],
   "source": [
    "path1 = 'word2vec_model_edge/'\n",
    "path2 = 'data/scriptbase/'\n",
    "filenames = os.listdir(path1)\n",
    "train_data = []\n",
    "valid_data = []\n",
    "test_data = []\n",
    "end = torch.ones(1,1,400)\n",
    "for filename in filenames:\n",
    "    genres = []\n",
    "    movie_name = filename[:-14]\n",
    "    cult = 0\n",
    "    with open(path2+movie_name+'/processed/imdb_meta.txt','r') as f:\n",
    "        lines = f.readlines()\n",
    "        for line in lines:\n",
    "            if 'keyword' in line:\n",
    "                try:\n",
    "                    keyword  = line.strip().split('\\t')[1]\n",
    "                    keywords.append(keyword)\n",
    "                except:\n",
    "                    pass\n",
    "                if 'independent film'==keyword:\n",
    "                    cult = 1\n",
    "                    \n",
    "                    \n",
    "    w2v=Word2Vec.load(path1 + filename)\n",
    "    base = 'scene_'\n",
    "    scene_num = 0\n",
    "    max_scene = 0\n",
    "    for node in w2v.wv.index_to_key:\n",
    "        if base in node:\n",
    "            scene_num += 1\n",
    "            if int(node[6:])>max_scene:\n",
    "                max_scene = int(node[6:])\n",
    "    embs = torch.zeros(1,scene_num+1,400)\n",
    "    k = 0\n",
    "    for i in range(1,max_scene+1):\n",
    "        emb_name = base + str(i)\n",
    "        if emb_name in w2v.wv.index_to_key:\n",
    "            emb = w2v.wv[emb_name]\n",
    "            emb = torch.from_numpy(emb)\n",
    "            embs[0][k] = emb\n",
    "            k += 1\n",
    "    embs[0][-1] = end\n",
    "    \n",
    "    if movie_name in movie_split['train']:\n",
    "        train_data.append([embs, [cult]])\n",
    "    elif movie_name in movie_split['valid']:\n",
    "        valid_data.append([embs, [cult]])\n",
    "    elif movie_name in movie_split['test']:\n",
    "        test_data.append([embs, [cult]])"
   ]
  },
  {
   "cell_type": "code",
   "execution_count": 96,
   "id": "d1382603",
   "metadata": {},
   "outputs": [
    {
     "name": "stdout",
     "output_type": "stream",
     "text": [
      "EPOCHS:1\n",
      "TRAIN\n"
     ]
    },
    {
     "name": "stderr",
     "output_type": "stream",
     "text": [
      "100%|████████████████████████████████████████| 963/963 [00:08<00:00, 117.49it/s]\n"
     ]
    },
    {
     "name": "stdout",
     "output_type": "stream",
     "text": [
      " Average training loss: 0.95\n"
     ]
    },
    {
     "name": "stderr",
     "output_type": "stream",
     "text": [
      "100%|████████████████████████████████████████| 121/121 [00:00<00:00, 793.86it/s]"
     ]
    },
    {
     "name": "stdout",
     "output_type": "stream",
     "text": [
      " Average valid loss: 0.96\n",
      "AUC_SCORE:  0.44291497975708505  acc:  0.7768595041322314 f1:  0.0\n"
     ]
    },
    {
     "name": "stderr",
     "output_type": "stream",
     "text": [
      "\n"
     ]
    },
    {
     "name": "stdout",
     "output_type": "stream",
     "text": [
      "Test\n"
     ]
    },
    {
     "name": "stderr",
     "output_type": "stream",
     "text": [
      "100%|████████████████████████████████████████| 120/120 [00:00<00:00, 799.70it/s]\n"
     ]
    },
    {
     "name": "stdout",
     "output_type": "stream",
     "text": [
      " Average valid loss: 0.92\n",
      "AUC_SCORE:  0.556857638888889  acc:  0.8 f1:  0.0\n",
      "EPOCHS:2\n",
      "TRAIN\n"
     ]
    },
    {
     "name": "stderr",
     "output_type": "stream",
     "text": [
      "100%|████████████████████████████████████████| 963/963 [00:08<00:00, 119.41it/s]\n"
     ]
    },
    {
     "name": "stdout",
     "output_type": "stream",
     "text": [
      " Average training loss: 0.94\n"
     ]
    },
    {
     "name": "stderr",
     "output_type": "stream",
     "text": [
      "100%|████████████████████████████████████████| 121/121 [00:00<00:00, 814.47it/s]\n"
     ]
    },
    {
     "name": "stdout",
     "output_type": "stream",
     "text": [
      " Average valid loss: 0.96\n",
      "AUC_SCORE:  0.4165991902834008  acc:  0.7851239669421488 f1:  0.0\n",
      "Test\n"
     ]
    },
    {
     "name": "stderr",
     "output_type": "stream",
     "text": [
      "100%|████████████████████████████████████████| 120/120 [00:00<00:00, 840.24it/s]\n"
     ]
    },
    {
     "name": "stdout",
     "output_type": "stream",
     "text": [
      " Average valid loss: 0.92\n",
      "AUC_SCORE:  0.5620659722222222  acc:  0.8 f1:  0.0\n",
      "EPOCHS:3\n",
      "TRAIN\n"
     ]
    },
    {
     "name": "stderr",
     "output_type": "stream",
     "text": [
      "100%|████████████████████████████████████████| 963/963 [00:08<00:00, 120.19it/s]\n"
     ]
    },
    {
     "name": "stdout",
     "output_type": "stream",
     "text": [
      " Average training loss: 0.94\n"
     ]
    },
    {
     "name": "stderr",
     "output_type": "stream",
     "text": [
      "100%|████████████████████████████████████████| 121/121 [00:00<00:00, 821.18it/s]\n"
     ]
    },
    {
     "name": "stdout",
     "output_type": "stream",
     "text": [
      " Average valid loss: 0.96\n",
      "AUC_SCORE:  0.4186234817813765  acc:  0.7851239669421488 f1:  0.0\n",
      "Test\n"
     ]
    },
    {
     "name": "stderr",
     "output_type": "stream",
     "text": [
      "100%|████████████████████████████████████████| 120/120 [00:00<00:00, 827.88it/s]\n"
     ]
    },
    {
     "name": "stdout",
     "output_type": "stream",
     "text": [
      " Average valid loss: 0.92\n",
      "AUC_SCORE:  0.5703125  acc:  0.8 f1:  0.0\n",
      "EPOCHS:4\n",
      "TRAIN\n"
     ]
    },
    {
     "name": "stderr",
     "output_type": "stream",
     "text": [
      "100%|████████████████████████████████████████| 963/963 [00:07<00:00, 120.76it/s]\n"
     ]
    },
    {
     "name": "stdout",
     "output_type": "stream",
     "text": [
      " Average training loss: 0.94\n"
     ]
    },
    {
     "name": "stderr",
     "output_type": "stream",
     "text": [
      "100%|████████████████████████████████████████| 121/121 [00:00<00:00, 818.34it/s]\n"
     ]
    },
    {
     "name": "stdout",
     "output_type": "stream",
     "text": [
      " Average valid loss: 0.96\n",
      "AUC_SCORE:  0.42550607287449393  acc:  0.7851239669421488 f1:  0.0\n",
      "Test\n"
     ]
    },
    {
     "name": "stderr",
     "output_type": "stream",
     "text": [
      "100%|████████████████████████████████████████| 120/120 [00:00<00:00, 838.46it/s]\n"
     ]
    },
    {
     "name": "stdout",
     "output_type": "stream",
     "text": [
      " Average valid loss: 0.92\n",
      "AUC_SCORE:  0.5638020833333334  acc:  0.8 f1:  0.0\n",
      "EPOCHS:5\n",
      "TRAIN\n"
     ]
    },
    {
     "name": "stderr",
     "output_type": "stream",
     "text": [
      "100%|████████████████████████████████████████| 963/963 [00:08<00:00, 120.07it/s]\n"
     ]
    },
    {
     "name": "stdout",
     "output_type": "stream",
     "text": [
      " Average training loss: 0.93\n"
     ]
    },
    {
     "name": "stderr",
     "output_type": "stream",
     "text": [
      "100%|████████████████████████████████████████| 121/121 [00:00<00:00, 820.02it/s]\n"
     ]
    },
    {
     "name": "stdout",
     "output_type": "stream",
     "text": [
      " Average valid loss: 0.96\n",
      "AUC_SCORE:  0.4331983805668016  acc:  0.7768595041322314 f1:  0.0\n",
      "Test\n"
     ]
    },
    {
     "name": "stderr",
     "output_type": "stream",
     "text": [
      "100%|████████████████████████████████████████| 120/120 [00:00<00:00, 833.21it/s]\n"
     ]
    },
    {
     "name": "stdout",
     "output_type": "stream",
     "text": [
      " Average valid loss: 0.92\n",
      "AUC_SCORE:  0.5677083333333334  acc:  0.8 f1:  0.0\n",
      "EPOCHS:6\n",
      "TRAIN\n"
     ]
    },
    {
     "name": "stderr",
     "output_type": "stream",
     "text": [
      "100%|████████████████████████████████████████| 963/963 [00:08<00:00, 119.99it/s]\n"
     ]
    },
    {
     "name": "stdout",
     "output_type": "stream",
     "text": [
      " Average training loss: 0.93\n"
     ]
    },
    {
     "name": "stderr",
     "output_type": "stream",
     "text": [
      "100%|████████████████████████████████████████| 121/121 [00:00<00:00, 827.35it/s]\n"
     ]
    },
    {
     "name": "stdout",
     "output_type": "stream",
     "text": [
      " Average valid loss: 0.96\n",
      "AUC_SCORE:  0.4408906882591093  acc:  0.768595041322314 f1:  0.0\n",
      "Test\n"
     ]
    },
    {
     "name": "stderr",
     "output_type": "stream",
     "text": [
      "100%|████████████████████████████████████████| 120/120 [00:00<00:00, 844.95it/s]\n"
     ]
    },
    {
     "name": "stdout",
     "output_type": "stream",
     "text": [
      " Average valid loss: 0.92\n",
      "AUC_SCORE:  0.5651041666666666  acc:  0.8 f1:  0.07692307692307693\n",
      "EPOCHS:7\n",
      "TRAIN\n"
     ]
    },
    {
     "name": "stderr",
     "output_type": "stream",
     "text": [
      "100%|████████████████████████████████████████| 963/963 [00:08<00:00, 119.30it/s]\n"
     ]
    },
    {
     "name": "stdout",
     "output_type": "stream",
     "text": [
      " Average training loss: 0.93\n"
     ]
    },
    {
     "name": "stderr",
     "output_type": "stream",
     "text": [
      "100%|████████████████████████████████████████| 121/121 [00:00<00:00, 816.76it/s]\n"
     ]
    },
    {
     "name": "stdout",
     "output_type": "stream",
     "text": [
      " Average valid loss: 0.97\n",
      "AUC_SCORE:  0.4445344129554656  acc:  0.768595041322314 f1:  0.0\n",
      "Test\n"
     ]
    },
    {
     "name": "stderr",
     "output_type": "stream",
     "text": [
      "100%|████████████████████████████████████████| 120/120 [00:00<00:00, 829.55it/s]\n"
     ]
    },
    {
     "name": "stdout",
     "output_type": "stream",
     "text": [
      " Average valid loss: 0.92\n",
      "AUC_SCORE:  0.5690104166666666  acc:  0.775 f1:  0.06896551724137931\n",
      "EPOCHS:8\n",
      "TRAIN\n"
     ]
    },
    {
     "name": "stderr",
     "output_type": "stream",
     "text": [
      "100%|████████████████████████████████████████| 963/963 [00:07<00:00, 121.51it/s]\n"
     ]
    },
    {
     "name": "stdout",
     "output_type": "stream",
     "text": [
      " Average training loss: 0.92\n"
     ]
    },
    {
     "name": "stderr",
     "output_type": "stream",
     "text": [
      "100%|████████████████████████████████████████| 121/121 [00:00<00:00, 814.90it/s]\n"
     ]
    },
    {
     "name": "stdout",
     "output_type": "stream",
     "text": [
      " Average valid loss: 0.97\n",
      "AUC_SCORE:  0.4497975708502024  acc:  0.768595041322314 f1:  0.125\n",
      "7  EPOCH BEST MODEL!\n",
      "Test\n"
     ]
    },
    {
     "name": "stderr",
     "output_type": "stream",
     "text": [
      "100%|████████████████████████████████████████| 120/120 [00:00<00:00, 831.10it/s]\n"
     ]
    },
    {
     "name": "stdout",
     "output_type": "stream",
     "text": [
      " Average valid loss: 0.92\n",
      "AUC_SCORE:  0.5742187499999999  acc:  0.7666666666666667 f1:  0.125\n",
      "EPOCHS:9\n",
      "TRAIN\n"
     ]
    },
    {
     "name": "stderr",
     "output_type": "stream",
     "text": [
      "100%|████████████████████████████████████████| 963/963 [00:07<00:00, 122.13it/s]\n"
     ]
    },
    {
     "name": "stdout",
     "output_type": "stream",
     "text": [
      " Average training loss: 0.92\n"
     ]
    },
    {
     "name": "stderr",
     "output_type": "stream",
     "text": [
      "100%|████████████████████████████████████████| 121/121 [00:00<00:00, 820.17it/s]\n"
     ]
    },
    {
     "name": "stdout",
     "output_type": "stream",
     "text": [
      " Average valid loss: 0.97\n",
      "AUC_SCORE:  0.4530364372469636  acc:  0.743801652892562 f1:  0.1142857142857143\n",
      "Test\n"
     ]
    },
    {
     "name": "stderr",
     "output_type": "stream",
     "text": [
      "100%|████████████████████████████████████████| 120/120 [00:00<00:00, 840.72it/s]\n"
     ]
    },
    {
     "name": "stdout",
     "output_type": "stream",
     "text": [
      " Average valid loss: 0.91\n",
      "AUC_SCORE:  0.5763888888888887  acc:  0.7583333333333333 f1:  0.12121212121212122\n",
      "EPOCHS:10\n",
      "TRAIN\n"
     ]
    },
    {
     "name": "stderr",
     "output_type": "stream",
     "text": [
      "100%|████████████████████████████████████████| 963/963 [00:07<00:00, 121.78it/s]\n"
     ]
    },
    {
     "name": "stdout",
     "output_type": "stream",
     "text": [
      " Average training loss: 0.92\n"
     ]
    },
    {
     "name": "stderr",
     "output_type": "stream",
     "text": [
      "100%|████████████████████████████████████████| 121/121 [00:00<00:00, 822.22it/s]"
     ]
    },
    {
     "name": "stdout",
     "output_type": "stream",
     "text": [
      " Average valid loss: 0.97\n",
      "AUC_SCORE:  0.4562753036437247  acc:  0.71900826446281 f1:  0.15\n",
      "9  EPOCH BEST MODEL!\n"
     ]
    },
    {
     "name": "stderr",
     "output_type": "stream",
     "text": [
      "\n"
     ]
    },
    {
     "name": "stdout",
     "output_type": "stream",
     "text": [
      "Test\n"
     ]
    },
    {
     "name": "stderr",
     "output_type": "stream",
     "text": [
      "100%|████████████████████████████████████████| 120/120 [00:00<00:00, 817.76it/s]\n"
     ]
    },
    {
     "name": "stdout",
     "output_type": "stream",
     "text": [
      " Average valid loss: 0.92\n",
      "AUC_SCORE:  0.5755208333333334  acc:  0.7416666666666667 f1:  0.2051282051282051\n",
      "EPOCHS:11\n",
      "TRAIN\n"
     ]
    },
    {
     "name": "stderr",
     "output_type": "stream",
     "text": [
      "100%|████████████████████████████████████████| 963/963 [00:08<00:00, 119.74it/s]\n"
     ]
    },
    {
     "name": "stdout",
     "output_type": "stream",
     "text": [
      " Average training loss: 0.91\n"
     ]
    },
    {
     "name": "stderr",
     "output_type": "stream",
     "text": [
      "100%|████████████████████████████████████████| 121/121 [00:00<00:00, 819.76it/s]\n"
     ]
    },
    {
     "name": "stdout",
     "output_type": "stream",
     "text": [
      " Average valid loss: 0.97\n",
      "AUC_SCORE:  0.45829959514170043  acc:  0.71900826446281 f1:  0.15\n",
      "Test\n"
     ]
    },
    {
     "name": "stderr",
     "output_type": "stream",
     "text": [
      "100%|████████████████████████████████████████| 120/120 [00:00<00:00, 834.17it/s]\n"
     ]
    },
    {
     "name": "stdout",
     "output_type": "stream",
     "text": [
      " Average valid loss: 0.91\n",
      "AUC_SCORE:  0.576388888888889  acc:  0.725 f1:  0.23255813953488372\n",
      "EPOCHS:12\n",
      "TRAIN\n"
     ]
    },
    {
     "name": "stderr",
     "output_type": "stream",
     "text": [
      "100%|████████████████████████████████████████| 963/963 [00:08<00:00, 119.71it/s]\n"
     ]
    },
    {
     "name": "stdout",
     "output_type": "stream",
     "text": [
      " Average training loss: 0.91\n"
     ]
    },
    {
     "name": "stderr",
     "output_type": "stream",
     "text": [
      "100%|████████████████████████████████████████| 121/121 [00:00<00:00, 820.75it/s]"
     ]
    },
    {
     "name": "stdout",
     "output_type": "stream",
     "text": [
      " Average valid loss: 0.97\n",
      "AUC_SCORE:  0.4659919028340081  acc:  0.7272727272727273 f1:  0.23255813953488372\n",
      "11  EPOCH BEST MODEL!\n"
     ]
    },
    {
     "name": "stderr",
     "output_type": "stream",
     "text": [
      "\n"
     ]
    },
    {
     "name": "stdout",
     "output_type": "stream",
     "text": [
      "Test\n"
     ]
    },
    {
     "name": "stderr",
     "output_type": "stream",
     "text": [
      "100%|████████████████████████████████████████| 120/120 [00:00<00:00, 807.16it/s]\n"
     ]
    },
    {
     "name": "stdout",
     "output_type": "stream",
     "text": [
      " Average valid loss: 0.91\n",
      "AUC_SCORE:  0.5776909722222222  acc:  0.7 f1:  0.25\n",
      "EPOCHS:13\n",
      "TRAIN\n"
     ]
    },
    {
     "name": "stderr",
     "output_type": "stream",
     "text": [
      "100%|████████████████████████████████████████| 963/963 [00:08<00:00, 119.21it/s]\n"
     ]
    },
    {
     "name": "stdout",
     "output_type": "stream",
     "text": [
      " Average training loss: 0.90\n"
     ]
    },
    {
     "name": "stderr",
     "output_type": "stream",
     "text": [
      "100%|████████████████████████████████████████| 121/121 [00:00<00:00, 815.02it/s]\n"
     ]
    },
    {
     "name": "stdout",
     "output_type": "stream",
     "text": [
      " Average valid loss: 0.98\n",
      "AUC_SCORE:  0.4720647773279353  acc:  0.6859504132231405 f1:  0.20833333333333331\n",
      "Test\n"
     ]
    },
    {
     "name": "stderr",
     "output_type": "stream",
     "text": [
      "100%|████████████████████████████████████████| 120/120 [00:00<00:00, 838.77it/s]\n"
     ]
    },
    {
     "name": "stdout",
     "output_type": "stream",
     "text": [
      " Average valid loss: 0.91\n",
      "AUC_SCORE:  0.5785590277777778  acc:  0.675 f1:  0.26415094339622647\n",
      "EPOCHS:14\n",
      "TRAIN\n"
     ]
    },
    {
     "name": "stderr",
     "output_type": "stream",
     "text": [
      "100%|████████████████████████████████████████| 963/963 [00:08<00:00, 117.49it/s]\n"
     ]
    },
    {
     "name": "stdout",
     "output_type": "stream",
     "text": [
      " Average training loss: 0.90\n"
     ]
    },
    {
     "name": "stderr",
     "output_type": "stream",
     "text": [
      "100%|████████████████████████████████████████| 121/121 [00:00<00:00, 817.34it/s]\n"
     ]
    },
    {
     "name": "stdout",
     "output_type": "stream",
     "text": [
      " Average valid loss: 0.98\n",
      "AUC_SCORE:  0.47530364372469636  acc:  0.6859504132231405 f1:  0.20833333333333331\n",
      "Test\n"
     ]
    },
    {
     "name": "stderr",
     "output_type": "stream",
     "text": [
      "100%|████████████████████████████████████████| 120/120 [00:00<00:00, 839.62it/s]\n"
     ]
    },
    {
     "name": "stdout",
     "output_type": "stream",
     "text": [
      " Average valid loss: 0.91\n",
      "AUC_SCORE:  0.5794270833333333  acc:  0.675 f1:  0.26415094339622647\n",
      "EPOCHS:15\n",
      "TRAIN\n"
     ]
    },
    {
     "name": "stderr",
     "output_type": "stream",
     "text": [
      "100%|████████████████████████████████████████| 963/963 [00:08<00:00, 117.77it/s]\n"
     ]
    },
    {
     "name": "stdout",
     "output_type": "stream",
     "text": [
      " Average training loss: 0.90\n"
     ]
    },
    {
     "name": "stderr",
     "output_type": "stream",
     "text": [
      "100%|████████████████████████████████████████| 121/121 [00:00<00:00, 808.10it/s]\n"
     ]
    },
    {
     "name": "stdout",
     "output_type": "stream",
     "text": [
      " Average valid loss: 0.98\n",
      "AUC_SCORE:  0.47813765182186235  acc:  0.6528925619834711 f1:  0.19230769230769232\n",
      "Test\n"
     ]
    },
    {
     "name": "stderr",
     "output_type": "stream",
     "text": [
      "100%|████████████████████████████████████████| 120/120 [00:00<00:00, 832.36it/s]\n"
     ]
    },
    {
     "name": "stdout",
     "output_type": "stream",
     "text": [
      " Average valid loss: 0.91\n",
      "AUC_SCORE:  0.5785590277777778  acc:  0.65 f1:  0.27586206896551724\n",
      "EPOCHS:16\n",
      "TRAIN\n"
     ]
    },
    {
     "name": "stderr",
     "output_type": "stream",
     "text": [
      "100%|████████████████████████████████████████| 963/963 [00:08<00:00, 118.16it/s]\n"
     ]
    },
    {
     "name": "stdout",
     "output_type": "stream",
     "text": [
      " Average training loss: 0.89\n"
     ]
    },
    {
     "name": "stderr",
     "output_type": "stream",
     "text": [
      "100%|████████████████████████████████████████| 121/121 [00:00<00:00, 812.12it/s]\n"
     ]
    },
    {
     "name": "stdout",
     "output_type": "stream",
     "text": [
      " Average valid loss: 0.98\n",
      "AUC_SCORE:  0.48218623481781375  acc:  0.6446280991735537 f1:  0.18867924528301885\n",
      "Test\n"
     ]
    },
    {
     "name": "stderr",
     "output_type": "stream",
     "text": [
      "100%|████████████████████████████████████████| 120/120 [00:00<00:00, 826.68it/s]\n"
     ]
    },
    {
     "name": "stdout",
     "output_type": "stream",
     "text": [
      " Average valid loss: 0.91\n",
      "AUC_SCORE:  0.5837673611111112  acc:  0.6333333333333333 f1:  0.26666666666666666\n",
      "EPOCHS:17\n",
      "TRAIN\n"
     ]
    },
    {
     "name": "stderr",
     "output_type": "stream",
     "text": [
      "100%|████████████████████████████████████████| 963/963 [00:08<00:00, 117.82it/s]\n"
     ]
    },
    {
     "name": "stdout",
     "output_type": "stream",
     "text": [
      " Average training loss: 0.89\n"
     ]
    },
    {
     "name": "stderr",
     "output_type": "stream",
     "text": [
      "100%|████████████████████████████████████████| 121/121 [00:00<00:00, 806.30it/s]\n"
     ]
    },
    {
     "name": "stdout",
     "output_type": "stream",
     "text": [
      " Average valid loss: 0.98\n",
      "AUC_SCORE:  0.4870445344129555  acc:  0.6528925619834711 f1:  0.25\n",
      "16  EPOCH BEST MODEL!\n",
      "Test\n"
     ]
    },
    {
     "name": "stderr",
     "output_type": "stream",
     "text": [
      "100%|████████████████████████████████████████| 120/120 [00:00<00:00, 807.60it/s]\n"
     ]
    },
    {
     "name": "stdout",
     "output_type": "stream",
     "text": [
      " Average valid loss: 0.91\n",
      "AUC_SCORE:  0.5842013888888888  acc:  0.6166666666666667 f1:  0.28125000000000006\n",
      "EPOCHS:18\n",
      "TRAIN\n"
     ]
    },
    {
     "name": "stderr",
     "output_type": "stream",
     "text": [
      "100%|████████████████████████████████████████| 963/963 [00:08<00:00, 117.84it/s]\n"
     ]
    },
    {
     "name": "stdout",
     "output_type": "stream",
     "text": [
      " Average training loss: 0.88\n"
     ]
    },
    {
     "name": "stderr",
     "output_type": "stream",
     "text": [
      "100%|████████████████████████████████████████| 121/121 [00:00<00:00, 814.81it/s]\n"
     ]
    },
    {
     "name": "stdout",
     "output_type": "stream",
     "text": [
      " Average valid loss: 0.99\n",
      "AUC_SCORE:  0.4874493927125506  acc:  0.6528925619834711 f1:  0.25\n",
      "Test\n"
     ]
    },
    {
     "name": "stderr",
     "output_type": "stream",
     "text": [
      "100%|████████████████████████████████████████| 120/120 [00:00<00:00, 824.15it/s]\n"
     ]
    },
    {
     "name": "stdout",
     "output_type": "stream",
     "text": [
      " Average valid loss: 0.91\n",
      "AUC_SCORE:  0.5894097222222222  acc:  0.625 f1:  0.30769230769230765\n",
      "EPOCHS:19\n",
      "TRAIN\n"
     ]
    },
    {
     "name": "stderr",
     "output_type": "stream",
     "text": [
      "100%|████████████████████████████████████████| 963/963 [00:08<00:00, 118.32it/s]\n"
     ]
    },
    {
     "name": "stdout",
     "output_type": "stream",
     "text": [
      " Average training loss: 0.88\n"
     ]
    },
    {
     "name": "stderr",
     "output_type": "stream",
     "text": [
      "100%|████████████████████████████████████████| 121/121 [00:00<00:00, 819.79it/s]\n"
     ]
    },
    {
     "name": "stdout",
     "output_type": "stream",
     "text": [
      " Average valid loss: 0.99\n",
      "AUC_SCORE:  0.494331983805668  acc:  0.6611570247933884 f1:  0.2545454545454545\n",
      "18  EPOCH BEST MODEL!\n",
      "Test\n"
     ]
    },
    {
     "name": "stderr",
     "output_type": "stream",
     "text": [
      "100%|████████████████████████████████████████| 120/120 [00:00<00:00, 801.93it/s]\n"
     ]
    },
    {
     "name": "stdout",
     "output_type": "stream",
     "text": [
      " Average valid loss: 0.91\n",
      "AUC_SCORE:  0.5911458333333334  acc:  0.6333333333333333 f1:  0.3529411764705882\n",
      "EPOCHS:20\n",
      "TRAIN\n"
     ]
    },
    {
     "name": "stderr",
     "output_type": "stream",
     "text": [
      "100%|████████████████████████████████████████| 963/963 [00:08<00:00, 117.89it/s]\n"
     ]
    },
    {
     "name": "stdout",
     "output_type": "stream",
     "text": [
      " Average training loss: 0.89\n"
     ]
    },
    {
     "name": "stderr",
     "output_type": "stream",
     "text": [
      "100%|████████████████████████████████████████| 121/121 [00:00<00:00, 806.11it/s]\n"
     ]
    },
    {
     "name": "stdout",
     "output_type": "stream",
     "text": [
      " Average valid loss: 0.99\n",
      "AUC_SCORE:  0.4987854251012146  acc:  0.6528925619834711 f1:  0.29999999999999993\n",
      "19  EPOCH BEST MODEL!\n",
      "Test\n"
     ]
    },
    {
     "name": "stderr",
     "output_type": "stream",
     "text": [
      "100%|████████████████████████████████████████| 120/120 [00:00<00:00, 804.98it/s]\n"
     ]
    },
    {
     "name": "stdout",
     "output_type": "stream",
     "text": [
      " Average valid loss: 0.91\n",
      "AUC_SCORE:  0.5924479166666666  acc:  0.6166666666666667 f1:  0.3428571428571428\n",
      "EPOCHS:21\n",
      "TRAIN\n"
     ]
    },
    {
     "name": "stderr",
     "output_type": "stream",
     "text": [
      "100%|████████████████████████████████████████| 963/963 [00:08<00:00, 113.69it/s]\n"
     ]
    },
    {
     "name": "stdout",
     "output_type": "stream",
     "text": [
      " Average training loss: 0.87\n"
     ]
    },
    {
     "name": "stderr",
     "output_type": "stream",
     "text": [
      "100%|████████████████████████████████████████| 121/121 [00:00<00:00, 753.29it/s]"
     ]
    },
    {
     "name": "stdout",
     "output_type": "stream",
     "text": [
      " Average valid loss: 0.99\n",
      "AUC_SCORE:  0.5048582995951417  acc:  0.6776859504132231 f1:  0.3157894736842105\n",
      "20  EPOCH BEST MODEL!\n"
     ]
    },
    {
     "name": "stderr",
     "output_type": "stream",
     "text": [
      "\n"
     ]
    },
    {
     "name": "stdout",
     "output_type": "stream",
     "text": [
      "Test\n"
     ]
    },
    {
     "name": "stderr",
     "output_type": "stream",
     "text": [
      "100%|████████████████████████████████████████| 120/120 [00:00<00:00, 724.32it/s]\n"
     ]
    },
    {
     "name": "stdout",
     "output_type": "stream",
     "text": [
      " Average valid loss: 0.91\n",
      "AUC_SCORE:  0.5902777777777778  acc:  0.625 f1:  0.3478260869565218\n",
      "EPOCHS:22\n",
      "TRAIN\n"
     ]
    },
    {
     "name": "stderr",
     "output_type": "stream",
     "text": [
      "100%|████████████████████████████████████████| 963/963 [00:08<00:00, 114.03it/s]\n"
     ]
    },
    {
     "name": "stdout",
     "output_type": "stream",
     "text": [
      " Average training loss: 0.87\n"
     ]
    },
    {
     "name": "stderr",
     "output_type": "stream",
     "text": [
      "100%|████████████████████████████████████████| 121/121 [00:00<00:00, 765.38it/s]\n"
     ]
    },
    {
     "name": "stdout",
     "output_type": "stream",
     "text": [
      " Average valid loss: 0.99\n",
      "AUC_SCORE:  0.5068825910931174  acc:  0.6694214876033058 f1:  0.3103448275862069\n",
      "Test\n"
     ]
    },
    {
     "name": "stderr",
     "output_type": "stream",
     "text": [
      "100%|████████████████████████████████████████| 120/120 [00:00<00:00, 795.31it/s]\n"
     ]
    },
    {
     "name": "stdout",
     "output_type": "stream",
     "text": [
      " Average valid loss: 0.91\n",
      "AUC_SCORE:  0.5928819444444445  acc:  0.6166666666666667 f1:  0.36111111111111105\n",
      "EPOCHS:23\n",
      "TRAIN\n"
     ]
    },
    {
     "name": "stderr",
     "output_type": "stream",
     "text": [
      "100%|████████████████████████████████████████| 963/963 [00:08<00:00, 114.75it/s]\n"
     ]
    },
    {
     "name": "stdout",
     "output_type": "stream",
     "text": [
      " Average training loss: 0.87\n"
     ]
    },
    {
     "name": "stderr",
     "output_type": "stream",
     "text": [
      "100%|████████████████████████████████████████| 121/121 [00:00<00:00, 723.46it/s]\n"
     ]
    },
    {
     "name": "stdout",
     "output_type": "stream",
     "text": [
      " Average valid loss: 1.00\n",
      "AUC_SCORE:  0.5101214574898786  acc:  0.6446280991735537 f1:  0.3384615384615385\n",
      "22  EPOCH BEST MODEL!\n",
      "Test\n"
     ]
    },
    {
     "name": "stderr",
     "output_type": "stream",
     "text": [
      "100%|████████████████████████████████████████| 120/120 [00:00<00:00, 730.70it/s]\n"
     ]
    },
    {
     "name": "stdout",
     "output_type": "stream",
     "text": [
      " Average valid loss: 0.92\n",
      "AUC_SCORE:  0.5963541666666667  acc:  0.6 f1:  0.3684210526315789\n",
      "EPOCHS:24\n",
      "TRAIN\n"
     ]
    },
    {
     "name": "stderr",
     "output_type": "stream",
     "text": [
      "100%|████████████████████████████████████████| 963/963 [00:08<00:00, 114.34it/s]\n"
     ]
    },
    {
     "name": "stdout",
     "output_type": "stream",
     "text": [
      " Average training loss: 0.86\n"
     ]
    },
    {
     "name": "stderr",
     "output_type": "stream",
     "text": [
      "100%|████████████████████████████████████████| 121/121 [00:00<00:00, 805.45it/s]\n"
     ]
    },
    {
     "name": "stdout",
     "output_type": "stream",
     "text": [
      " Average valid loss: 1.00\n",
      "AUC_SCORE:  0.51417004048583  acc:  0.6859504132231405 f1:  0.3666666666666667\n",
      "23  EPOCH BEST MODEL!\n",
      "Test\n"
     ]
    },
    {
     "name": "stderr",
     "output_type": "stream",
     "text": [
      "100%|████████████████████████████████████████| 120/120 [00:00<00:00, 818.48it/s]\n"
     ]
    },
    {
     "name": "stdout",
     "output_type": "stream",
     "text": [
      " Average valid loss: 0.92\n",
      "AUC_SCORE:  0.5985243055555556  acc:  0.6083333333333333 f1:  0.37333333333333335\n",
      "EPOCHS:25\n",
      "TRAIN\n"
     ]
    },
    {
     "name": "stderr",
     "output_type": "stream",
     "text": [
      "100%|████████████████████████████████████████| 963/963 [00:08<00:00, 117.12it/s]\n"
     ]
    },
    {
     "name": "stdout",
     "output_type": "stream",
     "text": [
      " Average training loss: 0.85\n"
     ]
    },
    {
     "name": "stderr",
     "output_type": "stream",
     "text": [
      "100%|████████████████████████████████████████| 121/121 [00:00<00:00, 811.71it/s]\n"
     ]
    },
    {
     "name": "stdout",
     "output_type": "stream",
     "text": [
      " Average valid loss: 1.00\n",
      "AUC_SCORE:  0.5174089068825911  acc:  0.6859504132231405 f1:  0.3666666666666667\n",
      "Test\n"
     ]
    },
    {
     "name": "stderr",
     "output_type": "stream",
     "text": [
      "100%|████████████████████████████████████████| 120/120 [00:00<00:00, 828.37it/s]\n"
     ]
    },
    {
     "name": "stdout",
     "output_type": "stream",
     "text": [
      " Average valid loss: 0.92\n",
      "AUC_SCORE:  0.6002604166666666  acc:  0.6083333333333333 f1:  0.37333333333333335\n",
      "EPOCHS:26\n",
      "TRAIN\n"
     ]
    },
    {
     "name": "stderr",
     "output_type": "stream",
     "text": [
      "100%|████████████████████████████████████████| 963/963 [00:08<00:00, 118.39it/s]\n"
     ]
    },
    {
     "name": "stdout",
     "output_type": "stream",
     "text": [
      " Average training loss: 0.85\n"
     ]
    },
    {
     "name": "stderr",
     "output_type": "stream",
     "text": [
      "100%|████████████████████████████████████████| 121/121 [00:00<00:00, 810.94it/s]\n"
     ]
    },
    {
     "name": "stdout",
     "output_type": "stream",
     "text": [
      " Average valid loss: 1.00\n",
      "AUC_SCORE:  0.5182186234817813  acc:  0.6528925619834711 f1:  0.34375\n",
      "Test\n"
     ]
    },
    {
     "name": "stderr",
     "output_type": "stream",
     "text": [
      "100%|████████████████████████████████████████| 120/120 [00:00<00:00, 828.60it/s]\n"
     ]
    },
    {
     "name": "stdout",
     "output_type": "stream",
     "text": [
      " Average valid loss: 0.92\n",
      "AUC_SCORE:  0.6024305555555556  acc:  0.6 f1:  0.3684210526315789\n",
      "EPOCHS:27\n",
      "TRAIN\n"
     ]
    },
    {
     "name": "stderr",
     "output_type": "stream",
     "text": [
      "100%|████████████████████████████████████████| 963/963 [00:08<00:00, 117.33it/s]\n"
     ]
    },
    {
     "name": "stdout",
     "output_type": "stream",
     "text": [
      " Average training loss: 0.85\n"
     ]
    },
    {
     "name": "stderr",
     "output_type": "stream",
     "text": [
      "100%|████████████████████████████████████████| 121/121 [00:00<00:00, 795.90it/s]"
     ]
    },
    {
     "name": "stdout",
     "output_type": "stream",
     "text": [
      " Average valid loss: 1.01\n",
      "AUC_SCORE:  0.5206477732793522  acc:  0.7024793388429752 f1:  0.3793103448275862\n",
      "26  EPOCH BEST MODEL!\n"
     ]
    },
    {
     "name": "stderr",
     "output_type": "stream",
     "text": [
      "\n"
     ]
    },
    {
     "name": "stdout",
     "output_type": "stream",
     "text": [
      "Test\n"
     ]
    },
    {
     "name": "stderr",
     "output_type": "stream",
     "text": [
      "100%|████████████████████████████████████████| 120/120 [00:00<00:00, 836.72it/s]\n"
     ]
    },
    {
     "name": "stdout",
     "output_type": "stream",
     "text": [
      " Average valid loss: 0.92\n",
      "AUC_SCORE:  0.6037326388888888  acc:  0.625 f1:  0.3835616438356164\n",
      "EPOCHS:28\n",
      "TRAIN\n"
     ]
    },
    {
     "name": "stderr",
     "output_type": "stream",
     "text": [
      "100%|████████████████████████████████████████| 963/963 [00:08<00:00, 117.38it/s]\n"
     ]
    },
    {
     "name": "stdout",
     "output_type": "stream",
     "text": [
      " Average training loss: 0.85\n"
     ]
    },
    {
     "name": "stderr",
     "output_type": "stream",
     "text": [
      "100%|████████████████████████████████████████| 121/121 [00:00<00:00, 810.44it/s]\n"
     ]
    },
    {
     "name": "stdout",
     "output_type": "stream",
     "text": [
      " Average valid loss: 1.01\n",
      "AUC_SCORE:  0.5222672064777328  acc:  0.6363636363636364 f1:  0.33333333333333337\n",
      "Test\n"
     ]
    },
    {
     "name": "stderr",
     "output_type": "stream",
     "text": [
      "100%|████████████████████████████████████████| 120/120 [00:00<00:00, 828.74it/s]\n"
     ]
    },
    {
     "name": "stdout",
     "output_type": "stream",
     "text": [
      " Average valid loss: 0.92\n",
      "AUC_SCORE:  0.60546875  acc:  0.6 f1:  0.3684210526315789\n",
      "EPOCHS:29\n",
      "TRAIN\n"
     ]
    },
    {
     "name": "stderr",
     "output_type": "stream",
     "text": [
      "100%|████████████████████████████████████████| 963/963 [00:08<00:00, 117.67it/s]\n"
     ]
    },
    {
     "name": "stdout",
     "output_type": "stream",
     "text": [
      " Average training loss: 0.84\n"
     ]
    },
    {
     "name": "stderr",
     "output_type": "stream",
     "text": [
      "100%|████████████████████████████████████████| 121/121 [00:00<00:00, 816.96it/s]\n"
     ]
    },
    {
     "name": "stdout",
     "output_type": "stream",
     "text": [
      " Average valid loss: 1.01\n",
      "AUC_SCORE:  0.5246963562753036  acc:  0.6942148760330579 f1:  0.3728813559322034\n",
      "Test\n"
     ]
    },
    {
     "name": "stderr",
     "output_type": "stream",
     "text": [
      "100%|████████████████████████████████████████| 120/120 [00:00<00:00, 827.96it/s]\n"
     ]
    },
    {
     "name": "stdout",
     "output_type": "stream",
     "text": [
      " Average valid loss: 0.92\n",
      "AUC_SCORE:  0.6067708333333334  acc:  0.6166666666666667 f1:  0.3783783783783784\n",
      "EPOCHS:30\n",
      "TRAIN\n"
     ]
    },
    {
     "name": "stderr",
     "output_type": "stream",
     "text": [
      "100%|████████████████████████████████████████| 963/963 [00:08<00:00, 118.44it/s]\n"
     ]
    },
    {
     "name": "stdout",
     "output_type": "stream",
     "text": [
      " Average training loss: 0.84\n"
     ]
    },
    {
     "name": "stderr",
     "output_type": "stream",
     "text": [
      "100%|████████████████████████████████████████| 121/121 [00:00<00:00, 809.90it/s]\n"
     ]
    },
    {
     "name": "stdout",
     "output_type": "stream",
     "text": [
      " Average valid loss: 1.01\n",
      "AUC_SCORE:  0.5275303643724696  acc:  0.7024793388429752 f1:  0.3793103448275862\n",
      "Test\n"
     ]
    },
    {
     "name": "stderr",
     "output_type": "stream",
     "text": [
      "100%|████████████████████████████████████████| 120/120 [00:00<00:00, 830.62it/s]\n"
     ]
    },
    {
     "name": "stdout",
     "output_type": "stream",
     "text": [
      " Average valid loss: 0.92\n",
      "AUC_SCORE:  0.6102430555555555  acc:  0.6166666666666667 f1:  0.3783783783783784\n",
      "EPOCHS:31\n",
      "TRAIN\n"
     ]
    },
    {
     "name": "stderr",
     "output_type": "stream",
     "text": [
      "100%|████████████████████████████████████████| 963/963 [00:08<00:00, 117.93it/s]\n"
     ]
    },
    {
     "name": "stdout",
     "output_type": "stream",
     "text": [
      " Average training loss: 0.83\n"
     ]
    },
    {
     "name": "stderr",
     "output_type": "stream",
     "text": [
      "100%|████████████████████████████████████████| 121/121 [00:00<00:00, 812.34it/s]\n"
     ]
    },
    {
     "name": "stdout",
     "output_type": "stream",
     "text": [
      " Average valid loss: 1.01\n",
      "AUC_SCORE:  0.531578947368421  acc:  0.6694214876033058 f1:  0.3548387096774194\n",
      "Test\n"
     ]
    },
    {
     "name": "stderr",
     "output_type": "stream",
     "text": [
      "100%|████████████████████████████████████████| 120/120 [00:00<00:00, 826.85it/s]\n"
     ]
    },
    {
     "name": "stdout",
     "output_type": "stream",
     "text": [
      " Average valid loss: 0.93\n",
      "AUC_SCORE:  0.6137152777777777  acc:  0.6166666666666667 f1:  0.3947368421052631\n",
      "EPOCHS:32\n",
      "TRAIN\n"
     ]
    },
    {
     "name": "stderr",
     "output_type": "stream",
     "text": [
      "100%|████████████████████████████████████████| 963/963 [00:08<00:00, 117.45it/s]\n"
     ]
    },
    {
     "name": "stdout",
     "output_type": "stream",
     "text": [
      " Average training loss: 0.84\n"
     ]
    },
    {
     "name": "stderr",
     "output_type": "stream",
     "text": [
      "100%|████████████████████████████████████████| 121/121 [00:00<00:00, 802.81it/s]\n"
     ]
    },
    {
     "name": "stdout",
     "output_type": "stream",
     "text": [
      " Average valid loss: 1.01\n",
      "AUC_SCORE:  0.5348178137651821  acc:  0.6776859504132231 f1:  0.360655737704918\n",
      "Test\n"
     ]
    },
    {
     "name": "stderr",
     "output_type": "stream",
     "text": [
      "100%|████████████████████████████████████████| 120/120 [00:00<00:00, 831.88it/s]\n"
     ]
    },
    {
     "name": "stdout",
     "output_type": "stream",
     "text": [
      " Average valid loss: 0.93\n",
      "AUC_SCORE:  0.618923611111111  acc:  0.6083333333333333 f1:  0.37333333333333335\n",
      "EPOCHS:33\n",
      "TRAIN\n"
     ]
    },
    {
     "name": "stderr",
     "output_type": "stream",
     "text": [
      "100%|████████████████████████████████████████| 963/963 [00:08<00:00, 117.63it/s]\n"
     ]
    },
    {
     "name": "stdout",
     "output_type": "stream",
     "text": [
      " Average training loss: 0.83\n"
     ]
    },
    {
     "name": "stderr",
     "output_type": "stream",
     "text": [
      "100%|████████████████████████████████████████| 121/121 [00:00<00:00, 808.87it/s]\n"
     ]
    },
    {
     "name": "stdout",
     "output_type": "stream",
     "text": [
      " Average valid loss: 1.01\n",
      "AUC_SCORE:  0.5380566801619433  acc:  0.6446280991735537 f1:  0.3384615384615385\n",
      "Test\n"
     ]
    },
    {
     "name": "stderr",
     "output_type": "stream",
     "text": [
      "100%|████████████████████████████████████████| 120/120 [00:00<00:00, 825.45it/s]\n"
     ]
    },
    {
     "name": "stdout",
     "output_type": "stream",
     "text": [
      " Average valid loss: 0.93\n",
      "AUC_SCORE:  0.6206597222222223  acc:  0.6166666666666667 f1:  0.3947368421052631\n",
      "EPOCHS:34\n",
      "TRAIN\n"
     ]
    },
    {
     "name": "stderr",
     "output_type": "stream",
     "text": [
      "100%|████████████████████████████████████████| 963/963 [00:08<00:00, 118.57it/s]\n"
     ]
    },
    {
     "name": "stdout",
     "output_type": "stream",
     "text": [
      " Average training loss: 0.82\n"
     ]
    },
    {
     "name": "stderr",
     "output_type": "stream",
     "text": [
      "100%|████████████████████████████████████████| 121/121 [00:00<00:00, 817.30it/s]\n"
     ]
    },
    {
     "name": "stdout",
     "output_type": "stream",
     "text": [
      " Average valid loss: 1.02\n",
      "AUC_SCORE:  0.5388663967611336  acc:  0.6446280991735537 f1:  0.3384615384615385\n",
      "Test\n"
     ]
    },
    {
     "name": "stderr",
     "output_type": "stream",
     "text": [
      "100%|████████████████████████████████████████| 120/120 [00:00<00:00, 836.79it/s]\n"
     ]
    },
    {
     "name": "stdout",
     "output_type": "stream",
     "text": [
      " Average valid loss: 0.93\n",
      "AUC_SCORE:  0.6189236111111112  acc:  0.6 f1:  0.3846153846153846\n",
      "EPOCHS:35\n",
      "TRAIN\n"
     ]
    },
    {
     "name": "stderr",
     "output_type": "stream",
     "text": [
      "100%|████████████████████████████████████████| 963/963 [00:08<00:00, 118.07it/s]\n"
     ]
    },
    {
     "name": "stdout",
     "output_type": "stream",
     "text": [
      " Average training loss: 0.82\n"
     ]
    },
    {
     "name": "stderr",
     "output_type": "stream",
     "text": [
      "100%|████████████████████████████████████████| 121/121 [00:00<00:00, 811.00it/s]\n"
     ]
    },
    {
     "name": "stdout",
     "output_type": "stream",
     "text": [
      " Average valid loss: 1.02\n",
      "AUC_SCORE:  0.5433198380566802  acc:  0.6611570247933884 f1:  0.34920634920634924\n",
      "Test\n"
     ]
    },
    {
     "name": "stderr",
     "output_type": "stream",
     "text": [
      "100%|████████████████████████████████████████| 120/120 [00:00<00:00, 835.00it/s]\n"
     ]
    },
    {
     "name": "stdout",
     "output_type": "stream",
     "text": [
      " Average valid loss: 0.93\n",
      "AUC_SCORE:  0.6223958333333334  acc:  0.6 f1:  0.3684210526315789\n",
      "EPOCHS:36\n",
      "TRAIN\n"
     ]
    },
    {
     "name": "stderr",
     "output_type": "stream",
     "text": [
      "100%|████████████████████████████████████████| 963/963 [00:08<00:00, 117.92it/s]\n"
     ]
    },
    {
     "name": "stdout",
     "output_type": "stream",
     "text": [
      " Average training loss: 0.82\n"
     ]
    },
    {
     "name": "stderr",
     "output_type": "stream",
     "text": [
      "100%|████████████████████████████████████████| 121/121 [00:00<00:00, 817.39it/s]\n"
     ]
    },
    {
     "name": "stdout",
     "output_type": "stream",
     "text": [
      " Average valid loss: 1.02\n",
      "AUC_SCORE:  0.5453441295546559  acc:  0.6694214876033058 f1:  0.3548387096774194\n",
      "Test\n"
     ]
    },
    {
     "name": "stderr",
     "output_type": "stream",
     "text": [
      "100%|████████████████████████████████████████| 120/120 [00:00<00:00, 830.03it/s]\n"
     ]
    },
    {
     "name": "stdout",
     "output_type": "stream",
     "text": [
      " Average valid loss: 0.93\n",
      "AUC_SCORE:  0.6236979166666667  acc:  0.6083333333333333 f1:  0.37333333333333335\n",
      "EPOCHS:37\n",
      "TRAIN\n"
     ]
    },
    {
     "name": "stderr",
     "output_type": "stream",
     "text": [
      "100%|████████████████████████████████████████| 963/963 [00:08<00:00, 118.99it/s]\n"
     ]
    },
    {
     "name": "stdout",
     "output_type": "stream",
     "text": [
      " Average training loss: 0.82\n"
     ]
    },
    {
     "name": "stderr",
     "output_type": "stream",
     "text": [
      "100%|████████████████████████████████████████| 121/121 [00:00<00:00, 801.05it/s]\n"
     ]
    },
    {
     "name": "stdout",
     "output_type": "stream",
     "text": [
      " Average valid loss: 1.02\n",
      "AUC_SCORE:  0.5469635627530365  acc:  0.6611570247933884 f1:  0.34920634920634924\n",
      "Test\n"
     ]
    },
    {
     "name": "stderr",
     "output_type": "stream",
     "text": [
      "100%|████████████████████████████████████████| 120/120 [00:00<00:00, 812.31it/s]\n"
     ]
    },
    {
     "name": "stdout",
     "output_type": "stream",
     "text": [
      " Average valid loss: 0.94\n",
      "AUC_SCORE:  0.6219618055555556  acc:  0.5916666666666667 f1:  0.36363636363636365\n",
      "EPOCHS:38\n",
      "TRAIN\n"
     ]
    },
    {
     "name": "stderr",
     "output_type": "stream",
     "text": [
      "100%|████████████████████████████████████████| 963/963 [00:08<00:00, 118.54it/s]\n"
     ]
    },
    {
     "name": "stdout",
     "output_type": "stream",
     "text": [
      " Average training loss: 0.81\n"
     ]
    },
    {
     "name": "stderr",
     "output_type": "stream",
     "text": [
      "100%|████████████████████████████████████████| 121/121 [00:00<00:00, 813.51it/s]\n"
     ]
    },
    {
     "name": "stdout",
     "output_type": "stream",
     "text": [
      " Average valid loss: 1.02\n",
      "AUC_SCORE:  0.5461538461538462  acc:  0.6528925619834711 f1:  0.34375\n",
      "Test\n"
     ]
    },
    {
     "name": "stderr",
     "output_type": "stream",
     "text": [
      "100%|████████████████████████████████████████| 120/120 [00:00<00:00, 836.15it/s]\n"
     ]
    },
    {
     "name": "stdout",
     "output_type": "stream",
     "text": [
      " Average valid loss: 0.94\n",
      "AUC_SCORE:  0.6215277777777778  acc:  0.5916666666666667 f1:  0.36363636363636365\n",
      "EPOCHS:39\n",
      "TRAIN\n"
     ]
    },
    {
     "name": "stderr",
     "output_type": "stream",
     "text": [
      "100%|████████████████████████████████████████| 963/963 [00:08<00:00, 118.59it/s]\n"
     ]
    },
    {
     "name": "stdout",
     "output_type": "stream",
     "text": [
      " Average training loss: 0.81\n"
     ]
    },
    {
     "name": "stderr",
     "output_type": "stream",
     "text": [
      "100%|████████████████████████████████████████| 121/121 [00:00<00:00, 808.54it/s]\n"
     ]
    },
    {
     "name": "stdout",
     "output_type": "stream",
     "text": [
      " Average valid loss: 1.02\n",
      "AUC_SCORE:  0.5481781376518219  acc:  0.6694214876033058 f1:  0.3548387096774194\n",
      "Test\n"
     ]
    },
    {
     "name": "stderr",
     "output_type": "stream",
     "text": [
      "100%|████████████████████████████████████████| 120/120 [00:00<00:00, 821.97it/s]\n"
     ]
    },
    {
     "name": "stdout",
     "output_type": "stream",
     "text": [
      " Average valid loss: 0.94\n",
      "AUC_SCORE:  0.62109375  acc:  0.6083333333333333 f1:  0.37333333333333335\n",
      "EPOCHS:40\n",
      "TRAIN\n"
     ]
    },
    {
     "name": "stderr",
     "output_type": "stream",
     "text": [
      "100%|████████████████████████████████████████| 963/963 [00:08<00:00, 113.05it/s]\n"
     ]
    },
    {
     "name": "stdout",
     "output_type": "stream",
     "text": [
      " Average training loss: 0.79\n"
     ]
    },
    {
     "name": "stderr",
     "output_type": "stream",
     "text": [
      "100%|████████████████████████████████████████| 121/121 [00:00<00:00, 804.61it/s]\n"
     ]
    },
    {
     "name": "stdout",
     "output_type": "stream",
     "text": [
      " Average valid loss: 1.03\n",
      "AUC_SCORE:  0.5493927125506073  acc:  0.6528925619834711 f1:  0.34375\n",
      "Test\n"
     ]
    },
    {
     "name": "stderr",
     "output_type": "stream",
     "text": [
      "100%|████████████████████████████████████████| 120/120 [00:00<00:00, 828.28it/s]\n"
     ]
    },
    {
     "name": "stdout",
     "output_type": "stream",
     "text": [
      " Average valid loss: 0.95\n",
      "AUC_SCORE:  0.6219618055555556  acc:  0.5833333333333334 f1:  0.358974358974359\n"
     ]
    },
    {
     "name": "stderr",
     "output_type": "stream",
     "text": [
      "100%|████████████████████████████████████████| 120/120 [00:00<00:00, 771.70it/s]"
     ]
    },
    {
     "name": "stdout",
     "output_type": "stream",
     "text": [
      " Average valid loss: 0.92\n",
      "AUC_SCORE:  0.6037326388888888  acc:  0.625 f1:  0.3835616438356164\n",
      "BEST MODEL\n",
      "AUC_SCORE:  0.6037326388888888  acc:  0.625 f1:  0.3835616438356164\n",
      "{'auc_micro': 0.6037326388888888, 'acc': 0.625, 'f1': 0.3835616438356164, 'pred': [[0, 1, 0, 1, 0, 0, 0, 0, 1, 0], [1, 0, 0, 0, 0, 1, 0, 0, 0, 0], [0, 0, 0, 0, 0, 1, 1, 0, 0, 1], [1, 0, 1, 1, 0, 1, 0, 1, 0, 0], [0, 0, 1, 0, 0, 1, 0, 1, 0, 0], [1, 0, 1, 1, 0, 1, 0, 0, 0, 0], [1, 0, 1, 1, 1, 0, 1, 0, 0, 0], [1, 1, 0, 1, 1, 0, 1, 1, 1, 0], [0, 1, 1, 0, 1, 0, 0, 1, 0, 0], [0, 0, 0, 0, 1, 1, 0, 1, 0, 1], [0, 1, 1, 1, 0, 0, 0, 0, 0, 0], [1, 1, 0, 0, 1, 1, 1, 1, 0, 0], [], [], [], [], [], [], [], []]}\n"
     ]
    },
    {
     "name": "stderr",
     "output_type": "stream",
     "text": [
      "\n"
     ]
    }
   ],
   "source": [
    "bert = BertModel(d_model=400).to('cuda')\n",
    "score = fit(bert, train_data,valid_data,test_data,EPOCHS=40)\n",
    "print(score)"
   ]
  },
  {
   "cell_type": "code",
   "execution_count": null,
   "id": "c269ae08",
   "metadata": {},
   "outputs": [],
   "source": []
  },
  {
   "cell_type": "code",
   "execution_count": null,
   "id": "e47e3be0",
   "metadata": {},
   "outputs": [],
   "source": []
  },
  {
   "cell_type": "code",
   "execution_count": 97,
   "id": "aa075996",
   "metadata": {},
   "outputs": [
    {
     "data": {
      "text/plain": [
       "44"
      ]
     },
     "execution_count": 97,
     "metadata": {},
     "output_type": "execute_result"
    }
   ],
   "source": [
    "random.randint(0,100)"
   ]
  },
  {
   "cell_type": "code",
   "execution_count": 98,
   "id": "7025bba9",
   "metadata": {},
   "outputs": [],
   "source": [
    "import random"
   ]
  },
  {
   "cell_type": "code",
   "execution_count": null,
   "id": "e9d22ac9",
   "metadata": {},
   "outputs": [],
   "source": []
  },
  {
   "cell_type": "code",
   "execution_count": null,
   "id": "112e4940",
   "metadata": {},
   "outputs": [],
   "source": []
  },
  {
   "cell_type": "code",
   "execution_count": null,
   "id": "09004185",
   "metadata": {},
   "outputs": [],
   "source": []
  },
  {
   "cell_type": "code",
   "execution_count": null,
   "id": "6cfd2c7f",
   "metadata": {},
   "outputs": [],
   "source": []
  },
  {
   "cell_type": "markdown",
   "id": "c05a09e8",
   "metadata": {},
   "source": [
    "# SUM"
   ]
  },
  {
   "cell_type": "code",
   "execution_count": 99,
   "id": "d4a568c0",
   "metadata": {},
   "outputs": [],
   "source": [
    "import pickle\n",
    "with open('emb_sum.pickle','rb') as fw:\n",
    "    movie_emb = pickle.load(fw)"
   ]
  },
  {
   "cell_type": "code",
   "execution_count": 100,
   "id": "d479d64e",
   "metadata": {},
   "outputs": [],
   "source": [
    "path1 = 'word2vec_model_char/'\n",
    "path2 = 'data/scriptbase/'\n",
    "filenames = os.listdir(path1)\n",
    "train_data = []\n",
    "valid_data = []\n",
    "test_data = []\n",
    "end = torch.ones(1,1,384)\n",
    "\n",
    "for filename in filenames:\n",
    "    movie_name = filename[:-14]\n",
    "    cult = 0\n",
    "    with open(path2+movie_name+'/processed/imdb_meta.txt','r') as f:\n",
    "        lines = f.readlines()\n",
    "        for line in lines:\n",
    "            if 'keyword' in line:\n",
    "                try:\n",
    "                    keyword  = line.strip().split('\\t')[1]\n",
    "                    keywords.append(keyword)\n",
    "                except:\n",
    "                    pass\n",
    "                if 'independent film'==keyword:\n",
    "                    cult = 1\n",
    "    if movie_name not in movie_emb.keys():\n",
    "        continue\n",
    "        \n",
    "    embs = torch.zeros(1,len(movie_emb[movie_name])+1,384)\n",
    "    for i,emb in enumerate(movie_emb[movie_name]):\n",
    "        emb = torch.from_numpy(np.nan_to_num(emb))\n",
    "        embs[0][i] = emb\n",
    "        \n",
    "    embs[0][-1] = end\n",
    "        \n",
    "    if movie_name in movie_split['train']:\n",
    "        train_data.append([embs, [cult]])\n",
    "    elif movie_name in movie_split['valid']:\n",
    "        valid_data.append([embs, [cult]])\n",
    "    \n",
    "    elif movie_name in movie_split['test']:\n",
    "        test_data.append([embs, [cult]])\n",
    "        #valid_data.append([embs, [cult]])"
   ]
  },
  {
   "cell_type": "code",
   "execution_count": 101,
   "id": "914bf7bb",
   "metadata": {},
   "outputs": [
    {
     "name": "stdout",
     "output_type": "stream",
     "text": [
      "953\n",
      "121\n",
      "118\n"
     ]
    }
   ],
   "source": [
    "print(len(train_data))\n",
    "print(len(valid_data))\n",
    "print(len(test_data))"
   ]
  },
  {
   "cell_type": "code",
   "execution_count": 102,
   "id": "dab4c7bd",
   "metadata": {},
   "outputs": [
    {
     "name": "stdout",
     "output_type": "stream",
     "text": [
      "EPOCHS:1\n",
      "TRAIN\n"
     ]
    },
    {
     "name": "stderr",
     "output_type": "stream",
     "text": [
      "100%|████████████████████████████████████████| 953/953 [00:07<00:00, 119.83it/s]\n"
     ]
    },
    {
     "name": "stdout",
     "output_type": "stream",
     "text": [
      " Average training loss: 0.95\n"
     ]
    },
    {
     "name": "stderr",
     "output_type": "stream",
     "text": [
      "100%|████████████████████████████████████████| 121/121 [00:00<00:00, 864.18it/s]\n"
     ]
    },
    {
     "name": "stdout",
     "output_type": "stream",
     "text": [
      " Average valid loss: 0.94\n",
      "AUC_SCORE:  0.6149797570850203  acc:  0.7851239669421488 f1:  0.0\n",
      "Test\n"
     ]
    },
    {
     "name": "stderr",
     "output_type": "stream",
     "text": [
      "100%|████████████████████████████████████████| 118/118 [00:00<00:00, 881.48it/s]\n"
     ]
    },
    {
     "name": "stdout",
     "output_type": "stream",
     "text": [
      " Average valid loss: 0.91\n",
      "AUC_SCORE:  0.6050343249427917  acc:  0.7966101694915254 f1:  0.0\n",
      "EPOCHS:2\n",
      "TRAIN\n"
     ]
    },
    {
     "name": "stderr",
     "output_type": "stream",
     "text": [
      "100%|████████████████████████████████████████| 953/953 [00:07<00:00, 119.26it/s]\n"
     ]
    },
    {
     "name": "stdout",
     "output_type": "stream",
     "text": [
      " Average training loss: 0.94\n"
     ]
    },
    {
     "name": "stderr",
     "output_type": "stream",
     "text": [
      "100%|████████████████████████████████████████| 121/121 [00:00<00:00, 839.85it/s]\n"
     ]
    },
    {
     "name": "stdout",
     "output_type": "stream",
     "text": [
      " Average valid loss: 0.94\n",
      "AUC_SCORE:  0.6417004048582996  acc:  0.7851239669421488 f1:  0.0\n",
      "Test\n"
     ]
    },
    {
     "name": "stderr",
     "output_type": "stream",
     "text": [
      "100%|████████████████████████████████████████| 118/118 [00:00<00:00, 880.56it/s]\n"
     ]
    },
    {
     "name": "stdout",
     "output_type": "stream",
     "text": [
      " Average valid loss: 0.91\n",
      "AUC_SCORE:  0.6077803203661327  acc:  0.788135593220339 f1:  0.0\n",
      "EPOCHS:3\n",
      "TRAIN\n"
     ]
    },
    {
     "name": "stderr",
     "output_type": "stream",
     "text": [
      "100%|████████████████████████████████████████| 953/953 [00:08<00:00, 116.25it/s]\n"
     ]
    },
    {
     "name": "stdout",
     "output_type": "stream",
     "text": [
      " Average training loss: 0.94\n"
     ]
    },
    {
     "name": "stderr",
     "output_type": "stream",
     "text": [
      "100%|████████████████████████████████████████| 121/121 [00:00<00:00, 831.10it/s]"
     ]
    },
    {
     "name": "stdout",
     "output_type": "stream",
     "text": [
      " Average valid loss: 0.93\n",
      "AUC_SCORE:  0.6582995951417003  acc:  0.7933884297520661 f1:  0.07407407407407407\n",
      "2  EPOCH BEST MODEL!\n"
     ]
    },
    {
     "name": "stderr",
     "output_type": "stream",
     "text": [
      "\n"
     ]
    },
    {
     "name": "stdout",
     "output_type": "stream",
     "text": [
      "Test\n"
     ]
    },
    {
     "name": "stderr",
     "output_type": "stream",
     "text": [
      "100%|████████████████████████████████████████| 118/118 [00:00<00:00, 845.29it/s]\n"
     ]
    },
    {
     "name": "stdout",
     "output_type": "stream",
     "text": [
      " Average valid loss: 0.91\n",
      "AUC_SCORE:  0.6224256292906178  acc:  0.7796610169491526 f1:  0.0\n",
      "EPOCHS:4\n",
      "TRAIN\n"
     ]
    },
    {
     "name": "stderr",
     "output_type": "stream",
     "text": [
      "100%|████████████████████████████████████████| 953/953 [00:08<00:00, 114.22it/s]\n"
     ]
    },
    {
     "name": "stdout",
     "output_type": "stream",
     "text": [
      " Average training loss: 0.94\n"
     ]
    },
    {
     "name": "stderr",
     "output_type": "stream",
     "text": [
      "100%|████████████████████████████████████████| 121/121 [00:00<00:00, 860.02it/s]"
     ]
    },
    {
     "name": "stdout",
     "output_type": "stream",
     "text": [
      " Average valid loss: 0.93\n",
      "AUC_SCORE:  0.6668016194331984  acc:  0.8016528925619835 f1:  0.14285714285714288\n",
      "3  EPOCH BEST MODEL!\n"
     ]
    },
    {
     "name": "stderr",
     "output_type": "stream",
     "text": [
      "\n"
     ]
    },
    {
     "name": "stdout",
     "output_type": "stream",
     "text": [
      "Test\n"
     ]
    },
    {
     "name": "stderr",
     "output_type": "stream",
     "text": [
      "100%|████████████████████████████████████████| 118/118 [00:00<00:00, 834.17it/s]\n"
     ]
    },
    {
     "name": "stdout",
     "output_type": "stream",
     "text": [
      " Average valid loss: 0.90\n",
      "AUC_SCORE:  0.6219679633867277  acc:  0.7796610169491526 f1:  0.07142857142857142\n",
      "EPOCHS:5\n",
      "TRAIN\n"
     ]
    },
    {
     "name": "stderr",
     "output_type": "stream",
     "text": [
      "100%|████████████████████████████████████████| 953/953 [00:08<00:00, 114.69it/s]\n"
     ]
    },
    {
     "name": "stdout",
     "output_type": "stream",
     "text": [
      " Average training loss: 0.93\n"
     ]
    },
    {
     "name": "stderr",
     "output_type": "stream",
     "text": [
      "100%|████████████████████████████████████████| 121/121 [00:00<00:00, 811.12it/s]\n"
     ]
    },
    {
     "name": "stdout",
     "output_type": "stream",
     "text": [
      " Average valid loss: 0.92\n",
      "AUC_SCORE:  0.6757085020242914  acc:  0.8099173553719008 f1:  0.20689655172413793\n",
      "4  EPOCH BEST MODEL!\n",
      "Test\n"
     ]
    },
    {
     "name": "stderr",
     "output_type": "stream",
     "text": [
      "100%|████████████████████████████████████████| 118/118 [00:00<00:00, 785.48it/s]\n"
     ]
    },
    {
     "name": "stdout",
     "output_type": "stream",
     "text": [
      " Average valid loss: 0.90\n",
      "AUC_SCORE:  0.6160183066361556  acc:  0.7627118644067796 f1:  0.06666666666666667\n",
      "EPOCHS:6\n",
      "TRAIN\n"
     ]
    },
    {
     "name": "stderr",
     "output_type": "stream",
     "text": [
      "100%|████████████████████████████████████████| 953/953 [00:08<00:00, 111.16it/s]\n"
     ]
    },
    {
     "name": "stdout",
     "output_type": "stream",
     "text": [
      " Average training loss: 0.92\n"
     ]
    },
    {
     "name": "stderr",
     "output_type": "stream",
     "text": [
      "100%|████████████████████████████████████████| 121/121 [00:00<00:00, 851.73it/s]\n"
     ]
    },
    {
     "name": "stdout",
     "output_type": "stream",
     "text": [
      " Average valid loss: 0.92\n",
      "AUC_SCORE:  0.6753036437246964  acc:  0.7933884297520661 f1:  0.1935483870967742\n",
      "Test\n"
     ]
    },
    {
     "name": "stderr",
     "output_type": "stream",
     "text": [
      "100%|████████████████████████████████████████| 118/118 [00:00<00:00, 879.01it/s]\n"
     ]
    },
    {
     "name": "stdout",
     "output_type": "stream",
     "text": [
      " Average valid loss: 0.90\n",
      "AUC_SCORE:  0.6151029748283753  acc:  0.7627118644067796 f1:  0.125\n",
      "EPOCHS:7\n",
      "TRAIN\n"
     ]
    },
    {
     "name": "stderr",
     "output_type": "stream",
     "text": [
      "100%|████████████████████████████████████████| 953/953 [00:08<00:00, 118.06it/s]\n"
     ]
    },
    {
     "name": "stdout",
     "output_type": "stream",
     "text": [
      " Average training loss: 0.93\n"
     ]
    },
    {
     "name": "stderr",
     "output_type": "stream",
     "text": [
      "100%|████████████████████████████████████████| 121/121 [00:00<00:00, 849.23it/s]"
     ]
    },
    {
     "name": "stdout",
     "output_type": "stream",
     "text": [
      " Average valid loss: 0.92\n",
      "AUC_SCORE:  0.677327935222672  acc:  0.8016528925619835 f1:  0.29411764705882354\n",
      "6  EPOCH BEST MODEL!\n"
     ]
    },
    {
     "name": "stderr",
     "output_type": "stream",
     "text": [
      "\n"
     ]
    },
    {
     "name": "stdout",
     "output_type": "stream",
     "text": [
      "Test\n"
     ]
    },
    {
     "name": "stderr",
     "output_type": "stream",
     "text": [
      "100%|████████████████████████████████████████| 118/118 [00:00<00:00, 871.28it/s]\n"
     ]
    },
    {
     "name": "stdout",
     "output_type": "stream",
     "text": [
      " Average valid loss: 0.90\n",
      "AUC_SCORE:  0.6100686498855835  acc:  0.7542372881355932 f1:  0.1714285714285714\n",
      "EPOCHS:8\n",
      "TRAIN\n"
     ]
    },
    {
     "name": "stderr",
     "output_type": "stream",
     "text": [
      "100%|████████████████████████████████████████| 953/953 [00:08<00:00, 118.58it/s]\n"
     ]
    },
    {
     "name": "stdout",
     "output_type": "stream",
     "text": [
      " Average training loss: 0.91\n"
     ]
    },
    {
     "name": "stderr",
     "output_type": "stream",
     "text": [
      "100%|████████████████████████████████████████| 121/121 [00:00<00:00, 853.72it/s]\n"
     ]
    },
    {
     "name": "stdout",
     "output_type": "stream",
     "text": [
      " Average valid loss: 0.91\n",
      "AUC_SCORE:  0.674493927125506  acc:  0.8016528925619835 f1:  0.33333333333333337\n",
      "7  EPOCH BEST MODEL!\n",
      "Test\n"
     ]
    },
    {
     "name": "stderr",
     "output_type": "stream",
     "text": [
      "100%|████████████████████████████████████████| 118/118 [00:00<00:00, 825.81it/s]\n"
     ]
    },
    {
     "name": "stdout",
     "output_type": "stream",
     "text": [
      " Average valid loss: 0.90\n",
      "AUC_SCORE:  0.6073226544622425  acc:  0.7372881355932204 f1:  0.20512820512820512\n",
      "EPOCHS:9\n",
      "TRAIN\n"
     ]
    },
    {
     "name": "stderr",
     "output_type": "stream",
     "text": [
      "100%|████████████████████████████████████████| 953/953 [00:07<00:00, 121.46it/s]\n"
     ]
    },
    {
     "name": "stdout",
     "output_type": "stream",
     "text": [
      " Average training loss: 0.92\n"
     ]
    },
    {
     "name": "stderr",
     "output_type": "stream",
     "text": [
      "100%|████████████████████████████████████████| 121/121 [00:00<00:00, 850.62it/s]\n"
     ]
    },
    {
     "name": "stdout",
     "output_type": "stream",
     "text": [
      " Average valid loss: 0.91\n",
      "AUC_SCORE:  0.6757085020242916  acc:  0.7768595041322314 f1:  0.39999999999999997\n",
      "8  EPOCH BEST MODEL!\n",
      "Test\n"
     ]
    },
    {
     "name": "stderr",
     "output_type": "stream",
     "text": [
      "100%|████████████████████████████████████████| 118/118 [00:00<00:00, 871.29it/s]\n"
     ]
    },
    {
     "name": "stdout",
     "output_type": "stream",
     "text": [
      " Average valid loss: 0.90\n",
      "AUC_SCORE:  0.6045766590389016  acc:  0.6949152542372882 f1:  0.21739130434782608\n",
      "EPOCHS:10\n",
      "TRAIN\n"
     ]
    },
    {
     "name": "stderr",
     "output_type": "stream",
     "text": [
      "100%|████████████████████████████████████████| 953/953 [00:07<00:00, 121.45it/s]\n"
     ]
    },
    {
     "name": "stdout",
     "output_type": "stream",
     "text": [
      " Average training loss: 0.91\n"
     ]
    },
    {
     "name": "stderr",
     "output_type": "stream",
     "text": [
      "100%|████████████████████████████████████████| 121/121 [00:00<00:00, 854.22it/s]\n"
     ]
    },
    {
     "name": "stdout",
     "output_type": "stream",
     "text": [
      " Average valid loss: 0.91\n",
      "AUC_SCORE:  0.6753036437246963  acc:  0.7768595041322314 f1:  0.39999999999999997\n",
      "Test\n"
     ]
    },
    {
     "name": "stderr",
     "output_type": "stream",
     "text": [
      "100%|████████████████████████████████████████| 118/118 [00:00<00:00, 880.43it/s]\n"
     ]
    },
    {
     "name": "stdout",
     "output_type": "stream",
     "text": [
      " Average valid loss: 0.90\n",
      "AUC_SCORE:  0.6068649885583524  acc:  0.6864406779661016 f1:  0.17777777777777776\n",
      "EPOCHS:11\n",
      "TRAIN\n"
     ]
    },
    {
     "name": "stderr",
     "output_type": "stream",
     "text": [
      "100%|████████████████████████████████████████| 953/953 [00:08<00:00, 116.37it/s]\n"
     ]
    },
    {
     "name": "stdout",
     "output_type": "stream",
     "text": [
      " Average training loss: 0.92\n"
     ]
    },
    {
     "name": "stderr",
     "output_type": "stream",
     "text": [
      "100%|████████████████████████████████████████| 121/121 [00:00<00:00, 787.83it/s]\n"
     ]
    },
    {
     "name": "stdout",
     "output_type": "stream",
     "text": [
      " Average valid loss: 0.91\n",
      "AUC_SCORE:  0.6748987854251012  acc:  0.743801652892562 f1:  0.36734693877551017\n",
      "Test\n"
     ]
    },
    {
     "name": "stderr",
     "output_type": "stream",
     "text": [
      "100%|████████████████████████████████████████| 118/118 [00:00<00:00, 852.05it/s]\n"
     ]
    },
    {
     "name": "stdout",
     "output_type": "stream",
     "text": [
      " Average valid loss: 0.90\n",
      "AUC_SCORE:  0.6059496567505721  acc:  0.6864406779661016 f1:  0.2127659574468085\n",
      "EPOCHS:12\n",
      "TRAIN\n"
     ]
    },
    {
     "name": "stderr",
     "output_type": "stream",
     "text": [
      "100%|████████████████████████████████████████| 953/953 [00:08<00:00, 116.37it/s]\n"
     ]
    },
    {
     "name": "stdout",
     "output_type": "stream",
     "text": [
      " Average training loss: 0.90\n"
     ]
    },
    {
     "name": "stderr",
     "output_type": "stream",
     "text": [
      "100%|████████████████████████████████████████| 121/121 [00:00<00:00, 847.36it/s]\n"
     ]
    },
    {
     "name": "stdout",
     "output_type": "stream",
     "text": [
      " Average valid loss: 0.91\n",
      "AUC_SCORE:  0.6732793522267206  acc:  0.743801652892562 f1:  0.39215686274509803\n",
      "Test\n"
     ]
    },
    {
     "name": "stderr",
     "output_type": "stream",
     "text": [
      "100%|████████████████████████████████████████| 118/118 [00:00<00:00, 796.30it/s]\n"
     ]
    },
    {
     "name": "stdout",
     "output_type": "stream",
     "text": [
      " Average valid loss: 0.90\n",
      "AUC_SCORE:  0.6032036613272311  acc:  0.6779661016949152 f1:  0.24\n",
      "EPOCHS:13\n",
      "TRAIN\n"
     ]
    },
    {
     "name": "stderr",
     "output_type": "stream",
     "text": [
      "100%|████████████████████████████████████████| 953/953 [00:08<00:00, 112.39it/s]\n"
     ]
    },
    {
     "name": "stdout",
     "output_type": "stream",
     "text": [
      " Average training loss: 0.91\n"
     ]
    },
    {
     "name": "stderr",
     "output_type": "stream",
     "text": [
      "100%|████████████████████████████████████████| 121/121 [00:00<00:00, 846.54it/s]\n"
     ]
    },
    {
     "name": "stdout",
     "output_type": "stream",
     "text": [
      " Average valid loss: 0.90\n",
      "AUC_SCORE:  0.671255060728745  acc:  0.7272727272727273 f1:  0.3773584905660377\n",
      "Test\n"
     ]
    },
    {
     "name": "stderr",
     "output_type": "stream",
     "text": [
      "100%|████████████████████████████████████████| 118/118 [00:00<00:00, 841.91it/s]\n"
     ]
    },
    {
     "name": "stdout",
     "output_type": "stream",
     "text": [
      " Average valid loss: 0.90\n",
      "AUC_SCORE:  0.6009153318077802  acc:  0.652542372881356 f1:  0.22641509433962265\n",
      "EPOCHS:14\n",
      "TRAIN\n"
     ]
    },
    {
     "name": "stderr",
     "output_type": "stream",
     "text": [
      "100%|████████████████████████████████████████| 953/953 [00:08<00:00, 113.60it/s]\n"
     ]
    },
    {
     "name": "stdout",
     "output_type": "stream",
     "text": [
      " Average training loss: 0.90\n"
     ]
    },
    {
     "name": "stderr",
     "output_type": "stream",
     "text": [
      "100%|████████████████████████████████████████| 121/121 [00:00<00:00, 851.64it/s]\n"
     ]
    },
    {
     "name": "stdout",
     "output_type": "stream",
     "text": [
      " Average valid loss: 0.90\n",
      "AUC_SCORE:  0.6692307692307693  acc:  0.7107438016528925 f1:  0.3636363636363637\n",
      "Test\n"
     ]
    },
    {
     "name": "stderr",
     "output_type": "stream",
     "text": [
      "100%|████████████████████████████████████████| 118/118 [00:00<00:00, 876.44it/s]\n"
     ]
    },
    {
     "name": "stdout",
     "output_type": "stream",
     "text": [
      " Average valid loss: 0.90\n",
      "AUC_SCORE:  0.6018306636155606  acc:  0.635593220338983 f1:  0.2711864406779661\n",
      "EPOCHS:15\n",
      "TRAIN\n"
     ]
    },
    {
     "name": "stderr",
     "output_type": "stream",
     "text": [
      "100%|████████████████████████████████████████| 953/953 [00:08<00:00, 115.00it/s]\n"
     ]
    },
    {
     "name": "stdout",
     "output_type": "stream",
     "text": [
      " Average training loss: 0.90\n"
     ]
    },
    {
     "name": "stderr",
     "output_type": "stream",
     "text": [
      "100%|████████████████████████████████████████| 121/121 [00:00<00:00, 857.73it/s]\n"
     ]
    },
    {
     "name": "stdout",
     "output_type": "stream",
     "text": [
      " Average valid loss: 0.90\n",
      "AUC_SCORE:  0.6676113360323886  acc:  0.7107438016528925 f1:  0.3636363636363637\n",
      "Test\n"
     ]
    },
    {
     "name": "stderr",
     "output_type": "stream",
     "text": [
      "100%|████████████████████████████████████████| 118/118 [00:00<00:00, 883.15it/s]\n"
     ]
    },
    {
     "name": "stdout",
     "output_type": "stream",
     "text": [
      " Average valid loss: 0.90\n",
      "AUC_SCORE:  0.6013729977116704  acc:  0.6271186440677966 f1:  0.24137931034482762\n",
      "EPOCHS:16\n",
      "TRAIN\n"
     ]
    },
    {
     "name": "stderr",
     "output_type": "stream",
     "text": [
      "100%|████████████████████████████████████████| 953/953 [00:08<00:00, 117.50it/s]\n"
     ]
    },
    {
     "name": "stdout",
     "output_type": "stream",
     "text": [
      " Average training loss: 0.89\n"
     ]
    },
    {
     "name": "stderr",
     "output_type": "stream",
     "text": [
      "100%|████████████████████████████████████████| 121/121 [00:00<00:00, 835.23it/s]\n"
     ]
    },
    {
     "name": "stdout",
     "output_type": "stream",
     "text": [
      " Average valid loss: 0.90\n",
      "AUC_SCORE:  0.6663967611336032  acc:  0.7107438016528925 f1:  0.3636363636363637\n",
      "Test\n"
     ]
    },
    {
     "name": "stderr",
     "output_type": "stream",
     "text": [
      "100%|████████████████████████████████████████| 118/118 [00:00<00:00, 877.79it/s]\n"
     ]
    },
    {
     "name": "stdout",
     "output_type": "stream",
     "text": [
      " Average valid loss: 0.90\n",
      "AUC_SCORE:  0.6045766590389017  acc:  0.635593220338983 f1:  0.2456140350877193\n",
      "EPOCHS:17\n",
      "TRAIN\n"
     ]
    },
    {
     "name": "stderr",
     "output_type": "stream",
     "text": [
      "100%|████████████████████████████████████████| 953/953 [00:07<00:00, 119.24it/s]\n"
     ]
    },
    {
     "name": "stdout",
     "output_type": "stream",
     "text": [
      " Average training loss: 0.89\n"
     ]
    },
    {
     "name": "stderr",
     "output_type": "stream",
     "text": [
      "100%|████████████████████████████████████████| 121/121 [00:00<00:00, 859.04it/s]\n"
     ]
    },
    {
     "name": "stdout",
     "output_type": "stream",
     "text": [
      " Average valid loss: 0.90\n",
      "AUC_SCORE:  0.6643724696356275  acc:  0.7024793388429752 f1:  0.3793103448275862\n",
      "Test\n"
     ]
    },
    {
     "name": "stderr",
     "output_type": "stream",
     "text": [
      "100%|████████████████████████████████████████| 118/118 [00:00<00:00, 886.99it/s]\n"
     ]
    },
    {
     "name": "stdout",
     "output_type": "stream",
     "text": [
      " Average valid loss: 0.90\n",
      "AUC_SCORE:  0.6032036613272311  acc:  0.6271186440677966 f1:  0.2903225806451613\n",
      "EPOCHS:18\n",
      "TRAIN\n"
     ]
    },
    {
     "name": "stderr",
     "output_type": "stream",
     "text": [
      "100%|████████████████████████████████████████| 953/953 [00:07<00:00, 119.85it/s]\n"
     ]
    },
    {
     "name": "stdout",
     "output_type": "stream",
     "text": [
      " Average training loss: 0.89\n"
     ]
    },
    {
     "name": "stderr",
     "output_type": "stream",
     "text": [
      "100%|████████████████████████████████████████| 121/121 [00:00<00:00, 780.04it/s]"
     ]
    },
    {
     "name": "stdout",
     "output_type": "stream",
     "text": [
      " Average valid loss: 0.90\n",
      "AUC_SCORE:  0.6611336032388664  acc:  0.7107438016528925 f1:  0.42622950819672134\n",
      "17  EPOCH BEST MODEL!\n"
     ]
    },
    {
     "name": "stderr",
     "output_type": "stream",
     "text": [
      "\n"
     ]
    },
    {
     "name": "stdout",
     "output_type": "stream",
     "text": [
      "Test\n"
     ]
    },
    {
     "name": "stderr",
     "output_type": "stream",
     "text": [
      "100%|████████████████████████████████████████| 118/118 [00:00<00:00, 846.91it/s]\n"
     ]
    },
    {
     "name": "stdout",
     "output_type": "stream",
     "text": [
      " Average valid loss: 0.90\n",
      "AUC_SCORE:  0.6022883295194508  acc:  0.6101694915254238 f1:  0.28125\n",
      "EPOCHS:19\n",
      "TRAIN\n"
     ]
    },
    {
     "name": "stderr",
     "output_type": "stream",
     "text": [
      "100%|████████████████████████████████████████| 953/953 [00:08<00:00, 116.57it/s]\n"
     ]
    },
    {
     "name": "stdout",
     "output_type": "stream",
     "text": [
      " Average training loss: 0.89\n"
     ]
    },
    {
     "name": "stderr",
     "output_type": "stream",
     "text": [
      "100%|████████████████████████████████████████| 121/121 [00:00<00:00, 771.74it/s]\n"
     ]
    },
    {
     "name": "stdout",
     "output_type": "stream",
     "text": [
      " Average valid loss: 0.90\n",
      "AUC_SCORE:  0.6587044534412956  acc:  0.71900826446281 f1:  0.4333333333333333\n",
      "18  EPOCH BEST MODEL!\n",
      "Test\n"
     ]
    },
    {
     "name": "stderr",
     "output_type": "stream",
     "text": [
      "100%|████████████████████████████████████████| 118/118 [00:00<00:00, 845.03it/s]\n"
     ]
    },
    {
     "name": "stdout",
     "output_type": "stream",
     "text": [
      " Average valid loss: 0.90\n",
      "AUC_SCORE:  0.6013729977116705  acc:  0.6186440677966102 f1:  0.2857142857142857\n",
      "EPOCHS:20\n",
      "TRAIN\n"
     ]
    },
    {
     "name": "stderr",
     "output_type": "stream",
     "text": [
      "100%|████████████████████████████████████████| 953/953 [00:08<00:00, 112.78it/s]\n"
     ]
    },
    {
     "name": "stdout",
     "output_type": "stream",
     "text": [
      " Average training loss: 0.89\n"
     ]
    },
    {
     "name": "stderr",
     "output_type": "stream",
     "text": [
      "100%|████████████████████████████████████████| 121/121 [00:00<00:00, 831.72it/s]\n"
     ]
    },
    {
     "name": "stdout",
     "output_type": "stream",
     "text": [
      " Average valid loss: 0.90\n",
      "AUC_SCORE:  0.6595141700404858  acc:  0.7107438016528925 f1:  0.42622950819672134\n",
      "Test\n"
     ]
    },
    {
     "name": "stderr",
     "output_type": "stream",
     "text": [
      "100%|████████████████████████████████████████| 118/118 [00:00<00:00, 869.70it/s]\n"
     ]
    },
    {
     "name": "stdout",
     "output_type": "stream",
     "text": [
      " Average valid loss: 0.90\n",
      "AUC_SCORE:  0.5995423340961098  acc:  0.5847457627118644 f1:  0.2686567164179105\n",
      "EPOCHS:21\n",
      "TRAIN\n"
     ]
    },
    {
     "name": "stderr",
     "output_type": "stream",
     "text": [
      "100%|████████████████████████████████████████| 953/953 [00:08<00:00, 111.02it/s]\n"
     ]
    },
    {
     "name": "stdout",
     "output_type": "stream",
     "text": [
      " Average training loss: 0.88\n"
     ]
    },
    {
     "name": "stderr",
     "output_type": "stream",
     "text": [
      "100%|████████████████████████████████████████| 121/121 [00:00<00:00, 825.68it/s]\n"
     ]
    },
    {
     "name": "stdout",
     "output_type": "stream",
     "text": [
      " Average valid loss: 0.90\n",
      "AUC_SCORE:  0.6595141700404858  acc:  0.7107438016528925 f1:  0.4067796610169492\n",
      "Test\n"
     ]
    },
    {
     "name": "stderr",
     "output_type": "stream",
     "text": [
      "100%|████████████████████████████████████████| 118/118 [00:00<00:00, 871.67it/s]\n"
     ]
    },
    {
     "name": "stdout",
     "output_type": "stream",
     "text": [
      " Average valid loss: 0.90\n",
      "AUC_SCORE:  0.6  acc:  0.5932203389830508 f1:  0.2727272727272727\n",
      "EPOCHS:22\n",
      "TRAIN\n"
     ]
    },
    {
     "name": "stderr",
     "output_type": "stream",
     "text": [
      "100%|████████████████████████████████████████| 953/953 [00:07<00:00, 120.50it/s]\n"
     ]
    },
    {
     "name": "stdout",
     "output_type": "stream",
     "text": [
      " Average training loss: 0.87\n"
     ]
    },
    {
     "name": "stderr",
     "output_type": "stream",
     "text": [
      "100%|████████████████████████████████████████| 121/121 [00:00<00:00, 865.86it/s]\n"
     ]
    },
    {
     "name": "stdout",
     "output_type": "stream",
     "text": [
      " Average valid loss: 0.90\n",
      "AUC_SCORE:  0.6574898785425102  acc:  0.6942148760330579 f1:  0.3934426229508197\n",
      "Test\n"
     ]
    },
    {
     "name": "stderr",
     "output_type": "stream",
     "text": [
      "100%|████████████████████████████████████████| 118/118 [00:00<00:00, 851.68it/s]\n"
     ]
    },
    {
     "name": "stdout",
     "output_type": "stream",
     "text": [
      " Average valid loss: 0.90\n",
      "AUC_SCORE:  0.5963386727688786  acc:  0.5847457627118644 f1:  0.2898550724637681\n",
      "EPOCHS:23\n",
      "TRAIN\n"
     ]
    },
    {
     "name": "stderr",
     "output_type": "stream",
     "text": [
      "100%|████████████████████████████████████████| 953/953 [00:07<00:00, 121.38it/s]\n"
     ]
    },
    {
     "name": "stdout",
     "output_type": "stream",
     "text": [
      " Average training loss: 0.87\n"
     ]
    },
    {
     "name": "stderr",
     "output_type": "stream",
     "text": [
      "100%|████████████████████████████████████████| 121/121 [00:00<00:00, 865.78it/s]\n"
     ]
    },
    {
     "name": "stdout",
     "output_type": "stream",
     "text": [
      " Average valid loss: 0.90\n",
      "AUC_SCORE:  0.6538461538461539  acc:  0.6942148760330579 f1:  0.3934426229508197\n",
      "Test\n"
     ]
    },
    {
     "name": "stderr",
     "output_type": "stream",
     "text": [
      "100%|████████████████████████████████████████| 118/118 [00:00<00:00, 879.81it/s]\n"
     ]
    },
    {
     "name": "stdout",
     "output_type": "stream",
     "text": [
      " Average valid loss: 0.90\n",
      "AUC_SCORE:  0.5981693363844394  acc:  0.5932203389830508 f1:  0.29411764705882354\n",
      "EPOCHS:24\n",
      "TRAIN\n"
     ]
    },
    {
     "name": "stderr",
     "output_type": "stream",
     "text": [
      "100%|████████████████████████████████████████| 953/953 [00:07<00:00, 123.67it/s]\n"
     ]
    },
    {
     "name": "stdout",
     "output_type": "stream",
     "text": [
      " Average training loss: 0.88\n"
     ]
    },
    {
     "name": "stderr",
     "output_type": "stream",
     "text": [
      "100%|████████████████████████████████████████| 121/121 [00:00<00:00, 862.68it/s]\n"
     ]
    },
    {
     "name": "stdout",
     "output_type": "stream",
     "text": [
      " Average valid loss: 0.91\n",
      "AUC_SCORE:  0.6530364372469636  acc:  0.6859504132231405 f1:  0.3870967741935484\n",
      "Test\n"
     ]
    },
    {
     "name": "stderr",
     "output_type": "stream",
     "text": [
      "100%|████████████████████████████████████████| 118/118 [00:00<00:00, 885.86it/s]\n"
     ]
    },
    {
     "name": "stdout",
     "output_type": "stream",
     "text": [
      " Average valid loss: 0.91\n",
      "AUC_SCORE:  0.594050343249428  acc:  0.5847457627118644 f1:  0.2898550724637681\n",
      "EPOCHS:25\n",
      "TRAIN\n"
     ]
    },
    {
     "name": "stderr",
     "output_type": "stream",
     "text": [
      "100%|████████████████████████████████████████| 953/953 [00:07<00:00, 122.52it/s]\n"
     ]
    },
    {
     "name": "stdout",
     "output_type": "stream",
     "text": [
      " Average training loss: 0.87\n"
     ]
    },
    {
     "name": "stderr",
     "output_type": "stream",
     "text": [
      "100%|████████████████████████████████████████| 121/121 [00:00<00:00, 859.58it/s]\n"
     ]
    },
    {
     "name": "stdout",
     "output_type": "stream",
     "text": [
      " Average valid loss: 0.91\n",
      "AUC_SCORE:  0.6522267206477733  acc:  0.6528925619834711 f1:  0.3823529411764706\n",
      "Test\n"
     ]
    },
    {
     "name": "stderr",
     "output_type": "stream",
     "text": [
      "100%|████████████████████████████████████████| 118/118 [00:00<00:00, 884.52it/s]\n"
     ]
    },
    {
     "name": "stdout",
     "output_type": "stream",
     "text": [
      " Average valid loss: 0.91\n",
      "AUC_SCORE:  0.5949656750572082  acc:  0.5847457627118644 f1:  0.2898550724637681\n",
      "EPOCHS:26\n",
      "TRAIN\n"
     ]
    },
    {
     "name": "stderr",
     "output_type": "stream",
     "text": [
      "100%|████████████████████████████████████████| 953/953 [00:07<00:00, 122.12it/s]\n"
     ]
    },
    {
     "name": "stdout",
     "output_type": "stream",
     "text": [
      " Average training loss: 0.87\n"
     ]
    },
    {
     "name": "stderr",
     "output_type": "stream",
     "text": [
      "100%|████████████████████████████████████████| 121/121 [00:00<00:00, 861.40it/s]\n"
     ]
    },
    {
     "name": "stdout",
     "output_type": "stream",
     "text": [
      " Average valid loss: 0.91\n",
      "AUC_SCORE:  0.6489878542510121  acc:  0.6859504132231405 f1:  0.40625000000000006\n",
      "Test\n"
     ]
    },
    {
     "name": "stderr",
     "output_type": "stream",
     "text": [
      "100%|████████████████████████████████████████| 118/118 [00:00<00:00, 886.25it/s]\n"
     ]
    },
    {
     "name": "stdout",
     "output_type": "stream",
     "text": [
      " Average valid loss: 0.91\n",
      "AUC_SCORE:  0.5931350114416476  acc:  0.5847457627118644 f1:  0.2898550724637681\n",
      "EPOCHS:27\n",
      "TRAIN\n"
     ]
    },
    {
     "name": "stderr",
     "output_type": "stream",
     "text": [
      "100%|████████████████████████████████████████| 953/953 [00:07<00:00, 122.54it/s]\n"
     ]
    },
    {
     "name": "stdout",
     "output_type": "stream",
     "text": [
      " Average training loss: 0.87\n"
     ]
    },
    {
     "name": "stderr",
     "output_type": "stream",
     "text": [
      "100%|████████████████████████████████████████| 121/121 [00:00<00:00, 858.55it/s]\n"
     ]
    },
    {
     "name": "stdout",
     "output_type": "stream",
     "text": [
      " Average valid loss: 0.91\n",
      "AUC_SCORE:  0.6465587044534413  acc:  0.6528925619834711 f1:  0.3823529411764706\n",
      "Test\n"
     ]
    },
    {
     "name": "stderr",
     "output_type": "stream",
     "text": [
      "100%|████████████████████████████████████████| 118/118 [00:00<00:00, 885.44it/s]\n"
     ]
    },
    {
     "name": "stdout",
     "output_type": "stream",
     "text": [
      " Average valid loss: 0.91\n",
      "AUC_SCORE:  0.5917620137299772  acc:  0.5932203389830508 f1:  0.3142857142857143\n",
      "EPOCHS:28\n",
      "TRAIN\n"
     ]
    },
    {
     "name": "stderr",
     "output_type": "stream",
     "text": [
      "100%|████████████████████████████████████████| 953/953 [00:07<00:00, 121.75it/s]\n"
     ]
    },
    {
     "name": "stdout",
     "output_type": "stream",
     "text": [
      " Average training loss: 0.87\n"
     ]
    },
    {
     "name": "stderr",
     "output_type": "stream",
     "text": [
      "100%|████████████████████████████████████████| 121/121 [00:00<00:00, 870.19it/s]\n"
     ]
    },
    {
     "name": "stdout",
     "output_type": "stream",
     "text": [
      " Average valid loss: 0.91\n",
      "AUC_SCORE:  0.6453441295546559  acc:  0.6611570247933884 f1:  0.38805970149253727\n",
      "Test\n"
     ]
    },
    {
     "name": "stderr",
     "output_type": "stream",
     "text": [
      "100%|████████████████████████████████████████| 118/118 [00:00<00:00, 886.97it/s]\n"
     ]
    },
    {
     "name": "stdout",
     "output_type": "stream",
     "text": [
      " Average valid loss: 0.91\n",
      "AUC_SCORE:  0.5903890160183066  acc:  0.5932203389830508 f1:  0.29411764705882354\n",
      "EPOCHS:29\n",
      "TRAIN\n"
     ]
    },
    {
     "name": "stderr",
     "output_type": "stream",
     "text": [
      "100%|████████████████████████████████████████| 953/953 [00:07<00:00, 119.76it/s]\n"
     ]
    },
    {
     "name": "stdout",
     "output_type": "stream",
     "text": [
      " Average training loss: 0.86\n"
     ]
    },
    {
     "name": "stderr",
     "output_type": "stream",
     "text": [
      "100%|████████████████████████████████████████| 121/121 [00:00<00:00, 815.05it/s]\n"
     ]
    },
    {
     "name": "stdout",
     "output_type": "stream",
     "text": [
      " Average valid loss: 0.91\n",
      "AUC_SCORE:  0.6445344129554657  acc:  0.6611570247933884 f1:  0.38805970149253727\n",
      "Test\n"
     ]
    },
    {
     "name": "stderr",
     "output_type": "stream",
     "text": [
      "100%|████████████████████████████████████████| 118/118 [00:00<00:00, 831.95it/s]\n"
     ]
    },
    {
     "name": "stdout",
     "output_type": "stream",
     "text": [
      " Average valid loss: 0.91\n",
      "AUC_SCORE:  0.5894736842105264  acc:  0.6016949152542372 f1:  0.3188405797101449\n",
      "EPOCHS:30\n",
      "TRAIN\n"
     ]
    },
    {
     "name": "stderr",
     "output_type": "stream",
     "text": [
      "100%|████████████████████████████████████████| 953/953 [00:07<00:00, 119.61it/s]\n"
     ]
    },
    {
     "name": "stdout",
     "output_type": "stream",
     "text": [
      " Average training loss: 0.86\n"
     ]
    },
    {
     "name": "stderr",
     "output_type": "stream",
     "text": [
      "100%|████████████████████████████████████████| 121/121 [00:00<00:00, 828.27it/s]\n"
     ]
    },
    {
     "name": "stdout",
     "output_type": "stream",
     "text": [
      " Average valid loss: 0.91\n",
      "AUC_SCORE:  0.6412955465587045  acc:  0.6528925619834711 f1:  0.3823529411764706\n",
      "Test\n"
     ]
    },
    {
     "name": "stderr",
     "output_type": "stream",
     "text": [
      "100%|████████████████████████████████████████| 118/118 [00:00<00:00, 841.64it/s]\n"
     ]
    },
    {
     "name": "stdout",
     "output_type": "stream",
     "text": [
      " Average valid loss: 0.92\n",
      "AUC_SCORE:  0.5899313501144164  acc:  0.6101694915254238 f1:  0.3428571428571428\n",
      "EPOCHS:31\n",
      "TRAIN\n"
     ]
    },
    {
     "name": "stderr",
     "output_type": "stream",
     "text": [
      "100%|████████████████████████████████████████| 953/953 [00:08<00:00, 118.19it/s]\n"
     ]
    },
    {
     "name": "stdout",
     "output_type": "stream",
     "text": [
      " Average training loss: 0.86\n"
     ]
    },
    {
     "name": "stderr",
     "output_type": "stream",
     "text": [
      "100%|████████████████████████████████████████| 121/121 [00:00<00:00, 864.59it/s]\n"
     ]
    },
    {
     "name": "stdout",
     "output_type": "stream",
     "text": [
      " Average valid loss: 0.91\n",
      "AUC_SCORE:  0.6400809716599191  acc:  0.6446280991735537 f1:  0.37681159420289856\n",
      "Test\n"
     ]
    },
    {
     "name": "stderr",
     "output_type": "stream",
     "text": [
      "100%|████████████████████████████████████████| 118/118 [00:00<00:00, 886.88it/s]\n"
     ]
    },
    {
     "name": "stdout",
     "output_type": "stream",
     "text": [
      " Average valid loss: 0.92\n",
      "AUC_SCORE:  0.5899313501144164  acc:  0.6101694915254238 f1:  0.3428571428571428\n",
      "EPOCHS:32\n",
      "TRAIN\n"
     ]
    },
    {
     "name": "stderr",
     "output_type": "stream",
     "text": [
      "100%|████████████████████████████████████████| 953/953 [00:07<00:00, 121.14it/s]\n"
     ]
    },
    {
     "name": "stdout",
     "output_type": "stream",
     "text": [
      " Average training loss: 0.86\n"
     ]
    },
    {
     "name": "stderr",
     "output_type": "stream",
     "text": [
      "100%|████████████████████████████████████████| 121/121 [00:00<00:00, 829.04it/s]\n"
     ]
    },
    {
     "name": "stdout",
     "output_type": "stream",
     "text": [
      " Average valid loss: 0.91\n",
      "AUC_SCORE:  0.637246963562753  acc:  0.6528925619834711 f1:  0.3823529411764706\n",
      "Test\n"
     ]
    },
    {
     "name": "stderr",
     "output_type": "stream",
     "text": [
      "100%|████████████████████████████████████████| 118/118 [00:00<00:00, 884.22it/s]\n"
     ]
    },
    {
     "name": "stdout",
     "output_type": "stream",
     "text": [
      " Average valid loss: 0.92\n",
      "AUC_SCORE:  0.5890160183066361  acc:  0.6016949152542372 f1:  0.3188405797101449\n",
      "EPOCHS:33\n",
      "TRAIN\n"
     ]
    },
    {
     "name": "stderr",
     "output_type": "stream",
     "text": [
      "100%|████████████████████████████████████████| 953/953 [00:07<00:00, 120.02it/s]\n"
     ]
    },
    {
     "name": "stdout",
     "output_type": "stream",
     "text": [
      " Average training loss: 0.86\n"
     ]
    },
    {
     "name": "stderr",
     "output_type": "stream",
     "text": [
      "100%|████████████████████████████████████████| 121/121 [00:00<00:00, 831.29it/s]\n"
     ]
    },
    {
     "name": "stdout",
     "output_type": "stream",
     "text": [
      " Average valid loss: 0.92\n",
      "AUC_SCORE:  0.6380566801619433  acc:  0.6528925619834711 f1:  0.3823529411764706\n",
      "Test\n"
     ]
    },
    {
     "name": "stderr",
     "output_type": "stream",
     "text": [
      "100%|████████████████████████████████████████| 118/118 [00:00<00:00, 849.75it/s]\n"
     ]
    },
    {
     "name": "stdout",
     "output_type": "stream",
     "text": [
      " Average valid loss: 0.92\n",
      "AUC_SCORE:  0.5890160183066362  acc:  0.6101694915254238 f1:  0.3428571428571428\n",
      "EPOCHS:34\n",
      "TRAIN\n"
     ]
    },
    {
     "name": "stderr",
     "output_type": "stream",
     "text": [
      "100%|████████████████████████████████████████| 953/953 [00:07<00:00, 119.15it/s]\n"
     ]
    },
    {
     "name": "stdout",
     "output_type": "stream",
     "text": [
      " Average training loss: 0.84\n"
     ]
    },
    {
     "name": "stderr",
     "output_type": "stream",
     "text": [
      "100%|████████████████████████████████████████| 121/121 [00:00<00:00, 799.09it/s]\n"
     ]
    },
    {
     "name": "stdout",
     "output_type": "stream",
     "text": [
      " Average valid loss: 0.92\n",
      "AUC_SCORE:  0.6368421052631579  acc:  0.6528925619834711 f1:  0.3823529411764706\n",
      "Test\n"
     ]
    },
    {
     "name": "stderr",
     "output_type": "stream",
     "text": [
      "100%|████████████████████████████████████████| 118/118 [00:00<00:00, 881.43it/s]\n"
     ]
    },
    {
     "name": "stdout",
     "output_type": "stream",
     "text": [
      " Average valid loss: 0.92\n",
      "AUC_SCORE:  0.5899313501144166  acc:  0.6016949152542372 f1:  0.3188405797101449\n",
      "EPOCHS:35\n",
      "TRAIN\n"
     ]
    },
    {
     "name": "stderr",
     "output_type": "stream",
     "text": [
      "100%|████████████████████████████████████████| 953/953 [00:08<00:00, 118.32it/s]\n"
     ]
    },
    {
     "name": "stdout",
     "output_type": "stream",
     "text": [
      " Average training loss: 0.86\n"
     ]
    },
    {
     "name": "stderr",
     "output_type": "stream",
     "text": [
      "100%|████████████████████████████████████████| 121/121 [00:00<00:00, 852.62it/s]\n"
     ]
    },
    {
     "name": "stdout",
     "output_type": "stream",
     "text": [
      " Average valid loss: 0.92\n",
      "AUC_SCORE:  0.6356275303643725  acc:  0.6446280991735537 f1:  0.37681159420289856\n",
      "Test\n"
     ]
    },
    {
     "name": "stderr",
     "output_type": "stream",
     "text": [
      "100%|████████████████████████████████████████| 118/118 [00:00<00:00, 878.45it/s]\n"
     ]
    },
    {
     "name": "stdout",
     "output_type": "stream",
     "text": [
      " Average valid loss: 0.93\n",
      "AUC_SCORE:  0.588558352402746  acc:  0.6101694915254238 f1:  0.3428571428571428\n",
      "EPOCHS:36\n",
      "TRAIN\n"
     ]
    },
    {
     "name": "stderr",
     "output_type": "stream",
     "text": [
      "100%|████████████████████████████████████████| 953/953 [00:07<00:00, 119.22it/s]\n"
     ]
    },
    {
     "name": "stdout",
     "output_type": "stream",
     "text": [
      " Average training loss: 0.85\n"
     ]
    },
    {
     "name": "stderr",
     "output_type": "stream",
     "text": [
      "100%|████████████████████████████████████████| 121/121 [00:00<00:00, 848.51it/s]\n"
     ]
    },
    {
     "name": "stdout",
     "output_type": "stream",
     "text": [
      " Average valid loss: 0.92\n",
      "AUC_SCORE:  0.6340080971659919  acc:  0.6446280991735537 f1:  0.37681159420289856\n",
      "Test\n"
     ]
    },
    {
     "name": "stderr",
     "output_type": "stream",
     "text": [
      "100%|████████████████████████████████████████| 118/118 [00:00<00:00, 796.75it/s]\n"
     ]
    },
    {
     "name": "stdout",
     "output_type": "stream",
     "text": [
      " Average valid loss: 0.93\n",
      "AUC_SCORE:  0.5871853546910755  acc:  0.6101694915254238 f1:  0.3428571428571428\n",
      "EPOCHS:37\n",
      "TRAIN\n"
     ]
    },
    {
     "name": "stderr",
     "output_type": "stream",
     "text": [
      "100%|████████████████████████████████████████| 953/953 [00:07<00:00, 119.82it/s]\n"
     ]
    },
    {
     "name": "stdout",
     "output_type": "stream",
     "text": [
      " Average training loss: 0.84\n"
     ]
    },
    {
     "name": "stderr",
     "output_type": "stream",
     "text": [
      "100%|████████████████████████████████████████| 121/121 [00:00<00:00, 863.51it/s]\n"
     ]
    },
    {
     "name": "stdout",
     "output_type": "stream",
     "text": [
      " Average valid loss: 0.92\n",
      "AUC_SCORE:  0.6331983805668017  acc:  0.6611570247933884 f1:  0.4225352112676057\n",
      "Test\n"
     ]
    },
    {
     "name": "stderr",
     "output_type": "stream",
     "text": [
      "100%|████████████████████████████████████████| 118/118 [00:00<00:00, 883.08it/s]\n"
     ]
    },
    {
     "name": "stdout",
     "output_type": "stream",
     "text": [
      " Average valid loss: 0.93\n",
      "AUC_SCORE:  0.588558352402746  acc:  0.6016949152542372 f1:  0.3380281690140845\n",
      "EPOCHS:38\n",
      "TRAIN\n"
     ]
    },
    {
     "name": "stderr",
     "output_type": "stream",
     "text": [
      "100%|████████████████████████████████████████| 953/953 [00:07<00:00, 121.97it/s]\n"
     ]
    },
    {
     "name": "stdout",
     "output_type": "stream",
     "text": [
      " Average training loss: 0.83\n"
     ]
    },
    {
     "name": "stderr",
     "output_type": "stream",
     "text": [
      "100%|████████████████████████████████████████| 121/121 [00:00<00:00, 852.12it/s]\n"
     ]
    },
    {
     "name": "stdout",
     "output_type": "stream",
     "text": [
      " Average valid loss: 0.92\n",
      "AUC_SCORE:  0.6327935222672065  acc:  0.6611570247933884 f1:  0.4225352112676057\n",
      "Test\n"
     ]
    },
    {
     "name": "stderr",
     "output_type": "stream",
     "text": [
      "100%|████████████████████████████████████████| 118/118 [00:00<00:00, 884.52it/s]\n"
     ]
    },
    {
     "name": "stdout",
     "output_type": "stream",
     "text": [
      " Average valid loss: 0.94\n",
      "AUC_SCORE:  0.5890160183066361  acc:  0.6016949152542372 f1:  0.3561643835616438\n",
      "EPOCHS:39\n",
      "TRAIN\n"
     ]
    },
    {
     "name": "stderr",
     "output_type": "stream",
     "text": [
      "100%|████████████████████████████████████████| 953/953 [00:07<00:00, 122.09it/s]\n"
     ]
    },
    {
     "name": "stdout",
     "output_type": "stream",
     "text": [
      " Average training loss: 0.84\n"
     ]
    },
    {
     "name": "stderr",
     "output_type": "stream",
     "text": [
      "100%|████████████████████████████████████████| 121/121 [00:00<00:00, 860.30it/s]\n"
     ]
    },
    {
     "name": "stdout",
     "output_type": "stream",
     "text": [
      " Average valid loss: 0.93\n",
      "AUC_SCORE:  0.6287449392712551  acc:  0.6363636363636364 f1:  0.4054054054054054\n",
      "Test\n"
     ]
    },
    {
     "name": "stderr",
     "output_type": "stream",
     "text": [
      "100%|████████████████████████████████████████| 118/118 [00:00<00:00, 854.30it/s]\n"
     ]
    },
    {
     "name": "stdout",
     "output_type": "stream",
     "text": [
      " Average valid loss: 0.94\n",
      "AUC_SCORE:  0.5881006864988558  acc:  0.5847457627118644 f1:  0.3466666666666667\n",
      "EPOCHS:40\n",
      "TRAIN\n"
     ]
    },
    {
     "name": "stderr",
     "output_type": "stream",
     "text": [
      "100%|████████████████████████████████████████| 953/953 [00:07<00:00, 120.47it/s]\n"
     ]
    },
    {
     "name": "stdout",
     "output_type": "stream",
     "text": [
      " Average training loss: 0.83\n"
     ]
    },
    {
     "name": "stderr",
     "output_type": "stream",
     "text": [
      "100%|████████████████████████████████████████| 121/121 [00:00<00:00, 867.19it/s]\n"
     ]
    },
    {
     "name": "stdout",
     "output_type": "stream",
     "text": [
      " Average valid loss: 0.93\n",
      "AUC_SCORE:  0.6307692307692309  acc:  0.6363636363636364 f1:  0.4054054054054054\n",
      "Test\n"
     ]
    },
    {
     "name": "stderr",
     "output_type": "stream",
     "text": [
      "100%|████████████████████████████████████████| 118/118 [00:00<00:00, 890.00it/s]\n"
     ]
    },
    {
     "name": "stdout",
     "output_type": "stream",
     "text": [
      " Average valid loss: 0.94\n",
      "AUC_SCORE:  0.5862700228832952  acc:  0.5932203389830508 f1:  0.3513513513513513\n"
     ]
    },
    {
     "name": "stderr",
     "output_type": "stream",
     "text": [
      "100%|████████████████████████████████████████| 118/118 [00:00<00:00, 887.02it/s]"
     ]
    },
    {
     "name": "stdout",
     "output_type": "stream",
     "text": [
      " Average valid loss: 0.90\n",
      "AUC_SCORE:  0.6013729977116705  acc:  0.6186440677966102 f1:  0.2857142857142857\n",
      "BEST MODEL\n",
      "AUC_SCORE:  0.6013729977116705  acc:  0.6186440677966102 f1:  0.2857142857142857\n",
      "{'auc_micro': 0.6013729977116705, 'acc': 0.6186440677966102, 'f1': 0.2857142857142857, 'pred': [[0, 0, 0, 0, 1, 0, 1, 0, 1, 0], [1, 1, 0, 0, 0, 1, 0, 0, 0, 0], [0, 0, 0, 0, 0, 0, 0, 0, 1, 1], [1, 0, 1, 1, 0, 0, 1, 1, 0, 0], [1, 0, 0, 0, 0, 1, 0, 0, 1, 0], [1, 0, 1, 0, 0, 1, 0, 1, 0, 0], [0, 0, 0, 0, 1, 0, 0, 1, 0, 0], [0, 1, 0, 1, 0, 0, 0, 0, 1, 0], [0, 0, 0, 1, 0, 0, 1, 0, 0, 1], [0, 0, 0, 0, 1, 0, 1, 1, 1, 1], [1, 0, 1, 0, 1, 1, 0, 0, 0, 0], [0, 0, 1, 0, 1, 0, 0, 1], [], [], [], [], [], [], []]}\n"
     ]
    },
    {
     "name": "stderr",
     "output_type": "stream",
     "text": [
      "\n"
     ]
    }
   ],
   "source": [
    "bert2 = BertModel().to('cuda')\n",
    "score = fit(bert2, train_data,valid_data,test_data,EPOCHS=40)\n",
    "print(score)"
   ]
  },
  {
   "cell_type": "code",
   "execution_count": null,
   "id": "cba47e22",
   "metadata": {},
   "outputs": [],
   "source": []
  },
  {
   "cell_type": "markdown",
   "id": "662124a1",
   "metadata": {},
   "source": [
    "# Doc2vec"
   ]
  },
  {
   "cell_type": "code",
   "execution_count": 103,
   "id": "1d6032a2",
   "metadata": {},
   "outputs": [],
   "source": [
    "from gensim.models.doc2vec import Doc2Vec, TaggedDocument"
   ]
  },
  {
   "cell_type": "code",
   "execution_count": 104,
   "id": "2151286c",
   "metadata": {},
   "outputs": [],
   "source": [
    "path1 = 'doc2vec/'\n",
    "path2 = 'data/scriptbase/'\n",
    "filenames = os.listdir(path1)\n",
    "train_data = []\n",
    "valid_data = []\n",
    "test_data = []\n",
    "one = 0\n",
    "zero = 0\n",
    "end = torch.ones(1,1,384)\n",
    "\n",
    "for filename in filenames:\n",
    "    genres = []\n",
    "    movie_name = filename[:-14]\n",
    "    cult = 0\n",
    "    with open(path2+movie_name+'/processed/imdb_meta.txt','r') as f:\n",
    "        lines = f.readlines()\n",
    "        for line in lines:\n",
    "            if 'keyword' in line:\n",
    "                try:\n",
    "                    keyword  = line.strip().split('\\t')[1]\n",
    "                    keywords.append(keyword)\n",
    "                except:\n",
    "                    pass\n",
    "                if 'independent film'==keyword:\n",
    "                    cult = 1\n",
    "        \n",
    "    w2v=Doc2Vec.load(path1 + filename)\n",
    "    base = 'scene_'\n",
    "    scene_num = 0\n",
    "    max_scene = 0\n",
    "    for node in w2v.dv.index_to_key:\n",
    "        if base in node:\n",
    "            scene_num += 1\n",
    "            if int(node[6:])>max_scene:\n",
    "                max_scene = int(node[6:])\n",
    "    embs = torch.zeros(1,scene_num+1,384)\n",
    "    k = 0\n",
    "    for i in range(1,max_scene+1):\n",
    "        emb_name = base + str(i)\n",
    "        if emb_name in w2v.dv.index_to_key:\n",
    "            emb = w2v.dv[emb_name]\n",
    "            emb = torch.from_numpy(emb)\n",
    "            embs[0][k] = emb\n",
    "            k += 1\n",
    "    embs[0][-1] = end\n",
    "        \n",
    "        \n",
    "    rand = random.randint(0,100)    \n",
    "    if movie_name in movie_split['train']:\n",
    "        train_data.append([embs, [cult]])\n",
    "    elif movie_name in movie_split['valid']:\n",
    "        valid_data.append([embs, [cult]])\n",
    "    \n",
    "    elif movie_name in movie_split['test']:\n",
    "        test_data.append([embs, [cult]])\n",
    "    \n",
    "    if cult:\n",
    "        one += 1\n",
    "    else:\n",
    "        zero += 1"
   ]
  },
  {
   "cell_type": "code",
   "execution_count": 105,
   "id": "2eae8e4f",
   "metadata": {},
   "outputs": [
    {
     "name": "stdout",
     "output_type": "stream",
     "text": [
      "EPOCHS:1\n",
      "TRAIN\n"
     ]
    },
    {
     "name": "stderr",
     "output_type": "stream",
     "text": [
      "100%|████████████████████████████████████████| 963/963 [00:07<00:00, 122.13it/s]\n"
     ]
    },
    {
     "name": "stdout",
     "output_type": "stream",
     "text": [
      " Average training loss: 0.95\n"
     ]
    },
    {
     "name": "stderr",
     "output_type": "stream",
     "text": [
      "100%|████████████████████████████████████████| 121/121 [00:00<00:00, 923.84it/s]\n"
     ]
    },
    {
     "name": "stdout",
     "output_type": "stream",
     "text": [
      " Average valid loss: 0.96\n",
      "AUC_SCORE:  0.46842105263157896  acc:  0.7851239669421488 f1:  0.07142857142857144\n",
      "Test\n"
     ]
    },
    {
     "name": "stderr",
     "output_type": "stream",
     "text": [
      "100%|████████████████████████████████████████| 120/120 [00:00<00:00, 920.97it/s]\n"
     ]
    },
    {
     "name": "stdout",
     "output_type": "stream",
     "text": [
      " Average valid loss: 0.92\n",
      "AUC_SCORE:  0.5646701388888888  acc:  0.8 f1:  0.0\n",
      "EPOCHS:2\n",
      "TRAIN\n"
     ]
    },
    {
     "name": "stderr",
     "output_type": "stream",
     "text": [
      "100%|████████████████████████████████████████| 963/963 [00:08<00:00, 120.37it/s]\n"
     ]
    },
    {
     "name": "stdout",
     "output_type": "stream",
     "text": [
      " Average training loss: 0.95\n"
     ]
    },
    {
     "name": "stderr",
     "output_type": "stream",
     "text": [
      "100%|████████████████████████████████████████| 121/121 [00:00<00:00, 929.59it/s]\n"
     ]
    },
    {
     "name": "stdout",
     "output_type": "stream",
     "text": [
      " Average valid loss: 0.96\n",
      "AUC_SCORE:  0.47125506072874496  acc:  0.7768595041322314 f1:  0.06896551724137931\n",
      "Test\n"
     ]
    },
    {
     "name": "stderr",
     "output_type": "stream",
     "text": [
      "100%|████████████████████████████████████████| 120/120 [00:00<00:00, 930.16it/s]\n"
     ]
    },
    {
     "name": "stdout",
     "output_type": "stream",
     "text": [
      " Average valid loss: 0.92\n",
      "AUC_SCORE:  0.5546875  acc:  0.8 f1:  0.0\n",
      "EPOCHS:3\n",
      "TRAIN\n"
     ]
    },
    {
     "name": "stderr",
     "output_type": "stream",
     "text": [
      "100%|████████████████████████████████████████| 963/963 [00:07<00:00, 120.70it/s]\n"
     ]
    },
    {
     "name": "stdout",
     "output_type": "stream",
     "text": [
      " Average training loss: 0.94\n"
     ]
    },
    {
     "name": "stderr",
     "output_type": "stream",
     "text": [
      "100%|████████████████████████████████████████| 121/121 [00:00<00:00, 920.18it/s]\n"
     ]
    },
    {
     "name": "stdout",
     "output_type": "stream",
     "text": [
      " Average valid loss: 0.96\n",
      "AUC_SCORE:  0.4668016194331984  acc:  0.7768595041322314 f1:  0.06896551724137931\n",
      "Test\n"
     ]
    },
    {
     "name": "stderr",
     "output_type": "stream",
     "text": [
      "100%|████████████████████████████████████████| 120/120 [00:00<00:00, 925.07it/s]\n"
     ]
    },
    {
     "name": "stdout",
     "output_type": "stream",
     "text": [
      " Average valid loss: 0.92\n",
      "AUC_SCORE:  0.5516493055555556  acc:  0.7916666666666666 f1:  0.0\n",
      "EPOCHS:4\n",
      "TRAIN\n"
     ]
    },
    {
     "name": "stderr",
     "output_type": "stream",
     "text": [
      "100%|████████████████████████████████████████| 963/963 [00:08<00:00, 120.37it/s]\n"
     ]
    },
    {
     "name": "stdout",
     "output_type": "stream",
     "text": [
      " Average training loss: 0.94\n"
     ]
    },
    {
     "name": "stderr",
     "output_type": "stream",
     "text": [
      "100%|████████████████████████████████████████| 121/121 [00:00<00:00, 921.49it/s]\n"
     ]
    },
    {
     "name": "stdout",
     "output_type": "stream",
     "text": [
      " Average valid loss: 0.96\n",
      "AUC_SCORE:  0.4643724696356275  acc:  0.7768595041322314 f1:  0.06896551724137931\n",
      "Test\n"
     ]
    },
    {
     "name": "stderr",
     "output_type": "stream",
     "text": [
      "100%|████████████████████████████████████████| 120/120 [00:00<00:00, 921.75it/s]\n"
     ]
    },
    {
     "name": "stdout",
     "output_type": "stream",
     "text": [
      " Average valid loss: 0.92\n",
      "AUC_SCORE:  0.5455729166666667  acc:  0.7916666666666666 f1:  0.0\n",
      "EPOCHS:5\n",
      "TRAIN\n"
     ]
    },
    {
     "name": "stderr",
     "output_type": "stream",
     "text": [
      "100%|████████████████████████████████████████| 963/963 [00:07<00:00, 120.84it/s]\n"
     ]
    },
    {
     "name": "stdout",
     "output_type": "stream",
     "text": [
      " Average training loss: 0.93\n"
     ]
    },
    {
     "name": "stderr",
     "output_type": "stream",
     "text": [
      "100%|████████████████████████████████████████| 121/121 [00:00<00:00, 928.03it/s]\n"
     ]
    },
    {
     "name": "stdout",
     "output_type": "stream",
     "text": [
      " Average valid loss: 0.96\n",
      "AUC_SCORE:  0.4607287449392713  acc:  0.7768595041322314 f1:  0.06896551724137931\n",
      "Test\n"
     ]
    },
    {
     "name": "stderr",
     "output_type": "stream",
     "text": [
      "100%|████████████████████████████████████████| 120/120 [00:00<00:00, 931.58it/s]\n"
     ]
    },
    {
     "name": "stdout",
     "output_type": "stream",
     "text": [
      " Average valid loss: 0.92\n",
      "AUC_SCORE:  0.5403645833333333  acc:  0.775 f1:  0.0\n",
      "EPOCHS:6\n",
      "TRAIN\n"
     ]
    },
    {
     "name": "stderr",
     "output_type": "stream",
     "text": [
      "100%|████████████████████████████████████████| 963/963 [00:07<00:00, 121.41it/s]\n"
     ]
    },
    {
     "name": "stdout",
     "output_type": "stream",
     "text": [
      " Average training loss: 0.93\n"
     ]
    },
    {
     "name": "stderr",
     "output_type": "stream",
     "text": [
      "100%|████████████████████████████████████████| 121/121 [00:00<00:00, 927.58it/s]\n"
     ]
    },
    {
     "name": "stdout",
     "output_type": "stream",
     "text": [
      " Average valid loss: 0.96\n",
      "AUC_SCORE:  0.46194331983805675  acc:  0.768595041322314 f1:  0.06666666666666668\n",
      "Test\n"
     ]
    },
    {
     "name": "stderr",
     "output_type": "stream",
     "text": [
      "100%|████████████████████████████████████████| 120/120 [00:00<00:00, 929.13it/s]\n"
     ]
    },
    {
     "name": "stdout",
     "output_type": "stream",
     "text": [
      " Average valid loss: 0.92\n",
      "AUC_SCORE:  0.5386284722222222  acc:  0.775 f1:  0.0\n",
      "EPOCHS:7\n",
      "TRAIN\n"
     ]
    },
    {
     "name": "stderr",
     "output_type": "stream",
     "text": [
      "100%|████████████████████████████████████████| 963/963 [00:07<00:00, 120.66it/s]\n"
     ]
    },
    {
     "name": "stdout",
     "output_type": "stream",
     "text": [
      " Average training loss: 0.93\n"
     ]
    },
    {
     "name": "stderr",
     "output_type": "stream",
     "text": [
      "100%|████████████████████████████████████████| 121/121 [00:00<00:00, 921.82it/s]\n"
     ]
    },
    {
     "name": "stdout",
     "output_type": "stream",
     "text": [
      " Average valid loss: 0.96\n",
      "AUC_SCORE:  0.46275303643724697  acc:  0.743801652892562 f1:  0.060606060606060615\n",
      "Test\n"
     ]
    },
    {
     "name": "stderr",
     "output_type": "stream",
     "text": [
      "100%|████████████████████████████████████████| 120/120 [00:00<00:00, 923.70it/s]\n"
     ]
    },
    {
     "name": "stdout",
     "output_type": "stream",
     "text": [
      " Average valid loss: 0.92\n",
      "AUC_SCORE:  0.5338541666666667  acc:  0.7583333333333333 f1:  0.0\n",
      "EPOCHS:8\n",
      "TRAIN\n"
     ]
    },
    {
     "name": "stderr",
     "output_type": "stream",
     "text": [
      "100%|████████████████████████████████████████| 963/963 [00:08<00:00, 120.34it/s]\n"
     ]
    },
    {
     "name": "stdout",
     "output_type": "stream",
     "text": [
      " Average training loss: 0.92\n"
     ]
    },
    {
     "name": "stderr",
     "output_type": "stream",
     "text": [
      "100%|████████████████████████████████████████| 121/121 [00:00<00:00, 920.61it/s]\n"
     ]
    },
    {
     "name": "stdout",
     "output_type": "stream",
     "text": [
      " Average valid loss: 0.97\n",
      "AUC_SCORE:  0.4619433198380567  acc:  0.7107438016528925 f1:  0.05405405405405406\n",
      "Test\n"
     ]
    },
    {
     "name": "stderr",
     "output_type": "stream",
     "text": [
      "100%|████████████████████████████████████████| 120/120 [00:00<00:00, 925.16it/s]\n"
     ]
    },
    {
     "name": "stdout",
     "output_type": "stream",
     "text": [
      " Average valid loss: 0.93\n",
      "AUC_SCORE:  0.5277777777777778  acc:  0.75 f1:  0.0\n",
      "EPOCHS:9\n",
      "TRAIN\n"
     ]
    },
    {
     "name": "stderr",
     "output_type": "stream",
     "text": [
      "100%|████████████████████████████████████████| 963/963 [00:07<00:00, 121.56it/s]\n"
     ]
    },
    {
     "name": "stdout",
     "output_type": "stream",
     "text": [
      " Average training loss: 0.92\n"
     ]
    },
    {
     "name": "stderr",
     "output_type": "stream",
     "text": [
      "100%|████████████████████████████████████████| 121/121 [00:00<00:00, 935.46it/s]\n"
     ]
    },
    {
     "name": "stdout",
     "output_type": "stream",
     "text": [
      " Average valid loss: 0.97\n",
      "AUC_SCORE:  0.4615384615384615  acc:  0.6942148760330579 f1:  0.05128205128205129\n",
      "Test\n"
     ]
    },
    {
     "name": "stderr",
     "output_type": "stream",
     "text": [
      "100%|████████████████████████████████████████| 120/120 [00:00<00:00, 935.23it/s]\n"
     ]
    },
    {
     "name": "stdout",
     "output_type": "stream",
     "text": [
      " Average valid loss: 0.93\n",
      "AUC_SCORE:  0.5247395833333333  acc:  0.75 f1:  0.0\n",
      "EPOCHS:10\n",
      "TRAIN\n"
     ]
    },
    {
     "name": "stderr",
     "output_type": "stream",
     "text": [
      "100%|████████████████████████████████████████| 963/963 [00:07<00:00, 121.93it/s]\n"
     ]
    },
    {
     "name": "stdout",
     "output_type": "stream",
     "text": [
      " Average training loss: 0.92\n"
     ]
    },
    {
     "name": "stderr",
     "output_type": "stream",
     "text": [
      "100%|████████████████████████████████████████| 121/121 [00:00<00:00, 934.16it/s]"
     ]
    },
    {
     "name": "stdout",
     "output_type": "stream",
     "text": [
      " Average valid loss: 0.97\n",
      "AUC_SCORE:  0.46153846153846156  acc:  0.6942148760330579 f1:  0.13953488372093026\n",
      "9  EPOCH BEST MODEL!\n"
     ]
    },
    {
     "name": "stderr",
     "output_type": "stream",
     "text": [
      "\n"
     ]
    },
    {
     "name": "stdout",
     "output_type": "stream",
     "text": [
      "Test\n"
     ]
    },
    {
     "name": "stderr",
     "output_type": "stream",
     "text": [
      "100%|████████████████████████████████████████| 120/120 [00:00<00:00, 928.30it/s]\n"
     ]
    },
    {
     "name": "stdout",
     "output_type": "stream",
     "text": [
      " Average valid loss: 0.93\n",
      "AUC_SCORE:  0.5203993055555556  acc:  0.7416666666666667 f1:  0.0\n",
      "EPOCHS:11\n",
      "TRAIN\n"
     ]
    },
    {
     "name": "stderr",
     "output_type": "stream",
     "text": [
      "100%|████████████████████████████████████████| 963/963 [00:07<00:00, 121.42it/s]\n"
     ]
    },
    {
     "name": "stdout",
     "output_type": "stream",
     "text": [
      " Average training loss: 0.91\n"
     ]
    },
    {
     "name": "stderr",
     "output_type": "stream",
     "text": [
      "100%|████████████████████████████████████████| 121/121 [00:00<00:00, 935.68it/s]\n"
     ]
    },
    {
     "name": "stdout",
     "output_type": "stream",
     "text": [
      " Average valid loss: 0.97\n",
      "AUC_SCORE:  0.46234817813765183  acc:  0.6776859504132231 f1:  0.1702127659574468\n",
      "10  EPOCH BEST MODEL!\n",
      "Test\n"
     ]
    },
    {
     "name": "stderr",
     "output_type": "stream",
     "text": [
      "100%|████████████████████████████████████████| 120/120 [00:00<00:00, 937.86it/s]\n"
     ]
    },
    {
     "name": "stdout",
     "output_type": "stream",
     "text": [
      " Average valid loss: 0.93\n",
      "AUC_SCORE:  0.5238715277777777  acc:  0.7333333333333333 f1:  0.0\n",
      "EPOCHS:12\n",
      "TRAIN\n"
     ]
    },
    {
     "name": "stderr",
     "output_type": "stream",
     "text": [
      "100%|████████████████████████████████████████| 963/963 [00:07<00:00, 120.88it/s]\n"
     ]
    },
    {
     "name": "stdout",
     "output_type": "stream",
     "text": [
      " Average training loss: 0.91\n"
     ]
    },
    {
     "name": "stderr",
     "output_type": "stream",
     "text": [
      "100%|████████████████████████████████████████| 121/121 [00:00<00:00, 925.28it/s]"
     ]
    },
    {
     "name": "stdout",
     "output_type": "stream",
     "text": [
      " Average valid loss: 0.97\n",
      "AUC_SCORE:  0.45789473684210524  acc:  0.6694214876033058 f1:  0.2\n",
      "11  EPOCH BEST MODEL!\n"
     ]
    },
    {
     "name": "stderr",
     "output_type": "stream",
     "text": [
      "\n"
     ]
    },
    {
     "name": "stdout",
     "output_type": "stream",
     "text": [
      "Test\n"
     ]
    },
    {
     "name": "stderr",
     "output_type": "stream",
     "text": [
      "100%|████████████████████████████████████████| 120/120 [00:00<00:00, 880.78it/s]\n"
     ]
    },
    {
     "name": "stdout",
     "output_type": "stream",
     "text": [
      " Average valid loss: 0.93\n",
      "AUC_SCORE:  0.5190972222222222  acc:  0.7166666666666667 f1:  0.05555555555555555\n",
      "EPOCHS:13\n",
      "TRAIN\n"
     ]
    },
    {
     "name": "stderr",
     "output_type": "stream",
     "text": [
      "100%|████████████████████████████████████████| 963/963 [00:07<00:00, 120.77it/s]\n"
     ]
    },
    {
     "name": "stdout",
     "output_type": "stream",
     "text": [
      " Average training loss: 0.91\n"
     ]
    },
    {
     "name": "stderr",
     "output_type": "stream",
     "text": [
      "100%|████████████████████████████████████████| 121/121 [00:00<00:00, 933.45it/s]"
     ]
    },
    {
     "name": "stdout",
     "output_type": "stream",
     "text": [
      " Average valid loss: 0.97\n",
      "AUC_SCORE:  0.45748987854251016  acc:  0.6776859504132231 f1:  0.23529411764705882\n",
      "12  EPOCH BEST MODEL!\n"
     ]
    },
    {
     "name": "stderr",
     "output_type": "stream",
     "text": [
      "\n"
     ]
    },
    {
     "name": "stdout",
     "output_type": "stream",
     "text": [
      "Test\n"
     ]
    },
    {
     "name": "stderr",
     "output_type": "stream",
     "text": [
      "100%|████████████████████████████████████████| 120/120 [00:00<00:00, 927.38it/s]\n"
     ]
    },
    {
     "name": "stdout",
     "output_type": "stream",
     "text": [
      " Average valid loss: 0.93\n",
      "AUC_SCORE:  0.5104166666666666  acc:  0.725 f1:  0.10810810810810811\n",
      "EPOCHS:14\n",
      "TRAIN\n"
     ]
    },
    {
     "name": "stderr",
     "output_type": "stream",
     "text": [
      "100%|████████████████████████████████████████| 963/963 [00:07<00:00, 120.75it/s]\n"
     ]
    },
    {
     "name": "stdout",
     "output_type": "stream",
     "text": [
      " Average training loss: 0.90\n"
     ]
    },
    {
     "name": "stderr",
     "output_type": "stream",
     "text": [
      "100%|████████████████████████████████████████| 121/121 [00:00<00:00, 930.76it/s]\n"
     ]
    },
    {
     "name": "stdout",
     "output_type": "stream",
     "text": [
      " Average valid loss: 0.98\n",
      "AUC_SCORE:  0.4603238866396761  acc:  0.6611570247933884 f1:  0.22641509433962265\n",
      "Test\n"
     ]
    },
    {
     "name": "stderr",
     "output_type": "stream",
     "text": [
      "100%|████████████████████████████████████████| 120/120 [00:00<00:00, 933.51it/s]\n"
     ]
    },
    {
     "name": "stdout",
     "output_type": "stream",
     "text": [
      " Average valid loss: 0.94\n",
      "AUC_SCORE:  0.5069444444444444  acc:  0.7333333333333333 f1:  0.2\n",
      "EPOCHS:15\n",
      "TRAIN\n"
     ]
    },
    {
     "name": "stderr",
     "output_type": "stream",
     "text": [
      "100%|████████████████████████████████████████| 963/963 [00:08<00:00, 120.23it/s]\n"
     ]
    },
    {
     "name": "stdout",
     "output_type": "stream",
     "text": [
      " Average training loss: 0.90\n"
     ]
    },
    {
     "name": "stderr",
     "output_type": "stream",
     "text": [
      "100%|████████████████████████████████████████| 121/121 [00:00<00:00, 920.79it/s]\n"
     ]
    },
    {
     "name": "stdout",
     "output_type": "stream",
     "text": [
      " Average valid loss: 0.98\n",
      "AUC_SCORE:  0.4591093117408907  acc:  0.6528925619834711 f1:  0.22222222222222224\n",
      "Test\n"
     ]
    },
    {
     "name": "stderr",
     "output_type": "stream",
     "text": [
      "100%|████████████████████████████████████████| 120/120 [00:00<00:00, 926.00it/s]\n"
     ]
    },
    {
     "name": "stdout",
     "output_type": "stream",
     "text": [
      " Average valid loss: 0.94\n",
      "AUC_SCORE:  0.5043402777777777  acc:  0.7333333333333333 f1:  0.2\n",
      "EPOCHS:16\n",
      "TRAIN\n"
     ]
    },
    {
     "name": "stderr",
     "output_type": "stream",
     "text": [
      "100%|████████████████████████████████████████| 963/963 [00:07<00:00, 120.47it/s]\n"
     ]
    },
    {
     "name": "stdout",
     "output_type": "stream",
     "text": [
      " Average training loss: 0.90\n"
     ]
    },
    {
     "name": "stderr",
     "output_type": "stream",
     "text": [
      "100%|████████████████████████████████████████| 121/121 [00:00<00:00, 930.22it/s]"
     ]
    },
    {
     "name": "stdout",
     "output_type": "stream",
     "text": [
      " Average valid loss: 0.98\n",
      "AUC_SCORE:  0.45668016194331984  acc:  0.6528925619834711 f1:  0.25\n",
      "15  EPOCH BEST MODEL!\n"
     ]
    },
    {
     "name": "stderr",
     "output_type": "stream",
     "text": [
      "\n"
     ]
    },
    {
     "name": "stdout",
     "output_type": "stream",
     "text": [
      "Test\n"
     ]
    },
    {
     "name": "stderr",
     "output_type": "stream",
     "text": [
      "100%|████████████████████████████████████████| 120/120 [00:00<00:00, 877.78it/s]\n"
     ]
    },
    {
     "name": "stdout",
     "output_type": "stream",
     "text": [
      " Average valid loss: 0.94\n",
      "AUC_SCORE:  0.502170138888889  acc:  0.7083333333333334 f1:  0.186046511627907\n",
      "EPOCHS:17\n",
      "TRAIN\n"
     ]
    },
    {
     "name": "stderr",
     "output_type": "stream",
     "text": [
      "100%|████████████████████████████████████████| 963/963 [00:07<00:00, 121.14it/s]\n"
     ]
    },
    {
     "name": "stdout",
     "output_type": "stream",
     "text": [
      " Average training loss: 0.88\n"
     ]
    },
    {
     "name": "stderr",
     "output_type": "stream",
     "text": [
      "100%|████████████████████████████████████████| 121/121 [00:00<00:00, 925.05it/s]\n"
     ]
    },
    {
     "name": "stdout",
     "output_type": "stream",
     "text": [
      " Average valid loss: 0.99\n",
      "AUC_SCORE:  0.4574898785425101  acc:  0.6363636363636364 f1:  0.2903225806451613\n",
      "16  EPOCH BEST MODEL!\n",
      "Test\n"
     ]
    },
    {
     "name": "stderr",
     "output_type": "stream",
     "text": [
      "100%|████████████████████████████████████████| 120/120 [00:00<00:00, 888.21it/s]\n"
     ]
    },
    {
     "name": "stdout",
     "output_type": "stream",
     "text": [
      " Average valid loss: 0.94\n",
      "AUC_SCORE:  0.4986979166666667  acc:  0.7 f1:  0.1818181818181818\n",
      "EPOCHS:18\n",
      "TRAIN\n"
     ]
    },
    {
     "name": "stderr",
     "output_type": "stream",
     "text": [
      "100%|████████████████████████████████████████| 963/963 [00:07<00:00, 120.90it/s]\n"
     ]
    },
    {
     "name": "stdout",
     "output_type": "stream",
     "text": [
      " Average training loss: 0.88\n"
     ]
    },
    {
     "name": "stderr",
     "output_type": "stream",
     "text": [
      "100%|████████████████████████████████████████| 121/121 [00:00<00:00, 927.87it/s]\n"
     ]
    },
    {
     "name": "stdout",
     "output_type": "stream",
     "text": [
      " Average valid loss: 0.99\n",
      "AUC_SCORE:  0.45668016194331984  acc:  0.6115702479338843 f1:  0.276923076923077\n",
      "Test\n"
     ]
    },
    {
     "name": "stderr",
     "output_type": "stream",
     "text": [
      "100%|████████████████████████████████████████| 120/120 [00:00<00:00, 927.87it/s]\n"
     ]
    },
    {
     "name": "stdout",
     "output_type": "stream",
     "text": [
      " Average valid loss: 0.95\n",
      "AUC_SCORE:  0.49999999999999994  acc:  0.6916666666666667 f1:  0.17777777777777778\n",
      "EPOCHS:19\n",
      "TRAIN\n"
     ]
    },
    {
     "name": "stderr",
     "output_type": "stream",
     "text": [
      "100%|████████████████████████████████████████| 963/963 [00:08<00:00, 119.91it/s]\n"
     ]
    },
    {
     "name": "stdout",
     "output_type": "stream",
     "text": [
      " Average training loss: 0.88\n"
     ]
    },
    {
     "name": "stderr",
     "output_type": "stream",
     "text": [
      "100%|████████████████████████████████████████| 121/121 [00:00<00:00, 893.37it/s]\n"
     ]
    },
    {
     "name": "stdout",
     "output_type": "stream",
     "text": [
      " Average valid loss: 0.99\n",
      "AUC_SCORE:  0.457085020242915  acc:  0.6033057851239669 f1:  0.27272727272727276\n",
      "Test\n"
     ]
    },
    {
     "name": "stderr",
     "output_type": "stream",
     "text": [
      "100%|████████████████████████████████████████| 120/120 [00:00<00:00, 932.55it/s]\n"
     ]
    },
    {
     "name": "stdout",
     "output_type": "stream",
     "text": [
      " Average valid loss: 0.95\n",
      "AUC_SCORE:  0.4986979166666667  acc:  0.675 f1:  0.1702127659574468\n",
      "EPOCHS:20\n",
      "TRAIN\n"
     ]
    },
    {
     "name": "stderr",
     "output_type": "stream",
     "text": [
      "100%|████████████████████████████████████████| 963/963 [00:07<00:00, 120.84it/s]\n"
     ]
    },
    {
     "name": "stdout",
     "output_type": "stream",
     "text": [
      " Average training loss: 0.87\n"
     ]
    },
    {
     "name": "stderr",
     "output_type": "stream",
     "text": [
      "100%|████████████████████████████████████████| 121/121 [00:00<00:00, 923.57it/s]"
     ]
    },
    {
     "name": "stdout",
     "output_type": "stream",
     "text": [
      " Average valid loss: 1.00\n",
      "AUC_SCORE:  0.45789473684210524  acc:  0.5950413223140496 f1:  0.30985915492957744\n",
      "19  EPOCH BEST MODEL!\n"
     ]
    },
    {
     "name": "stderr",
     "output_type": "stream",
     "text": [
      "\n"
     ]
    },
    {
     "name": "stdout",
     "output_type": "stream",
     "text": [
      "Test\n"
     ]
    },
    {
     "name": "stderr",
     "output_type": "stream",
     "text": [
      "100%|████████████████████████████████████████| 120/120 [00:00<00:00, 879.31it/s]\n"
     ]
    },
    {
     "name": "stdout",
     "output_type": "stream",
     "text": [
      " Average valid loss: 0.95\n",
      "AUC_SCORE:  0.4995659722222222  acc:  0.6916666666666667 f1:  0.24489795918367346\n",
      "EPOCHS:21\n",
      "TRAIN\n"
     ]
    },
    {
     "name": "stderr",
     "output_type": "stream",
     "text": [
      "100%|████████████████████████████████████████| 963/963 [00:07<00:00, 121.45it/s]\n"
     ]
    },
    {
     "name": "stdout",
     "output_type": "stream",
     "text": [
      " Average training loss: 0.87\n"
     ]
    },
    {
     "name": "stderr",
     "output_type": "stream",
     "text": [
      "100%|████████████████████████████████████████| 121/121 [00:00<00:00, 924.27it/s]\n"
     ]
    },
    {
     "name": "stdout",
     "output_type": "stream",
     "text": [
      " Average valid loss: 1.00\n",
      "AUC_SCORE:  0.45870445344129557  acc:  0.5867768595041323 f1:  0.2857142857142857\n",
      "Test\n"
     ]
    },
    {
     "name": "stderr",
     "output_type": "stream",
     "text": [
      "100%|████████████████████████████████████████| 120/120 [00:00<00:00, 932.18it/s]\n"
     ]
    },
    {
     "name": "stdout",
     "output_type": "stream",
     "text": [
      " Average valid loss: 0.96\n",
      "AUC_SCORE:  0.4973958333333333  acc:  0.6833333333333333 f1:  0.20833333333333334\n",
      "EPOCHS:22\n",
      "TRAIN\n"
     ]
    },
    {
     "name": "stderr",
     "output_type": "stream",
     "text": [
      "100%|████████████████████████████████████████| 963/963 [00:08<00:00, 119.94it/s]\n"
     ]
    },
    {
     "name": "stdout",
     "output_type": "stream",
     "text": [
      " Average training loss: 0.86\n"
     ]
    },
    {
     "name": "stderr",
     "output_type": "stream",
     "text": [
      "100%|████████████████████████████████████████| 121/121 [00:00<00:00, 890.12it/s]\n"
     ]
    },
    {
     "name": "stdout",
     "output_type": "stream",
     "text": [
      " Average valid loss: 1.01\n",
      "AUC_SCORE:  0.46234817813765183  acc:  0.5867768595041323 f1:  0.3055555555555556\n",
      "Test\n"
     ]
    },
    {
     "name": "stderr",
     "output_type": "stream",
     "text": [
      "100%|████████████████████████████████████████| 120/120 [00:00<00:00, 885.63it/s]\n"
     ]
    },
    {
     "name": "stdout",
     "output_type": "stream",
     "text": [
      " Average valid loss: 0.96\n",
      "AUC_SCORE:  0.4973958333333333  acc:  0.675 f1:  0.23529411764705882\n",
      "EPOCHS:23\n",
      "TRAIN\n"
     ]
    },
    {
     "name": "stderr",
     "output_type": "stream",
     "text": [
      "100%|████████████████████████████████████████| 963/963 [00:07<00:00, 120.97it/s]\n"
     ]
    },
    {
     "name": "stdout",
     "output_type": "stream",
     "text": [
      " Average training loss: 0.86\n"
     ]
    },
    {
     "name": "stderr",
     "output_type": "stream",
     "text": [
      "100%|████████████████████████████████████████| 121/121 [00:00<00:00, 935.07it/s]\n"
     ]
    },
    {
     "name": "stdout",
     "output_type": "stream",
     "text": [
      " Average valid loss: 1.01\n",
      "AUC_SCORE:  0.46356275303643724  acc:  0.5950413223140496 f1:  0.30985915492957744\n",
      "Test\n"
     ]
    },
    {
     "name": "stderr",
     "output_type": "stream",
     "text": [
      "100%|████████████████████████████████████████| 120/120 [00:00<00:00, 936.59it/s]\n"
     ]
    },
    {
     "name": "stdout",
     "output_type": "stream",
     "text": [
      " Average valid loss: 0.96\n",
      "AUC_SCORE:  0.49739583333333337  acc:  0.675 f1:  0.23529411764705882\n",
      "EPOCHS:24\n",
      "TRAIN\n"
     ]
    },
    {
     "name": "stderr",
     "output_type": "stream",
     "text": [
      "100%|████████████████████████████████████████| 963/963 [00:07<00:00, 120.40it/s]\n"
     ]
    },
    {
     "name": "stdout",
     "output_type": "stream",
     "text": [
      " Average training loss: 0.84\n"
     ]
    },
    {
     "name": "stderr",
     "output_type": "stream",
     "text": [
      "100%|████████████████████████████████████████| 121/121 [00:00<00:00, 913.60it/s]"
     ]
    },
    {
     "name": "stdout",
     "output_type": "stream",
     "text": [
      " Average valid loss: 1.01\n",
      "AUC_SCORE:  0.4651821862348178  acc:  0.5950413223140496 f1:  0.3287671232876712\n",
      "23  EPOCH BEST MODEL!\n"
     ]
    },
    {
     "name": "stderr",
     "output_type": "stream",
     "text": [
      "\n"
     ]
    },
    {
     "name": "stdout",
     "output_type": "stream",
     "text": [
      "Test\n"
     ]
    },
    {
     "name": "stderr",
     "output_type": "stream",
     "text": [
      "100%|████████████████████████████████████████| 120/120 [00:00<00:00, 865.07it/s]\n"
     ]
    },
    {
     "name": "stdout",
     "output_type": "stream",
     "text": [
      " Average valid loss: 0.97\n",
      "AUC_SCORE:  0.49826388888888884  acc:  0.6666666666666666 f1:  0.23076923076923075\n",
      "EPOCHS:25\n",
      "TRAIN\n"
     ]
    },
    {
     "name": "stderr",
     "output_type": "stream",
     "text": [
      "100%|████████████████████████████████████████| 963/963 [00:08<00:00, 120.04it/s]\n"
     ]
    },
    {
     "name": "stdout",
     "output_type": "stream",
     "text": [
      " Average training loss: 0.84\n"
     ]
    },
    {
     "name": "stderr",
     "output_type": "stream",
     "text": [
      "100%|████████████████████████████████████████| 121/121 [00:00<00:00, 921.24it/s]\n"
     ]
    },
    {
     "name": "stdout",
     "output_type": "stream",
     "text": [
      " Average valid loss: 1.02\n",
      "AUC_SCORE:  0.4668016194331983  acc:  0.5867768595041323 f1:  0.32432432432432434\n",
      "Test\n"
     ]
    },
    {
     "name": "stderr",
     "output_type": "stream",
     "text": [
      "100%|████████████████████████████████████████| 120/120 [00:00<00:00, 919.90it/s]\n"
     ]
    },
    {
     "name": "stdout",
     "output_type": "stream",
     "text": [
      " Average valid loss: 0.97\n",
      "AUC_SCORE:  0.49739583333333326  acc:  0.65 f1:  0.22222222222222224\n",
      "EPOCHS:26\n",
      "TRAIN\n"
     ]
    },
    {
     "name": "stderr",
     "output_type": "stream",
     "text": [
      "100%|████████████████████████████████████████| 963/963 [00:08<00:00, 117.55it/s]\n"
     ]
    },
    {
     "name": "stdout",
     "output_type": "stream",
     "text": [
      " Average training loss: 0.84\n"
     ]
    },
    {
     "name": "stderr",
     "output_type": "stream",
     "text": [
      "100%|████████████████████████████████████████| 121/121 [00:00<00:00, 879.69it/s]\n"
     ]
    },
    {
     "name": "stdout",
     "output_type": "stream",
     "text": [
      " Average valid loss: 1.02\n",
      "AUC_SCORE:  0.46801619433198377  acc:  0.5867768595041323 f1:  0.32432432432432434\n",
      "Test\n"
     ]
    },
    {
     "name": "stderr",
     "output_type": "stream",
     "text": [
      "100%|████████████████████████████████████████| 120/120 [00:00<00:00, 884.60it/s]\n"
     ]
    },
    {
     "name": "stdout",
     "output_type": "stream",
     "text": [
      " Average valid loss: 0.98\n",
      "AUC_SCORE:  0.4956597222222222  acc:  0.65 f1:  0.22222222222222224\n",
      "EPOCHS:27\n",
      "TRAIN\n"
     ]
    },
    {
     "name": "stderr",
     "output_type": "stream",
     "text": [
      "100%|████████████████████████████████████████| 963/963 [00:08<00:00, 119.89it/s]\n"
     ]
    },
    {
     "name": "stdout",
     "output_type": "stream",
     "text": [
      " Average training loss: 0.83\n"
     ]
    },
    {
     "name": "stderr",
     "output_type": "stream",
     "text": [
      "100%|████████████████████████████████████████| 121/121 [00:00<00:00, 915.03it/s]\n"
     ]
    },
    {
     "name": "stdout",
     "output_type": "stream",
     "text": [
      " Average valid loss: 1.03\n",
      "AUC_SCORE:  0.46842105263157896  acc:  0.5785123966942148 f1:  0.32\n",
      "Test\n"
     ]
    },
    {
     "name": "stderr",
     "output_type": "stream",
     "text": [
      "100%|████████████████████████████████████████| 120/120 [00:00<00:00, 909.79it/s]\n"
     ]
    },
    {
     "name": "stdout",
     "output_type": "stream",
     "text": [
      " Average valid loss: 0.98\n",
      "AUC_SCORE:  0.49262152777777773  acc:  0.6333333333333333 f1:  0.2413793103448276\n",
      "EPOCHS:28\n",
      "TRAIN\n"
     ]
    },
    {
     "name": "stderr",
     "output_type": "stream",
     "text": [
      "100%|████████████████████████████████████████| 963/963 [00:08<00:00, 113.12it/s]\n"
     ]
    },
    {
     "name": "stdout",
     "output_type": "stream",
     "text": [
      " Average training loss: 0.82\n"
     ]
    },
    {
     "name": "stderr",
     "output_type": "stream",
     "text": [
      "100%|████████████████████████████████████████| 121/121 [00:00<00:00, 748.89it/s]"
     ]
    },
    {
     "name": "stdout",
     "output_type": "stream",
     "text": [
      " Average valid loss: 1.03\n",
      "AUC_SCORE:  0.4708502024291498  acc:  0.6115702479338843 f1:  0.3380281690140845\n",
      "27  EPOCH BEST MODEL!\n"
     ]
    },
    {
     "name": "stderr",
     "output_type": "stream",
     "text": [
      "\n"
     ]
    },
    {
     "name": "stdout",
     "output_type": "stream",
     "text": [
      "Test\n"
     ]
    },
    {
     "name": "stderr",
     "output_type": "stream",
     "text": [
      "100%|████████████████████████████████████████| 120/120 [00:00<00:00, 892.64it/s]\n"
     ]
    },
    {
     "name": "stdout",
     "output_type": "stream",
     "text": [
      " Average valid loss: 0.99\n",
      "AUC_SCORE:  0.49175347222222215  acc:  0.6583333333333333 f1:  0.2545454545454545\n",
      "EPOCHS:29\n",
      "TRAIN\n"
     ]
    },
    {
     "name": "stderr",
     "output_type": "stream",
     "text": [
      "100%|████████████████████████████████████████| 963/963 [00:08<00:00, 113.18it/s]\n"
     ]
    },
    {
     "name": "stdout",
     "output_type": "stream",
     "text": [
      " Average training loss: 0.81\n"
     ]
    },
    {
     "name": "stderr",
     "output_type": "stream",
     "text": [
      "100%|████████████████████████████████████████| 121/121 [00:00<00:00, 829.25it/s]\n"
     ]
    },
    {
     "name": "stdout",
     "output_type": "stream",
     "text": [
      " Average valid loss: 1.04\n",
      "AUC_SCORE:  0.4688259109311741  acc:  0.5619834710743802 f1:  0.31168831168831174\n",
      "Test\n"
     ]
    },
    {
     "name": "stderr",
     "output_type": "stream",
     "text": [
      "100%|████████████████████████████████████████| 120/120 [00:00<00:00, 839.72it/s]\n"
     ]
    },
    {
     "name": "stdout",
     "output_type": "stream",
     "text": [
      " Average valid loss: 0.99\n",
      "AUC_SCORE:  0.4865451388888889  acc:  0.6 f1:  0.22580645161290325\n",
      "EPOCHS:30\n",
      "TRAIN\n"
     ]
    },
    {
     "name": "stderr",
     "output_type": "stream",
     "text": [
      "100%|████████████████████████████████████████| 963/963 [00:08<00:00, 114.78it/s]\n"
     ]
    },
    {
     "name": "stdout",
     "output_type": "stream",
     "text": [
      " Average training loss: 0.80\n"
     ]
    },
    {
     "name": "stderr",
     "output_type": "stream",
     "text": [
      "100%|████████████████████████████████████████| 121/121 [00:00<00:00, 870.59it/s]\n"
     ]
    },
    {
     "name": "stdout",
     "output_type": "stream",
     "text": [
      " Average valid loss: 1.05\n",
      "AUC_SCORE:  0.47165991902834015  acc:  0.5619834710743802 f1:  0.31168831168831174\n",
      "Test\n"
     ]
    },
    {
     "name": "stderr",
     "output_type": "stream",
     "text": [
      "100%|████████████████████████████████████████| 120/120 [00:00<00:00, 854.04it/s]\n"
     ]
    },
    {
     "name": "stdout",
     "output_type": "stream",
     "text": [
      " Average valid loss: 1.00\n",
      "AUC_SCORE:  0.4852430555555556  acc:  0.5916666666666667 f1:  0.22222222222222224\n",
      "EPOCHS:31\n",
      "TRAIN\n"
     ]
    },
    {
     "name": "stderr",
     "output_type": "stream",
     "text": [
      "100%|████████████████████████████████████████| 963/963 [00:08<00:00, 117.85it/s]\n"
     ]
    },
    {
     "name": "stdout",
     "output_type": "stream",
     "text": [
      " Average training loss: 0.80\n"
     ]
    },
    {
     "name": "stderr",
     "output_type": "stream",
     "text": [
      "100%|████████████████████████████████████████| 121/121 [00:00<00:00, 881.18it/s]\n"
     ]
    },
    {
     "name": "stdout",
     "output_type": "stream",
     "text": [
      " Average valid loss: 1.05\n",
      "AUC_SCORE:  0.4757085020242915  acc:  0.5537190082644629 f1:  0.30769230769230776\n",
      "Test\n"
     ]
    },
    {
     "name": "stderr",
     "output_type": "stream",
     "text": [
      "100%|████████████████████████████████████████| 120/120 [00:00<00:00, 876.19it/s]\n"
     ]
    },
    {
     "name": "stdout",
     "output_type": "stream",
     "text": [
      " Average valid loss: 1.01\n",
      "AUC_SCORE:  0.4869791666666667  acc:  0.5833333333333334 f1:  0.21875\n",
      "EPOCHS:32\n",
      "TRAIN\n"
     ]
    },
    {
     "name": "stderr",
     "output_type": "stream",
     "text": [
      "100%|████████████████████████████████████████| 963/963 [00:08<00:00, 118.24it/s]\n"
     ]
    },
    {
     "name": "stdout",
     "output_type": "stream",
     "text": [
      " Average training loss: 0.79\n"
     ]
    },
    {
     "name": "stderr",
     "output_type": "stream",
     "text": [
      "100%|████████████████████████████████████████| 121/121 [00:00<00:00, 885.35it/s]\n"
     ]
    },
    {
     "name": "stdout",
     "output_type": "stream",
     "text": [
      " Average valid loss: 1.06\n",
      "AUC_SCORE:  0.47408906882591095  acc:  0.5537190082644629 f1:  0.30769230769230776\n",
      "Test\n"
     ]
    },
    {
     "name": "stderr",
     "output_type": "stream",
     "text": [
      "100%|████████████████████████████████████████| 120/120 [00:00<00:00, 888.48it/s]\n"
     ]
    },
    {
     "name": "stdout",
     "output_type": "stream",
     "text": [
      " Average valid loss: 1.01\n",
      "AUC_SCORE:  0.4856770833333333  acc:  0.5833333333333334 f1:  0.21875\n",
      "EPOCHS:33\n",
      "TRAIN\n"
     ]
    },
    {
     "name": "stderr",
     "output_type": "stream",
     "text": [
      "100%|████████████████████████████████████████| 963/963 [00:08<00:00, 116.03it/s]\n"
     ]
    },
    {
     "name": "stdout",
     "output_type": "stream",
     "text": [
      " Average training loss: 0.79\n"
     ]
    },
    {
     "name": "stderr",
     "output_type": "stream",
     "text": [
      "100%|████████████████████████████████████████| 121/121 [00:00<00:00, 834.48it/s]\n"
     ]
    },
    {
     "name": "stdout",
     "output_type": "stream",
     "text": [
      " Average valid loss: 1.07\n",
      "AUC_SCORE:  0.4728744939271255  acc:  0.5537190082644629 f1:  0.30769230769230776\n",
      "Test\n"
     ]
    },
    {
     "name": "stderr",
     "output_type": "stream",
     "text": [
      "100%|████████████████████████████████████████| 120/120 [00:00<00:00, 834.81it/s]\n"
     ]
    },
    {
     "name": "stdout",
     "output_type": "stream",
     "text": [
      " Average valid loss: 1.02\n",
      "AUC_SCORE:  0.4839409722222222  acc:  0.575 f1:  0.21538461538461542\n",
      "EPOCHS:34\n",
      "TRAIN\n"
     ]
    },
    {
     "name": "stderr",
     "output_type": "stream",
     "text": [
      "100%|████████████████████████████████████████| 963/963 [00:08<00:00, 117.47it/s]\n"
     ]
    },
    {
     "name": "stdout",
     "output_type": "stream",
     "text": [
      " Average training loss: 0.78\n"
     ]
    },
    {
     "name": "stderr",
     "output_type": "stream",
     "text": [
      "100%|████████████████████████████████████████| 121/121 [00:00<00:00, 878.40it/s]\n"
     ]
    },
    {
     "name": "stdout",
     "output_type": "stream",
     "text": [
      " Average valid loss: 1.07\n",
      "AUC_SCORE:  0.4736842105263159  acc:  0.5619834710743802 f1:  0.31168831168831174\n",
      "Test\n"
     ]
    },
    {
     "name": "stderr",
     "output_type": "stream",
     "text": [
      "100%|████████████████████████████████████████| 120/120 [00:00<00:00, 876.16it/s]\n"
     ]
    },
    {
     "name": "stdout",
     "output_type": "stream",
     "text": [
      " Average valid loss: 1.02\n",
      "AUC_SCORE:  0.4809027777777778  acc:  0.5916666666666667 f1:  0.22222222222222224\n",
      "EPOCHS:35\n",
      "TRAIN\n"
     ]
    },
    {
     "name": "stderr",
     "output_type": "stream",
     "text": [
      "100%|████████████████████████████████████████| 963/963 [00:08<00:00, 117.99it/s]\n"
     ]
    },
    {
     "name": "stdout",
     "output_type": "stream",
     "text": [
      " Average training loss: 0.77\n"
     ]
    },
    {
     "name": "stderr",
     "output_type": "stream",
     "text": [
      "100%|████████████████████████████████████████| 121/121 [00:00<00:00, 817.80it/s]\n"
     ]
    },
    {
     "name": "stdout",
     "output_type": "stream",
     "text": [
      " Average valid loss: 1.08\n",
      "AUC_SCORE:  0.47530364372469636  acc:  0.5619834710743802 f1:  0.31168831168831174\n",
      "Test\n"
     ]
    },
    {
     "name": "stderr",
     "output_type": "stream",
     "text": [
      "100%|████████████████████████████████████████| 120/120 [00:00<00:00, 882.54it/s]\n"
     ]
    },
    {
     "name": "stdout",
     "output_type": "stream",
     "text": [
      " Average valid loss: 1.03\n",
      "AUC_SCORE:  0.4796006944444445  acc:  0.5833333333333334 f1:  0.21875\n",
      "EPOCHS:36\n",
      "TRAIN\n"
     ]
    },
    {
     "name": "stderr",
     "output_type": "stream",
     "text": [
      "100%|████████████████████████████████████████| 963/963 [00:08<00:00, 114.78it/s]\n"
     ]
    },
    {
     "name": "stdout",
     "output_type": "stream",
     "text": [
      " Average training loss: 0.77\n"
     ]
    },
    {
     "name": "stderr",
     "output_type": "stream",
     "text": [
      "100%|████████████████████████████████████████| 121/121 [00:00<00:00, 885.85it/s]\n"
     ]
    },
    {
     "name": "stdout",
     "output_type": "stream",
     "text": [
      " Average valid loss: 1.08\n",
      "AUC_SCORE:  0.4757085020242915  acc:  0.5619834710743802 f1:  0.31168831168831174\n",
      "Test\n"
     ]
    },
    {
     "name": "stderr",
     "output_type": "stream",
     "text": [
      "100%|████████████████████████████████████████| 120/120 [00:00<00:00, 871.70it/s]\n"
     ]
    },
    {
     "name": "stdout",
     "output_type": "stream",
     "text": [
      " Average valid loss: 1.04\n",
      "AUC_SCORE:  0.4809027777777778  acc:  0.5833333333333334 f1:  0.21875\n",
      "EPOCHS:37\n",
      "TRAIN\n"
     ]
    },
    {
     "name": "stderr",
     "output_type": "stream",
     "text": [
      "100%|████████████████████████████████████████| 963/963 [00:08<00:00, 119.35it/s]\n"
     ]
    },
    {
     "name": "stdout",
     "output_type": "stream",
     "text": [
      " Average training loss: 0.76\n"
     ]
    },
    {
     "name": "stderr",
     "output_type": "stream",
     "text": [
      "100%|████████████████████████████████████████| 121/121 [00:00<00:00, 881.12it/s]\n"
     ]
    },
    {
     "name": "stdout",
     "output_type": "stream",
     "text": [
      " Average valid loss: 1.09\n",
      "AUC_SCORE:  0.47287449392712555  acc:  0.5619834710743802 f1:  0.31168831168831174\n",
      "Test\n"
     ]
    },
    {
     "name": "stderr",
     "output_type": "stream",
     "text": [
      "100%|████████████████████████████████████████| 120/120 [00:00<00:00, 893.31it/s]\n"
     ]
    },
    {
     "name": "stdout",
     "output_type": "stream",
     "text": [
      " Average valid loss: 1.04\n",
      "AUC_SCORE:  0.4835069444444444  acc:  0.5833333333333334 f1:  0.21875\n",
      "EPOCHS:38\n",
      "TRAIN\n"
     ]
    },
    {
     "name": "stderr",
     "output_type": "stream",
     "text": [
      "100%|████████████████████████████████████████| 963/963 [00:08<00:00, 118.92it/s]\n"
     ]
    },
    {
     "name": "stdout",
     "output_type": "stream",
     "text": [
      " Average training loss: 0.74\n"
     ]
    },
    {
     "name": "stderr",
     "output_type": "stream",
     "text": [
      "100%|████████████████████████████████████████| 121/121 [00:00<00:00, 883.15it/s]\n"
     ]
    },
    {
     "name": "stdout",
     "output_type": "stream",
     "text": [
      " Average valid loss: 1.10\n",
      "AUC_SCORE:  0.4724696356275304  acc:  0.5537190082644629 f1:  0.30769230769230776\n",
      "Test\n"
     ]
    },
    {
     "name": "stderr",
     "output_type": "stream",
     "text": [
      "100%|████████████████████████████████████████| 120/120 [00:00<00:00, 878.21it/s]\n"
     ]
    },
    {
     "name": "stdout",
     "output_type": "stream",
     "text": [
      " Average valid loss: 1.05\n",
      "AUC_SCORE:  0.4822048611111111  acc:  0.575 f1:  0.21538461538461542\n",
      "EPOCHS:39\n",
      "TRAIN\n"
     ]
    },
    {
     "name": "stderr",
     "output_type": "stream",
     "text": [
      "100%|████████████████████████████████████████| 963/963 [00:08<00:00, 118.29it/s]\n"
     ]
    },
    {
     "name": "stdout",
     "output_type": "stream",
     "text": [
      " Average training loss: 0.73\n"
     ]
    },
    {
     "name": "stderr",
     "output_type": "stream",
     "text": [
      "100%|████████████████████████████████████████| 121/121 [00:00<00:00, 888.77it/s]\n"
     ]
    },
    {
     "name": "stdout",
     "output_type": "stream",
     "text": [
      " Average valid loss: 1.11\n",
      "AUC_SCORE:  0.47246963562753036  acc:  0.5537190082644629 f1:  0.30769230769230776\n",
      "Test\n"
     ]
    },
    {
     "name": "stderr",
     "output_type": "stream",
     "text": [
      "100%|████████████████████████████████████████| 120/120 [00:00<00:00, 871.33it/s]\n"
     ]
    },
    {
     "name": "stdout",
     "output_type": "stream",
     "text": [
      " Average valid loss: 1.06\n",
      "AUC_SCORE:  0.48307291666666663  acc:  0.5666666666666667 f1:  0.23529411764705885\n",
      "EPOCHS:40\n",
      "TRAIN\n"
     ]
    },
    {
     "name": "stderr",
     "output_type": "stream",
     "text": [
      "100%|████████████████████████████████████████| 963/963 [00:08<00:00, 117.98it/s]\n"
     ]
    },
    {
     "name": "stdout",
     "output_type": "stream",
     "text": [
      " Average training loss: 0.74\n"
     ]
    },
    {
     "name": "stderr",
     "output_type": "stream",
     "text": [
      "100%|████████████████████████████████████████| 121/121 [00:00<00:00, 851.10it/s]\n"
     ]
    },
    {
     "name": "stdout",
     "output_type": "stream",
     "text": [
      " Average valid loss: 1.12\n",
      "AUC_SCORE:  0.4724696356275303  acc:  0.5619834710743802 f1:  0.32911392405063294\n",
      "Test\n"
     ]
    },
    {
     "name": "stderr",
     "output_type": "stream",
     "text": [
      "100%|████████████████████████████████████████| 120/120 [00:00<00:00, 855.74it/s]\n"
     ]
    },
    {
     "name": "stdout",
     "output_type": "stream",
     "text": [
      " Average valid loss: 1.07\n",
      "AUC_SCORE:  0.4835069444444444  acc:  0.5666666666666667 f1:  0.23529411764705885\n"
     ]
    },
    {
     "name": "stderr",
     "output_type": "stream",
     "text": [
      "100%|████████████████████████████████████████| 120/120 [00:00<00:00, 845.57it/s]"
     ]
    },
    {
     "name": "stdout",
     "output_type": "stream",
     "text": [
      " Average valid loss: 0.99\n",
      "AUC_SCORE:  0.49175347222222215  acc:  0.6583333333333333 f1:  0.2545454545454545\n",
      "BEST MODEL\n",
      "AUC_SCORE:  0.49175347222222215  acc:  0.6583333333333333 f1:  0.2545454545454545\n",
      "{'auc_micro': 0.49175347222222215, 'acc': 0.6583333333333333, 'f1': 0.2545454545454545, 'pred': [[0, 0, 0, 0, 1, 0, 0, 0, 0, 1], [0, 0, 0, 0, 0, 0, 1, 1, 1, 0], [0, 0, 0, 0, 0, 0, 0, 0, 1, 0], [1, 0, 1, 0, 0, 0, 1, 0, 1, 1], [0, 0, 0, 0, 1, 0, 0, 1, 1, 0], [0, 0, 0, 0, 1, 1, 1, 0, 1, 0], [1, 0, 1, 0, 1, 0, 0, 0, 0, 0], [0, 1, 0, 0, 0, 0, 1, 1, 0, 0], [0, 0, 1, 0, 0, 0, 0, 0, 0, 0], [1, 0, 0, 0, 0, 0, 0, 0, 0, 0], [0, 0, 0, 0, 1, 1, 0, 1, 0, 0], [1, 0, 1, 0, 0, 0, 0, 0, 0, 0], [], [], [], [], [], [], [], []]}\n"
     ]
    },
    {
     "name": "stderr",
     "output_type": "stream",
     "text": [
      "\n"
     ]
    }
   ],
   "source": [
    "bert2 = BertModel().to('cuda')\n",
    "score = fit(bert2, train_data,valid_data,test_data,EPOCHS=40)\n",
    "print(score)"
   ]
  },
  {
   "cell_type": "code",
   "execution_count": null,
   "id": "230c9393",
   "metadata": {},
   "outputs": [],
   "source": []
  },
  {
   "cell_type": "markdown",
   "id": "71cfbdf3",
   "metadata": {},
   "source": [
    "# 평균 임베딩"
   ]
  },
  {
   "cell_type": "code",
   "execution_count": 106,
   "id": "f1757c53",
   "metadata": {},
   "outputs": [],
   "source": [
    "import pickle\n",
    "with open('emb_avg2.pickle','rb') as fw:\n",
    "    movie_emb = pickle.load(fw)"
   ]
  },
  {
   "cell_type": "code",
   "execution_count": 107,
   "id": "3e9b1d14",
   "metadata": {},
   "outputs": [],
   "source": [
    "path1 = 'word2vec_model_char/'\n",
    "path2 = 'data/scriptbase/'\n",
    "filenames = os.listdir(path1)\n",
    "train_data = []\n",
    "valid_data = []\n",
    "test_data = []\n",
    "end = torch.ones(1,1,384)\n",
    "\n",
    "for filename in filenames:\n",
    "    movie_name = filename[:-14]\n",
    "    cult = 0\n",
    "    with open(path2+movie_name+'/processed/imdb_meta.txt','r') as f:\n",
    "        lines = f.readlines()\n",
    "        for line in lines:\n",
    "            if 'keyword' in line:\n",
    "                try:\n",
    "                    keyword  = line.strip().split('\\t')[1]\n",
    "                    keywords.append(keyword)\n",
    "                except:\n",
    "                    pass\n",
    "                if 'independent film'==keyword:\n",
    "                    cult = 1\n",
    "        \n",
    "    embs = torch.zeros(1,len(movie_emb[movie_name])+1,384)\n",
    "    for i,emb in enumerate(movie_emb[movie_name]):\n",
    "        emb = torch.from_numpy(np.nan_to_num(emb))\n",
    "        embs[0][i] = emb\n",
    "        \n",
    "    embs[0][-1] = end\n",
    "        \n",
    "    if movie_name in movie_split['train']:\n",
    "        train_data.append([embs, [cult]])\n",
    "    elif movie_name in movie_split['valid']:\n",
    "        valid_data.append([embs, [cult]])\n",
    "    \n",
    "    elif movie_name in movie_split['test']:\n",
    "        test_data.append([embs, [cult]])\n",
    "        #valid_data.append([embs, [cult]])"
   ]
  },
  {
   "cell_type": "code",
   "execution_count": 108,
   "id": "c98e5926",
   "metadata": {},
   "outputs": [
    {
     "name": "stdout",
     "output_type": "stream",
     "text": [
      "963\n",
      "121\n",
      "120\n"
     ]
    }
   ],
   "source": [
    "print(len(train_data))\n",
    "print(len(valid_data))\n",
    "print(len(test_data))"
   ]
  },
  {
   "cell_type": "code",
   "execution_count": 109,
   "id": "0057ad3a",
   "metadata": {},
   "outputs": [
    {
     "name": "stdout",
     "output_type": "stream",
     "text": [
      "EPOCHS:1\n",
      "TRAIN\n"
     ]
    },
    {
     "name": "stderr",
     "output_type": "stream",
     "text": [
      "100%|████████████████████████████████████████| 963/963 [00:08<00:00, 114.81it/s]\n"
     ]
    },
    {
     "name": "stdout",
     "output_type": "stream",
     "text": [
      " Average training loss: 0.95\n"
     ]
    },
    {
     "name": "stderr",
     "output_type": "stream",
     "text": [
      "100%|████████████████████████████████████████| 121/121 [00:00<00:00, 754.49it/s]"
     ]
    },
    {
     "name": "stdout",
     "output_type": "stream",
     "text": [
      " Average valid loss: 0.96\n",
      "AUC_SCORE:  0.4291497975708502  acc:  0.7851239669421488 f1:  0.0\n"
     ]
    },
    {
     "name": "stderr",
     "output_type": "stream",
     "text": [
      "\n"
     ]
    },
    {
     "name": "stdout",
     "output_type": "stream",
     "text": [
      "Test\n"
     ]
    },
    {
     "name": "stderr",
     "output_type": "stream",
     "text": [
      "100%|████████████████████████████████████████| 120/120 [00:00<00:00, 800.91it/s]\n"
     ]
    },
    {
     "name": "stdout",
     "output_type": "stream",
     "text": [
      " Average valid loss: 0.93\n",
      "AUC_SCORE:  0.52734375  acc:  0.7916666666666666 f1:  0.0\n",
      "EPOCHS:2\n",
      "TRAIN\n"
     ]
    },
    {
     "name": "stderr",
     "output_type": "stream",
     "text": [
      "100%|████████████████████████████████████████| 963/963 [00:08<00:00, 115.05it/s]\n"
     ]
    },
    {
     "name": "stdout",
     "output_type": "stream",
     "text": [
      " Average training loss: 0.94\n"
     ]
    },
    {
     "name": "stderr",
     "output_type": "stream",
     "text": [
      "100%|████████████████████████████████████████| 121/121 [00:00<00:00, 781.43it/s]\n"
     ]
    },
    {
     "name": "stdout",
     "output_type": "stream",
     "text": [
      " Average valid loss: 0.96\n",
      "AUC_SCORE:  0.43886639676113354  acc:  0.7851239669421488 f1:  0.0\n",
      "Test\n"
     ]
    },
    {
     "name": "stderr",
     "output_type": "stream",
     "text": [
      "100%|████████████████████████████████████████| 120/120 [00:00<00:00, 766.52it/s]\n"
     ]
    },
    {
     "name": "stdout",
     "output_type": "stream",
     "text": [
      " Average valid loss: 0.92\n",
      "AUC_SCORE:  0.5568576388888888  acc:  0.7916666666666666 f1:  0.0\n",
      "EPOCHS:3\n",
      "TRAIN\n"
     ]
    },
    {
     "name": "stderr",
     "output_type": "stream",
     "text": [
      "100%|████████████████████████████████████████| 963/963 [00:08<00:00, 109.05it/s]\n"
     ]
    },
    {
     "name": "stdout",
     "output_type": "stream",
     "text": [
      " Average training loss: 0.93\n"
     ]
    },
    {
     "name": "stderr",
     "output_type": "stream",
     "text": [
      "100%|████████████████████████████████████████| 121/121 [00:00<00:00, 802.50it/s]\n"
     ]
    },
    {
     "name": "stdout",
     "output_type": "stream",
     "text": [
      " Average valid loss: 0.96\n",
      "AUC_SCORE:  0.45668016194331984  acc:  0.7851239669421488 f1:  0.0\n",
      "Test\n"
     ]
    },
    {
     "name": "stderr",
     "output_type": "stream",
     "text": [
      "100%|████████████████████████████████████████| 120/120 [00:00<00:00, 813.19it/s]\n"
     ]
    },
    {
     "name": "stdout",
     "output_type": "stream",
     "text": [
      " Average valid loss: 0.92\n",
      "AUC_SCORE:  0.5724826388888888  acc:  0.7916666666666666 f1:  0.0\n",
      "EPOCHS:4\n",
      "TRAIN\n"
     ]
    },
    {
     "name": "stderr",
     "output_type": "stream",
     "text": [
      "100%|████████████████████████████████████████| 963/963 [00:08<00:00, 117.88it/s]\n"
     ]
    },
    {
     "name": "stdout",
     "output_type": "stream",
     "text": [
      " Average training loss: 0.93\n"
     ]
    },
    {
     "name": "stderr",
     "output_type": "stream",
     "text": [
      "100%|████████████████████████████████████████| 121/121 [00:00<00:00, 760.75it/s]\n"
     ]
    },
    {
     "name": "stdout",
     "output_type": "stream",
     "text": [
      " Average valid loss: 0.96\n",
      "AUC_SCORE:  0.4668016194331984  acc:  0.7851239669421488 f1:  0.0\n",
      "Test\n"
     ]
    },
    {
     "name": "stderr",
     "output_type": "stream",
     "text": [
      "100%|████████████████████████████████████████| 120/120 [00:00<00:00, 807.60it/s]\n"
     ]
    },
    {
     "name": "stdout",
     "output_type": "stream",
     "text": [
      " Average valid loss: 0.92\n",
      "AUC_SCORE:  0.5781249999999999  acc:  0.8 f1:  0.0\n",
      "EPOCHS:5\n",
      "TRAIN\n"
     ]
    },
    {
     "name": "stderr",
     "output_type": "stream",
     "text": [
      "100%|████████████████████████████████████████| 963/963 [00:08<00:00, 117.79it/s]\n"
     ]
    },
    {
     "name": "stdout",
     "output_type": "stream",
     "text": [
      " Average training loss: 0.94\n"
     ]
    },
    {
     "name": "stderr",
     "output_type": "stream",
     "text": [
      "100%|████████████████████████████████████████| 121/121 [00:00<00:00, 800.07it/s]"
     ]
    },
    {
     "name": "stdout",
     "output_type": "stream",
     "text": [
      " Average valid loss: 0.96\n",
      "AUC_SCORE:  0.4720647773279352  acc:  0.7933884297520661 f1:  0.07407407407407407\n",
      "4  EPOCH BEST MODEL!\n"
     ]
    },
    {
     "name": "stderr",
     "output_type": "stream",
     "text": [
      "\n"
     ]
    },
    {
     "name": "stdout",
     "output_type": "stream",
     "text": [
      "Test\n"
     ]
    },
    {
     "name": "stderr",
     "output_type": "stream",
     "text": [
      "100%|████████████████████████████████████████| 120/120 [00:00<00:00, 809.02it/s]\n"
     ]
    },
    {
     "name": "stdout",
     "output_type": "stream",
     "text": [
      " Average valid loss: 0.92\n",
      "AUC_SCORE:  0.5911458333333333  acc:  0.8 f1:  0.0\n",
      "EPOCHS:6\n",
      "TRAIN\n"
     ]
    },
    {
     "name": "stderr",
     "output_type": "stream",
     "text": [
      "100%|████████████████████████████████████████| 963/963 [00:08<00:00, 117.45it/s]\n"
     ]
    },
    {
     "name": "stdout",
     "output_type": "stream",
     "text": [
      " Average training loss: 0.93\n"
     ]
    },
    {
     "name": "stderr",
     "output_type": "stream",
     "text": [
      "100%|████████████████████████████████████████| 121/121 [00:00<00:00, 770.66it/s]\n"
     ]
    },
    {
     "name": "stdout",
     "output_type": "stream",
     "text": [
      " Average valid loss: 0.96\n",
      "AUC_SCORE:  0.4793522267206478  acc:  0.7933884297520661 f1:  0.07407407407407407\n",
      "Test\n"
     ]
    },
    {
     "name": "stderr",
     "output_type": "stream",
     "text": [
      "100%|████████████████████████████████████████| 120/120 [00:00<00:00, 793.83it/s]\n"
     ]
    },
    {
     "name": "stdout",
     "output_type": "stream",
     "text": [
      " Average valid loss: 0.92\n",
      "AUC_SCORE:  0.5967881944444444  acc:  0.8 f1:  0.07692307692307693\n",
      "EPOCHS:7\n",
      "TRAIN\n"
     ]
    },
    {
     "name": "stderr",
     "output_type": "stream",
     "text": [
      "100%|████████████████████████████████████████| 963/963 [00:08<00:00, 117.94it/s]\n"
     ]
    },
    {
     "name": "stdout",
     "output_type": "stream",
     "text": [
      " Average training loss: 0.93\n"
     ]
    },
    {
     "name": "stderr",
     "output_type": "stream",
     "text": [
      "100%|████████████████████████████████████████| 121/121 [00:00<00:00, 793.47it/s]\n"
     ]
    },
    {
     "name": "stdout",
     "output_type": "stream",
     "text": [
      " Average valid loss: 0.96\n",
      "AUC_SCORE:  0.4817813765182186  acc:  0.7933884297520661 f1:  0.07407407407407407\n",
      "Test\n"
     ]
    },
    {
     "name": "stderr",
     "output_type": "stream",
     "text": [
      "100%|████████████████████████████████████████| 120/120 [00:00<00:00, 811.12it/s]\n"
     ]
    },
    {
     "name": "stdout",
     "output_type": "stream",
     "text": [
      " Average valid loss: 0.91\n",
      "AUC_SCORE:  0.6006944444444445  acc:  0.775 f1:  0.12903225806451613\n",
      "EPOCHS:8\n",
      "TRAIN\n"
     ]
    },
    {
     "name": "stderr",
     "output_type": "stream",
     "text": [
      "100%|████████████████████████████████████████| 963/963 [00:08<00:00, 116.81it/s]\n"
     ]
    },
    {
     "name": "stdout",
     "output_type": "stream",
     "text": [
      " Average training loss: 0.92\n"
     ]
    },
    {
     "name": "stderr",
     "output_type": "stream",
     "text": [
      "100%|████████████████████████████████████████| 121/121 [00:00<00:00, 771.64it/s]\n"
     ]
    },
    {
     "name": "stdout",
     "output_type": "stream",
     "text": [
      " Average valid loss: 0.96\n",
      "AUC_SCORE:  0.49271255060728747  acc:  0.7768595041322314 f1:  0.06896551724137931\n",
      "Test\n"
     ]
    },
    {
     "name": "stderr",
     "output_type": "stream",
     "text": [
      "100%|████████████████████████████████████████| 120/120 [00:00<00:00, 775.38it/s]\n"
     ]
    },
    {
     "name": "stdout",
     "output_type": "stream",
     "text": [
      " Average valid loss: 0.91\n",
      "AUC_SCORE:  0.5989583333333333  acc:  0.75 f1:  0.2105263157894737\n",
      "EPOCHS:9\n",
      "TRAIN\n"
     ]
    },
    {
     "name": "stderr",
     "output_type": "stream",
     "text": [
      "100%|████████████████████████████████████████| 963/963 [00:08<00:00, 117.56it/s]\n"
     ]
    },
    {
     "name": "stdout",
     "output_type": "stream",
     "text": [
      " Average training loss: 0.92\n"
     ]
    },
    {
     "name": "stderr",
     "output_type": "stream",
     "text": [
      "100%|████████████████████████████████████████| 121/121 [00:00<00:00, 777.44it/s]\n"
     ]
    },
    {
     "name": "stdout",
     "output_type": "stream",
     "text": [
      " Average valid loss: 0.96\n",
      "AUC_SCORE:  0.5008097165991903  acc:  0.7603305785123967 f1:  0.12121212121212123\n",
      "8  EPOCH BEST MODEL!\n",
      "Test\n"
     ]
    },
    {
     "name": "stderr",
     "output_type": "stream",
     "text": [
      "100%|████████████████████████████████████████| 120/120 [00:00<00:00, 796.62it/s]\n"
     ]
    },
    {
     "name": "stdout",
     "output_type": "stream",
     "text": [
      " Average valid loss: 0.91\n",
      "AUC_SCORE:  0.6002604166666666  acc:  0.7333333333333333 f1:  0.2380952380952381\n",
      "EPOCHS:10\n",
      "TRAIN\n"
     ]
    },
    {
     "name": "stderr",
     "output_type": "stream",
     "text": [
      "100%|████████████████████████████████████████| 963/963 [00:08<00:00, 117.37it/s]\n"
     ]
    },
    {
     "name": "stdout",
     "output_type": "stream",
     "text": [
      " Average training loss: 0.91\n"
     ]
    },
    {
     "name": "stderr",
     "output_type": "stream",
     "text": [
      "100%|████████████████████████████████████████| 121/121 [00:00<00:00, 786.13it/s]"
     ]
    },
    {
     "name": "stdout",
     "output_type": "stream",
     "text": [
      " Average valid loss: 0.96\n",
      "AUC_SCORE:  0.5028340080971659  acc:  0.768595041322314 f1:  0.1764705882352941\n",
      "9  EPOCH BEST MODEL!\n"
     ]
    },
    {
     "name": "stderr",
     "output_type": "stream",
     "text": [
      "\n"
     ]
    },
    {
     "name": "stdout",
     "output_type": "stream",
     "text": [
      "Test\n"
     ]
    },
    {
     "name": "stderr",
     "output_type": "stream",
     "text": [
      "100%|████████████████████████████████████████| 120/120 [00:00<00:00, 801.06it/s]\n"
     ]
    },
    {
     "name": "stdout",
     "output_type": "stream",
     "text": [
      " Average valid loss: 0.91\n",
      "AUC_SCORE:  0.6006944444444444  acc:  0.725 f1:  0.23255813953488372\n",
      "EPOCHS:11\n",
      "TRAIN\n"
     ]
    },
    {
     "name": "stderr",
     "output_type": "stream",
     "text": [
      "100%|████████████████████████████████████████| 963/963 [00:08<00:00, 117.44it/s]\n"
     ]
    },
    {
     "name": "stdout",
     "output_type": "stream",
     "text": [
      " Average training loss: 0.90\n"
     ]
    },
    {
     "name": "stderr",
     "output_type": "stream",
     "text": [
      "100%|████████████████████████████████████████| 121/121 [00:00<00:00, 799.63it/s]"
     ]
    },
    {
     "name": "stdout",
     "output_type": "stream",
     "text": [
      " Average valid loss: 0.96\n",
      "AUC_SCORE:  0.505668016194332  acc:  0.7768595041322314 f1:  0.30769230769230776\n",
      "10  EPOCH BEST MODEL!\n"
     ]
    },
    {
     "name": "stderr",
     "output_type": "stream",
     "text": [
      "\n"
     ]
    },
    {
     "name": "stdout",
     "output_type": "stream",
     "text": [
      "Test\n"
     ]
    },
    {
     "name": "stderr",
     "output_type": "stream",
     "text": [
      "100%|████████████████████████████████████████| 120/120 [00:00<00:00, 801.88it/s]\n"
     ]
    },
    {
     "name": "stdout",
     "output_type": "stream",
     "text": [
      " Average valid loss: 0.91\n",
      "AUC_SCORE:  0.6006944444444444  acc:  0.7333333333333333 f1:  0.30434782608695654\n",
      "EPOCHS:12\n",
      "TRAIN\n"
     ]
    },
    {
     "name": "stderr",
     "output_type": "stream",
     "text": [
      "100%|████████████████████████████████████████| 963/963 [00:08<00:00, 119.69it/s]\n"
     ]
    },
    {
     "name": "stdout",
     "output_type": "stream",
     "text": [
      " Average training loss: 0.91\n"
     ]
    },
    {
     "name": "stderr",
     "output_type": "stream",
     "text": [
      "100%|████████████████████████████████████████| 121/121 [00:00<00:00, 805.93it/s]\n"
     ]
    },
    {
     "name": "stdout",
     "output_type": "stream",
     "text": [
      " Average valid loss: 0.96\n",
      "AUC_SCORE:  0.5080971659919029  acc:  0.7024793388429752 f1:  0.24999999999999994\n",
      "Test\n"
     ]
    },
    {
     "name": "stderr",
     "output_type": "stream",
     "text": [
      "100%|████████████████████████████████████████| 120/120 [00:00<00:00, 817.33it/s]\n"
     ]
    },
    {
     "name": "stdout",
     "output_type": "stream",
     "text": [
      " Average valid loss: 0.91\n",
      "AUC_SCORE:  0.6072048611111112  acc:  0.7 f1:  0.30769230769230765\n",
      "EPOCHS:13\n",
      "TRAIN\n"
     ]
    },
    {
     "name": "stderr",
     "output_type": "stream",
     "text": [
      "100%|████████████████████████████████████████| 963/963 [00:08<00:00, 117.62it/s]\n"
     ]
    },
    {
     "name": "stdout",
     "output_type": "stream",
     "text": [
      " Average training loss: 0.90\n"
     ]
    },
    {
     "name": "stderr",
     "output_type": "stream",
     "text": [
      "100%|████████████████████████████████████████| 121/121 [00:00<00:00, 801.25it/s]\n"
     ]
    },
    {
     "name": "stdout",
     "output_type": "stream",
     "text": [
      " Average valid loss: 0.96\n",
      "AUC_SCORE:  0.5064777327935223  acc:  0.6859504132231405 f1:  0.2692307692307692\n",
      "Test\n"
     ]
    },
    {
     "name": "stderr",
     "output_type": "stream",
     "text": [
      "100%|████████████████████████████████████████| 120/120 [00:00<00:00, 818.27it/s]\n"
     ]
    },
    {
     "name": "stdout",
     "output_type": "stream",
     "text": [
      " Average valid loss: 0.91\n",
      "AUC_SCORE:  0.6063368055555555  acc:  0.6666666666666666 f1:  0.31034482758620696\n",
      "EPOCHS:14\n",
      "TRAIN\n"
     ]
    },
    {
     "name": "stderr",
     "output_type": "stream",
     "text": [
      "100%|████████████████████████████████████████| 963/963 [00:08<00:00, 119.31it/s]\n"
     ]
    },
    {
     "name": "stdout",
     "output_type": "stream",
     "text": [
      " Average training loss: 0.90\n"
     ]
    },
    {
     "name": "stderr",
     "output_type": "stream",
     "text": [
      "100%|████████████████████████████████████████| 121/121 [00:00<00:00, 803.14it/s]\n"
     ]
    },
    {
     "name": "stdout",
     "output_type": "stream",
     "text": [
      " Average valid loss: 0.96\n",
      "AUC_SCORE:  0.5125506072874494  acc:  0.6528925619834711 f1:  0.25\n",
      "Test\n"
     ]
    },
    {
     "name": "stderr",
     "output_type": "stream",
     "text": [
      "100%|████████████████████████████████████████| 120/120 [00:00<00:00, 820.52it/s]\n"
     ]
    },
    {
     "name": "stdout",
     "output_type": "stream",
     "text": [
      " Average valid loss: 0.91\n",
      "AUC_SCORE:  0.6054687499999999  acc:  0.6583333333333333 f1:  0.3278688524590164\n",
      "EPOCHS:15\n",
      "TRAIN\n"
     ]
    },
    {
     "name": "stderr",
     "output_type": "stream",
     "text": [
      "100%|████████████████████████████████████████| 963/963 [00:08<00:00, 118.63it/s]\n"
     ]
    },
    {
     "name": "stdout",
     "output_type": "stream",
     "text": [
      " Average training loss: 0.90\n"
     ]
    },
    {
     "name": "stderr",
     "output_type": "stream",
     "text": [
      "100%|████████████████████████████████████████| 121/121 [00:00<00:00, 776.76it/s]\n"
     ]
    },
    {
     "name": "stdout",
     "output_type": "stream",
     "text": [
      " Average valid loss: 0.97\n",
      "AUC_SCORE:  0.511336032388664  acc:  0.628099173553719 f1:  0.23728813559322037\n",
      "Test\n"
     ]
    },
    {
     "name": "stderr",
     "output_type": "stream",
     "text": [
      "100%|████████████████████████████████████████| 120/120 [00:00<00:00, 793.25it/s]\n"
     ]
    },
    {
     "name": "stdout",
     "output_type": "stream",
     "text": [
      " Average valid loss: 0.91\n",
      "AUC_SCORE:  0.6037326388888888  acc:  0.6583333333333333 f1:  0.3278688524590164\n",
      "EPOCHS:16\n",
      "TRAIN\n"
     ]
    },
    {
     "name": "stderr",
     "output_type": "stream",
     "text": [
      "100%|████████████████████████████████████████| 963/963 [00:08<00:00, 117.10it/s]\n"
     ]
    },
    {
     "name": "stdout",
     "output_type": "stream",
     "text": [
      " Average training loss: 0.89\n"
     ]
    },
    {
     "name": "stderr",
     "output_type": "stream",
     "text": [
      "100%|████████████████████████████████████████| 121/121 [00:00<00:00, 799.17it/s]\n"
     ]
    },
    {
     "name": "stdout",
     "output_type": "stream",
     "text": [
      " Average valid loss: 0.97\n",
      "AUC_SCORE:  0.5129554655870445  acc:  0.6198347107438017 f1:  0.2580645161290323\n",
      "Test\n"
     ]
    },
    {
     "name": "stderr",
     "output_type": "stream",
     "text": [
      "100%|████████████████████████████████████████| 120/120 [00:00<00:00, 820.97it/s]\n"
     ]
    },
    {
     "name": "stdout",
     "output_type": "stream",
     "text": [
      " Average valid loss: 0.91\n",
      "AUC_SCORE:  0.6067708333333334  acc:  0.65 f1:  0.3225806451612903\n",
      "EPOCHS:17\n",
      "TRAIN\n"
     ]
    },
    {
     "name": "stderr",
     "output_type": "stream",
     "text": [
      "100%|████████████████████████████████████████| 963/963 [00:08<00:00, 118.66it/s]\n"
     ]
    },
    {
     "name": "stdout",
     "output_type": "stream",
     "text": [
      " Average training loss: 0.89\n"
     ]
    },
    {
     "name": "stderr",
     "output_type": "stream",
     "text": [
      "100%|████████████████████████████████████████| 121/121 [00:00<00:00, 800.51it/s]\n"
     ]
    },
    {
     "name": "stdout",
     "output_type": "stream",
     "text": [
      " Average valid loss: 0.97\n",
      "AUC_SCORE:  0.5190283400809717  acc:  0.6198347107438017 f1:  0.28125\n",
      "Test\n"
     ]
    },
    {
     "name": "stderr",
     "output_type": "stream",
     "text": [
      "100%|████████████████████████████████████████| 120/120 [00:00<00:00, 821.65it/s]\n"
     ]
    },
    {
     "name": "stdout",
     "output_type": "stream",
     "text": [
      " Average valid loss: 0.91\n",
      "AUC_SCORE:  0.6054687499999999  acc:  0.6333333333333333 f1:  0.3125\n",
      "EPOCHS:18\n",
      "TRAIN\n"
     ]
    },
    {
     "name": "stderr",
     "output_type": "stream",
     "text": [
      "100%|████████████████████████████████████████| 963/963 [00:08<00:00, 118.33it/s]\n"
     ]
    },
    {
     "name": "stdout",
     "output_type": "stream",
     "text": [
      " Average training loss: 0.88\n"
     ]
    },
    {
     "name": "stderr",
     "output_type": "stream",
     "text": [
      "100%|████████████████████████████████████████| 121/121 [00:00<00:00, 794.92it/s]\n"
     ]
    },
    {
     "name": "stdout",
     "output_type": "stream",
     "text": [
      " Average valid loss: 0.97\n",
      "AUC_SCORE:  0.5214574898785426  acc:  0.5950413223140496 f1:  0.2898550724637681\n",
      "Test\n"
     ]
    },
    {
     "name": "stderr",
     "output_type": "stream",
     "text": [
      "100%|████████████████████████████████████████| 120/120 [00:00<00:00, 822.87it/s]\n"
     ]
    },
    {
     "name": "stdout",
     "output_type": "stream",
     "text": [
      " Average valid loss: 0.91\n",
      "AUC_SCORE:  0.6089409722222222  acc:  0.625 f1:  0.3478260869565218\n",
      "EPOCHS:19\n",
      "TRAIN\n"
     ]
    },
    {
     "name": "stderr",
     "output_type": "stream",
     "text": [
      "100%|████████████████████████████████████████| 963/963 [00:08<00:00, 118.58it/s]\n"
     ]
    },
    {
     "name": "stdout",
     "output_type": "stream",
     "text": [
      " Average training loss: 0.87\n"
     ]
    },
    {
     "name": "stderr",
     "output_type": "stream",
     "text": [
      "100%|████████████████████████████████████████| 121/121 [00:00<00:00, 795.03it/s]\n"
     ]
    },
    {
     "name": "stdout",
     "output_type": "stream",
     "text": [
      " Average valid loss: 0.97\n",
      "AUC_SCORE:  0.525506072874494  acc:  0.6198347107438017 f1:  0.28125\n",
      "Test\n"
     ]
    },
    {
     "name": "stderr",
     "output_type": "stream",
     "text": [
      "100%|████████████████████████████████████████| 120/120 [00:00<00:00, 821.20it/s]\n"
     ]
    },
    {
     "name": "stdout",
     "output_type": "stream",
     "text": [
      " Average valid loss: 0.91\n",
      "AUC_SCORE:  0.6085069444444444  acc:  0.6166666666666667 f1:  0.30303030303030304\n",
      "EPOCHS:20\n",
      "TRAIN\n"
     ]
    },
    {
     "name": "stderr",
     "output_type": "stream",
     "text": [
      "100%|████████████████████████████████████████| 963/963 [00:08<00:00, 118.84it/s]\n"
     ]
    },
    {
     "name": "stdout",
     "output_type": "stream",
     "text": [
      " Average training loss: 0.87\n"
     ]
    },
    {
     "name": "stderr",
     "output_type": "stream",
     "text": [
      "100%|████████████████████████████████████████| 121/121 [00:00<00:00, 800.22it/s]\n"
     ]
    },
    {
     "name": "stdout",
     "output_type": "stream",
     "text": [
      " Average valid loss: 0.97\n",
      "AUC_SCORE:  0.5267206477732793  acc:  0.6033057851239669 f1:  0.27272727272727276\n",
      "Test\n"
     ]
    },
    {
     "name": "stderr",
     "output_type": "stream",
     "text": [
      "100%|████████████████████████████████████████| 120/120 [00:00<00:00, 802.85it/s]\n"
     ]
    },
    {
     "name": "stdout",
     "output_type": "stream",
     "text": [
      " Average valid loss: 0.91\n",
      "AUC_SCORE:  0.6089409722222222  acc:  0.625 f1:  0.3283582089552239\n",
      "EPOCHS:21\n",
      "TRAIN\n"
     ]
    },
    {
     "name": "stderr",
     "output_type": "stream",
     "text": [
      "100%|████████████████████████████████████████| 963/963 [00:08<00:00, 117.72it/s]\n"
     ]
    },
    {
     "name": "stdout",
     "output_type": "stream",
     "text": [
      " Average training loss: 0.87\n"
     ]
    },
    {
     "name": "stderr",
     "output_type": "stream",
     "text": [
      "100%|████████████████████████████████████████| 121/121 [00:00<00:00, 793.35it/s]\n"
     ]
    },
    {
     "name": "stdout",
     "output_type": "stream",
     "text": [
      " Average valid loss: 0.98\n",
      "AUC_SCORE:  0.5319838056680162  acc:  0.6033057851239669 f1:  0.27272727272727276\n",
      "Test\n"
     ]
    },
    {
     "name": "stderr",
     "output_type": "stream",
     "text": [
      "100%|████████████████████████████████████████| 120/120 [00:00<00:00, 817.87it/s]\n"
     ]
    },
    {
     "name": "stdout",
     "output_type": "stream",
     "text": [
      " Average valid loss: 0.92\n",
      "AUC_SCORE:  0.6102430555555556  acc:  0.625 f1:  0.3478260869565218\n",
      "EPOCHS:22\n",
      "TRAIN\n"
     ]
    },
    {
     "name": "stderr",
     "output_type": "stream",
     "text": [
      "100%|████████████████████████████████████████| 963/963 [00:08<00:00, 118.04it/s]\n"
     ]
    },
    {
     "name": "stdout",
     "output_type": "stream",
     "text": [
      " Average training loss: 0.86\n"
     ]
    },
    {
     "name": "stderr",
     "output_type": "stream",
     "text": [
      "100%|████████████████████████████████████████| 121/121 [00:00<00:00, 802.78it/s]\n"
     ]
    },
    {
     "name": "stdout",
     "output_type": "stream",
     "text": [
      " Average valid loss: 0.98\n",
      "AUC_SCORE:  0.5348178137651822  acc:  0.6115702479338843 f1:  0.2985074626865672\n",
      "Test\n"
     ]
    },
    {
     "name": "stderr",
     "output_type": "stream",
     "text": [
      "100%|████████████████████████████████████████| 120/120 [00:00<00:00, 809.84it/s]\n"
     ]
    },
    {
     "name": "stdout",
     "output_type": "stream",
     "text": [
      " Average valid loss: 0.92\n",
      "AUC_SCORE:  0.609375  acc:  0.625 f1:  0.3478260869565218\n",
      "EPOCHS:23\n",
      "TRAIN\n"
     ]
    },
    {
     "name": "stderr",
     "output_type": "stream",
     "text": [
      "100%|████████████████████████████████████████| 963/963 [00:08<00:00, 118.26it/s]\n"
     ]
    },
    {
     "name": "stdout",
     "output_type": "stream",
     "text": [
      " Average training loss: 0.86\n"
     ]
    },
    {
     "name": "stderr",
     "output_type": "stream",
     "text": [
      "100%|████████████████████████████████████████| 121/121 [00:00<00:00, 780.89it/s]\n"
     ]
    },
    {
     "name": "stdout",
     "output_type": "stream",
     "text": [
      " Average valid loss: 0.98\n",
      "AUC_SCORE:  0.5376518218623482  acc:  0.6033057851239669 f1:  0.2941176470588235\n",
      "Test\n"
     ]
    },
    {
     "name": "stderr",
     "output_type": "stream",
     "text": [
      "100%|████████████████████████████████████████| 120/120 [00:00<00:00, 796.39it/s]\n"
     ]
    },
    {
     "name": "stdout",
     "output_type": "stream",
     "text": [
      " Average valid loss: 0.92\n",
      "AUC_SCORE:  0.6098090277777778  acc:  0.625 f1:  0.3478260869565218\n",
      "EPOCHS:24\n",
      "TRAIN\n"
     ]
    },
    {
     "name": "stderr",
     "output_type": "stream",
     "text": [
      "100%|████████████████████████████████████████| 963/963 [00:08<00:00, 114.48it/s]\n"
     ]
    },
    {
     "name": "stdout",
     "output_type": "stream",
     "text": [
      " Average training loss: 0.85\n"
     ]
    },
    {
     "name": "stderr",
     "output_type": "stream",
     "text": [
      "100%|████████████████████████████████████████| 121/121 [00:00<00:00, 793.48it/s]\n"
     ]
    },
    {
     "name": "stdout",
     "output_type": "stream",
     "text": [
      " Average valid loss: 0.98\n",
      "AUC_SCORE:  0.5408906882591094  acc:  0.6033057851239669 f1:  0.2941176470588235\n",
      "Test\n"
     ]
    },
    {
     "name": "stderr",
     "output_type": "stream",
     "text": [
      "100%|████████████████████████████████████████| 120/120 [00:00<00:00, 812.01it/s]\n"
     ]
    },
    {
     "name": "stdout",
     "output_type": "stream",
     "text": [
      " Average valid loss: 0.92\n",
      "AUC_SCORE:  0.609375  acc:  0.6 f1:  0.3333333333333333\n",
      "EPOCHS:25\n",
      "TRAIN\n"
     ]
    },
    {
     "name": "stderr",
     "output_type": "stream",
     "text": [
      "100%|████████████████████████████████████████| 963/963 [00:08<00:00, 118.81it/s]\n"
     ]
    },
    {
     "name": "stdout",
     "output_type": "stream",
     "text": [
      " Average training loss: 0.86\n"
     ]
    },
    {
     "name": "stderr",
     "output_type": "stream",
     "text": [
      "100%|████████████████████████████████████████| 121/121 [00:00<00:00, 804.28it/s]\n"
     ]
    },
    {
     "name": "stdout",
     "output_type": "stream",
     "text": [
      " Average valid loss: 0.98\n",
      "AUC_SCORE:  0.5437246963562753  acc:  0.5950413223140496 f1:  0.2898550724637681\n",
      "Test\n"
     ]
    },
    {
     "name": "stderr",
     "output_type": "stream",
     "text": [
      "100%|████████████████████████████████████████| 120/120 [00:00<00:00, 820.59it/s]\n"
     ]
    },
    {
     "name": "stdout",
     "output_type": "stream",
     "text": [
      " Average valid loss: 0.93\n",
      "AUC_SCORE:  0.609375  acc:  0.6 f1:  0.35135135135135137\n",
      "EPOCHS:26\n",
      "TRAIN\n"
     ]
    },
    {
     "name": "stderr",
     "output_type": "stream",
     "text": [
      "100%|████████████████████████████████████████| 963/963 [00:08<00:00, 119.22it/s]\n"
     ]
    },
    {
     "name": "stdout",
     "output_type": "stream",
     "text": [
      " Average training loss: 0.84\n"
     ]
    },
    {
     "name": "stderr",
     "output_type": "stream",
     "text": [
      "100%|████████████████████████████████████████| 121/121 [00:00<00:00, 806.79it/s]\n"
     ]
    },
    {
     "name": "stdout",
     "output_type": "stream",
     "text": [
      " Average valid loss: 0.98\n",
      "AUC_SCORE:  0.5437246963562754  acc:  0.5867768595041323 f1:  0.2857142857142857\n",
      "Test\n"
     ]
    },
    {
     "name": "stderr",
     "output_type": "stream",
     "text": [
      "100%|████████████████████████████████████████| 120/120 [00:00<00:00, 821.33it/s]\n"
     ]
    },
    {
     "name": "stdout",
     "output_type": "stream",
     "text": [
      " Average valid loss: 0.93\n",
      "AUC_SCORE:  0.6106770833333334  acc:  0.6 f1:  0.35135135135135137\n",
      "EPOCHS:27\n",
      "TRAIN\n"
     ]
    },
    {
     "name": "stderr",
     "output_type": "stream",
     "text": [
      "100%|████████████████████████████████████████| 963/963 [00:08<00:00, 119.74it/s]\n"
     ]
    },
    {
     "name": "stdout",
     "output_type": "stream",
     "text": [
      " Average training loss: 0.85\n"
     ]
    },
    {
     "name": "stderr",
     "output_type": "stream",
     "text": [
      "100%|████████████████████████████████████████| 121/121 [00:00<00:00, 806.32it/s]\n"
     ]
    },
    {
     "name": "stdout",
     "output_type": "stream",
     "text": [
      " Average valid loss: 0.98\n",
      "AUC_SCORE:  0.5421052631578948  acc:  0.5785123966942148 f1:  0.2816901408450704\n",
      "Test\n"
     ]
    },
    {
     "name": "stderr",
     "output_type": "stream",
     "text": [
      "100%|████████████████████████████████████████| 120/120 [00:00<00:00, 822.36it/s]\n"
     ]
    },
    {
     "name": "stdout",
     "output_type": "stream",
     "text": [
      " Average valid loss: 0.93\n",
      "AUC_SCORE:  0.6115451388888888  acc:  0.5916666666666667 f1:  0.36363636363636365\n",
      "EPOCHS:28\n",
      "TRAIN\n"
     ]
    },
    {
     "name": "stderr",
     "output_type": "stream",
     "text": [
      "100%|████████████████████████████████████████| 963/963 [00:08<00:00, 120.03it/s]\n"
     ]
    },
    {
     "name": "stdout",
     "output_type": "stream",
     "text": [
      " Average training loss: 0.84\n"
     ]
    },
    {
     "name": "stderr",
     "output_type": "stream",
     "text": [
      "100%|████████████████████████████████████████| 121/121 [00:00<00:00, 811.37it/s]\n"
     ]
    },
    {
     "name": "stdout",
     "output_type": "stream",
     "text": [
      " Average valid loss: 0.98\n",
      "AUC_SCORE:  0.5469635627530365  acc:  0.5867768595041323 f1:  0.2857142857142857\n",
      "Test\n"
     ]
    },
    {
     "name": "stderr",
     "output_type": "stream",
     "text": [
      "100%|████████████████████████████████████████| 120/120 [00:00<00:00, 823.91it/s]\n"
     ]
    },
    {
     "name": "stdout",
     "output_type": "stream",
     "text": [
      " Average valid loss: 0.94\n",
      "AUC_SCORE:  0.6098090277777777  acc:  0.5916666666666667 f1:  0.36363636363636365\n",
      "EPOCHS:29\n",
      "TRAIN\n"
     ]
    },
    {
     "name": "stderr",
     "output_type": "stream",
     "text": [
      "100%|████████████████████████████████████████| 963/963 [00:08<00:00, 119.81it/s]\n"
     ]
    },
    {
     "name": "stdout",
     "output_type": "stream",
     "text": [
      " Average training loss: 0.84\n"
     ]
    },
    {
     "name": "stderr",
     "output_type": "stream",
     "text": [
      "100%|████████████████████████████████████████| 121/121 [00:00<00:00, 808.96it/s]\n"
     ]
    },
    {
     "name": "stdout",
     "output_type": "stream",
     "text": [
      " Average valid loss: 0.99\n",
      "AUC_SCORE:  0.5481781376518219  acc:  0.5867768595041323 f1:  0.2857142857142857\n",
      "Test\n"
     ]
    },
    {
     "name": "stderr",
     "output_type": "stream",
     "text": [
      "100%|████████████████████████████████████████| 120/120 [00:00<00:00, 818.98it/s]\n"
     ]
    },
    {
     "name": "stdout",
     "output_type": "stream",
     "text": [
      " Average valid loss: 0.94\n",
      "AUC_SCORE:  0.6085069444444445  acc:  0.5833333333333334 f1:  0.358974358974359\n",
      "EPOCHS:30\n",
      "TRAIN\n"
     ]
    },
    {
     "name": "stderr",
     "output_type": "stream",
     "text": [
      "100%|████████████████████████████████████████| 963/963 [00:08<00:00, 118.88it/s]\n"
     ]
    },
    {
     "name": "stdout",
     "output_type": "stream",
     "text": [
      " Average training loss: 0.83\n"
     ]
    },
    {
     "name": "stderr",
     "output_type": "stream",
     "text": [
      "100%|████████████████████████████████████████| 121/121 [00:00<00:00, 806.16it/s]\n"
     ]
    },
    {
     "name": "stdout",
     "output_type": "stream",
     "text": [
      " Average valid loss: 0.99\n",
      "AUC_SCORE:  0.5502024291497976  acc:  0.5950413223140496 f1:  0.2898550724637681\n",
      "Test\n"
     ]
    },
    {
     "name": "stderr",
     "output_type": "stream",
     "text": [
      "100%|████████████████████████████████████████| 120/120 [00:00<00:00, 820.82it/s]\n"
     ]
    },
    {
     "name": "stdout",
     "output_type": "stream",
     "text": [
      " Average valid loss: 0.94\n",
      "AUC_SCORE:  0.6098090277777777  acc:  0.5916666666666667 f1:  0.3466666666666666\n",
      "EPOCHS:31\n",
      "TRAIN\n"
     ]
    },
    {
     "name": "stderr",
     "output_type": "stream",
     "text": [
      "100%|████████████████████████████████████████| 963/963 [00:08<00:00, 120.20it/s]\n"
     ]
    },
    {
     "name": "stdout",
     "output_type": "stream",
     "text": [
      " Average training loss: 0.82\n"
     ]
    },
    {
     "name": "stderr",
     "output_type": "stream",
     "text": [
      "100%|████████████████████████████████████████| 121/121 [00:00<00:00, 805.07it/s]"
     ]
    },
    {
     "name": "stdout",
     "output_type": "stream",
     "text": [
      " Average valid loss: 0.99\n",
      "AUC_SCORE:  0.5522267206477733  acc:  0.6033057851239669 f1:  0.3142857142857143\n",
      "30  EPOCH BEST MODEL!\n"
     ]
    },
    {
     "name": "stderr",
     "output_type": "stream",
     "text": [
      "\n"
     ]
    },
    {
     "name": "stdout",
     "output_type": "stream",
     "text": [
      "Test\n"
     ]
    },
    {
     "name": "stderr",
     "output_type": "stream",
     "text": [
      "100%|████████████████████████████████████████| 120/120 [00:00<00:00, 802.25it/s]\n"
     ]
    },
    {
     "name": "stdout",
     "output_type": "stream",
     "text": [
      " Average valid loss: 0.94\n",
      "AUC_SCORE:  0.611111111111111  acc:  0.5916666666666667 f1:  0.36363636363636365\n",
      "EPOCHS:32\n",
      "TRAIN\n"
     ]
    },
    {
     "name": "stderr",
     "output_type": "stream",
     "text": [
      "100%|████████████████████████████████████████| 963/963 [00:07<00:00, 120.40it/s]\n"
     ]
    },
    {
     "name": "stdout",
     "output_type": "stream",
     "text": [
      " Average training loss: 0.82\n"
     ]
    },
    {
     "name": "stderr",
     "output_type": "stream",
     "text": [
      "100%|████████████████████████████████████████| 121/121 [00:00<00:00, 806.03it/s]\n"
     ]
    },
    {
     "name": "stdout",
     "output_type": "stream",
     "text": [
      " Average valid loss: 0.99\n",
      "AUC_SCORE:  0.5554655870445344  acc:  0.5950413223140496 f1:  0.3287671232876712\n",
      "31  EPOCH BEST MODEL!\n",
      "Test\n"
     ]
    },
    {
     "name": "stderr",
     "output_type": "stream",
     "text": [
      "100%|████████████████████████████████████████| 120/120 [00:00<00:00, 820.21it/s]\n"
     ]
    },
    {
     "name": "stdout",
     "output_type": "stream",
     "text": [
      " Average valid loss: 0.95\n",
      "AUC_SCORE:  0.6106770833333333  acc:  0.5916666666666667 f1:  0.36363636363636365\n",
      "EPOCHS:33\n",
      "TRAIN\n"
     ]
    },
    {
     "name": "stderr",
     "output_type": "stream",
     "text": [
      "100%|████████████████████████████████████████| 963/963 [00:08<00:00, 119.66it/s]\n"
     ]
    },
    {
     "name": "stdout",
     "output_type": "stream",
     "text": [
      " Average training loss: 0.83\n"
     ]
    },
    {
     "name": "stderr",
     "output_type": "stream",
     "text": [
      "100%|████████████████████████████████████████| 121/121 [00:00<00:00, 798.03it/s]\n"
     ]
    },
    {
     "name": "stdout",
     "output_type": "stream",
     "text": [
      " Average valid loss: 0.99\n",
      "AUC_SCORE:  0.5595141700404859  acc:  0.5950413223140496 f1:  0.3287671232876712\n",
      "Test\n"
     ]
    },
    {
     "name": "stderr",
     "output_type": "stream",
     "text": [
      "100%|████████████████████████████████████████| 120/120 [00:00<00:00, 822.38it/s]\n"
     ]
    },
    {
     "name": "stdout",
     "output_type": "stream",
     "text": [
      " Average valid loss: 0.95\n",
      "AUC_SCORE:  0.61328125  acc:  0.5833333333333334 f1:  0.358974358974359\n",
      "EPOCHS:34\n",
      "TRAIN\n"
     ]
    },
    {
     "name": "stderr",
     "output_type": "stream",
     "text": [
      "100%|████████████████████████████████████████| 963/963 [00:08<00:00, 118.06it/s]\n"
     ]
    },
    {
     "name": "stdout",
     "output_type": "stream",
     "text": [
      " Average training loss: 0.81\n"
     ]
    },
    {
     "name": "stderr",
     "output_type": "stream",
     "text": [
      "100%|████████████████████████████████████████| 121/121 [00:00<00:00, 793.27it/s]\n"
     ]
    },
    {
     "name": "stdout",
     "output_type": "stream",
     "text": [
      " Average valid loss: 0.99\n",
      "AUC_SCORE:  0.5619433198380567  acc:  0.6115702479338843 f1:  0.3380281690140845\n",
      "33  EPOCH BEST MODEL!\n",
      "Test\n"
     ]
    },
    {
     "name": "stderr",
     "output_type": "stream",
     "text": [
      "100%|████████████████████████████████████████| 120/120 [00:00<00:00, 786.82it/s]\n"
     ]
    },
    {
     "name": "stdout",
     "output_type": "stream",
     "text": [
      " Average valid loss: 0.95\n",
      "AUC_SCORE:  0.6124131944444444  acc:  0.6 f1:  0.3684210526315789\n",
      "EPOCHS:35\n",
      "TRAIN\n"
     ]
    },
    {
     "name": "stderr",
     "output_type": "stream",
     "text": [
      "100%|████████████████████████████████████████| 963/963 [00:08<00:00, 119.54it/s]\n"
     ]
    },
    {
     "name": "stdout",
     "output_type": "stream",
     "text": [
      " Average training loss: 0.81\n"
     ]
    },
    {
     "name": "stderr",
     "output_type": "stream",
     "text": [
      "100%|████████████████████████████████████████| 121/121 [00:00<00:00, 810.13it/s]\n"
     ]
    },
    {
     "name": "stdout",
     "output_type": "stream",
     "text": [
      " Average valid loss: 0.99\n",
      "AUC_SCORE:  0.5663967611336034  acc:  0.5950413223140496 f1:  0.3287671232876712\n",
      "Test\n"
     ]
    },
    {
     "name": "stderr",
     "output_type": "stream",
     "text": [
      "100%|████████████████████████████████████████| 120/120 [00:00<00:00, 823.94it/s]\n"
     ]
    },
    {
     "name": "stdout",
     "output_type": "stream",
     "text": [
      " Average valid loss: 0.96\n",
      "AUC_SCORE:  0.6124131944444444  acc:  0.5916666666666667 f1:  0.36363636363636365\n",
      "EPOCHS:36\n",
      "TRAIN\n"
     ]
    },
    {
     "name": "stderr",
     "output_type": "stream",
     "text": [
      "100%|████████████████████████████████████████| 963/963 [00:07<00:00, 120.93it/s]\n"
     ]
    },
    {
     "name": "stdout",
     "output_type": "stream",
     "text": [
      " Average training loss: 0.80\n"
     ]
    },
    {
     "name": "stderr",
     "output_type": "stream",
     "text": [
      "100%|████████████████████████████████████████| 121/121 [00:00<00:00, 798.08it/s]\n"
     ]
    },
    {
     "name": "stdout",
     "output_type": "stream",
     "text": [
      " Average valid loss: 1.00\n",
      "AUC_SCORE:  0.5704453441295546  acc:  0.5950413223140496 f1:  0.3287671232876712\n",
      "Test\n"
     ]
    },
    {
     "name": "stderr",
     "output_type": "stream",
     "text": [
      "100%|████████████████████████████████████████| 120/120 [00:00<00:00, 821.32it/s]\n"
     ]
    },
    {
     "name": "stdout",
     "output_type": "stream",
     "text": [
      " Average valid loss: 0.96\n",
      "AUC_SCORE:  0.61328125  acc:  0.5916666666666667 f1:  0.36363636363636365\n",
      "EPOCHS:37\n",
      "TRAIN\n"
     ]
    },
    {
     "name": "stderr",
     "output_type": "stream",
     "text": [
      "100%|████████████████████████████████████████| 963/963 [00:08<00:00, 118.90it/s]\n"
     ]
    },
    {
     "name": "stdout",
     "output_type": "stream",
     "text": [
      " Average training loss: 0.81\n"
     ]
    },
    {
     "name": "stderr",
     "output_type": "stream",
     "text": [
      "100%|████████████████████████████████████████| 121/121 [00:00<00:00, 800.11it/s]"
     ]
    },
    {
     "name": "stdout",
     "output_type": "stream",
     "text": [
      " Average valid loss: 1.00\n",
      "AUC_SCORE:  0.5736842105263158  acc:  0.5950413223140496 f1:  0.3466666666666667\n",
      "36  EPOCH BEST MODEL!\n"
     ]
    },
    {
     "name": "stderr",
     "output_type": "stream",
     "text": [
      "\n"
     ]
    },
    {
     "name": "stdout",
     "output_type": "stream",
     "text": [
      "Test\n"
     ]
    },
    {
     "name": "stderr",
     "output_type": "stream",
     "text": [
      "100%|████████████████████████████████████████| 120/120 [00:00<00:00, 796.17it/s]\n"
     ]
    },
    {
     "name": "stdout",
     "output_type": "stream",
     "text": [
      " Average valid loss: 0.96\n",
      "AUC_SCORE:  0.615017361111111  acc:  0.6 f1:  0.3684210526315789\n",
      "EPOCHS:38\n",
      "TRAIN\n"
     ]
    },
    {
     "name": "stderr",
     "output_type": "stream",
     "text": [
      "100%|████████████████████████████████████████| 963/963 [00:08<00:00, 119.29it/s]\n"
     ]
    },
    {
     "name": "stdout",
     "output_type": "stream",
     "text": [
      " Average training loss: 0.81\n"
     ]
    },
    {
     "name": "stderr",
     "output_type": "stream",
     "text": [
      "100%|████████████████████████████████████████| 121/121 [00:00<00:00, 803.79it/s]\n"
     ]
    },
    {
     "name": "stdout",
     "output_type": "stream",
     "text": [
      " Average valid loss: 1.00\n",
      "AUC_SCORE:  0.5761133603238866  acc:  0.6033057851239669 f1:  0.35135135135135137\n",
      "37  EPOCH BEST MODEL!\n",
      "Test\n"
     ]
    },
    {
     "name": "stderr",
     "output_type": "stream",
     "text": [
      "100%|████████████████████████████████████████| 120/120 [00:00<00:00, 796.54it/s]\n"
     ]
    },
    {
     "name": "stdout",
     "output_type": "stream",
     "text": [
      " Average valid loss: 0.96\n",
      "AUC_SCORE:  0.615017361111111  acc:  0.6083333333333333 f1:  0.37333333333333335\n",
      "EPOCHS:39\n",
      "TRAIN\n"
     ]
    },
    {
     "name": "stderr",
     "output_type": "stream",
     "text": [
      "100%|████████████████████████████████████████| 963/963 [00:08<00:00, 118.42it/s]\n"
     ]
    },
    {
     "name": "stdout",
     "output_type": "stream",
     "text": [
      " Average training loss: 0.80\n"
     ]
    },
    {
     "name": "stderr",
     "output_type": "stream",
     "text": [
      "100%|████████████████████████████████████████| 121/121 [00:00<00:00, 803.66it/s]\n"
     ]
    },
    {
     "name": "stdout",
     "output_type": "stream",
     "text": [
      " Average valid loss: 1.00\n",
      "AUC_SCORE:  0.5785425101214575  acc:  0.6033057851239669 f1:  0.35135135135135137\n",
      "Test\n"
     ]
    },
    {
     "name": "stderr",
     "output_type": "stream",
     "text": [
      "100%|████████████████████████████████████████| 120/120 [00:00<00:00, 814.02it/s]\n"
     ]
    },
    {
     "name": "stdout",
     "output_type": "stream",
     "text": [
      " Average valid loss: 0.97\n",
      "AUC_SCORE:  0.6184895833333335  acc:  0.6083333333333333 f1:  0.38961038961038963\n",
      "EPOCHS:40\n",
      "TRAIN\n"
     ]
    },
    {
     "name": "stderr",
     "output_type": "stream",
     "text": [
      "100%|████████████████████████████████████████| 963/963 [00:08<00:00, 120.16it/s]\n"
     ]
    },
    {
     "name": "stdout",
     "output_type": "stream",
     "text": [
      " Average training loss: 0.78\n"
     ]
    },
    {
     "name": "stderr",
     "output_type": "stream",
     "text": [
      "100%|████████████████████████████████████████| 121/121 [00:00<00:00, 804.91it/s]\n"
     ]
    },
    {
     "name": "stdout",
     "output_type": "stream",
     "text": [
      " Average valid loss: 1.00\n",
      "AUC_SCORE:  0.5797570850202429  acc:  0.6033057851239669 f1:  0.35135135135135137\n",
      "Test\n"
     ]
    },
    {
     "name": "stderr",
     "output_type": "stream",
     "text": [
      "100%|████████████████████████████████████████| 120/120 [00:00<00:00, 811.12it/s]\n"
     ]
    },
    {
     "name": "stdout",
     "output_type": "stream",
     "text": [
      " Average valid loss: 0.97\n",
      "AUC_SCORE:  0.6184895833333333  acc:  0.6166666666666667 f1:  0.3947368421052631\n"
     ]
    },
    {
     "name": "stderr",
     "output_type": "stream",
     "text": [
      "100%|████████████████████████████████████████| 120/120 [00:00<00:00, 821.07it/s]"
     ]
    },
    {
     "name": "stdout",
     "output_type": "stream",
     "text": [
      " Average valid loss: 0.96\n",
      "AUC_SCORE:  0.615017361111111  acc:  0.6083333333333333 f1:  0.37333333333333335\n",
      "BEST MODEL\n",
      "AUC_SCORE:  0.615017361111111  acc:  0.6083333333333333 f1:  0.37333333333333335\n",
      "{'auc_micro': 0.615017361111111, 'acc': 0.6083333333333333, 'f1': 0.37333333333333335, 'pred': [[0, 0, 0, 1, 0, 0, 0, 0, 1, 0], [1, 0, 1, 0, 1, 0, 0, 0, 0, 0], [0, 0, 0, 0, 0, 1, 1, 0, 0, 1], [1, 0, 1, 1, 0, 1, 1, 1, 0, 0], [0, 0, 1, 0, 0, 1, 1, 1, 0, 0], [1, 0, 1, 1, 0, 1, 0, 0, 0, 0], [1, 0, 1, 0, 1, 0, 1, 1, 0, 0], [1, 1, 0, 1, 1, 1, 1, 1, 1, 0], [0, 0, 1, 0, 1, 0, 0, 1, 0, 0], [0, 1, 0, 0, 1, 0, 0, 1, 0, 1], [0, 1, 1, 1, 0, 0, 1, 0, 0, 0], [0, 1, 0, 0, 1, 1, 1, 1, 0, 0], [], [], [], [], [], [], [], []]}\n"
     ]
    },
    {
     "name": "stderr",
     "output_type": "stream",
     "text": [
      "\n"
     ]
    }
   ],
   "source": [
    "bert2 = BertModel().to('cuda')\n",
    "score = fit(bert2, train_data,valid_data,test_data,EPOCHS=40)\n",
    "print(score)"
   ]
  },
  {
   "cell_type": "code",
   "execution_count": null,
   "id": "2b0cb061",
   "metadata": {},
   "outputs": [],
   "source": []
  },
  {
   "cell_type": "markdown",
   "id": "d5b645a8",
   "metadata": {},
   "source": [
    "# 그냥 metapath"
   ]
  },
  {
   "cell_type": "code",
   "execution_count": 110,
   "id": "4f63260f",
   "metadata": {},
   "outputs": [],
   "source": [
    "path1 = 'word2vec_model_char/'\n",
    "path2 = 'data/scriptbase/'\n",
    "filenames = os.listdir(path1)\n",
    "train_data = []\n",
    "valid_data = []\n",
    "test_data = []\n",
    "one = 0\n",
    "zero = 0\n",
    "end = torch.ones(1,1,384)\n",
    "\n",
    "for filename in filenames:\n",
    "    genres = []\n",
    "    movie_name = filename[:-14]\n",
    "    cult = 0\n",
    "    with open(path2+movie_name+'/processed/imdb_meta.txt','r') as f:\n",
    "        lines = f.readlines()\n",
    "        for line in lines:\n",
    "            if 'keyword' in line:\n",
    "                try:\n",
    "                    keyword  = line.strip().split('\\t')[1]\n",
    "                    keywords.append(keyword)\n",
    "                except:\n",
    "                    pass\n",
    "                if 'independent film'==keyword:\n",
    "                    cult = 1\n",
    "        \n",
    "    w2v=Word2Vec.load(path1 + filename)\n",
    "    base = 'scene_'\n",
    "    scene_num = 0\n",
    "    max_scene = 0\n",
    "    for node in w2v.wv.index_to_key:\n",
    "        if base in node:\n",
    "            scene_num += 1\n",
    "            if int(node[6:])>max_scene:\n",
    "                max_scene = int(node[6:])\n",
    "    embs = torch.zeros(1,scene_num+1,384)\n",
    "    k = 0\n",
    "    for i in range(1,max_scene+1):\n",
    "        emb_name = base + str(i)\n",
    "        if emb_name in w2v.wv.index_to_key:\n",
    "            emb = w2v.wv[emb_name]\n",
    "            emb = torch.from_numpy(emb)\n",
    "            embs[0][k] = emb\n",
    "            k += 1\n",
    "    embs[0][-1] = end\n",
    "        \n",
    "        \n",
    "    rand = random.randint(0,100)    \n",
    "    if movie_name in movie_split['train']:\n",
    "        train_data.append([embs, [cult]])\n",
    "    elif movie_name in movie_split['valid']:\n",
    "        valid_data.append([embs, [cult]])\n",
    "    \n",
    "    elif movie_name in movie_split['test']:\n",
    "        test_data.append([embs, [cult]])\n",
    "    \n",
    "    if cult:\n",
    "        one += 1\n",
    "    else:\n",
    "        zero += 1"
   ]
  },
  {
   "cell_type": "code",
   "execution_count": 111,
   "id": "55964ff2",
   "metadata": {},
   "outputs": [
    {
     "name": "stdout",
     "output_type": "stream",
     "text": [
      "963\n",
      "121\n",
      "120\n"
     ]
    }
   ],
   "source": [
    "print(len(train_data))\n",
    "print(len(valid_data))\n",
    "print(len(test_data))"
   ]
  },
  {
   "cell_type": "code",
   "execution_count": 112,
   "id": "28fda3b2",
   "metadata": {},
   "outputs": [
    {
     "name": "stdout",
     "output_type": "stream",
     "text": [
      "EPOCHS:1\n",
      "TRAIN\n"
     ]
    },
    {
     "name": "stderr",
     "output_type": "stream",
     "text": [
      "100%|████████████████████████████████████████| 963/963 [00:08<00:00, 118.70it/s]\n"
     ]
    },
    {
     "name": "stdout",
     "output_type": "stream",
     "text": [
      " Average training loss: 0.95\n"
     ]
    },
    {
     "name": "stderr",
     "output_type": "stream",
     "text": [
      "100%|████████████████████████████████████████| 121/121 [00:00<00:00, 828.97it/s]"
     ]
    },
    {
     "name": "stdout",
     "output_type": "stream",
     "text": [
      " Average valid loss: 0.96\n",
      "AUC_SCORE:  0.4279352226720648  acc:  0.7851239669421488 f1:  0.0\n"
     ]
    },
    {
     "name": "stderr",
     "output_type": "stream",
     "text": [
      "\n"
     ]
    },
    {
     "name": "stdout",
     "output_type": "stream",
     "text": [
      "Test\n"
     ]
    },
    {
     "name": "stderr",
     "output_type": "stream",
     "text": [
      "100%|████████████████████████████████████████| 120/120 [00:00<00:00, 814.00it/s]\n"
     ]
    },
    {
     "name": "stdout",
     "output_type": "stream",
     "text": [
      " Average valid loss: 0.92\n",
      "AUC_SCORE:  0.5902777777777778  acc:  0.8 f1:  0.0\n",
      "EPOCHS:2\n",
      "TRAIN\n"
     ]
    },
    {
     "name": "stderr",
     "output_type": "stream",
     "text": [
      "100%|████████████████████████████████████████| 963/963 [00:08<00:00, 120.25it/s]\n"
     ]
    },
    {
     "name": "stdout",
     "output_type": "stream",
     "text": [
      " Average training loss: 0.95\n"
     ]
    },
    {
     "name": "stderr",
     "output_type": "stream",
     "text": [
      "100%|████████████████████████████████████████| 121/121 [00:00<00:00, 839.35it/s]\n"
     ]
    },
    {
     "name": "stdout",
     "output_type": "stream",
     "text": [
      " Average valid loss: 0.96\n",
      "AUC_SCORE:  0.4190283400809717  acc:  0.7851239669421488 f1:  0.0\n",
      "Test\n"
     ]
    },
    {
     "name": "stderr",
     "output_type": "stream",
     "text": [
      "100%|████████████████████████████████████████| 120/120 [00:00<00:00, 861.85it/s]\n"
     ]
    },
    {
     "name": "stdout",
     "output_type": "stream",
     "text": [
      " Average valid loss: 0.92\n",
      "AUC_SCORE:  0.5911458333333333  acc:  0.8 f1:  0.0\n",
      "EPOCHS:3\n",
      "TRAIN\n"
     ]
    },
    {
     "name": "stderr",
     "output_type": "stream",
     "text": [
      "100%|████████████████████████████████████████| 963/963 [00:08<00:00, 120.11it/s]\n"
     ]
    },
    {
     "name": "stdout",
     "output_type": "stream",
     "text": [
      " Average training loss: 0.94\n"
     ]
    },
    {
     "name": "stderr",
     "output_type": "stream",
     "text": [
      "100%|████████████████████████████████████████| 121/121 [00:00<00:00, 839.81it/s]\n"
     ]
    },
    {
     "name": "stdout",
     "output_type": "stream",
     "text": [
      " Average valid loss: 0.96\n",
      "AUC_SCORE:  0.422672064777328  acc:  0.7851239669421488 f1:  0.0\n",
      "Test\n"
     ]
    },
    {
     "name": "stderr",
     "output_type": "stream",
     "text": [
      "100%|████████████████████████████████████████| 120/120 [00:00<00:00, 852.93it/s]\n"
     ]
    },
    {
     "name": "stdout",
     "output_type": "stream",
     "text": [
      " Average valid loss: 0.92\n",
      "AUC_SCORE:  0.5989583333333333  acc:  0.8 f1:  0.0\n",
      "EPOCHS:4\n",
      "TRAIN\n"
     ]
    },
    {
     "name": "stderr",
     "output_type": "stream",
     "text": [
      "100%|████████████████████████████████████████| 963/963 [00:07<00:00, 120.46it/s]\n"
     ]
    },
    {
     "name": "stdout",
     "output_type": "stream",
     "text": [
      " Average training loss: 0.94\n"
     ]
    },
    {
     "name": "stderr",
     "output_type": "stream",
     "text": [
      "100%|████████████████████████████████████████| 121/121 [00:00<00:00, 834.00it/s]\n"
     ]
    },
    {
     "name": "stdout",
     "output_type": "stream",
     "text": [
      " Average valid loss: 0.96\n",
      "AUC_SCORE:  0.4174089068825911  acc:  0.7851239669421488 f1:  0.0\n",
      "Test\n"
     ]
    },
    {
     "name": "stderr",
     "output_type": "stream",
     "text": [
      "100%|████████████████████████████████████████| 120/120 [00:00<00:00, 855.69it/s]\n"
     ]
    },
    {
     "name": "stdout",
     "output_type": "stream",
     "text": [
      " Average valid loss: 0.92\n",
      "AUC_SCORE:  0.59765625  acc:  0.8 f1:  0.0\n",
      "EPOCHS:5\n",
      "TRAIN\n"
     ]
    },
    {
     "name": "stderr",
     "output_type": "stream",
     "text": [
      "100%|████████████████████████████████████████| 963/963 [00:07<00:00, 120.62it/s]\n"
     ]
    },
    {
     "name": "stdout",
     "output_type": "stream",
     "text": [
      " Average training loss: 0.94\n"
     ]
    },
    {
     "name": "stderr",
     "output_type": "stream",
     "text": [
      "100%|████████████████████████████████████████| 121/121 [00:00<00:00, 839.74it/s]\n"
     ]
    },
    {
     "name": "stdout",
     "output_type": "stream",
     "text": [
      " Average valid loss: 0.96\n",
      "AUC_SCORE:  0.41902834008097173  acc:  0.7851239669421488 f1:  0.0\n",
      "Test\n"
     ]
    },
    {
     "name": "stderr",
     "output_type": "stream",
     "text": [
      "100%|████████████████████████████████████████| 120/120 [00:00<00:00, 863.62it/s]\n"
     ]
    },
    {
     "name": "stdout",
     "output_type": "stream",
     "text": [
      " Average valid loss: 0.92\n",
      "AUC_SCORE:  0.6011284722222222  acc:  0.8 f1:  0.0\n",
      "EPOCHS:6\n",
      "TRAIN\n"
     ]
    },
    {
     "name": "stderr",
     "output_type": "stream",
     "text": [
      "100%|████████████████████████████████████████| 963/963 [00:07<00:00, 121.20it/s]\n"
     ]
    },
    {
     "name": "stdout",
     "output_type": "stream",
     "text": [
      " Average training loss: 0.93\n"
     ]
    },
    {
     "name": "stderr",
     "output_type": "stream",
     "text": [
      "100%|████████████████████████████████████████| 121/121 [00:00<00:00, 835.31it/s]\n"
     ]
    },
    {
     "name": "stdout",
     "output_type": "stream",
     "text": [
      " Average valid loss: 0.96\n",
      "AUC_SCORE:  0.42793522267206474  acc:  0.7851239669421488 f1:  0.0\n",
      "Test\n"
     ]
    },
    {
     "name": "stderr",
     "output_type": "stream",
     "text": [
      "100%|████████████████████████████████████████| 120/120 [00:00<00:00, 861.51it/s]\n"
     ]
    },
    {
     "name": "stdout",
     "output_type": "stream",
     "text": [
      " Average valid loss: 0.92\n",
      "AUC_SCORE:  0.5933159722222222  acc:  0.8 f1:  0.0\n",
      "EPOCHS:7\n",
      "TRAIN\n"
     ]
    },
    {
     "name": "stderr",
     "output_type": "stream",
     "text": [
      "100%|████████████████████████████████████████| 963/963 [00:08<00:00, 119.75it/s]\n"
     ]
    },
    {
     "name": "stdout",
     "output_type": "stream",
     "text": [
      " Average training loss: 0.93\n"
     ]
    },
    {
     "name": "stderr",
     "output_type": "stream",
     "text": [
      "100%|████████████████████████████████████████| 121/121 [00:00<00:00, 835.25it/s]\n"
     ]
    },
    {
     "name": "stdout",
     "output_type": "stream",
     "text": [
      " Average valid loss: 0.96\n",
      "AUC_SCORE:  0.4356275303643724  acc:  0.7851239669421488 f1:  0.0\n",
      "Test\n"
     ]
    },
    {
     "name": "stderr",
     "output_type": "stream",
     "text": [
      "100%|████████████████████████████████████████| 120/120 [00:00<00:00, 859.72it/s]\n"
     ]
    },
    {
     "name": "stdout",
     "output_type": "stream",
     "text": [
      " Average valid loss: 0.92\n",
      "AUC_SCORE:  0.5876736111111112  acc:  0.8 f1:  0.0\n",
      "EPOCHS:8\n",
      "TRAIN\n"
     ]
    },
    {
     "name": "stderr",
     "output_type": "stream",
     "text": [
      "100%|████████████████████████████████████████| 963/963 [00:08<00:00, 119.73it/s]\n"
     ]
    },
    {
     "name": "stdout",
     "output_type": "stream",
     "text": [
      " Average training loss: 0.93\n"
     ]
    },
    {
     "name": "stderr",
     "output_type": "stream",
     "text": [
      "100%|████████████████████████████████████████| 121/121 [00:00<00:00, 838.29it/s]\n"
     ]
    },
    {
     "name": "stdout",
     "output_type": "stream",
     "text": [
      " Average valid loss: 0.97\n",
      "AUC_SCORE:  0.4388663967611336  acc:  0.7768595041322314 f1:  0.0\n",
      "Test\n"
     ]
    },
    {
     "name": "stderr",
     "output_type": "stream",
     "text": [
      "100%|████████████████████████████████████████| 120/120 [00:00<00:00, 849.80it/s]\n"
     ]
    },
    {
     "name": "stdout",
     "output_type": "stream",
     "text": [
      " Average valid loss: 0.92\n",
      "AUC_SCORE:  0.5902777777777777  acc:  0.8 f1:  0.07692307692307693\n",
      "EPOCHS:9\n",
      "TRAIN\n"
     ]
    },
    {
     "name": "stderr",
     "output_type": "stream",
     "text": [
      "100%|████████████████████████████████████████| 963/963 [00:08<00:00, 118.54it/s]\n"
     ]
    },
    {
     "name": "stdout",
     "output_type": "stream",
     "text": [
      " Average training loss: 0.92\n"
     ]
    },
    {
     "name": "stderr",
     "output_type": "stream",
     "text": [
      "100%|████████████████████████████████████████| 121/121 [00:00<00:00, 825.39it/s]\n"
     ]
    },
    {
     "name": "stdout",
     "output_type": "stream",
     "text": [
      " Average valid loss: 0.97\n",
      "AUC_SCORE:  0.4396761133603239  acc:  0.7768595041322314 f1:  0.06896551724137931\n",
      "8  EPOCH BEST MODEL!\n",
      "Test\n"
     ]
    },
    {
     "name": "stderr",
     "output_type": "stream",
     "text": [
      "100%|████████████████████████████████████████| 120/120 [00:00<00:00, 826.17it/s]\n"
     ]
    },
    {
     "name": "stdout",
     "output_type": "stream",
     "text": [
      " Average valid loss: 0.92\n",
      "AUC_SCORE:  0.5928819444444444  acc:  0.8 f1:  0.14285714285714285\n",
      "EPOCHS:10\n",
      "TRAIN\n"
     ]
    },
    {
     "name": "stderr",
     "output_type": "stream",
     "text": [
      "100%|████████████████████████████████████████| 963/963 [00:08<00:00, 117.97it/s]\n"
     ]
    },
    {
     "name": "stdout",
     "output_type": "stream",
     "text": [
      " Average training loss: 0.92\n"
     ]
    },
    {
     "name": "stderr",
     "output_type": "stream",
     "text": [
      "100%|████████████████████████████████████████| 121/121 [00:00<00:00, 830.83it/s]\n"
     ]
    },
    {
     "name": "stdout",
     "output_type": "stream",
     "text": [
      " Average valid loss: 0.97\n",
      "AUC_SCORE:  0.4445344129554656  acc:  0.7603305785123967 f1:  0.06451612903225806\n",
      "Test\n"
     ]
    },
    {
     "name": "stderr",
     "output_type": "stream",
     "text": [
      "100%|████████████████████████████████████████| 120/120 [00:00<00:00, 846.03it/s]\n"
     ]
    },
    {
     "name": "stdout",
     "output_type": "stream",
     "text": [
      " Average valid loss: 0.91\n",
      "AUC_SCORE:  0.5881076388888888  acc:  0.7833333333333333 f1:  0.1875\n",
      "EPOCHS:11\n",
      "TRAIN\n"
     ]
    },
    {
     "name": "stderr",
     "output_type": "stream",
     "text": [
      "100%|████████████████████████████████████████| 963/963 [00:08<00:00, 116.66it/s]\n"
     ]
    },
    {
     "name": "stdout",
     "output_type": "stream",
     "text": [
      " Average training loss: 0.92\n"
     ]
    },
    {
     "name": "stderr",
     "output_type": "stream",
     "text": [
      "100%|████████████████████████████████████████| 121/121 [00:00<00:00, 827.08it/s]\n"
     ]
    },
    {
     "name": "stdout",
     "output_type": "stream",
     "text": [
      " Average valid loss: 0.97\n",
      "AUC_SCORE:  0.4506072874493927  acc:  0.7603305785123967 f1:  0.06451612903225806\n",
      "Test\n"
     ]
    },
    {
     "name": "stderr",
     "output_type": "stream",
     "text": [
      "100%|████████████████████████████████████████| 120/120 [00:00<00:00, 824.95it/s]\n"
     ]
    },
    {
     "name": "stdout",
     "output_type": "stream",
     "text": [
      " Average valid loss: 0.91\n",
      "AUC_SCORE:  0.5885416666666666  acc:  0.7583333333333333 f1:  0.17142857142857143\n",
      "EPOCHS:12\n",
      "TRAIN\n"
     ]
    },
    {
     "name": "stderr",
     "output_type": "stream",
     "text": [
      "100%|████████████████████████████████████████| 963/963 [00:08<00:00, 118.83it/s]\n"
     ]
    },
    {
     "name": "stdout",
     "output_type": "stream",
     "text": [
      " Average training loss: 0.92\n"
     ]
    },
    {
     "name": "stderr",
     "output_type": "stream",
     "text": [
      "100%|████████████████████████████████████████| 121/121 [00:00<00:00, 834.53it/s]\n"
     ]
    },
    {
     "name": "stdout",
     "output_type": "stream",
     "text": [
      " Average valid loss: 0.97\n",
      "AUC_SCORE:  0.45222672064777325  acc:  0.743801652892562 f1:  0.1142857142857143\n",
      "11  EPOCH BEST MODEL!\n",
      "Test\n"
     ]
    },
    {
     "name": "stderr",
     "output_type": "stream",
     "text": [
      "100%|████████████████████████████████████████| 120/120 [00:00<00:00, 815.38it/s]\n"
     ]
    },
    {
     "name": "stdout",
     "output_type": "stream",
     "text": [
      " Average valid loss: 0.91\n",
      "AUC_SCORE:  0.587673611111111  acc:  0.7166666666666667 f1:  0.15\n",
      "EPOCHS:13\n",
      "TRAIN\n"
     ]
    },
    {
     "name": "stderr",
     "output_type": "stream",
     "text": [
      "100%|████████████████████████████████████████| 963/963 [00:07<00:00, 120.71it/s]\n"
     ]
    },
    {
     "name": "stdout",
     "output_type": "stream",
     "text": [
      " Average training loss: 0.91\n"
     ]
    },
    {
     "name": "stderr",
     "output_type": "stream",
     "text": [
      "100%|████████████████████████████████████████| 121/121 [00:00<00:00, 836.58it/s]\n"
     ]
    },
    {
     "name": "stdout",
     "output_type": "stream",
     "text": [
      " Average valid loss: 0.97\n",
      "AUC_SCORE:  0.4534412955465587  acc:  0.71900826446281 f1:  0.10526315789473684\n",
      "Test\n"
     ]
    },
    {
     "name": "stderr",
     "output_type": "stream",
     "text": [
      "100%|████████████████████████████████████████| 120/120 [00:00<00:00, 851.51it/s]\n"
     ]
    },
    {
     "name": "stdout",
     "output_type": "stream",
     "text": [
      " Average valid loss: 0.91\n",
      "AUC_SCORE:  0.5889756944444444  acc:  0.7 f1:  0.14285714285714288\n",
      "EPOCHS:14\n",
      "TRAIN\n"
     ]
    },
    {
     "name": "stderr",
     "output_type": "stream",
     "text": [
      "100%|████████████████████████████████████████| 963/963 [00:07<00:00, 120.45it/s]\n"
     ]
    },
    {
     "name": "stdout",
     "output_type": "stream",
     "text": [
      " Average training loss: 0.91\n"
     ]
    },
    {
     "name": "stderr",
     "output_type": "stream",
     "text": [
      "100%|████████████████████████████████████████| 121/121 [00:00<00:00, 831.47it/s]\n"
     ]
    },
    {
     "name": "stdout",
     "output_type": "stream",
     "text": [
      " Average valid loss: 0.97\n",
      "AUC_SCORE:  0.46072874493927124  acc:  0.6942148760330579 f1:  0.17777777777777778\n",
      "13  EPOCH BEST MODEL!\n",
      "Test\n"
     ]
    },
    {
     "name": "stderr",
     "output_type": "stream",
     "text": [
      "100%|████████████████████████████████████████| 120/120 [00:00<00:00, 821.86it/s]\n"
     ]
    },
    {
     "name": "stdout",
     "output_type": "stream",
     "text": [
      " Average valid loss: 0.91\n",
      "AUC_SCORE:  0.59375  acc:  0.7166666666666667 f1:  0.22727272727272727\n",
      "EPOCHS:15\n",
      "TRAIN\n"
     ]
    },
    {
     "name": "stderr",
     "output_type": "stream",
     "text": [
      "100%|████████████████████████████████████████| 963/963 [00:07<00:00, 120.38it/s]\n"
     ]
    },
    {
     "name": "stdout",
     "output_type": "stream",
     "text": [
      " Average training loss: 0.90\n"
     ]
    },
    {
     "name": "stderr",
     "output_type": "stream",
     "text": [
      "100%|████████████████████████████████████████| 121/121 [00:00<00:00, 831.42it/s]\n"
     ]
    },
    {
     "name": "stdout",
     "output_type": "stream",
     "text": [
      " Average valid loss: 0.98\n",
      "AUC_SCORE:  0.46234817813765183  acc:  0.6859504132231405 f1:  0.17391304347826086\n",
      "Test\n"
     ]
    },
    {
     "name": "stderr",
     "output_type": "stream",
     "text": [
      "100%|████████████████████████████████████████| 120/120 [00:00<00:00, 853.61it/s]\n"
     ]
    },
    {
     "name": "stdout",
     "output_type": "stream",
     "text": [
      " Average valid loss: 0.91\n",
      "AUC_SCORE:  0.5933159722222223  acc:  0.7083333333333334 f1:  0.22222222222222224\n",
      "EPOCHS:16\n",
      "TRAIN\n"
     ]
    },
    {
     "name": "stderr",
     "output_type": "stream",
     "text": [
      "100%|████████████████████████████████████████| 963/963 [00:07<00:00, 120.83it/s]\n"
     ]
    },
    {
     "name": "stdout",
     "output_type": "stream",
     "text": [
      " Average training loss: 0.89\n"
     ]
    },
    {
     "name": "stderr",
     "output_type": "stream",
     "text": [
      "100%|████████████████████████████████████████| 121/121 [00:00<00:00, 827.82it/s]\n"
     ]
    },
    {
     "name": "stdout",
     "output_type": "stream",
     "text": [
      " Average valid loss: 0.98\n",
      "AUC_SCORE:  0.46639676113360323  acc:  0.6611570247933884 f1:  0.19607843137254902\n",
      "15  EPOCH BEST MODEL!\n",
      "Test\n"
     ]
    },
    {
     "name": "stderr",
     "output_type": "stream",
     "text": [
      "100%|████████████████████████████████████████| 120/120 [00:00<00:00, 812.45it/s]\n"
     ]
    },
    {
     "name": "stdout",
     "output_type": "stream",
     "text": [
      " Average valid loss: 0.91\n",
      "AUC_SCORE:  0.5946180555555556  acc:  0.6583333333333333 f1:  0.19607843137254902\n",
      "EPOCHS:17\n",
      "TRAIN\n"
     ]
    },
    {
     "name": "stderr",
     "output_type": "stream",
     "text": [
      "100%|████████████████████████████████████████| 963/963 [00:08<00:00, 119.06it/s]\n"
     ]
    },
    {
     "name": "stdout",
     "output_type": "stream",
     "text": [
      " Average training loss: 0.89\n"
     ]
    },
    {
     "name": "stderr",
     "output_type": "stream",
     "text": [
      "100%|████████████████████████████████████████| 121/121 [00:00<00:00, 834.41it/s]"
     ]
    },
    {
     "name": "stdout",
     "output_type": "stream",
     "text": [
      " Average valid loss: 0.98\n",
      "AUC_SCORE:  0.4672064777327935  acc:  0.6446280991735537 f1:  0.21818181818181817\n",
      "16  EPOCH BEST MODEL!\n"
     ]
    },
    {
     "name": "stderr",
     "output_type": "stream",
     "text": [
      "\n"
     ]
    },
    {
     "name": "stdout",
     "output_type": "stream",
     "text": [
      "Test\n"
     ]
    },
    {
     "name": "stderr",
     "output_type": "stream",
     "text": [
      "100%|████████████████████████████████████████| 120/120 [00:00<00:00, 807.58it/s]\n"
     ]
    },
    {
     "name": "stdout",
     "output_type": "stream",
     "text": [
      " Average valid loss: 0.91\n",
      "AUC_SCORE:  0.5967881944444444  acc:  0.6416666666666667 f1:  0.2456140350877193\n",
      "EPOCHS:18\n",
      "TRAIN\n"
     ]
    },
    {
     "name": "stderr",
     "output_type": "stream",
     "text": [
      "100%|████████████████████████████████████████| 963/963 [00:08<00:00, 117.80it/s]\n"
     ]
    },
    {
     "name": "stdout",
     "output_type": "stream",
     "text": [
      " Average training loss: 0.89\n"
     ]
    },
    {
     "name": "stderr",
     "output_type": "stream",
     "text": [
      "100%|████████████████████████████████████████| 121/121 [00:00<00:00, 828.83it/s]\n"
     ]
    },
    {
     "name": "stdout",
     "output_type": "stream",
     "text": [
      " Average valid loss: 0.98\n",
      "AUC_SCORE:  0.4716599190283401  acc:  0.6528925619834711 f1:  0.22222222222222224\n",
      "17  EPOCH BEST MODEL!\n",
      "Test\n"
     ]
    },
    {
     "name": "stderr",
     "output_type": "stream",
     "text": [
      "100%|████████████████████████████████████████| 120/120 [00:00<00:00, 824.23it/s]\n"
     ]
    },
    {
     "name": "stdout",
     "output_type": "stream",
     "text": [
      " Average valid loss: 0.90\n",
      "AUC_SCORE:  0.6002604166666666  acc:  0.6416666666666667 f1:  0.21818181818181817\n",
      "EPOCHS:19\n",
      "TRAIN\n"
     ]
    },
    {
     "name": "stderr",
     "output_type": "stream",
     "text": [
      "100%|████████████████████████████████████████| 963/963 [00:08<00:00, 118.26it/s]\n"
     ]
    },
    {
     "name": "stdout",
     "output_type": "stream",
     "text": [
      " Average training loss: 0.89\n"
     ]
    },
    {
     "name": "stderr",
     "output_type": "stream",
     "text": [
      "100%|████████████████████████████████████████| 121/121 [00:00<00:00, 829.47it/s]\n"
     ]
    },
    {
     "name": "stdout",
     "output_type": "stream",
     "text": [
      " Average valid loss: 0.99\n",
      "AUC_SCORE:  0.4700404858299595  acc:  0.6363636363636364 f1:  0.21428571428571427\n",
      "Test\n"
     ]
    },
    {
     "name": "stderr",
     "output_type": "stream",
     "text": [
      "100%|████████████████████████████████████████| 120/120 [00:00<00:00, 853.69it/s]\n"
     ]
    },
    {
     "name": "stdout",
     "output_type": "stream",
     "text": [
      " Average valid loss: 0.90\n",
      "AUC_SCORE:  0.599826388888889  acc:  0.65 f1:  0.27586206896551724\n",
      "EPOCHS:20\n",
      "TRAIN\n"
     ]
    },
    {
     "name": "stderr",
     "output_type": "stream",
     "text": [
      "100%|████████████████████████████████████████| 963/963 [00:08<00:00, 118.16it/s]\n"
     ]
    },
    {
     "name": "stdout",
     "output_type": "stream",
     "text": [
      " Average training loss: 0.88\n"
     ]
    },
    {
     "name": "stderr",
     "output_type": "stream",
     "text": [
      "100%|████████████████████████████████████████| 121/121 [00:00<00:00, 837.11it/s]"
     ]
    },
    {
     "name": "stdout",
     "output_type": "stream",
     "text": [
      " Average valid loss: 0.99\n",
      "AUC_SCORE:  0.47530364372469636  acc:  0.6198347107438017 f1:  0.23333333333333334\n",
      "19  EPOCH BEST MODEL!\n"
     ]
    },
    {
     "name": "stderr",
     "output_type": "stream",
     "text": [
      "\n"
     ]
    },
    {
     "name": "stdout",
     "output_type": "stream",
     "text": [
      "Test\n"
     ]
    },
    {
     "name": "stderr",
     "output_type": "stream",
     "text": [
      "100%|████████████████████████████████████████| 120/120 [00:00<00:00, 833.18it/s]\n"
     ]
    },
    {
     "name": "stdout",
     "output_type": "stream",
     "text": [
      " Average valid loss: 0.90\n",
      "AUC_SCORE:  0.5985243055555556  acc:  0.65 f1:  0.27586206896551724\n",
      "EPOCHS:21\n",
      "TRAIN\n"
     ]
    },
    {
     "name": "stderr",
     "output_type": "stream",
     "text": [
      "100%|████████████████████████████████████████| 963/963 [00:08<00:00, 118.68it/s]\n"
     ]
    },
    {
     "name": "stdout",
     "output_type": "stream",
     "text": [
      " Average training loss: 0.88\n"
     ]
    },
    {
     "name": "stderr",
     "output_type": "stream",
     "text": [
      "100%|████████████████████████████████████████| 121/121 [00:00<00:00, 830.98it/s]\n"
     ]
    },
    {
     "name": "stdout",
     "output_type": "stream",
     "text": [
      " Average valid loss: 0.99\n",
      "AUC_SCORE:  0.47813765182186235  acc:  0.628099173553719 f1:  0.26229508196721313\n",
      "20  EPOCH BEST MODEL!\n",
      "Test\n"
     ]
    },
    {
     "name": "stderr",
     "output_type": "stream",
     "text": [
      "100%|████████████████████████████████████████| 120/120 [00:00<00:00, 825.33it/s]\n"
     ]
    },
    {
     "name": "stdout",
     "output_type": "stream",
     "text": [
      " Average valid loss: 0.90\n",
      "AUC_SCORE:  0.6011284722222222  acc:  0.6333333333333333 f1:  0.26666666666666666\n",
      "EPOCHS:22\n",
      "TRAIN\n"
     ]
    },
    {
     "name": "stderr",
     "output_type": "stream",
     "text": [
      "100%|████████████████████████████████████████| 963/963 [00:08<00:00, 118.36it/s]\n"
     ]
    },
    {
     "name": "stdout",
     "output_type": "stream",
     "text": [
      " Average training loss: 0.87\n"
     ]
    },
    {
     "name": "stderr",
     "output_type": "stream",
     "text": [
      "100%|████████████████████████████████████████| 121/121 [00:00<00:00, 829.66it/s]\n"
     ]
    },
    {
     "name": "stdout",
     "output_type": "stream",
     "text": [
      " Average valid loss: 1.00\n",
      "AUC_SCORE:  0.48218623481781375  acc:  0.628099173553719 f1:  0.26229508196721313\n",
      "Test\n"
     ]
    },
    {
     "name": "stderr",
     "output_type": "stream",
     "text": [
      "100%|████████████████████████████████████████| 120/120 [00:00<00:00, 853.16it/s]\n"
     ]
    },
    {
     "name": "stdout",
     "output_type": "stream",
     "text": [
      " Average valid loss: 0.90\n",
      "AUC_SCORE:  0.6002604166666666  acc:  0.6333333333333333 f1:  0.26666666666666666\n",
      "EPOCHS:23\n",
      "TRAIN\n"
     ]
    },
    {
     "name": "stderr",
     "output_type": "stream",
     "text": [
      "100%|████████████████████████████████████████| 963/963 [00:08<00:00, 118.36it/s]\n"
     ]
    },
    {
     "name": "stdout",
     "output_type": "stream",
     "text": [
      " Average training loss: 0.87\n"
     ]
    },
    {
     "name": "stderr",
     "output_type": "stream",
     "text": [
      "100%|████████████████████████████████████████| 121/121 [00:00<00:00, 831.16it/s]\n"
     ]
    },
    {
     "name": "stdout",
     "output_type": "stream",
     "text": [
      " Average valid loss: 1.00\n",
      "AUC_SCORE:  0.4825910931174089  acc:  0.6198347107438017 f1:  0.2580645161290323\n",
      "Test\n"
     ]
    },
    {
     "name": "stderr",
     "output_type": "stream",
     "text": [
      "100%|████████████████████████████████████████| 120/120 [00:00<00:00, 857.52it/s]\n"
     ]
    },
    {
     "name": "stdout",
     "output_type": "stream",
     "text": [
      " Average valid loss: 0.90\n",
      "AUC_SCORE:  0.6006944444444444  acc:  0.6333333333333333 f1:  0.26666666666666666\n",
      "EPOCHS:24\n",
      "TRAIN\n"
     ]
    },
    {
     "name": "stderr",
     "output_type": "stream",
     "text": [
      "100%|████████████████████████████████████████| 963/963 [00:08<00:00, 119.92it/s]\n"
     ]
    },
    {
     "name": "stdout",
     "output_type": "stream",
     "text": [
      " Average training loss: 0.86\n"
     ]
    },
    {
     "name": "stderr",
     "output_type": "stream",
     "text": [
      "100%|████████████████████████████████████████| 121/121 [00:00<00:00, 847.71it/s]\n"
     ]
    },
    {
     "name": "stdout",
     "output_type": "stream",
     "text": [
      " Average valid loss: 1.01\n",
      "AUC_SCORE:  0.48461538461538467  acc:  0.6033057851239669 f1:  0.25\n",
      "Test\n"
     ]
    },
    {
     "name": "stderr",
     "output_type": "stream",
     "text": [
      "100%|████████████████████████████████████████| 120/120 [00:00<00:00, 852.95it/s]\n"
     ]
    },
    {
     "name": "stdout",
     "output_type": "stream",
     "text": [
      " Average valid loss: 0.90\n",
      "AUC_SCORE:  0.5993923611111112  acc:  0.6416666666666667 f1:  0.31746031746031744\n",
      "EPOCHS:25\n",
      "TRAIN\n"
     ]
    },
    {
     "name": "stderr",
     "output_type": "stream",
     "text": [
      "100%|████████████████████████████████████████| 963/963 [00:08<00:00, 120.01it/s]\n"
     ]
    },
    {
     "name": "stdout",
     "output_type": "stream",
     "text": [
      " Average training loss: 0.86\n"
     ]
    },
    {
     "name": "stderr",
     "output_type": "stream",
     "text": [
      "100%|████████████████████████████████████████| 121/121 [00:00<00:00, 794.78it/s]\n"
     ]
    },
    {
     "name": "stdout",
     "output_type": "stream",
     "text": [
      " Average valid loss: 1.01\n",
      "AUC_SCORE:  0.48663967611336034  acc:  0.6033057851239669 f1:  0.25\n",
      "Test\n"
     ]
    },
    {
     "name": "stderr",
     "output_type": "stream",
     "text": [
      "100%|████████████████████████████████████████| 120/120 [00:00<00:00, 856.38it/s]\n"
     ]
    },
    {
     "name": "stdout",
     "output_type": "stream",
     "text": [
      " Average valid loss: 0.90\n",
      "AUC_SCORE:  0.6024305555555556  acc:  0.6333333333333333 f1:  0.3125\n",
      "EPOCHS:26\n",
      "TRAIN\n"
     ]
    },
    {
     "name": "stderr",
     "output_type": "stream",
     "text": [
      "100%|████████████████████████████████████████| 963/963 [00:07<00:00, 120.54it/s]\n"
     ]
    },
    {
     "name": "stdout",
     "output_type": "stream",
     "text": [
      " Average training loss: 0.86\n"
     ]
    },
    {
     "name": "stderr",
     "output_type": "stream",
     "text": [
      "100%|████████████████████████████████████████| 121/121 [00:00<00:00, 833.92it/s]\n"
     ]
    },
    {
     "name": "stdout",
     "output_type": "stream",
     "text": [
      " Average valid loss: 1.01\n",
      "AUC_SCORE:  0.48906882591093115  acc:  0.6115702479338843 f1:  0.25396825396825395\n",
      "Test\n"
     ]
    },
    {
     "name": "stderr",
     "output_type": "stream",
     "text": [
      "100%|████████████████████████████████████████| 120/120 [00:00<00:00, 850.33it/s]\n"
     ]
    },
    {
     "name": "stdout",
     "output_type": "stream",
     "text": [
      " Average valid loss: 0.90\n",
      "AUC_SCORE:  0.6041666666666667  acc:  0.6333333333333333 f1:  0.2903225806451613\n",
      "EPOCHS:27\n",
      "TRAIN\n"
     ]
    },
    {
     "name": "stderr",
     "output_type": "stream",
     "text": [
      "100%|████████████████████████████████████████| 963/963 [00:08<00:00, 120.33it/s]\n"
     ]
    },
    {
     "name": "stdout",
     "output_type": "stream",
     "text": [
      " Average training loss: 0.85\n"
     ]
    },
    {
     "name": "stderr",
     "output_type": "stream",
     "text": [
      "100%|████████████████████████████████████████| 121/121 [00:00<00:00, 830.95it/s]"
     ]
    },
    {
     "name": "stdout",
     "output_type": "stream",
     "text": [
      " Average valid loss: 1.02\n",
      "AUC_SCORE:  0.4906882591093117  acc:  0.6115702479338843 f1:  0.276923076923077\n",
      "26  EPOCH BEST MODEL!\n"
     ]
    },
    {
     "name": "stderr",
     "output_type": "stream",
     "text": [
      "\n"
     ]
    },
    {
     "name": "stdout",
     "output_type": "stream",
     "text": [
      "Test\n"
     ]
    },
    {
     "name": "stderr",
     "output_type": "stream",
     "text": [
      "100%|████████████████████████████████████████| 120/120 [00:00<00:00, 839.46it/s]\n"
     ]
    },
    {
     "name": "stdout",
     "output_type": "stream",
     "text": [
      " Average valid loss: 0.90\n",
      "AUC_SCORE:  0.60546875  acc:  0.6166666666666667 f1:  0.30303030303030304\n",
      "EPOCHS:28\n",
      "TRAIN\n"
     ]
    },
    {
     "name": "stderr",
     "output_type": "stream",
     "text": [
      "100%|████████████████████████████████████████| 963/963 [00:07<00:00, 120.84it/s]\n"
     ]
    },
    {
     "name": "stdout",
     "output_type": "stream",
     "text": [
      " Average training loss: 0.85\n"
     ]
    },
    {
     "name": "stderr",
     "output_type": "stream",
     "text": [
      "100%|████████████████████████████████████████| 121/121 [00:00<00:00, 844.93it/s]\n"
     ]
    },
    {
     "name": "stdout",
     "output_type": "stream",
     "text": [
      " Average valid loss: 1.02\n",
      "AUC_SCORE:  0.49311740890688255  acc:  0.6033057851239669 f1:  0.27272727272727276\n",
      "Test\n"
     ]
    },
    {
     "name": "stderr",
     "output_type": "stream",
     "text": [
      "100%|████████████████████████████████████████| 120/120 [00:00<00:00, 860.47it/s]\n"
     ]
    },
    {
     "name": "stdout",
     "output_type": "stream",
     "text": [
      " Average valid loss: 0.90\n",
      "AUC_SCORE:  0.6063368055555556  acc:  0.6083333333333333 f1:  0.29850746268656714\n",
      "EPOCHS:29\n",
      "TRAIN\n"
     ]
    },
    {
     "name": "stderr",
     "output_type": "stream",
     "text": [
      "100%|████████████████████████████████████████| 963/963 [00:08<00:00, 119.78it/s]\n"
     ]
    },
    {
     "name": "stdout",
     "output_type": "stream",
     "text": [
      " Average training loss: 0.85\n"
     ]
    },
    {
     "name": "stderr",
     "output_type": "stream",
     "text": [
      "100%|████████████████████████████████████████| 121/121 [00:00<00:00, 825.51it/s]\n"
     ]
    },
    {
     "name": "stdout",
     "output_type": "stream",
     "text": [
      " Average valid loss: 1.02\n",
      "AUC_SCORE:  0.49473684210526314  acc:  0.5950413223140496 f1:  0.26865671641791045\n",
      "Test\n"
     ]
    },
    {
     "name": "stderr",
     "output_type": "stream",
     "text": [
      "100%|████████████████████████████████████████| 120/120 [00:00<00:00, 846.86it/s]\n"
     ]
    },
    {
     "name": "stdout",
     "output_type": "stream",
     "text": [
      " Average valid loss: 0.91\n",
      "AUC_SCORE:  0.6072048611111112  acc:  0.5916666666666667 f1:  0.2898550724637681\n",
      "EPOCHS:30\n",
      "TRAIN\n"
     ]
    },
    {
     "name": "stderr",
     "output_type": "stream",
     "text": [
      "100%|████████████████████████████████████████| 963/963 [00:08<00:00, 118.54it/s]\n"
     ]
    },
    {
     "name": "stdout",
     "output_type": "stream",
     "text": [
      " Average training loss: 0.84\n"
     ]
    },
    {
     "name": "stderr",
     "output_type": "stream",
     "text": [
      "100%|████████████████████████████████████████| 121/121 [00:00<00:00, 813.14it/s]\n"
     ]
    },
    {
     "name": "stdout",
     "output_type": "stream",
     "text": [
      " Average valid loss: 1.03\n",
      "AUC_SCORE:  0.497165991902834  acc:  0.5950413223140496 f1:  0.26865671641791045\n",
      "Test\n"
     ]
    },
    {
     "name": "stderr",
     "output_type": "stream",
     "text": [
      "100%|████████████████████████████████████████| 120/120 [00:00<00:00, 826.48it/s]\n"
     ]
    },
    {
     "name": "stdout",
     "output_type": "stream",
     "text": [
      " Average valid loss: 0.91\n",
      "AUC_SCORE:  0.6080729166666666  acc:  0.6083333333333333 f1:  0.29850746268656714\n",
      "EPOCHS:31\n",
      "TRAIN\n"
     ]
    },
    {
     "name": "stderr",
     "output_type": "stream",
     "text": [
      "100%|████████████████████████████████████████| 963/963 [00:08<00:00, 119.66it/s]\n"
     ]
    },
    {
     "name": "stdout",
     "output_type": "stream",
     "text": [
      " Average training loss: 0.85\n"
     ]
    },
    {
     "name": "stderr",
     "output_type": "stream",
     "text": [
      "100%|████████████████████████████████████████| 121/121 [00:00<00:00, 835.81it/s]\n"
     ]
    },
    {
     "name": "stdout",
     "output_type": "stream",
     "text": [
      " Average valid loss: 1.03\n",
      "AUC_SCORE:  0.49919028340080973  acc:  0.5950413223140496 f1:  0.26865671641791045\n",
      "Test\n"
     ]
    },
    {
     "name": "stderr",
     "output_type": "stream",
     "text": [
      "100%|████████████████████████████████████████| 120/120 [00:00<00:00, 850.08it/s]\n"
     ]
    },
    {
     "name": "stdout",
     "output_type": "stream",
     "text": [
      " Average valid loss: 0.91\n",
      "AUC_SCORE:  0.6059027777777777  acc:  0.6 f1:  0.29411764705882354\n",
      "EPOCHS:32\n",
      "TRAIN\n"
     ]
    },
    {
     "name": "stderr",
     "output_type": "stream",
     "text": [
      "100%|████████████████████████████████████████| 963/963 [00:08<00:00, 120.16it/s]\n"
     ]
    },
    {
     "name": "stdout",
     "output_type": "stream",
     "text": [
      " Average training loss: 0.84\n"
     ]
    },
    {
     "name": "stderr",
     "output_type": "stream",
     "text": [
      "100%|████████████████████████████████████████| 121/121 [00:00<00:00, 837.16it/s]"
     ]
    },
    {
     "name": "stdout",
     "output_type": "stream",
     "text": [
      " Average valid loss: 1.03\n",
      "AUC_SCORE:  0.5028340080971659  acc:  0.6198347107438017 f1:  0.28125\n",
      "31  EPOCH BEST MODEL!\n"
     ]
    },
    {
     "name": "stderr",
     "output_type": "stream",
     "text": [
      "\n"
     ]
    },
    {
     "name": "stdout",
     "output_type": "stream",
     "text": [
      "Test\n"
     ]
    },
    {
     "name": "stderr",
     "output_type": "stream",
     "text": [
      "100%|████████████████████████████████████████| 120/120 [00:00<00:00, 844.83it/s]\n"
     ]
    },
    {
     "name": "stdout",
     "output_type": "stream",
     "text": [
      " Average valid loss: 0.91\n",
      "AUC_SCORE:  0.609375  acc:  0.625 f1:  0.30769230769230765\n",
      "EPOCHS:33\n",
      "TRAIN\n"
     ]
    },
    {
     "name": "stderr",
     "output_type": "stream",
     "text": [
      "100%|████████████████████████████████████████| 963/963 [00:08<00:00, 119.37it/s]\n"
     ]
    },
    {
     "name": "stdout",
     "output_type": "stream",
     "text": [
      " Average training loss: 0.83\n"
     ]
    },
    {
     "name": "stderr",
     "output_type": "stream",
     "text": [
      "100%|████████████████████████████████████████| 121/121 [00:00<00:00, 823.06it/s]\n"
     ]
    },
    {
     "name": "stdout",
     "output_type": "stream",
     "text": [
      " Average valid loss: 1.04\n",
      "AUC_SCORE:  0.5060728744939271  acc:  0.6198347107438017 f1:  0.28125\n",
      "Test\n"
     ]
    },
    {
     "name": "stderr",
     "output_type": "stream",
     "text": [
      "100%|████████████████████████████████████████| 120/120 [00:00<00:00, 849.71it/s]\n"
     ]
    },
    {
     "name": "stdout",
     "output_type": "stream",
     "text": [
      " Average valid loss: 0.91\n",
      "AUC_SCORE:  0.6089409722222222  acc:  0.6333333333333333 f1:  0.33333333333333337\n",
      "EPOCHS:34\n",
      "TRAIN\n"
     ]
    },
    {
     "name": "stderr",
     "output_type": "stream",
     "text": [
      "100%|████████████████████████████████████████| 963/963 [00:08<00:00, 119.61it/s]\n"
     ]
    },
    {
     "name": "stdout",
     "output_type": "stream",
     "text": [
      " Average training loss: 0.84\n"
     ]
    },
    {
     "name": "stderr",
     "output_type": "stream",
     "text": [
      "100%|████████████████████████████████████████| 121/121 [00:00<00:00, 831.72it/s]\n"
     ]
    },
    {
     "name": "stdout",
     "output_type": "stream",
     "text": [
      " Average valid loss: 1.04\n",
      "AUC_SCORE:  0.5072874493927126  acc:  0.6115702479338843 f1:  0.276923076923077\n",
      "Test\n"
     ]
    },
    {
     "name": "stderr",
     "output_type": "stream",
     "text": [
      "100%|████████████████████████████████████████| 120/120 [00:00<00:00, 847.33it/s]\n"
     ]
    },
    {
     "name": "stdout",
     "output_type": "stream",
     "text": [
      " Average valid loss: 0.91\n",
      "AUC_SCORE:  0.6106770833333334  acc:  0.6083333333333333 f1:  0.3380281690140845\n",
      "EPOCHS:35\n",
      "TRAIN\n"
     ]
    },
    {
     "name": "stderr",
     "output_type": "stream",
     "text": [
      "100%|████████████████████████████████████████| 963/963 [00:08<00:00, 120.21it/s]\n"
     ]
    },
    {
     "name": "stdout",
     "output_type": "stream",
     "text": [
      " Average training loss: 0.83\n"
     ]
    },
    {
     "name": "stderr",
     "output_type": "stream",
     "text": [
      "100%|████████████████████████████████████████| 121/121 [00:00<00:00, 843.19it/s]\n"
     ]
    },
    {
     "name": "stdout",
     "output_type": "stream",
     "text": [
      " Average valid loss: 1.05\n",
      "AUC_SCORE:  0.5101214574898786  acc:  0.6198347107438017 f1:  0.28125\n",
      "Test\n"
     ]
    },
    {
     "name": "stderr",
     "output_type": "stream",
     "text": [
      "100%|████████████████████████████████████████| 120/120 [00:00<00:00, 859.08it/s]\n"
     ]
    },
    {
     "name": "stdout",
     "output_type": "stream",
     "text": [
      " Average valid loss: 0.91\n",
      "AUC_SCORE:  0.6124131944444444  acc:  0.6333333333333333 f1:  0.3529411764705882\n",
      "EPOCHS:36\n",
      "TRAIN\n"
     ]
    },
    {
     "name": "stderr",
     "output_type": "stream",
     "text": [
      "100%|████████████████████████████████████████| 963/963 [00:08<00:00, 120.21it/s]\n"
     ]
    },
    {
     "name": "stdout",
     "output_type": "stream",
     "text": [
      " Average training loss: 0.83\n"
     ]
    },
    {
     "name": "stderr",
     "output_type": "stream",
     "text": [
      "100%|████████████████████████████████████████| 121/121 [00:00<00:00, 834.25it/s]\n"
     ]
    },
    {
     "name": "stdout",
     "output_type": "stream",
     "text": [
      " Average valid loss: 1.05\n",
      "AUC_SCORE:  0.511336032388664  acc:  0.6115702479338843 f1:  0.276923076923077\n",
      "Test\n"
     ]
    },
    {
     "name": "stderr",
     "output_type": "stream",
     "text": [
      "100%|████████████████████████████████████████| 120/120 [00:00<00:00, 854.80it/s]\n"
     ]
    },
    {
     "name": "stdout",
     "output_type": "stream",
     "text": [
      " Average valid loss: 0.91\n",
      "AUC_SCORE:  0.6141493055555556  acc:  0.6333333333333333 f1:  0.3529411764705882\n",
      "EPOCHS:37\n",
      "TRAIN\n"
     ]
    },
    {
     "name": "stderr",
     "output_type": "stream",
     "text": [
      "100%|████████████████████████████████████████| 963/963 [00:08<00:00, 119.89it/s]\n"
     ]
    },
    {
     "name": "stdout",
     "output_type": "stream",
     "text": [
      " Average training loss: 0.82\n"
     ]
    },
    {
     "name": "stderr",
     "output_type": "stream",
     "text": [
      "100%|████████████████████████████████████████| 121/121 [00:00<00:00, 828.43it/s]\n"
     ]
    },
    {
     "name": "stdout",
     "output_type": "stream",
     "text": [
      " Average valid loss: 1.05\n",
      "AUC_SCORE:  0.5137651821862348  acc:  0.6115702479338843 f1:  0.276923076923077\n",
      "Test\n"
     ]
    },
    {
     "name": "stderr",
     "output_type": "stream",
     "text": [
      "100%|████████████████████████████████████████| 120/120 [00:00<00:00, 863.75it/s]\n"
     ]
    },
    {
     "name": "stdout",
     "output_type": "stream",
     "text": [
      " Average valid loss: 0.91\n",
      "AUC_SCORE:  0.6128472222222222  acc:  0.625 f1:  0.3478260869565218\n",
      "EPOCHS:38\n",
      "TRAIN\n"
     ]
    },
    {
     "name": "stderr",
     "output_type": "stream",
     "text": [
      "100%|████████████████████████████████████████| 963/963 [00:08<00:00, 119.91it/s]\n"
     ]
    },
    {
     "name": "stdout",
     "output_type": "stream",
     "text": [
      " Average training loss: 0.82\n"
     ]
    },
    {
     "name": "stderr",
     "output_type": "stream",
     "text": [
      "100%|████████████████████████████████████████| 121/121 [00:00<00:00, 835.58it/s]\n"
     ]
    },
    {
     "name": "stdout",
     "output_type": "stream",
     "text": [
      " Average valid loss: 1.05\n",
      "AUC_SCORE:  0.5157894736842106  acc:  0.628099173553719 f1:  0.2857142857142857\n",
      "37  EPOCH BEST MODEL!\n",
      "Test\n"
     ]
    },
    {
     "name": "stderr",
     "output_type": "stream",
     "text": [
      "100%|████████████████████████████████████████| 120/120 [00:00<00:00, 859.60it/s]\n"
     ]
    },
    {
     "name": "stdout",
     "output_type": "stream",
     "text": [
      " Average valid loss: 0.91\n",
      "AUC_SCORE:  0.6137152777777778  acc:  0.65 f1:  0.36363636363636365\n",
      "EPOCHS:39\n",
      "TRAIN\n"
     ]
    },
    {
     "name": "stderr",
     "output_type": "stream",
     "text": [
      "100%|████████████████████████████████████████| 963/963 [00:08<00:00, 119.83it/s]\n"
     ]
    },
    {
     "name": "stdout",
     "output_type": "stream",
     "text": [
      " Average training loss: 0.80\n"
     ]
    },
    {
     "name": "stderr",
     "output_type": "stream",
     "text": [
      "100%|████████████████████████████████████████| 121/121 [00:00<00:00, 810.63it/s]\n"
     ]
    },
    {
     "name": "stdout",
     "output_type": "stream",
     "text": [
      " Average valid loss: 1.06\n",
      "AUC_SCORE:  0.5161943319838056  acc:  0.6115702479338843 f1:  0.276923076923077\n",
      "Test\n"
     ]
    },
    {
     "name": "stderr",
     "output_type": "stream",
     "text": [
      "100%|████████████████████████████████████████| 120/120 [00:00<00:00, 844.51it/s]\n"
     ]
    },
    {
     "name": "stdout",
     "output_type": "stream",
     "text": [
      " Average valid loss: 0.92\n",
      "AUC_SCORE:  0.6128472222222222  acc:  0.6333333333333333 f1:  0.3529411764705882\n",
      "EPOCHS:40\n",
      "TRAIN\n"
     ]
    },
    {
     "name": "stderr",
     "output_type": "stream",
     "text": [
      "100%|████████████████████████████████████████| 963/963 [00:08<00:00, 118.88it/s]\n"
     ]
    },
    {
     "name": "stdout",
     "output_type": "stream",
     "text": [
      " Average training loss: 0.81\n"
     ]
    },
    {
     "name": "stderr",
     "output_type": "stream",
     "text": [
      "100%|████████████████████████████████████████| 121/121 [00:00<00:00, 841.41it/s]\n"
     ]
    },
    {
     "name": "stdout",
     "output_type": "stream",
     "text": [
      " Average valid loss: 1.06\n",
      "AUC_SCORE:  0.520242914979757  acc:  0.6198347107438017 f1:  0.28125\n",
      "Test\n"
     ]
    },
    {
     "name": "stderr",
     "output_type": "stream",
     "text": [
      "100%|████████████████████████████████████████| 120/120 [00:00<00:00, 853.55it/s]\n"
     ]
    },
    {
     "name": "stdout",
     "output_type": "stream",
     "text": [
      " Average valid loss: 0.92\n",
      "AUC_SCORE:  0.6128472222222222  acc:  0.65 f1:  0.36363636363636365\n"
     ]
    },
    {
     "name": "stderr",
     "output_type": "stream",
     "text": [
      "100%|████████████████████████████████████████| 120/120 [00:00<00:00, 857.62it/s]"
     ]
    },
    {
     "name": "stdout",
     "output_type": "stream",
     "text": [
      " Average valid loss: 0.91\n",
      "AUC_SCORE:  0.6137152777777778  acc:  0.65 f1:  0.36363636363636365\n",
      "BEST MODEL\n",
      "AUC_SCORE:  0.6137152777777778  acc:  0.65 f1:  0.36363636363636365\n",
      "{'auc_micro': 0.6137152777777778, 'acc': 0.65, 'f1': 0.36363636363636365, 'pred': [[0, 1, 0, 0, 0, 0, 1, 0, 0, 0], [0, 0, 0, 0, 1, 0, 0, 0, 0, 0], [0, 0, 0, 0, 0, 0, 1, 0, 0, 1], [1, 0, 1, 0, 0, 0, 1, 1, 0, 0], [0, 0, 1, 0, 0, 1, 0, 1, 0, 0], [1, 0, 1, 0, 0, 1, 1, 1, 0, 1], [1, 0, 1, 0, 0, 0, 0, 0, 1, 0], [0, 1, 0, 0, 0, 0, 1, 1, 1, 0], [0, 1, 1, 0, 1, 0, 0, 0, 0, 0], [0, 1, 0, 0, 1, 1, 0, 1, 0, 1], [0, 1, 1, 1, 0, 0, 0, 0, 0, 0], [1, 1, 0, 0, 1, 1, 1, 1, 0, 0], [], [], [], [], [], [], [], []]}\n"
     ]
    },
    {
     "name": "stderr",
     "output_type": "stream",
     "text": [
      "\n"
     ]
    }
   ],
   "source": [
    "bert2 = BertModel().to('cuda')\n",
    "score = fit(bert2, train_data,valid_data,test_data,EPOCHS=40)\n",
    "print(score)"
   ]
  },
  {
   "cell_type": "code",
   "execution_count": null,
   "id": "831c906a",
   "metadata": {},
   "outputs": [],
   "source": []
  },
  {
   "cell_type": "markdown",
   "id": "dc209ff8",
   "metadata": {},
   "source": [
    "# Main_act"
   ]
  },
  {
   "cell_type": "code",
   "execution_count": 113,
   "id": "a51811b4",
   "metadata": {},
   "outputs": [],
   "source": [
    "path1 = 'word2vec_model_extra+emb/'\n",
    "path2 = 'data/scriptbase/'\n",
    "filenames = os.listdir(path1)\n",
    "train_data = []\n",
    "valid_data = []\n",
    "test_data = []\n",
    "one = 0\n",
    "zero = 0\n",
    "end = torch.ones(1,1,384)\n",
    "\n",
    "for filename in filenames:\n",
    "    genres = []\n",
    "    movie_name = filename[:-14]\n",
    "    cult = 0\n",
    "    with open(path2+movie_name+'/processed/imdb_meta.txt','r') as f:\n",
    "        lines = f.readlines()\n",
    "        for line in lines:\n",
    "            if 'keyword' in line:\n",
    "                try:\n",
    "                    keyword  = line.strip().split('\\t')[1]\n",
    "                    keywords.append(keyword)\n",
    "                except:\n",
    "                    pass\n",
    "                if 'independent film'==keyword:\n",
    "                    cult = 1\n",
    "        \n",
    "    w2v=Word2Vec.load(path1 + filename)\n",
    "    base = 'scene_'\n",
    "    scene_num = 0\n",
    "    max_scene = 0\n",
    "    for node in w2v.wv.index_to_key:\n",
    "        if base in node:\n",
    "            scene_num += 1\n",
    "            if int(node[6:])>max_scene:\n",
    "                max_scene = int(node[6:])\n",
    "    embs = torch.zeros(1,scene_num+1,384)\n",
    "    k = 0\n",
    "    for i in range(1,max_scene+1):\n",
    "        emb_name = base + str(i)\n",
    "        if emb_name in w2v.wv.index_to_key:\n",
    "            emb = w2v.wv[emb_name]\n",
    "            emb = torch.from_numpy(emb)\n",
    "            embs[0][k] = emb\n",
    "            k += 1\n",
    "    embs[0][-1] = end\n",
    "        \n",
    "        \n",
    "    rand = random.randint(0,100)    \n",
    "    if movie_name in movie_split['train']:\n",
    "        train_data.append([embs, [cult]])\n",
    "    elif movie_name in movie_split['valid']:\n",
    "        valid_data.append([embs, [cult]])\n",
    "    \n",
    "    elif movie_name in movie_split['test']:\n",
    "        test_data.append([embs, [cult]])\n",
    "    \n",
    "    if cult:\n",
    "        one += 1\n",
    "    else:\n",
    "        zero += 1"
   ]
  },
  {
   "cell_type": "code",
   "execution_count": 114,
   "id": "74fa2690",
   "metadata": {},
   "outputs": [
    {
     "name": "stdout",
     "output_type": "stream",
     "text": [
      "EPOCHS:1\n",
      "TRAIN\n"
     ]
    },
    {
     "name": "stderr",
     "output_type": "stream",
     "text": [
      "100%|████████████████████████████████████████| 963/963 [00:08<00:00, 119.71it/s]\n"
     ]
    },
    {
     "name": "stdout",
     "output_type": "stream",
     "text": [
      " Average training loss: 0.96\n"
     ]
    },
    {
     "name": "stderr",
     "output_type": "stream",
     "text": [
      "100%|████████████████████████████████████████| 121/121 [00:00<00:00, 839.95it/s]\n"
     ]
    },
    {
     "name": "stdout",
     "output_type": "stream",
     "text": [
      " Average valid loss: 0.95\n",
      "AUC_SCORE:  0.4732793522267207  acc:  0.7851239669421488 f1:  0.0\n",
      "Test\n"
     ]
    },
    {
     "name": "stderr",
     "output_type": "stream",
     "text": [
      "100%|████████████████████████████████████████| 120/120 [00:00<00:00, 853.01it/s]\n"
     ]
    },
    {
     "name": "stdout",
     "output_type": "stream",
     "text": [
      " Average valid loss: 0.92\n",
      "AUC_SCORE:  0.5690104166666667  acc:  0.8083333333333333 f1:  0.07999999999999999\n",
      "EPOCHS:2\n",
      "TRAIN\n"
     ]
    },
    {
     "name": "stderr",
     "output_type": "stream",
     "text": [
      "100%|████████████████████████████████████████| 963/963 [00:08<00:00, 118.39it/s]\n"
     ]
    },
    {
     "name": "stdout",
     "output_type": "stream",
     "text": [
      " Average training loss: 0.95\n"
     ]
    },
    {
     "name": "stderr",
     "output_type": "stream",
     "text": [
      "100%|████████████████████████████████████████| 121/121 [00:00<00:00, 836.87it/s]\n"
     ]
    },
    {
     "name": "stdout",
     "output_type": "stream",
     "text": [
      " Average valid loss: 0.95\n",
      "AUC_SCORE:  0.46437246963562745  acc:  0.7851239669421488 f1:  0.0\n",
      "Test\n"
     ]
    },
    {
     "name": "stderr",
     "output_type": "stream",
     "text": [
      "100%|████████████████████████████████████████| 120/120 [00:00<00:00, 851.89it/s]\n"
     ]
    },
    {
     "name": "stdout",
     "output_type": "stream",
     "text": [
      " Average valid loss: 0.92\n",
      "AUC_SCORE:  0.5911458333333334  acc:  0.8 f1:  0.0\n",
      "EPOCHS:3\n",
      "TRAIN\n"
     ]
    },
    {
     "name": "stderr",
     "output_type": "stream",
     "text": [
      "100%|████████████████████████████████████████| 963/963 [00:08<00:00, 119.75it/s]\n"
     ]
    },
    {
     "name": "stdout",
     "output_type": "stream",
     "text": [
      " Average training loss: 0.95\n"
     ]
    },
    {
     "name": "stderr",
     "output_type": "stream",
     "text": [
      "100%|████████████████████████████████████████| 121/121 [00:00<00:00, 833.57it/s]\n"
     ]
    },
    {
     "name": "stdout",
     "output_type": "stream",
     "text": [
      " Average valid loss: 0.96\n",
      "AUC_SCORE:  0.4688259109311741  acc:  0.7851239669421488 f1:  0.0\n",
      "Test\n"
     ]
    },
    {
     "name": "stderr",
     "output_type": "stream",
     "text": [
      "100%|████████████████████████████████████████| 120/120 [00:00<00:00, 837.91it/s]\n"
     ]
    },
    {
     "name": "stdout",
     "output_type": "stream",
     "text": [
      " Average valid loss: 0.92\n",
      "AUC_SCORE:  0.5842013888888888  acc:  0.8 f1:  0.0\n",
      "EPOCHS:4\n",
      "TRAIN\n"
     ]
    },
    {
     "name": "stderr",
     "output_type": "stream",
     "text": [
      "100%|████████████████████████████████████████| 963/963 [00:08<00:00, 118.76it/s]\n"
     ]
    },
    {
     "name": "stdout",
     "output_type": "stream",
     "text": [
      " Average training loss: 0.94\n"
     ]
    },
    {
     "name": "stderr",
     "output_type": "stream",
     "text": [
      "100%|████████████████████████████████████████| 121/121 [00:00<00:00, 841.06it/s]\n"
     ]
    },
    {
     "name": "stdout",
     "output_type": "stream",
     "text": [
      " Average valid loss: 0.96\n",
      "AUC_SCORE:  0.47287449392712555  acc:  0.7851239669421488 f1:  0.0\n",
      "Test\n"
     ]
    },
    {
     "name": "stderr",
     "output_type": "stream",
     "text": [
      "100%|████████████████████████████████████████| 120/120 [00:00<00:00, 850.18it/s]\n"
     ]
    },
    {
     "name": "stdout",
     "output_type": "stream",
     "text": [
      " Average valid loss: 0.92\n",
      "AUC_SCORE:  0.5859375  acc:  0.7916666666666666 f1:  0.0\n",
      "EPOCHS:5\n",
      "TRAIN\n"
     ]
    },
    {
     "name": "stderr",
     "output_type": "stream",
     "text": [
      "100%|████████████████████████████████████████| 963/963 [00:08<00:00, 119.61it/s]\n"
     ]
    },
    {
     "name": "stdout",
     "output_type": "stream",
     "text": [
      " Average training loss: 0.94\n"
     ]
    },
    {
     "name": "stderr",
     "output_type": "stream",
     "text": [
      "100%|████████████████████████████████████████| 121/121 [00:00<00:00, 840.39it/s]\n"
     ]
    },
    {
     "name": "stdout",
     "output_type": "stream",
     "text": [
      " Average valid loss: 0.96\n",
      "AUC_SCORE:  0.47408906882591095  acc:  0.7851239669421488 f1:  0.0\n",
      "Test\n"
     ]
    },
    {
     "name": "stderr",
     "output_type": "stream",
     "text": [
      "100%|████████████████████████████████████████| 120/120 [00:00<00:00, 853.86it/s]\n"
     ]
    },
    {
     "name": "stdout",
     "output_type": "stream",
     "text": [
      " Average valid loss: 0.92\n",
      "AUC_SCORE:  0.5833333333333334  acc:  0.7916666666666666 f1:  0.0\n",
      "EPOCHS:6\n",
      "TRAIN\n"
     ]
    },
    {
     "name": "stderr",
     "output_type": "stream",
     "text": [
      "100%|████████████████████████████████████████| 963/963 [00:08<00:00, 117.90it/s]\n"
     ]
    },
    {
     "name": "stdout",
     "output_type": "stream",
     "text": [
      " Average training loss: 0.93\n"
     ]
    },
    {
     "name": "stderr",
     "output_type": "stream",
     "text": [
      "100%|████████████████████████████████████████| 121/121 [00:00<00:00, 817.18it/s]\n"
     ]
    },
    {
     "name": "stdout",
     "output_type": "stream",
     "text": [
      " Average valid loss: 0.96\n",
      "AUC_SCORE:  0.4720647773279352  acc:  0.7851239669421488 f1:  0.0\n",
      "Test\n"
     ]
    },
    {
     "name": "stderr",
     "output_type": "stream",
     "text": [
      "100%|████████████████████████████████████████| 120/120 [00:00<00:00, 845.78it/s]\n"
     ]
    },
    {
     "name": "stdout",
     "output_type": "stream",
     "text": [
      " Average valid loss: 0.92\n",
      "AUC_SCORE:  0.5802951388888888  acc:  0.7833333333333333 f1:  0.07142857142857142\n",
      "EPOCHS:7\n",
      "TRAIN\n"
     ]
    },
    {
     "name": "stderr",
     "output_type": "stream",
     "text": [
      "100%|████████████████████████████████████████| 963/963 [00:08<00:00, 118.71it/s]\n"
     ]
    },
    {
     "name": "stdout",
     "output_type": "stream",
     "text": [
      " Average training loss: 0.93\n"
     ]
    },
    {
     "name": "stderr",
     "output_type": "stream",
     "text": [
      "100%|████████████████████████████████████████| 121/121 [00:00<00:00, 838.01it/s]"
     ]
    },
    {
     "name": "stdout",
     "output_type": "stream",
     "text": [
      " Average valid loss: 0.96\n",
      "AUC_SCORE:  0.4728744939271255  acc:  0.7851239669421488 f1:  0.07142857142857144\n",
      "6  EPOCH BEST MODEL!\n"
     ]
    },
    {
     "name": "stderr",
     "output_type": "stream",
     "text": [
      "\n"
     ]
    },
    {
     "name": "stdout",
     "output_type": "stream",
     "text": [
      "Test\n"
     ]
    },
    {
     "name": "stderr",
     "output_type": "stream",
     "text": [
      "100%|████████████████████████████████████████| 120/120 [00:00<00:00, 815.33it/s]\n"
     ]
    },
    {
     "name": "stdout",
     "output_type": "stream",
     "text": [
      " Average valid loss: 0.92\n",
      "AUC_SCORE:  0.5763888888888888  acc:  0.7666666666666667 f1:  0.06666666666666667\n",
      "EPOCHS:8\n",
      "TRAIN\n"
     ]
    },
    {
     "name": "stderr",
     "output_type": "stream",
     "text": [
      "100%|████████████████████████████████████████| 963/963 [00:08<00:00, 118.66it/s]\n"
     ]
    },
    {
     "name": "stdout",
     "output_type": "stream",
     "text": [
      " Average training loss: 0.93\n"
     ]
    },
    {
     "name": "stderr",
     "output_type": "stream",
     "text": [
      "100%|████████████████████████████████████████| 121/121 [00:00<00:00, 834.36it/s]\n"
     ]
    },
    {
     "name": "stdout",
     "output_type": "stream",
     "text": [
      " Average valid loss: 0.96\n",
      "AUC_SCORE:  0.47085020242914977  acc:  0.7933884297520661 f1:  0.13793103448275862\n",
      "7  EPOCH BEST MODEL!\n",
      "Test\n"
     ]
    },
    {
     "name": "stderr",
     "output_type": "stream",
     "text": [
      "100%|████████████████████████████████████████| 120/120 [00:00<00:00, 825.61it/s]\n"
     ]
    },
    {
     "name": "stdout",
     "output_type": "stream",
     "text": [
      " Average valid loss: 0.92\n",
      "AUC_SCORE:  0.5733506944444444  acc:  0.725 f1:  0.05714285714285715\n",
      "EPOCHS:9\n",
      "TRAIN\n"
     ]
    },
    {
     "name": "stderr",
     "output_type": "stream",
     "text": [
      "100%|████████████████████████████████████████| 963/963 [00:08<00:00, 118.90it/s]\n"
     ]
    },
    {
     "name": "stdout",
     "output_type": "stream",
     "text": [
      " Average training loss: 0.92\n"
     ]
    },
    {
     "name": "stderr",
     "output_type": "stream",
     "text": [
      "100%|████████████████████████████████████████| 121/121 [00:00<00:00, 831.90it/s]\n"
     ]
    },
    {
     "name": "stdout",
     "output_type": "stream",
     "text": [
      " Average valid loss: 0.96\n",
      "AUC_SCORE:  0.4765182186234818  acc:  0.768595041322314 f1:  0.125\n",
      "Test\n"
     ]
    },
    {
     "name": "stderr",
     "output_type": "stream",
     "text": [
      "100%|████████████████████████████████████████| 120/120 [00:00<00:00, 853.30it/s]\n"
     ]
    },
    {
     "name": "stdout",
     "output_type": "stream",
     "text": [
      " Average valid loss: 0.91\n",
      "AUC_SCORE:  0.5733506944444444  acc:  0.7166666666666667 f1:  0.05555555555555555\n",
      "EPOCHS:10\n",
      "TRAIN\n"
     ]
    },
    {
     "name": "stderr",
     "output_type": "stream",
     "text": [
      "100%|████████████████████████████████████████| 963/963 [00:08<00:00, 117.95it/s]\n"
     ]
    },
    {
     "name": "stdout",
     "output_type": "stream",
     "text": [
      " Average training loss: 0.92\n"
     ]
    },
    {
     "name": "stderr",
     "output_type": "stream",
     "text": [
      "100%|████████████████████████████████████████| 121/121 [00:00<00:00, 805.75it/s]\n"
     ]
    },
    {
     "name": "stdout",
     "output_type": "stream",
     "text": [
      " Average valid loss: 0.96\n",
      "AUC_SCORE:  0.4773279352226721  acc:  0.743801652892562 f1:  0.1142857142857143\n",
      "Test\n"
     ]
    },
    {
     "name": "stderr",
     "output_type": "stream",
     "text": [
      "100%|████████████████████████████████████████| 120/120 [00:00<00:00, 826.85it/s]\n"
     ]
    },
    {
     "name": "stdout",
     "output_type": "stream",
     "text": [
      " Average valid loss: 0.91\n",
      "AUC_SCORE:  0.5737847222222222  acc:  0.675 f1:  0.1702127659574468\n",
      "EPOCHS:11\n",
      "TRAIN\n"
     ]
    },
    {
     "name": "stderr",
     "output_type": "stream",
     "text": [
      "100%|████████████████████████████████████████| 963/963 [00:08<00:00, 116.97it/s]\n"
     ]
    },
    {
     "name": "stdout",
     "output_type": "stream",
     "text": [
      " Average training loss: 0.91\n"
     ]
    },
    {
     "name": "stderr",
     "output_type": "stream",
     "text": [
      "100%|████████████████████████████████████████| 121/121 [00:00<00:00, 804.51it/s]\n"
     ]
    },
    {
     "name": "stdout",
     "output_type": "stream",
     "text": [
      " Average valid loss: 0.97\n",
      "AUC_SCORE:  0.4805668016194332  acc:  0.7520661157024794 f1:  0.21052631578947367\n",
      "10  EPOCH BEST MODEL!\n",
      "Test\n"
     ]
    },
    {
     "name": "stderr",
     "output_type": "stream",
     "text": [
      "100%|████████████████████████████████████████| 120/120 [00:00<00:00, 807.18it/s]\n"
     ]
    },
    {
     "name": "stdout",
     "output_type": "stream",
     "text": [
      " Average valid loss: 0.91\n",
      "AUC_SCORE:  0.5720486111111112  acc:  0.6666666666666666 f1:  0.16666666666666666\n",
      "EPOCHS:12\n",
      "TRAIN\n"
     ]
    },
    {
     "name": "stderr",
     "output_type": "stream",
     "text": [
      "100%|████████████████████████████████████████| 963/963 [00:08<00:00, 118.11it/s]\n"
     ]
    },
    {
     "name": "stdout",
     "output_type": "stream",
     "text": [
      " Average training loss: 0.91\n"
     ]
    },
    {
     "name": "stderr",
     "output_type": "stream",
     "text": [
      "100%|████████████████████████████████████████| 121/121 [00:00<00:00, 832.96it/s]\n"
     ]
    },
    {
     "name": "stdout",
     "output_type": "stream",
     "text": [
      " Average valid loss: 0.97\n",
      "AUC_SCORE:  0.48502024291497975  acc:  0.6859504132231405 f1:  0.20833333333333331\n",
      "Test\n"
     ]
    },
    {
     "name": "stderr",
     "output_type": "stream",
     "text": [
      "100%|████████████████████████████████████████| 120/120 [00:00<00:00, 851.79it/s]\n"
     ]
    },
    {
     "name": "stdout",
     "output_type": "stream",
     "text": [
      " Average valid loss: 0.91\n",
      "AUC_SCORE:  0.5707465277777778  acc:  0.6416666666666667 f1:  0.2711864406779661\n",
      "EPOCHS:13\n",
      "TRAIN\n"
     ]
    },
    {
     "name": "stderr",
     "output_type": "stream",
     "text": [
      "100%|████████████████████████████████████████| 963/963 [00:08<00:00, 118.39it/s]\n"
     ]
    },
    {
     "name": "stdout",
     "output_type": "stream",
     "text": [
      " Average training loss: 0.90\n"
     ]
    },
    {
     "name": "stderr",
     "output_type": "stream",
     "text": [
      "100%|████████████████████████████████████████| 121/121 [00:00<00:00, 835.15it/s]"
     ]
    },
    {
     "name": "stdout",
     "output_type": "stream",
     "text": [
      " Average valid loss: 0.97\n",
      "AUC_SCORE:  0.4862348178137652  acc:  0.6942148760330579 f1:  0.24489795918367346\n",
      "12  EPOCH BEST MODEL!\n"
     ]
    },
    {
     "name": "stderr",
     "output_type": "stream",
     "text": [
      "\n"
     ]
    },
    {
     "name": "stdout",
     "output_type": "stream",
     "text": [
      "Test\n"
     ]
    },
    {
     "name": "stderr",
     "output_type": "stream",
     "text": [
      "100%|████████████████████████████████████████| 120/120 [00:00<00:00, 850.51it/s]\n"
     ]
    },
    {
     "name": "stdout",
     "output_type": "stream",
     "text": [
      " Average valid loss: 0.91\n",
      "AUC_SCORE:  0.5737847222222222  acc:  0.6416666666666667 f1:  0.2711864406779661\n",
      "EPOCHS:14\n",
      "TRAIN\n"
     ]
    },
    {
     "name": "stderr",
     "output_type": "stream",
     "text": [
      "100%|████████████████████████████████████████| 963/963 [00:08<00:00, 117.99it/s]\n"
     ]
    },
    {
     "name": "stdout",
     "output_type": "stream",
     "text": [
      " Average training loss: 0.90\n"
     ]
    },
    {
     "name": "stderr",
     "output_type": "stream",
     "text": [
      "100%|████████████████████████████████████████| 121/121 [00:00<00:00, 830.98it/s]\n"
     ]
    },
    {
     "name": "stdout",
     "output_type": "stream",
     "text": [
      " Average valid loss: 0.97\n",
      "AUC_SCORE:  0.4910931174089069  acc:  0.6611570247933884 f1:  0.22641509433962265\n",
      "Test\n"
     ]
    },
    {
     "name": "stderr",
     "output_type": "stream",
     "text": [
      "100%|████████████████████████████████████████| 120/120 [00:00<00:00, 844.32it/s]\n"
     ]
    },
    {
     "name": "stdout",
     "output_type": "stream",
     "text": [
      " Average valid loss: 0.91\n",
      "AUC_SCORE:  0.5746527777777778  acc:  0.6083333333333333 f1:  0.27692307692307694\n",
      "EPOCHS:15\n",
      "TRAIN\n"
     ]
    },
    {
     "name": "stderr",
     "output_type": "stream",
     "text": [
      "100%|████████████████████████████████████████| 963/963 [00:08<00:00, 117.26it/s]\n"
     ]
    },
    {
     "name": "stdout",
     "output_type": "stream",
     "text": [
      " Average training loss: 0.90\n"
     ]
    },
    {
     "name": "stderr",
     "output_type": "stream",
     "text": [
      "100%|████████████████████████████████████████| 121/121 [00:00<00:00, 839.65it/s]\n"
     ]
    },
    {
     "name": "stdout",
     "output_type": "stream",
     "text": [
      " Average valid loss: 0.98\n",
      "AUC_SCORE:  0.4939271255060729  acc:  0.6446280991735537 f1:  0.21818181818181817\n",
      "Test\n"
     ]
    },
    {
     "name": "stderr",
     "output_type": "stream",
     "text": [
      "100%|████████████████████████████████████████| 120/120 [00:00<00:00, 858.85it/s]\n"
     ]
    },
    {
     "name": "stdout",
     "output_type": "stream",
     "text": [
      " Average valid loss: 0.92\n",
      "AUC_SCORE:  0.5729166666666666  acc:  0.6083333333333333 f1:  0.27692307692307694\n",
      "EPOCHS:16\n",
      "TRAIN\n"
     ]
    },
    {
     "name": "stderr",
     "output_type": "stream",
     "text": [
      "100%|████████████████████████████████████████| 963/963 [00:08<00:00, 114.30it/s]\n"
     ]
    },
    {
     "name": "stdout",
     "output_type": "stream",
     "text": [
      " Average training loss: 0.89\n"
     ]
    },
    {
     "name": "stderr",
     "output_type": "stream",
     "text": [
      "100%|████████████████████████████████████████| 121/121 [00:00<00:00, 806.10it/s]\n"
     ]
    },
    {
     "name": "stdout",
     "output_type": "stream",
     "text": [
      " Average valid loss: 0.98\n",
      "AUC_SCORE:  0.5  acc:  0.6363636363636364 f1:  0.21428571428571427\n",
      "Test\n"
     ]
    },
    {
     "name": "stderr",
     "output_type": "stream",
     "text": [
      "100%|████████████████████████████████████████| 120/120 [00:00<00:00, 826.07it/s]\n"
     ]
    },
    {
     "name": "stdout",
     "output_type": "stream",
     "text": [
      " Average valid loss: 0.92\n",
      "AUC_SCORE:  0.5746527777777778  acc:  0.6083333333333333 f1:  0.27692307692307694\n",
      "EPOCHS:17\n",
      "TRAIN\n"
     ]
    },
    {
     "name": "stderr",
     "output_type": "stream",
     "text": [
      "100%|████████████████████████████████████████| 963/963 [00:08<00:00, 117.24it/s]\n"
     ]
    },
    {
     "name": "stdout",
     "output_type": "stream",
     "text": [
      " Average training loss: 0.89\n"
     ]
    },
    {
     "name": "stderr",
     "output_type": "stream",
     "text": [
      "100%|████████████████████████████████████████| 121/121 [00:00<00:00, 824.45it/s]\n"
     ]
    },
    {
     "name": "stdout",
     "output_type": "stream",
     "text": [
      " Average valid loss: 0.98\n",
      "AUC_SCORE:  0.5004048582995951  acc:  0.628099173553719 f1:  0.23728813559322037\n",
      "Test\n"
     ]
    },
    {
     "name": "stderr",
     "output_type": "stream",
     "text": [
      "100%|████████████████████████████████████████| 120/120 [00:00<00:00, 840.27it/s]\n"
     ]
    },
    {
     "name": "stdout",
     "output_type": "stream",
     "text": [
      " Average valid loss: 0.92\n",
      "AUC_SCORE:  0.5750868055555556  acc:  0.6166666666666667 f1:  0.3235294117647059\n",
      "EPOCHS:18\n",
      "TRAIN\n"
     ]
    },
    {
     "name": "stderr",
     "output_type": "stream",
     "text": [
      "100%|████████████████████████████████████████| 963/963 [00:08<00:00, 117.00it/s]\n"
     ]
    },
    {
     "name": "stdout",
     "output_type": "stream",
     "text": [
      " Average training loss: 0.88\n"
     ]
    },
    {
     "name": "stderr",
     "output_type": "stream",
     "text": [
      "100%|████████████████████████████████████████| 121/121 [00:00<00:00, 818.78it/s]"
     ]
    },
    {
     "name": "stdout",
     "output_type": "stream",
     "text": [
      " Average valid loss: 0.98\n",
      "AUC_SCORE:  0.5044534412955466  acc:  0.6446280991735537 f1:  0.2456140350877193\n",
      "17  EPOCH BEST MODEL!\n"
     ]
    },
    {
     "name": "stderr",
     "output_type": "stream",
     "text": [
      "\n"
     ]
    },
    {
     "name": "stdout",
     "output_type": "stream",
     "text": [
      "Test\n"
     ]
    },
    {
     "name": "stderr",
     "output_type": "stream",
     "text": [
      "100%|████████████████████████████████████████| 120/120 [00:00<00:00, 842.10it/s]\n"
     ]
    },
    {
     "name": "stdout",
     "output_type": "stream",
     "text": [
      " Average valid loss: 0.91\n",
      "AUC_SCORE:  0.5772569444444444  acc:  0.6166666666666667 f1:  0.30303030303030304\n",
      "EPOCHS:19\n",
      "TRAIN\n"
     ]
    },
    {
     "name": "stderr",
     "output_type": "stream",
     "text": [
      "100%|████████████████████████████████████████| 963/963 [00:08<00:00, 117.73it/s]\n"
     ]
    },
    {
     "name": "stdout",
     "output_type": "stream",
     "text": [
      " Average training loss: 0.88\n"
     ]
    },
    {
     "name": "stderr",
     "output_type": "stream",
     "text": [
      "100%|████████████████████████████████████████| 121/121 [00:00<00:00, 840.09it/s]\n"
     ]
    },
    {
     "name": "stdout",
     "output_type": "stream",
     "text": [
      " Average valid loss: 0.99\n",
      "AUC_SCORE:  0.5032388663967612  acc:  0.6198347107438017 f1:  0.23333333333333334\n",
      "Test\n"
     ]
    },
    {
     "name": "stderr",
     "output_type": "stream",
     "text": [
      "100%|████████████████████████████████████████| 120/120 [00:00<00:00, 859.94it/s]\n"
     ]
    },
    {
     "name": "stdout",
     "output_type": "stream",
     "text": [
      " Average valid loss: 0.92\n",
      "AUC_SCORE:  0.5737847222222222  acc:  0.6166666666666667 f1:  0.3235294117647059\n",
      "EPOCHS:20\n",
      "TRAIN\n"
     ]
    },
    {
     "name": "stderr",
     "output_type": "stream",
     "text": [
      "100%|████████████████████████████████████████| 963/963 [00:08<00:00, 119.45it/s]\n"
     ]
    },
    {
     "name": "stdout",
     "output_type": "stream",
     "text": [
      " Average training loss: 0.87\n"
     ]
    },
    {
     "name": "stderr",
     "output_type": "stream",
     "text": [
      "100%|████████████████████████████████████████| 121/121 [00:00<00:00, 825.82it/s]"
     ]
    },
    {
     "name": "stdout",
     "output_type": "stream",
     "text": [
      " Average valid loss: 0.99\n",
      "AUC_SCORE:  0.5024291497975708  acc:  0.6198347107438017 f1:  0.2580645161290323\n",
      "19  EPOCH BEST MODEL!\n"
     ]
    },
    {
     "name": "stderr",
     "output_type": "stream",
     "text": [
      "\n"
     ]
    },
    {
     "name": "stdout",
     "output_type": "stream",
     "text": [
      "Test\n"
     ]
    },
    {
     "name": "stderr",
     "output_type": "stream",
     "text": [
      "100%|████████████████████████████████████████| 120/120 [00:00<00:00, 766.92it/s]\n"
     ]
    },
    {
     "name": "stdout",
     "output_type": "stream",
     "text": [
      " Average valid loss: 0.92\n",
      "AUC_SCORE:  0.5729166666666667  acc:  0.6 f1:  0.3142857142857143\n",
      "EPOCHS:21\n",
      "TRAIN\n"
     ]
    },
    {
     "name": "stderr",
     "output_type": "stream",
     "text": [
      "100%|████████████████████████████████████████| 963/963 [00:08<00:00, 117.74it/s]\n"
     ]
    },
    {
     "name": "stdout",
     "output_type": "stream",
     "text": [
      " Average training loss: 0.87\n"
     ]
    },
    {
     "name": "stderr",
     "output_type": "stream",
     "text": [
      "100%|████████████████████████████████████████| 121/121 [00:00<00:00, 814.69it/s]\n"
     ]
    },
    {
     "name": "stdout",
     "output_type": "stream",
     "text": [
      " Average valid loss: 0.99\n",
      "AUC_SCORE:  0.5036437246963563  acc:  0.6198347107438017 f1:  0.2580645161290323\n",
      "Test\n"
     ]
    },
    {
     "name": "stderr",
     "output_type": "stream",
     "text": [
      "100%|████████████████████████████████████████| 120/120 [00:00<00:00, 824.92it/s]\n"
     ]
    },
    {
     "name": "stdout",
     "output_type": "stream",
     "text": [
      " Average valid loss: 0.92\n",
      "AUC_SCORE:  0.5703125  acc:  0.6083333333333333 f1:  0.31884057971014496\n",
      "EPOCHS:22\n",
      "TRAIN\n"
     ]
    },
    {
     "name": "stderr",
     "output_type": "stream",
     "text": [
      "100%|████████████████████████████████████████| 963/963 [00:08<00:00, 117.10it/s]\n"
     ]
    },
    {
     "name": "stdout",
     "output_type": "stream",
     "text": [
      " Average training loss: 0.87\n"
     ]
    },
    {
     "name": "stderr",
     "output_type": "stream",
     "text": [
      "100%|████████████████████████████████████████| 121/121 [00:00<00:00, 819.31it/s]\n"
     ]
    },
    {
     "name": "stdout",
     "output_type": "stream",
     "text": [
      " Average valid loss: 0.99\n",
      "AUC_SCORE:  0.5089068825910932  acc:  0.6198347107438017 f1:  0.23333333333333334\n",
      "Test\n"
     ]
    },
    {
     "name": "stderr",
     "output_type": "stream",
     "text": [
      "100%|████████████████████████████████████████| 120/120 [00:00<00:00, 838.17it/s]\n"
     ]
    },
    {
     "name": "stdout",
     "output_type": "stream",
     "text": [
      " Average valid loss: 0.92\n",
      "AUC_SCORE:  0.5716145833333333  acc:  0.6166666666666667 f1:  0.3235294117647059\n",
      "EPOCHS:23\n",
      "TRAIN\n"
     ]
    },
    {
     "name": "stderr",
     "output_type": "stream",
     "text": [
      "100%|████████████████████████████████████████| 963/963 [00:08<00:00, 119.46it/s]\n"
     ]
    },
    {
     "name": "stdout",
     "output_type": "stream",
     "text": [
      " Average training loss: 0.86\n"
     ]
    },
    {
     "name": "stderr",
     "output_type": "stream",
     "text": [
      "100%|████████████████████████████████████████| 121/121 [00:00<00:00, 840.20it/s]\n"
     ]
    },
    {
     "name": "stdout",
     "output_type": "stream",
     "text": [
      " Average valid loss: 1.00\n",
      "AUC_SCORE:  0.5072874493927125  acc:  0.6446280991735537 f1:  0.31746031746031744\n",
      "22  EPOCH BEST MODEL!\n",
      "Test\n"
     ]
    },
    {
     "name": "stderr",
     "output_type": "stream",
     "text": [
      "100%|████████████████████████████████████████| 120/120 [00:00<00:00, 826.34it/s]\n"
     ]
    },
    {
     "name": "stdout",
     "output_type": "stream",
     "text": [
      " Average valid loss: 0.93\n",
      "AUC_SCORE:  0.5711805555555556  acc:  0.6166666666666667 f1:  0.3428571428571428\n",
      "EPOCHS:24\n",
      "TRAIN\n"
     ]
    },
    {
     "name": "stderr",
     "output_type": "stream",
     "text": [
      "100%|████████████████████████████████████████| 963/963 [00:08<00:00, 119.62it/s]\n"
     ]
    },
    {
     "name": "stdout",
     "output_type": "stream",
     "text": [
      " Average training loss: 0.86\n"
     ]
    },
    {
     "name": "stderr",
     "output_type": "stream",
     "text": [
      "100%|████████████████████████████████████████| 121/121 [00:00<00:00, 835.25it/s]\n"
     ]
    },
    {
     "name": "stdout",
     "output_type": "stream",
     "text": [
      " Average valid loss: 1.00\n",
      "AUC_SCORE:  0.511336032388664  acc:  0.6363636363636364 f1:  0.2903225806451613\n",
      "Test\n"
     ]
    },
    {
     "name": "stderr",
     "output_type": "stream",
     "text": [
      "100%|████████████████████████████████████████| 120/120 [00:00<00:00, 867.44it/s]\n"
     ]
    },
    {
     "name": "stdout",
     "output_type": "stream",
     "text": [
      " Average valid loss: 0.93\n",
      "AUC_SCORE:  0.5768229166666667  acc:  0.6 f1:  0.3142857142857143\n",
      "EPOCHS:25\n",
      "TRAIN\n"
     ]
    },
    {
     "name": "stderr",
     "output_type": "stream",
     "text": [
      "100%|████████████████████████████████████████| 963/963 [00:08<00:00, 119.88it/s]\n"
     ]
    },
    {
     "name": "stdout",
     "output_type": "stream",
     "text": [
      " Average training loss: 0.86\n"
     ]
    },
    {
     "name": "stderr",
     "output_type": "stream",
     "text": [
      "100%|████████████████████████████████████████| 121/121 [00:00<00:00, 840.69it/s]\n"
     ]
    },
    {
     "name": "stdout",
     "output_type": "stream",
     "text": [
      " Average valid loss: 1.00\n",
      "AUC_SCORE:  0.5133603238866397  acc:  0.6115702479338843 f1:  0.22950819672131148\n",
      "Test\n"
     ]
    },
    {
     "name": "stderr",
     "output_type": "stream",
     "text": [
      "100%|████████████████████████████████████████| 120/120 [00:00<00:00, 860.00it/s]\n"
     ]
    },
    {
     "name": "stdout",
     "output_type": "stream",
     "text": [
      " Average valid loss: 0.93\n",
      "AUC_SCORE:  0.578125  acc:  0.6 f1:  0.3142857142857143\n",
      "EPOCHS:26\n",
      "TRAIN\n"
     ]
    },
    {
     "name": "stderr",
     "output_type": "stream",
     "text": [
      "100%|████████████████████████████████████████| 963/963 [00:08<00:00, 119.54it/s]\n"
     ]
    },
    {
     "name": "stdout",
     "output_type": "stream",
     "text": [
      " Average training loss: 0.85\n"
     ]
    },
    {
     "name": "stderr",
     "output_type": "stream",
     "text": [
      "100%|████████████████████████████████████████| 121/121 [00:00<00:00, 836.48it/s]\n"
     ]
    },
    {
     "name": "stdout",
     "output_type": "stream",
     "text": [
      " Average valid loss: 1.01\n",
      "AUC_SCORE:  0.5137651821862348  acc:  0.628099173553719 f1:  0.23728813559322037\n",
      "Test\n"
     ]
    },
    {
     "name": "stderr",
     "output_type": "stream",
     "text": [
      "100%|████████████████████████████████████████| 120/120 [00:00<00:00, 862.92it/s]\n"
     ]
    },
    {
     "name": "stdout",
     "output_type": "stream",
     "text": [
      " Average valid loss: 0.93\n",
      "AUC_SCORE:  0.5802951388888888  acc:  0.6166666666666667 f1:  0.3235294117647059\n",
      "EPOCHS:27\n",
      "TRAIN\n"
     ]
    },
    {
     "name": "stderr",
     "output_type": "stream",
     "text": [
      "100%|████████████████████████████████████████| 963/963 [00:08<00:00, 120.13it/s]\n"
     ]
    },
    {
     "name": "stdout",
     "output_type": "stream",
     "text": [
      " Average training loss: 0.84\n"
     ]
    },
    {
     "name": "stderr",
     "output_type": "stream",
     "text": [
      "100%|████████████████████████████████████████| 121/121 [00:00<00:00, 846.78it/s]\n"
     ]
    },
    {
     "name": "stdout",
     "output_type": "stream",
     "text": [
      " Average valid loss: 1.01\n",
      "AUC_SCORE:  0.5141700404858299  acc:  0.6198347107438017 f1:  0.23333333333333334\n",
      "Test\n"
     ]
    },
    {
     "name": "stderr",
     "output_type": "stream",
     "text": [
      "100%|████████████████████████████████████████| 120/120 [00:00<00:00, 863.06it/s]\n"
     ]
    },
    {
     "name": "stdout",
     "output_type": "stream",
     "text": [
      " Average valid loss: 0.93\n",
      "AUC_SCORE:  0.5811631944444444  acc:  0.5916666666666667 f1:  0.3287671232876712\n",
      "EPOCHS:28\n",
      "TRAIN\n"
     ]
    },
    {
     "name": "stderr",
     "output_type": "stream",
     "text": [
      "100%|████████████████████████████████████████| 963/963 [00:08<00:00, 119.82it/s]\n"
     ]
    },
    {
     "name": "stdout",
     "output_type": "stream",
     "text": [
      " Average training loss: 0.83\n"
     ]
    },
    {
     "name": "stderr",
     "output_type": "stream",
     "text": [
      "100%|████████████████████████████████████████| 121/121 [00:00<00:00, 836.09it/s]\n"
     ]
    },
    {
     "name": "stdout",
     "output_type": "stream",
     "text": [
      " Average valid loss: 1.01\n",
      "AUC_SCORE:  0.5190283400809717  acc:  0.6198347107438017 f1:  0.23333333333333334\n",
      "Test\n"
     ]
    },
    {
     "name": "stderr",
     "output_type": "stream",
     "text": [
      "100%|████████████████████████████████████████| 120/120 [00:00<00:00, 848.99it/s]\n"
     ]
    },
    {
     "name": "stdout",
     "output_type": "stream",
     "text": [
      " Average valid loss: 0.93\n",
      "AUC_SCORE:  0.5824652777777779  acc:  0.5916666666666667 f1:  0.3098591549295775\n",
      "EPOCHS:29\n",
      "TRAIN\n"
     ]
    },
    {
     "name": "stderr",
     "output_type": "stream",
     "text": [
      "100%|████████████████████████████████████████| 963/963 [00:08<00:00, 117.11it/s]\n"
     ]
    },
    {
     "name": "stdout",
     "output_type": "stream",
     "text": [
      " Average training loss: 0.83\n"
     ]
    },
    {
     "name": "stderr",
     "output_type": "stream",
     "text": [
      "100%|████████████████████████████████████████| 121/121 [00:00<00:00, 834.63it/s]\n"
     ]
    },
    {
     "name": "stdout",
     "output_type": "stream",
     "text": [
      " Average valid loss: 1.02\n",
      "AUC_SCORE:  0.5202429149797572  acc:  0.6198347107438017 f1:  0.23333333333333334\n",
      "Test\n"
     ]
    },
    {
     "name": "stderr",
     "output_type": "stream",
     "text": [
      "100%|████████████████████████████████████████| 120/120 [00:00<00:00, 852.85it/s]\n"
     ]
    },
    {
     "name": "stdout",
     "output_type": "stream",
     "text": [
      " Average valid loss: 0.94\n",
      "AUC_SCORE:  0.583767361111111  acc:  0.6 f1:  0.3142857142857143\n",
      "EPOCHS:30\n",
      "TRAIN\n"
     ]
    },
    {
     "name": "stderr",
     "output_type": "stream",
     "text": [
      "100%|████████████████████████████████████████| 963/963 [00:08<00:00, 117.29it/s]\n"
     ]
    },
    {
     "name": "stdout",
     "output_type": "stream",
     "text": [
      " Average training loss: 0.82\n"
     ]
    },
    {
     "name": "stderr",
     "output_type": "stream",
     "text": [
      "100%|████████████████████████████████████████| 121/121 [00:00<00:00, 830.53it/s]\n"
     ]
    },
    {
     "name": "stdout",
     "output_type": "stream",
     "text": [
      " Average valid loss: 1.02\n",
      "AUC_SCORE:  0.5234817813765182  acc:  0.6198347107438017 f1:  0.23333333333333334\n",
      "Test\n"
     ]
    },
    {
     "name": "stderr",
     "output_type": "stream",
     "text": [
      "100%|████████████████████████████████████████| 120/120 [00:00<00:00, 852.81it/s]\n"
     ]
    },
    {
     "name": "stdout",
     "output_type": "stream",
     "text": [
      " Average valid loss: 0.94\n",
      "AUC_SCORE:  0.58203125  acc:  0.6 f1:  0.3142857142857143\n",
      "EPOCHS:31\n",
      "TRAIN\n"
     ]
    },
    {
     "name": "stderr",
     "output_type": "stream",
     "text": [
      "100%|████████████████████████████████████████| 963/963 [00:08<00:00, 118.29it/s]\n"
     ]
    },
    {
     "name": "stdout",
     "output_type": "stream",
     "text": [
      " Average training loss: 0.83\n"
     ]
    },
    {
     "name": "stderr",
     "output_type": "stream",
     "text": [
      "100%|████████████████████████████████████████| 121/121 [00:00<00:00, 832.30it/s]\n"
     ]
    },
    {
     "name": "stdout",
     "output_type": "stream",
     "text": [
      " Average valid loss: 1.02\n",
      "AUC_SCORE:  0.5222672064777328  acc:  0.6198347107438017 f1:  0.23333333333333334\n",
      "Test\n"
     ]
    },
    {
     "name": "stderr",
     "output_type": "stream",
     "text": [
      "100%|████████████████████████████████████████| 120/120 [00:00<00:00, 863.81it/s]\n"
     ]
    },
    {
     "name": "stdout",
     "output_type": "stream",
     "text": [
      " Average valid loss: 0.94\n",
      "AUC_SCORE:  0.5837673611111112  acc:  0.6 f1:  0.3142857142857143\n",
      "EPOCHS:32\n",
      "TRAIN\n"
     ]
    },
    {
     "name": "stderr",
     "output_type": "stream",
     "text": [
      "100%|████████████████████████████████████████| 963/963 [00:08<00:00, 117.94it/s]\n"
     ]
    },
    {
     "name": "stdout",
     "output_type": "stream",
     "text": [
      " Average training loss: 0.81\n"
     ]
    },
    {
     "name": "stderr",
     "output_type": "stream",
     "text": [
      "100%|████████████████████████████████████████| 121/121 [00:00<00:00, 816.38it/s]\n"
     ]
    },
    {
     "name": "stdout",
     "output_type": "stream",
     "text": [
      " Average valid loss: 1.03\n",
      "AUC_SCORE:  0.522672064777328  acc:  0.6198347107438017 f1:  0.23333333333333334\n",
      "Test\n"
     ]
    },
    {
     "name": "stderr",
     "output_type": "stream",
     "text": [
      "100%|████████████████████████████████████████| 120/120 [00:00<00:00, 841.34it/s]\n"
     ]
    },
    {
     "name": "stdout",
     "output_type": "stream",
     "text": [
      " Average valid loss: 0.95\n",
      "AUC_SCORE:  0.5846354166666667  acc:  0.6 f1:  0.29411764705882354\n",
      "EPOCHS:33\n",
      "TRAIN\n"
     ]
    },
    {
     "name": "stderr",
     "output_type": "stream",
     "text": [
      "100%|████████████████████████████████████████| 963/963 [00:08<00:00, 119.60it/s]\n"
     ]
    },
    {
     "name": "stdout",
     "output_type": "stream",
     "text": [
      " Average training loss: 0.82\n"
     ]
    },
    {
     "name": "stderr",
     "output_type": "stream",
     "text": [
      "100%|████████████████████████████████████████| 121/121 [00:00<00:00, 843.30it/s]\n"
     ]
    },
    {
     "name": "stdout",
     "output_type": "stream",
     "text": [
      " Average valid loss: 1.03\n",
      "AUC_SCORE:  0.525910931174089  acc:  0.6033057851239669 f1:  0.22580645161290322\n",
      "Test\n"
     ]
    },
    {
     "name": "stderr",
     "output_type": "stream",
     "text": [
      "100%|████████████████████████████████████████| 120/120 [00:00<00:00, 855.38it/s]\n"
     ]
    },
    {
     "name": "stdout",
     "output_type": "stream",
     "text": [
      " Average valid loss: 0.95\n",
      "AUC_SCORE:  0.5846354166666666  acc:  0.5916666666666667 f1:  0.2898550724637681\n",
      "EPOCHS:34\n",
      "TRAIN\n"
     ]
    },
    {
     "name": "stderr",
     "output_type": "stream",
     "text": [
      "100%|████████████████████████████████████████| 963/963 [00:08<00:00, 118.72it/s]\n"
     ]
    },
    {
     "name": "stdout",
     "output_type": "stream",
     "text": [
      " Average training loss: 0.81\n"
     ]
    },
    {
     "name": "stderr",
     "output_type": "stream",
     "text": [
      "100%|████████████████████████████████████████| 121/121 [00:00<00:00, 813.03it/s]\n"
     ]
    },
    {
     "name": "stdout",
     "output_type": "stream",
     "text": [
      " Average valid loss: 1.03\n",
      "AUC_SCORE:  0.5279352226720647  acc:  0.6198347107438017 f1:  0.23333333333333334\n",
      "Test\n"
     ]
    },
    {
     "name": "stderr",
     "output_type": "stream",
     "text": [
      "100%|████████████████████████████████████████| 120/120 [00:00<00:00, 839.34it/s]\n"
     ]
    },
    {
     "name": "stdout",
     "output_type": "stream",
     "text": [
      " Average valid loss: 0.95\n",
      "AUC_SCORE:  0.5850694444444444  acc:  0.6 f1:  0.29411764705882354\n",
      "EPOCHS:35\n",
      "TRAIN\n"
     ]
    },
    {
     "name": "stderr",
     "output_type": "stream",
     "text": [
      "100%|████████████████████████████████████████| 963/963 [00:08<00:00, 119.04it/s]\n"
     ]
    },
    {
     "name": "stdout",
     "output_type": "stream",
     "text": [
      " Average training loss: 0.80\n"
     ]
    },
    {
     "name": "stderr",
     "output_type": "stream",
     "text": [
      "100%|████████████████████████████████████████| 121/121 [00:00<00:00, 837.64it/s]\n"
     ]
    },
    {
     "name": "stdout",
     "output_type": "stream",
     "text": [
      " Average valid loss: 1.04\n",
      "AUC_SCORE:  0.5291497975708502  acc:  0.6198347107438017 f1:  0.23333333333333334\n",
      "Test\n"
     ]
    },
    {
     "name": "stderr",
     "output_type": "stream",
     "text": [
      "100%|████████████████████████████████████████| 120/120 [00:00<00:00, 856.33it/s]\n"
     ]
    },
    {
     "name": "stdout",
     "output_type": "stream",
     "text": [
      " Average valid loss: 0.95\n",
      "AUC_SCORE:  0.5846354166666667  acc:  0.6 f1:  0.29411764705882354\n",
      "EPOCHS:36\n",
      "TRAIN\n"
     ]
    },
    {
     "name": "stderr",
     "output_type": "stream",
     "text": [
      "100%|████████████████████████████████████████| 963/963 [00:08<00:00, 117.93it/s]\n"
     ]
    },
    {
     "name": "stdout",
     "output_type": "stream",
     "text": [
      " Average training loss: 0.81\n"
     ]
    },
    {
     "name": "stderr",
     "output_type": "stream",
     "text": [
      "100%|████████████████████████████████████████| 121/121 [00:00<00:00, 827.98it/s]\n"
     ]
    },
    {
     "name": "stdout",
     "output_type": "stream",
     "text": [
      " Average valid loss: 1.04\n",
      "AUC_SCORE:  0.531578947368421  acc:  0.6115702479338843 f1:  0.22950819672131148\n",
      "Test\n"
     ]
    },
    {
     "name": "stderr",
     "output_type": "stream",
     "text": [
      "100%|████████████████████████████████████████| 120/120 [00:00<00:00, 841.64it/s]\n"
     ]
    },
    {
     "name": "stdout",
     "output_type": "stream",
     "text": [
      " Average valid loss: 0.96\n",
      "AUC_SCORE:  0.5855034722222222  acc:  0.6 f1:  0.29411764705882354\n",
      "EPOCHS:37\n",
      "TRAIN\n"
     ]
    },
    {
     "name": "stderr",
     "output_type": "stream",
     "text": [
      "100%|████████████████████████████████████████| 963/963 [00:08<00:00, 117.77it/s]\n"
     ]
    },
    {
     "name": "stdout",
     "output_type": "stream",
     "text": [
      " Average training loss: 0.80\n"
     ]
    },
    {
     "name": "stderr",
     "output_type": "stream",
     "text": [
      "100%|████████████████████████████████████████| 121/121 [00:00<00:00, 831.64it/s]\n"
     ]
    },
    {
     "name": "stdout",
     "output_type": "stream",
     "text": [
      " Average valid loss: 1.04\n",
      "AUC_SCORE:  0.5348178137651822  acc:  0.6198347107438017 f1:  0.23333333333333334\n",
      "Test\n"
     ]
    },
    {
     "name": "stderr",
     "output_type": "stream",
     "text": [
      "100%|████████████████████████████████████████| 120/120 [00:00<00:00, 855.26it/s]\n"
     ]
    },
    {
     "name": "stdout",
     "output_type": "stream",
     "text": [
      " Average valid loss: 0.96\n",
      "AUC_SCORE:  0.5842013888888888  acc:  0.6 f1:  0.29411764705882354\n",
      "EPOCHS:38\n",
      "TRAIN\n"
     ]
    },
    {
     "name": "stderr",
     "output_type": "stream",
     "text": [
      "100%|████████████████████████████████████████| 963/963 [00:08<00:00, 117.40it/s]\n"
     ]
    },
    {
     "name": "stdout",
     "output_type": "stream",
     "text": [
      " Average training loss: 0.80\n"
     ]
    },
    {
     "name": "stderr",
     "output_type": "stream",
     "text": [
      "100%|████████████████████████████████████████| 121/121 [00:00<00:00, 822.62it/s]\n"
     ]
    },
    {
     "name": "stdout",
     "output_type": "stream",
     "text": [
      " Average valid loss: 1.04\n",
      "AUC_SCORE:  0.534412955465587  acc:  0.6033057851239669 f1:  0.22580645161290322\n",
      "Test\n"
     ]
    },
    {
     "name": "stderr",
     "output_type": "stream",
     "text": [
      "100%|████████████████████████████████████████| 120/120 [00:00<00:00, 842.82it/s]\n"
     ]
    },
    {
     "name": "stdout",
     "output_type": "stream",
     "text": [
      " Average valid loss: 0.97\n",
      "AUC_SCORE:  0.5889756944444444  acc:  0.6 f1:  0.3142857142857143\n",
      "EPOCHS:39\n",
      "TRAIN\n"
     ]
    },
    {
     "name": "stderr",
     "output_type": "stream",
     "text": [
      "100%|████████████████████████████████████████| 963/963 [00:08<00:00, 118.22it/s]\n"
     ]
    },
    {
     "name": "stdout",
     "output_type": "stream",
     "text": [
      " Average training loss: 0.80\n"
     ]
    },
    {
     "name": "stderr",
     "output_type": "stream",
     "text": [
      "100%|████████████████████████████████████████| 121/121 [00:00<00:00, 836.98it/s]\n"
     ]
    },
    {
     "name": "stdout",
     "output_type": "stream",
     "text": [
      " Average valid loss: 1.04\n",
      "AUC_SCORE:  0.5360323886639675  acc:  0.6115702479338843 f1:  0.22950819672131148\n",
      "Test\n"
     ]
    },
    {
     "name": "stderr",
     "output_type": "stream",
     "text": [
      "100%|████████████████████████████████████████| 120/120 [00:00<00:00, 846.26it/s]\n"
     ]
    },
    {
     "name": "stdout",
     "output_type": "stream",
     "text": [
      " Average valid loss: 0.97\n",
      "AUC_SCORE:  0.5846354166666667  acc:  0.6 f1:  0.3142857142857143\n",
      "EPOCHS:40\n",
      "TRAIN\n"
     ]
    },
    {
     "name": "stderr",
     "output_type": "stream",
     "text": [
      "100%|████████████████████████████████████████| 963/963 [00:08<00:00, 117.78it/s]\n"
     ]
    },
    {
     "name": "stdout",
     "output_type": "stream",
     "text": [
      " Average training loss: 0.79\n"
     ]
    },
    {
     "name": "stderr",
     "output_type": "stream",
     "text": [
      "100%|████████████████████████████████████████| 121/121 [00:00<00:00, 830.11it/s]\n"
     ]
    },
    {
     "name": "stdout",
     "output_type": "stream",
     "text": [
      " Average valid loss: 1.05\n",
      "AUC_SCORE:  0.5336032388663968  acc:  0.6115702479338843 f1:  0.22950819672131148\n",
      "Test\n"
     ]
    },
    {
     "name": "stderr",
     "output_type": "stream",
     "text": [
      "100%|████████████████████████████████████████| 120/120 [00:00<00:00, 854.40it/s]\n"
     ]
    },
    {
     "name": "stdout",
     "output_type": "stream",
     "text": [
      " Average valid loss: 0.97\n",
      "AUC_SCORE:  0.5850694444444444  acc:  0.6166666666666667 f1:  0.3428571428571428\n"
     ]
    },
    {
     "name": "stderr",
     "output_type": "stream",
     "text": [
      "100%|████████████████████████████████████████| 120/120 [00:00<00:00, 849.21it/s]"
     ]
    },
    {
     "name": "stdout",
     "output_type": "stream",
     "text": [
      " Average valid loss: 0.93\n",
      "AUC_SCORE:  0.5711805555555556  acc:  0.6166666666666667 f1:  0.3428571428571428\n",
      "BEST MODEL\n",
      "AUC_SCORE:  0.5711805555555556  acc:  0.6166666666666667 f1:  0.3428571428571428\n",
      "{'auc_micro': 0.5711805555555556, 'acc': 0.6166666666666667, 'f1': 0.3428571428571428, 'pred': [[0, 1, 0, 1, 0, 0, 1, 0, 1, 0], [0, 1, 0, 0, 1, 0, 0, 0, 0, 0], [0, 0, 0, 0, 0, 0, 0, 0, 0, 1], [1, 0, 1, 0, 0, 1, 1, 1, 0, 0], [0, 0, 1, 0, 0, 1, 0, 1, 0, 0], [1, 0, 1, 1, 1, 1, 0, 0, 0, 0], [1, 0, 1, 0, 1, 0, 0, 0, 1, 0], [0, 1, 1, 0, 0, 0, 0, 1, 1, 0], [0, 1, 1, 0, 1, 0, 0, 1, 0, 0], [0, 1, 0, 0, 1, 1, 0, 1, 0, 1], [0, 1, 1, 1, 0, 0, 0, 0, 0, 0], [1, 0, 0, 0, 1, 1, 1, 1, 0, 1], [], [], [], [], [], [], [], []]}\n"
     ]
    },
    {
     "name": "stderr",
     "output_type": "stream",
     "text": [
      "\n"
     ]
    }
   ],
   "source": [
    "bert2 = BertModel().to('cuda')\n",
    "score = fit(bert2, train_data,valid_data,test_data,EPOCHS=40)\n",
    "print(score)"
   ]
  },
  {
   "cell_type": "code",
   "execution_count": null,
   "id": "64537856",
   "metadata": {},
   "outputs": [],
   "source": []
  },
  {
   "cell_type": "markdown",
   "id": "94f36604",
   "metadata": {},
   "source": [
    "# pos"
   ]
  },
  {
   "cell_type": "code",
   "execution_count": 115,
   "id": "7d05aec4",
   "metadata": {},
   "outputs": [],
   "source": [
    "path1 = 'word2vec_model_extra+pos/'\n",
    "path2 = 'data/scriptbase/'\n",
    "filenames = os.listdir(path1)\n",
    "train_data = []\n",
    "valid_data = []\n",
    "test_data = []\n",
    "one = 0\n",
    "zero = 0\n",
    "end = torch.ones(1,1,400)\n",
    "\n",
    "for filename in filenames:\n",
    "    genres = []\n",
    "    movie_name = filename[:-14]\n",
    "    cult = 0\n",
    "    with open(path2+movie_name+'/processed/imdb_meta.txt','r') as f:\n",
    "        lines = f.readlines()\n",
    "        for line in lines:\n",
    "            if 'keyword' in line:\n",
    "                try:\n",
    "                    keyword  = line.strip().split('\\t')[1]\n",
    "                    keywords.append(keyword)\n",
    "                except:\n",
    "                    pass\n",
    "                if 'independent film'==keyword:\n",
    "                    cult = 1\n",
    "        \n",
    "    w2v=Word2Vec.load(path1 + filename)\n",
    "    base = 'scene_'\n",
    "    scene_num = 0\n",
    "    max_scene = 0\n",
    "    for node in w2v.wv.index_to_key:\n",
    "        if base in node:\n",
    "            scene_num += 1\n",
    "            if int(node[6:])>max_scene:\n",
    "                max_scene = int(node[6:])\n",
    "    embs = torch.zeros(1,scene_num+1,400)\n",
    "    k = 0\n",
    "    for i in range(1,max_scene+1):\n",
    "        emb_name = base + str(i)\n",
    "        if emb_name in w2v.wv.index_to_key:\n",
    "            emb = w2v.wv[emb_name]\n",
    "            emb = torch.from_numpy(emb)\n",
    "            embs[0][k] = emb\n",
    "            k += 1\n",
    "    embs[0][-1] = end\n",
    "        \n",
    "        \n",
    "    rand = random.randint(0,100)    \n",
    "    if movie_name in movie_split['train']:\n",
    "        train_data.append([embs, [cult]])\n",
    "    elif movie_name in movie_split['valid']:\n",
    "        valid_data.append([embs, [cult]])\n",
    "    \n",
    "    elif movie_name in movie_split['test']:\n",
    "        test_data.append([embs, [cult]])\n",
    "    \n",
    "    if cult:\n",
    "        one += 1\n",
    "    else:\n",
    "        zero += 1"
   ]
  },
  {
   "cell_type": "code",
   "execution_count": 116,
   "id": "5153ca45",
   "metadata": {},
   "outputs": [
    {
     "name": "stdout",
     "output_type": "stream",
     "text": [
      "EPOCHS:1\n",
      "TRAIN\n"
     ]
    },
    {
     "name": "stderr",
     "output_type": "stream",
     "text": [
      "100%|████████████████████████████████████████| 962/962 [00:08<00:00, 117.23it/s]\n"
     ]
    },
    {
     "name": "stdout",
     "output_type": "stream",
     "text": [
      " Average training loss: 0.95\n"
     ]
    },
    {
     "name": "stderr",
     "output_type": "stream",
     "text": [
      "100%|████████████████████████████████████████| 120/120 [00:00<00:00, 815.50it/s]\n"
     ]
    },
    {
     "name": "stdout",
     "output_type": "stream",
     "text": [
      " Average valid loss: 0.95\n",
      "AUC_SCORE:  0.40968421052631576  acc:  0.7916666666666666 f1:  0.0\n",
      "Test\n"
     ]
    },
    {
     "name": "stderr",
     "output_type": "stream",
     "text": [
      "100%|████████████████████████████████████████| 120/120 [00:00<00:00, 841.20it/s]\n"
     ]
    },
    {
     "name": "stdout",
     "output_type": "stream",
     "text": [
      " Average valid loss: 0.93\n",
      "AUC_SCORE:  0.4348958333333333  acc:  0.8 f1:  0.0\n",
      "EPOCHS:2\n",
      "TRAIN\n"
     ]
    },
    {
     "name": "stderr",
     "output_type": "stream",
     "text": [
      "100%|████████████████████████████████████████| 962/962 [00:08<00:00, 117.02it/s]\n"
     ]
    },
    {
     "name": "stdout",
     "output_type": "stream",
     "text": [
      " Average training loss: 0.95\n"
     ]
    },
    {
     "name": "stderr",
     "output_type": "stream",
     "text": [
      "100%|████████████████████████████████████████| 120/120 [00:00<00:00, 806.30it/s]\n"
     ]
    },
    {
     "name": "stdout",
     "output_type": "stream",
     "text": [
      " Average valid loss: 0.95\n",
      "AUC_SCORE:  0.3970526315789473  acc:  0.7916666666666666 f1:  0.0\n",
      "Test\n"
     ]
    },
    {
     "name": "stderr",
     "output_type": "stream",
     "text": [
      "100%|████████████████████████████████████████| 120/120 [00:00<00:00, 830.39it/s]\n"
     ]
    },
    {
     "name": "stdout",
     "output_type": "stream",
     "text": [
      " Average valid loss: 0.93\n",
      "AUC_SCORE:  0.4661458333333333  acc:  0.8 f1:  0.0\n",
      "EPOCHS:3\n",
      "TRAIN\n"
     ]
    },
    {
     "name": "stderr",
     "output_type": "stream",
     "text": [
      "100%|████████████████████████████████████████| 962/962 [00:08<00:00, 118.17it/s]\n"
     ]
    },
    {
     "name": "stdout",
     "output_type": "stream",
     "text": [
      " Average training loss: 0.94\n"
     ]
    },
    {
     "name": "stderr",
     "output_type": "stream",
     "text": [
      "100%|████████████████████████████████████████| 120/120 [00:00<00:00, 822.82it/s]\n"
     ]
    },
    {
     "name": "stdout",
     "output_type": "stream",
     "text": [
      " Average valid loss: 0.95\n",
      "AUC_SCORE:  0.3974736842105263  acc:  0.7916666666666666 f1:  0.0\n",
      "Test\n"
     ]
    },
    {
     "name": "stderr",
     "output_type": "stream",
     "text": [
      "100%|████████████████████████████████████████| 120/120 [00:00<00:00, 836.09it/s]\n"
     ]
    },
    {
     "name": "stdout",
     "output_type": "stream",
     "text": [
      " Average valid loss: 0.93\n",
      "AUC_SCORE:  0.49522569444444436  acc:  0.8 f1:  0.0\n",
      "EPOCHS:4\n",
      "TRAIN\n"
     ]
    },
    {
     "name": "stderr",
     "output_type": "stream",
     "text": [
      "100%|████████████████████████████████████████| 962/962 [00:08<00:00, 118.41it/s]\n"
     ]
    },
    {
     "name": "stdout",
     "output_type": "stream",
     "text": [
      " Average training loss: 0.94\n"
     ]
    },
    {
     "name": "stderr",
     "output_type": "stream",
     "text": [
      "100%|████████████████████████████████████████| 120/120 [00:00<00:00, 819.66it/s]\n"
     ]
    },
    {
     "name": "stdout",
     "output_type": "stream",
     "text": [
      " Average valid loss: 0.96\n",
      "AUC_SCORE:  0.4025263157894736  acc:  0.7916666666666666 f1:  0.0\n",
      "Test\n"
     ]
    },
    {
     "name": "stderr",
     "output_type": "stream",
     "text": [
      "100%|████████████████████████████████████████| 120/120 [00:00<00:00, 817.29it/s]\n"
     ]
    },
    {
     "name": "stdout",
     "output_type": "stream",
     "text": [
      " Average valid loss: 0.92\n",
      "AUC_SCORE:  0.5151909722222221  acc:  0.8 f1:  0.0\n",
      "EPOCHS:5\n",
      "TRAIN\n"
     ]
    },
    {
     "name": "stderr",
     "output_type": "stream",
     "text": [
      "100%|████████████████████████████████████████| 962/962 [00:08<00:00, 117.75it/s]\n"
     ]
    },
    {
     "name": "stdout",
     "output_type": "stream",
     "text": [
      " Average training loss: 0.94\n"
     ]
    },
    {
     "name": "stderr",
     "output_type": "stream",
     "text": [
      "100%|████████████████████████████████████████| 120/120 [00:00<00:00, 820.61it/s]\n"
     ]
    },
    {
     "name": "stdout",
     "output_type": "stream",
     "text": [
      " Average valid loss: 0.96\n",
      "AUC_SCORE:  0.4012631578947369  acc:  0.7833333333333333 f1:  0.0\n",
      "Test\n"
     ]
    },
    {
     "name": "stderr",
     "output_type": "stream",
     "text": [
      "100%|████████████████████████████████████████| 120/120 [00:00<00:00, 826.17it/s]\n"
     ]
    },
    {
     "name": "stdout",
     "output_type": "stream",
     "text": [
      " Average valid loss: 0.92\n",
      "AUC_SCORE:  0.5381944444444444  acc:  0.8 f1:  0.0\n",
      "EPOCHS:6\n",
      "TRAIN\n"
     ]
    },
    {
     "name": "stderr",
     "output_type": "stream",
     "text": [
      "100%|████████████████████████████████████████| 962/962 [00:08<00:00, 117.47it/s]\n"
     ]
    },
    {
     "name": "stdout",
     "output_type": "stream",
     "text": [
      " Average training loss: 0.93\n"
     ]
    },
    {
     "name": "stderr",
     "output_type": "stream",
     "text": [
      "100%|████████████████████████████████████████| 120/120 [00:00<00:00, 788.63it/s]\n"
     ]
    },
    {
     "name": "stdout",
     "output_type": "stream",
     "text": [
      " Average valid loss: 0.96\n",
      "AUC_SCORE:  0.40042105263157896  acc:  0.7833333333333333 f1:  0.0\n",
      "Test\n"
     ]
    },
    {
     "name": "stderr",
     "output_type": "stream",
     "text": [
      "100%|████████████████████████████████████████| 120/120 [00:00<00:00, 812.40it/s]\n"
     ]
    },
    {
     "name": "stdout",
     "output_type": "stream",
     "text": [
      " Average valid loss: 0.92\n",
      "AUC_SCORE:  0.5520833333333334  acc:  0.8 f1:  0.07692307692307693\n",
      "EPOCHS:7\n",
      "TRAIN\n"
     ]
    },
    {
     "name": "stderr",
     "output_type": "stream",
     "text": [
      "100%|████████████████████████████████████████| 962/962 [00:08<00:00, 117.68it/s]\n"
     ]
    },
    {
     "name": "stdout",
     "output_type": "stream",
     "text": [
      " Average training loss: 0.92\n"
     ]
    },
    {
     "name": "stderr",
     "output_type": "stream",
     "text": [
      "100%|████████████████████████████████████████| 120/120 [00:00<00:00, 803.65it/s]\n"
     ]
    },
    {
     "name": "stdout",
     "output_type": "stream",
     "text": [
      " Average valid loss: 0.96\n",
      "AUC_SCORE:  0.4058947368421053  acc:  0.775 f1:  0.0\n",
      "Test\n"
     ]
    },
    {
     "name": "stderr",
     "output_type": "stream",
     "text": [
      "100%|████████████████████████████████████████| 120/120 [00:00<00:00, 827.97it/s]\n"
     ]
    },
    {
     "name": "stdout",
     "output_type": "stream",
     "text": [
      " Average valid loss: 0.92\n",
      "AUC_SCORE:  0.5616319444444444  acc:  0.7916666666666666 f1:  0.07407407407407407\n",
      "EPOCHS:8\n",
      "TRAIN\n"
     ]
    },
    {
     "name": "stderr",
     "output_type": "stream",
     "text": [
      "100%|████████████████████████████████████████| 962/962 [00:08<00:00, 118.07it/s]\n"
     ]
    },
    {
     "name": "stdout",
     "output_type": "stream",
     "text": [
      " Average training loss: 0.92\n"
     ]
    },
    {
     "name": "stderr",
     "output_type": "stream",
     "text": [
      "100%|████████████████████████████████████████| 120/120 [00:00<00:00, 814.84it/s]\n"
     ]
    },
    {
     "name": "stdout",
     "output_type": "stream",
     "text": [
      " Average valid loss: 0.96\n",
      "AUC_SCORE:  0.4088421052631579  acc:  0.7666666666666667 f1:  0.0\n",
      "Test\n"
     ]
    },
    {
     "name": "stderr",
     "output_type": "stream",
     "text": [
      "100%|████████████████████████████████████████| 120/120 [00:00<00:00, 794.36it/s]\n"
     ]
    },
    {
     "name": "stdout",
     "output_type": "stream",
     "text": [
      " Average valid loss: 0.92\n",
      "AUC_SCORE:  0.5668402777777777  acc:  0.7833333333333333 f1:  0.13333333333333333\n",
      "EPOCHS:9\n",
      "TRAIN\n"
     ]
    },
    {
     "name": "stderr",
     "output_type": "stream",
     "text": [
      "100%|████████████████████████████████████████| 962/962 [00:08<00:00, 118.71it/s]\n"
     ]
    },
    {
     "name": "stdout",
     "output_type": "stream",
     "text": [
      " Average training loss: 0.91\n"
     ]
    },
    {
     "name": "stderr",
     "output_type": "stream",
     "text": [
      "100%|████████████████████████████████████████| 120/120 [00:00<00:00, 819.45it/s]\n"
     ]
    },
    {
     "name": "stdout",
     "output_type": "stream",
     "text": [
      " Average valid loss: 0.97\n",
      "AUC_SCORE:  0.41431578947368425  acc:  0.725 f1:  0.0\n",
      "Test\n"
     ]
    },
    {
     "name": "stderr",
     "output_type": "stream",
     "text": [
      "100%|████████████████████████████████████████| 120/120 [00:00<00:00, 800.69it/s]\n"
     ]
    },
    {
     "name": "stdout",
     "output_type": "stream",
     "text": [
      " Average valid loss: 0.91\n",
      "AUC_SCORE:  0.5681423611111112  acc:  0.7583333333333333 f1:  0.12121212121212122\n",
      "EPOCHS:10\n",
      "TRAIN\n"
     ]
    },
    {
     "name": "stderr",
     "output_type": "stream",
     "text": [
      "100%|████████████████████████████████████████| 962/962 [00:08<00:00, 116.20it/s]\n"
     ]
    },
    {
     "name": "stdout",
     "output_type": "stream",
     "text": [
      " Average training loss: 0.92\n"
     ]
    },
    {
     "name": "stderr",
     "output_type": "stream",
     "text": [
      "100%|████████████████████████████████████████| 120/120 [00:00<00:00, 792.18it/s]\n"
     ]
    },
    {
     "name": "stdout",
     "output_type": "stream",
     "text": [
      " Average valid loss: 0.97\n",
      "AUC_SCORE:  0.4134736842105263  acc:  0.7 f1:  0.052631578947368425\n",
      "9  EPOCH BEST MODEL!\n",
      "Test\n"
     ]
    },
    {
     "name": "stderr",
     "output_type": "stream",
     "text": [
      "100%|████████████████████████████████████████| 120/120 [00:00<00:00, 822.94it/s]\n"
     ]
    },
    {
     "name": "stdout",
     "output_type": "stream",
     "text": [
      " Average valid loss: 0.91\n",
      "AUC_SCORE:  0.5716145833333334  acc:  0.725 f1:  0.19512195121951217\n",
      "EPOCHS:11\n",
      "TRAIN\n"
     ]
    },
    {
     "name": "stderr",
     "output_type": "stream",
     "text": [
      "100%|████████████████████████████████████████| 962/962 [00:08<00:00, 117.78it/s]\n"
     ]
    },
    {
     "name": "stdout",
     "output_type": "stream",
     "text": [
      " Average training loss: 0.91\n"
     ]
    },
    {
     "name": "stderr",
     "output_type": "stream",
     "text": [
      "100%|████████████████████████████████████████| 120/120 [00:00<00:00, 822.72it/s]\n"
     ]
    },
    {
     "name": "stdout",
     "output_type": "stream",
     "text": [
      " Average valid loss: 0.97\n",
      "AUC_SCORE:  0.4134736842105264  acc:  0.6916666666666667 f1:  0.09756097560975609\n",
      "10  EPOCH BEST MODEL!\n",
      "Test\n"
     ]
    },
    {
     "name": "stderr",
     "output_type": "stream",
     "text": [
      "100%|████████████████████████████████████████| 120/120 [00:00<00:00, 811.71it/s]\n"
     ]
    },
    {
     "name": "stdout",
     "output_type": "stream",
     "text": [
      " Average valid loss: 0.91\n",
      "AUC_SCORE:  0.5737847222222222  acc:  0.7083333333333334 f1:  0.186046511627907\n",
      "EPOCHS:12\n",
      "TRAIN\n"
     ]
    },
    {
     "name": "stderr",
     "output_type": "stream",
     "text": [
      "100%|████████████████████████████████████████| 962/962 [00:08<00:00, 119.15it/s]\n"
     ]
    },
    {
     "name": "stdout",
     "output_type": "stream",
     "text": [
      " Average training loss: 0.91\n"
     ]
    },
    {
     "name": "stderr",
     "output_type": "stream",
     "text": [
      "100%|████████████████████████████████████████| 120/120 [00:00<00:00, 823.35it/s]\n"
     ]
    },
    {
     "name": "stdout",
     "output_type": "stream",
     "text": [
      " Average valid loss: 0.98\n",
      "AUC_SCORE:  0.4172631578947369  acc:  0.6583333333333333 f1:  0.08888888888888889\n",
      "Test\n"
     ]
    },
    {
     "name": "stderr",
     "output_type": "stream",
     "text": [
      "100%|████████████████████████████████████████| 120/120 [00:00<00:00, 844.31it/s]\n"
     ]
    },
    {
     "name": "stdout",
     "output_type": "stream",
     "text": [
      " Average valid loss: 0.91\n",
      "AUC_SCORE:  0.5733506944444444  acc:  0.6916666666666667 f1:  0.17777777777777778\n",
      "EPOCHS:13\n",
      "TRAIN\n"
     ]
    },
    {
     "name": "stderr",
     "output_type": "stream",
     "text": [
      "100%|████████████████████████████████████████| 962/962 [00:08<00:00, 119.78it/s]\n"
     ]
    },
    {
     "name": "stdout",
     "output_type": "stream",
     "text": [
      " Average training loss: 0.90\n"
     ]
    },
    {
     "name": "stderr",
     "output_type": "stream",
     "text": [
      "100%|████████████████████████████████████████| 120/120 [00:00<00:00, 820.34it/s]\n"
     ]
    },
    {
     "name": "stdout",
     "output_type": "stream",
     "text": [
      " Average valid loss: 0.98\n",
      "AUC_SCORE:  0.4223157894736842  acc:  0.65 f1:  0.16\n",
      "12  EPOCH BEST MODEL!\n",
      "Test\n"
     ]
    },
    {
     "name": "stderr",
     "output_type": "stream",
     "text": [
      "100%|████████████████████████████████████████| 120/120 [00:00<00:00, 804.82it/s]\n"
     ]
    },
    {
     "name": "stdout",
     "output_type": "stream",
     "text": [
      " Average valid loss: 0.91\n",
      "AUC_SCORE:  0.578125  acc:  0.6916666666666667 f1:  0.17777777777777778\n",
      "EPOCHS:14\n",
      "TRAIN\n"
     ]
    },
    {
     "name": "stderr",
     "output_type": "stream",
     "text": [
      "100%|████████████████████████████████████████| 962/962 [00:08<00:00, 118.74it/s]\n"
     ]
    },
    {
     "name": "stdout",
     "output_type": "stream",
     "text": [
      " Average training loss: 0.90\n"
     ]
    },
    {
     "name": "stderr",
     "output_type": "stream",
     "text": [
      "100%|████████████████████████████████████████| 120/120 [00:00<00:00, 817.51it/s]\n"
     ]
    },
    {
     "name": "stdout",
     "output_type": "stream",
     "text": [
      " Average valid loss: 0.99\n",
      "AUC_SCORE:  0.4261052631578947  acc:  0.6333333333333333 f1:  0.21428571428571427\n",
      "13  EPOCH BEST MODEL!\n",
      "Test\n"
     ]
    },
    {
     "name": "stderr",
     "output_type": "stream",
     "text": [
      "100%|████████████████████████████████████████| 120/120 [00:00<00:00, 814.29it/s]\n"
     ]
    },
    {
     "name": "stdout",
     "output_type": "stream",
     "text": [
      " Average valid loss: 0.91\n",
      "AUC_SCORE:  0.5807291666666666  acc:  0.65 f1:  0.22222222222222224\n",
      "EPOCHS:15\n",
      "TRAIN\n"
     ]
    },
    {
     "name": "stderr",
     "output_type": "stream",
     "text": [
      "100%|████████████████████████████████████████| 962/962 [00:08<00:00, 117.46it/s]\n"
     ]
    },
    {
     "name": "stdout",
     "output_type": "stream",
     "text": [
      " Average training loss: 0.89\n"
     ]
    },
    {
     "name": "stderr",
     "output_type": "stream",
     "text": [
      "100%|████████████████████████████████████████| 120/120 [00:00<00:00, 826.95it/s]\n"
     ]
    },
    {
     "name": "stdout",
     "output_type": "stream",
     "text": [
      " Average valid loss: 0.99\n",
      "AUC_SCORE:  0.43284210526315786  acc:  0.6333333333333333 f1:  0.21428571428571427\n",
      "Test\n"
     ]
    },
    {
     "name": "stderr",
     "output_type": "stream",
     "text": [
      "100%|████████████████████████████████████████| 120/120 [00:00<00:00, 845.40it/s]\n"
     ]
    },
    {
     "name": "stdout",
     "output_type": "stream",
     "text": [
      " Average valid loss: 0.91\n",
      "AUC_SCORE:  0.5872395833333334  acc:  0.65 f1:  0.22222222222222224\n",
      "EPOCHS:16\n",
      "TRAIN\n"
     ]
    },
    {
     "name": "stderr",
     "output_type": "stream",
     "text": [
      "100%|████████████████████████████████████████| 962/962 [00:08<00:00, 118.31it/s]\n"
     ]
    },
    {
     "name": "stdout",
     "output_type": "stream",
     "text": [
      " Average training loss: 0.89\n"
     ]
    },
    {
     "name": "stderr",
     "output_type": "stream",
     "text": [
      "100%|████████████████████████████████████████| 120/120 [00:00<00:00, 816.98it/s]\n"
     ]
    },
    {
     "name": "stdout",
     "output_type": "stream",
     "text": [
      " Average valid loss: 0.99\n",
      "AUC_SCORE:  0.4383157894736842  acc:  0.6083333333333333 f1:  0.20338983050847456\n",
      "Test\n"
     ]
    },
    {
     "name": "stderr",
     "output_type": "stream",
     "text": [
      "100%|████████████████████████████████████████| 120/120 [00:00<00:00, 831.36it/s]\n"
     ]
    },
    {
     "name": "stdout",
     "output_type": "stream",
     "text": [
      " Average valid loss: 0.91\n",
      "AUC_SCORE:  0.5863715277777777  acc:  0.6083333333333333 f1:  0.2033898305084746\n",
      "EPOCHS:17\n",
      "TRAIN\n"
     ]
    },
    {
     "name": "stderr",
     "output_type": "stream",
     "text": [
      "100%|████████████████████████████████████████| 962/962 [00:08<00:00, 119.34it/s]\n"
     ]
    },
    {
     "name": "stdout",
     "output_type": "stream",
     "text": [
      " Average training loss: 0.88\n"
     ]
    },
    {
     "name": "stderr",
     "output_type": "stream",
     "text": [
      "100%|████████████████████████████████████████| 120/120 [00:00<00:00, 805.93it/s]\n"
     ]
    },
    {
     "name": "stdout",
     "output_type": "stream",
     "text": [
      " Average valid loss: 1.00\n",
      "AUC_SCORE:  0.44294736842105265  acc:  0.6083333333333333 f1:  0.20338983050847456\n",
      "Test\n"
     ]
    },
    {
     "name": "stderr",
     "output_type": "stream",
     "text": [
      "100%|████████████████████████████████████████| 120/120 [00:00<00:00, 835.07it/s]\n"
     ]
    },
    {
     "name": "stdout",
     "output_type": "stream",
     "text": [
      " Average valid loss: 0.91\n",
      "AUC_SCORE:  0.5894097222222223  acc:  0.6083333333333333 f1:  0.2033898305084746\n",
      "EPOCHS:18\n",
      "TRAIN\n"
     ]
    },
    {
     "name": "stderr",
     "output_type": "stream",
     "text": [
      "100%|████████████████████████████████████████| 962/962 [00:08<00:00, 118.02it/s]\n"
     ]
    },
    {
     "name": "stdout",
     "output_type": "stream",
     "text": [
      " Average training loss: 0.88\n"
     ]
    },
    {
     "name": "stderr",
     "output_type": "stream",
     "text": [
      "100%|████████████████████████████████████████| 120/120 [00:00<00:00, 807.51it/s]\n"
     ]
    },
    {
     "name": "stdout",
     "output_type": "stream",
     "text": [
      " Average valid loss: 1.00\n",
      "AUC_SCORE:  0.44547368421052636  acc:  0.6083333333333333 f1:  0.22950819672131148\n",
      "17  EPOCH BEST MODEL!\n",
      "Test\n"
     ]
    },
    {
     "name": "stderr",
     "output_type": "stream",
     "text": [
      "100%|████████████████████████████████████████| 120/120 [00:00<00:00, 800.46it/s]\n"
     ]
    },
    {
     "name": "stdout",
     "output_type": "stream",
     "text": [
      " Average valid loss: 0.91\n",
      "AUC_SCORE:  0.5907118055555556  acc:  0.6166666666666667 f1:  0.2580645161290323\n",
      "EPOCHS:19\n",
      "TRAIN\n"
     ]
    },
    {
     "name": "stderr",
     "output_type": "stream",
     "text": [
      "100%|████████████████████████████████████████| 962/962 [00:08<00:00, 118.21it/s]\n"
     ]
    },
    {
     "name": "stdout",
     "output_type": "stream",
     "text": [
      " Average training loss: 0.87\n"
     ]
    },
    {
     "name": "stderr",
     "output_type": "stream",
     "text": [
      "100%|████████████████████████████████████████| 120/120 [00:00<00:00, 820.05it/s]\n"
     ]
    },
    {
     "name": "stdout",
     "output_type": "stream",
     "text": [
      " Average valid loss: 1.01\n",
      "AUC_SCORE:  0.4471578947368421  acc:  0.5916666666666667 f1:  0.2222222222222222\n",
      "Test\n"
     ]
    },
    {
     "name": "stderr",
     "output_type": "stream",
     "text": [
      "100%|████████████████████████████████████████| 120/120 [00:00<00:00, 832.37it/s]\n"
     ]
    },
    {
     "name": "stdout",
     "output_type": "stream",
     "text": [
      " Average valid loss: 0.91\n",
      "AUC_SCORE:  0.5928819444444444  acc:  0.6083333333333333 f1:  0.25396825396825395\n",
      "EPOCHS:20\n",
      "TRAIN\n"
     ]
    },
    {
     "name": "stderr",
     "output_type": "stream",
     "text": [
      "100%|████████████████████████████████████████| 962/962 [00:08<00:00, 118.45it/s]\n"
     ]
    },
    {
     "name": "stdout",
     "output_type": "stream",
     "text": [
      " Average training loss: 0.88\n"
     ]
    },
    {
     "name": "stderr",
     "output_type": "stream",
     "text": [
      "100%|████████████████████████████████████████| 120/120 [00:00<00:00, 820.90it/s]\n"
     ]
    },
    {
     "name": "stdout",
     "output_type": "stream",
     "text": [
      " Average valid loss: 1.01\n",
      "AUC_SCORE:  0.45094736842105265  acc:  0.5916666666666667 f1:  0.2222222222222222\n",
      "Test\n"
     ]
    },
    {
     "name": "stderr",
     "output_type": "stream",
     "text": [
      "100%|████████████████████████████████████████| 120/120 [00:00<00:00, 838.35it/s]\n"
     ]
    },
    {
     "name": "stdout",
     "output_type": "stream",
     "text": [
      " Average valid loss: 0.91\n",
      "AUC_SCORE:  0.591579861111111  acc:  0.6 f1:  0.25\n",
      "EPOCHS:21\n",
      "TRAIN\n"
     ]
    },
    {
     "name": "stderr",
     "output_type": "stream",
     "text": [
      "100%|████████████████████████████████████████| 962/962 [00:08<00:00, 117.49it/s]\n"
     ]
    },
    {
     "name": "stdout",
     "output_type": "stream",
     "text": [
      " Average training loss: 0.87\n"
     ]
    },
    {
     "name": "stderr",
     "output_type": "stream",
     "text": [
      "100%|████████████████████████████████████████| 120/120 [00:00<00:00, 810.74it/s]\n"
     ]
    },
    {
     "name": "stdout",
     "output_type": "stream",
     "text": [
      " Average valid loss: 1.01\n",
      "AUC_SCORE:  0.4530526315789474  acc:  0.5916666666666667 f1:  0.2222222222222222\n",
      "Test\n"
     ]
    },
    {
     "name": "stderr",
     "output_type": "stream",
     "text": [
      "100%|████████████████████████████████████████| 120/120 [00:00<00:00, 831.79it/s]\n"
     ]
    },
    {
     "name": "stdout",
     "output_type": "stream",
     "text": [
      " Average valid loss: 0.91\n",
      "AUC_SCORE:  0.5933159722222222  acc:  0.5916666666666667 f1:  0.24615384615384614\n",
      "EPOCHS:22\n",
      "TRAIN\n"
     ]
    },
    {
     "name": "stderr",
     "output_type": "stream",
     "text": [
      "100%|████████████████████████████████████████| 962/962 [00:08<00:00, 118.97it/s]\n"
     ]
    },
    {
     "name": "stdout",
     "output_type": "stream",
     "text": [
      " Average training loss: 0.87\n"
     ]
    },
    {
     "name": "stderr",
     "output_type": "stream",
     "text": [
      "100%|████████████████████████████████████████| 120/120 [00:00<00:00, 796.22it/s]\n"
     ]
    },
    {
     "name": "stdout",
     "output_type": "stream",
     "text": [
      " Average valid loss: 1.02\n",
      "AUC_SCORE:  0.4576842105263158  acc:  0.5916666666666667 f1:  0.2222222222222222\n",
      "Test\n"
     ]
    },
    {
     "name": "stderr",
     "output_type": "stream",
     "text": [
      "100%|████████████████████████████████████████| 120/120 [00:00<00:00, 818.11it/s]\n"
     ]
    },
    {
     "name": "stdout",
     "output_type": "stream",
     "text": [
      " Average valid loss: 0.91\n",
      "AUC_SCORE:  0.592013888888889  acc:  0.6083333333333333 f1:  0.25396825396825395\n",
      "EPOCHS:23\n",
      "TRAIN\n"
     ]
    },
    {
     "name": "stderr",
     "output_type": "stream",
     "text": [
      "100%|████████████████████████████████████████| 962/962 [00:08<00:00, 118.23it/s]\n"
     ]
    },
    {
     "name": "stdout",
     "output_type": "stream",
     "text": [
      " Average training loss: 0.86\n"
     ]
    },
    {
     "name": "stderr",
     "output_type": "stream",
     "text": [
      "100%|████████████████████████████████████████| 120/120 [00:00<00:00, 821.73it/s]\n"
     ]
    },
    {
     "name": "stdout",
     "output_type": "stream",
     "text": [
      " Average valid loss: 1.02\n",
      "AUC_SCORE:  0.45894736842105266  acc:  0.5833333333333334 f1:  0.21875\n",
      "Test\n"
     ]
    },
    {
     "name": "stderr",
     "output_type": "stream",
     "text": [
      "100%|████████████████████████████████████████| 120/120 [00:00<00:00, 822.95it/s]\n"
     ]
    },
    {
     "name": "stdout",
     "output_type": "stream",
     "text": [
      " Average valid loss: 0.92\n",
      "AUC_SCORE:  0.5911458333333334  acc:  0.6166666666666667 f1:  0.3428571428571428\n",
      "EPOCHS:24\n",
      "TRAIN\n"
     ]
    },
    {
     "name": "stderr",
     "output_type": "stream",
     "text": [
      "100%|████████████████████████████████████████| 962/962 [00:08<00:00, 117.45it/s]\n"
     ]
    },
    {
     "name": "stdout",
     "output_type": "stream",
     "text": [
      " Average training loss: 0.85\n"
     ]
    },
    {
     "name": "stderr",
     "output_type": "stream",
     "text": [
      "100%|████████████████████████████████████████| 120/120 [00:00<00:00, 821.60it/s]\n"
     ]
    },
    {
     "name": "stdout",
     "output_type": "stream",
     "text": [
      " Average valid loss: 1.03\n",
      "AUC_SCORE:  0.4694736842105263  acc:  0.5916666666666667 f1:  0.2222222222222222\n",
      "Test\n"
     ]
    },
    {
     "name": "stderr",
     "output_type": "stream",
     "text": [
      "100%|████████████████████████████████████████| 120/120 [00:00<00:00, 832.11it/s]\n"
     ]
    },
    {
     "name": "stdout",
     "output_type": "stream",
     "text": [
      " Average valid loss: 0.91\n",
      "AUC_SCORE:  0.5941840277777778  acc:  0.6166666666666667 f1:  0.28125000000000006\n",
      "EPOCHS:25\n",
      "TRAIN\n"
     ]
    },
    {
     "name": "stderr",
     "output_type": "stream",
     "text": [
      "100%|████████████████████████████████████████| 962/962 [00:08<00:00, 117.19it/s]\n"
     ]
    },
    {
     "name": "stdout",
     "output_type": "stream",
     "text": [
      " Average training loss: 0.84\n"
     ]
    },
    {
     "name": "stderr",
     "output_type": "stream",
     "text": [
      "100%|████████████████████████████████████████| 120/120 [00:00<00:00, 816.57it/s]\n"
     ]
    },
    {
     "name": "stdout",
     "output_type": "stream",
     "text": [
      " Average valid loss: 1.03\n",
      "AUC_SCORE:  0.47326315789473683  acc:  0.5916666666666667 f1:  0.2222222222222222\n",
      "Test\n"
     ]
    },
    {
     "name": "stderr",
     "output_type": "stream",
     "text": [
      "100%|████████████████████████████████████████| 120/120 [00:00<00:00, 790.62it/s]\n"
     ]
    },
    {
     "name": "stdout",
     "output_type": "stream",
     "text": [
      " Average valid loss: 0.92\n",
      "AUC_SCORE:  0.5993923611111112  acc:  0.6166666666666667 f1:  0.36111111111111105\n"
     ]
    },
    {
     "name": "stderr",
     "output_type": "stream",
     "text": [
      "100%|████████████████████████████████████████| 120/120 [00:00<00:00, 776.68it/s]"
     ]
    },
    {
     "name": "stdout",
     "output_type": "stream",
     "text": [
      " Average valid loss: 0.91\n",
      "AUC_SCORE:  0.5907118055555556  acc:  0.6166666666666667 f1:  0.2580645161290323\n",
      "BEST MODEL\n",
      "AUC_SCORE:  0.5907118055555556  acc:  0.6166666666666667 f1:  0.2580645161290323\n",
      "{'auc_micro': 0.5907118055555556, 'acc': 0.6166666666666667, 'f1': 0.2580645161290323, 'pred': [[0, 0, 0, 0, 0, 0, 0, 0, 0, 0], [0, 0, 0, 0, 1, 1, 0, 0, 0, 0], [0, 0, 0, 0, 0, 0, 1, 1, 0, 1], [1, 0, 1, 0, 0, 0, 1, 1, 0, 0], [0, 0, 1, 0, 0, 1, 0, 1, 0, 0], [0, 0, 1, 1, 0, 1, 0, 0, 0, 0], [0, 0, 1, 1, 1, 0, 1, 0, 0, 0], [0, 1, 0, 0, 0, 0, 1, 1, 1, 0], [0, 1, 1, 1, 1, 0, 0, 0, 0, 0], [1, 1, 0, 0, 1, 0, 0, 1, 0, 1], [0, 1, 1, 1, 0, 0, 0, 0, 0, 0], [0, 0, 0, 0, 0, 1, 1, 1, 0, 0], [], [], [], [], [], [], [], []]}\n"
     ]
    },
    {
     "name": "stderr",
     "output_type": "stream",
     "text": [
      "\n"
     ]
    }
   ],
   "source": [
    "bert2 = BertModel(d_model=400).to('cuda')\n",
    "score = fit(bert2, train_data,valid_data,test_data,EPOCHS=25)\n",
    "print(score)"
   ]
  },
  {
   "cell_type": "code",
   "execution_count": null,
   "id": "3d782c62",
   "metadata": {},
   "outputs": [],
   "source": []
  },
  {
   "cell_type": "markdown",
   "id": "52e282ac",
   "metadata": {},
   "source": [
    "# Text rank"
   ]
  },
  {
   "cell_type": "code",
   "execution_count": 117,
   "id": "e8b895a9",
   "metadata": {},
   "outputs": [],
   "source": [
    "path1 = 'word2vec_model_text/'\n",
    "path2 = 'data/scriptbase/'\n",
    "filenames = os.listdir(path1)\n",
    "train_data = []\n",
    "valid_data = []\n",
    "test_data = []\n",
    "one = 0\n",
    "zero = 0\n",
    "end = torch.ones(1,1,384)\n",
    "\n",
    "for filename in filenames:\n",
    "    genres = []\n",
    "    movie_name = filename[:-14]\n",
    "    cult = 0\n",
    "    with open(path2+movie_name+'/processed/imdb_meta.txt','r') as f:\n",
    "        lines = f.readlines()\n",
    "        for line in lines:\n",
    "            if 'keyword' in line:\n",
    "                try:\n",
    "                    keyword  = line.strip().split('\\t')[1]\n",
    "                    keywords.append(keyword)\n",
    "                except:\n",
    "                    pass\n",
    "                if 'independent film'==keyword:\n",
    "                    cult = 1\n",
    "        \n",
    "    w2v=Word2Vec.load(path1 + filename)\n",
    "    base = 'scene_'\n",
    "    scene_num = 0\n",
    "    max_scene = 0\n",
    "    for node in w2v.wv.index_to_key:\n",
    "        if base in node:\n",
    "            scene_num += 1\n",
    "            if int(node[6:])>max_scene:\n",
    "                max_scene = int(node[6:])\n",
    "    embs = torch.zeros(1,scene_num+1,384)\n",
    "    k = 0\n",
    "    for i in range(1,max_scene+1):\n",
    "        emb_name = base + str(i)\n",
    "        if emb_name in w2v.wv.index_to_key:\n",
    "            emb = w2v.wv[emb_name]\n",
    "            emb = torch.from_numpy(emb)\n",
    "            embs[0][k] = emb\n",
    "            k += 1\n",
    "    embs[0][-1] = end\n",
    "        \n",
    "        \n",
    "    rand = random.randint(0,100)    \n",
    "    if movie_name in movie_split['train']:\n",
    "        train_data.append([embs, [cult]])\n",
    "    elif movie_name in movie_split['valid']:\n",
    "        valid_data.append([embs, [cult]])\n",
    "    \n",
    "    elif movie_name in movie_split['test']:\n",
    "        test_data.append([embs, [cult]])\n",
    "    \n",
    "    if cult:\n",
    "        one += 1\n",
    "    else:\n",
    "        zero += 1"
   ]
  },
  {
   "cell_type": "code",
   "execution_count": 118,
   "id": "249597c7",
   "metadata": {},
   "outputs": [
    {
     "name": "stdout",
     "output_type": "stream",
     "text": [
      "EPOCHS:1\n",
      "TRAIN\n"
     ]
    },
    {
     "name": "stderr",
     "output_type": "stream",
     "text": [
      "100%|████████████████████████████████████████| 960/960 [00:08<00:00, 117.53it/s]\n"
     ]
    },
    {
     "name": "stdout",
     "output_type": "stream",
     "text": [
      " Average training loss: 0.95\n"
     ]
    },
    {
     "name": "stderr",
     "output_type": "stream",
     "text": [
      "100%|████████████████████████████████████████| 121/121 [00:00<00:00, 821.01it/s]\n"
     ]
    },
    {
     "name": "stdout",
     "output_type": "stream",
     "text": [
      " Average valid loss: 0.94\n",
      "AUC_SCORE:  0.5850202429149798  acc:  0.7851239669421488 f1:  0.0\n",
      "Test\n"
     ]
    },
    {
     "name": "stderr",
     "output_type": "stream",
     "text": [
      "100%|████████████████████████████████████████| 120/120 [00:00<00:00, 831.74it/s]\n"
     ]
    },
    {
     "name": "stdout",
     "output_type": "stream",
     "text": [
      " Average valid loss: 0.92\n",
      "AUC_SCORE:  0.4973958333333333  acc:  0.8 f1:  0.0\n",
      "EPOCHS:2\n",
      "TRAIN\n"
     ]
    },
    {
     "name": "stderr",
     "output_type": "stream",
     "text": [
      "100%|████████████████████████████████████████| 960/960 [00:08<00:00, 118.19it/s]\n"
     ]
    },
    {
     "name": "stdout",
     "output_type": "stream",
     "text": [
      " Average training loss: 0.94\n"
     ]
    },
    {
     "name": "stderr",
     "output_type": "stream",
     "text": [
      "100%|████████████████████████████████████████| 121/121 [00:00<00:00, 817.41it/s]\n"
     ]
    },
    {
     "name": "stdout",
     "output_type": "stream",
     "text": [
      " Average valid loss: 0.94\n",
      "AUC_SCORE:  0.5663967611336033  acc:  0.7851239669421488 f1:  0.0\n",
      "Test\n"
     ]
    },
    {
     "name": "stderr",
     "output_type": "stream",
     "text": [
      "100%|████████████████████████████████████████| 120/120 [00:00<00:00, 838.46it/s]\n"
     ]
    },
    {
     "name": "stdout",
     "output_type": "stream",
     "text": [
      " Average valid loss: 0.92\n",
      "AUC_SCORE:  0.5121527777777778  acc:  0.8 f1:  0.0\n",
      "EPOCHS:3\n",
      "TRAIN\n"
     ]
    },
    {
     "name": "stderr",
     "output_type": "stream",
     "text": [
      "100%|████████████████████████████████████████| 960/960 [00:08<00:00, 115.26it/s]\n"
     ]
    },
    {
     "name": "stdout",
     "output_type": "stream",
     "text": [
      " Average training loss: 0.94\n"
     ]
    },
    {
     "name": "stderr",
     "output_type": "stream",
     "text": [
      "100%|████████████████████████████████████████| 121/121 [00:00<00:00, 795.80it/s]\n"
     ]
    },
    {
     "name": "stdout",
     "output_type": "stream",
     "text": [
      " Average valid loss: 0.94\n",
      "AUC_SCORE:  0.5483805668016194  acc:  0.7851239669421488 f1:  0.0\n",
      "Test\n"
     ]
    },
    {
     "name": "stderr",
     "output_type": "stream",
     "text": [
      "100%|████████████████████████████████████████| 120/120 [00:00<00:00, 803.91it/s]\n"
     ]
    },
    {
     "name": "stdout",
     "output_type": "stream",
     "text": [
      " Average valid loss: 0.92\n",
      "AUC_SCORE:  0.5308159722222222  acc:  0.8 f1:  0.0\n",
      "EPOCHS:4\n",
      "TRAIN\n"
     ]
    },
    {
     "name": "stderr",
     "output_type": "stream",
     "text": [
      "100%|████████████████████████████████████████| 960/960 [00:08<00:00, 118.56it/s]\n"
     ]
    },
    {
     "name": "stdout",
     "output_type": "stream",
     "text": [
      " Average training loss: 0.94\n"
     ]
    },
    {
     "name": "stderr",
     "output_type": "stream",
     "text": [
      "100%|████████████████████████████████████████| 121/121 [00:00<00:00, 797.74it/s]\n"
     ]
    },
    {
     "name": "stdout",
     "output_type": "stream",
     "text": [
      " Average valid loss: 0.95\n",
      "AUC_SCORE:  0.539676113360324  acc:  0.7851239669421488 f1:  0.0\n",
      "Test\n"
     ]
    },
    {
     "name": "stderr",
     "output_type": "stream",
     "text": [
      "100%|████████████████████████████████████████| 120/120 [00:00<00:00, 804.15it/s]\n"
     ]
    },
    {
     "name": "stdout",
     "output_type": "stream",
     "text": [
      " Average valid loss: 0.92\n",
      "AUC_SCORE:  0.5342881944444444  acc:  0.8 f1:  0.0\n",
      "EPOCHS:5\n",
      "TRAIN\n"
     ]
    },
    {
     "name": "stderr",
     "output_type": "stream",
     "text": [
      "100%|████████████████████████████████████████| 960/960 [00:08<00:00, 119.10it/s]\n"
     ]
    },
    {
     "name": "stdout",
     "output_type": "stream",
     "text": [
      " Average training loss: 0.94\n"
     ]
    },
    {
     "name": "stderr",
     "output_type": "stream",
     "text": [
      "100%|████████████████████████████████████████| 121/121 [00:00<00:00, 835.82it/s]\n"
     ]
    },
    {
     "name": "stdout",
     "output_type": "stream",
     "text": [
      " Average valid loss: 0.95\n",
      "AUC_SCORE:  0.5323886639676113  acc:  0.7851239669421488 f1:  0.0\n",
      "Test\n"
     ]
    },
    {
     "name": "stderr",
     "output_type": "stream",
     "text": [
      "100%|████████████████████████████████████████| 120/120 [00:00<00:00, 852.59it/s]\n"
     ]
    },
    {
     "name": "stdout",
     "output_type": "stream",
     "text": [
      " Average valid loss: 0.92\n",
      "AUC_SCORE:  0.5368923611111112  acc:  0.8 f1:  0.0\n",
      "EPOCHS:6\n",
      "TRAIN\n"
     ]
    },
    {
     "name": "stderr",
     "output_type": "stream",
     "text": [
      "100%|████████████████████████████████████████| 960/960 [00:08<00:00, 118.20it/s]\n"
     ]
    },
    {
     "name": "stdout",
     "output_type": "stream",
     "text": [
      " Average training loss: 0.93\n"
     ]
    },
    {
     "name": "stderr",
     "output_type": "stream",
     "text": [
      "100%|████████████████████████████████████████| 121/121 [00:00<00:00, 843.79it/s]\n"
     ]
    },
    {
     "name": "stdout",
     "output_type": "stream",
     "text": [
      " Average valid loss: 0.95\n",
      "AUC_SCORE:  0.5242914979757085  acc:  0.7851239669421488 f1:  0.0\n",
      "Test\n"
     ]
    },
    {
     "name": "stderr",
     "output_type": "stream",
     "text": [
      "100%|████████████████████████████████████████| 120/120 [00:00<00:00, 846.56it/s]\n"
     ]
    },
    {
     "name": "stdout",
     "output_type": "stream",
     "text": [
      " Average valid loss: 0.92\n",
      "AUC_SCORE:  0.5355902777777778  acc:  0.8 f1:  0.0\n",
      "EPOCHS:7\n",
      "TRAIN\n"
     ]
    },
    {
     "name": "stderr",
     "output_type": "stream",
     "text": [
      "100%|████████████████████████████████████████| 960/960 [00:08<00:00, 119.47it/s]\n"
     ]
    },
    {
     "name": "stdout",
     "output_type": "stream",
     "text": [
      " Average training loss: 0.93\n"
     ]
    },
    {
     "name": "stderr",
     "output_type": "stream",
     "text": [
      "100%|████████████████████████████████████████| 121/121 [00:00<00:00, 831.64it/s]\n"
     ]
    },
    {
     "name": "stdout",
     "output_type": "stream",
     "text": [
      " Average valid loss: 0.95\n",
      "AUC_SCORE:  0.5149797570850203  acc:  0.7851239669421488 f1:  0.0\n",
      "Test\n"
     ]
    },
    {
     "name": "stderr",
     "output_type": "stream",
     "text": [
      "100%|████████████████████████████████████████| 120/120 [00:00<00:00, 809.42it/s]\n"
     ]
    },
    {
     "name": "stdout",
     "output_type": "stream",
     "text": [
      " Average valid loss: 0.92\n",
      "AUC_SCORE:  0.5421006944444444  acc:  0.8 f1:  0.0\n",
      "EPOCHS:8\n",
      "TRAIN\n"
     ]
    },
    {
     "name": "stderr",
     "output_type": "stream",
     "text": [
      "100%|████████████████████████████████████████| 960/960 [00:08<00:00, 118.96it/s]\n"
     ]
    },
    {
     "name": "stdout",
     "output_type": "stream",
     "text": [
      " Average training loss: 0.93\n"
     ]
    },
    {
     "name": "stderr",
     "output_type": "stream",
     "text": [
      "100%|████████████████████████████████████████| 121/121 [00:00<00:00, 822.62it/s]\n"
     ]
    },
    {
     "name": "stdout",
     "output_type": "stream",
     "text": [
      " Average valid loss: 0.95\n",
      "AUC_SCORE:  0.5133603238866397  acc:  0.7851239669421488 f1:  0.0\n",
      "Test\n"
     ]
    },
    {
     "name": "stderr",
     "output_type": "stream",
     "text": [
      "100%|████████████████████████████████████████| 120/120 [00:00<00:00, 834.77it/s]\n"
     ]
    },
    {
     "name": "stdout",
     "output_type": "stream",
     "text": [
      " Average valid loss: 0.92\n",
      "AUC_SCORE:  0.5473090277777777  acc:  0.8 f1:  0.0\n",
      "EPOCHS:9\n",
      "TRAIN\n"
     ]
    },
    {
     "name": "stderr",
     "output_type": "stream",
     "text": [
      "100%|████████████████████████████████████████| 960/960 [00:08<00:00, 116.26it/s]\n"
     ]
    },
    {
     "name": "stdout",
     "output_type": "stream",
     "text": [
      " Average training loss: 0.92\n"
     ]
    },
    {
     "name": "stderr",
     "output_type": "stream",
     "text": [
      "100%|████████████████████████████████████████| 121/121 [00:00<00:00, 800.05it/s]"
     ]
    },
    {
     "name": "stdout",
     "output_type": "stream",
     "text": [
      " Average valid loss: 0.95\n",
      "AUC_SCORE:  0.5097165991902834  acc:  0.7933884297520661 f1:  0.07407407407407407\n",
      "8  EPOCH BEST MODEL!\n"
     ]
    },
    {
     "name": "stderr",
     "output_type": "stream",
     "text": [
      "\n"
     ]
    },
    {
     "name": "stdout",
     "output_type": "stream",
     "text": [
      "Test\n"
     ]
    },
    {
     "name": "stderr",
     "output_type": "stream",
     "text": [
      "100%|████████████████████████████████████████| 120/120 [00:00<00:00, 813.86it/s]\n"
     ]
    },
    {
     "name": "stdout",
     "output_type": "stream",
     "text": [
      " Average valid loss: 0.92\n",
      "AUC_SCORE:  0.54296875  acc:  0.7833333333333333 f1:  0.0\n",
      "EPOCHS:10\n",
      "TRAIN\n"
     ]
    },
    {
     "name": "stderr",
     "output_type": "stream",
     "text": [
      "100%|████████████████████████████████████████| 960/960 [00:08<00:00, 117.58it/s]\n"
     ]
    },
    {
     "name": "stdout",
     "output_type": "stream",
     "text": [
      " Average training loss: 0.92\n"
     ]
    },
    {
     "name": "stderr",
     "output_type": "stream",
     "text": [
      "100%|████████████████████████████████████████| 121/121 [00:00<00:00, 832.47it/s]\n"
     ]
    },
    {
     "name": "stdout",
     "output_type": "stream",
     "text": [
      " Average valid loss: 0.96\n",
      "AUC_SCORE:  0.5060728744939271  acc:  0.7851239669421488 f1:  0.07142857142857144\n",
      "Test\n"
     ]
    },
    {
     "name": "stderr",
     "output_type": "stream",
     "text": [
      "100%|████████████████████████████████████████| 120/120 [00:00<00:00, 854.32it/s]\n"
     ]
    },
    {
     "name": "stdout",
     "output_type": "stream",
     "text": [
      " Average valid loss: 0.92\n",
      "AUC_SCORE:  0.5477430555555556  acc:  0.7583333333333333 f1:  0.0\n",
      "EPOCHS:11\n",
      "TRAIN\n"
     ]
    },
    {
     "name": "stderr",
     "output_type": "stream",
     "text": [
      "100%|████████████████████████████████████████| 960/960 [00:08<00:00, 119.93it/s]\n"
     ]
    },
    {
     "name": "stdout",
     "output_type": "stream",
     "text": [
      " Average training loss: 0.92\n"
     ]
    },
    {
     "name": "stderr",
     "output_type": "stream",
     "text": [
      "100%|████████████████████████████████████████| 121/121 [00:00<00:00, 841.89it/s]\n"
     ]
    },
    {
     "name": "stdout",
     "output_type": "stream",
     "text": [
      " Average valid loss: 0.96\n",
      "AUC_SCORE:  0.5085020242914979  acc:  0.7768595041322314 f1:  0.06896551724137931\n",
      "Test\n"
     ]
    },
    {
     "name": "stderr",
     "output_type": "stream",
     "text": [
      "100%|████████████████████████████████████████| 120/120 [00:00<00:00, 853.75it/s]\n"
     ]
    },
    {
     "name": "stdout",
     "output_type": "stream",
     "text": [
      " Average valid loss: 0.92\n",
      "AUC_SCORE:  0.5473090277777778  acc:  0.75 f1:  0.0625\n",
      "EPOCHS:12\n",
      "TRAIN\n"
     ]
    },
    {
     "name": "stderr",
     "output_type": "stream",
     "text": [
      "100%|████████████████████████████████████████| 960/960 [00:08<00:00, 119.95it/s]\n"
     ]
    },
    {
     "name": "stdout",
     "output_type": "stream",
     "text": [
      " Average training loss: 0.92\n"
     ]
    },
    {
     "name": "stderr",
     "output_type": "stream",
     "text": [
      "100%|████████████████████████████████████████| 121/121 [00:00<00:00, 836.52it/s]"
     ]
    },
    {
     "name": "stdout",
     "output_type": "stream",
     "text": [
      " Average valid loss: 0.96\n",
      "AUC_SCORE:  0.5089068825910932  acc:  0.768595041322314 f1:  0.125\n",
      "11  EPOCH BEST MODEL!\n"
     ]
    },
    {
     "name": "stderr",
     "output_type": "stream",
     "text": [
      "\n"
     ]
    },
    {
     "name": "stdout",
     "output_type": "stream",
     "text": [
      "Test\n"
     ]
    },
    {
     "name": "stderr",
     "output_type": "stream",
     "text": [
      "100%|████████████████████████████████████████| 120/120 [00:00<00:00, 818.51it/s]\n"
     ]
    },
    {
     "name": "stdout",
     "output_type": "stream",
     "text": [
      " Average valid loss: 0.92\n",
      "AUC_SCORE:  0.5486111111111112  acc:  0.7166666666666667 f1:  0.05555555555555555\n",
      "EPOCHS:13\n",
      "TRAIN\n"
     ]
    },
    {
     "name": "stderr",
     "output_type": "stream",
     "text": [
      "100%|████████████████████████████████████████| 960/960 [00:08<00:00, 119.10it/s]\n"
     ]
    },
    {
     "name": "stdout",
     "output_type": "stream",
     "text": [
      " Average training loss: 0.91\n"
     ]
    },
    {
     "name": "stderr",
     "output_type": "stream",
     "text": [
      "100%|████████████████████████████████████████| 121/121 [00:00<00:00, 815.55it/s]"
     ]
    },
    {
     "name": "stdout",
     "output_type": "stream",
     "text": [
      " Average valid loss: 0.96\n",
      "AUC_SCORE:  0.5101214574898785  acc:  0.7603305785123967 f1:  0.17142857142857146\n",
      "12  EPOCH BEST MODEL!\n"
     ]
    },
    {
     "name": "stderr",
     "output_type": "stream",
     "text": [
      "\n"
     ]
    },
    {
     "name": "stdout",
     "output_type": "stream",
     "text": [
      "Test\n"
     ]
    },
    {
     "name": "stderr",
     "output_type": "stream",
     "text": [
      "100%|████████████████████████████████████████| 120/120 [00:00<00:00, 807.78it/s]\n"
     ]
    },
    {
     "name": "stdout",
     "output_type": "stream",
     "text": [
      " Average valid loss: 0.92\n",
      "AUC_SCORE:  0.5520833333333333  acc:  0.7 f1:  0.1\n",
      "EPOCHS:14\n",
      "TRAIN\n"
     ]
    },
    {
     "name": "stderr",
     "output_type": "stream",
     "text": [
      "100%|████████████████████████████████████████| 960/960 [00:08<00:00, 118.29it/s]\n"
     ]
    },
    {
     "name": "stdout",
     "output_type": "stream",
     "text": [
      " Average training loss: 0.91\n"
     ]
    },
    {
     "name": "stderr",
     "output_type": "stream",
     "text": [
      "100%|████████████████████████████████████████| 121/121 [00:00<00:00, 827.80it/s]"
     ]
    },
    {
     "name": "stdout",
     "output_type": "stream",
     "text": [
      " Average valid loss: 0.96\n",
      "AUC_SCORE:  0.5117408906882591  acc:  0.743801652892562 f1:  0.2439024390243902\n",
      "13  EPOCH BEST MODEL!\n"
     ]
    },
    {
     "name": "stderr",
     "output_type": "stream",
     "text": [
      "\n"
     ]
    },
    {
     "name": "stdout",
     "output_type": "stream",
     "text": [
      "Test\n"
     ]
    },
    {
     "name": "stderr",
     "output_type": "stream",
     "text": [
      "100%|████████████████████████████████████████| 120/120 [00:00<00:00, 820.46it/s]\n"
     ]
    },
    {
     "name": "stdout",
     "output_type": "stream",
     "text": [
      " Average valid loss: 0.92\n",
      "AUC_SCORE:  0.5512152777777778  acc:  0.6916666666666667 f1:  0.17777777777777778\n",
      "EPOCHS:15\n",
      "TRAIN\n"
     ]
    },
    {
     "name": "stderr",
     "output_type": "stream",
     "text": [
      "100%|████████████████████████████████████████| 960/960 [00:08<00:00, 117.99it/s]\n"
     ]
    },
    {
     "name": "stdout",
     "output_type": "stream",
     "text": [
      " Average training loss: 0.90\n"
     ]
    },
    {
     "name": "stderr",
     "output_type": "stream",
     "text": [
      "100%|████████████████████████████████████████| 121/121 [00:00<00:00, 828.29it/s]\n"
     ]
    },
    {
     "name": "stdout",
     "output_type": "stream",
     "text": [
      " Average valid loss: 0.97\n",
      "AUC_SCORE:  0.5137651821862348  acc:  0.7024793388429752 f1:  0.2173913043478261\n",
      "Test\n"
     ]
    },
    {
     "name": "stderr",
     "output_type": "stream",
     "text": [
      "100%|████████████████████████████████████████| 120/120 [00:00<00:00, 847.85it/s]\n"
     ]
    },
    {
     "name": "stdout",
     "output_type": "stream",
     "text": [
      " Average valid loss: 0.92\n",
      "AUC_SCORE:  0.5516493055555555  acc:  0.675 f1:  0.23529411764705882\n",
      "EPOCHS:16\n",
      "TRAIN\n"
     ]
    },
    {
     "name": "stderr",
     "output_type": "stream",
     "text": [
      "100%|████████████████████████████████████████| 960/960 [00:08<00:00, 117.78it/s]\n"
     ]
    },
    {
     "name": "stdout",
     "output_type": "stream",
     "text": [
      " Average training loss: 0.90\n"
     ]
    },
    {
     "name": "stderr",
     "output_type": "stream",
     "text": [
      "100%|████████████████████████████████████████| 121/121 [00:00<00:00, 823.98it/s]"
     ]
    },
    {
     "name": "stdout",
     "output_type": "stream",
     "text": [
      " Average valid loss: 0.97\n",
      "AUC_SCORE:  0.5105263157894737  acc:  0.6694214876033058 f1:  0.2592592592592593\n",
      "15  EPOCH BEST MODEL!\n"
     ]
    },
    {
     "name": "stderr",
     "output_type": "stream",
     "text": [
      "\n"
     ]
    },
    {
     "name": "stdout",
     "output_type": "stream",
     "text": [
      "Test\n"
     ]
    },
    {
     "name": "stderr",
     "output_type": "stream",
     "text": [
      "100%|████████████████████████████████████████| 120/120 [00:00<00:00, 806.67it/s]\n"
     ]
    },
    {
     "name": "stdout",
     "output_type": "stream",
     "text": [
      " Average valid loss: 0.92\n",
      "AUC_SCORE:  0.5551215277777778  acc:  0.6333333333333333 f1:  0.2413793103448276\n",
      "EPOCHS:17\n",
      "TRAIN\n"
     ]
    },
    {
     "name": "stderr",
     "output_type": "stream",
     "text": [
      "100%|████████████████████████████████████████| 960/960 [00:08<00:00, 118.28it/s]\n"
     ]
    },
    {
     "name": "stdout",
     "output_type": "stream",
     "text": [
      " Average training loss: 0.89\n"
     ]
    },
    {
     "name": "stderr",
     "output_type": "stream",
     "text": [
      "100%|████████████████████████████████████████| 121/121 [00:00<00:00, 842.50it/s]\n"
     ]
    },
    {
     "name": "stdout",
     "output_type": "stream",
     "text": [
      " Average valid loss: 0.97\n",
      "AUC_SCORE:  0.5125506072874495  acc:  0.6694214876033058 f1:  0.2592592592592593\n",
      "Test\n"
     ]
    },
    {
     "name": "stderr",
     "output_type": "stream",
     "text": [
      "100%|████████████████████████████████████████| 120/120 [00:00<00:00, 862.36it/s]\n"
     ]
    },
    {
     "name": "stdout",
     "output_type": "stream",
     "text": [
      " Average valid loss: 0.92\n",
      "AUC_SCORE:  0.5542534722222222  acc:  0.6333333333333333 f1:  0.2413793103448276\n",
      "EPOCHS:18\n",
      "TRAIN\n"
     ]
    },
    {
     "name": "stderr",
     "output_type": "stream",
     "text": [
      "100%|████████████████████████████████████████| 960/960 [00:08<00:00, 117.55it/s]\n"
     ]
    },
    {
     "name": "stdout",
     "output_type": "stream",
     "text": [
      " Average training loss: 0.89\n"
     ]
    },
    {
     "name": "stderr",
     "output_type": "stream",
     "text": [
      "100%|████████████████████████████████████████| 121/121 [00:00<00:00, 838.79it/s]\n"
     ]
    },
    {
     "name": "stdout",
     "output_type": "stream",
     "text": [
      " Average valid loss: 0.97\n",
      "AUC_SCORE:  0.5125506072874495  acc:  0.6694214876033058 f1:  0.2592592592592593\n",
      "Test\n"
     ]
    },
    {
     "name": "stderr",
     "output_type": "stream",
     "text": [
      "100%|████████████████████████████████████████| 120/120 [00:00<00:00, 860.26it/s]\n"
     ]
    },
    {
     "name": "stdout",
     "output_type": "stream",
     "text": [
      " Average valid loss: 0.92\n",
      "AUC_SCORE:  0.5559895833333333  acc:  0.6333333333333333 f1:  0.26666666666666666\n",
      "EPOCHS:19\n",
      "TRAIN\n"
     ]
    },
    {
     "name": "stderr",
     "output_type": "stream",
     "text": [
      "100%|████████████████████████████████████████| 960/960 [00:08<00:00, 118.88it/s]\n"
     ]
    },
    {
     "name": "stdout",
     "output_type": "stream",
     "text": [
      " Average training loss: 0.89\n"
     ]
    },
    {
     "name": "stderr",
     "output_type": "stream",
     "text": [
      "100%|████████████████████████████████████████| 121/121 [00:00<00:00, 834.32it/s]\n"
     ]
    },
    {
     "name": "stdout",
     "output_type": "stream",
     "text": [
      " Average valid loss: 0.98\n",
      "AUC_SCORE:  0.511740890688259  acc:  0.6611570247933884 f1:  0.2545454545454545\n",
      "Test\n"
     ]
    },
    {
     "name": "stderr",
     "output_type": "stream",
     "text": [
      "100%|████████████████████████████████████████| 120/120 [00:00<00:00, 842.49it/s]\n"
     ]
    },
    {
     "name": "stdout",
     "output_type": "stream",
     "text": [
      " Average valid loss: 0.92\n",
      "AUC_SCORE:  0.5598958333333333  acc:  0.6333333333333333 f1:  0.26666666666666666\n",
      "EPOCHS:20\n",
      "TRAIN\n"
     ]
    },
    {
     "name": "stderr",
     "output_type": "stream",
     "text": [
      "100%|████████████████████████████████████████| 960/960 [00:08<00:00, 119.40it/s]\n"
     ]
    },
    {
     "name": "stdout",
     "output_type": "stream",
     "text": [
      " Average training loss: 0.89\n"
     ]
    },
    {
     "name": "stderr",
     "output_type": "stream",
     "text": [
      "100%|████████████████████████████████████████| 121/121 [00:00<00:00, 831.71it/s]\n"
     ]
    },
    {
     "name": "stdout",
     "output_type": "stream",
     "text": [
      " Average valid loss: 0.98\n",
      "AUC_SCORE:  0.5121457489878543  acc:  0.6446280991735537 f1:  0.2456140350877193\n",
      "Test\n"
     ]
    },
    {
     "name": "stderr",
     "output_type": "stream",
     "text": [
      "100%|████████████████████████████████████████| 120/120 [00:00<00:00, 855.02it/s]\n"
     ]
    },
    {
     "name": "stdout",
     "output_type": "stream",
     "text": [
      " Average valid loss: 0.92\n",
      "AUC_SCORE:  0.5611979166666666  acc:  0.6416666666666667 f1:  0.2711864406779661\n",
      "EPOCHS:21\n",
      "TRAIN\n"
     ]
    },
    {
     "name": "stderr",
     "output_type": "stream",
     "text": [
      "100%|████████████████████████████████████████| 960/960 [00:07<00:00, 120.14it/s]\n"
     ]
    },
    {
     "name": "stdout",
     "output_type": "stream",
     "text": [
      " Average training loss: 0.88\n"
     ]
    },
    {
     "name": "stderr",
     "output_type": "stream",
     "text": [
      "100%|████████████████████████████████████████| 121/121 [00:00<00:00, 829.20it/s]\n"
     ]
    },
    {
     "name": "stdout",
     "output_type": "stream",
     "text": [
      " Average valid loss: 0.98\n",
      "AUC_SCORE:  0.5137651821862348  acc:  0.6446280991735537 f1:  0.2456140350877193\n",
      "Test\n"
     ]
    },
    {
     "name": "stderr",
     "output_type": "stream",
     "text": [
      "100%|████████████████████████████████████████| 120/120 [00:00<00:00, 849.54it/s]\n"
     ]
    },
    {
     "name": "stdout",
     "output_type": "stream",
     "text": [
      " Average valid loss: 0.92\n",
      "AUC_SCORE:  0.5655381944444444  acc:  0.6416666666666667 f1:  0.2950819672131148\n",
      "EPOCHS:22\n",
      "TRAIN\n"
     ]
    },
    {
     "name": "stderr",
     "output_type": "stream",
     "text": [
      "100%|████████████████████████████████████████| 960/960 [00:08<00:00, 119.68it/s]\n"
     ]
    },
    {
     "name": "stdout",
     "output_type": "stream",
     "text": [
      " Average training loss: 0.87\n"
     ]
    },
    {
     "name": "stderr",
     "output_type": "stream",
     "text": [
      "100%|████████████████████████████████████████| 121/121 [00:00<00:00, 806.22it/s]\n"
     ]
    },
    {
     "name": "stdout",
     "output_type": "stream",
     "text": [
      " Average valid loss: 0.99\n",
      "AUC_SCORE:  0.5145748987854251  acc:  0.6446280991735537 f1:  0.2456140350877193\n",
      "Test\n"
     ]
    },
    {
     "name": "stderr",
     "output_type": "stream",
     "text": [
      "100%|████████████████████████████████████████| 120/120 [00:00<00:00, 825.30it/s]\n"
     ]
    },
    {
     "name": "stdout",
     "output_type": "stream",
     "text": [
      " Average valid loss: 0.92\n",
      "AUC_SCORE:  0.5672743055555556  acc:  0.6333333333333333 f1:  0.2903225806451613\n",
      "EPOCHS:23\n",
      "TRAIN\n"
     ]
    },
    {
     "name": "stderr",
     "output_type": "stream",
     "text": [
      "100%|████████████████████████████████████████| 960/960 [00:08<00:00, 118.41it/s]\n"
     ]
    },
    {
     "name": "stdout",
     "output_type": "stream",
     "text": [
      " Average training loss: 0.87\n"
     ]
    },
    {
     "name": "stderr",
     "output_type": "stream",
     "text": [
      "100%|████████████████████████████████████████| 121/121 [00:00<00:00, 837.29it/s]\n"
     ]
    },
    {
     "name": "stdout",
     "output_type": "stream",
     "text": [
      " Average valid loss: 0.99\n",
      "AUC_SCORE:  0.5145748987854251  acc:  0.6446280991735537 f1:  0.2456140350877193\n",
      "Test\n"
     ]
    },
    {
     "name": "stderr",
     "output_type": "stream",
     "text": [
      "100%|████████████████████████████████████████| 120/120 [00:00<00:00, 850.24it/s]\n"
     ]
    },
    {
     "name": "stdout",
     "output_type": "stream",
     "text": [
      " Average valid loss: 0.93\n",
      "AUC_SCORE:  0.5685763888888888  acc:  0.625 f1:  0.2857142857142857\n",
      "EPOCHS:24\n",
      "TRAIN\n"
     ]
    },
    {
     "name": "stderr",
     "output_type": "stream",
     "text": [
      "100%|████████████████████████████████████████| 960/960 [00:08<00:00, 118.73it/s]\n"
     ]
    },
    {
     "name": "stdout",
     "output_type": "stream",
     "text": [
      " Average training loss: 0.87\n"
     ]
    },
    {
     "name": "stderr",
     "output_type": "stream",
     "text": [
      "100%|████████████████████████████████████████| 121/121 [00:00<00:00, 822.94it/s]\n"
     ]
    },
    {
     "name": "stdout",
     "output_type": "stream",
     "text": [
      " Average valid loss: 0.99\n",
      "AUC_SCORE:  0.5141700404858299  acc:  0.628099173553719 f1:  0.23728813559322037\n",
      "Test\n"
     ]
    },
    {
     "name": "stderr",
     "output_type": "stream",
     "text": [
      "100%|████████████████████████████████████████| 120/120 [00:00<00:00, 858.74it/s]\n"
     ]
    },
    {
     "name": "stdout",
     "output_type": "stream",
     "text": [
      " Average valid loss: 0.93\n",
      "AUC_SCORE:  0.5694444444444444  acc:  0.6083333333333333 f1:  0.29850746268656714\n",
      "EPOCHS:25\n",
      "TRAIN\n"
     ]
    },
    {
     "name": "stderr",
     "output_type": "stream",
     "text": [
      "100%|████████████████████████████████████████| 960/960 [00:08<00:00, 118.77it/s]\n"
     ]
    },
    {
     "name": "stdout",
     "output_type": "stream",
     "text": [
      " Average training loss: 0.87\n"
     ]
    },
    {
     "name": "stderr",
     "output_type": "stream",
     "text": [
      "100%|████████████████████████████████████████| 121/121 [00:00<00:00, 821.58it/s]\n"
     ]
    },
    {
     "name": "stdout",
     "output_type": "stream",
     "text": [
      " Average valid loss: 1.00\n",
      "AUC_SCORE:  0.5149797570850202  acc:  0.6198347107438017 f1:  0.23333333333333334\n",
      "Test\n"
     ]
    },
    {
     "name": "stderr",
     "output_type": "stream",
     "text": [
      "100%|████████████████████████████████████████| 120/120 [00:00<00:00, 849.41it/s]\n"
     ]
    },
    {
     "name": "stdout",
     "output_type": "stream",
     "text": [
      " Average valid loss: 0.93\n",
      "AUC_SCORE:  0.5690104166666666  acc:  0.6 f1:  0.29411764705882354\n",
      "EPOCHS:26\n",
      "TRAIN\n"
     ]
    },
    {
     "name": "stderr",
     "output_type": "stream",
     "text": [
      "100%|████████████████████████████████████████| 960/960 [00:08<00:00, 119.91it/s]\n"
     ]
    },
    {
     "name": "stdout",
     "output_type": "stream",
     "text": [
      " Average training loss: 0.87\n"
     ]
    },
    {
     "name": "stderr",
     "output_type": "stream",
     "text": [
      "100%|████████████████████████████████████████| 121/121 [00:00<00:00, 811.55it/s]\n"
     ]
    },
    {
     "name": "stdout",
     "output_type": "stream",
     "text": [
      " Average valid loss: 1.00\n",
      "AUC_SCORE:  0.5149797570850203  acc:  0.6198347107438017 f1:  0.23333333333333334\n",
      "Test\n"
     ]
    },
    {
     "name": "stderr",
     "output_type": "stream",
     "text": [
      "100%|████████████████████████████████████████| 120/120 [00:00<00:00, 827.41it/s]\n"
     ]
    },
    {
     "name": "stdout",
     "output_type": "stream",
     "text": [
      " Average valid loss: 0.93\n",
      "AUC_SCORE:  0.5716145833333334  acc:  0.5916666666666667 f1:  0.2898550724637681\n",
      "EPOCHS:27\n",
      "TRAIN\n"
     ]
    },
    {
     "name": "stderr",
     "output_type": "stream",
     "text": [
      "100%|████████████████████████████████████████| 960/960 [00:08<00:00, 116.57it/s]\n"
     ]
    },
    {
     "name": "stdout",
     "output_type": "stream",
     "text": [
      " Average training loss: 0.86\n"
     ]
    },
    {
     "name": "stderr",
     "output_type": "stream",
     "text": [
      "100%|████████████████████████████████████████| 121/121 [00:00<00:00, 820.86it/s]\n"
     ]
    },
    {
     "name": "stdout",
     "output_type": "stream",
     "text": [
      " Average valid loss: 1.01\n",
      "AUC_SCORE:  0.5145748987854251  acc:  0.628099173553719 f1:  0.23728813559322037\n",
      "Test\n"
     ]
    },
    {
     "name": "stderr",
     "output_type": "stream",
     "text": [
      "100%|████████████████████████████████████████| 120/120 [00:00<00:00, 848.40it/s]\n"
     ]
    },
    {
     "name": "stdout",
     "output_type": "stream",
     "text": [
      " Average valid loss: 0.94\n",
      "AUC_SCORE:  0.5698784722222222  acc:  0.6083333333333333 f1:  0.29850746268656714\n",
      "EPOCHS:28\n",
      "TRAIN\n"
     ]
    },
    {
     "name": "stderr",
     "output_type": "stream",
     "text": [
      "100%|████████████████████████████████████████| 960/960 [00:08<00:00, 116.73it/s]\n"
     ]
    },
    {
     "name": "stdout",
     "output_type": "stream",
     "text": [
      " Average training loss: 0.86\n"
     ]
    },
    {
     "name": "stderr",
     "output_type": "stream",
     "text": [
      "100%|████████████████████████████████████████| 121/121 [00:00<00:00, 824.04it/s]\n"
     ]
    },
    {
     "name": "stdout",
     "output_type": "stream",
     "text": [
      " Average valid loss: 1.01\n",
      "AUC_SCORE:  0.5161943319838057  acc:  0.5950413223140496 f1:  0.22222222222222224\n",
      "Test\n"
     ]
    },
    {
     "name": "stderr",
     "output_type": "stream",
     "text": [
      "100%|████████████████████████████████████████| 120/120 [00:00<00:00, 844.77it/s]\n"
     ]
    },
    {
     "name": "stdout",
     "output_type": "stream",
     "text": [
      " Average valid loss: 0.94\n",
      "AUC_SCORE:  0.572048611111111  acc:  0.575 f1:  0.28169014084507044\n",
      "EPOCHS:29\n",
      "TRAIN\n"
     ]
    },
    {
     "name": "stderr",
     "output_type": "stream",
     "text": [
      "100%|████████████████████████████████████████| 960/960 [00:08<00:00, 117.70it/s]\n"
     ]
    },
    {
     "name": "stdout",
     "output_type": "stream",
     "text": [
      " Average training loss: 0.85\n"
     ]
    },
    {
     "name": "stderr",
     "output_type": "stream",
     "text": [
      "100%|████████████████████████████████████████| 121/121 [00:00<00:00, 828.47it/s]\n"
     ]
    },
    {
     "name": "stdout",
     "output_type": "stream",
     "text": [
      " Average valid loss: 1.01\n",
      "AUC_SCORE:  0.5145748987854251  acc:  0.6198347107438017 f1:  0.23333333333333334\n",
      "Test\n"
     ]
    },
    {
     "name": "stderr",
     "output_type": "stream",
     "text": [
      "100%|████████████████████████████████████████| 120/120 [00:00<00:00, 826.96it/s]\n"
     ]
    },
    {
     "name": "stdout",
     "output_type": "stream",
     "text": [
      " Average valid loss: 0.94\n",
      "AUC_SCORE:  0.5716145833333334  acc:  0.5916666666666667 f1:  0.2898550724637681\n",
      "EPOCHS:30\n",
      "TRAIN\n"
     ]
    },
    {
     "name": "stderr",
     "output_type": "stream",
     "text": [
      "100%|████████████████████████████████████████| 960/960 [00:08<00:00, 117.33it/s]\n"
     ]
    },
    {
     "name": "stdout",
     "output_type": "stream",
     "text": [
      " Average training loss: 0.85\n"
     ]
    },
    {
     "name": "stderr",
     "output_type": "stream",
     "text": [
      "100%|████████████████████████████████████████| 121/121 [00:00<00:00, 826.71it/s]\n"
     ]
    },
    {
     "name": "stdout",
     "output_type": "stream",
     "text": [
      " Average valid loss: 1.02\n",
      "AUC_SCORE:  0.5149797570850203  acc:  0.6115702479338843 f1:  0.22950819672131148\n",
      "Test\n"
     ]
    },
    {
     "name": "stderr",
     "output_type": "stream",
     "text": [
      "100%|████████████████████████████████████████| 120/120 [00:00<00:00, 848.58it/s]\n"
     ]
    },
    {
     "name": "stdout",
     "output_type": "stream",
     "text": [
      " Average valid loss: 0.95\n",
      "AUC_SCORE:  0.568142361111111  acc:  0.5916666666666667 f1:  0.2898550724637681\n",
      "EPOCHS:31\n",
      "TRAIN\n"
     ]
    },
    {
     "name": "stderr",
     "output_type": "stream",
     "text": [
      "100%|████████████████████████████████████████| 960/960 [00:08<00:00, 117.13it/s]\n"
     ]
    },
    {
     "name": "stdout",
     "output_type": "stream",
     "text": [
      " Average training loss: 0.84\n"
     ]
    },
    {
     "name": "stderr",
     "output_type": "stream",
     "text": [
      "100%|████████████████████████████████████████| 121/121 [00:00<00:00, 828.36it/s]\n"
     ]
    },
    {
     "name": "stdout",
     "output_type": "stream",
     "text": [
      " Average valid loss: 1.02\n",
      "AUC_SCORE:  0.5170040485829959  acc:  0.6115702479338843 f1:  0.22950819672131148\n",
      "Test\n"
     ]
    },
    {
     "name": "stderr",
     "output_type": "stream",
     "text": [
      "100%|████████████████████████████████████████| 120/120 [00:00<00:00, 846.62it/s]\n"
     ]
    },
    {
     "name": "stdout",
     "output_type": "stream",
     "text": [
      " Average valid loss: 0.95\n",
      "AUC_SCORE:  0.5677083333333333  acc:  0.5833333333333334 f1:  0.2857142857142857\n",
      "EPOCHS:32\n",
      "TRAIN\n"
     ]
    },
    {
     "name": "stderr",
     "output_type": "stream",
     "text": [
      "100%|████████████████████████████████████████| 960/960 [00:08<00:00, 118.79it/s]\n"
     ]
    },
    {
     "name": "stdout",
     "output_type": "stream",
     "text": [
      " Average training loss: 0.84\n"
     ]
    },
    {
     "name": "stderr",
     "output_type": "stream",
     "text": [
      "100%|████████████████████████████████████████| 121/121 [00:00<00:00, 836.97it/s]\n"
     ]
    },
    {
     "name": "stdout",
     "output_type": "stream",
     "text": [
      " Average valid loss: 1.02\n",
      "AUC_SCORE:  0.5190283400809717  acc:  0.6115702479338843 f1:  0.22950819672131148\n",
      "Test\n"
     ]
    },
    {
     "name": "stderr",
     "output_type": "stream",
     "text": [
      "100%|████████████████████████████████████████| 120/120 [00:00<00:00, 851.90it/s]\n"
     ]
    },
    {
     "name": "stdout",
     "output_type": "stream",
     "text": [
      " Average valid loss: 0.95\n",
      "AUC_SCORE:  0.5668402777777778  acc:  0.5833333333333334 f1:  0.2857142857142857\n",
      "EPOCHS:33\n",
      "TRAIN\n"
     ]
    },
    {
     "name": "stderr",
     "output_type": "stream",
     "text": [
      "100%|████████████████████████████████████████| 960/960 [00:08<00:00, 118.27it/s]\n"
     ]
    },
    {
     "name": "stdout",
     "output_type": "stream",
     "text": [
      " Average training loss: 0.84\n"
     ]
    },
    {
     "name": "stderr",
     "output_type": "stream",
     "text": [
      "100%|████████████████████████████████████████| 121/121 [00:00<00:00, 817.10it/s]\n"
     ]
    },
    {
     "name": "stdout",
     "output_type": "stream",
     "text": [
      " Average valid loss: 1.03\n",
      "AUC_SCORE:  0.5194331983805668  acc:  0.6198347107438017 f1:  0.23333333333333334\n",
      "Test\n"
     ]
    },
    {
     "name": "stderr",
     "output_type": "stream",
     "text": [
      "100%|████████████████████████████████████████| 120/120 [00:00<00:00, 838.77it/s]\n"
     ]
    },
    {
     "name": "stdout",
     "output_type": "stream",
     "text": [
      " Average valid loss: 0.95\n",
      "AUC_SCORE:  0.5651041666666666  acc:  0.5916666666666667 f1:  0.2898550724637681\n",
      "EPOCHS:34\n",
      "TRAIN\n"
     ]
    },
    {
     "name": "stderr",
     "output_type": "stream",
     "text": [
      "100%|████████████████████████████████████████| 960/960 [00:08<00:00, 117.13it/s]\n"
     ]
    },
    {
     "name": "stdout",
     "output_type": "stream",
     "text": [
      " Average training loss: 0.83\n"
     ]
    },
    {
     "name": "stderr",
     "output_type": "stream",
     "text": [
      "100%|████████████████████████████████████████| 121/121 [00:00<00:00, 795.11it/s]\n"
     ]
    },
    {
     "name": "stdout",
     "output_type": "stream",
     "text": [
      " Average valid loss: 1.03\n",
      "AUC_SCORE:  0.5210526315789473  acc:  0.6198347107438017 f1:  0.2580645161290323\n",
      "Test\n"
     ]
    },
    {
     "name": "stderr",
     "output_type": "stream",
     "text": [
      "100%|████████████████████████████████████████| 120/120 [00:00<00:00, 818.01it/s]\n"
     ]
    },
    {
     "name": "stdout",
     "output_type": "stream",
     "text": [
      " Average valid loss: 0.96\n",
      "AUC_SCORE:  0.564236111111111  acc:  0.5833333333333334 f1:  0.2857142857142857\n",
      "EPOCHS:35\n",
      "TRAIN\n"
     ]
    },
    {
     "name": "stderr",
     "output_type": "stream",
     "text": [
      "100%|████████████████████████████████████████| 960/960 [00:08<00:00, 117.60it/s]\n"
     ]
    },
    {
     "name": "stdout",
     "output_type": "stream",
     "text": [
      " Average training loss: 0.83\n"
     ]
    },
    {
     "name": "stderr",
     "output_type": "stream",
     "text": [
      "100%|████████████████████████████████████████| 121/121 [00:00<00:00, 838.02it/s]\n"
     ]
    },
    {
     "name": "stdout",
     "output_type": "stream",
     "text": [
      " Average valid loss: 1.03\n",
      "AUC_SCORE:  0.5238866396761134  acc:  0.6198347107438017 f1:  0.23333333333333334\n",
      "Test\n"
     ]
    },
    {
     "name": "stderr",
     "output_type": "stream",
     "text": [
      "100%|████████████████████████████████████████| 120/120 [00:00<00:00, 851.75it/s]\n"
     ]
    },
    {
     "name": "stdout",
     "output_type": "stream",
     "text": [
      " Average valid loss: 0.96\n",
      "AUC_SCORE:  0.5638020833333334  acc:  0.6 f1:  0.29411764705882354\n",
      "EPOCHS:36\n",
      "TRAIN\n"
     ]
    },
    {
     "name": "stderr",
     "output_type": "stream",
     "text": [
      "100%|████████████████████████████████████████| 960/960 [00:08<00:00, 118.58it/s]\n"
     ]
    },
    {
     "name": "stdout",
     "output_type": "stream",
     "text": [
      " Average training loss: 0.83\n"
     ]
    },
    {
     "name": "stderr",
     "output_type": "stream",
     "text": [
      "100%|████████████████████████████████████████| 121/121 [00:00<00:00, 831.24it/s]\n"
     ]
    },
    {
     "name": "stdout",
     "output_type": "stream",
     "text": [
      " Average valid loss: 1.03\n",
      "AUC_SCORE:  0.5222672064777328  acc:  0.6115702479338843 f1:  0.25396825396825395\n",
      "Test\n"
     ]
    },
    {
     "name": "stderr",
     "output_type": "stream",
     "text": [
      "100%|████████████████████████████████████████| 120/120 [00:00<00:00, 845.26it/s]\n"
     ]
    },
    {
     "name": "stdout",
     "output_type": "stream",
     "text": [
      " Average valid loss: 0.96\n",
      "AUC_SCORE:  0.5638020833333334  acc:  0.5666666666666667 f1:  0.2777777777777778\n",
      "EPOCHS:37\n",
      "TRAIN\n"
     ]
    },
    {
     "name": "stderr",
     "output_type": "stream",
     "text": [
      "100%|████████████████████████████████████████| 960/960 [00:08<00:00, 118.88it/s]\n"
     ]
    },
    {
     "name": "stdout",
     "output_type": "stream",
     "text": [
      " Average training loss: 0.83\n"
     ]
    },
    {
     "name": "stderr",
     "output_type": "stream",
     "text": [
      "100%|████████████████████████████████████████| 121/121 [00:00<00:00, 823.35it/s]\n"
     ]
    },
    {
     "name": "stdout",
     "output_type": "stream",
     "text": [
      " Average valid loss: 1.04\n",
      "AUC_SCORE:  0.5226720647773279  acc:  0.6198347107438017 f1:  0.2580645161290323\n",
      "Test\n"
     ]
    },
    {
     "name": "stderr",
     "output_type": "stream",
     "text": [
      "100%|████████████████████████████████████████| 120/120 [00:00<00:00, 837.19it/s]\n"
     ]
    },
    {
     "name": "stdout",
     "output_type": "stream",
     "text": [
      " Average valid loss: 0.97\n",
      "AUC_SCORE:  0.5633680555555556  acc:  0.5916666666666667 f1:  0.2898550724637681\n",
      "EPOCHS:38\n",
      "TRAIN\n"
     ]
    },
    {
     "name": "stderr",
     "output_type": "stream",
     "text": [
      "100%|████████████████████████████████████████| 960/960 [00:08<00:00, 119.81it/s]\n"
     ]
    },
    {
     "name": "stdout",
     "output_type": "stream",
     "text": [
      " Average training loss: 0.82\n"
     ]
    },
    {
     "name": "stderr",
     "output_type": "stream",
     "text": [
      "100%|████████████████████████████████████████| 121/121 [00:00<00:00, 825.05it/s]\n"
     ]
    },
    {
     "name": "stdout",
     "output_type": "stream",
     "text": [
      " Average valid loss: 1.04\n",
      "AUC_SCORE:  0.525910931174089  acc:  0.6033057851239669 f1:  0.25\n",
      "Test\n"
     ]
    },
    {
     "name": "stderr",
     "output_type": "stream",
     "text": [
      "100%|████████████████████████████████████████| 120/120 [00:00<00:00, 839.70it/s]\n"
     ]
    },
    {
     "name": "stdout",
     "output_type": "stream",
     "text": [
      " Average valid loss: 0.97\n",
      "AUC_SCORE:  0.5616319444444444  acc:  0.5666666666666667 f1:  0.2777777777777778\n",
      "EPOCHS:39\n",
      "TRAIN\n"
     ]
    },
    {
     "name": "stderr",
     "output_type": "stream",
     "text": [
      "100%|████████████████████████████████████████| 960/960 [00:08<00:00, 119.35it/s]\n"
     ]
    },
    {
     "name": "stdout",
     "output_type": "stream",
     "text": [
      " Average training loss: 0.82\n"
     ]
    },
    {
     "name": "stderr",
     "output_type": "stream",
     "text": [
      "100%|████████████████████████████████████████| 121/121 [00:00<00:00, 831.24it/s]\n"
     ]
    },
    {
     "name": "stdout",
     "output_type": "stream",
     "text": [
      " Average valid loss: 1.04\n",
      "AUC_SCORE:  0.5279352226720648  acc:  0.5950413223140496 f1:  0.2461538461538462\n",
      "Test\n"
     ]
    },
    {
     "name": "stderr",
     "output_type": "stream",
     "text": [
      "100%|████████████████████████████████████████| 120/120 [00:00<00:00, 843.40it/s]\n"
     ]
    },
    {
     "name": "stdout",
     "output_type": "stream",
     "text": [
      " Average valid loss: 0.97\n",
      "AUC_SCORE:  0.5651041666666666  acc:  0.5583333333333333 f1:  0.2933333333333333\n",
      "EPOCHS:40\n",
      "TRAIN\n"
     ]
    },
    {
     "name": "stderr",
     "output_type": "stream",
     "text": [
      "100%|████████████████████████████████████████| 960/960 [00:08<00:00, 118.34it/s]\n"
     ]
    },
    {
     "name": "stdout",
     "output_type": "stream",
     "text": [
      " Average training loss: 0.81\n"
     ]
    },
    {
     "name": "stderr",
     "output_type": "stream",
     "text": [
      "100%|████████████████████████████████████████| 121/121 [00:00<00:00, 823.58it/s]\n"
     ]
    },
    {
     "name": "stdout",
     "output_type": "stream",
     "text": [
      " Average valid loss: 1.04\n",
      "AUC_SCORE:  0.5279352226720648  acc:  0.6198347107438017 f1:  0.2580645161290323\n",
      "Test\n"
     ]
    },
    {
     "name": "stderr",
     "output_type": "stream",
     "text": [
      "100%|████████████████████████████████████████| 120/120 [00:00<00:00, 835.97it/s]\n"
     ]
    },
    {
     "name": "stdout",
     "output_type": "stream",
     "text": [
      " Average valid loss: 0.97\n",
      "AUC_SCORE:  0.5646701388888888  acc:  0.5833333333333334 f1:  0.2857142857142857\n"
     ]
    },
    {
     "name": "stderr",
     "output_type": "stream",
     "text": [
      "100%|████████████████████████████████████████| 120/120 [00:00<00:00, 684.22it/s]"
     ]
    },
    {
     "name": "stdout",
     "output_type": "stream",
     "text": [
      " Average valid loss: 0.92\n",
      "AUC_SCORE:  0.5551215277777778  acc:  0.6333333333333333 f1:  0.2413793103448276\n",
      "BEST MODEL\n",
      "AUC_SCORE:  0.5551215277777778  acc:  0.6333333333333333 f1:  0.2413793103448276\n",
      "{'auc_micro': 0.5551215277777778, 'acc': 0.6333333333333333, 'f1': 0.2413793103448276, 'pred': [[0, 0, 0, 0, 0, 0, 1, 0, 1, 0], [0, 1, 0, 0, 0, 0, 0, 0, 0, 0], [0, 0, 0, 0, 0, 0, 0, 0, 1, 1], [1, 0, 1, 0, 0, 1, 1, 1, 0, 0], [0, 0, 1, 0, 0, 1, 0, 1, 0, 0], [1, 0, 1, 1, 0, 1, 0, 0, 0, 0], [1, 0, 0, 0, 0, 0, 0, 0, 0, 0], [0, 1, 0, 0, 0, 0, 0, 1, 0, 0], [0, 1, 1, 0, 1, 0, 0, 0, 0, 0], [0, 1, 0, 0, 1, 1, 0, 0, 0, 1], [0, 1, 1, 1, 0, 0, 0, 0, 0, 0], [0, 1, 0, 0, 0, 1, 1, 1, 0, 0], [], [], [], [], [], [], [], []]}\n"
     ]
    },
    {
     "name": "stderr",
     "output_type": "stream",
     "text": [
      "\n"
     ]
    }
   ],
   "source": [
    "bert2 = BertModel().to('cuda')\n",
    "score = fit(bert2, train_data,valid_data,test_data,EPOCHS=40)\n",
    "print(score)"
   ]
  },
  {
   "cell_type": "code",
   "execution_count": 119,
   "id": "2b3df0c2",
   "metadata": {},
   "outputs": [],
   "source": [
    "path1 = 'word2vec_model_text2/'\n",
    "path2 = 'data/scriptbase/'\n",
    "filenames = os.listdir(path1)\n",
    "train_data = []\n",
    "valid_data = []\n",
    "test_data = []\n",
    "one = 0\n",
    "zero = 0\n",
    "end = torch.ones(1,1,384)\n",
    "\n",
    "for filename in filenames:\n",
    "    genres = []\n",
    "    movie_name = filename[:-14]\n",
    "    cult = 0\n",
    "    with open(path2+movie_name+'/processed/imdb_meta.txt','r') as f:\n",
    "        lines = f.readlines()\n",
    "        for line in lines:\n",
    "            if 'keyword' in line:\n",
    "                try:\n",
    "                    keyword  = line.strip().split('\\t')[1]\n",
    "                    keywords.append(keyword)\n",
    "                except:\n",
    "                    pass\n",
    "                if 'independent film'==keyword:\n",
    "                    cult = 1\n",
    "        \n",
    "    w2v=Word2Vec.load(path1 + filename)\n",
    "    base = 'scene_'\n",
    "    scene_num = 0\n",
    "    max_scene = 0\n",
    "    for node in w2v.wv.index_to_key:\n",
    "        if base in node:\n",
    "            scene_num += 1\n",
    "            if int(node[6:])>max_scene:\n",
    "                max_scene = int(node[6:])\n",
    "    embs = torch.zeros(1,scene_num+1,384)\n",
    "    k = 0\n",
    "    for i in range(1,max_scene+1):\n",
    "        emb_name = base + str(i)\n",
    "        if emb_name in w2v.wv.index_to_key:\n",
    "            emb = w2v.wv[emb_name]\n",
    "            emb = torch.from_numpy(emb)\n",
    "            embs[0][k] = emb\n",
    "            k += 1\n",
    "    embs[0][-1] = end\n",
    "        \n",
    "        \n",
    "    rand = random.randint(0,100)    \n",
    "    if movie_name in movie_split['train']:\n",
    "        train_data.append([embs, [cult]])\n",
    "    elif movie_name in movie_split['valid']:\n",
    "        valid_data.append([embs, [cult]])\n",
    "    \n",
    "    elif movie_name in movie_split['test']:\n",
    "        test_data.append([embs, [cult]])\n",
    "    \n",
    "    if cult:\n",
    "        one += 1\n",
    "    else:\n",
    "        zero += 1"
   ]
  },
  {
   "cell_type": "code",
   "execution_count": 120,
   "id": "67e3a13c",
   "metadata": {},
   "outputs": [
    {
     "name": "stdout",
     "output_type": "stream",
     "text": [
      "EPOCHS:1\n",
      "TRAIN\n"
     ]
    },
    {
     "name": "stderr",
     "output_type": "stream",
     "text": [
      "100%|████████████████████████████████████████| 960/960 [00:08<00:00, 117.81it/s]\n"
     ]
    },
    {
     "name": "stdout",
     "output_type": "stream",
     "text": [
      " Average training loss: 0.95\n"
     ]
    },
    {
     "name": "stderr",
     "output_type": "stream",
     "text": [
      "100%|████████████████████████████████████████| 121/121 [00:00<00:00, 833.01it/s]"
     ]
    },
    {
     "name": "stdout",
     "output_type": "stream",
     "text": [
      " Average valid loss: 0.94\n",
      "AUC_SCORE:  0.6218623481781377  acc:  0.7768595041322314 f1:  0.06896551724137931\n"
     ]
    },
    {
     "name": "stderr",
     "output_type": "stream",
     "text": [
      "\n"
     ]
    },
    {
     "name": "stdout",
     "output_type": "stream",
     "text": [
      "Test\n"
     ]
    },
    {
     "name": "stderr",
     "output_type": "stream",
     "text": [
      "100%|████████████████████████████████████████| 120/120 [00:00<00:00, 832.03it/s]\n"
     ]
    },
    {
     "name": "stdout",
     "output_type": "stream",
     "text": [
      " Average valid loss: 0.93\n",
      "AUC_SCORE:  0.5177951388888888  acc:  0.775 f1:  0.0\n",
      "EPOCHS:2\n",
      "TRAIN\n"
     ]
    },
    {
     "name": "stderr",
     "output_type": "stream",
     "text": [
      "100%|████████████████████████████████████████| 960/960 [00:08<00:00, 115.47it/s]\n"
     ]
    },
    {
     "name": "stdout",
     "output_type": "stream",
     "text": [
      " Average training loss: 0.95\n"
     ]
    },
    {
     "name": "stderr",
     "output_type": "stream",
     "text": [
      "100%|████████████████████████████████████████| 121/121 [00:00<00:00, 765.77it/s]\n"
     ]
    },
    {
     "name": "stdout",
     "output_type": "stream",
     "text": [
      " Average valid loss: 0.94\n",
      "AUC_SCORE:  0.6040485829959514  acc:  0.7768595041322314 f1:  0.06896551724137931\n",
      "Test\n"
     ]
    },
    {
     "name": "stderr",
     "output_type": "stream",
     "text": [
      "100%|████████████████████████████████████████| 120/120 [00:00<00:00, 781.13it/s]\n"
     ]
    },
    {
     "name": "stdout",
     "output_type": "stream",
     "text": [
      " Average valid loss: 0.93\n",
      "AUC_SCORE:  0.5416666666666666  acc:  0.775 f1:  0.0\n",
      "EPOCHS:3\n",
      "TRAIN\n"
     ]
    },
    {
     "name": "stderr",
     "output_type": "stream",
     "text": [
      "100%|████████████████████████████████████████| 960/960 [00:08<00:00, 116.82it/s]\n"
     ]
    },
    {
     "name": "stdout",
     "output_type": "stream",
     "text": [
      " Average training loss: 0.95\n"
     ]
    },
    {
     "name": "stderr",
     "output_type": "stream",
     "text": [
      "100%|████████████████████████████████████████| 121/121 [00:00<00:00, 829.80it/s]\n"
     ]
    },
    {
     "name": "stdout",
     "output_type": "stream",
     "text": [
      " Average valid loss: 0.94\n",
      "AUC_SCORE:  0.582995951417004  acc:  0.7768595041322314 f1:  0.06896551724137931\n",
      "Test\n"
     ]
    },
    {
     "name": "stderr",
     "output_type": "stream",
     "text": [
      "100%|████████████████████████████████████████| 120/120 [00:00<00:00, 859.36it/s]\n"
     ]
    },
    {
     "name": "stdout",
     "output_type": "stream",
     "text": [
      " Average valid loss: 0.92\n",
      "AUC_SCORE:  0.5572916666666666  acc:  0.775 f1:  0.0\n",
      "EPOCHS:4\n",
      "TRAIN\n"
     ]
    },
    {
     "name": "stderr",
     "output_type": "stream",
     "text": [
      "100%|████████████████████████████████████████| 960/960 [00:08<00:00, 117.65it/s]\n"
     ]
    },
    {
     "name": "stdout",
     "output_type": "stream",
     "text": [
      " Average training loss: 0.94\n"
     ]
    },
    {
     "name": "stderr",
     "output_type": "stream",
     "text": [
      "100%|████████████████████████████████████████| 121/121 [00:00<00:00, 796.91it/s]"
     ]
    },
    {
     "name": "stdout",
     "output_type": "stream",
     "text": [
      " Average valid loss: 0.94\n",
      "AUC_SCORE:  0.5765182186234817  acc:  0.7851239669421488 f1:  0.07142857142857144\n",
      "3  EPOCH BEST MODEL!\n"
     ]
    },
    {
     "name": "stderr",
     "output_type": "stream",
     "text": [
      "\n"
     ]
    },
    {
     "name": "stdout",
     "output_type": "stream",
     "text": [
      "Test\n"
     ]
    },
    {
     "name": "stderr",
     "output_type": "stream",
     "text": [
      "100%|████████████████████████████████████████| 120/120 [00:00<00:00, 825.70it/s]\n"
     ]
    },
    {
     "name": "stdout",
     "output_type": "stream",
     "text": [
      " Average valid loss: 0.92\n",
      "AUC_SCORE:  0.5572916666666666  acc:  0.775 f1:  0.0\n",
      "EPOCHS:5\n",
      "TRAIN\n"
     ]
    },
    {
     "name": "stderr",
     "output_type": "stream",
     "text": [
      "100%|████████████████████████████████████████| 960/960 [00:08<00:00, 117.53it/s]\n"
     ]
    },
    {
     "name": "stdout",
     "output_type": "stream",
     "text": [
      " Average training loss: 0.94\n"
     ]
    },
    {
     "name": "stderr",
     "output_type": "stream",
     "text": [
      "100%|████████████████████████████████████████| 121/121 [00:00<00:00, 830.57it/s]"
     ]
    },
    {
     "name": "stdout",
     "output_type": "stream",
     "text": [
      " Average valid loss: 0.94\n",
      "AUC_SCORE:  0.5672064777327935  acc:  0.7933884297520661 f1:  0.13793103448275862\n",
      "4  EPOCH BEST MODEL!\n"
     ]
    },
    {
     "name": "stderr",
     "output_type": "stream",
     "text": [
      "\n"
     ]
    },
    {
     "name": "stdout",
     "output_type": "stream",
     "text": [
      "Test\n"
     ]
    },
    {
     "name": "stderr",
     "output_type": "stream",
     "text": [
      "100%|████████████████████████████████████████| 120/120 [00:00<00:00, 813.53it/s]\n"
     ]
    },
    {
     "name": "stdout",
     "output_type": "stream",
     "text": [
      " Average valid loss: 0.92\n",
      "AUC_SCORE:  0.5633680555555556  acc:  0.7666666666666667 f1:  0.0\n",
      "EPOCHS:6\n",
      "TRAIN\n"
     ]
    },
    {
     "name": "stderr",
     "output_type": "stream",
     "text": [
      "100%|████████████████████████████████████████| 960/960 [00:08<00:00, 118.39it/s]\n"
     ]
    },
    {
     "name": "stdout",
     "output_type": "stream",
     "text": [
      " Average training loss: 0.94\n"
     ]
    },
    {
     "name": "stderr",
     "output_type": "stream",
     "text": [
      "100%|████████████████████████████████████████| 121/121 [00:00<00:00, 841.26it/s]\n"
     ]
    },
    {
     "name": "stdout",
     "output_type": "stream",
     "text": [
      " Average valid loss: 0.94\n",
      "AUC_SCORE:  0.559919028340081  acc:  0.7933884297520661 f1:  0.13793103448275862\n",
      "Test\n"
     ]
    },
    {
     "name": "stderr",
     "output_type": "stream",
     "text": [
      "100%|████████████████████████████████████████| 120/120 [00:00<00:00, 852.43it/s]\n"
     ]
    },
    {
     "name": "stdout",
     "output_type": "stream",
     "text": [
      " Average valid loss: 0.92\n",
      "AUC_SCORE:  0.5633680555555556  acc:  0.7583333333333333 f1:  0.0\n",
      "EPOCHS:7\n",
      "TRAIN\n"
     ]
    },
    {
     "name": "stderr",
     "output_type": "stream",
     "text": [
      "100%|████████████████████████████████████████| 960/960 [00:08<00:00, 118.85it/s]\n"
     ]
    },
    {
     "name": "stdout",
     "output_type": "stream",
     "text": [
      " Average training loss: 0.93\n"
     ]
    },
    {
     "name": "stderr",
     "output_type": "stream",
     "text": [
      "100%|████████████████████████████████████████| 121/121 [00:00<00:00, 816.61it/s]\n"
     ]
    },
    {
     "name": "stdout",
     "output_type": "stream",
     "text": [
      " Average valid loss: 0.94\n",
      "AUC_SCORE:  0.5550607287449393  acc:  0.7851239669421488 f1:  0.1875\n",
      "6  EPOCH BEST MODEL!\n",
      "Test\n"
     ]
    },
    {
     "name": "stderr",
     "output_type": "stream",
     "text": [
      "100%|████████████████████████████████████████| 120/120 [00:00<00:00, 805.71it/s]\n"
     ]
    },
    {
     "name": "stdout",
     "output_type": "stream",
     "text": [
      " Average valid loss: 0.92\n",
      "AUC_SCORE:  0.5625  acc:  0.7333333333333333 f1:  0.058823529411764705\n",
      "EPOCHS:8\n",
      "TRAIN\n"
     ]
    },
    {
     "name": "stderr",
     "output_type": "stream",
     "text": [
      "100%|████████████████████████████████████████| 960/960 [00:08<00:00, 119.47it/s]\n"
     ]
    },
    {
     "name": "stdout",
     "output_type": "stream",
     "text": [
      " Average training loss: 0.92\n"
     ]
    },
    {
     "name": "stderr",
     "output_type": "stream",
     "text": [
      "100%|████████████████████████████████████████| 121/121 [00:00<00:00, 835.90it/s]\n"
     ]
    },
    {
     "name": "stdout",
     "output_type": "stream",
     "text": [
      " Average valid loss: 0.94\n",
      "AUC_SCORE:  0.554251012145749  acc:  0.7851239669421488 f1:  0.23529411764705882\n",
      "7  EPOCH BEST MODEL!\n",
      "Test\n"
     ]
    },
    {
     "name": "stderr",
     "output_type": "stream",
     "text": [
      "100%|████████████████████████████████████████| 120/120 [00:00<00:00, 842.84it/s]\n"
     ]
    },
    {
     "name": "stdout",
     "output_type": "stream",
     "text": [
      " Average valid loss: 0.92\n",
      "AUC_SCORE:  0.5681423611111112  acc:  0.7083333333333334 f1:  0.10256410256410255\n",
      "EPOCHS:9\n",
      "TRAIN\n"
     ]
    },
    {
     "name": "stderr",
     "output_type": "stream",
     "text": [
      "100%|████████████████████████████████████████| 960/960 [00:08<00:00, 119.99it/s]\n"
     ]
    },
    {
     "name": "stdout",
     "output_type": "stream",
     "text": [
      " Average training loss: 0.92\n"
     ]
    },
    {
     "name": "stderr",
     "output_type": "stream",
     "text": [
      "100%|████████████████████████████████████████| 121/121 [00:00<00:00, 847.30it/s]\n"
     ]
    },
    {
     "name": "stdout",
     "output_type": "stream",
     "text": [
      " Average valid loss: 0.95\n",
      "AUC_SCORE:  0.5534412955465587  acc:  0.7851239669421488 f1:  0.2777777777777778\n",
      "8  EPOCH BEST MODEL!\n",
      "Test\n"
     ]
    },
    {
     "name": "stderr",
     "output_type": "stream",
     "text": [
      "100%|████████████████████████████████████████| 120/120 [00:00<00:00, 846.29it/s]\n"
     ]
    },
    {
     "name": "stdout",
     "output_type": "stream",
     "text": [
      " Average valid loss: 0.92\n",
      "AUC_SCORE:  0.5638020833333334  acc:  0.7 f1:  0.1\n",
      "EPOCHS:10\n",
      "TRAIN\n"
     ]
    },
    {
     "name": "stderr",
     "output_type": "stream",
     "text": [
      "100%|████████████████████████████████████████| 960/960 [00:08<00:00, 119.05it/s]\n"
     ]
    },
    {
     "name": "stdout",
     "output_type": "stream",
     "text": [
      " Average training loss: 0.92\n"
     ]
    },
    {
     "name": "stderr",
     "output_type": "stream",
     "text": [
      "100%|████████████████████████████████████████| 121/121 [00:00<00:00, 835.00it/s]"
     ]
    },
    {
     "name": "stdout",
     "output_type": "stream",
     "text": [
      " Average valid loss: 0.95\n",
      "AUC_SCORE:  0.5510121457489879  acc:  0.7851239669421488 f1:  0.3157894736842105\n",
      "9  EPOCH BEST MODEL!\n"
     ]
    },
    {
     "name": "stderr",
     "output_type": "stream",
     "text": [
      "\n"
     ]
    },
    {
     "name": "stdout",
     "output_type": "stream",
     "text": [
      "Test\n"
     ]
    },
    {
     "name": "stderr",
     "output_type": "stream",
     "text": [
      "100%|████████████████████████████████████████| 120/120 [00:00<00:00, 867.90it/s]\n"
     ]
    },
    {
     "name": "stdout",
     "output_type": "stream",
     "text": [
      " Average valid loss: 0.92\n",
      "AUC_SCORE:  0.5633680555555555  acc:  0.6833333333333333 f1:  0.13636363636363635\n",
      "EPOCHS:11\n",
      "TRAIN\n"
     ]
    },
    {
     "name": "stderr",
     "output_type": "stream",
     "text": [
      "100%|████████████████████████████████████████| 960/960 [00:08<00:00, 117.67it/s]\n"
     ]
    },
    {
     "name": "stdout",
     "output_type": "stream",
     "text": [
      " Average training loss: 0.92\n"
     ]
    },
    {
     "name": "stderr",
     "output_type": "stream",
     "text": [
      "100%|████████████████████████████████████████| 121/121 [00:00<00:00, 835.78it/s]\n"
     ]
    },
    {
     "name": "stdout",
     "output_type": "stream",
     "text": [
      " Average valid loss: 0.95\n",
      "AUC_SCORE:  0.5502024291497976  acc:  0.768595041322314 f1:  0.33333333333333337\n",
      "10  EPOCH BEST MODEL!\n",
      "Test\n"
     ]
    },
    {
     "name": "stderr",
     "output_type": "stream",
     "text": [
      "100%|████████████████████████████████████████| 120/120 [00:00<00:00, 860.47it/s]\n"
     ]
    },
    {
     "name": "stdout",
     "output_type": "stream",
     "text": [
      " Average valid loss: 0.92\n",
      "AUC_SCORE:  0.5651041666666666  acc:  0.6666666666666666 f1:  0.2\n",
      "EPOCHS:12\n",
      "TRAIN\n"
     ]
    },
    {
     "name": "stderr",
     "output_type": "stream",
     "text": [
      "100%|████████████████████████████████████████| 960/960 [00:08<00:00, 117.58it/s]\n"
     ]
    },
    {
     "name": "stdout",
     "output_type": "stream",
     "text": [
      " Average training loss: 0.91\n"
     ]
    },
    {
     "name": "stderr",
     "output_type": "stream",
     "text": [
      "100%|████████████████████████████████████████| 121/121 [00:00<00:00, 836.44it/s]\n"
     ]
    },
    {
     "name": "stdout",
     "output_type": "stream",
     "text": [
      " Average valid loss: 0.95\n",
      "AUC_SCORE:  0.548582995951417  acc:  0.7520661157024794 f1:  0.3181818181818182\n",
      "Test\n"
     ]
    },
    {
     "name": "stderr",
     "output_type": "stream",
     "text": [
      "100%|████████████████████████████████████████| 120/120 [00:00<00:00, 843.68it/s]\n"
     ]
    },
    {
     "name": "stdout",
     "output_type": "stream",
     "text": [
      " Average valid loss: 0.92\n",
      "AUC_SCORE:  0.5651041666666666  acc:  0.6666666666666666 f1:  0.2\n",
      "EPOCHS:13\n",
      "TRAIN\n"
     ]
    },
    {
     "name": "stderr",
     "output_type": "stream",
     "text": [
      "100%|████████████████████████████████████████| 960/960 [00:08<00:00, 118.59it/s]\n"
     ]
    },
    {
     "name": "stdout",
     "output_type": "stream",
     "text": [
      " Average training loss: 0.91\n"
     ]
    },
    {
     "name": "stderr",
     "output_type": "stream",
     "text": [
      "100%|████████████████████████████████████████| 121/121 [00:00<00:00, 849.64it/s]\n"
     ]
    },
    {
     "name": "stdout",
     "output_type": "stream",
     "text": [
      " Average valid loss: 0.95\n",
      "AUC_SCORE:  0.5469635627530365  acc:  0.71900826446281 f1:  0.32\n",
      "Test\n"
     ]
    },
    {
     "name": "stderr",
     "output_type": "stream",
     "text": [
      "100%|████████████████████████████████████████| 120/120 [00:00<00:00, 836.31it/s]\n"
     ]
    },
    {
     "name": "stdout",
     "output_type": "stream",
     "text": [
      " Average valid loss: 0.92\n",
      "AUC_SCORE:  0.56640625  acc:  0.6416666666666667 f1:  0.2456140350877193\n",
      "EPOCHS:14\n",
      "TRAIN\n"
     ]
    },
    {
     "name": "stderr",
     "output_type": "stream",
     "text": [
      "100%|████████████████████████████████████████| 960/960 [00:08<00:00, 117.09it/s]\n"
     ]
    },
    {
     "name": "stdout",
     "output_type": "stream",
     "text": [
      " Average training loss: 0.91\n"
     ]
    },
    {
     "name": "stderr",
     "output_type": "stream",
     "text": [
      "100%|████████████████████████████████████████| 121/121 [00:00<00:00, 825.23it/s]"
     ]
    },
    {
     "name": "stdout",
     "output_type": "stream",
     "text": [
      " Average valid loss: 0.95\n",
      "AUC_SCORE:  0.542914979757085  acc:  0.7355371900826446 f1:  0.38461538461538464\n",
      "13  EPOCH BEST MODEL!\n"
     ]
    },
    {
     "name": "stderr",
     "output_type": "stream",
     "text": [
      "\n"
     ]
    },
    {
     "name": "stdout",
     "output_type": "stream",
     "text": [
      "Test\n"
     ]
    },
    {
     "name": "stderr",
     "output_type": "stream",
     "text": [
      "100%|████████████████████████████████████████| 120/120 [00:00<00:00, 819.89it/s]\n"
     ]
    },
    {
     "name": "stdout",
     "output_type": "stream",
     "text": [
      " Average valid loss: 0.92\n",
      "AUC_SCORE:  0.56640625  acc:  0.6333333333333333 f1:  0.2413793103448276\n",
      "EPOCHS:15\n",
      "TRAIN\n"
     ]
    },
    {
     "name": "stderr",
     "output_type": "stream",
     "text": [
      "100%|████████████████████████████████████████| 960/960 [00:08<00:00, 117.51it/s]\n"
     ]
    },
    {
     "name": "stdout",
     "output_type": "stream",
     "text": [
      " Average training loss: 0.90\n"
     ]
    },
    {
     "name": "stderr",
     "output_type": "stream",
     "text": [
      "100%|████████████████████████████████████████| 121/121 [00:00<00:00, 821.19it/s]\n"
     ]
    },
    {
     "name": "stdout",
     "output_type": "stream",
     "text": [
      " Average valid loss: 0.95\n",
      "AUC_SCORE:  0.5433198380566802  acc:  0.7355371900826446 f1:  0.38461538461538464\n",
      "Test\n"
     ]
    },
    {
     "name": "stderr",
     "output_type": "stream",
     "text": [
      "100%|████████████████████████████████████████| 120/120 [00:00<00:00, 850.28it/s]\n"
     ]
    },
    {
     "name": "stdout",
     "output_type": "stream",
     "text": [
      " Average valid loss: 0.92\n",
      "AUC_SCORE:  0.5651041666666666  acc:  0.6166666666666667 f1:  0.2333333333333333\n",
      "EPOCHS:16\n",
      "TRAIN\n"
     ]
    },
    {
     "name": "stderr",
     "output_type": "stream",
     "text": [
      "100%|████████████████████████████████████████| 960/960 [00:08<00:00, 118.11it/s]\n"
     ]
    },
    {
     "name": "stdout",
     "output_type": "stream",
     "text": [
      " Average training loss: 0.89\n"
     ]
    },
    {
     "name": "stderr",
     "output_type": "stream",
     "text": [
      "100%|████████████████████████████████████████| 121/121 [00:00<00:00, 830.14it/s]\n"
     ]
    },
    {
     "name": "stdout",
     "output_type": "stream",
     "text": [
      " Average valid loss: 0.96\n",
      "AUC_SCORE:  0.545748987854251  acc:  0.7272727272727273 f1:  0.3773584905660377\n",
      "Test\n"
     ]
    },
    {
     "name": "stderr",
     "output_type": "stream",
     "text": [
      "100%|████████████████████████████████████████| 120/120 [00:00<00:00, 847.99it/s]\n"
     ]
    },
    {
     "name": "stdout",
     "output_type": "stream",
     "text": [
      " Average valid loss: 0.92\n",
      "AUC_SCORE:  0.560763888888889  acc:  0.6166666666666667 f1:  0.2580645161290323\n",
      "EPOCHS:17\n",
      "TRAIN\n"
     ]
    },
    {
     "name": "stderr",
     "output_type": "stream",
     "text": [
      "100%|████████████████████████████████████████| 960/960 [00:08<00:00, 117.94it/s]\n"
     ]
    },
    {
     "name": "stdout",
     "output_type": "stream",
     "text": [
      " Average training loss: 0.89\n"
     ]
    },
    {
     "name": "stderr",
     "output_type": "stream",
     "text": [
      "100%|████████████████████████████████████████| 121/121 [00:00<00:00, 835.58it/s]\n"
     ]
    },
    {
     "name": "stdout",
     "output_type": "stream",
     "text": [
      " Average valid loss: 0.96\n",
      "AUC_SCORE:  0.5417004048582996  acc:  0.71900826446281 f1:  0.3703703703703704\n",
      "Test\n"
     ]
    },
    {
     "name": "stderr",
     "output_type": "stream",
     "text": [
      "100%|████████████████████████████████████████| 120/120 [00:00<00:00, 821.84it/s]\n"
     ]
    },
    {
     "name": "stdout",
     "output_type": "stream",
     "text": [
      " Average valid loss: 0.92\n",
      "AUC_SCORE:  0.5616319444444444  acc:  0.625 f1:  0.2857142857142857\n",
      "EPOCHS:18\n",
      "TRAIN\n"
     ]
    },
    {
     "name": "stderr",
     "output_type": "stream",
     "text": [
      "100%|████████████████████████████████████████| 960/960 [00:08<00:00, 118.12it/s]\n"
     ]
    },
    {
     "name": "stdout",
     "output_type": "stream",
     "text": [
      " Average training loss: 0.89\n"
     ]
    },
    {
     "name": "stderr",
     "output_type": "stream",
     "text": [
      "100%|████████████████████████████████████████| 121/121 [00:00<00:00, 835.26it/s]\n"
     ]
    },
    {
     "name": "stdout",
     "output_type": "stream",
     "text": [
      " Average valid loss: 0.96\n",
      "AUC_SCORE:  0.5404858299595142  acc:  0.6942148760330579 f1:  0.3508771929824561\n",
      "Test\n"
     ]
    },
    {
     "name": "stderr",
     "output_type": "stream",
     "text": [
      "100%|████████████████████████████████████████| 120/120 [00:00<00:00, 855.20it/s]\n"
     ]
    },
    {
     "name": "stdout",
     "output_type": "stream",
     "text": [
      " Average valid loss: 0.92\n",
      "AUC_SCORE:  0.5629340277777777  acc:  0.6166666666666667 f1:  0.30303030303030304\n",
      "EPOCHS:19\n",
      "TRAIN\n"
     ]
    },
    {
     "name": "stderr",
     "output_type": "stream",
     "text": [
      "100%|████████████████████████████████████████| 960/960 [00:08<00:00, 118.08it/s]\n"
     ]
    },
    {
     "name": "stdout",
     "output_type": "stream",
     "text": [
      " Average training loss: 0.88\n"
     ]
    },
    {
     "name": "stderr",
     "output_type": "stream",
     "text": [
      "100%|████████████████████████████████████████| 121/121 [00:00<00:00, 824.85it/s]\n"
     ]
    },
    {
     "name": "stdout",
     "output_type": "stream",
     "text": [
      " Average valid loss: 0.96\n",
      "AUC_SCORE:  0.5425101214574899  acc:  0.6942148760330579 f1:  0.3508771929824561\n",
      "Test\n"
     ]
    },
    {
     "name": "stderr",
     "output_type": "stream",
     "text": [
      "100%|████████████████████████████████████████| 120/120 [00:00<00:00, 852.10it/s]\n"
     ]
    },
    {
     "name": "stdout",
     "output_type": "stream",
     "text": [
      " Average valid loss: 0.93\n",
      "AUC_SCORE:  0.5629340277777778  acc:  0.6 f1:  0.29411764705882354\n",
      "EPOCHS:20\n",
      "TRAIN\n"
     ]
    },
    {
     "name": "stderr",
     "output_type": "stream",
     "text": [
      "100%|████████████████████████████████████████| 960/960 [00:08<00:00, 118.73it/s]\n"
     ]
    },
    {
     "name": "stdout",
     "output_type": "stream",
     "text": [
      " Average training loss: 0.87\n"
     ]
    },
    {
     "name": "stderr",
     "output_type": "stream",
     "text": [
      "100%|████████████████████████████████████████| 121/121 [00:00<00:00, 830.75it/s]\n"
     ]
    },
    {
     "name": "stdout",
     "output_type": "stream",
     "text": [
      " Average valid loss: 0.97\n",
      "AUC_SCORE:  0.5433198380566802  acc:  0.6942148760330579 f1:  0.3508771929824561\n",
      "Test\n"
     ]
    },
    {
     "name": "stderr",
     "output_type": "stream",
     "text": [
      "100%|████████████████████████████████████████| 120/120 [00:00<00:00, 844.41it/s]\n"
     ]
    },
    {
     "name": "stdout",
     "output_type": "stream",
     "text": [
      " Average valid loss: 0.93\n",
      "AUC_SCORE:  0.5625  acc:  0.5916666666666667 f1:  0.2898550724637681\n",
      "EPOCHS:21\n",
      "TRAIN\n"
     ]
    },
    {
     "name": "stderr",
     "output_type": "stream",
     "text": [
      "100%|████████████████████████████████████████| 960/960 [00:08<00:00, 116.22it/s]\n"
     ]
    },
    {
     "name": "stdout",
     "output_type": "stream",
     "text": [
      " Average training loss: 0.88\n"
     ]
    },
    {
     "name": "stderr",
     "output_type": "stream",
     "text": [
      "100%|████████████████████████████████████████| 121/121 [00:00<00:00, 808.49it/s]\n"
     ]
    },
    {
     "name": "stdout",
     "output_type": "stream",
     "text": [
      " Average valid loss: 0.97\n",
      "AUC_SCORE:  0.5425101214574898  acc:  0.6859504132231405 f1:  0.3448275862068966\n",
      "Test\n"
     ]
    },
    {
     "name": "stderr",
     "output_type": "stream",
     "text": [
      "100%|████████████████████████████████████████| 120/120 [00:00<00:00, 829.46it/s]\n"
     ]
    },
    {
     "name": "stdout",
     "output_type": "stream",
     "text": [
      " Average valid loss: 0.93\n",
      "AUC_SCORE:  0.564236111111111  acc:  0.5916666666666667 f1:  0.2898550724637681\n",
      "EPOCHS:22\n",
      "TRAIN\n"
     ]
    },
    {
     "name": "stderr",
     "output_type": "stream",
     "text": [
      "100%|████████████████████████████████████████| 960/960 [00:08<00:00, 115.77it/s]\n"
     ]
    },
    {
     "name": "stdout",
     "output_type": "stream",
     "text": [
      " Average training loss: 0.87\n"
     ]
    },
    {
     "name": "stderr",
     "output_type": "stream",
     "text": [
      "100%|████████████████████████████████████████| 121/121 [00:00<00:00, 790.44it/s]\n"
     ]
    },
    {
     "name": "stdout",
     "output_type": "stream",
     "text": [
      " Average valid loss: 0.97\n",
      "AUC_SCORE:  0.545748987854251  acc:  0.6611570247933884 f1:  0.32786885245901637\n",
      "Test\n"
     ]
    },
    {
     "name": "stderr",
     "output_type": "stream",
     "text": [
      "100%|████████████████████████████████████████| 120/120 [00:00<00:00, 812.08it/s]\n"
     ]
    },
    {
     "name": "stdout",
     "output_type": "stream",
     "text": [
      " Average valid loss: 0.93\n",
      "AUC_SCORE:  0.564236111111111  acc:  0.5916666666666667 f1:  0.3098591549295775\n",
      "EPOCHS:23\n",
      "TRAIN\n"
     ]
    },
    {
     "name": "stderr",
     "output_type": "stream",
     "text": [
      "100%|████████████████████████████████████████| 960/960 [00:08<00:00, 116.94it/s]\n"
     ]
    },
    {
     "name": "stdout",
     "output_type": "stream",
     "text": [
      " Average training loss: 0.86\n"
     ]
    },
    {
     "name": "stderr",
     "output_type": "stream",
     "text": [
      "100%|████████████████████████████████████████| 121/121 [00:00<00:00, 825.56it/s]\n"
     ]
    },
    {
     "name": "stdout",
     "output_type": "stream",
     "text": [
      " Average valid loss: 0.98\n",
      "AUC_SCORE:  0.5481781376518219  acc:  0.6694214876033058 f1:  0.33333333333333337\n",
      "Test\n"
     ]
    },
    {
     "name": "stderr",
     "output_type": "stream",
     "text": [
      "100%|████████████████████████████████████████| 120/120 [00:00<00:00, 846.62it/s]\n"
     ]
    },
    {
     "name": "stdout",
     "output_type": "stream",
     "text": [
      " Average valid loss: 0.93\n",
      "AUC_SCORE:  0.5629340277777777  acc:  0.5916666666666667 f1:  0.3098591549295775\n",
      "EPOCHS:24\n",
      "TRAIN\n"
     ]
    },
    {
     "name": "stderr",
     "output_type": "stream",
     "text": [
      "100%|████████████████████████████████████████| 960/960 [00:08<00:00, 118.46it/s]\n"
     ]
    },
    {
     "name": "stdout",
     "output_type": "stream",
     "text": [
      " Average training loss: 0.87\n"
     ]
    },
    {
     "name": "stderr",
     "output_type": "stream",
     "text": [
      "100%|████████████████████████████████████████| 121/121 [00:00<00:00, 834.51it/s]\n"
     ]
    },
    {
     "name": "stdout",
     "output_type": "stream",
     "text": [
      " Average valid loss: 0.98\n",
      "AUC_SCORE:  0.5489878542510122  acc:  0.6528925619834711 f1:  0.3225806451612903\n",
      "Test\n"
     ]
    },
    {
     "name": "stderr",
     "output_type": "stream",
     "text": [
      "100%|████████████████████████████████████████| 120/120 [00:00<00:00, 860.46it/s]\n"
     ]
    },
    {
     "name": "stdout",
     "output_type": "stream",
     "text": [
      " Average valid loss: 0.94\n",
      "AUC_SCORE:  0.5607638888888888  acc:  0.5916666666666667 f1:  0.3098591549295775\n",
      "EPOCHS:25\n",
      "TRAIN\n"
     ]
    },
    {
     "name": "stderr",
     "output_type": "stream",
     "text": [
      "100%|████████████████████████████████████████| 960/960 [00:08<00:00, 119.54it/s]\n"
     ]
    },
    {
     "name": "stdout",
     "output_type": "stream",
     "text": [
      " Average training loss: 0.85\n"
     ]
    },
    {
     "name": "stderr",
     "output_type": "stream",
     "text": [
      "100%|████████████████████████████████████████| 121/121 [00:00<00:00, 838.04it/s]\n"
     ]
    },
    {
     "name": "stdout",
     "output_type": "stream",
     "text": [
      " Average valid loss: 0.98\n",
      "AUC_SCORE:  0.5485829959514169  acc:  0.6694214876033058 f1:  0.33333333333333337\n",
      "Test\n"
     ]
    },
    {
     "name": "stderr",
     "output_type": "stream",
     "text": [
      "100%|████████████████████████████████████████| 120/120 [00:00<00:00, 855.64it/s]\n"
     ]
    },
    {
     "name": "stdout",
     "output_type": "stream",
     "text": [
      " Average valid loss: 0.94\n",
      "AUC_SCORE:  0.556423611111111  acc:  0.5916666666666667 f1:  0.3098591549295775\n",
      "EPOCHS:26\n",
      "TRAIN\n"
     ]
    },
    {
     "name": "stderr",
     "output_type": "stream",
     "text": [
      "100%|████████████████████████████████████████| 960/960 [00:08<00:00, 118.78it/s]\n"
     ]
    },
    {
     "name": "stdout",
     "output_type": "stream",
     "text": [
      " Average training loss: 0.85\n"
     ]
    },
    {
     "name": "stderr",
     "output_type": "stream",
     "text": [
      "100%|████████████████████████████████████████| 121/121 [00:00<00:00, 835.59it/s]\n"
     ]
    },
    {
     "name": "stdout",
     "output_type": "stream",
     "text": [
      " Average valid loss: 0.98\n",
      "AUC_SCORE:  0.5469635627530365  acc:  0.6528925619834711 f1:  0.3225806451612903\n",
      "Test\n"
     ]
    },
    {
     "name": "stderr",
     "output_type": "stream",
     "text": [
      "100%|████████████████████████████████████████| 120/120 [00:00<00:00, 853.10it/s]\n"
     ]
    },
    {
     "name": "stdout",
     "output_type": "stream",
     "text": [
      " Average valid loss: 0.94\n",
      "AUC_SCORE:  0.5568576388888888  acc:  0.5916666666666667 f1:  0.3287671232876712\n",
      "EPOCHS:27\n",
      "TRAIN\n"
     ]
    },
    {
     "name": "stderr",
     "output_type": "stream",
     "text": [
      "100%|████████████████████████████████████████| 960/960 [00:08<00:00, 119.70it/s]\n"
     ]
    },
    {
     "name": "stdout",
     "output_type": "stream",
     "text": [
      " Average training loss: 0.86\n"
     ]
    },
    {
     "name": "stderr",
     "output_type": "stream",
     "text": [
      "100%|████████████████████████████████████████| 121/121 [00:00<00:00, 837.26it/s]\n"
     ]
    },
    {
     "name": "stdout",
     "output_type": "stream",
     "text": [
      " Average valid loss: 0.99\n",
      "AUC_SCORE:  0.5489878542510122  acc:  0.6694214876033058 f1:  0.33333333333333337\n",
      "Test\n"
     ]
    },
    {
     "name": "stderr",
     "output_type": "stream",
     "text": [
      "100%|████████████████████████████████████████| 120/120 [00:00<00:00, 849.14it/s]\n"
     ]
    },
    {
     "name": "stdout",
     "output_type": "stream",
     "text": [
      " Average valid loss: 0.95\n",
      "AUC_SCORE:  0.5568576388888888  acc:  0.5916666666666667 f1:  0.3287671232876712\n",
      "EPOCHS:28\n",
      "TRAIN\n"
     ]
    },
    {
     "name": "stderr",
     "output_type": "stream",
     "text": [
      "100%|████████████████████████████████████████| 960/960 [00:07<00:00, 120.31it/s]\n"
     ]
    },
    {
     "name": "stdout",
     "output_type": "stream",
     "text": [
      " Average training loss: 0.84\n"
     ]
    },
    {
     "name": "stderr",
     "output_type": "stream",
     "text": [
      "100%|████████████████████████████████████████| 121/121 [00:00<00:00, 837.11it/s]\n"
     ]
    },
    {
     "name": "stdout",
     "output_type": "stream",
     "text": [
      " Average valid loss: 0.99\n",
      "AUC_SCORE:  0.5497975708502024  acc:  0.6446280991735537 f1:  0.31746031746031744\n",
      "Test\n"
     ]
    },
    {
     "name": "stderr",
     "output_type": "stream",
     "text": [
      "100%|████████████████████████████████████████| 120/120 [00:00<00:00, 855.75it/s]\n"
     ]
    },
    {
     "name": "stdout",
     "output_type": "stream",
     "text": [
      " Average valid loss: 0.95\n",
      "AUC_SCORE:  0.55859375  acc:  0.6 f1:  0.35135135135135137\n",
      "EPOCHS:29\n",
      "TRAIN\n"
     ]
    },
    {
     "name": "stderr",
     "output_type": "stream",
     "text": [
      "100%|████████████████████████████████████████| 960/960 [00:08<00:00, 117.95it/s]\n"
     ]
    },
    {
     "name": "stdout",
     "output_type": "stream",
     "text": [
      " Average training loss: 0.84\n"
     ]
    },
    {
     "name": "stderr",
     "output_type": "stream",
     "text": [
      "100%|████████████████████████████████████████| 121/121 [00:00<00:00, 836.36it/s]\n"
     ]
    },
    {
     "name": "stdout",
     "output_type": "stream",
     "text": [
      " Average valid loss: 0.99\n",
      "AUC_SCORE:  0.5497975708502024  acc:  0.6446280991735537 f1:  0.31746031746031744\n",
      "Test\n"
     ]
    },
    {
     "name": "stderr",
     "output_type": "stream",
     "text": [
      "100%|████████████████████████████████████████| 120/120 [00:00<00:00, 853.34it/s]\n"
     ]
    },
    {
     "name": "stdout",
     "output_type": "stream",
     "text": [
      " Average valid loss: 0.95\n",
      "AUC_SCORE:  0.5581597222222222  acc:  0.6 f1:  0.35135135135135137\n",
      "EPOCHS:30\n",
      "TRAIN\n"
     ]
    },
    {
     "name": "stderr",
     "output_type": "stream",
     "text": [
      "100%|████████████████████████████████████████| 960/960 [00:08<00:00, 118.86it/s]\n"
     ]
    },
    {
     "name": "stdout",
     "output_type": "stream",
     "text": [
      " Average training loss: 0.84\n"
     ]
    },
    {
     "name": "stderr",
     "output_type": "stream",
     "text": [
      "100%|████████████████████████████████████████| 121/121 [00:00<00:00, 837.12it/s]\n"
     ]
    },
    {
     "name": "stdout",
     "output_type": "stream",
     "text": [
      " Average valid loss: 1.00\n",
      "AUC_SCORE:  0.5526315789473685  acc:  0.6611570247933884 f1:  0.32786885245901637\n",
      "Test\n"
     ]
    },
    {
     "name": "stderr",
     "output_type": "stream",
     "text": [
      "100%|████████████████████████████████████████| 120/120 [00:00<00:00, 812.15it/s]\n"
     ]
    },
    {
     "name": "stdout",
     "output_type": "stream",
     "text": [
      " Average valid loss: 0.95\n",
      "AUC_SCORE:  0.5607638888888888  acc:  0.6083333333333333 f1:  0.31884057971014496\n",
      "EPOCHS:31\n",
      "TRAIN\n"
     ]
    },
    {
     "name": "stderr",
     "output_type": "stream",
     "text": [
      "100%|████████████████████████████████████████| 960/960 [00:08<00:00, 118.15it/s]\n"
     ]
    },
    {
     "name": "stdout",
     "output_type": "stream",
     "text": [
      " Average training loss: 0.83\n"
     ]
    },
    {
     "name": "stderr",
     "output_type": "stream",
     "text": [
      "100%|████████████████████████████████████████| 121/121 [00:00<00:00, 828.00it/s]\n"
     ]
    },
    {
     "name": "stdout",
     "output_type": "stream",
     "text": [
      " Average valid loss: 1.00\n",
      "AUC_SCORE:  0.5534412955465587  acc:  0.6446280991735537 f1:  0.31746031746031744\n",
      "Test\n"
     ]
    },
    {
     "name": "stderr",
     "output_type": "stream",
     "text": [
      "100%|████████████████████████████████████████| 120/120 [00:00<00:00, 846.63it/s]\n"
     ]
    },
    {
     "name": "stdout",
     "output_type": "stream",
     "text": [
      " Average valid loss: 0.96\n",
      "AUC_SCORE:  0.5598958333333333  acc:  0.5833333333333334 f1:  0.34210526315789475\n",
      "EPOCHS:32\n",
      "TRAIN\n"
     ]
    },
    {
     "name": "stderr",
     "output_type": "stream",
     "text": [
      "100%|████████████████████████████████████████| 960/960 [00:08<00:00, 118.48it/s]\n"
     ]
    },
    {
     "name": "stdout",
     "output_type": "stream",
     "text": [
      " Average training loss: 0.83\n"
     ]
    },
    {
     "name": "stderr",
     "output_type": "stream",
     "text": [
      "100%|████████████████████████████████████████| 121/121 [00:00<00:00, 811.05it/s]\n"
     ]
    },
    {
     "name": "stdout",
     "output_type": "stream",
     "text": [
      " Average valid loss: 1.00\n",
      "AUC_SCORE:  0.5534412955465587  acc:  0.6446280991735537 f1:  0.31746031746031744\n",
      "Test\n"
     ]
    },
    {
     "name": "stderr",
     "output_type": "stream",
     "text": [
      "100%|████████████████████████████████████████| 120/120 [00:00<00:00, 827.17it/s]\n"
     ]
    },
    {
     "name": "stdout",
     "output_type": "stream",
     "text": [
      " Average valid loss: 0.96\n",
      "AUC_SCORE:  0.5603298611111112  acc:  0.6083333333333333 f1:  0.35616438356164387\n",
      "EPOCHS:33\n",
      "TRAIN\n"
     ]
    },
    {
     "name": "stderr",
     "output_type": "stream",
     "text": [
      "100%|████████████████████████████████████████| 960/960 [00:08<00:00, 117.84it/s]\n"
     ]
    },
    {
     "name": "stdout",
     "output_type": "stream",
     "text": [
      " Average training loss: 0.84\n"
     ]
    },
    {
     "name": "stderr",
     "output_type": "stream",
     "text": [
      "100%|████████████████████████████████████████| 121/121 [00:00<00:00, 804.13it/s]\n"
     ]
    },
    {
     "name": "stdout",
     "output_type": "stream",
     "text": [
      " Average valid loss: 1.00\n",
      "AUC_SCORE:  0.5574898785425101  acc:  0.6776859504132231 f1:  0.3389830508474576\n",
      "Test\n"
     ]
    },
    {
     "name": "stderr",
     "output_type": "stream",
     "text": [
      "100%|████████████████████████████████████████| 120/120 [00:00<00:00, 816.76it/s]\n"
     ]
    },
    {
     "name": "stdout",
     "output_type": "stream",
     "text": [
      " Average valid loss: 0.96\n",
      "AUC_SCORE:  0.5616319444444444  acc:  0.6083333333333333 f1:  0.3380281690140845\n",
      "EPOCHS:34\n",
      "TRAIN\n"
     ]
    },
    {
     "name": "stderr",
     "output_type": "stream",
     "text": [
      "100%|████████████████████████████████████████| 960/960 [00:08<00:00, 119.02it/s]\n"
     ]
    },
    {
     "name": "stdout",
     "output_type": "stream",
     "text": [
      " Average training loss: 0.82\n"
     ]
    },
    {
     "name": "stderr",
     "output_type": "stream",
     "text": [
      "100%|████████████████████████████████████████| 121/121 [00:00<00:00, 834.83it/s]\n"
     ]
    },
    {
     "name": "stdout",
     "output_type": "stream",
     "text": [
      " Average valid loss: 1.01\n",
      "AUC_SCORE:  0.5578947368421052  acc:  0.6776859504132231 f1:  0.3389830508474576\n",
      "Test\n"
     ]
    },
    {
     "name": "stderr",
     "output_type": "stream",
     "text": [
      "100%|████████████████████████████████████████| 120/120 [00:00<00:00, 841.33it/s]\n"
     ]
    },
    {
     "name": "stdout",
     "output_type": "stream",
     "text": [
      " Average valid loss: 0.96\n",
      "AUC_SCORE:  0.5620659722222221  acc:  0.6083333333333333 f1:  0.3380281690140845\n",
      "EPOCHS:35\n",
      "TRAIN\n"
     ]
    },
    {
     "name": "stderr",
     "output_type": "stream",
     "text": [
      "100%|████████████████████████████████████████| 960/960 [00:08<00:00, 118.06it/s]\n"
     ]
    },
    {
     "name": "stdout",
     "output_type": "stream",
     "text": [
      " Average training loss: 0.82\n"
     ]
    },
    {
     "name": "stderr",
     "output_type": "stream",
     "text": [
      "100%|████████████████████████████████████████| 121/121 [00:00<00:00, 830.88it/s]\n"
     ]
    },
    {
     "name": "stdout",
     "output_type": "stream",
     "text": [
      " Average valid loss: 1.01\n",
      "AUC_SCORE:  0.5578947368421052  acc:  0.6776859504132231 f1:  0.3389830508474576\n",
      "Test\n"
     ]
    },
    {
     "name": "stderr",
     "output_type": "stream",
     "text": [
      "100%|████████████████████████████████████████| 120/120 [00:00<00:00, 846.95it/s]\n"
     ]
    },
    {
     "name": "stdout",
     "output_type": "stream",
     "text": [
      " Average valid loss: 0.97\n",
      "AUC_SCORE:  0.5620659722222222  acc:  0.6166666666666667 f1:  0.36111111111111105\n",
      "EPOCHS:36\n",
      "TRAIN\n"
     ]
    },
    {
     "name": "stderr",
     "output_type": "stream",
     "text": [
      "100%|████████████████████████████████████████| 960/960 [00:08<00:00, 114.68it/s]\n"
     ]
    },
    {
     "name": "stdout",
     "output_type": "stream",
     "text": [
      " Average training loss: 0.81\n"
     ]
    },
    {
     "name": "stderr",
     "output_type": "stream",
     "text": [
      "100%|████████████████████████████████████████| 121/121 [00:00<00:00, 841.53it/s]\n"
     ]
    },
    {
     "name": "stdout",
     "output_type": "stream",
     "text": [
      " Average valid loss: 1.01\n",
      "AUC_SCORE:  0.5574898785425101  acc:  0.6611570247933884 f1:  0.32786885245901637\n",
      "Test\n"
     ]
    },
    {
     "name": "stderr",
     "output_type": "stream",
     "text": [
      "100%|████████████████████████████████████████| 120/120 [00:00<00:00, 858.30it/s]\n"
     ]
    },
    {
     "name": "stdout",
     "output_type": "stream",
     "text": [
      " Average valid loss: 0.97\n",
      "AUC_SCORE:  0.5638020833333333  acc:  0.6 f1:  0.35135135135135137\n",
      "EPOCHS:37\n",
      "TRAIN\n"
     ]
    },
    {
     "name": "stderr",
     "output_type": "stream",
     "text": [
      "100%|████████████████████████████████████████| 960/960 [00:08<00:00, 117.70it/s]\n"
     ]
    },
    {
     "name": "stdout",
     "output_type": "stream",
     "text": [
      " Average training loss: 0.81\n"
     ]
    },
    {
     "name": "stderr",
     "output_type": "stream",
     "text": [
      "100%|████████████████████████████████████████| 121/121 [00:00<00:00, 796.42it/s]\n"
     ]
    },
    {
     "name": "stdout",
     "output_type": "stream",
     "text": [
      " Average valid loss: 1.01\n",
      "AUC_SCORE:  0.5595141700404859  acc:  0.6776859504132231 f1:  0.3389830508474576\n",
      "Test\n"
     ]
    },
    {
     "name": "stderr",
     "output_type": "stream",
     "text": [
      "100%|████████████████████████████████████████| 120/120 [00:00<00:00, 765.01it/s]\n"
     ]
    },
    {
     "name": "stdout",
     "output_type": "stream",
     "text": [
      " Average valid loss: 0.97\n",
      "AUC_SCORE:  0.5651041666666666  acc:  0.6 f1:  0.35135135135135137\n",
      "EPOCHS:38\n",
      "TRAIN\n"
     ]
    },
    {
     "name": "stderr",
     "output_type": "stream",
     "text": [
      "100%|████████████████████████████████████████| 960/960 [00:08<00:00, 112.06it/s]\n"
     ]
    },
    {
     "name": "stdout",
     "output_type": "stream",
     "text": [
      " Average training loss: 0.80\n"
     ]
    },
    {
     "name": "stderr",
     "output_type": "stream",
     "text": [
      "100%|████████████████████████████████████████| 121/121 [00:00<00:00, 861.03it/s]\n"
     ]
    },
    {
     "name": "stdout",
     "output_type": "stream",
     "text": [
      " Average valid loss: 1.02\n",
      "AUC_SCORE:  0.5595141700404859  acc:  0.6694214876033058 f1:  0.33333333333333337\n",
      "Test\n"
     ]
    },
    {
     "name": "stderr",
     "output_type": "stream",
     "text": [
      "100%|████████████████████████████████████████| 120/120 [00:00<00:00, 888.94it/s]\n"
     ]
    },
    {
     "name": "stdout",
     "output_type": "stream",
     "text": [
      " Average valid loss: 0.98\n",
      "AUC_SCORE:  0.5633680555555556  acc:  0.6 f1:  0.35135135135135137\n",
      "EPOCHS:39\n",
      "TRAIN\n"
     ]
    },
    {
     "name": "stderr",
     "output_type": "stream",
     "text": [
      "100%|████████████████████████████████████████| 960/960 [00:08<00:00, 119.19it/s]\n"
     ]
    },
    {
     "name": "stdout",
     "output_type": "stream",
     "text": [
      " Average training loss: 0.79\n"
     ]
    },
    {
     "name": "stderr",
     "output_type": "stream",
     "text": [
      "100%|████████████████████████████████████████| 121/121 [00:00<00:00, 860.38it/s]\n"
     ]
    },
    {
     "name": "stdout",
     "output_type": "stream",
     "text": [
      " Average valid loss: 1.02\n",
      "AUC_SCORE:  0.5611336032388664  acc:  0.6776859504132231 f1:  0.3389830508474576\n",
      "Test\n"
     ]
    },
    {
     "name": "stderr",
     "output_type": "stream",
     "text": [
      "100%|████████████████████████████████████████| 120/120 [00:00<00:00, 881.36it/s]\n"
     ]
    },
    {
     "name": "stdout",
     "output_type": "stream",
     "text": [
      " Average valid loss: 0.98\n",
      "AUC_SCORE:  0.5646701388888888  acc:  0.6083333333333333 f1:  0.35616438356164387\n",
      "EPOCHS:40\n",
      "TRAIN\n"
     ]
    },
    {
     "name": "stderr",
     "output_type": "stream",
     "text": [
      "100%|████████████████████████████████████████| 960/960 [00:07<00:00, 121.85it/s]\n"
     ]
    },
    {
     "name": "stdout",
     "output_type": "stream",
     "text": [
      " Average training loss: 0.79\n"
     ]
    },
    {
     "name": "stderr",
     "output_type": "stream",
     "text": [
      "100%|████████████████████████████████████████| 121/121 [00:00<00:00, 847.86it/s]\n"
     ]
    },
    {
     "name": "stdout",
     "output_type": "stream",
     "text": [
      " Average valid loss: 1.03\n",
      "AUC_SCORE:  0.5635627530364372  acc:  0.6859504132231405 f1:  0.32142857142857145\n",
      "Test\n"
     ]
    },
    {
     "name": "stderr",
     "output_type": "stream",
     "text": [
      "100%|████████████████████████████████████████| 120/120 [00:00<00:00, 871.81it/s]\n"
     ]
    },
    {
     "name": "stdout",
     "output_type": "stream",
     "text": [
      " Average valid loss: 0.99\n",
      "AUC_SCORE:  0.5638020833333333  acc:  0.6166666666666667 f1:  0.3428571428571428\n"
     ]
    },
    {
     "name": "stderr",
     "output_type": "stream",
     "text": [
      "100%|████████████████████████████████████████| 120/120 [00:00<00:00, 850.85it/s]\n"
     ]
    },
    {
     "name": "stdout",
     "output_type": "stream",
     "text": [
      " Average valid loss: 0.92\n",
      "AUC_SCORE:  0.56640625  acc:  0.6333333333333333 f1:  0.2413793103448276\n",
      "BEST MODEL\n",
      "AUC_SCORE:  0.56640625  acc:  0.6333333333333333 f1:  0.2413793103448276\n",
      "{'auc_micro': 0.56640625, 'acc': 0.6333333333333333, 'f1': 0.2413793103448276, 'pred': [[0, 1, 0, 1, 0, 0, 0, 0, 0, 0], [0, 0, 0, 0, 1, 1, 0, 0, 0, 0], [0, 0, 0, 0, 0, 0, 1, 0, 1, 1], [1, 0, 1, 0, 0, 0, 1, 1, 0, 0], [0, 0, 1, 0, 0, 0, 0, 1, 0, 0], [1, 0, 1, 1, 0, 1, 0, 0, 0, 0], [1, 0, 0, 0, 1, 0, 0, 0, 0, 0], [0, 1, 1, 0, 0, 0, 1, 1, 1, 0], [0, 0, 1, 0, 1, 0, 0, 1, 0, 0], [0, 0, 0, 0, 1, 1, 0, 0, 0, 1], [0, 1, 1, 1, 0, 0, 0, 0, 0, 0], [0, 0, 0, 0, 0, 1, 0, 0, 0, 0], [], [], [], [], [], [], [], []]}\n"
     ]
    }
   ],
   "source": [
    "bert2 = BertModel().to('cuda')\n",
    "score = fit(bert2, train_data,valid_data,test_data,EPOCHS=40)\n",
    "print(score)"
   ]
  },
  {
   "cell_type": "code",
   "execution_count": 121,
   "id": "6365c8e6",
   "metadata": {},
   "outputs": [],
   "source": [
    "path1 = 'word2vec_model_text3/'\n",
    "path2 = 'data/scriptbase/'\n",
    "filenames = os.listdir(path1)\n",
    "train_data = []\n",
    "valid_data = []\n",
    "test_data = []\n",
    "one = 0\n",
    "zero = 0\n",
    "end = torch.ones(1,1,384)\n",
    "\n",
    "for filename in filenames:\n",
    "    genres = []\n",
    "    movie_name = filename[:-14]\n",
    "    cult = 0\n",
    "    with open(path2+movie_name+'/processed/imdb_meta.txt','r') as f:\n",
    "        lines = f.readlines()\n",
    "        for line in lines:\n",
    "            if 'keyword' in line:\n",
    "                try:\n",
    "                    keyword  = line.strip().split('\\t')[1]\n",
    "                    keywords.append(keyword)\n",
    "                except:\n",
    "                    pass\n",
    "                if 'independent film'==keyword:\n",
    "                    cult = 1\n",
    "        \n",
    "    w2v=Word2Vec.load(path1 + filename)\n",
    "    base = 'scene_'\n",
    "    scene_num = 0\n",
    "    max_scene = 0\n",
    "    for node in w2v.wv.index_to_key:\n",
    "        if base in node:\n",
    "            scene_num += 1\n",
    "            if int(node[6:])>max_scene:\n",
    "                max_scene = int(node[6:])\n",
    "    embs = torch.zeros(1,scene_num+1,384)\n",
    "    k = 0\n",
    "    for i in range(1,max_scene+1):\n",
    "        emb_name = base + str(i)\n",
    "        if emb_name in w2v.wv.index_to_key:\n",
    "            emb = w2v.wv[emb_name]\n",
    "            emb = torch.from_numpy(emb)\n",
    "            embs[0][k] = emb\n",
    "            k += 1\n",
    "    embs[0][-1] = end\n",
    "        \n",
    "        \n",
    "    rand = random.randint(0,100)    \n",
    "    if movie_name in movie_split['train']:\n",
    "        train_data.append([embs, [cult]])\n",
    "    elif movie_name in movie_split['valid']:\n",
    "        valid_data.append([embs, [cult]])\n",
    "    \n",
    "    elif movie_name in movie_split['test']:\n",
    "        test_data.append([embs, [cult]])\n",
    "    \n",
    "    if cult:\n",
    "        one += 1\n",
    "    else:\n",
    "        zero += 1"
   ]
  },
  {
   "cell_type": "code",
   "execution_count": 122,
   "id": "c1d539ce",
   "metadata": {},
   "outputs": [
    {
     "name": "stdout",
     "output_type": "stream",
     "text": [
      "EPOCHS:1\n",
      "TRAIN\n"
     ]
    },
    {
     "name": "stderr",
     "output_type": "stream",
     "text": [
      "100%|████████████████████████████████████████| 960/960 [00:08<00:00, 119.58it/s]\n"
     ]
    },
    {
     "name": "stdout",
     "output_type": "stream",
     "text": [
      " Average training loss: 0.95\n"
     ]
    },
    {
     "name": "stderr",
     "output_type": "stream",
     "text": [
      "100%|████████████████████████████████████████| 121/121 [00:00<00:00, 861.54it/s]"
     ]
    },
    {
     "name": "stdout",
     "output_type": "stream",
     "text": [
      " Average valid loss: 0.96\n",
      "AUC_SCORE:  0.3777327935222672  acc:  0.7851239669421488 f1:  0.0\n"
     ]
    },
    {
     "name": "stderr",
     "output_type": "stream",
     "text": [
      "\n"
     ]
    },
    {
     "name": "stdout",
     "output_type": "stream",
     "text": [
      "Test\n"
     ]
    },
    {
     "name": "stderr",
     "output_type": "stream",
     "text": [
      "100%|████████████████████████████████████████| 120/120 [00:00<00:00, 874.20it/s]\n"
     ]
    },
    {
     "name": "stdout",
     "output_type": "stream",
     "text": [
      " Average valid loss: 0.92\n",
      "AUC_SCORE:  0.5190972222222222  acc:  0.8 f1:  0.0\n",
      "EPOCHS:2\n",
      "TRAIN\n"
     ]
    },
    {
     "name": "stderr",
     "output_type": "stream",
     "text": [
      "100%|████████████████████████████████████████| 960/960 [00:08<00:00, 119.92it/s]\n"
     ]
    },
    {
     "name": "stdout",
     "output_type": "stream",
     "text": [
      " Average training loss: 0.95\n"
     ]
    },
    {
     "name": "stderr",
     "output_type": "stream",
     "text": [
      "100%|████████████████████████████████████████| 121/121 [00:00<00:00, 856.95it/s]\n"
     ]
    },
    {
     "name": "stdout",
     "output_type": "stream",
     "text": [
      " Average valid loss: 0.96\n",
      "AUC_SCORE:  0.38785425101214577  acc:  0.7851239669421488 f1:  0.0\n",
      "Test\n"
     ]
    },
    {
     "name": "stderr",
     "output_type": "stream",
     "text": [
      "100%|████████████████████████████████████████| 120/120 [00:00<00:00, 883.19it/s]\n"
     ]
    },
    {
     "name": "stdout",
     "output_type": "stream",
     "text": [
      " Average valid loss: 0.92\n",
      "AUC_SCORE:  0.5421006944444444  acc:  0.8 f1:  0.0\n",
      "EPOCHS:3\n",
      "TRAIN\n"
     ]
    },
    {
     "name": "stderr",
     "output_type": "stream",
     "text": [
      "100%|████████████████████████████████████████| 960/960 [00:08<00:00, 110.28it/s]\n"
     ]
    },
    {
     "name": "stdout",
     "output_type": "stream",
     "text": [
      " Average training loss: 0.94\n"
     ]
    },
    {
     "name": "stderr",
     "output_type": "stream",
     "text": [
      "100%|████████████████████████████████████████| 121/121 [00:00<00:00, 766.26it/s]\n"
     ]
    },
    {
     "name": "stdout",
     "output_type": "stream",
     "text": [
      " Average valid loss: 0.97\n",
      "AUC_SCORE:  0.38906882591093117  acc:  0.7851239669421488 f1:  0.0\n",
      "Test\n"
     ]
    },
    {
     "name": "stderr",
     "output_type": "stream",
     "text": [
      "100%|████████████████████████████████████████| 120/120 [00:00<00:00, 802.40it/s]\n"
     ]
    },
    {
     "name": "stdout",
     "output_type": "stream",
     "text": [
      " Average valid loss: 0.92\n",
      "AUC_SCORE:  0.5590277777777777  acc:  0.8 f1:  0.0\n",
      "EPOCHS:4\n",
      "TRAIN\n"
     ]
    },
    {
     "name": "stderr",
     "output_type": "stream",
     "text": [
      "100%|████████████████████████████████████████| 960/960 [00:08<00:00, 109.51it/s]\n"
     ]
    },
    {
     "name": "stdout",
     "output_type": "stream",
     "text": [
      " Average training loss: 0.94\n"
     ]
    },
    {
     "name": "stderr",
     "output_type": "stream",
     "text": [
      "100%|████████████████████████████████████████| 121/121 [00:00<00:00, 854.60it/s]\n"
     ]
    },
    {
     "name": "stdout",
     "output_type": "stream",
     "text": [
      " Average valid loss: 0.97\n",
      "AUC_SCORE:  0.3927125506072875  acc:  0.7851239669421488 f1:  0.0\n",
      "Test\n"
     ]
    },
    {
     "name": "stderr",
     "output_type": "stream",
     "text": [
      "100%|████████████████████████████████████████| 120/120 [00:00<00:00, 877.40it/s]\n"
     ]
    },
    {
     "name": "stdout",
     "output_type": "stream",
     "text": [
      " Average valid loss: 0.92\n",
      "AUC_SCORE:  0.56640625  acc:  0.8 f1:  0.0\n",
      "EPOCHS:5\n",
      "TRAIN\n"
     ]
    },
    {
     "name": "stderr",
     "output_type": "stream",
     "text": [
      "100%|████████████████████████████████████████| 960/960 [00:08<00:00, 119.81it/s]\n"
     ]
    },
    {
     "name": "stdout",
     "output_type": "stream",
     "text": [
      " Average training loss: 0.93\n"
     ]
    },
    {
     "name": "stderr",
     "output_type": "stream",
     "text": [
      "100%|████████████████████████████████████████| 121/121 [00:00<00:00, 842.07it/s]\n"
     ]
    },
    {
     "name": "stdout",
     "output_type": "stream",
     "text": [
      " Average valid loss: 0.97\n",
      "AUC_SCORE:  0.39838056680161943  acc:  0.7851239669421488 f1:  0.0\n",
      "Test\n"
     ]
    },
    {
     "name": "stderr",
     "output_type": "stream",
     "text": [
      "100%|████████████████████████████████████████| 120/120 [00:00<00:00, 793.71it/s]\n"
     ]
    },
    {
     "name": "stdout",
     "output_type": "stream",
     "text": [
      " Average valid loss: 0.92\n",
      "AUC_SCORE:  0.5768229166666667  acc:  0.8 f1:  0.0\n",
      "EPOCHS:6\n",
      "TRAIN\n"
     ]
    },
    {
     "name": "stderr",
     "output_type": "stream",
     "text": [
      "100%|████████████████████████████████████████| 960/960 [00:08<00:00, 112.22it/s]\n"
     ]
    },
    {
     "name": "stdout",
     "output_type": "stream",
     "text": [
      " Average training loss: 0.93\n"
     ]
    },
    {
     "name": "stderr",
     "output_type": "stream",
     "text": [
      "100%|████████████████████████████████████████| 121/121 [00:00<00:00, 850.43it/s]\n"
     ]
    },
    {
     "name": "stdout",
     "output_type": "stream",
     "text": [
      " Average valid loss: 0.97\n",
      "AUC_SCORE:  0.40850202429149796  acc:  0.768595041322314 f1:  0.0\n",
      "Test\n"
     ]
    },
    {
     "name": "stderr",
     "output_type": "stream",
     "text": [
      "100%|████████████████████████████████████████| 120/120 [00:00<00:00, 803.30it/s]\n"
     ]
    },
    {
     "name": "stdout",
     "output_type": "stream",
     "text": [
      " Average valid loss: 0.91\n",
      "AUC_SCORE:  0.578125  acc:  0.8 f1:  0.0\n",
      "EPOCHS:7\n",
      "TRAIN\n"
     ]
    },
    {
     "name": "stderr",
     "output_type": "stream",
     "text": [
      "100%|████████████████████████████████████████| 960/960 [00:08<00:00, 116.63it/s]\n"
     ]
    },
    {
     "name": "stdout",
     "output_type": "stream",
     "text": [
      " Average training loss: 0.93\n"
     ]
    },
    {
     "name": "stderr",
     "output_type": "stream",
     "text": [
      "100%|████████████████████████████████████████| 121/121 [00:00<00:00, 758.50it/s]\n"
     ]
    },
    {
     "name": "stdout",
     "output_type": "stream",
     "text": [
      " Average valid loss: 0.97\n",
      "AUC_SCORE:  0.4137651821862348  acc:  0.7603305785123967 f1:  0.0\n",
      "Test\n"
     ]
    },
    {
     "name": "stderr",
     "output_type": "stream",
     "text": [
      "100%|████████████████████████████████████████| 120/120 [00:00<00:00, 839.32it/s]\n"
     ]
    },
    {
     "name": "stdout",
     "output_type": "stream",
     "text": [
      " Average valid loss: 0.91\n",
      "AUC_SCORE:  0.5802951388888888  acc:  0.775 f1:  0.06896551724137931\n",
      "EPOCHS:8\n",
      "TRAIN\n"
     ]
    },
    {
     "name": "stderr",
     "output_type": "stream",
     "text": [
      "100%|████████████████████████████████████████| 960/960 [00:08<00:00, 109.49it/s]\n"
     ]
    },
    {
     "name": "stdout",
     "output_type": "stream",
     "text": [
      " Average training loss: 0.92\n"
     ]
    },
    {
     "name": "stderr",
     "output_type": "stream",
     "text": [
      "100%|████████████████████████████████████████| 121/121 [00:00<00:00, 791.16it/s]"
     ]
    },
    {
     "name": "stdout",
     "output_type": "stream",
     "text": [
      " Average valid loss: 0.98\n",
      "AUC_SCORE:  0.41619433198380573  acc:  0.743801652892562 f1:  0.060606060606060615\n",
      "7  EPOCH BEST MODEL!\n"
     ]
    },
    {
     "name": "stderr",
     "output_type": "stream",
     "text": [
      "\n"
     ]
    },
    {
     "name": "stdout",
     "output_type": "stream",
     "text": [
      "Test\n"
     ]
    },
    {
     "name": "stderr",
     "output_type": "stream",
     "text": [
      "100%|████████████████████████████████████████| 120/120 [00:00<00:00, 821.20it/s]\n"
     ]
    },
    {
     "name": "stdout",
     "output_type": "stream",
     "text": [
      " Average valid loss: 0.91\n",
      "AUC_SCORE:  0.5811631944444444  acc:  0.775 f1:  0.18181818181818182\n",
      "EPOCHS:9\n",
      "TRAIN\n"
     ]
    },
    {
     "name": "stderr",
     "output_type": "stream",
     "text": [
      "100%|████████████████████████████████████████| 960/960 [00:08<00:00, 116.66it/s]\n"
     ]
    },
    {
     "name": "stdout",
     "output_type": "stream",
     "text": [
      " Average training loss: 0.92\n"
     ]
    },
    {
     "name": "stderr",
     "output_type": "stream",
     "text": [
      "100%|████████████████████████████████████████| 121/121 [00:00<00:00, 843.50it/s]\n"
     ]
    },
    {
     "name": "stdout",
     "output_type": "stream",
     "text": [
      " Average valid loss: 0.98\n",
      "AUC_SCORE:  0.4202429149797571  acc:  0.7355371900826446 f1:  0.058823529411764705\n",
      "Test\n"
     ]
    },
    {
     "name": "stderr",
     "output_type": "stream",
     "text": [
      "100%|████████████████████████████████████████| 120/120 [00:00<00:00, 849.06it/s]\n"
     ]
    },
    {
     "name": "stdout",
     "output_type": "stream",
     "text": [
      " Average valid loss: 0.91\n",
      "AUC_SCORE:  0.5824652777777778  acc:  0.7416666666666667 f1:  0.16216216216216217\n",
      "EPOCHS:10\n",
      "TRAIN\n"
     ]
    },
    {
     "name": "stderr",
     "output_type": "stream",
     "text": [
      "100%|████████████████████████████████████████| 960/960 [00:08<00:00, 110.80it/s]\n"
     ]
    },
    {
     "name": "stdout",
     "output_type": "stream",
     "text": [
      " Average training loss: 0.91\n"
     ]
    },
    {
     "name": "stderr",
     "output_type": "stream",
     "text": [
      "100%|████████████████████████████████████████| 121/121 [00:00<00:00, 734.15it/s]\n"
     ]
    },
    {
     "name": "stdout",
     "output_type": "stream",
     "text": [
      " Average valid loss: 0.98\n",
      "AUC_SCORE:  0.4222672064777328  acc:  0.7272727272727273 f1:  0.05714285714285715\n",
      "Test\n"
     ]
    },
    {
     "name": "stderr",
     "output_type": "stream",
     "text": [
      "100%|████████████████████████████████████████| 120/120 [00:00<00:00, 750.86it/s]\n"
     ]
    },
    {
     "name": "stdout",
     "output_type": "stream",
     "text": [
      " Average valid loss: 0.91\n",
      "AUC_SCORE:  0.5859375  acc:  0.7083333333333334 f1:  0.186046511627907\n",
      "EPOCHS:11\n",
      "TRAIN\n"
     ]
    },
    {
     "name": "stderr",
     "output_type": "stream",
     "text": [
      "100%|████████████████████████████████████████| 960/960 [00:08<00:00, 114.14it/s]\n"
     ]
    },
    {
     "name": "stdout",
     "output_type": "stream",
     "text": [
      " Average training loss: 0.91\n"
     ]
    },
    {
     "name": "stderr",
     "output_type": "stream",
     "text": [
      "100%|████████████████████████████████████████| 121/121 [00:00<00:00, 829.97it/s]\n"
     ]
    },
    {
     "name": "stdout",
     "output_type": "stream",
     "text": [
      " Average valid loss: 0.99\n",
      "AUC_SCORE:  0.4234817813765182  acc:  0.7272727272727273 f1:  0.15384615384615388\n",
      "10  EPOCH BEST MODEL!\n",
      "Test\n"
     ]
    },
    {
     "name": "stderr",
     "output_type": "stream",
     "text": [
      "100%|████████████████████████████████████████| 120/120 [00:00<00:00, 859.21it/s]\n"
     ]
    },
    {
     "name": "stdout",
     "output_type": "stream",
     "text": [
      " Average valid loss: 0.91\n",
      "AUC_SCORE:  0.5872395833333334  acc:  0.7 f1:  0.25\n",
      "EPOCHS:12\n",
      "TRAIN\n"
     ]
    },
    {
     "name": "stderr",
     "output_type": "stream",
     "text": [
      "100%|████████████████████████████████████████| 960/960 [00:08<00:00, 113.13it/s]\n"
     ]
    },
    {
     "name": "stdout",
     "output_type": "stream",
     "text": [
      " Average training loss: 0.91\n"
     ]
    },
    {
     "name": "stderr",
     "output_type": "stream",
     "text": [
      "100%|████████████████████████████████████████| 121/121 [00:00<00:00, 768.07it/s]"
     ]
    },
    {
     "name": "stdout",
     "output_type": "stream",
     "text": [
      " Average valid loss: 0.99\n",
      "AUC_SCORE:  0.4267206477732793  acc:  0.71900826446281 f1:  0.1904761904761905\n",
      "11  EPOCH BEST MODEL!\n"
     ]
    },
    {
     "name": "stderr",
     "output_type": "stream",
     "text": [
      "\n"
     ]
    },
    {
     "name": "stdout",
     "output_type": "stream",
     "text": [
      "Test\n"
     ]
    },
    {
     "name": "stderr",
     "output_type": "stream",
     "text": [
      "100%|████████████████████████████████████████| 120/120 [00:00<00:00, 799.58it/s]\n"
     ]
    },
    {
     "name": "stdout",
     "output_type": "stream",
     "text": [
      " Average valid loss: 0.91\n",
      "AUC_SCORE:  0.5894097222222223  acc:  0.6916666666666667 f1:  0.24489795918367346\n",
      "EPOCHS:13\n",
      "TRAIN\n"
     ]
    },
    {
     "name": "stderr",
     "output_type": "stream",
     "text": [
      "100%|████████████████████████████████████████| 960/960 [00:08<00:00, 111.49it/s]\n"
     ]
    },
    {
     "name": "stdout",
     "output_type": "stream",
     "text": [
      " Average training loss: 0.90\n"
     ]
    },
    {
     "name": "stderr",
     "output_type": "stream",
     "text": [
      "100%|████████████████████████████████████████| 121/121 [00:00<00:00, 801.80it/s]\n"
     ]
    },
    {
     "name": "stdout",
     "output_type": "stream",
     "text": [
      " Average valid loss: 0.99\n",
      "AUC_SCORE:  0.4275303643724696  acc:  0.6611570247933884 f1:  0.16326530612244897\n",
      "Test\n"
     ]
    },
    {
     "name": "stderr",
     "output_type": "stream",
     "text": [
      "100%|████████████████████████████████████████| 120/120 [00:00<00:00, 873.78it/s]\n"
     ]
    },
    {
     "name": "stdout",
     "output_type": "stream",
     "text": [
      " Average valid loss: 0.91\n",
      "AUC_SCORE:  0.5920138888888888  acc:  0.675 f1:  0.26415094339622647\n",
      "EPOCHS:14\n",
      "TRAIN\n"
     ]
    },
    {
     "name": "stderr",
     "output_type": "stream",
     "text": [
      "100%|████████████████████████████████████████| 960/960 [00:08<00:00, 117.07it/s]\n"
     ]
    },
    {
     "name": "stdout",
     "output_type": "stream",
     "text": [
      " Average training loss: 0.89\n"
     ]
    },
    {
     "name": "stderr",
     "output_type": "stream",
     "text": [
      "100%|████████████████████████████████████████| 121/121 [00:00<00:00, 859.39it/s]\n"
     ]
    },
    {
     "name": "stdout",
     "output_type": "stream",
     "text": [
      " Average valid loss: 1.00\n",
      "AUC_SCORE:  0.43279352226720647  acc:  0.6859504132231405 f1:  0.17391304347826086\n",
      "Test\n"
     ]
    },
    {
     "name": "stderr",
     "output_type": "stream",
     "text": [
      "100%|████████████████████████████████████████| 120/120 [00:00<00:00, 879.22it/s]\n"
     ]
    },
    {
     "name": "stdout",
     "output_type": "stream",
     "text": [
      " Average valid loss: 0.91\n",
      "AUC_SCORE:  0.5881076388888888  acc:  0.675 f1:  0.26415094339622647\n",
      "EPOCHS:15\n",
      "TRAIN\n"
     ]
    },
    {
     "name": "stderr",
     "output_type": "stream",
     "text": [
      "100%|████████████████████████████████████████| 960/960 [00:08<00:00, 117.42it/s]\n"
     ]
    },
    {
     "name": "stdout",
     "output_type": "stream",
     "text": [
      " Average training loss: 0.89\n"
     ]
    },
    {
     "name": "stderr",
     "output_type": "stream",
     "text": [
      "100%|████████████████████████████████████████| 121/121 [00:00<00:00, 856.36it/s]\n"
     ]
    },
    {
     "name": "stdout",
     "output_type": "stream",
     "text": [
      " Average valid loss: 1.01\n",
      "AUC_SCORE:  0.43522267206477727  acc:  0.6528925619834711 f1:  0.16\n",
      "Test\n"
     ]
    },
    {
     "name": "stderr",
     "output_type": "stream",
     "text": [
      "100%|████████████████████████████████████████| 120/120 [00:00<00:00, 876.82it/s]\n"
     ]
    },
    {
     "name": "stdout",
     "output_type": "stream",
     "text": [
      " Average valid loss: 0.91\n",
      "AUC_SCORE:  0.5881076388888888  acc:  0.6333333333333333 f1:  0.2413793103448276\n",
      "EPOCHS:16\n",
      "TRAIN\n"
     ]
    },
    {
     "name": "stderr",
     "output_type": "stream",
     "text": [
      "100%|████████████████████████████████████████| 960/960 [00:08<00:00, 115.44it/s]\n"
     ]
    },
    {
     "name": "stdout",
     "output_type": "stream",
     "text": [
      " Average training loss: 0.88\n"
     ]
    },
    {
     "name": "stderr",
     "output_type": "stream",
     "text": [
      "100%|████████████████████████████████████████| 121/121 [00:00<00:00, 829.18it/s]"
     ]
    },
    {
     "name": "stdout",
     "output_type": "stream",
     "text": [
      " Average valid loss: 1.01\n",
      "AUC_SCORE:  0.43603238866396765  acc:  0.6611570247933884 f1:  0.22641509433962265\n",
      "15  EPOCH BEST MODEL!\n"
     ]
    },
    {
     "name": "stderr",
     "output_type": "stream",
     "text": [
      "\n"
     ]
    },
    {
     "name": "stdout",
     "output_type": "stream",
     "text": [
      "Test\n"
     ]
    },
    {
     "name": "stderr",
     "output_type": "stream",
     "text": [
      "100%|████████████████████████████████████████| 120/120 [00:00<00:00, 797.53it/s]\n"
     ]
    },
    {
     "name": "stdout",
     "output_type": "stream",
     "text": [
      " Average valid loss: 0.91\n",
      "AUC_SCORE:  0.5868055555555556  acc:  0.625 f1:  0.23728813559322035\n",
      "EPOCHS:17\n",
      "TRAIN\n"
     ]
    },
    {
     "name": "stderr",
     "output_type": "stream",
     "text": [
      "100%|████████████████████████████████████████| 960/960 [00:08<00:00, 114.64it/s]\n"
     ]
    },
    {
     "name": "stdout",
     "output_type": "stream",
     "text": [
      " Average training loss: 0.88\n"
     ]
    },
    {
     "name": "stderr",
     "output_type": "stream",
     "text": [
      "100%|████████████████████████████████████████| 121/121 [00:00<00:00, 797.97it/s]\n"
     ]
    },
    {
     "name": "stdout",
     "output_type": "stream",
     "text": [
      " Average valid loss: 1.02\n",
      "AUC_SCORE:  0.4376518218623482  acc:  0.6611570247933884 f1:  0.22641509433962265\n",
      "Test\n"
     ]
    },
    {
     "name": "stderr",
     "output_type": "stream",
     "text": [
      "100%|████████████████████████████████████████| 120/120 [00:00<00:00, 809.52it/s]\n"
     ]
    },
    {
     "name": "stdout",
     "output_type": "stream",
     "text": [
      " Average valid loss: 0.90\n",
      "AUC_SCORE:  0.5915798611111112  acc:  0.625 f1:  0.23728813559322035\n",
      "EPOCHS:18\n",
      "TRAIN\n"
     ]
    },
    {
     "name": "stderr",
     "output_type": "stream",
     "text": [
      "100%|████████████████████████████████████████| 960/960 [00:08<00:00, 108.55it/s]\n"
     ]
    },
    {
     "name": "stdout",
     "output_type": "stream",
     "text": [
      " Average training loss: 0.88\n"
     ]
    },
    {
     "name": "stderr",
     "output_type": "stream",
     "text": [
      "100%|████████████████████████████████████████| 121/121 [00:00<00:00, 827.28it/s]\n"
     ]
    },
    {
     "name": "stdout",
     "output_type": "stream",
     "text": [
      " Average valid loss: 1.02\n",
      "AUC_SCORE:  0.4380566801619433  acc:  0.628099173553719 f1:  0.21052631578947367\n",
      "Test\n"
     ]
    },
    {
     "name": "stderr",
     "output_type": "stream",
     "text": [
      "100%|████████████████████████████████████████| 120/120 [00:00<00:00, 810.74it/s]\n"
     ]
    },
    {
     "name": "stdout",
     "output_type": "stream",
     "text": [
      " Average valid loss: 0.91\n",
      "AUC_SCORE:  0.5920138888888888  acc:  0.6166666666666667 f1:  0.2580645161290323\n",
      "EPOCHS:19\n",
      "TRAIN\n"
     ]
    },
    {
     "name": "stderr",
     "output_type": "stream",
     "text": [
      "100%|████████████████████████████████████████| 960/960 [00:08<00:00, 114.79it/s]\n"
     ]
    },
    {
     "name": "stdout",
     "output_type": "stream",
     "text": [
      " Average training loss: 0.87\n"
     ]
    },
    {
     "name": "stderr",
     "output_type": "stream",
     "text": [
      "100%|████████████████████████████████████████| 121/121 [00:00<00:00, 827.19it/s]\n"
     ]
    },
    {
     "name": "stdout",
     "output_type": "stream",
     "text": [
      " Average valid loss: 1.03\n",
      "AUC_SCORE:  0.4404858299595142  acc:  0.6363636363636364 f1:  0.21428571428571427\n",
      "Test\n"
     ]
    },
    {
     "name": "stderr",
     "output_type": "stream",
     "text": [
      "100%|████████████████████████████████████████| 120/120 [00:00<00:00, 844.35it/s]\n"
     ]
    },
    {
     "name": "stdout",
     "output_type": "stream",
     "text": [
      " Average valid loss: 0.91\n",
      "AUC_SCORE:  0.5894097222222222  acc:  0.6083333333333333 f1:  0.25396825396825395\n",
      "EPOCHS:20\n",
      "TRAIN\n"
     ]
    },
    {
     "name": "stderr",
     "output_type": "stream",
     "text": [
      "100%|████████████████████████████████████████| 960/960 [00:08<00:00, 115.18it/s]\n"
     ]
    },
    {
     "name": "stdout",
     "output_type": "stream",
     "text": [
      " Average training loss: 0.87\n"
     ]
    },
    {
     "name": "stderr",
     "output_type": "stream",
     "text": [
      "100%|████████████████████████████████████████| 121/121 [00:00<00:00, 819.39it/s]\n"
     ]
    },
    {
     "name": "stdout",
     "output_type": "stream",
     "text": [
      " Average valid loss: 1.03\n",
      "AUC_SCORE:  0.4417004048582996  acc:  0.6363636363636364 f1:  0.21428571428571427\n",
      "Test\n"
     ]
    },
    {
     "name": "stderr",
     "output_type": "stream",
     "text": [
      "100%|████████████████████████████████████████| 120/120 [00:00<00:00, 848.31it/s]\n"
     ]
    },
    {
     "name": "stdout",
     "output_type": "stream",
     "text": [
      " Average valid loss: 0.91\n",
      "AUC_SCORE:  0.5855034722222222  acc:  0.6083333333333333 f1:  0.25396825396825395\n",
      "EPOCHS:21\n",
      "TRAIN\n"
     ]
    },
    {
     "name": "stderr",
     "output_type": "stream",
     "text": [
      "100%|████████████████████████████████████████| 960/960 [00:08<00:00, 117.17it/s]\n"
     ]
    },
    {
     "name": "stdout",
     "output_type": "stream",
     "text": [
      " Average training loss: 0.86\n"
     ]
    },
    {
     "name": "stderr",
     "output_type": "stream",
     "text": [
      "100%|████████████████████████████████████████| 121/121 [00:00<00:00, 802.93it/s]\n"
     ]
    },
    {
     "name": "stdout",
     "output_type": "stream",
     "text": [
      " Average valid loss: 1.04\n",
      "AUC_SCORE:  0.44615384615384623  acc:  0.5950413223140496 f1:  0.19672131147540986\n",
      "Test\n"
     ]
    },
    {
     "name": "stderr",
     "output_type": "stream",
     "text": [
      "100%|████████████████████████████████████████| 120/120 [00:00<00:00, 816.62it/s]\n"
     ]
    },
    {
     "name": "stdout",
     "output_type": "stream",
     "text": [
      " Average valid loss: 0.91\n",
      "AUC_SCORE:  0.5850694444444444  acc:  0.575 f1:  0.2388059701492537\n",
      "EPOCHS:22\n",
      "TRAIN\n"
     ]
    },
    {
     "name": "stderr",
     "output_type": "stream",
     "text": [
      "100%|████████████████████████████████████████| 960/960 [00:08<00:00, 113.63it/s]\n"
     ]
    },
    {
     "name": "stdout",
     "output_type": "stream",
     "text": [
      " Average training loss: 0.86\n"
     ]
    },
    {
     "name": "stderr",
     "output_type": "stream",
     "text": [
      "100%|████████████████████████████████████████| 121/121 [00:00<00:00, 858.45it/s]\n"
     ]
    },
    {
     "name": "stdout",
     "output_type": "stream",
     "text": [
      " Average valid loss: 1.05\n",
      "AUC_SCORE:  0.4493927125506073  acc:  0.6033057851239669 f1:  0.20000000000000004\n",
      "Test\n"
     ]
    },
    {
     "name": "stderr",
     "output_type": "stream",
     "text": [
      "100%|████████████████████████████████████████| 120/120 [00:00<00:00, 878.46it/s]\n"
     ]
    },
    {
     "name": "stdout",
     "output_type": "stream",
     "text": [
      " Average valid loss: 0.91\n",
      "AUC_SCORE:  0.5842013888888888  acc:  0.5916666666666667 f1:  0.24615384615384614\n",
      "EPOCHS:23\n",
      "TRAIN\n"
     ]
    },
    {
     "name": "stderr",
     "output_type": "stream",
     "text": [
      "100%|████████████████████████████████████████| 960/960 [00:08<00:00, 111.61it/s]\n"
     ]
    },
    {
     "name": "stdout",
     "output_type": "stream",
     "text": [
      " Average training loss: 0.86\n"
     ]
    },
    {
     "name": "stderr",
     "output_type": "stream",
     "text": [
      "100%|████████████████████████████████████████| 121/121 [00:00<00:00, 863.74it/s]\n"
     ]
    },
    {
     "name": "stdout",
     "output_type": "stream",
     "text": [
      " Average valid loss: 1.05\n",
      "AUC_SCORE:  0.45303643724696363  acc:  0.6115702479338843 f1:  0.25396825396825395\n",
      "22  EPOCH BEST MODEL!\n",
      "Test\n"
     ]
    },
    {
     "name": "stderr",
     "output_type": "stream",
     "text": [
      "100%|████████████████████████████████████████| 120/120 [00:00<00:00, 877.56it/s]\n"
     ]
    },
    {
     "name": "stdout",
     "output_type": "stream",
     "text": [
      " Average valid loss: 0.91\n",
      "AUC_SCORE:  0.578125  acc:  0.575 f1:  0.26086956521739135\n",
      "EPOCHS:24\n",
      "TRAIN\n"
     ]
    },
    {
     "name": "stderr",
     "output_type": "stream",
     "text": [
      "100%|████████████████████████████████████████| 960/960 [00:08<00:00, 117.05it/s]\n"
     ]
    },
    {
     "name": "stdout",
     "output_type": "stream",
     "text": [
      " Average training loss: 0.85\n"
     ]
    },
    {
     "name": "stderr",
     "output_type": "stream",
     "text": [
      "100%|████████████████████████████████████████| 121/121 [00:00<00:00, 799.50it/s]\n"
     ]
    },
    {
     "name": "stdout",
     "output_type": "stream",
     "text": [
      " Average valid loss: 1.06\n",
      "AUC_SCORE:  0.4534412955465587  acc:  0.6115702479338843 f1:  0.25396825396825395\n",
      "Test\n"
     ]
    },
    {
     "name": "stderr",
     "output_type": "stream",
     "text": [
      "100%|████████████████████████████████████████| 120/120 [00:00<00:00, 862.40it/s]\n"
     ]
    },
    {
     "name": "stdout",
     "output_type": "stream",
     "text": [
      " Average valid loss: 0.92\n",
      "AUC_SCORE:  0.5785590277777778  acc:  0.5833333333333334 f1:  0.2857142857142857\n",
      "EPOCHS:25\n",
      "TRAIN\n"
     ]
    },
    {
     "name": "stderr",
     "output_type": "stream",
     "text": [
      "100%|████████████████████████████████████████| 960/960 [00:08<00:00, 117.73it/s]\n"
     ]
    },
    {
     "name": "stdout",
     "output_type": "stream",
     "text": [
      " Average training loss: 0.85\n"
     ]
    },
    {
     "name": "stderr",
     "output_type": "stream",
     "text": [
      "100%|████████████████████████████████████████| 121/121 [00:00<00:00, 769.94it/s]\n"
     ]
    },
    {
     "name": "stdout",
     "output_type": "stream",
     "text": [
      " Average valid loss: 1.06\n",
      "AUC_SCORE:  0.45465587044534417  acc:  0.5867768595041323 f1:  0.24242424242424246\n",
      "Test\n"
     ]
    },
    {
     "name": "stderr",
     "output_type": "stream",
     "text": [
      "100%|████████████████████████████████████████| 120/120 [00:00<00:00, 727.37it/s]\n"
     ]
    },
    {
     "name": "stdout",
     "output_type": "stream",
     "text": [
      " Average valid loss: 0.92\n",
      "AUC_SCORE:  0.5811631944444444  acc:  0.575 f1:  0.28169014084507044\n",
      "EPOCHS:26\n",
      "TRAIN\n"
     ]
    },
    {
     "name": "stderr",
     "output_type": "stream",
     "text": [
      "100%|████████████████████████████████████████| 960/960 [00:08<00:00, 109.90it/s]\n"
     ]
    },
    {
     "name": "stdout",
     "output_type": "stream",
     "text": [
      " Average training loss: 0.84\n"
     ]
    },
    {
     "name": "stderr",
     "output_type": "stream",
     "text": [
      "100%|████████████████████████████████████████| 121/121 [00:00<00:00, 822.16it/s]\n"
     ]
    },
    {
     "name": "stdout",
     "output_type": "stream",
     "text": [
      " Average valid loss: 1.07\n",
      "AUC_SCORE:  0.4578947368421053  acc:  0.6115702479338843 f1:  0.25396825396825395\n",
      "Test\n"
     ]
    },
    {
     "name": "stderr",
     "output_type": "stream",
     "text": [
      "100%|████████████████████████████████████████| 120/120 [00:00<00:00, 833.84it/s]\n"
     ]
    },
    {
     "name": "stdout",
     "output_type": "stream",
     "text": [
      " Average valid loss: 0.92\n",
      "AUC_SCORE:  0.5833333333333334  acc:  0.575 f1:  0.28169014084507044\n",
      "EPOCHS:27\n",
      "TRAIN\n"
     ]
    },
    {
     "name": "stderr",
     "output_type": "stream",
     "text": [
      "100%|████████████████████████████████████████| 960/960 [00:08<00:00, 114.98it/s]\n"
     ]
    },
    {
     "name": "stdout",
     "output_type": "stream",
     "text": [
      " Average training loss: 0.84\n"
     ]
    },
    {
     "name": "stderr",
     "output_type": "stream",
     "text": [
      "100%|████████████████████████████████████████| 121/121 [00:00<00:00, 811.44it/s]"
     ]
    },
    {
     "name": "stdout",
     "output_type": "stream",
     "text": [
      " Average valid loss: 1.07\n",
      "AUC_SCORE:  0.46153846153846156  acc:  0.6033057851239669 f1:  0.27272727272727276\n",
      "26  EPOCH BEST MODEL!\n"
     ]
    },
    {
     "name": "stderr",
     "output_type": "stream",
     "text": [
      "\n"
     ]
    },
    {
     "name": "stdout",
     "output_type": "stream",
     "text": [
      "Test\n"
     ]
    },
    {
     "name": "stderr",
     "output_type": "stream",
     "text": [
      "100%|████████████████████████████████████████| 120/120 [00:00<00:00, 848.67it/s]\n"
     ]
    },
    {
     "name": "stdout",
     "output_type": "stream",
     "text": [
      " Average valid loss: 0.92\n",
      "AUC_SCORE:  0.5815972222222222  acc:  0.575 f1:  0.3013698630136986\n",
      "EPOCHS:28\n",
      "TRAIN\n"
     ]
    },
    {
     "name": "stderr",
     "output_type": "stream",
     "text": [
      "100%|████████████████████████████████████████| 960/960 [00:08<00:00, 112.57it/s]\n"
     ]
    },
    {
     "name": "stdout",
     "output_type": "stream",
     "text": [
      " Average training loss: 0.84\n"
     ]
    },
    {
     "name": "stderr",
     "output_type": "stream",
     "text": [
      "100%|████████████████████████████████████████| 121/121 [00:00<00:00, 758.88it/s]\n"
     ]
    },
    {
     "name": "stdout",
     "output_type": "stream",
     "text": [
      " Average valid loss: 1.08\n",
      "AUC_SCORE:  0.46234817813765183  acc:  0.6198347107438017 f1:  0.2580645161290323\n",
      "Test\n"
     ]
    },
    {
     "name": "stderr",
     "output_type": "stream",
     "text": [
      "100%|████████████████████████████████████████| 120/120 [00:00<00:00, 788.50it/s]\n"
     ]
    },
    {
     "name": "stdout",
     "output_type": "stream",
     "text": [
      " Average valid loss: 0.92\n",
      "AUC_SCORE:  0.5794270833333333  acc:  0.575 f1:  0.28169014084507044\n",
      "EPOCHS:29\n",
      "TRAIN\n"
     ]
    },
    {
     "name": "stderr",
     "output_type": "stream",
     "text": [
      "100%|████████████████████████████████████████| 960/960 [00:08<00:00, 111.82it/s]\n"
     ]
    },
    {
     "name": "stdout",
     "output_type": "stream",
     "text": [
      " Average training loss: 0.83\n"
     ]
    },
    {
     "name": "stderr",
     "output_type": "stream",
     "text": [
      "100%|████████████████████████████████████████| 121/121 [00:00<00:00, 849.28it/s]"
     ]
    },
    {
     "name": "stdout",
     "output_type": "stream",
     "text": [
      " Average valid loss: 1.08\n",
      "AUC_SCORE:  0.4651821862348178  acc:  0.6363636363636364 f1:  0.2903225806451613\n",
      "28  EPOCH BEST MODEL!\n"
     ]
    },
    {
     "name": "stderr",
     "output_type": "stream",
     "text": [
      "\n"
     ]
    },
    {
     "name": "stdout",
     "output_type": "stream",
     "text": [
      "Test\n"
     ]
    },
    {
     "name": "stderr",
     "output_type": "stream",
     "text": [
      "100%|████████████████████████████████████████| 120/120 [00:00<00:00, 830.45it/s]\n"
     ]
    },
    {
     "name": "stdout",
     "output_type": "stream",
     "text": [
      " Average valid loss: 0.93\n",
      "AUC_SCORE:  0.5789930555555556  acc:  0.5666666666666667 f1:  0.2777777777777778\n",
      "EPOCHS:30\n",
      "TRAIN\n"
     ]
    },
    {
     "name": "stderr",
     "output_type": "stream",
     "text": [
      "100%|████████████████████████████████████████| 960/960 [00:08<00:00, 108.82it/s]\n"
     ]
    },
    {
     "name": "stdout",
     "output_type": "stream",
     "text": [
      " Average training loss: 0.83\n"
     ]
    },
    {
     "name": "stderr",
     "output_type": "stream",
     "text": [
      "100%|████████████████████████████████████████| 121/121 [00:00<00:00, 783.47it/s]\n"
     ]
    },
    {
     "name": "stdout",
     "output_type": "stream",
     "text": [
      " Average valid loss: 1.09\n",
      "AUC_SCORE:  0.46761133603238864  acc:  0.6198347107438017 f1:  0.28125\n",
      "Test\n"
     ]
    },
    {
     "name": "stderr",
     "output_type": "stream",
     "text": [
      "100%|████████████████████████████████████████| 120/120 [00:00<00:00, 814.00it/s]\n"
     ]
    },
    {
     "name": "stdout",
     "output_type": "stream",
     "text": [
      " Average valid loss: 0.93\n",
      "AUC_SCORE:  0.5776909722222222  acc:  0.5666666666666667 f1:  0.2777777777777778\n",
      "EPOCHS:31\n",
      "TRAIN\n"
     ]
    },
    {
     "name": "stderr",
     "output_type": "stream",
     "text": [
      "100%|████████████████████████████████████████| 960/960 [00:08<00:00, 114.50it/s]\n"
     ]
    },
    {
     "name": "stdout",
     "output_type": "stream",
     "text": [
      " Average training loss: 0.83\n"
     ]
    },
    {
     "name": "stderr",
     "output_type": "stream",
     "text": [
      "100%|████████████████████████████████████████| 121/121 [00:00<00:00, 860.70it/s]\n"
     ]
    },
    {
     "name": "stdout",
     "output_type": "stream",
     "text": [
      " Average valid loss: 1.09\n",
      "AUC_SCORE:  0.46842105263157896  acc:  0.6446280991735537 f1:  0.29508196721311475\n",
      "30  EPOCH BEST MODEL!\n",
      "Test\n"
     ]
    },
    {
     "name": "stderr",
     "output_type": "stream",
     "text": [
      "100%|████████████████████████████████████████| 120/120 [00:00<00:00, 831.24it/s]\n"
     ]
    },
    {
     "name": "stdout",
     "output_type": "stream",
     "text": [
      " Average valid loss: 0.93\n",
      "AUC_SCORE:  0.578125  acc:  0.5666666666666667 f1:  0.2777777777777778\n",
      "EPOCHS:32\n",
      "TRAIN\n"
     ]
    },
    {
     "name": "stderr",
     "output_type": "stream",
     "text": [
      "100%|████████████████████████████████████████| 960/960 [00:08<00:00, 118.02it/s]\n"
     ]
    },
    {
     "name": "stdout",
     "output_type": "stream",
     "text": [
      " Average training loss: 0.82\n"
     ]
    },
    {
     "name": "stderr",
     "output_type": "stream",
     "text": [
      "100%|████████████████████████████████████████| 121/121 [00:00<00:00, 856.95it/s]\n"
     ]
    },
    {
     "name": "stdout",
     "output_type": "stream",
     "text": [
      " Average valid loss: 1.10\n",
      "AUC_SCORE:  0.4676113360323887  acc:  0.628099173553719 f1:  0.2857142857142857\n",
      "Test\n"
     ]
    },
    {
     "name": "stderr",
     "output_type": "stream",
     "text": [
      "100%|████████████████████████████████████████| 120/120 [00:00<00:00, 883.80it/s]\n"
     ]
    },
    {
     "name": "stdout",
     "output_type": "stream",
     "text": [
      " Average valid loss: 0.94\n",
      "AUC_SCORE:  0.5802951388888888  acc:  0.5583333333333333 f1:  0.273972602739726\n",
      "EPOCHS:33\n",
      "TRAIN\n"
     ]
    },
    {
     "name": "stderr",
     "output_type": "stream",
     "text": [
      "100%|████████████████████████████████████████| 960/960 [00:08<00:00, 118.14it/s]\n"
     ]
    },
    {
     "name": "stdout",
     "output_type": "stream",
     "text": [
      " Average training loss: 0.81\n"
     ]
    },
    {
     "name": "stderr",
     "output_type": "stream",
     "text": [
      "100%|████████████████████████████████████████| 121/121 [00:00<00:00, 861.26it/s]\n"
     ]
    },
    {
     "name": "stdout",
     "output_type": "stream",
     "text": [
      " Average valid loss: 1.11\n",
      "AUC_SCORE:  0.47044534412955463  acc:  0.628099173553719 f1:  0.2857142857142857\n",
      "Test\n"
     ]
    },
    {
     "name": "stderr",
     "output_type": "stream",
     "text": [
      "100%|████████████████████████████████████████| 120/120 [00:00<00:00, 841.77it/s]\n"
     ]
    },
    {
     "name": "stdout",
     "output_type": "stream",
     "text": [
      " Average valid loss: 0.94\n",
      "AUC_SCORE:  0.5789930555555556  acc:  0.5583333333333333 f1:  0.273972602739726\n",
      "EPOCHS:34\n",
      "TRAIN\n"
     ]
    },
    {
     "name": "stderr",
     "output_type": "stream",
     "text": [
      "100%|████████████████████████████████████████| 960/960 [00:08<00:00, 118.23it/s]\n"
     ]
    },
    {
     "name": "stdout",
     "output_type": "stream",
     "text": [
      " Average training loss: 0.80\n"
     ]
    },
    {
     "name": "stderr",
     "output_type": "stream",
     "text": [
      "100%|████████████████████████████████████████| 121/121 [00:00<00:00, 798.56it/s]\n"
     ]
    },
    {
     "name": "stdout",
     "output_type": "stream",
     "text": [
      " Average valid loss: 1.11\n",
      "AUC_SCORE:  0.47327935222672063  acc:  0.628099173553719 f1:  0.2857142857142857\n",
      "Test\n"
     ]
    },
    {
     "name": "stderr",
     "output_type": "stream",
     "text": [
      "100%|████████████████████████████████████████| 120/120 [00:00<00:00, 777.84it/s]\n"
     ]
    },
    {
     "name": "stdout",
     "output_type": "stream",
     "text": [
      " Average valid loss: 0.94\n",
      "AUC_SCORE:  0.5768229166666666  acc:  0.55 f1:  0.25\n",
      "EPOCHS:35\n",
      "TRAIN\n"
     ]
    },
    {
     "name": "stderr",
     "output_type": "stream",
     "text": [
      "100%|████████████████████████████████████████| 960/960 [00:08<00:00, 115.44it/s]\n"
     ]
    },
    {
     "name": "stdout",
     "output_type": "stream",
     "text": [
      " Average training loss: 0.80\n"
     ]
    },
    {
     "name": "stderr",
     "output_type": "stream",
     "text": [
      "100%|████████████████████████████████████████| 121/121 [00:00<00:00, 824.49it/s]\n"
     ]
    },
    {
     "name": "stdout",
     "output_type": "stream",
     "text": [
      " Average valid loss: 1.12\n",
      "AUC_SCORE:  0.4748987854251012  acc:  0.628099173553719 f1:  0.2857142857142857\n",
      "Test\n"
     ]
    },
    {
     "name": "stderr",
     "output_type": "stream",
     "text": [
      "100%|████████████████████████████████████████| 120/120 [00:00<00:00, 870.77it/s]\n"
     ]
    },
    {
     "name": "stdout",
     "output_type": "stream",
     "text": [
      " Average valid loss: 0.94\n",
      "AUC_SCORE:  0.578125  acc:  0.5416666666666666 f1:  0.24657534246575347\n",
      "EPOCHS:36\n",
      "TRAIN\n"
     ]
    },
    {
     "name": "stderr",
     "output_type": "stream",
     "text": [
      "100%|████████████████████████████████████████| 960/960 [00:08<00:00, 111.34it/s]\n"
     ]
    },
    {
     "name": "stdout",
     "output_type": "stream",
     "text": [
      " Average training loss: 0.81\n"
     ]
    },
    {
     "name": "stderr",
     "output_type": "stream",
     "text": [
      "100%|████████████████████████████████████████| 121/121 [00:00<00:00, 803.01it/s]"
     ]
    },
    {
     "name": "stdout",
     "output_type": "stream",
     "text": [
      " Average valid loss: 1.12\n",
      "AUC_SCORE:  0.4773279352226721  acc:  0.628099173553719 f1:  0.3076923076923077\n",
      "35  EPOCH BEST MODEL!\n"
     ]
    },
    {
     "name": "stderr",
     "output_type": "stream",
     "text": [
      "\n"
     ]
    },
    {
     "name": "stdout",
     "output_type": "stream",
     "text": [
      "Test\n"
     ]
    },
    {
     "name": "stderr",
     "output_type": "stream",
     "text": [
      "100%|████████████████████████████████████████| 120/120 [00:00<00:00, 823.01it/s]\n"
     ]
    },
    {
     "name": "stdout",
     "output_type": "stream",
     "text": [
      " Average valid loss: 0.95\n",
      "AUC_SCORE:  0.5763888888888888  acc:  0.55 f1:  0.2702702702702703\n",
      "EPOCHS:37\n",
      "TRAIN\n"
     ]
    },
    {
     "name": "stderr",
     "output_type": "stream",
     "text": [
      "100%|████████████████████████████████████████| 960/960 [00:07<00:00, 123.37it/s]\n"
     ]
    },
    {
     "name": "stdout",
     "output_type": "stream",
     "text": [
      " Average training loss: 0.81\n"
     ]
    },
    {
     "name": "stderr",
     "output_type": "stream",
     "text": [
      "100%|████████████████████████████████████████| 121/121 [00:00<00:00, 861.37it/s]\n"
     ]
    },
    {
     "name": "stdout",
     "output_type": "stream",
     "text": [
      " Average valid loss: 1.12\n",
      "AUC_SCORE:  0.4781376518218623  acc:  0.628099173553719 f1:  0.3076923076923077\n",
      "Test\n"
     ]
    },
    {
     "name": "stderr",
     "output_type": "stream",
     "text": [
      "100%|████████████████████████████████████████| 120/120 [00:00<00:00, 892.96it/s]\n"
     ]
    },
    {
     "name": "stdout",
     "output_type": "stream",
     "text": [
      " Average valid loss: 0.95\n",
      "AUC_SCORE:  0.5750868055555556  acc:  0.55 f1:  0.2702702702702703\n",
      "EPOCHS:38\n",
      "TRAIN\n"
     ]
    },
    {
     "name": "stderr",
     "output_type": "stream",
     "text": [
      "100%|████████████████████████████████████████| 960/960 [00:07<00:00, 120.56it/s]\n"
     ]
    },
    {
     "name": "stdout",
     "output_type": "stream",
     "text": [
      " Average training loss: 0.79\n"
     ]
    },
    {
     "name": "stderr",
     "output_type": "stream",
     "text": [
      "100%|████████████████████████████████████████| 121/121 [00:00<00:00, 763.25it/s]\n"
     ]
    },
    {
     "name": "stdout",
     "output_type": "stream",
     "text": [
      " Average valid loss: 1.13\n",
      "AUC_SCORE:  0.47732793522267203  acc:  0.6115702479338843 f1:  0.2985074626865672\n",
      "Test\n"
     ]
    },
    {
     "name": "stderr",
     "output_type": "stream",
     "text": [
      "100%|████████████████████████████████████████| 120/120 [00:00<00:00, 803.37it/s]\n"
     ]
    },
    {
     "name": "stdout",
     "output_type": "stream",
     "text": [
      " Average valid loss: 0.96\n",
      "AUC_SCORE:  0.5716145833333334  acc:  0.5416666666666666 f1:  0.28571428571428575\n",
      "EPOCHS:39\n",
      "TRAIN\n"
     ]
    },
    {
     "name": "stderr",
     "output_type": "stream",
     "text": [
      "100%|████████████████████████████████████████| 960/960 [00:08<00:00, 118.30it/s]\n"
     ]
    },
    {
     "name": "stdout",
     "output_type": "stream",
     "text": [
      " Average training loss: 0.79\n"
     ]
    },
    {
     "name": "stderr",
     "output_type": "stream",
     "text": [
      "100%|████████████████████████████████████████| 121/121 [00:00<00:00, 850.21it/s]\n"
     ]
    },
    {
     "name": "stdout",
     "output_type": "stream",
     "text": [
      " Average valid loss: 1.14\n",
      "AUC_SCORE:  0.4769230769230769  acc:  0.628099173553719 f1:  0.2857142857142857\n",
      "Test\n"
     ]
    },
    {
     "name": "stderr",
     "output_type": "stream",
     "text": [
      "100%|████████████████████████████████████████| 120/120 [00:00<00:00, 869.16it/s]\n"
     ]
    },
    {
     "name": "stdout",
     "output_type": "stream",
     "text": [
      " Average valid loss: 0.96\n",
      "AUC_SCORE:  0.5711805555555556  acc:  0.5583333333333333 f1:  0.25352112676056343\n",
      "EPOCHS:40\n",
      "TRAIN\n"
     ]
    },
    {
     "name": "stderr",
     "output_type": "stream",
     "text": [
      "100%|████████████████████████████████████████| 960/960 [00:08<00:00, 118.41it/s]\n"
     ]
    },
    {
     "name": "stdout",
     "output_type": "stream",
     "text": [
      " Average training loss: 0.78\n"
     ]
    },
    {
     "name": "stderr",
     "output_type": "stream",
     "text": [
      "100%|████████████████████████████████████████| 121/121 [00:00<00:00, 864.49it/s]\n"
     ]
    },
    {
     "name": "stdout",
     "output_type": "stream",
     "text": [
      " Average valid loss: 1.14\n",
      "AUC_SCORE:  0.4761133603238867  acc:  0.6528925619834711 f1:  0.29999999999999993\n",
      "Test\n"
     ]
    },
    {
     "name": "stderr",
     "output_type": "stream",
     "text": [
      "100%|████████████████████████████████████████| 120/120 [00:00<00:00, 852.26it/s]\n"
     ]
    },
    {
     "name": "stdout",
     "output_type": "stream",
     "text": [
      " Average valid loss: 0.96\n",
      "AUC_SCORE:  0.5733506944444444  acc:  0.5666666666666667 f1:  0.2571428571428572\n"
     ]
    },
    {
     "name": "stderr",
     "output_type": "stream",
     "text": [
      "100%|████████████████████████████████████████| 120/120 [00:00<00:00, 818.85it/s]"
     ]
    },
    {
     "name": "stdout",
     "output_type": "stream",
     "text": [
      " Average valid loss: 0.95\n",
      "AUC_SCORE:  0.5763888888888888  acc:  0.55 f1:  0.2702702702702703\n",
      "BEST MODEL\n",
      "AUC_SCORE:  0.5763888888888888  acc:  0.55 f1:  0.2702702702702703\n",
      "{'auc_micro': 0.5763888888888888, 'acc': 0.55, 'f1': 0.2702702702702703, 'pred': [[0, 0, 0, 1, 0, 0, 0, 1, 1, 0], [0, 1, 0, 0, 1, 1, 0, 0, 0, 0], [1, 0, 0, 0, 0, 1, 1, 0, 0, 1], [1, 0, 0, 1, 0, 1, 1, 1, 0, 0], [0, 0, 1, 0, 0, 1, 1, 0, 0, 0], [1, 0, 1, 0, 1, 1, 0, 1, 0, 1], [1, 0, 0, 1, 1, 0, 0, 0, 1, 1], [0, 1, 0, 0, 1, 0, 1, 1, 1, 0], [0, 1, 0, 0, 1, 0, 0, 0, 0, 0], [1, 0, 0, 0, 1, 1, 0, 1, 0, 1], [0, 1, 1, 1, 0, 0, 0, 0, 0, 0], [1, 1, 0, 0, 0, 1, 1, 1, 0, 1], [], [], [], [], [], [], [], []]}\n"
     ]
    },
    {
     "name": "stderr",
     "output_type": "stream",
     "text": [
      "\n"
     ]
    }
   ],
   "source": [
    "bert2 = BertModel().to('cuda')\n",
    "score = fit(bert2, train_data,valid_data,test_data,EPOCHS=40)\n",
    "print(score)"
   ]
  },
  {
   "cell_type": "code",
   "execution_count": null,
   "id": "5304c7a1",
   "metadata": {},
   "outputs": [],
   "source": []
  },
  {
   "cell_type": "code",
   "execution_count": null,
   "id": "2a7c10b5",
   "metadata": {},
   "outputs": [],
   "source": []
  },
  {
   "cell_type": "code",
   "execution_count": null,
   "id": "cd94159c",
   "metadata": {},
   "outputs": [],
   "source": []
  },
  {
   "cell_type": "markdown",
   "id": "4c30b5f1",
   "metadata": {},
   "source": [
    "# 거리로 분석"
   ]
  },
  {
   "cell_type": "code",
   "execution_count": 156,
   "id": "fd90d26f",
   "metadata": {},
   "outputs": [],
   "source": [
    "path1 = 'word2vec_model_dim=384/'\n",
    "path2 = 'data/scriptbase/'\n",
    "filenames = os.listdir(path1)\n",
    "train_data = []\n",
    "valid_data = []\n",
    "test_data = []\n",
    "one = 0\n",
    "zero = 0\n",
    "end = torch.ones(1,1,384)\n",
    "\n",
    "for filename in filenames:\n",
    "    genres = []\n",
    "    movie_name = filename[:-14]\n",
    "    cult = 0\n",
    "    with open(path2+movie_name+'/processed/imdb_meta.txt','r') as f:\n",
    "        lines = f.readlines()\n",
    "        for line in lines:\n",
    "            if 'keyword' in line:\n",
    "                try:\n",
    "                    keyword  = line.strip().split('\\t')[1]\n",
    "                    keywords.append(keyword)\n",
    "                except:\n",
    "                    pass\n",
    "                if 'surprise ending'==keyword:\n",
    "                    cult = 1\n",
    "        \n",
    "    w2v=Word2Vec.load(path1 + filename)\n",
    "    base = 'scene_'\n",
    "    scene_num = 0\n",
    "    max_scene = 0\n",
    "    for node in w2v.wv.index_to_key:\n",
    "        if base in node:\n",
    "            scene_num += 1\n",
    "            if int(node[6:])>max_scene:\n",
    "                max_scene = int(node[6:])\n",
    "    embs = torch.zeros(1,scene_num,384)\n",
    "    k = 0\n",
    "    for i in range(1,max_scene+1):\n",
    "        emb_name = base + str(i)\n",
    "        if emb_name in w2v.wv.index_to_key:\n",
    "            emb = w2v.wv[emb_name]\n",
    "            emb = torch.from_numpy(emb)\n",
    "            embs[0][k] = emb\n",
    "            k += 1\n",
    "\n",
    "    ans = torch.zeros(1,1,512)\n",
    "    for i in range(scene_num):\n",
    "        if i ==0:\n",
    "            continue\n",
    "        #ans[0,0,i] += util.cos_sim(embs[0][i],embs[0][i-1])[0][0]\n",
    "        ans[0,0,i] += torch.cdist(embs[0][i].unsqueeze(0),embs[0][i-1].unsqueeze(0))[0][0]\n",
    "        \n",
    "    embs = ans\n",
    "    \n",
    "        \n",
    "    rand = random.randint(0,100)    \n",
    "    if movie_name in movie_split['train']:\n",
    "        train_data.append([embs, [cult]])\n",
    "    elif movie_name in movie_split['valid']:\n",
    "        valid_data.append([embs, [cult]])\n",
    "    \n",
    "    elif movie_name in movie_split['test']:\n",
    "        test_data.append([embs, [cult]])\n",
    "    \n",
    "    if cult:\n",
    "        one += 1\n",
    "    else:\n",
    "        zero += 1"
   ]
  },
  {
   "cell_type": "code",
   "execution_count": 157,
   "id": "8cb7443c",
   "metadata": {},
   "outputs": [
    {
     "name": "stdout",
     "output_type": "stream",
     "text": [
      "EPOCHS:1\n",
      "TRAIN\n"
     ]
    },
    {
     "name": "stderr",
     "output_type": "stream",
     "text": [
      "100%|████████████████████████████████████████| 929/929 [00:07<00:00, 127.24it/s]\n"
     ]
    },
    {
     "name": "stdout",
     "output_type": "stream",
     "text": [
      " Average training loss: 1.07\n"
     ]
    },
    {
     "name": "stderr",
     "output_type": "stream",
     "text": [
      "100%|████████████████████████████████████████| 117/117 [00:00<00:00, 980.24it/s]\n"
     ]
    },
    {
     "name": "stdout",
     "output_type": "stream",
     "text": [
      " Average valid loss: 1.06\n",
      "AUC_SCORE:  0.5272873194221509  acc:  0.4700854700854701 f1:  0.3404255319148936\n",
      "EPOCHS:2\n",
      "TRAIN\n"
     ]
    },
    {
     "name": "stderr",
     "output_type": "stream",
     "text": [
      "100%|████████████████████████████████████████| 929/929 [00:07<00:00, 123.76it/s]\n"
     ]
    },
    {
     "name": "stdout",
     "output_type": "stream",
     "text": [
      " Average training loss: 1.06\n"
     ]
    },
    {
     "name": "stderr",
     "output_type": "stream",
     "text": [
      "100%|████████████████████████████████████████| 117/117 [00:00<00:00, 986.09it/s]\n"
     ]
    },
    {
     "name": "stdout",
     "output_type": "stream",
     "text": [
      " Average valid loss: 1.07\n",
      "AUC_SCORE:  0.5112359550561797  acc:  0.46153846153846156 f1:  0.32258064516129037\n",
      "EPOCHS:3\n",
      "TRAIN\n"
     ]
    },
    {
     "name": "stderr",
     "output_type": "stream",
     "text": [
      "100%|████████████████████████████████████████| 929/929 [00:07<00:00, 125.93it/s]\n"
     ]
    },
    {
     "name": "stdout",
     "output_type": "stream",
     "text": [
      " Average training loss: 1.05\n"
     ]
    },
    {
     "name": "stderr",
     "output_type": "stream",
     "text": [
      "100%|████████████████████████████████████████| 117/117 [00:00<00:00, 958.22it/s]\n"
     ]
    },
    {
     "name": "stdout",
     "output_type": "stream",
     "text": [
      " Average valid loss: 1.08\n",
      "AUC_SCORE:  0.49357945425361155  acc:  0.47863247863247865 f1:  0.3296703296703297\n",
      "EPOCHS:4\n",
      "TRAIN\n"
     ]
    },
    {
     "name": "stderr",
     "output_type": "stream",
     "text": [
      "100%|████████████████████████████████████████| 929/929 [00:07<00:00, 124.12it/s]\n"
     ]
    },
    {
     "name": "stdout",
     "output_type": "stream",
     "text": [
      " Average training loss: 1.05\n"
     ]
    },
    {
     "name": "stderr",
     "output_type": "stream",
     "text": [
      "100%|████████████████████████████████████████| 117/117 [00:00<00:00, 982.98it/s]\n"
     ]
    },
    {
     "name": "stdout",
     "output_type": "stream",
     "text": [
      " Average valid loss: 1.08\n",
      "AUC_SCORE:  0.4903691813804173  acc:  0.47863247863247865 f1:  0.3296703296703297\n",
      "EPOCHS:5\n",
      "TRAIN\n"
     ]
    },
    {
     "name": "stderr",
     "output_type": "stream",
     "text": [
      "100%|████████████████████████████████████████| 929/929 [00:07<00:00, 126.37it/s]\n"
     ]
    },
    {
     "name": "stdout",
     "output_type": "stream",
     "text": [
      " Average training loss: 1.05\n"
     ]
    },
    {
     "name": "stderr",
     "output_type": "stream",
     "text": [
      "100%|████████████████████████████████████████| 117/117 [00:00<00:00, 961.17it/s]\n"
     ]
    },
    {
     "name": "stdout",
     "output_type": "stream",
     "text": [
      " Average valid loss: 1.09\n",
      "AUC_SCORE:  0.4875601926163724  acc:  0.47863247863247865 f1:  0.3296703296703297\n",
      "EPOCHS:6\n",
      "TRAIN\n"
     ]
    },
    {
     "name": "stderr",
     "output_type": "stream",
     "text": [
      "100%|████████████████████████████████████████| 929/929 [00:07<00:00, 126.48it/s]\n"
     ]
    },
    {
     "name": "stdout",
     "output_type": "stream",
     "text": [
      " Average training loss: 1.04\n"
     ]
    },
    {
     "name": "stderr",
     "output_type": "stream",
     "text": [
      "100%|████████████████████████████████████████| 117/117 [00:00<00:00, 987.17it/s]\n"
     ]
    },
    {
     "name": "stdout",
     "output_type": "stream",
     "text": [
      " Average valid loss: 1.09\n",
      "AUC_SCORE:  0.4759229534510433  acc:  0.48717948717948717 f1:  0.33333333333333337\n",
      "EPOCHS:7\n",
      "TRAIN\n"
     ]
    },
    {
     "name": "stderr",
     "output_type": "stream",
     "text": [
      "100%|████████████████████████████████████████| 929/929 [00:07<00:00, 125.93it/s]\n"
     ]
    },
    {
     "name": "stdout",
     "output_type": "stream",
     "text": [
      " Average training loss: 1.05\n"
     ]
    },
    {
     "name": "stderr",
     "output_type": "stream",
     "text": [
      "100%|████████████████████████████████████████| 117/117 [00:00<00:00, 991.71it/s]\n"
     ]
    },
    {
     "name": "stdout",
     "output_type": "stream",
     "text": [
      " Average valid loss: 1.10\n",
      "AUC_SCORE:  0.4751203852327447  acc:  0.47863247863247865 f1:  0.3146067415730337\n",
      "EPOCHS:8\n",
      "TRAIN\n"
     ]
    },
    {
     "name": "stderr",
     "output_type": "stream",
     "text": [
      "100%|████████████████████████████████████████| 929/929 [00:07<00:00, 126.48it/s]\n"
     ]
    },
    {
     "name": "stdout",
     "output_type": "stream",
     "text": [
      " Average training loss: 1.05\n"
     ]
    },
    {
     "name": "stderr",
     "output_type": "stream",
     "text": [
      "100%|████████████████████████████████████████| 117/117 [00:00<00:00, 953.18it/s]\n"
     ]
    },
    {
     "name": "stdout",
     "output_type": "stream",
     "text": [
      " Average valid loss: 1.10\n",
      "AUC_SCORE:  0.4695024077046549  acc:  0.48717948717948717 f1:  0.33333333333333337\n",
      "EPOCHS:9\n",
      "TRAIN\n"
     ]
    },
    {
     "name": "stderr",
     "output_type": "stream",
     "text": [
      "100%|████████████████████████████████████████| 929/929 [00:07<00:00, 126.18it/s]\n"
     ]
    },
    {
     "name": "stdout",
     "output_type": "stream",
     "text": [
      " Average training loss: 1.04\n"
     ]
    },
    {
     "name": "stderr",
     "output_type": "stream",
     "text": [
      "100%|████████████████████████████████████████| 117/117 [00:00<00:00, 960.79it/s]\n"
     ]
    },
    {
     "name": "stdout",
     "output_type": "stream",
     "text": [
      " Average valid loss: 1.10\n",
      "AUC_SCORE:  0.47351524879614765  acc:  0.47863247863247865 f1:  0.3296703296703297\n",
      "EPOCHS:10\n",
      "TRAIN\n"
     ]
    },
    {
     "name": "stderr",
     "output_type": "stream",
     "text": [
      "100%|████████████████████████████████████████| 929/929 [00:07<00:00, 125.41it/s]\n"
     ]
    },
    {
     "name": "stdout",
     "output_type": "stream",
     "text": [
      " Average training loss: 1.05\n"
     ]
    },
    {
     "name": "stderr",
     "output_type": "stream",
     "text": [
      "100%|████████████████████████████████████████| 117/117 [00:00<00:00, 958.61it/s]\n"
     ]
    },
    {
     "name": "stdout",
     "output_type": "stream",
     "text": [
      " Average valid loss: 1.10\n",
      "AUC_SCORE:  0.4715088282504013  acc:  0.4700854700854701 f1:  0.3111111111111111\n",
      "EPOCHS:11\n",
      "TRAIN\n"
     ]
    },
    {
     "name": "stderr",
     "output_type": "stream",
     "text": [
      "100%|████████████████████████████████████████| 929/929 [00:07<00:00, 126.36it/s]\n"
     ]
    },
    {
     "name": "stdout",
     "output_type": "stream",
     "text": [
      " Average training loss: 1.03\n"
     ]
    },
    {
     "name": "stderr",
     "output_type": "stream",
     "text": [
      "100%|████████████████████████████████████████| 117/117 [00:00<00:00, 982.94it/s]\n"
     ]
    },
    {
     "name": "stdout",
     "output_type": "stream",
     "text": [
      " Average valid loss: 1.10\n",
      "AUC_SCORE:  0.471107544141252  acc:  0.47863247863247865 f1:  0.3296703296703297\n",
      "EPOCHS:12\n",
      "TRAIN\n"
     ]
    },
    {
     "name": "stderr",
     "output_type": "stream",
     "text": [
      "100%|████████████████████████████████████████| 929/929 [00:07<00:00, 126.74it/s]\n"
     ]
    },
    {
     "name": "stdout",
     "output_type": "stream",
     "text": [
      " Average training loss: 1.04\n"
     ]
    },
    {
     "name": "stderr",
     "output_type": "stream",
     "text": [
      "100%|████████████████████████████████████████| 117/117 [00:00<00:00, 924.25it/s]\n"
     ]
    },
    {
     "name": "stdout",
     "output_type": "stream",
     "text": [
      " Average valid loss: 1.10\n",
      "AUC_SCORE:  0.47110754414125194  acc:  0.46153846153846156 f1:  0.32258064516129037\n",
      "EPOCHS:13\n",
      "TRAIN\n"
     ]
    },
    {
     "name": "stderr",
     "output_type": "stream",
     "text": [
      "100%|████████████████████████████████████████| 929/929 [00:07<00:00, 123.17it/s]\n"
     ]
    },
    {
     "name": "stdout",
     "output_type": "stream",
     "text": [
      " Average training loss: 1.03\n"
     ]
    },
    {
     "name": "stderr",
     "output_type": "stream",
     "text": [
      "100%|████████████████████████████████████████| 117/117 [00:00<00:00, 964.84it/s]\n"
     ]
    },
    {
     "name": "stdout",
     "output_type": "stream",
     "text": [
      " Average valid loss: 1.11\n",
      "AUC_SCORE:  0.46709470304975925  acc:  0.4700854700854701 f1:  0.29545454545454547\n",
      "EPOCHS:14\n",
      "TRAIN\n"
     ]
    },
    {
     "name": "stderr",
     "output_type": "stream",
     "text": [
      "100%|████████████████████████████████████████| 929/929 [00:07<00:00, 122.37it/s]\n"
     ]
    },
    {
     "name": "stdout",
     "output_type": "stream",
     "text": [
      " Average training loss: 1.03\n"
     ]
    },
    {
     "name": "stderr",
     "output_type": "stream",
     "text": [
      "100%|████████████████████████████████████████| 117/117 [00:00<00:00, 947.42it/s]\n"
     ]
    },
    {
     "name": "stdout",
     "output_type": "stream",
     "text": [
      " Average valid loss: 1.11\n",
      "AUC_SCORE:  0.46629213483146065  acc:  0.452991452991453 f1:  0.30434782608695654\n",
      "EPOCHS:15\n",
      "TRAIN\n"
     ]
    },
    {
     "name": "stderr",
     "output_type": "stream",
     "text": [
      "100%|████████████████████████████████████████| 929/929 [00:07<00:00, 125.93it/s]\n"
     ]
    },
    {
     "name": "stdout",
     "output_type": "stream",
     "text": [
      " Average training loss: 1.02\n"
     ]
    },
    {
     "name": "stderr",
     "output_type": "stream",
     "text": [
      "100%|████████████████████████████████████████| 117/117 [00:00<00:00, 967.50it/s]\n"
     ]
    },
    {
     "name": "stdout",
     "output_type": "stream",
     "text": [
      " Average valid loss: 1.11\n",
      "AUC_SCORE:  0.4634831460674157  acc:  0.452991452991453 f1:  0.27272727272727276\n",
      "EPOCHS:16\n",
      "TRAIN\n"
     ]
    },
    {
     "name": "stderr",
     "output_type": "stream",
     "text": [
      "100%|████████████████████████████████████████| 929/929 [00:07<00:00, 126.36it/s]\n"
     ]
    },
    {
     "name": "stdout",
     "output_type": "stream",
     "text": [
      " Average training loss: 1.02\n"
     ]
    },
    {
     "name": "stderr",
     "output_type": "stream",
     "text": [
      "100%|████████████████████████████████████████| 117/117 [00:00<00:00, 981.79it/s]\n"
     ]
    },
    {
     "name": "stdout",
     "output_type": "stream",
     "text": [
      " Average valid loss: 1.12\n",
      "AUC_SCORE:  0.4610754414125201  acc:  0.4444444444444444 f1:  0.2857142857142857\n",
      "EPOCHS:17\n",
      "TRAIN\n"
     ]
    },
    {
     "name": "stderr",
     "output_type": "stream",
     "text": [
      "100%|████████████████████████████████████████| 929/929 [00:07<00:00, 126.53it/s]\n"
     ]
    },
    {
     "name": "stdout",
     "output_type": "stream",
     "text": [
      " Average training loss: 1.03\n"
     ]
    },
    {
     "name": "stderr",
     "output_type": "stream",
     "text": [
      "100%|████████████████████████████████████████| 117/117 [00:00<00:00, 979.93it/s]\n"
     ]
    },
    {
     "name": "stdout",
     "output_type": "stream",
     "text": [
      " Average valid loss: 1.12\n",
      "AUC_SCORE:  0.45947030497592295  acc:  0.4444444444444444 f1:  0.2696629213483146\n",
      "EPOCHS:18\n",
      "TRAIN\n"
     ]
    },
    {
     "name": "stderr",
     "output_type": "stream",
     "text": [
      "100%|████████████████████████████████████████| 929/929 [00:07<00:00, 126.62it/s]\n"
     ]
    },
    {
     "name": "stdout",
     "output_type": "stream",
     "text": [
      " Average training loss: 1.03\n"
     ]
    },
    {
     "name": "stderr",
     "output_type": "stream",
     "text": [
      "100%|████████████████████████████████████████| 117/117 [00:00<00:00, 974.33it/s]\n"
     ]
    },
    {
     "name": "stdout",
     "output_type": "stream",
     "text": [
      " Average valid loss: 1.12\n",
      "AUC_SCORE:  0.4550561797752809  acc:  0.46153846153846156 f1:  0.2758620689655173\n",
      "EPOCHS:19\n",
      "TRAIN\n"
     ]
    },
    {
     "name": "stderr",
     "output_type": "stream",
     "text": [
      "100%|████████████████████████████████████████| 929/929 [00:07<00:00, 127.12it/s]\n"
     ]
    },
    {
     "name": "stdout",
     "output_type": "stream",
     "text": [
      " Average training loss: 1.02\n"
     ]
    },
    {
     "name": "stderr",
     "output_type": "stream",
     "text": [
      "100%|████████████████████████████████████████| 117/117 [00:00<00:00, 985.75it/s]\n"
     ]
    },
    {
     "name": "stdout",
     "output_type": "stream",
     "text": [
      " Average valid loss: 1.12\n",
      "AUC_SCORE:  0.45626003210272875  acc:  0.4444444444444444 f1:  0.2857142857142857\n",
      "EPOCHS:20\n",
      "TRAIN\n"
     ]
    },
    {
     "name": "stderr",
     "output_type": "stream",
     "text": [
      "100%|████████████████████████████████████████| 929/929 [00:07<00:00, 127.28it/s]\n"
     ]
    },
    {
     "name": "stdout",
     "output_type": "stream",
     "text": [
      " Average training loss: 1.02\n"
     ]
    },
    {
     "name": "stderr",
     "output_type": "stream",
     "text": [
      "100%|████████████████████████████████████████| 117/117 [00:00<00:00, 989.84it/s]\n"
     ]
    },
    {
     "name": "stdout",
     "output_type": "stream",
     "text": [
      " Average valid loss: 1.13\n",
      "AUC_SCORE:  0.4562600321027287  acc:  0.47863247863247865 f1:  0.2823529411764706\n"
     ]
    },
    {
     "name": "stderr",
     "output_type": "stream",
     "text": [
      "100%|████████████████████████████████████████| 117/117 [00:00<00:00, 985.66it/s]"
     ]
    },
    {
     "name": "stdout",
     "output_type": "stream",
     "text": [
      " Average valid loss: 1.06\n",
      "AUC_SCORE:  0.5497592295345104  acc:  0.41025641025641024 f1:  0.3551401869158879\n",
      "BEST MODEL\n",
      "AUC_SCORE:  0.5497592295345104  acc:  0.41025641025641024 f1:  0.3551401869158879\n",
      "{'auc_micro': 0.5497592295345104, 'acc': 0.41025641025641024, 'f1': 0.3551401869158879, 'pred': [[1, 1, 1, 1, 1, 1, 1, 1, 0, 1], [1, 1, 0, 1, 1, 0, 0, 0, 1, 1], [0, 1, 1, 0, 1, 1, 1, 0, 1, 0], [1, 1, 1, 1, 1, 1, 0, 0, 1, 0], [0, 1, 0, 1, 1, 1, 1, 1, 1, 1], [1, 1, 0, 1, 0, 1, 1, 1, 0, 1], [1, 1, 1, 0, 1, 1, 0, 0, 1, 1], [0, 1, 1, 1, 1, 1, 0, 1, 1, 0], [1, 0, 1, 0, 1, 1, 0, 1, 0, 1], [1, 1, 1, 0, 1, 0, 0, 0, 0, 1], [1, 1, 1, 1, 0, 0, 1, 1, 0, 1], [1, 0, 1, 0, 1, 1, 0], [], [], [], [], [], [], []]}\n"
     ]
    },
    {
     "name": "stderr",
     "output_type": "stream",
     "text": [
      "\n"
     ]
    }
   ],
   "source": [
    "bert2 = BertModel(d_model=512).to('cuda')\n",
    "score = fit(bert2, train_data,valid_data,test_data,EPOCHS=20)\n",
    "print(score)"
   ]
  },
  {
   "cell_type": "code",
   "execution_count": null,
   "id": "35fab6ac",
   "metadata": {},
   "outputs": [],
   "source": []
  }
 ],
 "metadata": {
  "kernelspec": {
   "display_name": "Network_x",
   "language": "python",
   "name": "network_x"
  },
  "language_info": {
   "codemirror_mode": {
    "name": "ipython",
    "version": 3
   },
   "file_extension": ".py",
   "mimetype": "text/x-python",
   "name": "python",
   "nbconvert_exporter": "python",
   "pygments_lexer": "ipython3",
   "version": "3.8.12"
  }
 },
 "nbformat": 4,
 "nbformat_minor": 5
}
