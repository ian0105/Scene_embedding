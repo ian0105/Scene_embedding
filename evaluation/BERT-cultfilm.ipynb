{
 "cells": [
  {
   "cell_type": "code",
   "execution_count": 12,
   "id": "77f06159",
   "metadata": {},
   "outputs": [
    {
     "name": "stdout",
     "output_type": "stream",
     "text": [
      "Collecting gensim==4.2.0\n",
      "  Using cached gensim-4.2.0-cp38-cp38-manylinux_2_12_x86_64.manylinux2010_x86_64.whl (24.1 MB)\n",
      "Requirement already satisfied: numpy>=1.17.0 in /home/eunchong/anaconda3/envs/network_x/lib/python3.8/site-packages (from gensim==4.2.0) (1.22.2)\n",
      "Requirement already satisfied: scipy>=0.18.1 in /home/eunchong/anaconda3/envs/network_x/lib/python3.8/site-packages (from gensim==4.2.0) (1.9.1)\n",
      "Requirement already satisfied: smart-open>=1.8.1 in /home/eunchong/anaconda3/envs/network_x/lib/python3.8/site-packages (from gensim==4.2.0) (5.2.1)\n",
      "Installing collected packages: gensim\n",
      "  Attempting uninstall: gensim\n",
      "    Found existing installation: gensim 3.4.0\n",
      "    Uninstalling gensim-3.4.0:\n",
      "      Successfully uninstalled gensim-3.4.0\n",
      "Successfully installed gensim-4.2.0\n"
     ]
    }
   ],
   "source": [
    "!pip install gensim==4.2.0"
   ]
  },
  {
   "cell_type": "code",
   "execution_count": 1,
   "id": "f2f694bc",
   "metadata": {},
   "outputs": [
    {
     "name": "stderr",
     "output_type": "stream",
     "text": [
      "/home/eunchong/anaconda3/envs/network_x/lib/python3.8/site-packages/requests/__init__.py:102: RequestsDependencyWarning: urllib3 (1.26.11) or chardet (5.0.0)/charset_normalizer (2.0.4) doesn't match a supported version!\n",
      "  warnings.warn(\"urllib3 ({}) or chardet ({})/charset_normalizer ({}) doesn't match a supported \"\n",
      "<frozen importlib._bootstrap>:219: RuntimeWarning: scipy._lib.messagestream.MessageStream size changed, may indicate binary incompatibility. Expected 56 from C header, got 64 from PyObject\n"
     ]
    }
   ],
   "source": [
    "import torch\n",
    "import torch.nn as nn\n",
    "import torch.optim as optim\n",
    "import numpy as np\n",
    "import os\n",
    "from tqdm import tqdm\n",
    "import torch.nn.functional as F\n",
    "from gensim.models import Word2Vec\n",
    "from sklearn import metrics\n",
    "from sklearn.metrics import classification_report\n",
    "import itertools\n",
    "import random"
   ]
  },
  {
   "cell_type": "code",
   "execution_count": 2,
   "id": "ccefb015",
   "metadata": {},
   "outputs": [],
   "source": [
    "import torch\n",
    "import torch.nn as nn"
   ]
  },
  {
   "cell_type": "code",
   "execution_count": 3,
   "id": "4cbbc82f",
   "metadata": {},
   "outputs": [],
   "source": [
    "device = 'cuda'"
   ]
  },
  {
   "cell_type": "markdown",
   "id": "21cf40f7",
   "metadata": {},
   "source": [
    "# 313 881\n"
   ]
  },
  {
   "cell_type": "code",
   "execution_count": 4,
   "id": "92ae8adc",
   "metadata": {},
   "outputs": [],
   "source": [
    "pos_weight = 881/313"
   ]
  },
  {
   "cell_type": "code",
   "execution_count": 5,
   "id": "59309431",
   "metadata": {},
   "outputs": [],
   "source": [
    "class BertModel(nn.Module):\n",
    "    def __init__(self, voc_size:int=30000, seq_len: int=512, d_model: int=384, d_ff:int=3072, pad_idx: int=1,\n",
    "                num_encoder: int=12, num_heads: int=12, n_layers=6, dropout: float=0.1):\n",
    "        super(BertModel, self).__init__()\n",
    "        self.pad_idx = pad_idx\n",
    "        self.layers = nn.ModuleList([nn.TransformerEncoderLayer(d_model=d_model, nhead=8, batch_first=True) for _ in range(n_layers)])\n",
    "        self.fc = nn.Linear(d_model, d_model)\n",
    "        self.activ1 = nn.Tanh()\n",
    "        self.classifier = nn.Linear(d_model, 1)\n",
    "        \n",
    "    def forward(self, input: torch.Tensor) -> torch.Tensor:\n",
    "        output = input\n",
    "        for layer in self.layers:\n",
    "            output = layer(output)\n",
    "        #output = output.mean(dim=1, keepdim=True)\n",
    "        output = output[:,-1]\n",
    "        h_pooled = self.activ1(self.fc(output)) # [batch_size, d_model]\n",
    "        logits_clsf = self.classifier(h_pooled) # [batch_size, 2]\n",
    "        return logits_clsf # [B, S, D_model]"
   ]
  },
  {
   "cell_type": "code",
   "execution_count": 6,
   "id": "b19e17f8",
   "metadata": {},
   "outputs": [],
   "source": [
    "def log_metrics(preds, labels):\n",
    "    preds = torch.stack(preds)\n",
    "    preds = preds.cpu().detach().numpy()\n",
    "    labels = torch.stack(labels)\n",
    "    labels = labels.cpu().detach().numpy()\n",
    "    \n",
    "    \n",
    "    ## Method 2 using ravel()\n",
    "    fpr_micro, tpr_micro, _ = metrics.roc_curve(labels.ravel(), preds.ravel())\n",
    "    auc_micro = metrics.auc(fpr_micro, tpr_micro)\n",
    "    n=10\n",
    "    preds = [round(i) for i in preds.ravel()]\n",
    "    acc = metrics.accuracy_score(labels.ravel(), preds)\n",
    "    f1 = metrics.f1_score(labels.ravel(), preds)\n",
    "    preds = [preds[i*n:(i+1)*n] for i in range(len(preds)//6)]\n",
    "    #target_names = list(genre_list.keys())\n",
    "    #print(classification_report(labels,preds, target_names=target_names))\n",
    "    return {\"auc_micro\": auc_micro, \"acc\" : acc, \"f1\" : f1, 'pred' : preds}"
   ]
  },
  {
   "cell_type": "code",
   "execution_count": 7,
   "id": "671403bc",
   "metadata": {},
   "outputs": [],
   "source": [
    "def train_one_epoch(dataloader, model, optimizer, device, loss_fn):\n",
    "    model.train()\n",
    "    tk0 = tqdm(dataloader, total=len(dataloader))\n",
    "    total_loss = 0.0\n",
    "    \n",
    "    for source_tensor, label in tk0:\n",
    "        optimizer.zero_grad()\n",
    "        output = model(source_tensor.to(device))\n",
    "        loss = loss_fn(output.view(-1, output.size(-1)), torch.FloatTensor([label]).to(device))\n",
    "        \n",
    "        total_loss += loss\n",
    "        loss.backward()\n",
    "        optimizer.step()\n",
    "        \n",
    "    avg_train_loss = total_loss / len(dataloader) \n",
    "    print(\" Average training loss: {0:.2f}\".format(avg_train_loss))  \n",
    "\n",
    "def test_one_epoch(testset, model, loss_fn):\n",
    "    model.eval()\n",
    "    tk0 = tqdm(testset, total=len(testset))\n",
    "    targets = []\n",
    "    outputs = []\n",
    "    total_loss = 0.0\n",
    "    with torch.no_grad():\n",
    "        for source_tensor, label in tk0:\n",
    "            label = torch.FloatTensor([label])\n",
    "            output = model(source_tensor.to(device))\n",
    "            loss = loss_fn(output.view(-1, output.size(-1)), label.to(device))\n",
    "            total_loss += loss\n",
    "            targets.extend(label)\n",
    "            outputs.extend(torch.sigmoid(output[0]).to('cpu'))\n",
    "    avg_valid_loss = total_loss / len(testset) \n",
    "    score = log_metrics(outputs, targets)\n",
    "    print(\" Average valid loss: {0:.2f}\".format(avg_valid_loss))  \n",
    "    print('AUC_SCORE: ', score[\"auc_micro\"], \" acc: \", score[\"acc\"], \"f1: \", score[\"f1\"])\n",
    "    return score, avg_valid_loss\n",
    "    \n",
    "def fit(model, train_dataloader, valid_dataloader=None,test_dataloader=None, EPOCHS=3, lr=0.0000005):\n",
    "    loss_fn = nn.BCEWithLogitsLoss(pos_weight=torch.tensor(pos_weight)) #ignore padding\n",
    "    optimizer = torch.optim.AdamW(model.parameters(),lr=lr)\n",
    "    for i in range(EPOCHS):\n",
    "        print(f\"EPOCHS:{i+1}\")\n",
    "        print('TRAIN')\n",
    "        train_one_epoch(train_dataloader, model, optimizer, device, loss_fn)\n",
    "        auc, loss = test_one_epoch(valid_dataloader,model, loss_fn)\n",
    "        if i == 0:\n",
    "            torch.save(model,'rnn_best.model')\n",
    "            best_f1 = auc['f1']\n",
    "        if  best_f1<auc['f1']:\n",
    "            best_f1 = auc['f1']\n",
    "            print(i,' EPOCH BEST MODEL!')\n",
    "            torch.save(model,'rnn_best.model')\n",
    "        print('Test')\n",
    "        auc, loss = test_one_epoch(test_dataloader,model, loss_fn)\n",
    "    best_model = torch.load('rnn_best.model')\n",
    "    auc, loss  = test_one_epoch(test_dataloader,best_model, loss_fn)\n",
    "    print('BEST MODEL')\n",
    "    print('AUC_SCORE: ', auc[\"auc_micro\"], \" acc: \", auc[\"acc\"], \"f1: \", auc[\"f1\"])\n",
    "    return auc"
   ]
  },
  {
   "cell_type": "markdown",
   "id": "5fb6e8d6",
   "metadata": {},
   "source": [
    "            best_f1 = auc['f1']\n",
    "        if  auc['f1']>best_f1:\n",
    "            best_f1 = auc['f1']"
   ]
  },
  {
   "cell_type": "code",
   "execution_count": null,
   "id": "5db5349a",
   "metadata": {},
   "outputs": [],
   "source": []
  },
  {
   "cell_type": "code",
   "execution_count": 8,
   "id": "5638d064",
   "metadata": {},
   "outputs": [],
   "source": [
    "import pickle\n",
    "with open('movie_split_cult.pickle','rb') as fw:\n",
    "    movie_split = pickle.load(fw)"
   ]
  },
  {
   "cell_type": "code",
   "execution_count": null,
   "id": "a84f2b49",
   "metadata": {},
   "outputs": [],
   "source": []
  },
  {
   "cell_type": "code",
   "execution_count": null,
   "id": "4f4af798",
   "metadata": {},
   "outputs": [],
   "source": []
  },
  {
   "cell_type": "code",
   "execution_count": null,
   "id": "e2e4c668",
   "metadata": {},
   "outputs": [],
   "source": []
  },
  {
   "cell_type": "code",
   "execution_count": 9,
   "id": "adf380ba",
   "metadata": {},
   "outputs": [
    {
     "name": "stderr",
     "output_type": "stream",
     "text": [
      "/tmp/ipykernel_2198767/1754640764.py:40: UserWarning: The given NumPy array is not writable, and PyTorch does not support non-writable tensors. This means writing to this tensor will result in undefined behavior. You may want to copy the array to protect its data or make it writable before converting it to a tensor. This type of warning will be suppressed for the rest of this program. (Triggered internally at  /opt/conda/conda-bld/pytorch_1659484810403/work/torch/csrc/utils/tensor_numpy.cpp:172.)\n",
      "  emb = torch.from_numpy(emb)\n"
     ]
    }
   ],
   "source": [
    "path1 = 'word2vec_model_edge/'\n",
    "path2 = 'data/scriptbase/'\n",
    "filenames = os.listdir(path1)\n",
    "train_data = []\n",
    "valid_data = []\n",
    "test_data = []\n",
    "end = torch.ones(1,1,400)\n",
    "for filename in filenames:\n",
    "    genres = []\n",
    "    movie_name = filename[:-14]\n",
    "    cult = 0\n",
    "    with open(path2+movie_name+'/processed/imdb_meta.txt','r') as f:\n",
    "        lines = f.readlines()\n",
    "        for line in lines:\n",
    "            if 'keyword' in line:\n",
    "                try:\n",
    "                    keyword  = line.strip().split('\\t')[1]\n",
    "                    keywords.append(keyword)\n",
    "                except:\n",
    "                    pass\n",
    "                if 'cult film'==keyword:\n",
    "                    cult = 1\n",
    "                    \n",
    "                    \n",
    "    w2v=Word2Vec.load(path1 + filename)\n",
    "    base = 'scene_'\n",
    "    scene_num = 0\n",
    "    max_scene = 0\n",
    "    for node in w2v.wv.index_to_key:\n",
    "        if base in node:\n",
    "            scene_num += 1\n",
    "            if int(node[6:])>max_scene:\n",
    "                max_scene = int(node[6:])\n",
    "    embs = torch.zeros(1,scene_num+1,400)\n",
    "    k = 0\n",
    "    for i in range(1,max_scene+1):\n",
    "        emb_name = base + str(i)\n",
    "        if emb_name in w2v.wv.index_to_key:\n",
    "            emb = w2v.wv[emb_name]\n",
    "            emb = torch.from_numpy(emb)\n",
    "            embs[0][k] = emb\n",
    "            k += 1\n",
    "    embs[0][-1] = end\n",
    "    \n",
    "    if movie_name in movie_split['train']:\n",
    "        train_data.append([embs, [cult]])\n",
    "    elif movie_name in movie_split['valid']:\n",
    "        valid_data.append([embs, [cult]])\n",
    "    elif movie_name in movie_split['test']:\n",
    "        test_data.append([embs, [cult]])"
   ]
  },
  {
   "cell_type": "code",
   "execution_count": 10,
   "id": "d1382603",
   "metadata": {},
   "outputs": [
    {
     "name": "stdout",
     "output_type": "stream",
     "text": [
      "EPOCHS:1\n",
      "TRAIN\n"
     ]
    },
    {
     "name": "stderr",
     "output_type": "stream",
     "text": [
      "100%|████████████████████████████████████████| 963/963 [00:09<00:00, 104.58it/s]\n"
     ]
    },
    {
     "name": "stdout",
     "output_type": "stream",
     "text": [
      " Average training loss: 1.11\n"
     ]
    },
    {
     "name": "stderr",
     "output_type": "stream",
     "text": [
      "100%|████████████████████████████████████████| 120/120 [00:00<00:00, 728.11it/s]"
     ]
    },
    {
     "name": "stdout",
     "output_type": "stream",
     "text": [
      " Average valid loss: 1.09\n",
      "AUC_SCORE:  0.5535659154059895  acc:  0.3416666666666667 f1:  0.5093167701863354\n"
     ]
    },
    {
     "name": "stderr",
     "output_type": "stream",
     "text": [
      "\n"
     ]
    },
    {
     "name": "stdout",
     "output_type": "stream",
     "text": [
      "Test\n"
     ]
    },
    {
     "name": "stderr",
     "output_type": "stream",
     "text": [
      "100%|████████████████████████████████████████| 121/121 [00:00<00:00, 847.23it/s]\n"
     ]
    },
    {
     "name": "stdout",
     "output_type": "stream",
     "text": [
      " Average valid loss: 1.09\n",
      "AUC_SCORE:  0.5454268292682927  acc:  0.33884297520661155 f1:  0.5061728395061729\n",
      "EPOCHS:2\n",
      "TRAIN\n"
     ]
    },
    {
     "name": "stderr",
     "output_type": "stream",
     "text": [
      "100%|████████████████████████████████████████| 963/963 [00:07<00:00, 121.50it/s]\n"
     ]
    },
    {
     "name": "stdout",
     "output_type": "stream",
     "text": [
      " Average training loss: 1.09\n"
     ]
    },
    {
     "name": "stderr",
     "output_type": "stream",
     "text": [
      "100%|████████████████████████████████████████| 120/120 [00:00<00:00, 851.48it/s]\n"
     ]
    },
    {
     "name": "stdout",
     "output_type": "stream",
     "text": [
      " Average valid loss: 1.09\n",
      "AUC_SCORE:  0.5832046928064217  acc:  0.3416666666666667 f1:  0.5093167701863354\n",
      "Test\n"
     ]
    },
    {
     "name": "stderr",
     "output_type": "stream",
     "text": [
      "100%|████████████████████████████████████████| 121/121 [00:00<00:00, 832.34it/s]\n"
     ]
    },
    {
     "name": "stdout",
     "output_type": "stream",
     "text": [
      " Average valid loss: 1.08\n",
      "AUC_SCORE:  0.6457317073170732  acc:  0.33884297520661155 f1:  0.5061728395061729\n",
      "EPOCHS:3\n",
      "TRAIN\n"
     ]
    },
    {
     "name": "stderr",
     "output_type": "stream",
     "text": [
      "100%|████████████████████████████████████████| 963/963 [00:07<00:00, 120.85it/s]\n"
     ]
    },
    {
     "name": "stdout",
     "output_type": "stream",
     "text": [
      " Average training loss: 1.08\n"
     ]
    },
    {
     "name": "stderr",
     "output_type": "stream",
     "text": [
      "100%|████████████████████████████████████████| 120/120 [00:00<00:00, 827.74it/s]\n"
     ]
    },
    {
     "name": "stdout",
     "output_type": "stream",
     "text": [
      " Average valid loss: 1.08\n",
      "AUC_SCORE:  0.6091386230318  acc:  0.3416666666666667 f1:  0.5093167701863354\n",
      "Test\n"
     ]
    },
    {
     "name": "stderr",
     "output_type": "stream",
     "text": [
      "100%|████████████████████████████████████████| 121/121 [00:00<00:00, 820.43it/s]\n"
     ]
    },
    {
     "name": "stdout",
     "output_type": "stream",
     "text": [
      " Average valid loss: 1.07\n",
      "AUC_SCORE:  0.7067073170731707  acc:  0.33884297520661155 f1:  0.5061728395061729\n",
      "EPOCHS:4\n",
      "TRAIN\n"
     ]
    },
    {
     "name": "stderr",
     "output_type": "stream",
     "text": [
      "100%|████████████████████████████████████████| 963/963 [00:07<00:00, 120.67it/s]\n"
     ]
    },
    {
     "name": "stdout",
     "output_type": "stream",
     "text": [
      " Average training loss: 1.08\n"
     ]
    },
    {
     "name": "stderr",
     "output_type": "stream",
     "text": [
      "100%|████████████████████████████████████████| 120/120 [00:00<00:00, 850.48it/s]\n"
     ]
    },
    {
     "name": "stdout",
     "output_type": "stream",
     "text": [
      " Average valid loss: 1.08\n",
      "AUC_SCORE:  0.6245754862611916  acc:  0.3416666666666667 f1:  0.5093167701863354\n",
      "Test\n"
     ]
    },
    {
     "name": "stderr",
     "output_type": "stream",
     "text": [
      "100%|████████████████████████████████████████| 121/121 [00:00<00:00, 847.53it/s]\n"
     ]
    },
    {
     "name": "stdout",
     "output_type": "stream",
     "text": [
      " Average valid loss: 1.05\n",
      "AUC_SCORE:  0.7310975609756099  acc:  0.33884297520661155 f1:  0.5061728395061729\n",
      "EPOCHS:5\n",
      "TRAIN\n"
     ]
    },
    {
     "name": "stderr",
     "output_type": "stream",
     "text": [
      "100%|████████████████████████████████████████| 963/963 [00:07<00:00, 121.08it/s]\n"
     ]
    },
    {
     "name": "stdout",
     "output_type": "stream",
     "text": [
      " Average training loss: 1.07\n"
     ]
    },
    {
     "name": "stderr",
     "output_type": "stream",
     "text": [
      "100%|████████████████████████████████████████| 120/120 [00:00<00:00, 834.48it/s]\n"
     ]
    },
    {
     "name": "stdout",
     "output_type": "stream",
     "text": [
      " Average valid loss: 1.07\n",
      "AUC_SCORE:  0.6304414942883605  acc:  0.3416666666666667 f1:  0.5093167701863354\n",
      "Test\n"
     ]
    },
    {
     "name": "stderr",
     "output_type": "stream",
     "text": [
      "100%|████████████████████████████████████████| 121/121 [00:00<00:00, 796.93it/s]\n"
     ]
    },
    {
     "name": "stdout",
     "output_type": "stream",
     "text": [
      " Average valid loss: 1.05\n",
      "AUC_SCORE:  0.7435975609756098  acc:  0.33884297520661155 f1:  0.5061728395061729\n",
      "EPOCHS:6\n",
      "TRAIN\n"
     ]
    },
    {
     "name": "stderr",
     "output_type": "stream",
     "text": [
      "100%|████████████████████████████████████████| 963/963 [00:08<00:00, 115.41it/s]\n"
     ]
    },
    {
     "name": "stdout",
     "output_type": "stream",
     "text": [
      " Average training loss: 1.06\n"
     ]
    },
    {
     "name": "stderr",
     "output_type": "stream",
     "text": [
      "100%|████████████████████████████████████████| 120/120 [00:00<00:00, 856.78it/s]\n"
     ]
    },
    {
     "name": "stdout",
     "output_type": "stream",
     "text": [
      " Average valid loss: 1.07\n",
      "AUC_SCORE:  0.6338376041988267  acc:  0.36666666666666664 f1:  0.5189873417721518\n",
      "5  EPOCH BEST MODEL!\n",
      "Test\n"
     ]
    },
    {
     "name": "stderr",
     "output_type": "stream",
     "text": [
      "100%|████████████████████████████████████████| 121/121 [00:00<00:00, 846.39it/s]\n"
     ]
    },
    {
     "name": "stdout",
     "output_type": "stream",
     "text": [
      " Average valid loss: 1.04\n",
      "AUC_SCORE:  0.748780487804878  acc:  0.33884297520661155 f1:  0.5061728395061729\n",
      "EPOCHS:7\n",
      "TRAIN\n"
     ]
    },
    {
     "name": "stderr",
     "output_type": "stream",
     "text": [
      "100%|████████████████████████████████████████| 963/963 [00:08<00:00, 119.61it/s]\n"
     ]
    },
    {
     "name": "stdout",
     "output_type": "stream",
     "text": [
      " Average training loss: 1.05\n"
     ]
    },
    {
     "name": "stderr",
     "output_type": "stream",
     "text": [
      "100%|████████████████████████████████████████| 120/120 [00:00<00:00, 852.97it/s]\n"
     ]
    },
    {
     "name": "stdout",
     "output_type": "stream",
     "text": [
      " Average valid loss: 1.06\n",
      "AUC_SCORE:  0.6412472985489348  acc:  0.38333333333333336 f1:  0.5194805194805194\n",
      "6  EPOCH BEST MODEL!\n",
      "Test\n"
     ]
    },
    {
     "name": "stderr",
     "output_type": "stream",
     "text": [
      "100%|████████████████████████████████████████| 121/121 [00:00<00:00, 816.49it/s]\n"
     ]
    },
    {
     "name": "stdout",
     "output_type": "stream",
     "text": [
      " Average valid loss: 1.03\n",
      "AUC_SCORE:  0.7475609756097561  acc:  0.3305785123966942 f1:  0.49689440993788825\n",
      "EPOCHS:8\n",
      "TRAIN\n"
     ]
    },
    {
     "name": "stderr",
     "output_type": "stream",
     "text": [
      "100%|████████████████████████████████████████| 963/963 [00:07<00:00, 120.46it/s]\n"
     ]
    },
    {
     "name": "stdout",
     "output_type": "stream",
     "text": [
      " Average training loss: 1.04\n"
     ]
    },
    {
     "name": "stderr",
     "output_type": "stream",
     "text": [
      "100%|████████████████████████████████████████| 120/120 [00:00<00:00, 854.70it/s]\n"
     ]
    },
    {
     "name": "stdout",
     "output_type": "stream",
     "text": [
      " Average valid loss: 1.05\n",
      "AUC_SCORE:  0.6480395183698673  acc:  0.4 f1:  0.5263157894736842\n",
      "7  EPOCH BEST MODEL!\n",
      "Test\n"
     ]
    },
    {
     "name": "stderr",
     "output_type": "stream",
     "text": [
      "100%|████████████████████████████████████████| 121/121 [00:00<00:00, 817.77it/s]\n"
     ]
    },
    {
     "name": "stdout",
     "output_type": "stream",
     "text": [
      " Average valid loss: 1.02\n",
      "AUC_SCORE:  0.7496951219512196  acc:  0.35537190082644626 f1:  0.5063291139240506\n",
      "EPOCHS:9\n",
      "TRAIN\n"
     ]
    },
    {
     "name": "stderr",
     "output_type": "stream",
     "text": [
      "100%|████████████████████████████████████████| 963/963 [00:07<00:00, 120.59it/s]\n"
     ]
    },
    {
     "name": "stdout",
     "output_type": "stream",
     "text": [
      " Average training loss: 1.04\n"
     ]
    },
    {
     "name": "stderr",
     "output_type": "stream",
     "text": [
      "100%|████████████████████████████████████████| 120/120 [00:00<00:00, 856.01it/s]"
     ]
    },
    {
     "name": "stdout",
     "output_type": "stream",
     "text": [
      " Average valid loss: 1.05\n",
      "AUC_SCORE:  0.6526705773386847  acc:  0.43333333333333335 f1:  0.5405405405405405\n",
      "8  EPOCH BEST MODEL!\n"
     ]
    },
    {
     "name": "stderr",
     "output_type": "stream",
     "text": [
      "\n"
     ]
    },
    {
     "name": "stdout",
     "output_type": "stream",
     "text": [
      "Test\n"
     ]
    },
    {
     "name": "stderr",
     "output_type": "stream",
     "text": [
      "100%|████████████████████████████████████████| 121/121 [00:00<00:00, 807.95it/s]\n"
     ]
    },
    {
     "name": "stdout",
     "output_type": "stream",
     "text": [
      " Average valid loss: 1.01\n",
      "AUC_SCORE:  0.751829268292683  acc:  0.38016528925619836 f1:  0.5161290322580645\n",
      "EPOCHS:10\n",
      "TRAIN\n"
     ]
    },
    {
     "name": "stderr",
     "output_type": "stream",
     "text": [
      "100%|████████████████████████████████████████| 963/963 [00:07<00:00, 121.34it/s]\n"
     ]
    },
    {
     "name": "stdout",
     "output_type": "stream",
     "text": [
      " Average training loss: 1.03\n"
     ]
    },
    {
     "name": "stderr",
     "output_type": "stream",
     "text": [
      "100%|████████████████████████████████████████| 120/120 [00:00<00:00, 868.04it/s]\n"
     ]
    },
    {
     "name": "stdout",
     "output_type": "stream",
     "text": [
      " Average valid loss: 1.04\n",
      "AUC_SCORE:  0.6557579499845632  acc:  0.43333333333333335 f1:  0.5342465753424658\n",
      "Test\n"
     ]
    },
    {
     "name": "stderr",
     "output_type": "stream",
     "text": [
      "100%|████████████████████████████████████████| 121/121 [00:00<00:00, 858.63it/s]\n"
     ]
    },
    {
     "name": "stdout",
     "output_type": "stream",
     "text": [
      " Average valid loss: 1.00\n",
      "AUC_SCORE:  0.7527439024390244  acc:  0.39669421487603307 f1:  0.5228758169934641\n",
      "EPOCHS:11\n",
      "TRAIN\n"
     ]
    },
    {
     "name": "stderr",
     "output_type": "stream",
     "text": [
      "100%|████████████████████████████████████████| 963/963 [00:07<00:00, 122.06it/s]\n"
     ]
    },
    {
     "name": "stdout",
     "output_type": "stream",
     "text": [
      " Average training loss: 1.03\n"
     ]
    },
    {
     "name": "stderr",
     "output_type": "stream",
     "text": [
      "100%|████████████████████████████████████████| 120/120 [00:00<00:00, 866.74it/s]"
     ]
    },
    {
     "name": "stdout",
     "output_type": "stream",
     "text": [
      " Average valid loss: 1.04\n",
      "AUC_SCORE:  0.6576103735720903  acc:  0.475 f1:  0.553191489361702\n",
      "10  EPOCH BEST MODEL!\n"
     ]
    },
    {
     "name": "stderr",
     "output_type": "stream",
     "text": [
      "\n"
     ]
    },
    {
     "name": "stdout",
     "output_type": "stream",
     "text": [
      "Test\n"
     ]
    },
    {
     "name": "stderr",
     "output_type": "stream",
     "text": [
      "100%|████████████████████████████████████████| 121/121 [00:00<00:00, 856.73it/s]\n"
     ]
    },
    {
     "name": "stdout",
     "output_type": "stream",
     "text": [
      " Average valid loss: 1.00\n",
      "AUC_SCORE:  0.7582317073170731  acc:  0.4297520661157025 f1:  0.5369127516778524\n",
      "EPOCHS:12\n",
      "TRAIN\n"
     ]
    },
    {
     "name": "stderr",
     "output_type": "stream",
     "text": [
      "100%|████████████████████████████████████████| 963/963 [00:07<00:00, 121.02it/s]\n"
     ]
    },
    {
     "name": "stdout",
     "output_type": "stream",
     "text": [
      " Average training loss: 1.01\n"
     ]
    },
    {
     "name": "stderr",
     "output_type": "stream",
     "text": [
      "100%|████████████████████████████████████████| 120/120 [00:00<00:00, 858.07it/s]\n"
     ]
    },
    {
     "name": "stdout",
     "output_type": "stream",
     "text": [
      " Average valid loss: 1.04\n",
      "AUC_SCORE:  0.6591540598950293  acc:  0.475 f1:  0.553191489361702\n",
      "Test\n"
     ]
    },
    {
     "name": "stderr",
     "output_type": "stream",
     "text": [
      "100%|████████████████████████████████████████| 121/121 [00:00<00:00, 843.31it/s]\n"
     ]
    },
    {
     "name": "stdout",
     "output_type": "stream",
     "text": [
      " Average valid loss: 0.99\n",
      "AUC_SCORE:  0.7548780487804878  acc:  0.4380165289256198 f1:  0.5342465753424658\n",
      "EPOCHS:13\n",
      "TRAIN\n"
     ]
    },
    {
     "name": "stderr",
     "output_type": "stream",
     "text": [
      "100%|████████████████████████████████████████| 963/963 [00:08<00:00, 119.81it/s]\n"
     ]
    },
    {
     "name": "stdout",
     "output_type": "stream",
     "text": [
      " Average training loss: 1.01\n"
     ]
    },
    {
     "name": "stderr",
     "output_type": "stream",
     "text": [
      "100%|████████████████████████████████████████| 120/120 [00:00<00:00, 852.83it/s]\n"
     ]
    },
    {
     "name": "stdout",
     "output_type": "stream",
     "text": [
      " Average valid loss: 1.03\n",
      "AUC_SCORE:  0.6622414325409077  acc:  0.475 f1:  0.553191489361702\n",
      "Test\n"
     ]
    },
    {
     "name": "stderr",
     "output_type": "stream",
     "text": [
      "100%|████████████████████████████████████████| 121/121 [00:00<00:00, 848.81it/s]\n"
     ]
    },
    {
     "name": "stdout",
     "output_type": "stream",
     "text": [
      " Average valid loss: 0.99\n",
      "AUC_SCORE:  0.7551829268292682  acc:  0.4380165289256198 f1:  0.5342465753424658\n",
      "EPOCHS:14\n",
      "TRAIN\n"
     ]
    },
    {
     "name": "stderr",
     "output_type": "stream",
     "text": [
      "100%|████████████████████████████████████████| 963/963 [00:08<00:00, 119.52it/s]\n"
     ]
    },
    {
     "name": "stdout",
     "output_type": "stream",
     "text": [
      " Average training loss: 1.00\n"
     ]
    },
    {
     "name": "stderr",
     "output_type": "stream",
     "text": [
      "100%|████████████████████████████████████████| 120/120 [00:00<00:00, 852.64it/s]\n"
     ]
    },
    {
     "name": "stdout",
     "output_type": "stream",
     "text": [
      " Average valid loss: 1.03\n",
      "AUC_SCORE:  0.6653288051867859  acc:  0.475 f1:  0.553191489361702\n",
      "Test\n"
     ]
    },
    {
     "name": "stderr",
     "output_type": "stream",
     "text": [
      "100%|████████████████████████████████████████| 121/121 [00:00<00:00, 844.59it/s]\n"
     ]
    },
    {
     "name": "stdout",
     "output_type": "stream",
     "text": [
      " Average valid loss: 0.98\n",
      "AUC_SCORE:  0.7573170731707317  acc:  0.4462809917355372 f1:  0.524822695035461\n",
      "EPOCHS:15\n",
      "TRAIN\n"
     ]
    },
    {
     "name": "stderr",
     "output_type": "stream",
     "text": [
      "100%|████████████████████████████████████████| 963/963 [00:08<00:00, 119.34it/s]\n"
     ]
    },
    {
     "name": "stdout",
     "output_type": "stream",
     "text": [
      " Average training loss: 1.01\n"
     ]
    },
    {
     "name": "stderr",
     "output_type": "stream",
     "text": [
      "100%|████████████████████████████████████████| 120/120 [00:00<00:00, 847.12it/s]\n"
     ]
    },
    {
     "name": "stdout",
     "output_type": "stream",
     "text": [
      " Average valid loss: 1.02\n",
      "AUC_SCORE:  0.6705773386847793  acc:  0.48333333333333334 f1:  0.557142857142857\n",
      "14  EPOCH BEST MODEL!\n",
      "Test\n"
     ]
    },
    {
     "name": "stderr",
     "output_type": "stream",
     "text": [
      "100%|████████████████████████████████████████| 121/121 [00:00<00:00, 846.03it/s]\n"
     ]
    },
    {
     "name": "stdout",
     "output_type": "stream",
     "text": [
      " Average valid loss: 0.98\n",
      "AUC_SCORE:  0.7579268292682927  acc:  0.45454545454545453 f1:  0.5285714285714286\n",
      "EPOCHS:16\n",
      "TRAIN\n"
     ]
    },
    {
     "name": "stderr",
     "output_type": "stream",
     "text": [
      "100%|████████████████████████████████████████| 963/963 [00:07<00:00, 120.80it/s]\n"
     ]
    },
    {
     "name": "stdout",
     "output_type": "stream",
     "text": [
      " Average training loss: 0.99\n"
     ]
    },
    {
     "name": "stderr",
     "output_type": "stream",
     "text": [
      "100%|████████████████████████████████████████| 120/120 [00:00<00:00, 857.29it/s]\n"
     ]
    },
    {
     "name": "stdout",
     "output_type": "stream",
     "text": [
      " Average valid loss: 1.02\n",
      "AUC_SCORE:  0.6733559740660697  acc:  0.49166666666666664 f1:  0.5611510791366906\n",
      "15  EPOCH BEST MODEL!\n",
      "Test\n"
     ]
    },
    {
     "name": "stderr",
     "output_type": "stream",
     "text": [
      "100%|████████████████████████████████████████| 121/121 [00:00<00:00, 810.29it/s]\n"
     ]
    },
    {
     "name": "stdout",
     "output_type": "stream",
     "text": [
      " Average valid loss: 0.98\n",
      "AUC_SCORE:  0.7573170731707317  acc:  0.47107438016528924 f1:  0.536231884057971\n",
      "EPOCHS:17\n",
      "TRAIN\n"
     ]
    },
    {
     "name": "stderr",
     "output_type": "stream",
     "text": [
      "100%|████████████████████████████████████████| 963/963 [00:07<00:00, 120.82it/s]\n"
     ]
    },
    {
     "name": "stdout",
     "output_type": "stream",
     "text": [
      " Average training loss: 0.98\n"
     ]
    },
    {
     "name": "stderr",
     "output_type": "stream",
     "text": [
      "100%|████████████████████████████████████████| 120/120 [00:00<00:00, 853.57it/s]\n"
     ]
    },
    {
     "name": "stdout",
     "output_type": "stream",
     "text": [
      " Average valid loss: 1.02\n",
      "AUC_SCORE:  0.6764433467119482  acc:  0.48333333333333334 f1:  0.5441176470588235\n",
      "Test\n"
     ]
    },
    {
     "name": "stderr",
     "output_type": "stream",
     "text": [
      "100%|████████████████████████████████████████| 121/121 [00:00<00:00, 846.13it/s]\n"
     ]
    },
    {
     "name": "stdout",
     "output_type": "stream",
     "text": [
      " Average valid loss: 0.97\n",
      "AUC_SCORE:  0.7591463414634145  acc:  0.4793388429752066 f1:  0.5401459854014599\n",
      "EPOCHS:18\n",
      "TRAIN\n"
     ]
    },
    {
     "name": "stderr",
     "output_type": "stream",
     "text": [
      "100%|████████████████████████████████████████| 963/963 [00:07<00:00, 120.67it/s]\n"
     ]
    },
    {
     "name": "stdout",
     "output_type": "stream",
     "text": [
      " Average training loss: 0.99\n"
     ]
    },
    {
     "name": "stderr",
     "output_type": "stream",
     "text": [
      "100%|████████████████████████████████████████| 120/120 [00:00<00:00, 864.49it/s]\n"
     ]
    },
    {
     "name": "stdout",
     "output_type": "stream",
     "text": [
      " Average valid loss: 1.02\n",
      "AUC_SCORE:  0.6826180920037048  acc:  0.48333333333333334 f1:  0.5441176470588235\n",
      "Test\n"
     ]
    },
    {
     "name": "stderr",
     "output_type": "stream",
     "text": [
      "100%|████████████████████████████████████████| 121/121 [00:00<00:00, 858.22it/s]\n"
     ]
    },
    {
     "name": "stdout",
     "output_type": "stream",
     "text": [
      " Average valid loss: 0.98\n",
      "AUC_SCORE:  0.7588414634146341  acc:  0.4793388429752066 f1:  0.5401459854014599\n",
      "EPOCHS:19\n",
      "TRAIN\n"
     ]
    },
    {
     "name": "stderr",
     "output_type": "stream",
     "text": [
      "100%|████████████████████████████████████████| 963/963 [00:07<00:00, 121.64it/s]\n"
     ]
    },
    {
     "name": "stdout",
     "output_type": "stream",
     "text": [
      " Average training loss: 0.97\n"
     ]
    },
    {
     "name": "stderr",
     "output_type": "stream",
     "text": [
      "100%|████████████████████████████████████████| 120/120 [00:00<00:00, 855.54it/s]\n"
     ]
    },
    {
     "name": "stdout",
     "output_type": "stream",
     "text": [
      " Average valid loss: 1.01\n",
      "AUC_SCORE:  0.6850879901204076  acc:  0.49166666666666664 f1:  0.5481481481481482\n",
      "Test\n"
     ]
    },
    {
     "name": "stderr",
     "output_type": "stream",
     "text": [
      "100%|████████████████████████████████████████| 121/121 [00:00<00:00, 851.11it/s]\n"
     ]
    },
    {
     "name": "stdout",
     "output_type": "stream",
     "text": [
      " Average valid loss: 0.97\n",
      "AUC_SCORE:  0.7582317073170732  acc:  0.49586776859504134 f1:  0.5481481481481482\n",
      "EPOCHS:20\n",
      "TRAIN\n"
     ]
    },
    {
     "name": "stderr",
     "output_type": "stream",
     "text": [
      "100%|████████████████████████████████████████| 963/963 [00:07<00:00, 121.21it/s]\n"
     ]
    },
    {
     "name": "stdout",
     "output_type": "stream",
     "text": [
      " Average training loss: 0.97\n"
     ]
    },
    {
     "name": "stderr",
     "output_type": "stream",
     "text": [
      "100%|████████████████████████████████████████| 120/120 [00:00<00:00, 867.29it/s]\n"
     ]
    },
    {
     "name": "stdout",
     "output_type": "stream",
     "text": [
      " Average valid loss: 1.01\n",
      "AUC_SCORE:  0.6891015745600493  acc:  0.49166666666666664 f1:  0.5481481481481482\n",
      "Test\n"
     ]
    },
    {
     "name": "stderr",
     "output_type": "stream",
     "text": [
      "100%|████████████████████████████████████████| 121/121 [00:00<00:00, 859.08it/s]\n"
     ]
    },
    {
     "name": "stdout",
     "output_type": "stream",
     "text": [
      " Average valid loss: 0.97\n",
      "AUC_SCORE:  0.7554878048780488  acc:  0.49586776859504134 f1:  0.5481481481481482\n",
      "EPOCHS:21\n",
      "TRAIN\n"
     ]
    },
    {
     "name": "stderr",
     "output_type": "stream",
     "text": [
      "100%|████████████████████████████████████████| 963/963 [00:07<00:00, 121.60it/s]\n"
     ]
    },
    {
     "name": "stdout",
     "output_type": "stream",
     "text": [
      " Average training loss: 0.96\n"
     ]
    },
    {
     "name": "stderr",
     "output_type": "stream",
     "text": [
      "100%|████████████████████████████████████████| 120/120 [00:00<00:00, 863.08it/s]\n"
     ]
    },
    {
     "name": "stdout",
     "output_type": "stream",
     "text": [
      " Average valid loss: 1.01\n",
      "AUC_SCORE:  0.6940413707934547  acc:  0.49166666666666664 f1:  0.5481481481481482\n",
      "Test\n"
     ]
    },
    {
     "name": "stderr",
     "output_type": "stream",
     "text": [
      "100%|████████████████████████████████████████| 121/121 [00:00<00:00, 857.83it/s]\n"
     ]
    },
    {
     "name": "stdout",
     "output_type": "stream",
     "text": [
      " Average valid loss: 0.97\n",
      "AUC_SCORE:  0.7564024390243902  acc:  0.49586776859504134 f1:  0.5481481481481482\n",
      "EPOCHS:22\n",
      "TRAIN\n"
     ]
    },
    {
     "name": "stderr",
     "output_type": "stream",
     "text": [
      "100%|████████████████████████████████████████| 963/963 [00:08<00:00, 119.42it/s]\n"
     ]
    },
    {
     "name": "stdout",
     "output_type": "stream",
     "text": [
      " Average training loss: 0.96\n"
     ]
    },
    {
     "name": "stderr",
     "output_type": "stream",
     "text": [
      "100%|████████████████████████████████████████| 120/120 [00:00<00:00, 854.97it/s]\n"
     ]
    },
    {
     "name": "stdout",
     "output_type": "stream",
     "text": [
      " Average valid loss: 1.01\n",
      "AUC_SCORE:  0.6989811670268602  acc:  0.49166666666666664 f1:  0.5481481481481482\n",
      "Test\n"
     ]
    },
    {
     "name": "stderr",
     "output_type": "stream",
     "text": [
      "100%|████████████████████████████████████████| 121/121 [00:00<00:00, 846.07it/s]\n"
     ]
    },
    {
     "name": "stdout",
     "output_type": "stream",
     "text": [
      " Average valid loss: 0.97\n",
      "AUC_SCORE:  0.7518292682926829  acc:  0.48760330578512395 f1:  0.5441176470588235\n",
      "EPOCHS:23\n",
      "TRAIN\n"
     ]
    },
    {
     "name": "stderr",
     "output_type": "stream",
     "text": [
      "100%|████████████████████████████████████████| 963/963 [00:07<00:00, 121.03it/s]\n"
     ]
    },
    {
     "name": "stdout",
     "output_type": "stream",
     "text": [
      " Average training loss: 0.96\n"
     ]
    },
    {
     "name": "stderr",
     "output_type": "stream",
     "text": [
      "100%|████████████████████████████████████████| 120/120 [00:00<00:00, 856.81it/s]\n"
     ]
    },
    {
     "name": "stdout",
     "output_type": "stream",
     "text": [
      " Average valid loss: 1.00\n",
      "AUC_SCORE:  0.7005248533497993  acc:  0.5 f1:  0.5522388059701492\n",
      "Test\n"
     ]
    },
    {
     "name": "stderr",
     "output_type": "stream",
     "text": [
      "100%|████████████████████████████████████████| 121/121 [00:00<00:00, 849.91it/s]\n"
     ]
    },
    {
     "name": "stdout",
     "output_type": "stream",
     "text": [
      " Average valid loss: 0.97\n",
      "AUC_SCORE:  0.7509146341463415  acc:  0.49586776859504134 f1:  0.5481481481481482\n",
      "EPOCHS:24\n",
      "TRAIN\n"
     ]
    },
    {
     "name": "stderr",
     "output_type": "stream",
     "text": [
      "100%|████████████████████████████████████████| 963/963 [00:08<00:00, 119.89it/s]\n"
     ]
    },
    {
     "name": "stdout",
     "output_type": "stream",
     "text": [
      " Average training loss: 0.95\n"
     ]
    },
    {
     "name": "stderr",
     "output_type": "stream",
     "text": [
      "100%|████████████████████████████████████████| 120/120 [00:00<00:00, 855.30it/s]\n"
     ]
    },
    {
     "name": "stdout",
     "output_type": "stream",
     "text": [
      " Average valid loss: 1.00\n",
      "AUC_SCORE:  0.7020685396727385  acc:  0.5083333333333333 f1:  0.556390977443609\n",
      "Test\n"
     ]
    },
    {
     "name": "stderr",
     "output_type": "stream",
     "text": [
      "100%|████████████████████████████████████████| 121/121 [00:00<00:00, 848.90it/s]\n"
     ]
    },
    {
     "name": "stdout",
     "output_type": "stream",
     "text": [
      " Average valid loss: 0.97\n",
      "AUC_SCORE:  0.7493902439024391  acc:  0.49586776859504134 f1:  0.5481481481481482\n",
      "EPOCHS:25\n",
      "TRAIN\n"
     ]
    },
    {
     "name": "stderr",
     "output_type": "stream",
     "text": [
      "100%|████████████████████████████████████████| 963/963 [00:07<00:00, 120.49it/s]\n"
     ]
    },
    {
     "name": "stdout",
     "output_type": "stream",
     "text": [
      " Average training loss: 0.94\n"
     ]
    },
    {
     "name": "stderr",
     "output_type": "stream",
     "text": [
      "100%|████████████████████████████████████████| 120/120 [00:00<00:00, 855.95it/s]\n"
     ]
    },
    {
     "name": "stdout",
     "output_type": "stream",
     "text": [
      " Average valid loss: 1.00\n",
      "AUC_SCORE:  0.707008335906144  acc:  0.5166666666666667 f1:  0.5606060606060607\n",
      "Test\n"
     ]
    },
    {
     "name": "stderr",
     "output_type": "stream",
     "text": [
      "100%|████████████████████████████████████████| 121/121 [00:00<00:00, 850.42it/s]\n"
     ]
    },
    {
     "name": "stdout",
     "output_type": "stream",
     "text": [
      " Average valid loss: 0.98\n",
      "AUC_SCORE:  0.7478658536585366  acc:  0.49586776859504134 f1:  0.5481481481481482\n",
      "EPOCHS:26\n",
      "TRAIN\n"
     ]
    },
    {
     "name": "stderr",
     "output_type": "stream",
     "text": [
      "100%|████████████████████████████████████████| 963/963 [00:08<00:00, 120.28it/s]\n"
     ]
    },
    {
     "name": "stdout",
     "output_type": "stream",
     "text": [
      " Average training loss: 0.94\n"
     ]
    },
    {
     "name": "stderr",
     "output_type": "stream",
     "text": [
      "100%|████████████████████████████████████████| 120/120 [00:00<00:00, 856.16it/s]\n"
     ]
    },
    {
     "name": "stdout",
     "output_type": "stream",
     "text": [
      " Average valid loss: 1.00\n",
      "AUC_SCORE:  0.7134918184624883  acc:  0.5166666666666667 f1:  0.5606060606060607\n",
      "Test\n"
     ]
    },
    {
     "name": "stderr",
     "output_type": "stream",
     "text": [
      "100%|████████████████████████████████████████| 121/121 [00:00<00:00, 847.99it/s]\n"
     ]
    },
    {
     "name": "stdout",
     "output_type": "stream",
     "text": [
      " Average valid loss: 0.98\n",
      "AUC_SCORE:  0.7463414634146341  acc:  0.5041322314049587 f1:  0.5522388059701492\n",
      "EPOCHS:27\n",
      "TRAIN\n"
     ]
    },
    {
     "name": "stderr",
     "output_type": "stream",
     "text": [
      "100%|████████████████████████████████████████| 963/963 [00:08<00:00, 119.92it/s]\n"
     ]
    },
    {
     "name": "stdout",
     "output_type": "stream",
     "text": [
      " Average training loss: 0.94\n"
     ]
    },
    {
     "name": "stderr",
     "output_type": "stream",
     "text": [
      "100%|████████████████████████████████████████| 120/120 [00:00<00:00, 857.53it/s]\n"
     ]
    },
    {
     "name": "stdout",
     "output_type": "stream",
     "text": [
      " Average valid loss: 1.00\n",
      "AUC_SCORE:  0.7144180302562518  acc:  0.5166666666666667 f1:  0.5606060606060607\n",
      "Test\n"
     ]
    },
    {
     "name": "stderr",
     "output_type": "stream",
     "text": [
      "100%|████████████████████████████████████████| 121/121 [00:00<00:00, 850.71it/s]\n"
     ]
    },
    {
     "name": "stdout",
     "output_type": "stream",
     "text": [
      " Average valid loss: 0.98\n",
      "AUC_SCORE:  0.7426829268292683  acc:  0.512396694214876 f1:  0.556390977443609\n",
      "EPOCHS:28\n",
      "TRAIN\n"
     ]
    },
    {
     "name": "stderr",
     "output_type": "stream",
     "text": [
      "100%|████████████████████████████████████████| 963/963 [00:08<00:00, 115.72it/s]\n"
     ]
    },
    {
     "name": "stdout",
     "output_type": "stream",
     "text": [
      " Average training loss: 0.93\n"
     ]
    },
    {
     "name": "stderr",
     "output_type": "stream",
     "text": [
      "100%|████████████████████████████████████████| 120/120 [00:00<00:00, 820.66it/s]"
     ]
    },
    {
     "name": "stdout",
     "output_type": "stream",
     "text": [
      " Average valid loss: 1.00\n",
      "AUC_SCORE:  0.7147267675208397  acc:  0.525 f1:  0.5648854961832062\n",
      "27  EPOCH BEST MODEL!\n"
     ]
    },
    {
     "name": "stderr",
     "output_type": "stream",
     "text": [
      "\n"
     ]
    },
    {
     "name": "stdout",
     "output_type": "stream",
     "text": [
      "Test\n"
     ]
    },
    {
     "name": "stderr",
     "output_type": "stream",
     "text": [
      "100%|████████████████████████████████████████| 121/121 [00:00<00:00, 803.86it/s]\n"
     ]
    },
    {
     "name": "stdout",
     "output_type": "stream",
     "text": [
      " Average valid loss: 0.98\n",
      "AUC_SCORE:  0.7411585365853659  acc:  0.512396694214876 f1:  0.549618320610687\n",
      "EPOCHS:29\n",
      "TRAIN\n"
     ]
    },
    {
     "name": "stderr",
     "output_type": "stream",
     "text": [
      "100%|████████████████████████████████████████| 963/963 [00:08<00:00, 117.41it/s]\n"
     ]
    },
    {
     "name": "stdout",
     "output_type": "stream",
     "text": [
      " Average training loss: 0.93\n"
     ]
    },
    {
     "name": "stderr",
     "output_type": "stream",
     "text": [
      "100%|████████████████████████████████████████| 120/120 [00:00<00:00, 804.69it/s]"
     ]
    },
    {
     "name": "stdout",
     "output_type": "stream",
     "text": [
      " Average valid loss: 0.99\n",
      "AUC_SCORE:  0.7175054029021302  acc:  0.5333333333333333 f1:  0.5692307692307692\n",
      "28  EPOCH BEST MODEL!\n"
     ]
    },
    {
     "name": "stderr",
     "output_type": "stream",
     "text": [
      "\n"
     ]
    },
    {
     "name": "stdout",
     "output_type": "stream",
     "text": [
      "Test\n"
     ]
    },
    {
     "name": "stderr",
     "output_type": "stream",
     "text": [
      "100%|████████████████████████████████████████| 121/121 [00:00<00:00, 834.84it/s]\n"
     ]
    },
    {
     "name": "stdout",
     "output_type": "stream",
     "text": [
      " Average valid loss: 0.98\n",
      "AUC_SCORE:  0.7417682926829268  acc:  0.5289256198347108 f1:  0.558139534883721\n",
      "EPOCHS:30\n",
      "TRAIN\n"
     ]
    },
    {
     "name": "stderr",
     "output_type": "stream",
     "text": [
      "100%|████████████████████████████████████████| 963/963 [00:08<00:00, 118.20it/s]\n"
     ]
    },
    {
     "name": "stdout",
     "output_type": "stream",
     "text": [
      " Average training loss: 0.92\n"
     ]
    },
    {
     "name": "stderr",
     "output_type": "stream",
     "text": [
      "100%|████████████████████████████████████████| 120/120 [00:00<00:00, 850.75it/s]\n"
     ]
    },
    {
     "name": "stdout",
     "output_type": "stream",
     "text": [
      " Average valid loss: 0.99\n",
      "AUC_SCORE:  0.7202840382834209  acc:  0.5333333333333333 f1:  0.5692307692307692\n",
      "Test\n"
     ]
    },
    {
     "name": "stderr",
     "output_type": "stream",
     "text": [
      "100%|████████████████████████████████████████| 121/121 [00:00<00:00, 819.85it/s]\n"
     ]
    },
    {
     "name": "stdout",
     "output_type": "stream",
     "text": [
      " Average valid loss: 0.99\n",
      "AUC_SCORE:  0.7396341463414635  acc:  0.5371900826446281 f1:  0.5625\n",
      "EPOCHS:31\n",
      "TRAIN\n"
     ]
    },
    {
     "name": "stderr",
     "output_type": "stream",
     "text": [
      "100%|████████████████████████████████████████| 963/963 [00:08<00:00, 118.40it/s]\n"
     ]
    },
    {
     "name": "stdout",
     "output_type": "stream",
     "text": [
      " Average training loss: 0.91\n"
     ]
    },
    {
     "name": "stderr",
     "output_type": "stream",
     "text": [
      "100%|████████████████████████████████████████| 120/120 [00:00<00:00, 833.76it/s]\n"
     ]
    },
    {
     "name": "stdout",
     "output_type": "stream",
     "text": [
      " Average valid loss: 0.99\n",
      "AUC_SCORE:  0.7230626736647113  acc:  0.5416666666666666 f1:  0.5736434108527132\n",
      "30  EPOCH BEST MODEL!\n",
      "Test\n"
     ]
    },
    {
     "name": "stderr",
     "output_type": "stream",
     "text": [
      "100%|████████████████████████████████████████| 121/121 [00:00<00:00, 819.37it/s]\n"
     ]
    },
    {
     "name": "stdout",
     "output_type": "stream",
     "text": [
      " Average valid loss: 0.99\n",
      "AUC_SCORE:  0.739939024390244  acc:  0.5371900826446281 f1:  0.5625\n",
      "EPOCHS:32\n",
      "TRAIN\n"
     ]
    },
    {
     "name": "stderr",
     "output_type": "stream",
     "text": [
      "100%|████████████████████████████████████████| 963/963 [00:08<00:00, 117.73it/s]\n"
     ]
    },
    {
     "name": "stdout",
     "output_type": "stream",
     "text": [
      " Average training loss: 0.92\n"
     ]
    },
    {
     "name": "stderr",
     "output_type": "stream",
     "text": [
      "100%|████████████████████████████████████████| 120/120 [00:00<00:00, 788.62it/s]\n"
     ]
    },
    {
     "name": "stdout",
     "output_type": "stream",
     "text": [
      " Average valid loss: 0.99\n",
      "AUC_SCORE:  0.7233714109292991  acc:  0.5416666666666666 f1:  0.5736434108527132\n",
      "Test\n"
     ]
    },
    {
     "name": "stderr",
     "output_type": "stream",
     "text": [
      "100%|████████████████████████████████████████| 121/121 [00:00<00:00, 794.30it/s]\n"
     ]
    },
    {
     "name": "stdout",
     "output_type": "stream",
     "text": [
      " Average valid loss: 0.99\n",
      "AUC_SCORE:  0.7371951219512196  acc:  0.5537190082644629 f1:  0.5714285714285715\n",
      "EPOCHS:33\n",
      "TRAIN\n"
     ]
    },
    {
     "name": "stderr",
     "output_type": "stream",
     "text": [
      "100%|████████████████████████████████████████| 963/963 [00:08<00:00, 114.29it/s]\n"
     ]
    },
    {
     "name": "stdout",
     "output_type": "stream",
     "text": [
      " Average training loss: 0.91\n"
     ]
    },
    {
     "name": "stderr",
     "output_type": "stream",
     "text": [
      "100%|████████████████████████████████████████| 120/120 [00:00<00:00, 863.61it/s]\n"
     ]
    },
    {
     "name": "stdout",
     "output_type": "stream",
     "text": [
      " Average valid loss: 0.99\n",
      "AUC_SCORE:  0.7267675208397654  acc:  0.5416666666666666 f1:  0.5736434108527132\n",
      "Test\n"
     ]
    },
    {
     "name": "stderr",
     "output_type": "stream",
     "text": [
      "100%|████████████████████████████████████████| 121/121 [00:00<00:00, 852.11it/s]\n"
     ]
    },
    {
     "name": "stdout",
     "output_type": "stream",
     "text": [
      " Average valid loss: 1.01\n",
      "AUC_SCORE:  0.7338414634146342  acc:  0.5371900826446281 f1:  0.5625\n",
      "EPOCHS:34\n",
      "TRAIN\n"
     ]
    },
    {
     "name": "stderr",
     "output_type": "stream",
     "text": [
      "100%|████████████████████████████████████████| 963/963 [00:08<00:00, 119.89it/s]\n"
     ]
    },
    {
     "name": "stdout",
     "output_type": "stream",
     "text": [
      " Average training loss: 0.90\n"
     ]
    },
    {
     "name": "stderr",
     "output_type": "stream",
     "text": [
      "100%|████████████████████████████████████████| 120/120 [00:00<00:00, 862.04it/s]\n"
     ]
    },
    {
     "name": "stdout",
     "output_type": "stream",
     "text": [
      " Average valid loss: 0.99\n",
      "AUC_SCORE:  0.7292374189564681  acc:  0.5416666666666666 f1:  0.5736434108527132\n",
      "Test\n"
     ]
    },
    {
     "name": "stderr",
     "output_type": "stream",
     "text": [
      "100%|████████████████████████████████████████| 121/121 [00:00<00:00, 854.23it/s]\n"
     ]
    },
    {
     "name": "stdout",
     "output_type": "stream",
     "text": [
      " Average valid loss: 1.00\n",
      "AUC_SCORE:  0.7335365853658535  acc:  0.5537190082644629 f1:  0.5714285714285715\n",
      "EPOCHS:35\n",
      "TRAIN\n"
     ]
    },
    {
     "name": "stderr",
     "output_type": "stream",
     "text": [
      "100%|████████████████████████████████████████| 963/963 [00:07<00:00, 121.74it/s]\n"
     ]
    },
    {
     "name": "stdout",
     "output_type": "stream",
     "text": [
      " Average training loss: 0.91\n"
     ]
    },
    {
     "name": "stderr",
     "output_type": "stream",
     "text": [
      "100%|████████████████████████████████████████| 120/120 [00:00<00:00, 857.76it/s]\n"
     ]
    },
    {
     "name": "stdout",
     "output_type": "stream",
     "text": [
      " Average valid loss: 0.99\n",
      "AUC_SCORE:  0.7304723680148194  acc:  0.5416666666666666 f1:  0.5736434108527132\n",
      "Test\n"
     ]
    },
    {
     "name": "stderr",
     "output_type": "stream",
     "text": [
      "100%|████████████████████████████████████████| 121/121 [00:00<00:00, 857.01it/s]\n"
     ]
    },
    {
     "name": "stdout",
     "output_type": "stream",
     "text": [
      " Average valid loss: 1.01\n",
      "AUC_SCORE:  0.7304878048780488  acc:  0.5454545454545454 f1:  0.5669291338582677\n",
      "EPOCHS:36\n",
      "TRAIN\n"
     ]
    },
    {
     "name": "stderr",
     "output_type": "stream",
     "text": [
      "100%|████████████████████████████████████████| 963/963 [00:08<00:00, 117.28it/s]\n"
     ]
    },
    {
     "name": "stdout",
     "output_type": "stream",
     "text": [
      " Average training loss: 0.89\n"
     ]
    },
    {
     "name": "stderr",
     "output_type": "stream",
     "text": [
      "100%|████████████████████████████████████████| 120/120 [00:00<00:00, 802.60it/s]\n"
     ]
    },
    {
     "name": "stdout",
     "output_type": "stream",
     "text": [
      " Average valid loss: 0.99\n",
      "AUC_SCORE:  0.7289286816918802  acc:  0.55 f1:  0.578125\n",
      "35  EPOCH BEST MODEL!\n",
      "Test\n"
     ]
    },
    {
     "name": "stderr",
     "output_type": "stream",
     "text": [
      "100%|████████████████████████████████████████| 121/121 [00:00<00:00, 802.75it/s]\n"
     ]
    },
    {
     "name": "stdout",
     "output_type": "stream",
     "text": [
      " Average valid loss: 1.00\n",
      "AUC_SCORE:  0.7304878048780488  acc:  0.5867768595041323 f1:  0.5901639344262294\n",
      "EPOCHS:37\n",
      "TRAIN\n"
     ]
    },
    {
     "name": "stderr",
     "output_type": "stream",
     "text": [
      "100%|████████████████████████████████████████| 963/963 [00:08<00:00, 118.51it/s]\n"
     ]
    },
    {
     "name": "stdout",
     "output_type": "stream",
     "text": [
      " Average training loss: 0.89\n"
     ]
    },
    {
     "name": "stderr",
     "output_type": "stream",
     "text": [
      "100%|████████████████████████████████████████| 120/120 [00:00<00:00, 861.60it/s]\n"
     ]
    },
    {
     "name": "stdout",
     "output_type": "stream",
     "text": [
      " Average valid loss: 0.98\n",
      "AUC_SCORE:  0.7307811052794073  acc:  0.55 f1:  0.578125\n",
      "Test\n"
     ]
    },
    {
     "name": "stderr",
     "output_type": "stream",
     "text": [
      "100%|████████████████████████████████████████| 121/121 [00:00<00:00, 859.27it/s]\n"
     ]
    },
    {
     "name": "stdout",
     "output_type": "stream",
     "text": [
      " Average valid loss: 1.01\n",
      "AUC_SCORE:  0.7283536585365854  acc:  0.5867768595041323 f1:  0.5901639344262294\n",
      "EPOCHS:38\n",
      "TRAIN\n"
     ]
    },
    {
     "name": "stderr",
     "output_type": "stream",
     "text": [
      "100%|████████████████████████████████████████| 963/963 [00:08<00:00, 118.60it/s]\n"
     ]
    },
    {
     "name": "stdout",
     "output_type": "stream",
     "text": [
      " Average training loss: 0.87\n"
     ]
    },
    {
     "name": "stderr",
     "output_type": "stream",
     "text": [
      "100%|████████████████████████████████████████| 120/120 [00:00<00:00, 864.37it/s]\n"
     ]
    },
    {
     "name": "stdout",
     "output_type": "stream",
     "text": [
      " Average valid loss: 0.98\n",
      "AUC_SCORE:  0.7320160543377586  acc:  0.55 f1:  0.578125\n",
      "Test\n"
     ]
    },
    {
     "name": "stderr",
     "output_type": "stream",
     "text": [
      "100%|████████████████████████████████████████| 121/121 [00:00<00:00, 857.81it/s]\n"
     ]
    },
    {
     "name": "stdout",
     "output_type": "stream",
     "text": [
      " Average valid loss: 1.01\n",
      "AUC_SCORE:  0.7259146341463415  acc:  0.5867768595041323 f1:  0.5901639344262294\n",
      "EPOCHS:39\n",
      "TRAIN\n"
     ]
    },
    {
     "name": "stderr",
     "output_type": "stream",
     "text": [
      "100%|████████████████████████████████████████| 963/963 [00:07<00:00, 121.89it/s]\n"
     ]
    },
    {
     "name": "stdout",
     "output_type": "stream",
     "text": [
      " Average training loss: 0.88\n"
     ]
    },
    {
     "name": "stderr",
     "output_type": "stream",
     "text": [
      "100%|████████████████████████████████████████| 120/120 [00:00<00:00, 865.75it/s]\n"
     ]
    },
    {
     "name": "stdout",
     "output_type": "stream",
     "text": [
      " Average valid loss: 0.99\n",
      "AUC_SCORE:  0.7332510033961099  acc:  0.55 f1:  0.578125\n",
      "Test\n"
     ]
    },
    {
     "name": "stderr",
     "output_type": "stream",
     "text": [
      "100%|████████████████████████████████████████| 121/121 [00:00<00:00, 858.43it/s]\n"
     ]
    },
    {
     "name": "stdout",
     "output_type": "stream",
     "text": [
      " Average valid loss: 1.02\n",
      "AUC_SCORE:  0.723780487804878  acc:  0.5867768595041323 f1:  0.5901639344262294\n",
      "EPOCHS:40\n",
      "TRAIN\n"
     ]
    },
    {
     "name": "stderr",
     "output_type": "stream",
     "text": [
      "100%|████████████████████████████████████████| 963/963 [00:07<00:00, 121.33it/s]\n"
     ]
    },
    {
     "name": "stdout",
     "output_type": "stream",
     "text": [
      " Average training loss: 0.87\n"
     ]
    },
    {
     "name": "stderr",
     "output_type": "stream",
     "text": [
      "100%|████████████████████████████████████████| 120/120 [00:00<00:00, 862.73it/s]\n"
     ]
    },
    {
     "name": "stdout",
     "output_type": "stream",
     "text": [
      " Average valid loss: 0.99\n",
      "AUC_SCORE:  0.7378820623649275  acc:  0.55 f1:  0.578125\n",
      "Test\n"
     ]
    },
    {
     "name": "stderr",
     "output_type": "stream",
     "text": [
      "100%|████████████████████████████████████████| 121/121 [00:00<00:00, 853.48it/s]\n"
     ]
    },
    {
     "name": "stdout",
     "output_type": "stream",
     "text": [
      " Average valid loss: 1.03\n",
      "AUC_SCORE:  0.7240853658536586  acc:  0.5867768595041323 f1:  0.5901639344262294\n"
     ]
    },
    {
     "name": "stderr",
     "output_type": "stream",
     "text": [
      "100%|████████████████████████████████████████| 121/121 [00:00<00:00, 852.66it/s]"
     ]
    },
    {
     "name": "stdout",
     "output_type": "stream",
     "text": [
      " Average valid loss: 1.00\n",
      "AUC_SCORE:  0.7304878048780488  acc:  0.5867768595041323 f1:  0.5901639344262294\n",
      "BEST MODEL\n",
      "AUC_SCORE:  0.7304878048780488  acc:  0.5867768595041323 f1:  0.5901639344262294\n",
      "{'auc_micro': 0.7304878048780488, 'acc': 0.5867768595041323, 'f1': 0.5901639344262294, 'pred': [[1, 1, 0, 1, 0, 1, 1, 1, 0, 1], [0, 1, 1, 1, 1, 0, 0, 1, 1, 1], [1, 1, 1, 1, 0, 0, 1, 1, 1, 0], [1, 0, 0, 0, 1, 1, 0, 0, 1, 1], [1, 1, 1, 0, 1, 1, 0, 1, 0, 1], [1, 1, 1, 0, 0, 1, 1, 1, 1, 1], [1, 1, 0, 1, 1, 0, 0, 1, 1, 1], [1, 0, 1, 1, 1, 0, 0, 1, 0, 1], [0, 1, 1, 1, 1, 1, 1, 1, 0, 1], [1, 0, 0, 1, 1, 1, 1, 0, 1, 0], [0, 1, 0, 1, 1, 1, 1, 1, 1, 0], [1, 1, 1, 0, 0, 1, 0, 1, 0, 0], [1], [], [], [], [], [], [], []]}\n"
     ]
    },
    {
     "name": "stderr",
     "output_type": "stream",
     "text": [
      "\n"
     ]
    }
   ],
   "source": [
    "bert = BertModel(d_model=400).to('cuda')\n",
    "score = fit(bert, train_data,valid_data,test_data,EPOCHS=40)\n",
    "print(score)"
   ]
  },
  {
   "cell_type": "code",
   "execution_count": null,
   "id": "c269ae08",
   "metadata": {},
   "outputs": [],
   "source": []
  },
  {
   "cell_type": "code",
   "execution_count": null,
   "id": "e47e3be0",
   "metadata": {},
   "outputs": [],
   "source": []
  },
  {
   "cell_type": "code",
   "execution_count": 97,
   "id": "aa075996",
   "metadata": {},
   "outputs": [
    {
     "data": {
      "text/plain": [
       "44"
      ]
     },
     "execution_count": 97,
     "metadata": {},
     "output_type": "execute_result"
    }
   ],
   "source": [
    "random.randint(0,100)"
   ]
  },
  {
   "cell_type": "code",
   "execution_count": 11,
   "id": "7025bba9",
   "metadata": {},
   "outputs": [],
   "source": [
    "import random"
   ]
  },
  {
   "cell_type": "code",
   "execution_count": null,
   "id": "e9d22ac9",
   "metadata": {},
   "outputs": [],
   "source": []
  },
  {
   "cell_type": "code",
   "execution_count": null,
   "id": "112e4940",
   "metadata": {},
   "outputs": [],
   "source": []
  },
  {
   "cell_type": "code",
   "execution_count": null,
   "id": "09004185",
   "metadata": {},
   "outputs": [],
   "source": []
  },
  {
   "cell_type": "code",
   "execution_count": null,
   "id": "6cfd2c7f",
   "metadata": {},
   "outputs": [],
   "source": []
  },
  {
   "cell_type": "markdown",
   "id": "c05a09e8",
   "metadata": {},
   "source": [
    "# SUM"
   ]
  },
  {
   "cell_type": "code",
   "execution_count": 12,
   "id": "d4a568c0",
   "metadata": {},
   "outputs": [],
   "source": [
    "import pickle\n",
    "with open('emb_sum.pickle','rb') as fw:\n",
    "    movie_emb = pickle.load(fw)"
   ]
  },
  {
   "cell_type": "code",
   "execution_count": 13,
   "id": "d479d64e",
   "metadata": {},
   "outputs": [],
   "source": [
    "path1 = 'word2vec_model_char/'\n",
    "path2 = 'data/scriptbase/'\n",
    "filenames = os.listdir(path1)\n",
    "train_data = []\n",
    "valid_data = []\n",
    "test_data = []\n",
    "end = torch.ones(1,1,384)\n",
    "\n",
    "for filename in filenames:\n",
    "    movie_name = filename[:-14]\n",
    "    cult = 0\n",
    "    with open(path2+movie_name+'/processed/imdb_meta.txt','r') as f:\n",
    "        lines = f.readlines()\n",
    "        for line in lines:\n",
    "            if 'keyword' in line:\n",
    "                try:\n",
    "                    keyword  = line.strip().split('\\t')[1]\n",
    "                    keywords.append(keyword)\n",
    "                except:\n",
    "                    pass\n",
    "                if 'cult film'==keyword:\n",
    "                    cult = 1\n",
    "    if movie_name not in movie_emb.keys():\n",
    "        continue\n",
    "        \n",
    "    embs = torch.zeros(1,len(movie_emb[movie_name])+1,384)\n",
    "    for i,emb in enumerate(movie_emb[movie_name]):\n",
    "        emb = torch.from_numpy(np.nan_to_num(emb))\n",
    "        embs[0][i] = emb\n",
    "        \n",
    "    embs[0][-1] = end\n",
    "        \n",
    "    if movie_name in movie_split['train']:\n",
    "        train_data.append([embs, [cult]])\n",
    "    elif movie_name in movie_split['valid']:\n",
    "        valid_data.append([embs, [cult]])\n",
    "    \n",
    "    elif movie_name in movie_split['test']:\n",
    "        test_data.append([embs, [cult]])\n",
    "        #valid_data.append([embs, [cult]])"
   ]
  },
  {
   "cell_type": "code",
   "execution_count": 14,
   "id": "914bf7bb",
   "metadata": {},
   "outputs": [
    {
     "name": "stdout",
     "output_type": "stream",
     "text": [
      "953\n",
      "120\n",
      "119\n"
     ]
    }
   ],
   "source": [
    "print(len(train_data))\n",
    "print(len(valid_data))\n",
    "print(len(test_data))"
   ]
  },
  {
   "cell_type": "code",
   "execution_count": 15,
   "id": "dab4c7bd",
   "metadata": {},
   "outputs": [
    {
     "name": "stdout",
     "output_type": "stream",
     "text": [
      "EPOCHS:1\n",
      "TRAIN\n"
     ]
    },
    {
     "name": "stderr",
     "output_type": "stream",
     "text": [
      "100%|████████████████████████████████████████| 953/953 [00:07<00:00, 120.16it/s]\n"
     ]
    },
    {
     "name": "stdout",
     "output_type": "stream",
     "text": [
      " Average training loss: 1.11\n"
     ]
    },
    {
     "name": "stderr",
     "output_type": "stream",
     "text": [
      "100%|████████████████████████████████████████| 120/120 [00:00<00:00, 887.78it/s]\n"
     ]
    },
    {
     "name": "stdout",
     "output_type": "stream",
     "text": [
      " Average valid loss: 1.09\n",
      "AUC_SCORE:  0.6137696820006174  acc:  0.3416666666666667 f1:  0.5093167701863354\n",
      "Test\n"
     ]
    },
    {
     "name": "stderr",
     "output_type": "stream",
     "text": [
      "100%|████████████████████████████████████████| 119/119 [00:00<00:00, 872.79it/s]\n"
     ]
    },
    {
     "name": "stdout",
     "output_type": "stream",
     "text": [
      " Average valid loss: 1.10\n",
      "AUC_SCORE:  0.50093808630394  acc:  0.3445378151260504 f1:  0.5125\n",
      "EPOCHS:2\n",
      "TRAIN\n"
     ]
    },
    {
     "name": "stderr",
     "output_type": "stream",
     "text": [
      "100%|████████████████████████████████████████| 953/953 [00:07<00:00, 121.46it/s]\n"
     ]
    },
    {
     "name": "stdout",
     "output_type": "stream",
     "text": [
      " Average training loss: 1.10\n"
     ]
    },
    {
     "name": "stderr",
     "output_type": "stream",
     "text": [
      "100%|████████████████████████████████████████| 120/120 [00:00<00:00, 886.36it/s]\n"
     ]
    },
    {
     "name": "stdout",
     "output_type": "stream",
     "text": [
      " Average valid loss: 1.08\n",
      "AUC_SCORE:  0.6789132448286508  acc:  0.3416666666666667 f1:  0.5093167701863354\n",
      "Test\n"
     ]
    },
    {
     "name": "stderr",
     "output_type": "stream",
     "text": [
      "100%|████████████████████████████████████████| 119/119 [00:00<00:00, 874.93it/s]\n"
     ]
    },
    {
     "name": "stdout",
     "output_type": "stream",
     "text": [
      " Average valid loss: 1.09\n",
      "AUC_SCORE:  0.6013133208255159  acc:  0.3445378151260504 f1:  0.5125\n",
      "EPOCHS:3\n",
      "TRAIN\n"
     ]
    },
    {
     "name": "stderr",
     "output_type": "stream",
     "text": [
      "100%|████████████████████████████████████████| 953/953 [00:07<00:00, 120.95it/s]\n"
     ]
    },
    {
     "name": "stdout",
     "output_type": "stream",
     "text": [
      " Average training loss: 1.09\n"
     ]
    },
    {
     "name": "stderr",
     "output_type": "stream",
     "text": [
      "100%|████████████████████████████████████████| 120/120 [00:00<00:00, 883.15it/s]\n"
     ]
    },
    {
     "name": "stdout",
     "output_type": "stream",
     "text": [
      " Average valid loss: 1.08\n",
      "AUC_SCORE:  0.7017598024081507  acc:  0.3416666666666667 f1:  0.5093167701863354\n",
      "Test\n"
     ]
    },
    {
     "name": "stderr",
     "output_type": "stream",
     "text": [
      "100%|████████████████████████████████████████| 119/119 [00:00<00:00, 877.50it/s]\n"
     ]
    },
    {
     "name": "stdout",
     "output_type": "stream",
     "text": [
      " Average valid loss: 1.08\n",
      "AUC_SCORE:  0.6635397123202001  acc:  0.3445378151260504 f1:  0.5125\n",
      "EPOCHS:4\n",
      "TRAIN\n"
     ]
    },
    {
     "name": "stderr",
     "output_type": "stream",
     "text": [
      "100%|████████████████████████████████████████| 953/953 [00:07<00:00, 120.84it/s]\n"
     ]
    },
    {
     "name": "stdout",
     "output_type": "stream",
     "text": [
      " Average training loss: 1.09\n"
     ]
    },
    {
     "name": "stderr",
     "output_type": "stream",
     "text": [
      "100%|████████████████████████████████████████| 120/120 [00:00<00:00, 881.08it/s]\n"
     ]
    },
    {
     "name": "stdout",
     "output_type": "stream",
     "text": [
      " Average valid loss: 1.07\n",
      "AUC_SCORE:  0.7002161160852115  acc:  0.3416666666666667 f1:  0.5093167701863354\n",
      "Test\n"
     ]
    },
    {
     "name": "stderr",
     "output_type": "stream",
     "text": [
      "100%|████████████████████████████████████████| 119/119 [00:00<00:00, 873.90it/s]\n"
     ]
    },
    {
     "name": "stdout",
     "output_type": "stream",
     "text": [
      " Average valid loss: 1.07\n",
      "AUC_SCORE:  0.684490306441526  acc:  0.3445378151260504 f1:  0.5125\n",
      "EPOCHS:5\n",
      "TRAIN\n"
     ]
    },
    {
     "name": "stderr",
     "output_type": "stream",
     "text": [
      "100%|████████████████████████████████████████| 953/953 [00:07<00:00, 121.19it/s]\n"
     ]
    },
    {
     "name": "stdout",
     "output_type": "stream",
     "text": [
      " Average training loss: 1.07\n"
     ]
    },
    {
     "name": "stderr",
     "output_type": "stream",
     "text": [
      "100%|████████████████████████████████████████| 120/120 [00:00<00:00, 885.34it/s]\n"
     ]
    },
    {
     "name": "stdout",
     "output_type": "stream",
     "text": [
      " Average valid loss: 1.07\n",
      "AUC_SCORE:  0.6977462179685089  acc:  0.3416666666666667 f1:  0.5093167701863354\n",
      "Test\n"
     ]
    },
    {
     "name": "stderr",
     "output_type": "stream",
     "text": [
      "100%|████████████████████████████████████████| 119/119 [00:00<00:00, 881.35it/s]\n"
     ]
    },
    {
     "name": "stdout",
     "output_type": "stream",
     "text": [
      " Average valid loss: 1.06\n",
      "AUC_SCORE:  0.7001250781738586  acc:  0.3445378151260504 f1:  0.5125\n",
      "EPOCHS:6\n",
      "TRAIN\n"
     ]
    },
    {
     "name": "stderr",
     "output_type": "stream",
     "text": [
      "100%|████████████████████████████████████████| 953/953 [00:07<00:00, 121.46it/s]\n"
     ]
    },
    {
     "name": "stdout",
     "output_type": "stream",
     "text": [
      " Average training loss: 1.07\n"
     ]
    },
    {
     "name": "stderr",
     "output_type": "stream",
     "text": [
      "100%|████████████████████████████████████████| 120/120 [00:00<00:00, 883.53it/s]\n"
     ]
    },
    {
     "name": "stdout",
     "output_type": "stream",
     "text": [
      " Average valid loss: 1.07\n",
      "AUC_SCORE:  0.6958937943809818  acc:  0.3416666666666667 f1:  0.5093167701863354\n",
      "Test\n"
     ]
    },
    {
     "name": "stderr",
     "output_type": "stream",
     "text": [
      "100%|████████████████████████████████████████| 119/119 [00:00<00:00, 873.03it/s]\n"
     ]
    },
    {
     "name": "stdout",
     "output_type": "stream",
     "text": [
      " Average valid loss: 1.05\n",
      "AUC_SCORE:  0.7088805503439649  acc:  0.3445378151260504 f1:  0.5125\n",
      "EPOCHS:7\n",
      "TRAIN\n"
     ]
    },
    {
     "name": "stderr",
     "output_type": "stream",
     "text": [
      "100%|████████████████████████████████████████| 953/953 [00:08<00:00, 117.44it/s]\n"
     ]
    },
    {
     "name": "stdout",
     "output_type": "stream",
     "text": [
      " Average training loss: 1.06\n"
     ]
    },
    {
     "name": "stderr",
     "output_type": "stream",
     "text": [
      "100%|████████████████████████████████████████| 120/120 [00:00<00:00, 888.30it/s]"
     ]
    },
    {
     "name": "stdout",
     "output_type": "stream",
     "text": [
      " Average valid loss: 1.06\n",
      "AUC_SCORE:  0.6983636924976845  acc:  0.35833333333333334 f1:  0.5157232704402516\n",
      "6  EPOCH BEST MODEL!\n"
     ]
    },
    {
     "name": "stderr",
     "output_type": "stream",
     "text": [
      "\n"
     ]
    },
    {
     "name": "stdout",
     "output_type": "stream",
     "text": [
      "Test\n"
     ]
    },
    {
     "name": "stderr",
     "output_type": "stream",
     "text": [
      "100%|████████████████████████████████████████| 119/119 [00:00<00:00, 737.38it/s]\n"
     ]
    },
    {
     "name": "stdout",
     "output_type": "stream",
     "text": [
      " Average valid loss: 1.04\n",
      "AUC_SCORE:  0.723264540337711  acc:  0.35294117647058826 f1:  0.5157232704402516\n",
      "EPOCHS:8\n",
      "TRAIN\n"
     ]
    },
    {
     "name": "stderr",
     "output_type": "stream",
     "text": [
      "100%|████████████████████████████████████████| 953/953 [00:08<00:00, 115.56it/s]\n"
     ]
    },
    {
     "name": "stdout",
     "output_type": "stream",
     "text": [
      " Average training loss: 1.06\n"
     ]
    },
    {
     "name": "stderr",
     "output_type": "stream",
     "text": [
      "100%|████████████████████████████████████████| 120/120 [00:00<00:00, 858.41it/s]\n"
     ]
    },
    {
     "name": "stdout",
     "output_type": "stream",
     "text": [
      " Average valid loss: 1.06\n",
      "AUC_SCORE:  0.697437480703921  acc:  0.35833333333333334 f1:  0.5095541401273885\n",
      "Test\n"
     ]
    },
    {
     "name": "stderr",
     "output_type": "stream",
     "text": [
      "100%|████████████████████████████████████████| 119/119 [00:00<00:00, 841.24it/s]\n"
     ]
    },
    {
     "name": "stdout",
     "output_type": "stream",
     "text": [
      " Average valid loss: 1.03\n",
      "AUC_SCORE:  0.7304565353345841  acc:  0.35294117647058826 f1:  0.5157232704402516\n",
      "EPOCHS:9\n",
      "TRAIN\n"
     ]
    },
    {
     "name": "stderr",
     "output_type": "stream",
     "text": [
      "100%|████████████████████████████████████████| 953/953 [00:07<00:00, 120.14it/s]\n"
     ]
    },
    {
     "name": "stdout",
     "output_type": "stream",
     "text": [
      " Average training loss: 1.05\n"
     ]
    },
    {
     "name": "stderr",
     "output_type": "stream",
     "text": [
      "100%|████████████████████████████████████████| 120/120 [00:00<00:00, 865.20it/s]\n"
     ]
    },
    {
     "name": "stdout",
     "output_type": "stream",
     "text": [
      " Average valid loss: 1.06\n",
      "AUC_SCORE:  0.695276319851806  acc:  0.35833333333333334 f1:  0.5095541401273885\n",
      "Test\n"
     ]
    },
    {
     "name": "stderr",
     "output_type": "stream",
     "text": [
      "100%|████████████████████████████████████████| 119/119 [00:00<00:00, 847.88it/s]\n"
     ]
    },
    {
     "name": "stdout",
     "output_type": "stream",
     "text": [
      " Average valid loss: 1.03\n",
      "AUC_SCORE:  0.733270794246404  acc:  0.36134453781512604 f1:  0.5189873417721518\n",
      "EPOCHS:10\n",
      "TRAIN\n"
     ]
    },
    {
     "name": "stderr",
     "output_type": "stream",
     "text": [
      "100%|████████████████████████████████████████| 953/953 [00:07<00:00, 119.73it/s]\n"
     ]
    },
    {
     "name": "stdout",
     "output_type": "stream",
     "text": [
      " Average training loss: 1.04\n"
     ]
    },
    {
     "name": "stderr",
     "output_type": "stream",
     "text": [
      "100%|████████████████████████████████████████| 120/120 [00:00<00:00, 861.73it/s]\n"
     ]
    },
    {
     "name": "stdout",
     "output_type": "stream",
     "text": [
      " Average valid loss: 1.05\n",
      "AUC_SCORE:  0.695893794380982  acc:  0.35833333333333334 f1:  0.503225806451613\n",
      "Test\n"
     ]
    },
    {
     "name": "stderr",
     "output_type": "stream",
     "text": [
      "100%|████████████████████████████████████████| 119/119 [00:00<00:00, 851.97it/s]\n"
     ]
    },
    {
     "name": "stdout",
     "output_type": "stream",
     "text": [
      " Average valid loss: 1.02\n",
      "AUC_SCORE:  0.7376485303314572  acc:  0.37815126050420167 f1:  0.5256410256410257\n",
      "EPOCHS:11\n",
      "TRAIN\n"
     ]
    },
    {
     "name": "stderr",
     "output_type": "stream",
     "text": [
      "100%|████████████████████████████████████████| 953/953 [00:07<00:00, 119.59it/s]\n"
     ]
    },
    {
     "name": "stdout",
     "output_type": "stream",
     "text": [
      " Average training loss: 1.04\n"
     ]
    },
    {
     "name": "stderr",
     "output_type": "stream",
     "text": [
      "100%|████████████████████████████████████████| 120/120 [00:00<00:00, 834.14it/s]\n"
     ]
    },
    {
     "name": "stdout",
     "output_type": "stream",
     "text": [
      " Average valid loss: 1.05\n",
      "AUC_SCORE:  0.6924976844705156  acc:  0.36666666666666664 f1:  0.5064935064935066\n",
      "Test\n"
     ]
    },
    {
     "name": "stderr",
     "output_type": "stream",
     "text": [
      "100%|████████████████████████████████████████| 119/119 [00:00<00:00, 818.20it/s]\n"
     ]
    },
    {
     "name": "stdout",
     "output_type": "stream",
     "text": [
      " Average valid loss: 1.01\n",
      "AUC_SCORE:  0.7420262664165103  acc:  0.3949579831932773 f1:  0.5324675324675325\n",
      "EPOCHS:12\n",
      "TRAIN\n"
     ]
    },
    {
     "name": "stderr",
     "output_type": "stream",
     "text": [
      "100%|████████████████████████████████████████| 953/953 [00:07<00:00, 119.34it/s]\n"
     ]
    },
    {
     "name": "stdout",
     "output_type": "stream",
     "text": [
      " Average training loss: 1.03\n"
     ]
    },
    {
     "name": "stderr",
     "output_type": "stream",
     "text": [
      "100%|████████████████████████████████████████| 120/120 [00:00<00:00, 859.67it/s]\n"
     ]
    },
    {
     "name": "stdout",
     "output_type": "stream",
     "text": [
      " Average valid loss: 1.05\n",
      "AUC_SCORE:  0.6937326335288669  acc:  0.36666666666666664 f1:  0.5064935064935066\n",
      "Test\n"
     ]
    },
    {
     "name": "stderr",
     "output_type": "stream",
     "text": [
      "100%|████████████████████████████████████████| 119/119 [00:00<00:00, 839.94it/s]\n"
     ]
    },
    {
     "name": "stdout",
     "output_type": "stream",
     "text": [
      " Average valid loss: 1.01\n",
      "AUC_SCORE:  0.7467166979362102  acc:  0.3949579831932773 f1:  0.5324675324675325\n",
      "EPOCHS:13\n",
      "TRAIN\n"
     ]
    },
    {
     "name": "stderr",
     "output_type": "stream",
     "text": [
      "100%|████████████████████████████████████████| 953/953 [00:07<00:00, 119.66it/s]\n"
     ]
    },
    {
     "name": "stdout",
     "output_type": "stream",
     "text": [
      " Average training loss: 1.03\n"
     ]
    },
    {
     "name": "stderr",
     "output_type": "stream",
     "text": [
      "100%|████████████████████████████████████████| 120/120 [00:00<00:00, 866.99it/s]\n"
     ]
    },
    {
     "name": "stdout",
     "output_type": "stream",
     "text": [
      " Average valid loss: 1.05\n",
      "AUC_SCORE:  0.6940413707934548  acc:  0.375 f1:  0.5098039215686275\n",
      "Test\n"
     ]
    },
    {
     "name": "stderr",
     "output_type": "stream",
     "text": [
      "100%|████████████████████████████████████████| 119/119 [00:00<00:00, 855.77it/s]\n"
     ]
    },
    {
     "name": "stdout",
     "output_type": "stream",
     "text": [
      " Average valid loss: 1.00\n",
      "AUC_SCORE:  0.7514071294559099  acc:  0.4117647058823529 f1:  0.5394736842105263\n",
      "EPOCHS:14\n",
      "TRAIN\n"
     ]
    },
    {
     "name": "stderr",
     "output_type": "stream",
     "text": [
      "100%|████████████████████████████████████████| 953/953 [00:07<00:00, 119.84it/s]\n"
     ]
    },
    {
     "name": "stdout",
     "output_type": "stream",
     "text": [
      " Average training loss: 1.03\n"
     ]
    },
    {
     "name": "stderr",
     "output_type": "stream",
     "text": [
      "100%|████████████████████████████████████████| 120/120 [00:00<00:00, 855.76it/s]\n"
     ]
    },
    {
     "name": "stdout",
     "output_type": "stream",
     "text": [
      " Average valid loss: 1.05\n",
      "AUC_SCORE:  0.6937326335288669  acc:  0.38333333333333336 f1:  0.5066666666666667\n",
      "Test\n"
     ]
    },
    {
     "name": "stderr",
     "output_type": "stream",
     "text": [
      "100%|████████████████████████████████████████| 119/119 [00:00<00:00, 843.93it/s]\n"
     ]
    },
    {
     "name": "stdout",
     "output_type": "stream",
     "text": [
      " Average valid loss: 0.99\n",
      "AUC_SCORE:  0.7560975609756098  acc:  0.42857142857142855 f1:  0.5466666666666667\n",
      "EPOCHS:15\n",
      "TRAIN\n"
     ]
    },
    {
     "name": "stderr",
     "output_type": "stream",
     "text": [
      "100%|████████████████████████████████████████| 953/953 [00:08<00:00, 118.85it/s]\n"
     ]
    },
    {
     "name": "stdout",
     "output_type": "stream",
     "text": [
      " Average training loss: 1.02\n"
     ]
    },
    {
     "name": "stderr",
     "output_type": "stream",
     "text": [
      "100%|████████████████████████████████████████| 120/120 [00:00<00:00, 861.46it/s]\n"
     ]
    },
    {
     "name": "stdout",
     "output_type": "stream",
     "text": [
      " Average valid loss: 1.05\n",
      "AUC_SCORE:  0.6928064217351034  acc:  0.4 f1:  0.5135135135135136\n",
      "Test\n"
     ]
    },
    {
     "name": "stderr",
     "output_type": "stream",
     "text": [
      "100%|████████████████████████████████████████| 119/119 [00:00<00:00, 839.14it/s]\n"
     ]
    },
    {
     "name": "stdout",
     "output_type": "stream",
     "text": [
      " Average valid loss: 0.99\n",
      "AUC_SCORE:  0.7592245153220764  acc:  0.44537815126050423 f1:  0.5540540540540541\n",
      "EPOCHS:16\n",
      "TRAIN\n"
     ]
    },
    {
     "name": "stderr",
     "output_type": "stream",
     "text": [
      "100%|████████████████████████████████████████| 953/953 [00:08<00:00, 118.92it/s]\n"
     ]
    },
    {
     "name": "stdout",
     "output_type": "stream",
     "text": [
      " Average training loss: 1.02\n"
     ]
    },
    {
     "name": "stderr",
     "output_type": "stream",
     "text": [
      "100%|████████████████████████████████████████| 120/120 [00:00<00:00, 860.14it/s]"
     ]
    },
    {
     "name": "stdout",
     "output_type": "stream",
     "text": [
      " Average valid loss: 1.05\n",
      "AUC_SCORE:  0.6921889472059278  acc:  0.4083333333333333 f1:  0.5170068027210885\n",
      "15  EPOCH BEST MODEL!\n"
     ]
    },
    {
     "name": "stderr",
     "output_type": "stream",
     "text": [
      "\n"
     ]
    },
    {
     "name": "stdout",
     "output_type": "stream",
     "text": [
      "Test\n"
     ]
    },
    {
     "name": "stderr",
     "output_type": "stream",
     "text": [
      "100%|████████████████████████████████████████| 119/119 [00:00<00:00, 835.71it/s]\n"
     ]
    },
    {
     "name": "stdout",
     "output_type": "stream",
     "text": [
      " Average valid loss: 0.99\n",
      "AUC_SCORE:  0.758599124452783  acc:  0.453781512605042 f1:  0.5517241379310346\n",
      "EPOCHS:17\n",
      "TRAIN\n"
     ]
    },
    {
     "name": "stderr",
     "output_type": "stream",
     "text": [
      "100%|████████████████████████████████████████| 953/953 [00:07<00:00, 119.26it/s]\n"
     ]
    },
    {
     "name": "stdout",
     "output_type": "stream",
     "text": [
      " Average training loss: 1.01\n"
     ]
    },
    {
     "name": "stderr",
     "output_type": "stream",
     "text": [
      "100%|████████████████████████████████████████| 120/120 [00:00<00:00, 852.44it/s]\n"
     ]
    },
    {
     "name": "stdout",
     "output_type": "stream",
     "text": [
      " Average valid loss: 1.05\n",
      "AUC_SCORE:  0.6912627354121642  acc:  0.4083333333333333 f1:  0.5170068027210885\n",
      "Test\n"
     ]
    },
    {
     "name": "stderr",
     "output_type": "stream",
     "text": [
      "100%|████████████████████████████████████████| 119/119 [00:00<00:00, 834.79it/s]\n"
     ]
    },
    {
     "name": "stdout",
     "output_type": "stream",
     "text": [
      " Average valid loss: 0.98\n",
      "AUC_SCORE:  0.7604752970606629  acc:  0.453781512605042 f1:  0.5517241379310346\n",
      "EPOCHS:18\n",
      "TRAIN\n"
     ]
    },
    {
     "name": "stderr",
     "output_type": "stream",
     "text": [
      "100%|████████████████████████████████████████| 953/953 [00:07<00:00, 119.75it/s]\n"
     ]
    },
    {
     "name": "stdout",
     "output_type": "stream",
     "text": [
      " Average training loss: 1.01\n"
     ]
    },
    {
     "name": "stderr",
     "output_type": "stream",
     "text": [
      "100%|████████████████████████████████████████| 120/120 [00:00<00:00, 862.02it/s]"
     ]
    },
    {
     "name": "stdout",
     "output_type": "stream",
     "text": [
      " Average valid loss: 1.05\n",
      "AUC_SCORE:  0.6912627354121643  acc:  0.425 f1:  0.5241379310344828\n",
      "17  EPOCH BEST MODEL!\n"
     ]
    },
    {
     "name": "stderr",
     "output_type": "stream",
     "text": [
      "\n"
     ]
    },
    {
     "name": "stdout",
     "output_type": "stream",
     "text": [
      "Test\n"
     ]
    },
    {
     "name": "stderr",
     "output_type": "stream",
     "text": [
      "100%|████████████████████████████████████████| 119/119 [00:00<00:00, 832.83it/s]\n"
     ]
    },
    {
     "name": "stdout",
     "output_type": "stream",
     "text": [
      " Average valid loss: 0.98\n",
      "AUC_SCORE:  0.7617260787992496  acc:  0.46218487394957986 f1:  0.5555555555555556\n",
      "EPOCHS:19\n",
      "TRAIN\n"
     ]
    },
    {
     "name": "stderr",
     "output_type": "stream",
     "text": [
      "100%|████████████████████████████████████████| 953/953 [00:07<00:00, 119.40it/s]\n"
     ]
    },
    {
     "name": "stdout",
     "output_type": "stream",
     "text": [
      " Average training loss: 1.01\n"
     ]
    },
    {
     "name": "stderr",
     "output_type": "stream",
     "text": [
      "100%|████████████████████████████████████████| 120/120 [00:00<00:00, 848.54it/s]\n"
     ]
    },
    {
     "name": "stdout",
     "output_type": "stream",
     "text": [
      " Average valid loss: 1.05\n",
      "AUC_SCORE:  0.6869404137079346  acc:  0.44166666666666665 f1:  0.5314685314685316\n",
      "18  EPOCH BEST MODEL!\n",
      "Test\n"
     ]
    },
    {
     "name": "stderr",
     "output_type": "stream",
     "text": [
      "100%|████████████████████████████████████████| 119/119 [00:00<00:00, 812.24it/s]\n"
     ]
    },
    {
     "name": "stdout",
     "output_type": "stream",
     "text": [
      " Average valid loss: 0.97\n",
      "AUC_SCORE:  0.7620387742338962  acc:  0.4789915966386555 f1:  0.5633802816901409\n",
      "EPOCHS:20\n",
      "TRAIN\n"
     ]
    },
    {
     "name": "stderr",
     "output_type": "stream",
     "text": [
      "100%|████████████████████████████████████████| 953/953 [00:08<00:00, 118.84it/s]\n"
     ]
    },
    {
     "name": "stdout",
     "output_type": "stream",
     "text": [
      " Average training loss: 1.00\n"
     ]
    },
    {
     "name": "stderr",
     "output_type": "stream",
     "text": [
      "100%|████████████████████████████████████████| 120/120 [00:00<00:00, 847.72it/s]\n"
     ]
    },
    {
     "name": "stdout",
     "output_type": "stream",
     "text": [
      " Average valid loss: 1.04\n",
      "AUC_SCORE:  0.6857054646495832  acc:  0.4666666666666667 f1:  0.5428571428571428\n",
      "19  EPOCH BEST MODEL!\n",
      "Test\n"
     ]
    },
    {
     "name": "stderr",
     "output_type": "stream",
     "text": [
      "100%|████████████████████████████████████████| 119/119 [00:00<00:00, 851.34it/s]\n"
     ]
    },
    {
     "name": "stdout",
     "output_type": "stream",
     "text": [
      " Average valid loss: 0.96\n",
      "AUC_SCORE:  0.7645403377110694  acc:  0.4957983193277311 f1:  0.5652173913043479\n",
      "EPOCHS:21\n",
      "TRAIN\n"
     ]
    },
    {
     "name": "stderr",
     "output_type": "stream",
     "text": [
      "100%|████████████████████████████████████████| 953/953 [00:07<00:00, 119.95it/s]\n"
     ]
    },
    {
     "name": "stdout",
     "output_type": "stream",
     "text": [
      " Average training loss: 0.99\n"
     ]
    },
    {
     "name": "stderr",
     "output_type": "stream",
     "text": [
      "100%|████████████████████████████████████████| 120/120 [00:00<00:00, 858.71it/s]\n"
     ]
    },
    {
     "name": "stdout",
     "output_type": "stream",
     "text": [
      " Average valid loss: 1.05\n",
      "AUC_SCORE:  0.6844705155912318  acc:  0.4583333333333333 f1:  0.5390070921985816\n",
      "Test\n"
     ]
    },
    {
     "name": "stderr",
     "output_type": "stream",
     "text": [
      "100%|████████████████████████████████████████| 119/119 [00:00<00:00, 840.88it/s]\n"
     ]
    },
    {
     "name": "stdout",
     "output_type": "stream",
     "text": [
      " Average valid loss: 0.96\n",
      "AUC_SCORE:  0.7664165103189493  acc:  0.48739495798319327 f1:  0.5611510791366906\n",
      "EPOCHS:22\n",
      "TRAIN\n"
     ]
    },
    {
     "name": "stderr",
     "output_type": "stream",
     "text": [
      "100%|████████████████████████████████████████| 953/953 [00:07<00:00, 120.17it/s]\n"
     ]
    },
    {
     "name": "stdout",
     "output_type": "stream",
     "text": [
      " Average training loss: 0.99\n"
     ]
    },
    {
     "name": "stderr",
     "output_type": "stream",
     "text": [
      "100%|████████████████████████████████████████| 120/120 [00:00<00:00, 859.24it/s]\n"
     ]
    },
    {
     "name": "stdout",
     "output_type": "stream",
     "text": [
      " Average valid loss: 1.05\n",
      "AUC_SCORE:  0.6838530410620562  acc:  0.4583333333333333 f1:  0.5390070921985816\n",
      "Test\n"
     ]
    },
    {
     "name": "stderr",
     "output_type": "stream",
     "text": [
      "100%|████████████████████████████████████████| 119/119 [00:00<00:00, 842.62it/s]\n"
     ]
    },
    {
     "name": "stdout",
     "output_type": "stream",
     "text": [
      " Average valid loss: 0.96\n",
      "AUC_SCORE:  0.7679799874921827  acc:  0.4789915966386555 f1:  0.5507246376811594\n",
      "EPOCHS:23\n",
      "TRAIN\n"
     ]
    },
    {
     "name": "stderr",
     "output_type": "stream",
     "text": [
      "100%|████████████████████████████████████████| 953/953 [00:07<00:00, 120.42it/s]\n"
     ]
    },
    {
     "name": "stdout",
     "output_type": "stream",
     "text": [
      " Average training loss: 0.99\n"
     ]
    },
    {
     "name": "stderr",
     "output_type": "stream",
     "text": [
      "100%|████████████████████████████████████████| 120/120 [00:00<00:00, 861.36it/s]\n"
     ]
    },
    {
     "name": "stdout",
     "output_type": "stream",
     "text": [
      " Average valid loss: 1.05\n",
      "AUC_SCORE:  0.6829268292682927  acc:  0.44166666666666665 f1:  0.5314685314685316\n",
      "Test\n"
     ]
    },
    {
     "name": "stderr",
     "output_type": "stream",
     "text": [
      "100%|████████████████████████████████████████| 119/119 [00:00<00:00, 853.75it/s]\n"
     ]
    },
    {
     "name": "stdout",
     "output_type": "stream",
     "text": [
      " Average valid loss: 0.96\n",
      "AUC_SCORE:  0.764853033145716  acc:  0.4789915966386555 f1:  0.5507246376811594\n",
      "EPOCHS:24\n",
      "TRAIN\n"
     ]
    },
    {
     "name": "stderr",
     "output_type": "stream",
     "text": [
      "100%|████████████████████████████████████████| 953/953 [00:07<00:00, 120.93it/s]\n"
     ]
    },
    {
     "name": "stdout",
     "output_type": "stream",
     "text": [
      " Average training loss: 0.98\n"
     ]
    },
    {
     "name": "stderr",
     "output_type": "stream",
     "text": [
      "100%|████████████████████████████████████████| 120/120 [00:00<00:00, 868.59it/s]\n"
     ]
    },
    {
     "name": "stdout",
     "output_type": "stream",
     "text": [
      " Average valid loss: 1.04\n",
      "AUC_SCORE:  0.6820006174745292  acc:  0.4666666666666667 f1:  0.5428571428571428\n",
      "Test\n"
     ]
    },
    {
     "name": "stderr",
     "output_type": "stream",
     "text": [
      "100%|████████████████████████████████████████| 119/119 [00:00<00:00, 851.75it/s]\n"
     ]
    },
    {
     "name": "stdout",
     "output_type": "stream",
     "text": [
      " Average valid loss: 0.96\n",
      "AUC_SCORE:  0.7632895559724827  acc:  0.5042016806722689 f1:  0.562962962962963\n",
      "EPOCHS:25\n",
      "TRAIN\n"
     ]
    },
    {
     "name": "stderr",
     "output_type": "stream",
     "text": [
      "100%|████████████████████████████████████████| 953/953 [00:07<00:00, 120.50it/s]\n"
     ]
    },
    {
     "name": "stdout",
     "output_type": "stream",
     "text": [
      " Average training loss: 0.98\n"
     ]
    },
    {
     "name": "stderr",
     "output_type": "stream",
     "text": [
      "100%|████████████████████████████████████████| 120/120 [00:00<00:00, 872.70it/s]"
     ]
    },
    {
     "name": "stdout",
     "output_type": "stream",
     "text": [
      " Average valid loss: 1.04\n",
      "AUC_SCORE:  0.6807656684161778  acc:  0.49166666666666664 f1:  0.5547445255474452\n",
      "24  EPOCH BEST MODEL!\n"
     ]
    },
    {
     "name": "stderr",
     "output_type": "stream",
     "text": [
      "\n"
     ]
    },
    {
     "name": "stdout",
     "output_type": "stream",
     "text": [
      "Test\n"
     ]
    },
    {
     "name": "stderr",
     "output_type": "stream",
     "text": [
      "100%|████████████████████████████████████████| 119/119 [00:00<00:00, 860.62it/s]\n"
     ]
    },
    {
     "name": "stdout",
     "output_type": "stream",
     "text": [
      " Average valid loss: 0.95\n",
      "AUC_SCORE:  0.7651657285803627  acc:  0.5210084033613446 f1:  0.5648854961832062\n",
      "EPOCHS:26\n",
      "TRAIN\n"
     ]
    },
    {
     "name": "stderr",
     "output_type": "stream",
     "text": [
      "100%|████████████████████████████████████████| 953/953 [00:07<00:00, 120.46it/s]\n"
     ]
    },
    {
     "name": "stdout",
     "output_type": "stream",
     "text": [
      " Average training loss: 0.99\n"
     ]
    },
    {
     "name": "stderr",
     "output_type": "stream",
     "text": [
      "100%|████████████████████████████████████████| 120/120 [00:00<00:00, 816.39it/s]\n"
     ]
    },
    {
     "name": "stdout",
     "output_type": "stream",
     "text": [
      " Average valid loss: 1.04\n",
      "AUC_SCORE:  0.6820006174745292  acc:  0.475 f1:  0.5467625899280575\n",
      "Test\n"
     ]
    },
    {
     "name": "stderr",
     "output_type": "stream",
     "text": [
      "100%|████████████████████████████████████████| 119/119 [00:00<00:00, 813.88it/s]\n"
     ]
    },
    {
     "name": "stdout",
     "output_type": "stream",
     "text": [
      " Average valid loss: 0.96\n",
      "AUC_SCORE:  0.7645403377110693  acc:  0.5294117647058824 f1:  0.5757575757575758\n",
      "EPOCHS:27\n",
      "TRAIN\n"
     ]
    },
    {
     "name": "stderr",
     "output_type": "stream",
     "text": [
      "100%|████████████████████████████████████████| 953/953 [00:08<00:00, 117.20it/s]\n"
     ]
    },
    {
     "name": "stdout",
     "output_type": "stream",
     "text": [
      " Average training loss: 0.98\n"
     ]
    },
    {
     "name": "stderr",
     "output_type": "stream",
     "text": [
      "100%|████████████████████████████████████████| 120/120 [00:00<00:00, 819.29it/s]\n"
     ]
    },
    {
     "name": "stdout",
     "output_type": "stream",
     "text": [
      " Average valid loss: 1.05\n",
      "AUC_SCORE:  0.6832355665328805  acc:  0.4583333333333333 f1:  0.5390070921985816\n",
      "Test\n"
     ]
    },
    {
     "name": "stderr",
     "output_type": "stream",
     "text": [
      "100%|████████████████████████████████████████| 119/119 [00:00<00:00, 827.56it/s]\n"
     ]
    },
    {
     "name": "stdout",
     "output_type": "stream",
     "text": [
      " Average valid loss: 0.96\n",
      "AUC_SCORE:  0.7617260787992495  acc:  0.5210084033613446 f1:  0.5714285714285715\n",
      "EPOCHS:28\n",
      "TRAIN\n"
     ]
    },
    {
     "name": "stderr",
     "output_type": "stream",
     "text": [
      "100%|████████████████████████████████████████| 953/953 [00:07<00:00, 119.51it/s]\n"
     ]
    },
    {
     "name": "stdout",
     "output_type": "stream",
     "text": [
      " Average training loss: 0.97\n"
     ]
    },
    {
     "name": "stderr",
     "output_type": "stream",
     "text": [
      "100%|████████████████████████████████████████| 120/120 [00:00<00:00, 867.48it/s]\n"
     ]
    },
    {
     "name": "stdout",
     "output_type": "stream",
     "text": [
      " Average valid loss: 1.04\n",
      "AUC_SCORE:  0.6826180920037048  acc:  0.49166666666666664 f1:  0.5547445255474452\n",
      "Test\n"
     ]
    },
    {
     "name": "stderr",
     "output_type": "stream",
     "text": [
      "100%|████████████████████████████████████████| 119/119 [00:00<00:00, 847.73it/s]\n"
     ]
    },
    {
     "name": "stdout",
     "output_type": "stream",
     "text": [
      " Average valid loss: 0.95\n",
      "AUC_SCORE:  0.7620387742338962  acc:  0.5210084033613446 f1:  0.5648854961832062\n",
      "EPOCHS:29\n",
      "TRAIN\n"
     ]
    },
    {
     "name": "stderr",
     "output_type": "stream",
     "text": [
      "100%|████████████████████████████████████████| 953/953 [00:07<00:00, 121.32it/s]\n"
     ]
    },
    {
     "name": "stdout",
     "output_type": "stream",
     "text": [
      " Average training loss: 0.96\n"
     ]
    },
    {
     "name": "stderr",
     "output_type": "stream",
     "text": [
      "100%|████████████████████████████████████████| 120/120 [00:00<00:00, 871.15it/s]"
     ]
    },
    {
     "name": "stdout",
     "output_type": "stream",
     "text": [
      " Average valid loss: 1.04\n",
      "AUC_SCORE:  0.6838530410620562  acc:  0.5 f1:  0.5588235294117647\n",
      "28  EPOCH BEST MODEL!\n"
     ]
    },
    {
     "name": "stderr",
     "output_type": "stream",
     "text": [
      "\n"
     ]
    },
    {
     "name": "stdout",
     "output_type": "stream",
     "text": [
      "Test\n"
     ]
    },
    {
     "name": "stderr",
     "output_type": "stream",
     "text": [
      "100%|████████████████████████████████████████| 119/119 [00:00<00:00, 857.03it/s]\n"
     ]
    },
    {
     "name": "stdout",
     "output_type": "stream",
     "text": [
      " Average valid loss: 0.95\n",
      "AUC_SCORE:  0.7582864290181364  acc:  0.5294117647058824 f1:  0.5692307692307692\n",
      "EPOCHS:30\n",
      "TRAIN\n"
     ]
    },
    {
     "name": "stderr",
     "output_type": "stream",
     "text": [
      "100%|████████████████████████████████████████| 953/953 [00:07<00:00, 122.84it/s]\n"
     ]
    },
    {
     "name": "stdout",
     "output_type": "stream",
     "text": [
      " Average training loss: 0.96\n"
     ]
    },
    {
     "name": "stderr",
     "output_type": "stream",
     "text": [
      "100%|████████████████████████████████████████| 120/120 [00:00<00:00, 858.54it/s]"
     ]
    },
    {
     "name": "stdout",
     "output_type": "stream",
     "text": [
      " Average valid loss: 1.04\n",
      "AUC_SCORE:  0.6838530410620562  acc:  0.5166666666666667 f1:  0.5606060606060607\n",
      "29  EPOCH BEST MODEL!\n"
     ]
    },
    {
     "name": "stderr",
     "output_type": "stream",
     "text": [
      "\n"
     ]
    },
    {
     "name": "stdout",
     "output_type": "stream",
     "text": [
      "Test\n"
     ]
    },
    {
     "name": "stderr",
     "output_type": "stream",
     "text": [
      "100%|████████████████████████████████████████| 119/119 [00:00<00:00, 849.21it/s]\n"
     ]
    },
    {
     "name": "stdout",
     "output_type": "stream",
     "text": [
      " Average valid loss: 0.95\n",
      "AUC_SCORE:  0.7579737335834896  acc:  0.5210084033613446 f1:  0.558139534883721\n",
      "EPOCHS:31\n",
      "TRAIN\n"
     ]
    },
    {
     "name": "stderr",
     "output_type": "stream",
     "text": [
      "100%|████████████████████████████████████████| 953/953 [00:07<00:00, 121.31it/s]\n"
     ]
    },
    {
     "name": "stdout",
     "output_type": "stream",
     "text": [
      " Average training loss: 0.95\n"
     ]
    },
    {
     "name": "stderr",
     "output_type": "stream",
     "text": [
      "100%|████████████████████████████████████████| 120/120 [00:00<00:00, 856.14it/s]\n"
     ]
    },
    {
     "name": "stdout",
     "output_type": "stream",
     "text": [
      " Average valid loss: 1.04\n",
      "AUC_SCORE:  0.68045693115159  acc:  0.5166666666666667 f1:  0.5606060606060607\n",
      "Test\n"
     ]
    },
    {
     "name": "stderr",
     "output_type": "stream",
     "text": [
      "100%|████████████████████████████████████████| 119/119 [00:00<00:00, 841.69it/s]\n"
     ]
    },
    {
     "name": "stdout",
     "output_type": "stream",
     "text": [
      " Average valid loss: 0.95\n",
      "AUC_SCORE:  0.7579737335834897  acc:  0.5210084033613446 f1:  0.558139534883721\n",
      "EPOCHS:32\n",
      "TRAIN\n"
     ]
    },
    {
     "name": "stderr",
     "output_type": "stream",
     "text": [
      "100%|████████████████████████████████████████| 953/953 [00:07<00:00, 120.13it/s]\n"
     ]
    },
    {
     "name": "stdout",
     "output_type": "stream",
     "text": [
      " Average training loss: 0.97\n"
     ]
    },
    {
     "name": "stderr",
     "output_type": "stream",
     "text": [
      "100%|████████████████████████████████████████| 120/120 [00:00<00:00, 858.27it/s]\n"
     ]
    },
    {
     "name": "stdout",
     "output_type": "stream",
     "text": [
      " Average valid loss: 1.04\n",
      "AUC_SCORE:  0.6798394566224144  acc:  0.5333333333333333 f1:  0.5692307692307692\n",
      "31  EPOCH BEST MODEL!\n",
      "Test\n"
     ]
    },
    {
     "name": "stderr",
     "output_type": "stream",
     "text": [
      "100%|████████████████████████████████████████| 119/119 [00:00<00:00, 848.51it/s]\n"
     ]
    },
    {
     "name": "stdout",
     "output_type": "stream",
     "text": [
      " Average valid loss: 0.95\n",
      "AUC_SCORE:  0.7573483427141964  acc:  0.5294117647058824 f1:  0.5625\n",
      "EPOCHS:33\n",
      "TRAIN\n"
     ]
    },
    {
     "name": "stderr",
     "output_type": "stream",
     "text": [
      "100%|████████████████████████████████████████| 953/953 [00:07<00:00, 121.90it/s]\n"
     ]
    },
    {
     "name": "stdout",
     "output_type": "stream",
     "text": [
      " Average training loss: 0.96\n"
     ]
    },
    {
     "name": "stderr",
     "output_type": "stream",
     "text": [
      "100%|████████████████████████████████████████| 120/120 [00:00<00:00, 856.48it/s]\n"
     ]
    },
    {
     "name": "stdout",
     "output_type": "stream",
     "text": [
      " Average valid loss: 1.05\n",
      "AUC_SCORE:  0.6798394566224144  acc:  0.5083333333333333 f1:  0.556390977443609\n",
      "Test\n"
     ]
    },
    {
     "name": "stderr",
     "output_type": "stream",
     "text": [
      "100%|████████████████████████████████████████| 119/119 [00:00<00:00, 847.87it/s]\n"
     ]
    },
    {
     "name": "stdout",
     "output_type": "stream",
     "text": [
      " Average valid loss: 0.95\n",
      "AUC_SCORE:  0.7554721701063165  acc:  0.5294117647058824 f1:  0.5625\n",
      "EPOCHS:34\n",
      "TRAIN\n"
     ]
    },
    {
     "name": "stderr",
     "output_type": "stream",
     "text": [
      "100%|████████████████████████████████████████| 953/953 [00:07<00:00, 121.45it/s]\n"
     ]
    },
    {
     "name": "stdout",
     "output_type": "stream",
     "text": [
      " Average training loss: 0.96\n"
     ]
    },
    {
     "name": "stderr",
     "output_type": "stream",
     "text": [
      "100%|████████████████████████████████████████| 120/120 [00:00<00:00, 864.72it/s]\n"
     ]
    },
    {
     "name": "stdout",
     "output_type": "stream",
     "text": [
      " Average valid loss: 1.05\n",
      "AUC_SCORE:  0.6795307193578265  acc:  0.49166666666666664 f1:  0.5481481481481482\n",
      "Test\n"
     ]
    },
    {
     "name": "stderr",
     "output_type": "stream",
     "text": [
      "100%|████████████████████████████████████████| 119/119 [00:00<00:00, 851.32it/s]\n"
     ]
    },
    {
     "name": "stdout",
     "output_type": "stream",
     "text": [
      " Average valid loss: 0.96\n",
      "AUC_SCORE:  0.7523452157598499  acc:  0.5210084033613446 f1:  0.5648854961832062\n",
      "EPOCHS:35\n",
      "TRAIN\n"
     ]
    },
    {
     "name": "stderr",
     "output_type": "stream",
     "text": [
      "100%|████████████████████████████████████████| 953/953 [00:07<00:00, 120.78it/s]\n"
     ]
    },
    {
     "name": "stdout",
     "output_type": "stream",
     "text": [
      " Average training loss: 0.95\n"
     ]
    },
    {
     "name": "stderr",
     "output_type": "stream",
     "text": [
      "100%|████████████████████████████████████████| 120/120 [00:00<00:00, 858.42it/s]\n"
     ]
    },
    {
     "name": "stdout",
     "output_type": "stream",
     "text": [
      " Average valid loss: 1.04\n",
      "AUC_SCORE:  0.6801481938870022  acc:  0.525 f1:  0.5648854961832062\n",
      "Test\n"
     ]
    },
    {
     "name": "stderr",
     "output_type": "stream",
     "text": [
      "100%|████████████████████████████████████████| 119/119 [00:00<00:00, 845.90it/s]\n"
     ]
    },
    {
     "name": "stdout",
     "output_type": "stream",
     "text": [
      " Average valid loss: 0.96\n",
      "AUC_SCORE:  0.7498436522826767  acc:  0.5378151260504201 f1:  0.5669291338582677\n",
      "EPOCHS:36\n",
      "TRAIN\n"
     ]
    },
    {
     "name": "stderr",
     "output_type": "stream",
     "text": [
      "100%|████████████████████████████████████████| 953/953 [00:07<00:00, 120.51it/s]\n"
     ]
    },
    {
     "name": "stdout",
     "output_type": "stream",
     "text": [
      " Average training loss: 0.94\n"
     ]
    },
    {
     "name": "stderr",
     "output_type": "stream",
     "text": [
      "100%|████████████████████████████████████████| 120/120 [00:00<00:00, 852.60it/s]\n"
     ]
    },
    {
     "name": "stdout",
     "output_type": "stream",
     "text": [
      " Average valid loss: 1.05\n",
      "AUC_SCORE:  0.6776782957702995  acc:  0.5 f1:  0.5522388059701492\n",
      "Test\n"
     ]
    },
    {
     "name": "stderr",
     "output_type": "stream",
     "text": [
      "100%|████████████████████████████████████████| 119/119 [00:00<00:00, 837.14it/s]\n"
     ]
    },
    {
     "name": "stdout",
     "output_type": "stream",
     "text": [
      " Average valid loss: 0.96\n",
      "AUC_SCORE:  0.7464040025015634  acc:  0.5210084033613446 f1:  0.558139534883721\n",
      "EPOCHS:37\n",
      "TRAIN\n"
     ]
    },
    {
     "name": "stderr",
     "output_type": "stream",
     "text": [
      "100%|████████████████████████████████████████| 953/953 [00:08<00:00, 118.93it/s]\n"
     ]
    },
    {
     "name": "stdout",
     "output_type": "stream",
     "text": [
      " Average training loss: 0.94\n"
     ]
    },
    {
     "name": "stderr",
     "output_type": "stream",
     "text": [
      "100%|████████████████████████████████████████| 120/120 [00:00<00:00, 864.74it/s]\n"
     ]
    },
    {
     "name": "stdout",
     "output_type": "stream",
     "text": [
      " Average valid loss: 1.04\n",
      "AUC_SCORE:  0.6792219820932387  acc:  0.5333333333333333 f1:  0.5692307692307692\n",
      "Test\n"
     ]
    },
    {
     "name": "stderr",
     "output_type": "stream",
     "text": [
      "100%|████████████████████████████████████████| 119/119 [00:00<00:00, 857.43it/s]\n"
     ]
    },
    {
     "name": "stdout",
     "output_type": "stream",
     "text": [
      " Average valid loss: 0.96\n",
      "AUC_SCORE:  0.7445278298936835  acc:  0.5630252100840336 f1:  0.5806451612903226\n",
      "EPOCHS:38\n",
      "TRAIN\n"
     ]
    },
    {
     "name": "stderr",
     "output_type": "stream",
     "text": [
      "100%|████████████████████████████████████████| 953/953 [00:08<00:00, 118.89it/s]\n"
     ]
    },
    {
     "name": "stdout",
     "output_type": "stream",
     "text": [
      " Average training loss: 0.93\n"
     ]
    },
    {
     "name": "stderr",
     "output_type": "stream",
     "text": [
      "100%|████████████████████████████████████████| 120/120 [00:00<00:00, 843.18it/s]\n"
     ]
    },
    {
     "name": "stdout",
     "output_type": "stream",
     "text": [
      " Average valid loss: 1.04\n",
      "AUC_SCORE:  0.6816918802099413  acc:  0.5333333333333333 f1:  0.5692307692307692\n",
      "Test\n"
     ]
    },
    {
     "name": "stderr",
     "output_type": "stream",
     "text": [
      "100%|████████████████████████████████████████| 119/119 [00:00<00:00, 831.79it/s]\n"
     ]
    },
    {
     "name": "stdout",
     "output_type": "stream",
     "text": [
      " Average valid loss: 0.96\n",
      "AUC_SCORE:  0.7429643527204502  acc:  0.5630252100840336 f1:  0.5806451612903226\n",
      "EPOCHS:39\n",
      "TRAIN\n"
     ]
    },
    {
     "name": "stderr",
     "output_type": "stream",
     "text": [
      "100%|████████████████████████████████████████| 953/953 [00:07<00:00, 120.11it/s]\n"
     ]
    },
    {
     "name": "stdout",
     "output_type": "stream",
     "text": [
      " Average training loss: 0.93\n"
     ]
    },
    {
     "name": "stderr",
     "output_type": "stream",
     "text": [
      "100%|████████████████████████████████████████| 120/120 [00:00<00:00, 862.74it/s]\n"
     ]
    },
    {
     "name": "stdout",
     "output_type": "stream",
     "text": [
      " Average valid loss: 1.04\n",
      "AUC_SCORE:  0.68045693115159  acc:  0.55 f1:  0.578125\n",
      "38  EPOCH BEST MODEL!\n",
      "Test\n"
     ]
    },
    {
     "name": "stderr",
     "output_type": "stream",
     "text": [
      "100%|████████████████████████████████████████| 119/119 [00:00<00:00, 856.66it/s]\n"
     ]
    },
    {
     "name": "stdout",
     "output_type": "stream",
     "text": [
      " Average valid loss: 0.96\n",
      "AUC_SCORE:  0.7407754846779238  acc:  0.5714285714285714 f1:  0.5853658536585366\n",
      "EPOCHS:40\n",
      "TRAIN\n"
     ]
    },
    {
     "name": "stderr",
     "output_type": "stream",
     "text": [
      "100%|████████████████████████████████████████| 953/953 [00:07<00:00, 120.75it/s]\n"
     ]
    },
    {
     "name": "stdout",
     "output_type": "stream",
     "text": [
      " Average training loss: 0.94\n"
     ]
    },
    {
     "name": "stderr",
     "output_type": "stream",
     "text": [
      "100%|████████████████████████████████████████| 120/120 [00:00<00:00, 866.94it/s]\n"
     ]
    },
    {
     "name": "stdout",
     "output_type": "stream",
     "text": [
      " Average valid loss: 1.04\n",
      "AUC_SCORE:  0.6810744056807656  acc:  0.5666666666666667 f1:  0.5737704918032787\n",
      "Test\n"
     ]
    },
    {
     "name": "stderr",
     "output_type": "stream",
     "text": [
      "100%|████████████████████████████████████████| 119/119 [00:00<00:00, 850.96it/s]\n"
     ]
    },
    {
     "name": "stdout",
     "output_type": "stream",
     "text": [
      " Average valid loss: 0.96\n",
      "AUC_SCORE:  0.7392120075046904  acc:  0.5882352941176471 f1:  0.5882352941176471\n"
     ]
    },
    {
     "name": "stderr",
     "output_type": "stream",
     "text": [
      "100%|████████████████████████████████████████| 119/119 [00:00<00:00, 853.91it/s]\n"
     ]
    },
    {
     "name": "stdout",
     "output_type": "stream",
     "text": [
      " Average valid loss: 0.96\n",
      "AUC_SCORE:  0.7407754846779238  acc:  0.5714285714285714 f1:  0.5853658536585366\n",
      "BEST MODEL\n",
      "AUC_SCORE:  0.7407754846779238  acc:  0.5714285714285714 f1:  0.5853658536585366\n",
      "{'auc_micro': 0.7407754846779238, 'acc': 0.5714285714285714, 'f1': 0.5853658536585366, 'pred': [[1, 1, 0, 1, 1, 1, 1, 1, 0, 1], [0, 1, 1, 1, 1, 0, 0, 1, 1, 1], [1, 1, 1, 1, 0, 0, 0, 1, 1, 0], [1, 0, 0, 1, 1, 1, 1, 0, 1, 1], [1, 0, 1, 1, 1, 1, 1, 1, 0, 0], [0, 1, 1, 1, 0, 1, 0, 1, 1, 1], [1, 1, 0, 1, 1, 1, 1, 1, 1, 1], [0, 1, 1, 1, 1, 0, 1, 0, 0, 0], [1, 1, 0, 1, 1, 1, 1, 1, 1, 1], [0, 0, 1, 1, 0, 1, 1, 1, 1, 0], [0, 0, 0, 1, 1, 0, 1, 1, 0, 1], [1, 0, 1, 1, 0, 1, 0, 1, 1], [], [], [], [], [], [], []]}\n"
     ]
    }
   ],
   "source": [
    "bert2 = BertModel().to('cuda')\n",
    "score = fit(bert2, train_data,valid_data,test_data,EPOCHS=40)\n",
    "print(score)"
   ]
  },
  {
   "cell_type": "code",
   "execution_count": null,
   "id": "cba47e22",
   "metadata": {},
   "outputs": [],
   "source": []
  },
  {
   "cell_type": "markdown",
   "id": "662124a1",
   "metadata": {},
   "source": [
    "# Doc2vec"
   ]
  },
  {
   "cell_type": "code",
   "execution_count": 16,
   "id": "1d6032a2",
   "metadata": {},
   "outputs": [],
   "source": [
    "from gensim.models.doc2vec import Doc2Vec, TaggedDocument"
   ]
  },
  {
   "cell_type": "code",
   "execution_count": 17,
   "id": "2151286c",
   "metadata": {},
   "outputs": [],
   "source": [
    "path1 = 'doc2vec/'\n",
    "path2 = 'data/scriptbase/'\n",
    "filenames = os.listdir(path1)\n",
    "train_data = []\n",
    "valid_data = []\n",
    "test_data = []\n",
    "one = 0\n",
    "zero = 0\n",
    "end = torch.ones(1,1,384)\n",
    "\n",
    "for filename in filenames:\n",
    "    genres = []\n",
    "    movie_name = filename[:-14]\n",
    "    cult = 0\n",
    "    with open(path2+movie_name+'/processed/imdb_meta.txt','r') as f:\n",
    "        lines = f.readlines()\n",
    "        for line in lines:\n",
    "            if 'keyword' in line:\n",
    "                try:\n",
    "                    keyword  = line.strip().split('\\t')[1]\n",
    "                    keywords.append(keyword)\n",
    "                except:\n",
    "                    pass\n",
    "                if 'cult film'==keyword:\n",
    "                    cult = 1\n",
    "        \n",
    "    w2v=Doc2Vec.load(path1 + filename)\n",
    "    base = 'scene_'\n",
    "    scene_num = 0\n",
    "    max_scene = 0\n",
    "    for node in w2v.dv.index_to_key:\n",
    "        if base in node:\n",
    "            scene_num += 1\n",
    "            if int(node[6:])>max_scene:\n",
    "                max_scene = int(node[6:])\n",
    "    embs = torch.zeros(1,scene_num+1,384)\n",
    "    k = 0\n",
    "    for i in range(1,max_scene+1):\n",
    "        emb_name = base + str(i)\n",
    "        if emb_name in w2v.dv.index_to_key:\n",
    "            emb = w2v.dv[emb_name]\n",
    "            emb = torch.from_numpy(emb)\n",
    "            embs[0][k] = emb\n",
    "            k += 1\n",
    "    embs[0][-1] = end\n",
    "        \n",
    "        \n",
    "    rand = random.randint(0,100)    \n",
    "    if movie_name in movie_split['train']:\n",
    "        train_data.append([embs, [cult]])\n",
    "    elif movie_name in movie_split['valid']:\n",
    "        valid_data.append([embs, [cult]])\n",
    "    \n",
    "    elif movie_name in movie_split['test']:\n",
    "        test_data.append([embs, [cult]])\n",
    "    \n",
    "    if cult:\n",
    "        one += 1\n",
    "    else:\n",
    "        zero += 1"
   ]
  },
  {
   "cell_type": "code",
   "execution_count": 18,
   "id": "2eae8e4f",
   "metadata": {},
   "outputs": [
    {
     "name": "stdout",
     "output_type": "stream",
     "text": [
      "EPOCHS:1\n",
      "TRAIN\n"
     ]
    },
    {
     "name": "stderr",
     "output_type": "stream",
     "text": [
      "100%|████████████████████████████████████████| 963/963 [00:08<00:00, 119.77it/s]\n"
     ]
    },
    {
     "name": "stdout",
     "output_type": "stream",
     "text": [
      " Average training loss: 1.10\n"
     ]
    },
    {
     "name": "stderr",
     "output_type": "stream",
     "text": [
      "100%|████████████████████████████████████████| 120/120 [00:00<00:00, 939.51it/s]\n"
     ]
    },
    {
     "name": "stdout",
     "output_type": "stream",
     "text": [
      " Average valid loss: 1.09\n",
      "AUC_SCORE:  0.610991046619327  acc:  0.3416666666666667 f1:  0.5093167701863354\n",
      "Test\n"
     ]
    },
    {
     "name": "stderr",
     "output_type": "stream",
     "text": [
      "100%|████████████████████████████████████████| 121/121 [00:00<00:00, 912.19it/s]\n"
     ]
    },
    {
     "name": "stdout",
     "output_type": "stream",
     "text": [
      " Average valid loss: 1.09\n",
      "AUC_SCORE:  0.5618902439024389  acc:  0.33884297520661155 f1:  0.5061728395061729\n",
      "EPOCHS:2\n",
      "TRAIN\n"
     ]
    },
    {
     "name": "stderr",
     "output_type": "stream",
     "text": [
      "100%|████████████████████████████████████████| 963/963 [00:08<00:00, 120.19it/s]\n"
     ]
    },
    {
     "name": "stdout",
     "output_type": "stream",
     "text": [
      " Average training loss: 1.09\n"
     ]
    },
    {
     "name": "stderr",
     "output_type": "stream",
     "text": [
      "100%|████████████████████████████████████████| 120/120 [00:00<00:00, 922.86it/s]\n"
     ]
    },
    {
     "name": "stdout",
     "output_type": "stream",
     "text": [
      " Average valid loss: 1.09\n",
      "AUC_SCORE:  0.5964803951836987  acc:  0.3416666666666667 f1:  0.5093167701863354\n",
      "Test\n"
     ]
    },
    {
     "name": "stderr",
     "output_type": "stream",
     "text": [
      "100%|████████████████████████████████████████| 121/121 [00:00<00:00, 927.35it/s]\n"
     ]
    },
    {
     "name": "stdout",
     "output_type": "stream",
     "text": [
      " Average valid loss: 1.09\n",
      "AUC_SCORE:  0.561280487804878  acc:  0.33884297520661155 f1:  0.5061728395061729\n",
      "EPOCHS:3\n",
      "TRAIN\n"
     ]
    },
    {
     "name": "stderr",
     "output_type": "stream",
     "text": [
      "100%|████████████████████████████████████████| 963/963 [00:07<00:00, 120.78it/s]\n"
     ]
    },
    {
     "name": "stdout",
     "output_type": "stream",
     "text": [
      " Average training loss: 1.09\n"
     ]
    },
    {
     "name": "stderr",
     "output_type": "stream",
     "text": [
      "100%|████████████████████████████████████████| 120/120 [00:00<00:00, 935.98it/s]\n"
     ]
    },
    {
     "name": "stdout",
     "output_type": "stream",
     "text": [
      " Average valid loss: 1.09\n",
      "AUC_SCORE:  0.5804260574251312  acc:  0.3416666666666667 f1:  0.5093167701863354\n",
      "Test\n"
     ]
    },
    {
     "name": "stderr",
     "output_type": "stream",
     "text": [
      "100%|████████████████████████████████████████| 121/121 [00:00<00:00, 932.17it/s]\n"
     ]
    },
    {
     "name": "stdout",
     "output_type": "stream",
     "text": [
      " Average valid loss: 1.09\n",
      "AUC_SCORE:  0.5533536585365855  acc:  0.33884297520661155 f1:  0.5061728395061729\n",
      "EPOCHS:4\n",
      "TRAIN\n"
     ]
    },
    {
     "name": "stderr",
     "output_type": "stream",
     "text": [
      "100%|████████████████████████████████████████| 963/963 [00:07<00:00, 120.58it/s]\n"
     ]
    },
    {
     "name": "stdout",
     "output_type": "stream",
     "text": [
      " Average training loss: 1.09\n"
     ]
    },
    {
     "name": "stderr",
     "output_type": "stream",
     "text": [
      "100%|████████████████████████████████████████| 120/120 [00:00<00:00, 926.44it/s]\n"
     ]
    },
    {
     "name": "stdout",
     "output_type": "stream",
     "text": [
      " Average valid loss: 1.09\n",
      "AUC_SCORE:  0.565606668724915  acc:  0.3416666666666667 f1:  0.5093167701863354\n",
      "Test\n"
     ]
    },
    {
     "name": "stderr",
     "output_type": "stream",
     "text": [
      "100%|████████████████████████████████████████| 121/121 [00:00<00:00, 914.94it/s]\n"
     ]
    },
    {
     "name": "stdout",
     "output_type": "stream",
     "text": [
      " Average valid loss: 1.09\n",
      "AUC_SCORE:  0.5564024390243902  acc:  0.33884297520661155 f1:  0.5061728395061729\n",
      "EPOCHS:5\n",
      "TRAIN\n"
     ]
    },
    {
     "name": "stderr",
     "output_type": "stream",
     "text": [
      "100%|████████████████████████████████████████| 963/963 [00:07<00:00, 121.40it/s]\n"
     ]
    },
    {
     "name": "stdout",
     "output_type": "stream",
     "text": [
      " Average training loss: 1.08\n"
     ]
    },
    {
     "name": "stderr",
     "output_type": "stream",
     "text": [
      "100%|████████████████████████████████████████| 120/120 [00:00<00:00, 926.53it/s]\n"
     ]
    },
    {
     "name": "stdout",
     "output_type": "stream",
     "text": [
      " Average valid loss: 1.09\n",
      "AUC_SCORE:  0.5476999073788207  acc:  0.3416666666666667 f1:  0.5093167701863354\n",
      "Test\n"
     ]
    },
    {
     "name": "stderr",
     "output_type": "stream",
     "text": [
      "100%|████████████████████████████████████████| 121/121 [00:00<00:00, 928.51it/s]\n"
     ]
    },
    {
     "name": "stdout",
     "output_type": "stream",
     "text": [
      " Average valid loss: 1.09\n",
      "AUC_SCORE:  0.5573170731707318  acc:  0.33884297520661155 f1:  0.5061728395061729\n",
      "EPOCHS:6\n",
      "TRAIN\n"
     ]
    },
    {
     "name": "stderr",
     "output_type": "stream",
     "text": [
      "100%|████████████████████████████████████████| 963/963 [00:07<00:00, 121.18it/s]\n"
     ]
    },
    {
     "name": "stdout",
     "output_type": "stream",
     "text": [
      " Average training loss: 1.08\n"
     ]
    },
    {
     "name": "stderr",
     "output_type": "stream",
     "text": [
      "100%|████████████████████████████████████████| 120/120 [00:00<00:00, 926.42it/s]\n"
     ]
    },
    {
     "name": "stdout",
     "output_type": "stream",
     "text": [
      " Average valid loss: 1.09\n",
      "AUC_SCORE:  0.5368941031182464  acc:  0.3416666666666667 f1:  0.5093167701863354\n",
      "Test\n"
     ]
    },
    {
     "name": "stderr",
     "output_type": "stream",
     "text": [
      "100%|████████████████████████████████████████| 121/121 [00:00<00:00, 923.66it/s]\n"
     ]
    },
    {
     "name": "stdout",
     "output_type": "stream",
     "text": [
      " Average valid loss: 1.09\n",
      "AUC_SCORE:  0.5634146341463415  acc:  0.33884297520661155 f1:  0.5061728395061729\n",
      "EPOCHS:7\n",
      "TRAIN\n"
     ]
    },
    {
     "name": "stderr",
     "output_type": "stream",
     "text": [
      "100%|████████████████████████████████████████| 963/963 [00:07<00:00, 121.32it/s]\n"
     ]
    },
    {
     "name": "stdout",
     "output_type": "stream",
     "text": [
      " Average training loss: 1.08\n"
     ]
    },
    {
     "name": "stderr",
     "output_type": "stream",
     "text": [
      "100%|████████████████████████████████████████| 120/120 [00:00<00:00, 929.21it/s]\n"
     ]
    },
    {
     "name": "stdout",
     "output_type": "stream",
     "text": [
      " Average valid loss: 1.10\n",
      "AUC_SCORE:  0.524235875270145  acc:  0.3416666666666667 f1:  0.5093167701863354\n",
      "Test\n"
     ]
    },
    {
     "name": "stderr",
     "output_type": "stream",
     "text": [
      "100%|████████████████████████████████████████| 121/121 [00:00<00:00, 922.64it/s]\n"
     ]
    },
    {
     "name": "stdout",
     "output_type": "stream",
     "text": [
      " Average valid loss: 1.09\n",
      "AUC_SCORE:  0.5600609756097561  acc:  0.33884297520661155 f1:  0.5061728395061729\n",
      "EPOCHS:8\n",
      "TRAIN\n"
     ]
    },
    {
     "name": "stderr",
     "output_type": "stream",
     "text": [
      "100%|████████████████████████████████████████| 963/963 [00:07<00:00, 121.43it/s]\n"
     ]
    },
    {
     "name": "stdout",
     "output_type": "stream",
     "text": [
      " Average training loss: 1.07\n"
     ]
    },
    {
     "name": "stderr",
     "output_type": "stream",
     "text": [
      "100%|████████████████████████████████████████| 120/120 [00:00<00:00, 927.86it/s]\n"
     ]
    },
    {
     "name": "stdout",
     "output_type": "stream",
     "text": [
      " Average valid loss: 1.10\n",
      "AUC_SCORE:  0.5177523927138006  acc:  0.3416666666666667 f1:  0.5093167701863354\n",
      "Test\n"
     ]
    },
    {
     "name": "stderr",
     "output_type": "stream",
     "text": [
      "100%|████████████████████████████████████████| 121/121 [00:00<00:00, 929.81it/s]\n"
     ]
    },
    {
     "name": "stdout",
     "output_type": "stream",
     "text": [
      " Average valid loss: 1.08\n",
      "AUC_SCORE:  0.561280487804878  acc:  0.33884297520661155 f1:  0.5061728395061729\n",
      "EPOCHS:9\n",
      "TRAIN\n"
     ]
    },
    {
     "name": "stderr",
     "output_type": "stream",
     "text": [
      "100%|████████████████████████████████████████| 963/963 [00:07<00:00, 121.09it/s]\n"
     ]
    },
    {
     "name": "stdout",
     "output_type": "stream",
     "text": [
      " Average training loss: 1.07\n"
     ]
    },
    {
     "name": "stderr",
     "output_type": "stream",
     "text": [
      "100%|████████████████████████████████████████| 120/120 [00:00<00:00, 930.02it/s]\n"
     ]
    },
    {
     "name": "stdout",
     "output_type": "stream",
     "text": [
      " Average valid loss: 1.10\n",
      "AUC_SCORE:  0.5121951219512195  acc:  0.3416666666666667 f1:  0.5093167701863354\n",
      "Test\n"
     ]
    },
    {
     "name": "stderr",
     "output_type": "stream",
     "text": [
      "100%|████████████████████████████████████████| 121/121 [00:00<00:00, 921.63it/s]\n"
     ]
    },
    {
     "name": "stdout",
     "output_type": "stream",
     "text": [
      " Average valid loss: 1.08\n",
      "AUC_SCORE:  0.5646341463414635  acc:  0.33884297520661155 f1:  0.5061728395061729\n",
      "EPOCHS:10\n",
      "TRAIN\n"
     ]
    },
    {
     "name": "stderr",
     "output_type": "stream",
     "text": [
      "100%|████████████████████████████████████████| 963/963 [00:07<00:00, 120.94it/s]\n"
     ]
    },
    {
     "name": "stdout",
     "output_type": "stream",
     "text": [
      " Average training loss: 1.07\n"
     ]
    },
    {
     "name": "stderr",
     "output_type": "stream",
     "text": [
      "100%|████████████████████████████████████████| 120/120 [00:00<00:00, 930.34it/s]\n"
     ]
    },
    {
     "name": "stdout",
     "output_type": "stream",
     "text": [
      " Average valid loss: 1.10\n",
      "AUC_SCORE:  0.5044766903365236  acc:  0.35 f1:  0.5125\n",
      "9  EPOCH BEST MODEL!\n",
      "Test\n"
     ]
    },
    {
     "name": "stderr",
     "output_type": "stream",
     "text": [
      "100%|████████████████████████████████████████| 121/121 [00:00<00:00, 909.15it/s]\n"
     ]
    },
    {
     "name": "stdout",
     "output_type": "stream",
     "text": [
      " Average valid loss: 1.08\n",
      "AUC_SCORE:  0.5661585365853659  acc:  0.33884297520661155 f1:  0.5061728395061729\n",
      "EPOCHS:11\n",
      "TRAIN\n"
     ]
    },
    {
     "name": "stderr",
     "output_type": "stream",
     "text": [
      "100%|████████████████████████████████████████| 963/963 [00:07<00:00, 120.57it/s]\n"
     ]
    },
    {
     "name": "stdout",
     "output_type": "stream",
     "text": [
      " Average training loss: 1.06\n"
     ]
    },
    {
     "name": "stderr",
     "output_type": "stream",
     "text": [
      "100%|████████████████████████████████████████| 120/120 [00:00<00:00, 923.85it/s]\n"
     ]
    },
    {
     "name": "stdout",
     "output_type": "stream",
     "text": [
      " Average valid loss: 1.10\n",
      "AUC_SCORE:  0.4967582587218277  acc:  0.35833333333333334 f1:  0.5157232704402516\n",
      "10  EPOCH BEST MODEL!\n",
      "Test\n"
     ]
    },
    {
     "name": "stderr",
     "output_type": "stream",
     "text": [
      "100%|████████████████████████████████████████| 121/121 [00:00<00:00, 920.22it/s]\n"
     ]
    },
    {
     "name": "stdout",
     "output_type": "stream",
     "text": [
      " Average valid loss: 1.08\n",
      "AUC_SCORE:  0.5689024390243902  acc:  0.33884297520661155 f1:  0.5061728395061729\n",
      "EPOCHS:12\n",
      "TRAIN\n"
     ]
    },
    {
     "name": "stderr",
     "output_type": "stream",
     "text": [
      "100%|████████████████████████████████████████| 963/963 [00:07<00:00, 121.96it/s]\n"
     ]
    },
    {
     "name": "stdout",
     "output_type": "stream",
     "text": [
      " Average training loss: 1.06\n"
     ]
    },
    {
     "name": "stderr",
     "output_type": "stream",
     "text": [
      "100%|████████████████████████████████████████| 120/120 [00:00<00:00, 931.45it/s]\n"
     ]
    },
    {
     "name": "stdout",
     "output_type": "stream",
     "text": [
      " Average valid loss: 1.11\n",
      "AUC_SCORE:  0.48965730163630755  acc:  0.35833333333333334 f1:  0.5157232704402516\n",
      "Test\n"
     ]
    },
    {
     "name": "stderr",
     "output_type": "stream",
     "text": [
      "100%|████████████████████████████████████████| 121/121 [00:00<00:00, 930.26it/s]\n"
     ]
    },
    {
     "name": "stdout",
     "output_type": "stream",
     "text": [
      " Average valid loss: 1.08\n",
      "AUC_SCORE:  0.5710365853658537  acc:  0.3305785123966942 f1:  0.49689440993788825\n",
      "EPOCHS:13\n",
      "TRAIN\n"
     ]
    },
    {
     "name": "stderr",
     "output_type": "stream",
     "text": [
      "100%|████████████████████████████████████████| 963/963 [00:07<00:00, 121.16it/s]\n"
     ]
    },
    {
     "name": "stdout",
     "output_type": "stream",
     "text": [
      " Average training loss: 1.06\n"
     ]
    },
    {
     "name": "stderr",
     "output_type": "stream",
     "text": [
      "100%|████████████████████████████████████████| 120/120 [00:00<00:00, 930.39it/s]\n"
     ]
    },
    {
     "name": "stdout",
     "output_type": "stream",
     "text": [
      " Average valid loss: 1.11\n",
      "AUC_SCORE:  0.48965730163630755  acc:  0.35 f1:  0.5063291139240506\n",
      "Test\n"
     ]
    },
    {
     "name": "stderr",
     "output_type": "stream",
     "text": [
      "100%|████████████████████████████████████████| 121/121 [00:00<00:00, 924.28it/s]\n"
     ]
    },
    {
     "name": "stdout",
     "output_type": "stream",
     "text": [
      " Average valid loss: 1.08\n",
      "AUC_SCORE:  0.5704268292682927  acc:  0.3305785123966942 f1:  0.49689440993788825\n",
      "EPOCHS:14\n",
      "TRAIN\n"
     ]
    },
    {
     "name": "stderr",
     "output_type": "stream",
     "text": [
      "100%|████████████████████████████████████████| 963/963 [00:07<00:00, 121.29it/s]\n"
     ]
    },
    {
     "name": "stdout",
     "output_type": "stream",
     "text": [
      " Average training loss: 1.06\n"
     ]
    },
    {
     "name": "stderr",
     "output_type": "stream",
     "text": [
      "100%|████████████████████████████████████████| 120/120 [00:00<00:00, 933.27it/s]\n"
     ]
    },
    {
     "name": "stdout",
     "output_type": "stream",
     "text": [
      " Average valid loss: 1.11\n",
      "AUC_SCORE:  0.4844087681383143  acc:  0.36666666666666664 f1:  0.5128205128205128\n",
      "Test\n"
     ]
    },
    {
     "name": "stderr",
     "output_type": "stream",
     "text": [
      "100%|████████████████████████████████████████| 121/121 [00:00<00:00, 932.73it/s]\n"
     ]
    },
    {
     "name": "stdout",
     "output_type": "stream",
     "text": [
      " Average valid loss: 1.08\n",
      "AUC_SCORE:  0.5713414634146341  acc:  0.35537190082644626 f1:  0.5063291139240506\n",
      "EPOCHS:15\n",
      "TRAIN\n"
     ]
    },
    {
     "name": "stderr",
     "output_type": "stream",
     "text": [
      "100%|████████████████████████████████████████| 963/963 [00:07<00:00, 121.76it/s]\n"
     ]
    },
    {
     "name": "stdout",
     "output_type": "stream",
     "text": [
      " Average training loss: 1.05\n"
     ]
    },
    {
     "name": "stderr",
     "output_type": "stream",
     "text": [
      "100%|████████████████████████████████████████| 120/120 [00:00<00:00, 929.57it/s]\n"
     ]
    },
    {
     "name": "stdout",
     "output_type": "stream",
     "text": [
      " Average valid loss: 1.12\n",
      "AUC_SCORE:  0.4819388700216116  acc:  0.36666666666666664 f1:  0.5128205128205128\n",
      "Test\n"
     ]
    },
    {
     "name": "stderr",
     "output_type": "stream",
     "text": [
      "100%|████████████████████████████████████████| 121/121 [00:00<00:00, 934.45it/s]\n"
     ]
    },
    {
     "name": "stdout",
     "output_type": "stream",
     "text": [
      " Average valid loss: 1.09\n",
      "AUC_SCORE:  0.5692073170731707  acc:  0.35537190082644626 f1:  0.5063291139240506\n",
      "EPOCHS:16\n",
      "TRAIN\n"
     ]
    },
    {
     "name": "stderr",
     "output_type": "stream",
     "text": [
      "100%|████████████████████████████████████████| 963/963 [00:07<00:00, 121.16it/s]\n"
     ]
    },
    {
     "name": "stdout",
     "output_type": "stream",
     "text": [
      " Average training loss: 1.04\n"
     ]
    },
    {
     "name": "stderr",
     "output_type": "stream",
     "text": [
      "100%|████████████████████████████████████████| 120/120 [00:00<00:00, 933.21it/s]\n"
     ]
    },
    {
     "name": "stdout",
     "output_type": "stream",
     "text": [
      " Average valid loss: 1.12\n",
      "AUC_SCORE:  0.4732942266131522  acc:  0.35833333333333334 f1:  0.503225806451613\n",
      "Test\n"
     ]
    },
    {
     "name": "stderr",
     "output_type": "stream",
     "text": [
      "100%|████████████████████████████████████████| 121/121 [00:00<00:00, 931.65it/s]\n"
     ]
    },
    {
     "name": "stdout",
     "output_type": "stream",
     "text": [
      " Average valid loss: 1.09\n",
      "AUC_SCORE:  0.5673780487804878  acc:  0.371900826446281 f1:  0.5128205128205128\n",
      "EPOCHS:17\n",
      "TRAIN\n"
     ]
    },
    {
     "name": "stderr",
     "output_type": "stream",
     "text": [
      "100%|████████████████████████████████████████| 963/963 [00:08<00:00, 120.27it/s]\n"
     ]
    },
    {
     "name": "stdout",
     "output_type": "stream",
     "text": [
      " Average training loss: 1.04\n"
     ]
    },
    {
     "name": "stderr",
     "output_type": "stream",
     "text": [
      "100%|████████████████████████████████████████| 120/120 [00:00<00:00, 934.12it/s]\n"
     ]
    },
    {
     "name": "stdout",
     "output_type": "stream",
     "text": [
      " Average valid loss: 1.12\n",
      "AUC_SCORE:  0.4692806421735104  acc:  0.375 f1:  0.5098039215686275\n",
      "Test\n"
     ]
    },
    {
     "name": "stderr",
     "output_type": "stream",
     "text": [
      "100%|████████████████████████████████████████| 121/121 [00:00<00:00, 933.15it/s]\n"
     ]
    },
    {
     "name": "stdout",
     "output_type": "stream",
     "text": [
      " Average valid loss: 1.09\n",
      "AUC_SCORE:  0.5673780487804878  acc:  0.38016528925619836 f1:  0.5161290322580645\n",
      "EPOCHS:18\n",
      "TRAIN\n"
     ]
    },
    {
     "name": "stderr",
     "output_type": "stream",
     "text": [
      "100%|████████████████████████████████████████| 963/963 [00:08<00:00, 120.27it/s]\n"
     ]
    },
    {
     "name": "stdout",
     "output_type": "stream",
     "text": [
      " Average training loss: 1.04\n"
     ]
    },
    {
     "name": "stderr",
     "output_type": "stream",
     "text": [
      "100%|████████████████████████████████████████| 120/120 [00:00<00:00, 929.06it/s]\n"
     ]
    },
    {
     "name": "stdout",
     "output_type": "stream",
     "text": [
      " Average valid loss: 1.13\n",
      "AUC_SCORE:  0.46464958320469285  acc:  0.375 f1:  0.5098039215686275\n",
      "Test\n"
     ]
    },
    {
     "name": "stderr",
     "output_type": "stream",
     "text": [
      "100%|████████████████████████████████████████| 121/121 [00:00<00:00, 929.67it/s]\n"
     ]
    },
    {
     "name": "stdout",
     "output_type": "stream",
     "text": [
      " Average valid loss: 1.09\n",
      "AUC_SCORE:  0.5652439024390243  acc:  0.371900826446281 f1:  0.5\n",
      "EPOCHS:19\n",
      "TRAIN\n"
     ]
    },
    {
     "name": "stderr",
     "output_type": "stream",
     "text": [
      "100%|████████████████████████████████████████| 963/963 [00:08<00:00, 120.33it/s]\n"
     ]
    },
    {
     "name": "stdout",
     "output_type": "stream",
     "text": [
      " Average training loss: 1.04\n"
     ]
    },
    {
     "name": "stderr",
     "output_type": "stream",
     "text": [
      "100%|████████████████████████████████████████| 120/120 [00:00<00:00, 928.77it/s]\n"
     ]
    },
    {
     "name": "stdout",
     "output_type": "stream",
     "text": [
      " Average valid loss: 1.13\n",
      "AUC_SCORE:  0.4618709478234023  acc:  0.38333333333333336 f1:  0.5131578947368421\n",
      "Test\n"
     ]
    },
    {
     "name": "stderr",
     "output_type": "stream",
     "text": [
      "100%|████████████████████████████████████████| 121/121 [00:00<00:00, 923.36it/s]\n"
     ]
    },
    {
     "name": "stdout",
     "output_type": "stream",
     "text": [
      " Average valid loss: 1.09\n",
      "AUC_SCORE:  0.5643292682926829  acc:  0.38016528925619836 f1:  0.5033112582781456\n",
      "EPOCHS:20\n",
      "TRAIN\n"
     ]
    },
    {
     "name": "stderr",
     "output_type": "stream",
     "text": [
      "100%|████████████████████████████████████████| 963/963 [00:08<00:00, 119.99it/s]\n"
     ]
    },
    {
     "name": "stdout",
     "output_type": "stream",
     "text": [
      " Average training loss: 1.03\n"
     ]
    },
    {
     "name": "stderr",
     "output_type": "stream",
     "text": [
      "100%|████████████████████████████████████████| 120/120 [00:00<00:00, 931.80it/s]\n"
     ]
    },
    {
     "name": "stdout",
     "output_type": "stream",
     "text": [
      " Average valid loss: 1.14\n",
      "AUC_SCORE:  0.45878357517752394  acc:  0.35833333333333334 f1:  0.4832214765100671\n",
      "Test\n"
     ]
    },
    {
     "name": "stderr",
     "output_type": "stream",
     "text": [
      "100%|████████████████████████████████████████| 121/121 [00:00<00:00, 929.48it/s]\n"
     ]
    },
    {
     "name": "stdout",
     "output_type": "stream",
     "text": [
      " Average valid loss: 1.09\n",
      "AUC_SCORE:  0.563719512195122  acc:  0.371900826446281 f1:  0.49333333333333335\n",
      "EPOCHS:21\n",
      "TRAIN\n"
     ]
    },
    {
     "name": "stderr",
     "output_type": "stream",
     "text": [
      "100%|████████████████████████████████████████| 963/963 [00:08<00:00, 119.03it/s]\n"
     ]
    },
    {
     "name": "stdout",
     "output_type": "stream",
     "text": [
      " Average training loss: 1.02\n"
     ]
    },
    {
     "name": "stderr",
     "output_type": "stream",
     "text": [
      "100%|████████████████████████████████████████| 120/120 [00:00<00:00, 893.75it/s]\n"
     ]
    },
    {
     "name": "stdout",
     "output_type": "stream",
     "text": [
      " Average valid loss: 1.14\n",
      "AUC_SCORE:  0.4569311515899969  acc:  0.375 f1:  0.47552447552447547\n",
      "Test\n"
     ]
    },
    {
     "name": "stderr",
     "output_type": "stream",
     "text": [
      "100%|████████████████████████████████████████| 121/121 [00:00<00:00, 906.63it/s]\n"
     ]
    },
    {
     "name": "stdout",
     "output_type": "stream",
     "text": [
      " Average valid loss: 1.09\n",
      "AUC_SCORE:  0.5646341463414635  acc:  0.371900826446281 f1:  0.49333333333333335\n",
      "EPOCHS:22\n",
      "TRAIN\n"
     ]
    },
    {
     "name": "stderr",
     "output_type": "stream",
     "text": [
      "100%|████████████████████████████████████████| 963/963 [00:08<00:00, 118.48it/s]\n"
     ]
    },
    {
     "name": "stdout",
     "output_type": "stream",
     "text": [
      " Average training loss: 1.02\n"
     ]
    },
    {
     "name": "stderr",
     "output_type": "stream",
     "text": [
      "100%|████████████████████████████████████████| 120/120 [00:00<00:00, 908.84it/s]\n"
     ]
    },
    {
     "name": "stdout",
     "output_type": "stream",
     "text": [
      " Average valid loss: 1.15\n",
      "AUC_SCORE:  0.45631367706082127  acc:  0.375 f1:  0.47552447552447547\n",
      "Test\n"
     ]
    },
    {
     "name": "stderr",
     "output_type": "stream",
     "text": [
      "100%|████████████████████████████████████████| 121/121 [00:00<00:00, 898.50it/s]\n"
     ]
    },
    {
     "name": "stdout",
     "output_type": "stream",
     "text": [
      " Average valid loss: 1.10\n",
      "AUC_SCORE:  0.5646341463414635  acc:  0.371900826446281 f1:  0.49333333333333335\n",
      "EPOCHS:23\n",
      "TRAIN\n"
     ]
    },
    {
     "name": "stderr",
     "output_type": "stream",
     "text": [
      "100%|████████████████████████████████████████| 963/963 [00:07<00:00, 120.48it/s]\n"
     ]
    },
    {
     "name": "stdout",
     "output_type": "stream",
     "text": [
      " Average training loss: 1.01\n"
     ]
    },
    {
     "name": "stderr",
     "output_type": "stream",
     "text": [
      "100%|████████████████████████████████████████| 120/120 [00:00<00:00, 935.14it/s]\n"
     ]
    },
    {
     "name": "stdout",
     "output_type": "stream",
     "text": [
      " Average valid loss: 1.15\n",
      "AUC_SCORE:  0.4526088298857672  acc:  0.375 f1:  0.4680851063829787\n",
      "Test\n"
     ]
    },
    {
     "name": "stderr",
     "output_type": "stream",
     "text": [
      "100%|████████████████████████████████████████| 121/121 [00:00<00:00, 921.24it/s]\n"
     ]
    },
    {
     "name": "stdout",
     "output_type": "stream",
     "text": [
      " Average valid loss: 1.10\n",
      "AUC_SCORE:  0.5658536585365854  acc:  0.39669421487603307 f1:  0.5034013605442177\n",
      "EPOCHS:24\n",
      "TRAIN\n"
     ]
    },
    {
     "name": "stderr",
     "output_type": "stream",
     "text": [
      "100%|████████████████████████████████████████| 963/963 [00:08<00:00, 118.86it/s]\n"
     ]
    },
    {
     "name": "stdout",
     "output_type": "stream",
     "text": [
      " Average training loss: 1.02\n"
     ]
    },
    {
     "name": "stderr",
     "output_type": "stream",
     "text": [
      "100%|████████████████████████████████████████| 120/120 [00:00<00:00, 920.18it/s]\n"
     ]
    },
    {
     "name": "stdout",
     "output_type": "stream",
     "text": [
      " Average valid loss: 1.16\n",
      "AUC_SCORE:  0.4529175671503551  acc:  0.38333333333333336 f1:  0.4714285714285715\n",
      "Test\n"
     ]
    },
    {
     "name": "stderr",
     "output_type": "stream",
     "text": [
      "100%|████████████████████████████████████████| 121/121 [00:00<00:00, 917.54it/s]\n"
     ]
    },
    {
     "name": "stdout",
     "output_type": "stream",
     "text": [
      " Average valid loss: 1.10\n",
      "AUC_SCORE:  0.5652439024390243  acc:  0.4132231404958678 f1:  0.5103448275862069\n",
      "EPOCHS:25\n",
      "TRAIN\n"
     ]
    },
    {
     "name": "stderr",
     "output_type": "stream",
     "text": [
      "100%|████████████████████████████████████████| 963/963 [00:08<00:00, 118.78it/s]\n"
     ]
    },
    {
     "name": "stdout",
     "output_type": "stream",
     "text": [
      " Average training loss: 1.01\n"
     ]
    },
    {
     "name": "stderr",
     "output_type": "stream",
     "text": [
      "100%|████████████████████████████████████████| 120/120 [00:00<00:00, 920.98it/s]\n"
     ]
    },
    {
     "name": "stdout",
     "output_type": "stream",
     "text": [
      " Average valid loss: 1.16\n",
      "AUC_SCORE:  0.45106514356282806  acc:  0.36666666666666664 f1:  0.4492753623188406\n",
      "Test\n"
     ]
    },
    {
     "name": "stderr",
     "output_type": "stream",
     "text": [
      "100%|████████████████████████████████████████| 121/121 [00:00<00:00, 919.78it/s]\n"
     ]
    },
    {
     "name": "stdout",
     "output_type": "stream",
     "text": [
      " Average valid loss: 1.11\n",
      "AUC_SCORE:  0.5634146341463415  acc:  0.4297520661157025 f1:  0.5174825174825175\n",
      "EPOCHS:26\n",
      "TRAIN\n"
     ]
    },
    {
     "name": "stderr",
     "output_type": "stream",
     "text": [
      "100%|████████████████████████████████████████| 963/963 [00:08<00:00, 120.10it/s]\n"
     ]
    },
    {
     "name": "stdout",
     "output_type": "stream",
     "text": [
      " Average training loss: 1.00\n"
     ]
    },
    {
     "name": "stderr",
     "output_type": "stream",
     "text": [
      "100%|████████████████████████████████████████| 120/120 [00:00<00:00, 935.27it/s]\n"
     ]
    },
    {
     "name": "stdout",
     "output_type": "stream",
     "text": [
      " Average valid loss: 1.17\n",
      "AUC_SCORE:  0.45013893176906455  acc:  0.35833333333333334 f1:  0.437956204379562\n",
      "Test\n"
     ]
    },
    {
     "name": "stderr",
     "output_type": "stream",
     "text": [
      "100%|████████████████████████████████████████| 121/121 [00:00<00:00, 913.49it/s]\n"
     ]
    },
    {
     "name": "stdout",
     "output_type": "stream",
     "text": [
      " Average valid loss: 1.11\n",
      "AUC_SCORE:  0.5640243902439024  acc:  0.4380165289256198 f1:  0.5211267605633803\n",
      "EPOCHS:27\n",
      "TRAIN\n"
     ]
    },
    {
     "name": "stderr",
     "output_type": "stream",
     "text": [
      "100%|████████████████████████████████████████| 963/963 [00:08<00:00, 120.23it/s]\n"
     ]
    },
    {
     "name": "stdout",
     "output_type": "stream",
     "text": [
      " Average training loss: 1.00\n"
     ]
    },
    {
     "name": "stderr",
     "output_type": "stream",
     "text": [
      "100%|████████████████████████████████████████| 120/120 [00:00<00:00, 918.46it/s]\n"
     ]
    },
    {
     "name": "stdout",
     "output_type": "stream",
     "text": [
      " Average valid loss: 1.17\n",
      "AUC_SCORE:  0.4482865081815375  acc:  0.36666666666666664 f1:  0.4492753623188406\n",
      "Test\n"
     ]
    },
    {
     "name": "stderr",
     "output_type": "stream",
     "text": [
      "100%|████████████████████████████████████████| 121/121 [00:00<00:00, 908.90it/s]\n"
     ]
    },
    {
     "name": "stdout",
     "output_type": "stream",
     "text": [
      " Average valid loss: 1.12\n",
      "AUC_SCORE:  0.563109756097561  acc:  0.4297520661157025 f1:  0.5174825174825175\n",
      "EPOCHS:28\n",
      "TRAIN\n"
     ]
    },
    {
     "name": "stderr",
     "output_type": "stream",
     "text": [
      "100%|████████████████████████████████████████| 963/963 [00:08<00:00, 119.09it/s]\n"
     ]
    },
    {
     "name": "stdout",
     "output_type": "stream",
     "text": [
      " Average training loss: 0.99\n"
     ]
    },
    {
     "name": "stderr",
     "output_type": "stream",
     "text": [
      "100%|████████████████████████████████████████| 120/120 [00:00<00:00, 912.10it/s]\n"
     ]
    },
    {
     "name": "stdout",
     "output_type": "stream",
     "text": [
      " Average valid loss: 1.18\n",
      "AUC_SCORE:  0.44612534732942266  acc:  0.35833333333333334 f1:  0.4296296296296296\n",
      "Test\n"
     ]
    },
    {
     "name": "stderr",
     "output_type": "stream",
     "text": [
      "100%|████████████████████████████████████████| 121/121 [00:00<00:00, 915.34it/s]\n"
     ]
    },
    {
     "name": "stdout",
     "output_type": "stream",
     "text": [
      " Average valid loss: 1.12\n",
      "AUC_SCORE:  0.5597560975609757  acc:  0.4462809917355372 f1:  0.5179856115107914\n",
      "EPOCHS:29\n",
      "TRAIN\n"
     ]
    },
    {
     "name": "stderr",
     "output_type": "stream",
     "text": [
      "100%|████████████████████████████████████████| 963/963 [00:08<00:00, 118.74it/s]\n"
     ]
    },
    {
     "name": "stdout",
     "output_type": "stream",
     "text": [
      " Average training loss: 0.98\n"
     ]
    },
    {
     "name": "stderr",
     "output_type": "stream",
     "text": [
      "100%|████████████████████████████████████████| 120/120 [00:00<00:00, 916.28it/s]\n"
     ]
    },
    {
     "name": "stdout",
     "output_type": "stream",
     "text": [
      " Average valid loss: 1.19\n",
      "AUC_SCORE:  0.4433467119481322  acc:  0.35833333333333334 f1:  0.4296296296296296\n",
      "Test\n"
     ]
    },
    {
     "name": "stderr",
     "output_type": "stream",
     "text": [
      "100%|████████████████████████████████████████| 121/121 [00:00<00:00, 908.01it/s]\n"
     ]
    },
    {
     "name": "stdout",
     "output_type": "stream",
     "text": [
      " Average valid loss: 1.12\n",
      "AUC_SCORE:  0.5600609756097562  acc:  0.4462809917355372 f1:  0.5179856115107914\n",
      "EPOCHS:30\n",
      "TRAIN\n"
     ]
    },
    {
     "name": "stderr",
     "output_type": "stream",
     "text": [
      "100%|████████████████████████████████████████| 963/963 [00:08<00:00, 119.18it/s]\n"
     ]
    },
    {
     "name": "stdout",
     "output_type": "stream",
     "text": [
      " Average training loss: 0.98\n"
     ]
    },
    {
     "name": "stderr",
     "output_type": "stream",
     "text": [
      "100%|████████████████████████████████████████| 120/120 [00:00<00:00, 910.98it/s]\n"
     ]
    },
    {
     "name": "stdout",
     "output_type": "stream",
     "text": [
      " Average valid loss: 1.19\n",
      "AUC_SCORE:  0.4433467119481321  acc:  0.35 f1:  0.417910447761194\n",
      "Test\n"
     ]
    },
    {
     "name": "stderr",
     "output_type": "stream",
     "text": [
      "100%|████████████████████████████████████████| 121/121 [00:00<00:00, 910.24it/s]\n"
     ]
    },
    {
     "name": "stdout",
     "output_type": "stream",
     "text": [
      " Average valid loss: 1.13\n",
      "AUC_SCORE:  0.5600609756097562  acc:  0.4380165289256198 f1:  0.5072463768115942\n",
      "EPOCHS:31\n",
      "TRAIN\n"
     ]
    },
    {
     "name": "stderr",
     "output_type": "stream",
     "text": [
      "100%|████████████████████████████████████████| 963/963 [00:08<00:00, 118.85it/s]\n"
     ]
    },
    {
     "name": "stdout",
     "output_type": "stream",
     "text": [
      " Average training loss: 0.97\n"
     ]
    },
    {
     "name": "stderr",
     "output_type": "stream",
     "text": [
      "100%|████████████████████████████████████████| 120/120 [00:00<00:00, 912.89it/s]\n"
     ]
    },
    {
     "name": "stdout",
     "output_type": "stream",
     "text": [
      " Average valid loss: 1.20\n",
      "AUC_SCORE:  0.4445816610064835  acc:  0.3416666666666667 f1:  0.40601503759398494\n",
      "Test\n"
     ]
    },
    {
     "name": "stderr",
     "output_type": "stream",
     "text": [
      "100%|████████████████████████████████████████| 121/121 [00:00<00:00, 915.20it/s]\n"
     ]
    },
    {
     "name": "stdout",
     "output_type": "stream",
     "text": [
      " Average valid loss: 1.13\n",
      "AUC_SCORE:  0.5585365853658536  acc:  0.4380165289256198 f1:  0.4999999999999999\n",
      "EPOCHS:32\n",
      "TRAIN\n"
     ]
    },
    {
     "name": "stderr",
     "output_type": "stream",
     "text": [
      "100%|████████████████████████████████████████| 963/963 [00:08<00:00, 118.79it/s]\n"
     ]
    },
    {
     "name": "stdout",
     "output_type": "stream",
     "text": [
      " Average training loss: 0.97\n"
     ]
    },
    {
     "name": "stderr",
     "output_type": "stream",
     "text": [
      "100%|████████████████████████████████████████| 120/120 [00:00<00:00, 894.76it/s]\n"
     ]
    },
    {
     "name": "stdout",
     "output_type": "stream",
     "text": [
      " Average valid loss: 1.21\n",
      "AUC_SCORE:  0.4445816610064835  acc:  0.35833333333333334 f1:  0.4210526315789474\n",
      "Test\n"
     ]
    },
    {
     "name": "stderr",
     "output_type": "stream",
     "text": [
      "100%|████████████████████████████████████████| 121/121 [00:00<00:00, 909.31it/s]\n"
     ]
    },
    {
     "name": "stdout",
     "output_type": "stream",
     "text": [
      " Average valid loss: 1.14\n",
      "AUC_SCORE:  0.5597560975609757  acc:  0.4380165289256198 f1:  0.4999999999999999\n",
      "EPOCHS:33\n",
      "TRAIN\n"
     ]
    },
    {
     "name": "stderr",
     "output_type": "stream",
     "text": [
      "100%|████████████████████████████████████████| 963/963 [00:08<00:00, 118.55it/s]\n"
     ]
    },
    {
     "name": "stdout",
     "output_type": "stream",
     "text": [
      " Average training loss: 0.96\n"
     ]
    },
    {
     "name": "stderr",
     "output_type": "stream",
     "text": [
      "100%|████████████████████████████████████████| 120/120 [00:00<00:00, 912.49it/s]\n"
     ]
    },
    {
     "name": "stdout",
     "output_type": "stream",
     "text": [
      " Average valid loss: 1.21\n",
      "AUC_SCORE:  0.4448903982710713  acc:  0.35833333333333334 f1:  0.4122137404580153\n",
      "Test\n"
     ]
    },
    {
     "name": "stderr",
     "output_type": "stream",
     "text": [
      "100%|████████████████████████████████████████| 121/121 [00:00<00:00, 902.42it/s]\n"
     ]
    },
    {
     "name": "stdout",
     "output_type": "stream",
     "text": [
      " Average valid loss: 1.14\n",
      "AUC_SCORE:  0.5606707317073171  acc:  0.4462809917355372 f1:  0.5037037037037037\n",
      "EPOCHS:34\n",
      "TRAIN\n"
     ]
    },
    {
     "name": "stderr",
     "output_type": "stream",
     "text": [
      "100%|████████████████████████████████████████| 963/963 [00:08<00:00, 118.65it/s]\n"
     ]
    },
    {
     "name": "stdout",
     "output_type": "stream",
     "text": [
      " Average training loss: 0.95\n"
     ]
    },
    {
     "name": "stderr",
     "output_type": "stream",
     "text": [
      "100%|████████████████████████████████████████| 120/120 [00:00<00:00, 908.91it/s]\n"
     ]
    },
    {
     "name": "stdout",
     "output_type": "stream",
     "text": [
      " Average valid loss: 1.22\n",
      "AUC_SCORE:  0.4414942883606051  acc:  0.36666666666666664 f1:  0.4153846153846154\n",
      "Test\n"
     ]
    },
    {
     "name": "stderr",
     "output_type": "stream",
     "text": [
      "100%|████████████████████████████████████████| 121/121 [00:00<00:00, 911.91it/s]\n"
     ]
    },
    {
     "name": "stdout",
     "output_type": "stream",
     "text": [
      " Average valid loss: 1.15\n",
      "AUC_SCORE:  0.561280487804878  acc:  0.45454545454545453 f1:  0.5074626865671642\n",
      "EPOCHS:35\n",
      "TRAIN\n"
     ]
    },
    {
     "name": "stderr",
     "output_type": "stream",
     "text": [
      "100%|████████████████████████████████████████| 963/963 [00:08<00:00, 119.66it/s]\n"
     ]
    },
    {
     "name": "stdout",
     "output_type": "stream",
     "text": [
      " Average training loss: 0.96\n"
     ]
    },
    {
     "name": "stderr",
     "output_type": "stream",
     "text": [
      "100%|████████████████████████████████████████| 120/120 [00:00<00:00, 901.42it/s]\n"
     ]
    },
    {
     "name": "stdout",
     "output_type": "stream",
     "text": [
      " Average valid loss: 1.23\n",
      "AUC_SCORE:  0.43964186477307815  acc:  0.36666666666666664 f1:  0.4153846153846154\n",
      "Test\n"
     ]
    },
    {
     "name": "stderr",
     "output_type": "stream",
     "text": [
      "100%|████████████████████████████████████████| 121/121 [00:00<00:00, 903.92it/s]\n"
     ]
    },
    {
     "name": "stdout",
     "output_type": "stream",
     "text": [
      " Average valid loss: 1.15\n",
      "AUC_SCORE:  0.560670731707317  acc:  0.4462809917355372 f1:  0.5037037037037037\n",
      "EPOCHS:36\n",
      "TRAIN\n"
     ]
    },
    {
     "name": "stderr",
     "output_type": "stream",
     "text": [
      "100%|████████████████████████████████████████| 963/963 [00:08<00:00, 119.06it/s]\n"
     ]
    },
    {
     "name": "stdout",
     "output_type": "stream",
     "text": [
      " Average training loss: 0.94\n"
     ]
    },
    {
     "name": "stderr",
     "output_type": "stream",
     "text": [
      "100%|████████████████████████████████████████| 120/120 [00:00<00:00, 910.24it/s]\n"
     ]
    },
    {
     "name": "stdout",
     "output_type": "stream",
     "text": [
      " Average valid loss: 1.24\n",
      "AUC_SCORE:  0.4384069157147268  acc:  0.36666666666666664 f1:  0.4153846153846154\n",
      "Test\n"
     ]
    },
    {
     "name": "stderr",
     "output_type": "stream",
     "text": [
      "100%|████████████████████████████████████████| 121/121 [00:00<00:00, 910.73it/s]\n"
     ]
    },
    {
     "name": "stdout",
     "output_type": "stream",
     "text": [
      " Average valid loss: 1.16\n",
      "AUC_SCORE:  0.5564024390243903  acc:  0.4462809917355372 f1:  0.5037037037037037\n",
      "EPOCHS:37\n",
      "TRAIN\n"
     ]
    },
    {
     "name": "stderr",
     "output_type": "stream",
     "text": [
      "100%|████████████████████████████████████████| 963/963 [00:08<00:00, 118.94it/s]\n"
     ]
    },
    {
     "name": "stdout",
     "output_type": "stream",
     "text": [
      " Average training loss: 0.94\n"
     ]
    },
    {
     "name": "stderr",
     "output_type": "stream",
     "text": [
      "100%|████████████████████████████████████████| 120/120 [00:00<00:00, 915.00it/s]\n"
     ]
    },
    {
     "name": "stdout",
     "output_type": "stream",
     "text": [
      " Average valid loss: 1.24\n",
      "AUC_SCORE:  0.4350108058042606  acc:  0.35833333333333334 f1:  0.40310077519379844\n",
      "Test\n"
     ]
    },
    {
     "name": "stderr",
     "output_type": "stream",
     "text": [
      "100%|████████████████████████████████████████| 121/121 [00:00<00:00, 905.79it/s]\n"
     ]
    },
    {
     "name": "stdout",
     "output_type": "stream",
     "text": [
      " Average valid loss: 1.17\n",
      "AUC_SCORE:  0.554878048780488  acc:  0.4462809917355372 f1:  0.5037037037037037\n",
      "EPOCHS:38\n",
      "TRAIN\n"
     ]
    },
    {
     "name": "stderr",
     "output_type": "stream",
     "text": [
      "100%|████████████████████████████████████████| 963/963 [00:08<00:00, 119.35it/s]\n"
     ]
    },
    {
     "name": "stdout",
     "output_type": "stream",
     "text": [
      " Average training loss: 0.93\n"
     ]
    },
    {
     "name": "stderr",
     "output_type": "stream",
     "text": [
      "100%|████████████████████████████████████████| 120/120 [00:00<00:00, 908.92it/s]\n"
     ]
    },
    {
     "name": "stdout",
     "output_type": "stream",
     "text": [
      " Average valid loss: 1.25\n",
      "AUC_SCORE:  0.43562828033343626  acc:  0.38333333333333336 f1:  0.41269841269841273\n",
      "Test\n"
     ]
    },
    {
     "name": "stderr",
     "output_type": "stream",
     "text": [
      "100%|████████████████████████████████████████| 121/121 [00:00<00:00, 913.94it/s]\n"
     ]
    },
    {
     "name": "stdout",
     "output_type": "stream",
     "text": [
      " Average valid loss: 1.17\n",
      "AUC_SCORE:  0.5533536585365854  acc:  0.47107438016528924 f1:  0.5076923076923078\n",
      "EPOCHS:39\n",
      "TRAIN\n"
     ]
    },
    {
     "name": "stderr",
     "output_type": "stream",
     "text": [
      "100%|████████████████████████████████████████| 963/963 [00:08<00:00, 119.06it/s]\n"
     ]
    },
    {
     "name": "stdout",
     "output_type": "stream",
     "text": [
      " Average training loss: 0.92\n"
     ]
    },
    {
     "name": "stderr",
     "output_type": "stream",
     "text": [
      "100%|████████████████████████████████████████| 120/120 [00:00<00:00, 916.01it/s]\n"
     ]
    },
    {
     "name": "stdout",
     "output_type": "stream",
     "text": [
      " Average valid loss: 1.26\n",
      "AUC_SCORE:  0.4353195430688484  acc:  0.38333333333333336 f1:  0.41269841269841273\n",
      "Test\n"
     ]
    },
    {
     "name": "stderr",
     "output_type": "stream",
     "text": [
      "100%|████████████████████████████████████████| 121/121 [00:00<00:00, 907.82it/s]\n"
     ]
    },
    {
     "name": "stdout",
     "output_type": "stream",
     "text": [
      " Average valid loss: 1.18\n",
      "AUC_SCORE:  0.5536585365853659  acc:  0.4628099173553719 f1:  0.496124031007752\n",
      "EPOCHS:40\n",
      "TRAIN\n"
     ]
    },
    {
     "name": "stderr",
     "output_type": "stream",
     "text": [
      "100%|████████████████████████████████████████| 963/963 [00:08<00:00, 119.23it/s]\n"
     ]
    },
    {
     "name": "stdout",
     "output_type": "stream",
     "text": [
      " Average training loss: 0.93\n"
     ]
    },
    {
     "name": "stderr",
     "output_type": "stream",
     "text": [
      "100%|████████████████████████████████████████| 120/120 [00:00<00:00, 911.29it/s]\n"
     ]
    },
    {
     "name": "stdout",
     "output_type": "stream",
     "text": [
      " Average valid loss: 1.27\n",
      "AUC_SCORE:  0.43501080580426055  acc:  0.4 f1:  0.4098360655737705\n",
      "Test\n"
     ]
    },
    {
     "name": "stderr",
     "output_type": "stream",
     "text": [
      "100%|████████████████████████████████████████| 121/121 [00:00<00:00, 910.51it/s]\n"
     ]
    },
    {
     "name": "stdout",
     "output_type": "stream",
     "text": [
      " Average valid loss: 1.19\n",
      "AUC_SCORE:  0.5530487804878049  acc:  0.4793388429752066 f1:  0.5039370078740157\n"
     ]
    },
    {
     "name": "stderr",
     "output_type": "stream",
     "text": [
      "100%|████████████████████████████████████████| 121/121 [00:00<00:00, 904.98it/s]"
     ]
    },
    {
     "name": "stdout",
     "output_type": "stream",
     "text": [
      " Average valid loss: 1.08\n",
      "AUC_SCORE:  0.5689024390243902  acc:  0.33884297520661155 f1:  0.5061728395061729\n",
      "BEST MODEL\n",
      "AUC_SCORE:  0.5689024390243902  acc:  0.33884297520661155 f1:  0.5061728395061729\n",
      "{'auc_micro': 0.5689024390243902, 'acc': 0.33884297520661155, 'f1': 0.5061728395061729, 'pred': [[1, 1, 1, 1, 1, 1, 1, 1, 1, 1], [1, 1, 1, 1, 1, 1, 1, 1, 1, 1], [1, 1, 1, 1, 1, 1, 1, 1, 1, 1], [1, 1, 1, 1, 1, 1, 1, 1, 1, 1], [1, 1, 1, 1, 1, 1, 1, 1, 1, 1], [1, 1, 1, 1, 1, 1, 1, 1, 1, 1], [1, 1, 1, 1, 1, 1, 1, 1, 1, 1], [1, 1, 1, 1, 1, 1, 1, 1, 1, 1], [1, 1, 1, 1, 1, 1, 1, 1, 1, 1], [1, 1, 1, 1, 1, 1, 1, 1, 1, 1], [1, 1, 1, 1, 1, 1, 1, 1, 1, 1], [1, 1, 1, 1, 1, 1, 1, 1, 1, 1], [1], [], [], [], [], [], [], []]}\n"
     ]
    },
    {
     "name": "stderr",
     "output_type": "stream",
     "text": [
      "\n"
     ]
    }
   ],
   "source": [
    "bert2 = BertModel().to('cuda')\n",
    "score = fit(bert2, train_data,valid_data,test_data,EPOCHS=40)\n",
    "print(score)"
   ]
  },
  {
   "cell_type": "code",
   "execution_count": null,
   "id": "230c9393",
   "metadata": {},
   "outputs": [],
   "source": []
  },
  {
   "cell_type": "markdown",
   "id": "71cfbdf3",
   "metadata": {},
   "source": [
    "# 평균 임베딩"
   ]
  },
  {
   "cell_type": "code",
   "execution_count": 19,
   "id": "f1757c53",
   "metadata": {},
   "outputs": [],
   "source": [
    "import pickle\n",
    "with open('emb_avg2.pickle','rb') as fw:\n",
    "    movie_emb = pickle.load(fw)"
   ]
  },
  {
   "cell_type": "code",
   "execution_count": 20,
   "id": "3e9b1d14",
   "metadata": {},
   "outputs": [],
   "source": [
    "path1 = 'word2vec_model_char/'\n",
    "path2 = 'data/scriptbase/'\n",
    "filenames = os.listdir(path1)\n",
    "train_data = []\n",
    "valid_data = []\n",
    "test_data = []\n",
    "end = torch.ones(1,1,384)\n",
    "\n",
    "for filename in filenames:\n",
    "    movie_name = filename[:-14]\n",
    "    cult = 0\n",
    "    with open(path2+movie_name+'/processed/imdb_meta.txt','r') as f:\n",
    "        lines = f.readlines()\n",
    "        for line in lines:\n",
    "            if 'keyword' in line:\n",
    "                try:\n",
    "                    keyword  = line.strip().split('\\t')[1]\n",
    "                    keywords.append(keyword)\n",
    "                except:\n",
    "                    pass\n",
    "                if 'cult film'==keyword:\n",
    "                    cult = 1\n",
    "        \n",
    "    embs = torch.zeros(1,len(movie_emb[movie_name])+1,384)\n",
    "    for i,emb in enumerate(movie_emb[movie_name]):\n",
    "        emb = torch.from_numpy(np.nan_to_num(emb))\n",
    "        embs[0][i] = emb\n",
    "        \n",
    "    embs[0][-1] = end\n",
    "        \n",
    "    if movie_name in movie_split['train']:\n",
    "        train_data.append([embs, [cult]])\n",
    "    elif movie_name in movie_split['valid']:\n",
    "        valid_data.append([embs, [cult]])\n",
    "    \n",
    "    elif movie_name in movie_split['test']:\n",
    "        test_data.append([embs, [cult]])\n",
    "        #valid_data.append([embs, [cult]])"
   ]
  },
  {
   "cell_type": "code",
   "execution_count": 21,
   "id": "c98e5926",
   "metadata": {},
   "outputs": [
    {
     "name": "stdout",
     "output_type": "stream",
     "text": [
      "963\n",
      "120\n",
      "121\n"
     ]
    }
   ],
   "source": [
    "print(len(train_data))\n",
    "print(len(valid_data))\n",
    "print(len(test_data))"
   ]
  },
  {
   "cell_type": "code",
   "execution_count": 22,
   "id": "0057ad3a",
   "metadata": {},
   "outputs": [
    {
     "name": "stdout",
     "output_type": "stream",
     "text": [
      "EPOCHS:1\n",
      "TRAIN\n"
     ]
    },
    {
     "name": "stderr",
     "output_type": "stream",
     "text": [
      "100%|████████████████████████████████████████| 963/963 [00:08<00:00, 118.77it/s]\n"
     ]
    },
    {
     "name": "stdout",
     "output_type": "stream",
     "text": [
      " Average training loss: 1.11\n"
     ]
    },
    {
     "name": "stderr",
     "output_type": "stream",
     "text": [
      "100%|████████████████████████████████████████| 120/120 [00:00<00:00, 841.80it/s]\n"
     ]
    },
    {
     "name": "stdout",
     "output_type": "stream",
     "text": [
      " Average valid loss: 1.10\n",
      "AUC_SCORE:  0.44334671194813213  acc:  0.3416666666666667 f1:  0.5093167701863354\n",
      "Test\n"
     ]
    },
    {
     "name": "stderr",
     "output_type": "stream",
     "text": [
      "100%|████████████████████████████████████████| 121/121 [00:00<00:00, 811.27it/s]\n"
     ]
    },
    {
     "name": "stdout",
     "output_type": "stream",
     "text": [
      " Average valid loss: 1.10\n",
      "AUC_SCORE:  0.49054878048780487  acc:  0.33884297520661155 f1:  0.5061728395061729\n",
      "EPOCHS:2\n",
      "TRAIN\n"
     ]
    },
    {
     "name": "stderr",
     "output_type": "stream",
     "text": [
      "100%|████████████████████████████████████████| 963/963 [00:08<00:00, 118.78it/s]\n"
     ]
    },
    {
     "name": "stdout",
     "output_type": "stream",
     "text": [
      " Average training loss: 1.10\n"
     ]
    },
    {
     "name": "stderr",
     "output_type": "stream",
     "text": [
      "100%|████████████████████████████████████████| 120/120 [00:00<00:00, 837.70it/s]\n"
     ]
    },
    {
     "name": "stdout",
     "output_type": "stream",
     "text": [
      " Average valid loss: 1.10\n",
      "AUC_SCORE:  0.505711639394875  acc:  0.3416666666666667 f1:  0.5093167701863354\n",
      "Test\n"
     ]
    },
    {
     "name": "stderr",
     "output_type": "stream",
     "text": [
      "100%|████████████████████████████████████████| 121/121 [00:00<00:00, 823.25it/s]\n"
     ]
    },
    {
     "name": "stdout",
     "output_type": "stream",
     "text": [
      " Average valid loss: 1.09\n",
      "AUC_SCORE:  0.5862804878048781  acc:  0.33884297520661155 f1:  0.5061728395061729\n",
      "EPOCHS:3\n",
      "TRAIN\n"
     ]
    },
    {
     "name": "stderr",
     "output_type": "stream",
     "text": [
      "100%|████████████████████████████████████████| 963/963 [00:08<00:00, 118.13it/s]\n"
     ]
    },
    {
     "name": "stdout",
     "output_type": "stream",
     "text": [
      " Average training loss: 1.09\n"
     ]
    },
    {
     "name": "stderr",
     "output_type": "stream",
     "text": [
      "100%|████████████████████████████████████████| 120/120 [00:00<00:00, 843.05it/s]\n"
     ]
    },
    {
     "name": "stdout",
     "output_type": "stream",
     "text": [
      " Average valid loss: 1.09\n",
      "AUC_SCORE:  0.5325717814140167  acc:  0.3416666666666667 f1:  0.5093167701863354\n",
      "Test\n"
     ]
    },
    {
     "name": "stderr",
     "output_type": "stream",
     "text": [
      "100%|████████████████████████████████████████| 121/121 [00:00<00:00, 820.85it/s]\n"
     ]
    },
    {
     "name": "stdout",
     "output_type": "stream",
     "text": [
      " Average valid loss: 1.08\n",
      "AUC_SCORE:  0.6384146341463415  acc:  0.33884297520661155 f1:  0.5061728395061729\n",
      "EPOCHS:4\n",
      "TRAIN\n"
     ]
    },
    {
     "name": "stderr",
     "output_type": "stream",
     "text": [
      "100%|████████████████████████████████████████| 963/963 [00:08<00:00, 118.67it/s]\n"
     ]
    },
    {
     "name": "stdout",
     "output_type": "stream",
     "text": [
      " Average training loss: 1.09\n"
     ]
    },
    {
     "name": "stderr",
     "output_type": "stream",
     "text": [
      "100%|████████████████████████████████████████| 120/120 [00:00<00:00, 843.92it/s]\n"
     ]
    },
    {
     "name": "stdout",
     "output_type": "stream",
     "text": [
      " Average valid loss: 1.09\n",
      "AUC_SCORE:  0.5523309663476381  acc:  0.3416666666666667 f1:  0.5093167701863354\n",
      "Test\n"
     ]
    },
    {
     "name": "stderr",
     "output_type": "stream",
     "text": [
      "100%|████████████████████████████████████████| 121/121 [00:00<00:00, 817.86it/s]\n"
     ]
    },
    {
     "name": "stdout",
     "output_type": "stream",
     "text": [
      " Average valid loss: 1.07\n",
      "AUC_SCORE:  0.6679878048780489  acc:  0.33884297520661155 f1:  0.5061728395061729\n",
      "EPOCHS:5\n",
      "TRAIN\n"
     ]
    },
    {
     "name": "stderr",
     "output_type": "stream",
     "text": [
      "100%|████████████████████████████████████████| 963/963 [00:08<00:00, 118.82it/s]\n"
     ]
    },
    {
     "name": "stdout",
     "output_type": "stream",
     "text": [
      " Average training loss: 1.08\n"
     ]
    },
    {
     "name": "stderr",
     "output_type": "stream",
     "text": [
      "100%|████████████████████████████████████████| 120/120 [00:00<00:00, 834.17it/s]\n"
     ]
    },
    {
     "name": "stdout",
     "output_type": "stream",
     "text": [
      " Average valid loss: 1.09\n",
      "AUC_SCORE:  0.5674590923124421  acc:  0.3416666666666667 f1:  0.5093167701863354\n",
      "Test\n"
     ]
    },
    {
     "name": "stderr",
     "output_type": "stream",
     "text": [
      "100%|████████████████████████████████████████| 121/121 [00:00<00:00, 820.53it/s]\n"
     ]
    },
    {
     "name": "stdout",
     "output_type": "stream",
     "text": [
      " Average valid loss: 1.07\n",
      "AUC_SCORE:  0.6792682926829268  acc:  0.33884297520661155 f1:  0.5061728395061729\n",
      "EPOCHS:6\n",
      "TRAIN\n"
     ]
    },
    {
     "name": "stderr",
     "output_type": "stream",
     "text": [
      "100%|████████████████████████████████████████| 963/963 [00:08<00:00, 118.20it/s]\n"
     ]
    },
    {
     "name": "stdout",
     "output_type": "stream",
     "text": [
      " Average training loss: 1.07\n"
     ]
    },
    {
     "name": "stderr",
     "output_type": "stream",
     "text": [
      "100%|████████████████████████████████████████| 120/120 [00:00<00:00, 843.24it/s]\n"
     ]
    },
    {
     "name": "stdout",
     "output_type": "stream",
     "text": [
      " Average valid loss: 1.09\n",
      "AUC_SCORE:  0.5736338376041988  acc:  0.3416666666666667 f1:  0.5093167701863354\n",
      "Test\n"
     ]
    },
    {
     "name": "stderr",
     "output_type": "stream",
     "text": [
      "100%|████████████████████████████████████████| 121/121 [00:00<00:00, 814.10it/s]\n"
     ]
    },
    {
     "name": "stdout",
     "output_type": "stream",
     "text": [
      " Average valid loss: 1.06\n",
      "AUC_SCORE:  0.6835365853658536  acc:  0.33884297520661155 f1:  0.5061728395061729\n",
      "EPOCHS:7\n",
      "TRAIN\n"
     ]
    },
    {
     "name": "stderr",
     "output_type": "stream",
     "text": [
      "100%|████████████████████████████████████████| 963/963 [00:08<00:00, 118.40it/s]\n"
     ]
    },
    {
     "name": "stdout",
     "output_type": "stream",
     "text": [
      " Average training loss: 1.06\n"
     ]
    },
    {
     "name": "stderr",
     "output_type": "stream",
     "text": [
      "100%|████████████████████████████████████████| 120/120 [00:00<00:00, 837.75it/s]\n"
     ]
    },
    {
     "name": "stdout",
     "output_type": "stream",
     "text": [
      " Average valid loss: 1.08\n",
      "AUC_SCORE:  0.5761037357209016  acc:  0.3416666666666667 f1:  0.5093167701863354\n",
      "Test\n"
     ]
    },
    {
     "name": "stderr",
     "output_type": "stream",
     "text": [
      "100%|████████████████████████████████████████| 121/121 [00:00<00:00, 815.51it/s]\n"
     ]
    },
    {
     "name": "stdout",
     "output_type": "stream",
     "text": [
      " Average valid loss: 1.06\n",
      "AUC_SCORE:  0.686280487804878  acc:  0.34710743801652894 f1:  0.5093167701863354\n",
      "EPOCHS:8\n",
      "TRAIN\n"
     ]
    },
    {
     "name": "stderr",
     "output_type": "stream",
     "text": [
      "100%|████████████████████████████████████████| 963/963 [00:08<00:00, 118.58it/s]\n"
     ]
    },
    {
     "name": "stdout",
     "output_type": "stream",
     "text": [
      " Average training loss: 1.06\n"
     ]
    },
    {
     "name": "stderr",
     "output_type": "stream",
     "text": [
      "100%|████████████████████████████████████████| 120/120 [00:00<00:00, 843.09it/s]"
     ]
    },
    {
     "name": "stdout",
     "output_type": "stream",
     "text": [
      " Average valid loss: 1.08\n",
      "AUC_SCORE:  0.5813522692188948  acc:  0.375 f1:  0.5222929936305732\n",
      "7  EPOCH BEST MODEL!\n"
     ]
    },
    {
     "name": "stderr",
     "output_type": "stream",
     "text": [
      "\n"
     ]
    },
    {
     "name": "stdout",
     "output_type": "stream",
     "text": [
      "Test\n"
     ]
    },
    {
     "name": "stderr",
     "output_type": "stream",
     "text": [
      "100%|████████████████████████████████████████| 121/121 [00:00<00:00, 823.27it/s]\n"
     ]
    },
    {
     "name": "stdout",
     "output_type": "stream",
     "text": [
      " Average valid loss: 1.05\n",
      "AUC_SCORE:  0.6899390243902439  acc:  0.371900826446281 f1:  0.5189873417721518\n",
      "EPOCHS:9\n",
      "TRAIN\n"
     ]
    },
    {
     "name": "stderr",
     "output_type": "stream",
     "text": [
      "100%|████████████████████████████████████████| 963/963 [00:08<00:00, 118.45it/s]\n"
     ]
    },
    {
     "name": "stdout",
     "output_type": "stream",
     "text": [
      " Average training loss: 1.05\n"
     ]
    },
    {
     "name": "stderr",
     "output_type": "stream",
     "text": [
      "100%|████████████████████████████████████████| 120/120 [00:00<00:00, 841.36it/s]\n"
     ]
    },
    {
     "name": "stdout",
     "output_type": "stream",
     "text": [
      " Average valid loss: 1.08\n",
      "AUC_SCORE:  0.5896881753627663  acc:  0.4 f1:  0.5324675324675325\n",
      "8  EPOCH BEST MODEL!\n",
      "Test\n"
     ]
    },
    {
     "name": "stderr",
     "output_type": "stream",
     "text": [
      "100%|████████████████████████████████████████| 121/121 [00:00<00:00, 819.19it/s]\n"
     ]
    },
    {
     "name": "stdout",
     "output_type": "stream",
     "text": [
      " Average valid loss: 1.04\n",
      "AUC_SCORE:  0.6917682926829268  acc:  0.371900826446281 f1:  0.5128205128205128\n",
      "EPOCHS:10\n",
      "TRAIN\n"
     ]
    },
    {
     "name": "stderr",
     "output_type": "stream",
     "text": [
      "100%|████████████████████████████████████████| 963/963 [00:08<00:00, 118.03it/s]\n"
     ]
    },
    {
     "name": "stdout",
     "output_type": "stream",
     "text": [
      " Average training loss: 1.04\n"
     ]
    },
    {
     "name": "stderr",
     "output_type": "stream",
     "text": [
      "100%|████████████████████████████████████████| 120/120 [00:00<00:00, 838.76it/s]\n"
     ]
    },
    {
     "name": "stdout",
     "output_type": "stream",
     "text": [
      " Average valid loss: 1.08\n",
      "AUC_SCORE:  0.5952454461253474  acc:  0.4 f1:  0.52\n",
      "Test\n"
     ]
    },
    {
     "name": "stderr",
     "output_type": "stream",
     "text": [
      "100%|████████████████████████████████████████| 121/121 [00:00<00:00, 820.86it/s]\n"
     ]
    },
    {
     "name": "stdout",
     "output_type": "stream",
     "text": [
      " Average valid loss: 1.04\n",
      "AUC_SCORE:  0.6914634146341463  acc:  0.3884297520661157 f1:  0.5131578947368421\n",
      "EPOCHS:11\n",
      "TRAIN\n"
     ]
    },
    {
     "name": "stderr",
     "output_type": "stream",
     "text": [
      "100%|████████████████████████████████████████| 963/963 [00:08<00:00, 118.48it/s]\n"
     ]
    },
    {
     "name": "stdout",
     "output_type": "stream",
     "text": [
      " Average training loss: 1.03\n"
     ]
    },
    {
     "name": "stderr",
     "output_type": "stream",
     "text": [
      "100%|████████████████████████████████████████| 120/120 [00:00<00:00, 842.41it/s]\n"
     ]
    },
    {
     "name": "stdout",
     "output_type": "stream",
     "text": [
      " Average valid loss: 1.08\n",
      "AUC_SCORE:  0.599567767829577  acc:  0.38333333333333336 f1:  0.5\n",
      "Test\n"
     ]
    },
    {
     "name": "stderr",
     "output_type": "stream",
     "text": [
      "100%|████████████████████████████████████████| 121/121 [00:00<00:00, 821.29it/s]\n"
     ]
    },
    {
     "name": "stdout",
     "output_type": "stream",
     "text": [
      " Average valid loss: 1.04\n",
      "AUC_SCORE:  0.6914634146341463  acc:  0.3884297520661157 f1:  0.5131578947368421\n",
      "EPOCHS:12\n",
      "TRAIN\n"
     ]
    },
    {
     "name": "stderr",
     "output_type": "stream",
     "text": [
      "100%|████████████████████████████████████████| 963/963 [00:08<00:00, 118.90it/s]\n"
     ]
    },
    {
     "name": "stdout",
     "output_type": "stream",
     "text": [
      " Average training loss: 1.03\n"
     ]
    },
    {
     "name": "stderr",
     "output_type": "stream",
     "text": [
      "100%|████████████████████████████████████████| 120/120 [00:00<00:00, 842.40it/s]\n"
     ]
    },
    {
     "name": "stdout",
     "output_type": "stream",
     "text": [
      " Average valid loss: 1.07\n",
      "AUC_SCORE:  0.603272615004631  acc:  0.4083333333333333 f1:  0.5103448275862069\n",
      "Test\n"
     ]
    },
    {
     "name": "stderr",
     "output_type": "stream",
     "text": [
      "100%|████████████████████████████████████████| 121/121 [00:00<00:00, 815.80it/s]\n"
     ]
    },
    {
     "name": "stdout",
     "output_type": "stream",
     "text": [
      " Average valid loss: 1.03\n",
      "AUC_SCORE:  0.6929878048780488  acc:  0.3884297520661157 f1:  0.5066666666666667\n",
      "EPOCHS:13\n",
      "TRAIN\n"
     ]
    },
    {
     "name": "stderr",
     "output_type": "stream",
     "text": [
      "100%|████████████████████████████████████████| 963/963 [00:08<00:00, 118.83it/s]\n"
     ]
    },
    {
     "name": "stdout",
     "output_type": "stream",
     "text": [
      " Average training loss: 1.03\n"
     ]
    },
    {
     "name": "stderr",
     "output_type": "stream",
     "text": [
      "100%|████████████████████████████████████████| 120/120 [00:00<00:00, 840.45it/s]\n"
     ]
    },
    {
     "name": "stdout",
     "output_type": "stream",
     "text": [
      " Average valid loss: 1.07\n",
      "AUC_SCORE:  0.6060512503859216  acc:  0.4166666666666667 f1:  0.513888888888889\n",
      "Test\n"
     ]
    },
    {
     "name": "stderr",
     "output_type": "stream",
     "text": [
      "100%|████████████████████████████████████████| 121/121 [00:00<00:00, 820.42it/s]\n"
     ]
    },
    {
     "name": "stdout",
     "output_type": "stream",
     "text": [
      " Average valid loss: 1.03\n",
      "AUC_SCORE:  0.6926829268292684  acc:  0.3884297520661157 f1:  0.5066666666666667\n",
      "EPOCHS:14\n",
      "TRAIN\n"
     ]
    },
    {
     "name": "stderr",
     "output_type": "stream",
     "text": [
      "100%|████████████████████████████████████████| 963/963 [00:08<00:00, 118.67it/s]\n"
     ]
    },
    {
     "name": "stdout",
     "output_type": "stream",
     "text": [
      " Average training loss: 1.02\n"
     ]
    },
    {
     "name": "stderr",
     "output_type": "stream",
     "text": [
      "100%|████████████████████████████████████████| 120/120 [00:00<00:00, 845.18it/s]\n"
     ]
    },
    {
     "name": "stdout",
     "output_type": "stream",
     "text": [
      " Average valid loss: 1.07\n",
      "AUC_SCORE:  0.6112997838839147  acc:  0.4583333333333333 f1:  0.5323741007194245\n",
      "Test\n"
     ]
    },
    {
     "name": "stderr",
     "output_type": "stream",
     "text": [
      "100%|████████████████████████████████████████| 121/121 [00:00<00:00, 822.94it/s]\n"
     ]
    },
    {
     "name": "stdout",
     "output_type": "stream",
     "text": [
      " Average valid loss: 1.03\n",
      "AUC_SCORE:  0.6914634146341464  acc:  0.4132231404958678 f1:  0.5170068027210885\n",
      "EPOCHS:15\n",
      "TRAIN\n"
     ]
    },
    {
     "name": "stderr",
     "output_type": "stream",
     "text": [
      "100%|████████████████████████████████████████| 963/963 [00:08<00:00, 118.59it/s]\n"
     ]
    },
    {
     "name": "stdout",
     "output_type": "stream",
     "text": [
      " Average training loss: 1.02\n"
     ]
    },
    {
     "name": "stderr",
     "output_type": "stream",
     "text": [
      "100%|████████████████████████████████████████| 120/120 [00:00<00:00, 845.33it/s]\n"
     ]
    },
    {
     "name": "stdout",
     "output_type": "stream",
     "text": [
      " Average valid loss: 1.07\n",
      "AUC_SCORE:  0.6146958937943809  acc:  0.4583333333333333 f1:  0.5323741007194245\n",
      "Test\n"
     ]
    },
    {
     "name": "stderr",
     "output_type": "stream",
     "text": [
      "100%|████████████████████████████████████████| 121/121 [00:00<00:00, 823.85it/s]\n"
     ]
    },
    {
     "name": "stdout",
     "output_type": "stream",
     "text": [
      " Average valid loss: 1.03\n",
      "AUC_SCORE:  0.6917682926829268  acc:  0.4132231404958678 f1:  0.5170068027210885\n",
      "EPOCHS:16\n",
      "TRAIN\n"
     ]
    },
    {
     "name": "stderr",
     "output_type": "stream",
     "text": [
      "100%|████████████████████████████████████████| 963/963 [00:08<00:00, 118.71it/s]\n"
     ]
    },
    {
     "name": "stdout",
     "output_type": "stream",
     "text": [
      " Average training loss: 1.01\n"
     ]
    },
    {
     "name": "stderr",
     "output_type": "stream",
     "text": [
      "100%|████████████████████████████████████████| 120/120 [00:00<00:00, 844.19it/s]"
     ]
    },
    {
     "name": "stdout",
     "output_type": "stream",
     "text": [
      " Average valid loss: 1.07\n",
      "AUC_SCORE:  0.6193269527631985  acc:  0.475 f1:  0.5401459854014599\n",
      "15  EPOCH BEST MODEL!\n"
     ]
    },
    {
     "name": "stderr",
     "output_type": "stream",
     "text": [
      "\n"
     ]
    },
    {
     "name": "stdout",
     "output_type": "stream",
     "text": [
      "Test\n"
     ]
    },
    {
     "name": "stderr",
     "output_type": "stream",
     "text": [
      "100%|████████████████████████████████████████| 121/121 [00:00<00:00, 800.35it/s]\n"
     ]
    },
    {
     "name": "stdout",
     "output_type": "stream",
     "text": [
      " Average valid loss: 1.03\n",
      "AUC_SCORE:  0.6926829268292682  acc:  0.4214876033057851 f1:  0.5205479452054795\n",
      "EPOCHS:17\n",
      "TRAIN\n"
     ]
    },
    {
     "name": "stderr",
     "output_type": "stream",
     "text": [
      "100%|████████████████████████████████████████| 963/963 [00:08<00:00, 118.45it/s]\n"
     ]
    },
    {
     "name": "stdout",
     "output_type": "stream",
     "text": [
      " Average training loss: 1.00\n"
     ]
    },
    {
     "name": "stderr",
     "output_type": "stream",
     "text": [
      "100%|████████████████████████████████████████| 120/120 [00:00<00:00, 842.43it/s]\n"
     ]
    },
    {
     "name": "stdout",
     "output_type": "stream",
     "text": [
      " Average valid loss: 1.07\n",
      "AUC_SCORE:  0.6239580117320161  acc:  0.48333333333333334 f1:  0.5441176470588235\n",
      "16  EPOCH BEST MODEL!\n",
      "Test\n"
     ]
    },
    {
     "name": "stderr",
     "output_type": "stream",
     "text": [
      "100%|████████████████████████████████████████| 121/121 [00:00<00:00, 820.80it/s]\n"
     ]
    },
    {
     "name": "stdout",
     "output_type": "stream",
     "text": [
      " Average valid loss: 1.03\n",
      "AUC_SCORE:  0.6945121951219512  acc:  0.4132231404958678 f1:  0.5103448275862069\n",
      "EPOCHS:18\n",
      "TRAIN\n"
     ]
    },
    {
     "name": "stderr",
     "output_type": "stream",
     "text": [
      "100%|████████████████████████████████████████| 963/963 [00:08<00:00, 118.23it/s]\n"
     ]
    },
    {
     "name": "stdout",
     "output_type": "stream",
     "text": [
      " Average training loss: 1.00\n"
     ]
    },
    {
     "name": "stderr",
     "output_type": "stream",
     "text": [
      "100%|████████████████████████████████████████| 120/120 [00:00<00:00, 813.41it/s]\n"
     ]
    },
    {
     "name": "stdout",
     "output_type": "stream",
     "text": [
      " Average valid loss: 1.07\n",
      "AUC_SCORE:  0.6304414942883607  acc:  0.48333333333333334 f1:  0.5441176470588235\n",
      "Test\n"
     ]
    },
    {
     "name": "stderr",
     "output_type": "stream",
     "text": [
      "100%|████████████████████████████████████████| 121/121 [00:00<00:00, 814.46it/s]\n"
     ]
    },
    {
     "name": "stdout",
     "output_type": "stream",
     "text": [
      " Average valid loss: 1.04\n",
      "AUC_SCORE:  0.6923780487804878  acc:  0.4132231404958678 f1:  0.5103448275862069\n",
      "EPOCHS:19\n",
      "TRAIN\n"
     ]
    },
    {
     "name": "stderr",
     "output_type": "stream",
     "text": [
      "100%|████████████████████████████████████████| 963/963 [00:08<00:00, 118.46it/s]\n"
     ]
    },
    {
     "name": "stdout",
     "output_type": "stream",
     "text": [
      " Average training loss: 1.00\n"
     ]
    },
    {
     "name": "stderr",
     "output_type": "stream",
     "text": [
      "100%|████████████████████████████████████████| 120/120 [00:00<00:00, 845.79it/s]\n"
     ]
    },
    {
     "name": "stdout",
     "output_type": "stream",
     "text": [
      " Average valid loss: 1.07\n",
      "AUC_SCORE:  0.6338376041988267  acc:  0.48333333333333334 f1:  0.5373134328358209\n",
      "Test\n"
     ]
    },
    {
     "name": "stderr",
     "output_type": "stream",
     "text": [
      "100%|████████████████████████████████████████| 121/121 [00:00<00:00, 822.92it/s]\n"
     ]
    },
    {
     "name": "stdout",
     "output_type": "stream",
     "text": [
      " Average valid loss: 1.04\n",
      "AUC_SCORE:  0.6908536585365854  acc:  0.4297520661157025 f1:  0.5174825174825175\n",
      "EPOCHS:20\n",
      "TRAIN\n"
     ]
    },
    {
     "name": "stderr",
     "output_type": "stream",
     "text": [
      "100%|████████████████████████████████████████| 963/963 [00:08<00:00, 118.91it/s]\n"
     ]
    },
    {
     "name": "stdout",
     "output_type": "stream",
     "text": [
      " Average training loss: 1.00\n"
     ]
    },
    {
     "name": "stderr",
     "output_type": "stream",
     "text": [
      "100%|████████████████████████████████████████| 120/120 [00:00<00:00, 840.77it/s]\n"
     ]
    },
    {
     "name": "stdout",
     "output_type": "stream",
     "text": [
      " Average valid loss: 1.07\n",
      "AUC_SCORE:  0.6378511886384687  acc:  0.475 f1:  0.5263157894736842\n",
      "Test\n"
     ]
    },
    {
     "name": "stderr",
     "output_type": "stream",
     "text": [
      "100%|████████████████████████████████████████| 121/121 [00:00<00:00, 824.20it/s]\n"
     ]
    },
    {
     "name": "stdout",
     "output_type": "stream",
     "text": [
      " Average valid loss: 1.03\n",
      "AUC_SCORE:  0.6923780487804878  acc:  0.4462809917355372 f1:  0.524822695035461\n",
      "EPOCHS:21\n",
      "TRAIN\n"
     ]
    },
    {
     "name": "stderr",
     "output_type": "stream",
     "text": [
      "100%|████████████████████████████████████████| 963/963 [00:08<00:00, 118.13it/s]\n"
     ]
    },
    {
     "name": "stdout",
     "output_type": "stream",
     "text": [
      " Average training loss: 0.99\n"
     ]
    },
    {
     "name": "stderr",
     "output_type": "stream",
     "text": [
      "100%|████████████████████████████████████████| 120/120 [00:00<00:00, 844.37it/s]\n"
     ]
    },
    {
     "name": "stdout",
     "output_type": "stream",
     "text": [
      " Average valid loss: 1.07\n",
      "AUC_SCORE:  0.644643408459401  acc:  0.475 f1:  0.5263157894736842\n",
      "Test\n"
     ]
    },
    {
     "name": "stderr",
     "output_type": "stream",
     "text": [
      "100%|████████████████████████████████████████| 121/121 [00:00<00:00, 820.31it/s]\n"
     ]
    },
    {
     "name": "stdout",
     "output_type": "stream",
     "text": [
      " Average valid loss: 1.04\n",
      "AUC_SCORE:  0.6926829268292682  acc:  0.4297520661157025 f1:  0.5174825174825175\n",
      "EPOCHS:22\n",
      "TRAIN\n"
     ]
    },
    {
     "name": "stderr",
     "output_type": "stream",
     "text": [
      "100%|████████████████████████████████████████| 963/963 [00:08<00:00, 118.44it/s]\n"
     ]
    },
    {
     "name": "stdout",
     "output_type": "stream",
     "text": [
      " Average training loss: 0.99\n"
     ]
    },
    {
     "name": "stderr",
     "output_type": "stream",
     "text": [
      "100%|████████████████████████████████████████| 120/120 [00:00<00:00, 842.74it/s]\n"
     ]
    },
    {
     "name": "stdout",
     "output_type": "stream",
     "text": [
      " Average valid loss: 1.07\n",
      "AUC_SCORE:  0.6477307811052795  acc:  0.475 f1:  0.5263157894736842\n",
      "Test\n"
     ]
    },
    {
     "name": "stderr",
     "output_type": "stream",
     "text": [
      "100%|████████████████████████████████████████| 121/121 [00:00<00:00, 820.09it/s]\n"
     ]
    },
    {
     "name": "stdout",
     "output_type": "stream",
     "text": [
      " Average valid loss: 1.05\n",
      "AUC_SCORE:  0.6926829268292682  acc:  0.4380165289256198 f1:  0.5211267605633803\n",
      "EPOCHS:23\n",
      "TRAIN\n"
     ]
    },
    {
     "name": "stderr",
     "output_type": "stream",
     "text": [
      "100%|████████████████████████████████████████| 963/963 [00:08<00:00, 118.87it/s]\n"
     ]
    },
    {
     "name": "stdout",
     "output_type": "stream",
     "text": [
      " Average training loss: 0.98\n"
     ]
    },
    {
     "name": "stderr",
     "output_type": "stream",
     "text": [
      "100%|████████████████████████████████████████| 120/120 [00:00<00:00, 842.92it/s]\n"
     ]
    },
    {
     "name": "stdout",
     "output_type": "stream",
     "text": [
      " Average valid loss: 1.07\n",
      "AUC_SCORE:  0.6514356282803335  acc:  0.48333333333333334 f1:  0.5303030303030303\n",
      "Test\n"
     ]
    },
    {
     "name": "stderr",
     "output_type": "stream",
     "text": [
      "100%|████████████████████████████████████████| 121/121 [00:00<00:00, 825.65it/s]\n"
     ]
    },
    {
     "name": "stdout",
     "output_type": "stream",
     "text": [
      " Average valid loss: 1.04\n",
      "AUC_SCORE:  0.6929878048780487  acc:  0.4628099173553719 f1:  0.5323741007194245\n",
      "EPOCHS:24\n",
      "TRAIN\n"
     ]
    },
    {
     "name": "stderr",
     "output_type": "stream",
     "text": [
      "100%|████████████████████████████████████████| 963/963 [00:08<00:00, 118.42it/s]\n"
     ]
    },
    {
     "name": "stdout",
     "output_type": "stream",
     "text": [
      " Average training loss: 0.99\n"
     ]
    },
    {
     "name": "stderr",
     "output_type": "stream",
     "text": [
      "100%|████████████████████████████████████████| 120/120 [00:00<00:00, 837.49it/s]\n"
     ]
    },
    {
     "name": "stdout",
     "output_type": "stream",
     "text": [
      " Average valid loss: 1.07\n",
      "AUC_SCORE:  0.6569928990429145  acc:  0.48333333333333334 f1:  0.5303030303030303\n",
      "Test\n"
     ]
    },
    {
     "name": "stderr",
     "output_type": "stream",
     "text": [
      "100%|████████████████████████████████████████| 121/121 [00:00<00:00, 822.60it/s]\n"
     ]
    },
    {
     "name": "stdout",
     "output_type": "stream",
     "text": [
      " Average valid loss: 1.05\n",
      "AUC_SCORE:  0.6899390243902439  acc:  0.4380165289256198 f1:  0.5211267605633803\n",
      "EPOCHS:25\n",
      "TRAIN\n"
     ]
    },
    {
     "name": "stderr",
     "output_type": "stream",
     "text": [
      "100%|████████████████████████████████████████| 963/963 [00:08<00:00, 118.42it/s]\n"
     ]
    },
    {
     "name": "stdout",
     "output_type": "stream",
     "text": [
      " Average training loss: 0.98\n"
     ]
    },
    {
     "name": "stderr",
     "output_type": "stream",
     "text": [
      "100%|████████████████████████████████████████| 120/120 [00:00<00:00, 838.01it/s]\n"
     ]
    },
    {
     "name": "stdout",
     "output_type": "stream",
     "text": [
      " Average valid loss: 1.07\n",
      "AUC_SCORE:  0.6600802716887929  acc:  0.48333333333333334 f1:  0.5303030303030303\n",
      "Test\n"
     ]
    },
    {
     "name": "stderr",
     "output_type": "stream",
     "text": [
      "100%|████████████████████████████████████████| 121/121 [00:00<00:00, 820.31it/s]\n"
     ]
    },
    {
     "name": "stdout",
     "output_type": "stream",
     "text": [
      " Average valid loss: 1.05\n",
      "AUC_SCORE:  0.6911585365853659  acc:  0.4462809917355372 f1:  0.5179856115107914\n",
      "EPOCHS:26\n",
      "TRAIN\n"
     ]
    },
    {
     "name": "stderr",
     "output_type": "stream",
     "text": [
      "100%|████████████████████████████████████████| 963/963 [00:08<00:00, 117.22it/s]\n"
     ]
    },
    {
     "name": "stdout",
     "output_type": "stream",
     "text": [
      " Average training loss: 0.97\n"
     ]
    },
    {
     "name": "stderr",
     "output_type": "stream",
     "text": [
      "100%|████████████████████████████████████████| 120/120 [00:00<00:00, 760.89it/s]\n"
     ]
    },
    {
     "name": "stdout",
     "output_type": "stream",
     "text": [
      " Average valid loss: 1.07\n",
      "AUC_SCORE:  0.6647113306576105  acc:  0.48333333333333334 f1:  0.5303030303030303\n",
      "Test\n"
     ]
    },
    {
     "name": "stderr",
     "output_type": "stream",
     "text": [
      "100%|████████████████████████████████████████| 121/121 [00:00<00:00, 770.80it/s]\n"
     ]
    },
    {
     "name": "stdout",
     "output_type": "stream",
     "text": [
      " Average valid loss: 1.05\n",
      "AUC_SCORE:  0.6893292682926829  acc:  0.45454545454545453 f1:  0.5217391304347827\n",
      "EPOCHS:27\n",
      "TRAIN\n"
     ]
    },
    {
     "name": "stderr",
     "output_type": "stream",
     "text": [
      "100%|████████████████████████████████████████| 963/963 [00:08<00:00, 117.92it/s]\n"
     ]
    },
    {
     "name": "stdout",
     "output_type": "stream",
     "text": [
      " Average training loss: 0.97\n"
     ]
    },
    {
     "name": "stderr",
     "output_type": "stream",
     "text": [
      "100%|████████████████████████████████████████| 120/120 [00:00<00:00, 844.88it/s]\n"
     ]
    },
    {
     "name": "stdout",
     "output_type": "stream",
     "text": [
      " Average valid loss: 1.07\n",
      "AUC_SCORE:  0.6659462797159618  acc:  0.49166666666666664 f1:  0.5343511450381678\n",
      "Test\n"
     ]
    },
    {
     "name": "stderr",
     "output_type": "stream",
     "text": [
      "100%|████████████████████████████████████████| 121/121 [00:00<00:00, 826.76it/s]\n"
     ]
    },
    {
     "name": "stdout",
     "output_type": "stream",
     "text": [
      " Average valid loss: 1.05\n",
      "AUC_SCORE:  0.6875  acc:  0.45454545454545453 f1:  0.5217391304347827\n",
      "EPOCHS:28\n",
      "TRAIN\n"
     ]
    },
    {
     "name": "stderr",
     "output_type": "stream",
     "text": [
      "100%|████████████████████████████████████████| 963/963 [00:08<00:00, 118.68it/s]\n"
     ]
    },
    {
     "name": "stdout",
     "output_type": "stream",
     "text": [
      " Average training loss: 0.96\n"
     ]
    },
    {
     "name": "stderr",
     "output_type": "stream",
     "text": [
      "100%|████████████████████████████████████████| 120/120 [00:00<00:00, 821.19it/s]\n"
     ]
    },
    {
     "name": "stdout",
     "output_type": "stream",
     "text": [
      " Average valid loss: 1.07\n",
      "AUC_SCORE:  0.6681074405680766  acc:  0.48333333333333334 f1:  0.5303030303030303\n",
      "Test\n"
     ]
    },
    {
     "name": "stderr",
     "output_type": "stream",
     "text": [
      "100%|████████████████████████████████████████| 121/121 [00:00<00:00, 808.68it/s]\n"
     ]
    },
    {
     "name": "stdout",
     "output_type": "stream",
     "text": [
      " Average valid loss: 1.06\n",
      "AUC_SCORE:  0.6847560975609757  acc:  0.4462809917355372 f1:  0.5179856115107914\n",
      "EPOCHS:29\n",
      "TRAIN\n"
     ]
    },
    {
     "name": "stderr",
     "output_type": "stream",
     "text": [
      "100%|████████████████████████████████████████| 963/963 [00:08<00:00, 118.04it/s]\n"
     ]
    },
    {
     "name": "stdout",
     "output_type": "stream",
     "text": [
      " Average training loss: 0.96\n"
     ]
    },
    {
     "name": "stderr",
     "output_type": "stream",
     "text": [
      "100%|████████████████████████████████████████| 120/120 [00:00<00:00, 841.82it/s]\n"
     ]
    },
    {
     "name": "stdout",
     "output_type": "stream",
     "text": [
      " Average valid loss: 1.07\n",
      "AUC_SCORE:  0.6708860759493671  acc:  0.48333333333333334 f1:  0.5303030303030303\n",
      "Test\n"
     ]
    },
    {
     "name": "stderr",
     "output_type": "stream",
     "text": [
      "100%|████████████████████████████████████████| 121/121 [00:00<00:00, 824.65it/s]\n"
     ]
    },
    {
     "name": "stdout",
     "output_type": "stream",
     "text": [
      " Average valid loss: 1.06\n",
      "AUC_SCORE:  0.6850609756097561  acc:  0.4380165289256198 f1:  0.5211267605633803\n",
      "EPOCHS:30\n",
      "TRAIN\n"
     ]
    },
    {
     "name": "stderr",
     "output_type": "stream",
     "text": [
      "100%|████████████████████████████████████████| 963/963 [00:08<00:00, 118.69it/s]\n"
     ]
    },
    {
     "name": "stdout",
     "output_type": "stream",
     "text": [
      " Average training loss: 0.96\n"
     ]
    },
    {
     "name": "stderr",
     "output_type": "stream",
     "text": [
      "100%|████████████████████████████████████████| 120/120 [00:00<00:00, 840.95it/s]\n"
     ]
    },
    {
     "name": "stdout",
     "output_type": "stream",
     "text": [
      " Average valid loss: 1.07\n",
      "AUC_SCORE:  0.673047236801482  acc:  0.49166666666666664 f1:  0.5343511450381678\n",
      "Test\n"
     ]
    },
    {
     "name": "stderr",
     "output_type": "stream",
     "text": [
      "100%|████████████████████████████████████████| 121/121 [00:00<00:00, 824.08it/s]\n"
     ]
    },
    {
     "name": "stdout",
     "output_type": "stream",
     "text": [
      " Average valid loss: 1.07\n",
      "AUC_SCORE:  0.6823170731707316  acc:  0.4380165289256198 f1:  0.5142857142857142\n",
      "EPOCHS:31\n",
      "TRAIN\n"
     ]
    },
    {
     "name": "stderr",
     "output_type": "stream",
     "text": [
      "100%|████████████████████████████████████████| 963/963 [00:08<00:00, 119.11it/s]\n"
     ]
    },
    {
     "name": "stdout",
     "output_type": "stream",
     "text": [
      " Average training loss: 0.96\n"
     ]
    },
    {
     "name": "stderr",
     "output_type": "stream",
     "text": [
      "100%|████████████████████████████████████████| 120/120 [00:00<00:00, 842.45it/s]\n"
     ]
    },
    {
     "name": "stdout",
     "output_type": "stream",
     "text": [
      " Average valid loss: 1.06\n",
      "AUC_SCORE:  0.6745909231244211  acc:  0.5 f1:  0.5384615384615385\n",
      "Test\n"
     ]
    },
    {
     "name": "stderr",
     "output_type": "stream",
     "text": [
      "100%|████████████████████████████████████████| 121/121 [00:00<00:00, 825.22it/s]\n"
     ]
    },
    {
     "name": "stdout",
     "output_type": "stream",
     "text": [
      " Average valid loss: 1.06\n",
      "AUC_SCORE:  0.6810975609756098  acc:  0.4380165289256198 f1:  0.5142857142857142\n",
      "EPOCHS:32\n",
      "TRAIN\n"
     ]
    },
    {
     "name": "stderr",
     "output_type": "stream",
     "text": [
      "100%|████████████████████████████████████████| 963/963 [00:08<00:00, 118.80it/s]\n"
     ]
    },
    {
     "name": "stdout",
     "output_type": "stream",
     "text": [
      " Average training loss: 0.95\n"
     ]
    },
    {
     "name": "stderr",
     "output_type": "stream",
     "text": [
      "100%|████████████████████████████████████████| 120/120 [00:00<00:00, 847.15it/s]\n"
     ]
    },
    {
     "name": "stdout",
     "output_type": "stream",
     "text": [
      " Average valid loss: 1.06\n",
      "AUC_SCORE:  0.6773695585057117  acc:  0.5 f1:  0.5384615384615385\n",
      "Test\n"
     ]
    },
    {
     "name": "stderr",
     "output_type": "stream",
     "text": [
      "100%|████████████████████████████████████████| 121/121 [00:00<00:00, 818.88it/s]\n"
     ]
    },
    {
     "name": "stdout",
     "output_type": "stream",
     "text": [
      " Average valid loss: 1.07\n",
      "AUC_SCORE:  0.6807926829268293  acc:  0.4380165289256198 f1:  0.5142857142857142\n",
      "EPOCHS:33\n",
      "TRAIN\n"
     ]
    },
    {
     "name": "stderr",
     "output_type": "stream",
     "text": [
      "100%|████████████████████████████████████████| 963/963 [00:08<00:00, 118.49it/s]\n"
     ]
    },
    {
     "name": "stdout",
     "output_type": "stream",
     "text": [
      " Average training loss: 0.94\n"
     ]
    },
    {
     "name": "stderr",
     "output_type": "stream",
     "text": [
      "100%|████████████████████████████████████████| 120/120 [00:00<00:00, 841.96it/s]\n"
     ]
    },
    {
     "name": "stdout",
     "output_type": "stream",
     "text": [
      " Average valid loss: 1.06\n",
      "AUC_SCORE:  0.6795307193578265  acc:  0.5 f1:  0.5384615384615385\n",
      "Test\n"
     ]
    },
    {
     "name": "stderr",
     "output_type": "stream",
     "text": [
      "100%|████████████████████████████████████████| 121/121 [00:00<00:00, 820.35it/s]\n"
     ]
    },
    {
     "name": "stdout",
     "output_type": "stream",
     "text": [
      " Average valid loss: 1.07\n",
      "AUC_SCORE:  0.6832317073170732  acc:  0.4462809917355372 f1:  0.5179856115107914\n",
      "EPOCHS:34\n",
      "TRAIN\n"
     ]
    },
    {
     "name": "stderr",
     "output_type": "stream",
     "text": [
      "100%|████████████████████████████████████████| 963/963 [00:08<00:00, 118.70it/s]\n"
     ]
    },
    {
     "name": "stdout",
     "output_type": "stream",
     "text": [
      " Average training loss: 0.95\n"
     ]
    },
    {
     "name": "stderr",
     "output_type": "stream",
     "text": [
      "100%|████████████████████████████████████████| 120/120 [00:00<00:00, 845.09it/s]\n"
     ]
    },
    {
     "name": "stdout",
     "output_type": "stream",
     "text": [
      " Average valid loss: 1.06\n",
      "AUC_SCORE:  0.6838530410620561  acc:  0.5 f1:  0.5384615384615385\n",
      "Test\n"
     ]
    },
    {
     "name": "stderr",
     "output_type": "stream",
     "text": [
      "100%|████████████████████████████████████████| 121/121 [00:00<00:00, 821.25it/s]\n"
     ]
    },
    {
     "name": "stdout",
     "output_type": "stream",
     "text": [
      " Average valid loss: 1.07\n",
      "AUC_SCORE:  0.6798780487804877  acc:  0.45454545454545453 f1:  0.5285714285714286\n",
      "EPOCHS:35\n",
      "TRAIN\n"
     ]
    },
    {
     "name": "stderr",
     "output_type": "stream",
     "text": [
      "100%|████████████████████████████████████████| 963/963 [00:08<00:00, 118.99it/s]\n"
     ]
    },
    {
     "name": "stdout",
     "output_type": "stream",
     "text": [
      " Average training loss: 0.94\n"
     ]
    },
    {
     "name": "stderr",
     "output_type": "stream",
     "text": [
      "100%|████████████████████████████████████████| 120/120 [00:00<00:00, 847.34it/s]\n"
     ]
    },
    {
     "name": "stdout",
     "output_type": "stream",
     "text": [
      " Average valid loss: 1.06\n",
      "AUC_SCORE:  0.6857054646495833  acc:  0.49166666666666664 f1:  0.5343511450381678\n",
      "Test\n"
     ]
    },
    {
     "name": "stderr",
     "output_type": "stream",
     "text": [
      "100%|████████████████████████████████████████| 121/121 [00:00<00:00, 828.21it/s]\n"
     ]
    },
    {
     "name": "stdout",
     "output_type": "stream",
     "text": [
      " Average valid loss: 1.08\n",
      "AUC_SCORE:  0.6795731707317072  acc:  0.45454545454545453 f1:  0.5285714285714286\n",
      "EPOCHS:36\n",
      "TRAIN\n"
     ]
    },
    {
     "name": "stderr",
     "output_type": "stream",
     "text": [
      "100%|████████████████████████████████████████| 963/963 [00:08<00:00, 118.98it/s]\n"
     ]
    },
    {
     "name": "stdout",
     "output_type": "stream",
     "text": [
      " Average training loss: 0.93\n"
     ]
    },
    {
     "name": "stderr",
     "output_type": "stream",
     "text": [
      "100%|████████████████████████████████████████| 120/120 [00:00<00:00, 844.78it/s]\n"
     ]
    },
    {
     "name": "stdout",
     "output_type": "stream",
     "text": [
      " Average valid loss: 1.06\n",
      "AUC_SCORE:  0.6881753627662859  acc:  0.49166666666666664 f1:  0.5343511450381678\n",
      "Test\n"
     ]
    },
    {
     "name": "stderr",
     "output_type": "stream",
     "text": [
      "100%|████████████████████████████████████████| 121/121 [00:00<00:00, 819.33it/s]\n"
     ]
    },
    {
     "name": "stdout",
     "output_type": "stream",
     "text": [
      " Average valid loss: 1.09\n",
      "AUC_SCORE:  0.6807926829268293  acc:  0.45454545454545453 f1:  0.5285714285714286\n",
      "EPOCHS:37\n",
      "TRAIN\n"
     ]
    },
    {
     "name": "stderr",
     "output_type": "stream",
     "text": [
      "100%|████████████████████████████████████████| 963/963 [00:08<00:00, 119.09it/s]\n"
     ]
    },
    {
     "name": "stdout",
     "output_type": "stream",
     "text": [
      " Average training loss: 0.95\n"
     ]
    },
    {
     "name": "stderr",
     "output_type": "stream",
     "text": [
      "100%|████████████████████████████████████████| 120/120 [00:00<00:00, 846.14it/s]\n"
     ]
    },
    {
     "name": "stdout",
     "output_type": "stream",
     "text": [
      " Average valid loss: 1.06\n",
      "AUC_SCORE:  0.6909539981475764  acc:  0.5 f1:  0.5384615384615385\n",
      "Test\n"
     ]
    },
    {
     "name": "stderr",
     "output_type": "stream",
     "text": [
      "100%|████████████████████████████████████████| 121/121 [00:00<00:00, 823.98it/s]\n"
     ]
    },
    {
     "name": "stdout",
     "output_type": "stream",
     "text": [
      " Average valid loss: 1.09\n",
      "AUC_SCORE:  0.6795731707317073  acc:  0.45454545454545453 f1:  0.5285714285714286\n",
      "EPOCHS:38\n",
      "TRAIN\n"
     ]
    },
    {
     "name": "stderr",
     "output_type": "stream",
     "text": [
      "100%|████████████████████████████████████████| 963/963 [00:08<00:00, 118.80it/s]\n"
     ]
    },
    {
     "name": "stdout",
     "output_type": "stream",
     "text": [
      " Average training loss: 0.93\n"
     ]
    },
    {
     "name": "stderr",
     "output_type": "stream",
     "text": [
      "100%|████████████████████████████████████████| 120/120 [00:00<00:00, 843.05it/s]\n"
     ]
    },
    {
     "name": "stdout",
     "output_type": "stream",
     "text": [
      " Average valid loss: 1.05\n",
      "AUC_SCORE:  0.6940413707934547  acc:  0.5333333333333333 f1:  0.5555555555555556\n",
      "37  EPOCH BEST MODEL!\n",
      "Test\n"
     ]
    },
    {
     "name": "stderr",
     "output_type": "stream",
     "text": [
      "100%|████████████████████████████████████████| 121/121 [00:00<00:00, 818.40it/s]\n"
     ]
    },
    {
     "name": "stdout",
     "output_type": "stream",
     "text": [
      " Average valid loss: 1.08\n",
      "AUC_SCORE:  0.6810975609756098  acc:  0.4793388429752066 f1:  0.5401459854014599\n",
      "EPOCHS:39\n",
      "TRAIN\n"
     ]
    },
    {
     "name": "stderr",
     "output_type": "stream",
     "text": [
      "100%|████████████████████████████████████████| 963/963 [00:08<00:00, 117.85it/s]\n"
     ]
    },
    {
     "name": "stdout",
     "output_type": "stream",
     "text": [
      " Average training loss: 0.94\n"
     ]
    },
    {
     "name": "stderr",
     "output_type": "stream",
     "text": [
      "100%|████████████████████████████████████████| 120/120 [00:00<00:00, 844.22it/s]\n"
     ]
    },
    {
     "name": "stdout",
     "output_type": "stream",
     "text": [
      " Average valid loss: 1.06\n",
      "AUC_SCORE:  0.6965112689101575  acc:  0.5166666666666667 f1:  0.546875\n",
      "Test\n"
     ]
    },
    {
     "name": "stderr",
     "output_type": "stream",
     "text": [
      "100%|████████████████████████████████████████| 121/121 [00:00<00:00, 830.17it/s]\n"
     ]
    },
    {
     "name": "stdout",
     "output_type": "stream",
     "text": [
      " Average valid loss: 1.09\n",
      "AUC_SCORE:  0.6820121951219511  acc:  0.47107438016528924 f1:  0.536231884057971\n",
      "EPOCHS:40\n",
      "TRAIN\n"
     ]
    },
    {
     "name": "stderr",
     "output_type": "stream",
     "text": [
      "100%|████████████████████████████████████████| 963/963 [00:08<00:00, 119.35it/s]\n"
     ]
    },
    {
     "name": "stdout",
     "output_type": "stream",
     "text": [
      " Average training loss: 0.93\n"
     ]
    },
    {
     "name": "stderr",
     "output_type": "stream",
     "text": [
      "100%|████████████████████████████████████████| 120/120 [00:00<00:00, 843.10it/s]\n"
     ]
    },
    {
     "name": "stdout",
     "output_type": "stream",
     "text": [
      " Average valid loss: 1.06\n",
      "AUC_SCORE:  0.6971287434393331  acc:  0.5166666666666667 f1:  0.546875\n",
      "Test\n"
     ]
    },
    {
     "name": "stderr",
     "output_type": "stream",
     "text": [
      "100%|████████████████████████████████████████| 121/121 [00:00<00:00, 825.05it/s]\n"
     ]
    },
    {
     "name": "stdout",
     "output_type": "stream",
     "text": [
      " Average valid loss: 1.09\n",
      "AUC_SCORE:  0.6820121951219512  acc:  0.47107438016528924 f1:  0.536231884057971\n"
     ]
    },
    {
     "name": "stderr",
     "output_type": "stream",
     "text": [
      "100%|████████████████████████████████████████| 121/121 [00:00<00:00, 821.67it/s]"
     ]
    },
    {
     "name": "stdout",
     "output_type": "stream",
     "text": [
      " Average valid loss: 1.08\n",
      "AUC_SCORE:  0.6810975609756098  acc:  0.4793388429752066 f1:  0.5401459854014599\n",
      "BEST MODEL\n",
      "AUC_SCORE:  0.6810975609756098  acc:  0.4793388429752066 f1:  0.5401459854014599\n",
      "{'auc_micro': 0.6810975609756098, 'acc': 0.4793388429752066, 'f1': 0.5401459854014599, 'pred': [[1, 1, 0, 1, 1, 1, 1, 1, 1, 1], [0, 1, 1, 1, 1, 1, 0, 1, 1, 1], [1, 1, 1, 1, 0, 1, 1, 1, 1, 1], [1, 1, 0, 0, 1, 1, 1, 1, 1, 1], [1, 0, 1, 0, 1, 1, 1, 1, 0, 1], [1, 1, 1, 0, 0, 1, 1, 0, 0, 1], [1, 1, 0, 1, 1, 0, 1, 1, 1, 1], [1, 0, 1, 0, 1, 0, 1, 1, 1, 1], [0, 1, 1, 1, 1, 1, 1, 1, 1, 1], [1, 0, 0, 1, 1, 1, 1, 1, 1, 1], [0, 1, 1, 0, 1, 1, 1, 1, 1, 0], [1, 1, 1, 1, 1, 1, 1, 1, 1, 0], [1], [], [], [], [], [], [], []]}\n"
     ]
    },
    {
     "name": "stderr",
     "output_type": "stream",
     "text": [
      "\n"
     ]
    }
   ],
   "source": [
    "bert2 = BertModel().to('cuda')\n",
    "score = fit(bert2, train_data,valid_data,test_data,EPOCHS=40)\n",
    "print(score)"
   ]
  },
  {
   "cell_type": "code",
   "execution_count": null,
   "id": "2b0cb061",
   "metadata": {},
   "outputs": [],
   "source": []
  },
  {
   "cell_type": "markdown",
   "id": "d5b645a8",
   "metadata": {},
   "source": [
    "# 그냥 metapath"
   ]
  },
  {
   "cell_type": "code",
   "execution_count": 23,
   "id": "4f63260f",
   "metadata": {},
   "outputs": [],
   "source": [
    "path1 = 'word2vec_model_char/'\n",
    "path2 = 'data/scriptbase/'\n",
    "filenames = os.listdir(path1)\n",
    "train_data = []\n",
    "valid_data = []\n",
    "test_data = []\n",
    "one = 0\n",
    "zero = 0\n",
    "end = torch.ones(1,1,384)\n",
    "\n",
    "for filename in filenames:\n",
    "    genres = []\n",
    "    movie_name = filename[:-14]\n",
    "    cult = 0\n",
    "    with open(path2+movie_name+'/processed/imdb_meta.txt','r') as f:\n",
    "        lines = f.readlines()\n",
    "        for line in lines:\n",
    "            if 'keyword' in line:\n",
    "                try:\n",
    "                    keyword  = line.strip().split('\\t')[1]\n",
    "                    keywords.append(keyword)\n",
    "                except:\n",
    "                    pass\n",
    "                if 'cult film'==keyword:\n",
    "                    cult = 1\n",
    "        \n",
    "    w2v=Word2Vec.load(path1 + filename)\n",
    "    base = 'scene_'\n",
    "    scene_num = 0\n",
    "    max_scene = 0\n",
    "    for node in w2v.wv.index_to_key:\n",
    "        if base in node:\n",
    "            scene_num += 1\n",
    "            if int(node[6:])>max_scene:\n",
    "                max_scene = int(node[6:])\n",
    "    embs = torch.zeros(1,scene_num+1,384)\n",
    "    k = 0\n",
    "    for i in range(1,max_scene+1):\n",
    "        emb_name = base + str(i)\n",
    "        if emb_name in w2v.wv.index_to_key:\n",
    "            emb = w2v.wv[emb_name]\n",
    "            emb = torch.from_numpy(emb)\n",
    "            embs[0][k] = emb\n",
    "            k += 1\n",
    "    embs[0][-1] = end\n",
    "        \n",
    "        \n",
    "    rand = random.randint(0,100)    \n",
    "    if movie_name in movie_split['train']:\n",
    "        train_data.append([embs, [cult]])\n",
    "    elif movie_name in movie_split['valid']:\n",
    "        valid_data.append([embs, [cult]])\n",
    "    \n",
    "    elif movie_name in movie_split['test']:\n",
    "        test_data.append([embs, [cult]])\n",
    "    \n",
    "    if cult:\n",
    "        one += 1\n",
    "    else:\n",
    "        zero += 1"
   ]
  },
  {
   "cell_type": "code",
   "execution_count": 24,
   "id": "55964ff2",
   "metadata": {},
   "outputs": [
    {
     "name": "stdout",
     "output_type": "stream",
     "text": [
      "963\n",
      "120\n",
      "121\n"
     ]
    }
   ],
   "source": [
    "print(len(train_data))\n",
    "print(len(valid_data))\n",
    "print(len(test_data))"
   ]
  },
  {
   "cell_type": "code",
   "execution_count": 25,
   "id": "28fda3b2",
   "metadata": {},
   "outputs": [
    {
     "name": "stdout",
     "output_type": "stream",
     "text": [
      "EPOCHS:1\n",
      "TRAIN\n"
     ]
    },
    {
     "name": "stderr",
     "output_type": "stream",
     "text": [
      "100%|████████████████████████████████████████| 963/963 [00:08<00:00, 120.25it/s]\n"
     ]
    },
    {
     "name": "stdout",
     "output_type": "stream",
     "text": [
      " Average training loss: 1.10\n"
     ]
    },
    {
     "name": "stderr",
     "output_type": "stream",
     "text": [
      "100%|████████████████████████████████████████| 120/120 [00:00<00:00, 878.15it/s]\n"
     ]
    },
    {
     "name": "stdout",
     "output_type": "stream",
     "text": [
      " Average valid loss: 1.09\n",
      "AUC_SCORE:  0.5365853658536586  acc:  0.3416666666666667 f1:  0.5093167701863354\n",
      "Test\n"
     ]
    },
    {
     "name": "stderr",
     "output_type": "stream",
     "text": [
      "100%|████████████████████████████████████████| 121/121 [00:00<00:00, 854.05it/s]\n"
     ]
    },
    {
     "name": "stdout",
     "output_type": "stream",
     "text": [
      " Average valid loss: 1.08\n",
      "AUC_SCORE:  0.6484756097560976  acc:  0.33884297520661155 f1:  0.5061728395061729\n",
      "EPOCHS:2\n",
      "TRAIN\n"
     ]
    },
    {
     "name": "stderr",
     "output_type": "stream",
     "text": [
      "100%|████████████████████████████████████████| 963/963 [00:08<00:00, 120.30it/s]\n"
     ]
    },
    {
     "name": "stdout",
     "output_type": "stream",
     "text": [
      " Average training loss: 1.08\n"
     ]
    },
    {
     "name": "stderr",
     "output_type": "stream",
     "text": [
      "100%|████████████████████████████████████████| 120/120 [00:00<00:00, 886.08it/s]\n"
     ]
    },
    {
     "name": "stdout",
     "output_type": "stream",
     "text": [
      " Average valid loss: 1.09\n",
      "AUC_SCORE:  0.5751775239271381  acc:  0.3416666666666667 f1:  0.5093167701863354\n",
      "Test\n"
     ]
    },
    {
     "name": "stderr",
     "output_type": "stream",
     "text": [
      "100%|████████████████████████████████████████| 121/121 [00:00<00:00, 864.79it/s]\n"
     ]
    },
    {
     "name": "stdout",
     "output_type": "stream",
     "text": [
      " Average valid loss: 1.07\n",
      "AUC_SCORE:  0.6673780487804878  acc:  0.33884297520661155 f1:  0.5061728395061729\n",
      "EPOCHS:3\n",
      "TRAIN\n"
     ]
    },
    {
     "name": "stderr",
     "output_type": "stream",
     "text": [
      "100%|████████████████████████████████████████| 963/963 [00:08<00:00, 120.35it/s]\n"
     ]
    },
    {
     "name": "stdout",
     "output_type": "stream",
     "text": [
      " Average training loss: 1.08\n"
     ]
    },
    {
     "name": "stderr",
     "output_type": "stream",
     "text": [
      "100%|████████████████████████████████████████| 120/120 [00:00<00:00, 883.04it/s]\n"
     ]
    },
    {
     "name": "stdout",
     "output_type": "stream",
     "text": [
      " Average valid loss: 1.08\n",
      "AUC_SCORE:  0.6001852423587527  acc:  0.3416666666666667 f1:  0.5093167701863354\n",
      "Test\n"
     ]
    },
    {
     "name": "stderr",
     "output_type": "stream",
     "text": [
      "100%|████████████████████████████████████████| 121/121 [00:00<00:00, 873.16it/s]\n"
     ]
    },
    {
     "name": "stdout",
     "output_type": "stream",
     "text": [
      " Average valid loss: 1.06\n",
      "AUC_SCORE:  0.6853658536585365  acc:  0.33884297520661155 f1:  0.5061728395061729\n",
      "EPOCHS:4\n",
      "TRAIN\n"
     ]
    },
    {
     "name": "stderr",
     "output_type": "stream",
     "text": [
      "100%|████████████████████████████████████████| 963/963 [00:07<00:00, 121.65it/s]\n"
     ]
    },
    {
     "name": "stdout",
     "output_type": "stream",
     "text": [
      " Average training loss: 1.07\n"
     ]
    },
    {
     "name": "stderr",
     "output_type": "stream",
     "text": [
      "100%|████████████████████████████████████████| 120/120 [00:00<00:00, 879.74it/s]\n"
     ]
    },
    {
     "name": "stdout",
     "output_type": "stream",
     "text": [
      " Average valid loss: 1.08\n",
      "AUC_SCORE:  0.6156221055881445  acc:  0.3416666666666667 f1:  0.5093167701863354\n",
      "Test\n"
     ]
    },
    {
     "name": "stderr",
     "output_type": "stream",
     "text": [
      "100%|████████████████████████████████████████| 121/121 [00:00<00:00, 876.36it/s]\n"
     ]
    },
    {
     "name": "stdout",
     "output_type": "stream",
     "text": [
      " Average valid loss: 1.05\n",
      "AUC_SCORE:  0.6914634146341464  acc:  0.33884297520661155 f1:  0.5061728395061729\n",
      "EPOCHS:5\n",
      "TRAIN\n"
     ]
    },
    {
     "name": "stderr",
     "output_type": "stream",
     "text": [
      "100%|████████████████████████████████████████| 963/963 [00:07<00:00, 121.23it/s]\n"
     ]
    },
    {
     "name": "stdout",
     "output_type": "stream",
     "text": [
      " Average training loss: 1.06\n"
     ]
    },
    {
     "name": "stderr",
     "output_type": "stream",
     "text": [
      "100%|████████████████████████████████████████| 120/120 [00:00<00:00, 885.10it/s]"
     ]
    },
    {
     "name": "stdout",
     "output_type": "stream",
     "text": [
      " Average valid loss: 1.07\n",
      "AUC_SCORE:  0.6261191725841309  acc:  0.35 f1:  0.5125\n",
      "4  EPOCH BEST MODEL!\n"
     ]
    },
    {
     "name": "stderr",
     "output_type": "stream",
     "text": [
      "\n"
     ]
    },
    {
     "name": "stdout",
     "output_type": "stream",
     "text": [
      "Test\n"
     ]
    },
    {
     "name": "stderr",
     "output_type": "stream",
     "text": [
      "100%|████████████████████████████████████████| 121/121 [00:00<00:00, 865.81it/s]\n"
     ]
    },
    {
     "name": "stdout",
     "output_type": "stream",
     "text": [
      " Average valid loss: 1.05\n",
      "AUC_SCORE:  0.6978658536585367  acc:  0.35537190082644626 f1:  0.5125\n",
      "EPOCHS:6\n",
      "TRAIN\n"
     ]
    },
    {
     "name": "stderr",
     "output_type": "stream",
     "text": [
      "100%|████████████████████████████████████████| 963/963 [00:07<00:00, 121.15it/s]\n"
     ]
    },
    {
     "name": "stdout",
     "output_type": "stream",
     "text": [
      " Average training loss: 1.06\n"
     ]
    },
    {
     "name": "stderr",
     "output_type": "stream",
     "text": [
      "100%|████████████████████████████████████████| 120/120 [00:00<00:00, 886.74it/s]\n"
     ]
    },
    {
     "name": "stdout",
     "output_type": "stream",
     "text": [
      " Average valid loss: 1.07\n",
      "AUC_SCORE:  0.6344550787280024  acc:  0.375 f1:  0.5222929936305732\n",
      "5  EPOCH BEST MODEL!\n",
      "Test\n"
     ]
    },
    {
     "name": "stderr",
     "output_type": "stream",
     "text": [
      "100%|████████████████████████████████████████| 121/121 [00:00<00:00, 865.46it/s]\n"
     ]
    },
    {
     "name": "stdout",
     "output_type": "stream",
     "text": [
      " Average valid loss: 1.04\n",
      "AUC_SCORE:  0.7042682926829269  acc:  0.35537190082644626 f1:  0.5125\n",
      "EPOCHS:7\n",
      "TRAIN\n"
     ]
    },
    {
     "name": "stderr",
     "output_type": "stream",
     "text": [
      "100%|████████████████████████████████████████| 963/963 [00:07<00:00, 121.51it/s]\n"
     ]
    },
    {
     "name": "stdout",
     "output_type": "stream",
     "text": [
      " Average training loss: 1.05\n"
     ]
    },
    {
     "name": "stderr",
     "output_type": "stream",
     "text": [
      "100%|████████████████████████████████████████| 120/120 [00:00<00:00, 886.37it/s]\n"
     ]
    },
    {
     "name": "stdout",
     "output_type": "stream",
     "text": [
      " Average valid loss: 1.06\n",
      "AUC_SCORE:  0.63908613769682  acc:  0.36666666666666664 f1:  0.5128205128205128\n",
      "Test\n"
     ]
    },
    {
     "name": "stderr",
     "output_type": "stream",
     "text": [
      "100%|████████████████████████████████████████| 121/121 [00:00<00:00, 883.60it/s]\n"
     ]
    },
    {
     "name": "stdout",
     "output_type": "stream",
     "text": [
      " Average valid loss: 1.03\n",
      "AUC_SCORE:  0.7067073170731708  acc:  0.371900826446281 f1:  0.5128205128205128\n",
      "EPOCHS:8\n",
      "TRAIN\n"
     ]
    },
    {
     "name": "stderr",
     "output_type": "stream",
     "text": [
      "100%|████████████████████████████████████████| 963/963 [00:07<00:00, 121.64it/s]\n"
     ]
    },
    {
     "name": "stdout",
     "output_type": "stream",
     "text": [
      " Average training loss: 1.04\n"
     ]
    },
    {
     "name": "stderr",
     "output_type": "stream",
     "text": [
      "100%|████████████████████████████████████████| 120/120 [00:00<00:00, 888.81it/s]\n"
     ]
    },
    {
     "name": "stdout",
     "output_type": "stream",
     "text": [
      " Average valid loss: 1.05\n",
      "AUC_SCORE:  0.6412472985489348  acc:  0.39166666666666666 f1:  0.5228758169934641\n",
      "7  EPOCH BEST MODEL!\n",
      "Test\n"
     ]
    },
    {
     "name": "stderr",
     "output_type": "stream",
     "text": [
      "100%|████████████████████████████████████████| 121/121 [00:00<00:00, 864.37it/s]\n"
     ]
    },
    {
     "name": "stdout",
     "output_type": "stream",
     "text": [
      " Average valid loss: 1.03\n",
      "AUC_SCORE:  0.7073170731707318  acc:  0.371900826446281 f1:  0.5064935064935066\n",
      "EPOCHS:9\n",
      "TRAIN\n"
     ]
    },
    {
     "name": "stderr",
     "output_type": "stream",
     "text": [
      "100%|████████████████████████████████████████| 963/963 [00:07<00:00, 122.37it/s]\n"
     ]
    },
    {
     "name": "stdout",
     "output_type": "stream",
     "text": [
      " Average training loss: 1.04\n"
     ]
    },
    {
     "name": "stderr",
     "output_type": "stream",
     "text": [
      "100%|████████████████████████████████████████| 120/120 [00:00<00:00, 889.25it/s]"
     ]
    },
    {
     "name": "stdout",
     "output_type": "stream",
     "text": [
      " Average valid loss: 1.05\n",
      "AUC_SCORE:  0.646804569311516  acc:  0.4 f1:  0.5263157894736842\n",
      "8  EPOCH BEST MODEL!\n"
     ]
    },
    {
     "name": "stderr",
     "output_type": "stream",
     "text": [
      "\n"
     ]
    },
    {
     "name": "stdout",
     "output_type": "stream",
     "text": [
      "Test\n"
     ]
    },
    {
     "name": "stderr",
     "output_type": "stream",
     "text": [
      "100%|████████████████████████████████████████| 121/121 [00:00<00:00, 860.52it/s]\n"
     ]
    },
    {
     "name": "stdout",
     "output_type": "stream",
     "text": [
      " Average valid loss: 1.02\n",
      "AUC_SCORE:  0.7082317073170732  acc:  0.371900826446281 f1:  0.5\n",
      "EPOCHS:10\n",
      "TRAIN\n"
     ]
    },
    {
     "name": "stderr",
     "output_type": "stream",
     "text": [
      "100%|████████████████████████████████████████| 963/963 [00:07<00:00, 123.42it/s]\n"
     ]
    },
    {
     "name": "stdout",
     "output_type": "stream",
     "text": [
      " Average training loss: 1.03\n"
     ]
    },
    {
     "name": "stderr",
     "output_type": "stream",
     "text": [
      "100%|████████████████████████████████████████| 120/120 [00:00<00:00, 887.28it/s]\n"
     ]
    },
    {
     "name": "stdout",
     "output_type": "stream",
     "text": [
      " Average valid loss: 1.04\n",
      "AUC_SCORE:  0.6495832046928065  acc:  0.425 f1:  0.5369127516778524\n",
      "9  EPOCH BEST MODEL!\n",
      "Test\n"
     ]
    },
    {
     "name": "stderr",
     "output_type": "stream",
     "text": [
      "100%|████████████████████████████████████████| 121/121 [00:00<00:00, 857.84it/s]\n"
     ]
    },
    {
     "name": "stdout",
     "output_type": "stream",
     "text": [
      " Average valid loss: 1.02\n",
      "AUC_SCORE:  0.7109756097560975  acc:  0.4049586776859504 f1:  0.5135135135135136\n",
      "EPOCHS:11\n",
      "TRAIN\n"
     ]
    },
    {
     "name": "stderr",
     "output_type": "stream",
     "text": [
      "100%|████████████████████████████████████████| 963/963 [00:07<00:00, 121.88it/s]\n"
     ]
    },
    {
     "name": "stdout",
     "output_type": "stream",
     "text": [
      " Average training loss: 1.03\n"
     ]
    },
    {
     "name": "stderr",
     "output_type": "stream",
     "text": [
      "100%|████████████████████████████████████████| 120/120 [00:00<00:00, 891.85it/s]"
     ]
    },
    {
     "name": "stdout",
     "output_type": "stream",
     "text": [
      " Average valid loss: 1.04\n",
      "AUC_SCORE:  0.6520531028095091  acc:  0.4583333333333333 f1:  0.5454545454545454\n",
      "10  EPOCH BEST MODEL!\n"
     ]
    },
    {
     "name": "stderr",
     "output_type": "stream",
     "text": [
      "\n"
     ]
    },
    {
     "name": "stdout",
     "output_type": "stream",
     "text": [
      "Test\n"
     ]
    },
    {
     "name": "stderr",
     "output_type": "stream",
     "text": [
      "100%|████████████████████████████████████████| 121/121 [00:00<00:00, 872.47it/s]\n"
     ]
    },
    {
     "name": "stdout",
     "output_type": "stream",
     "text": [
      " Average valid loss: 1.01\n",
      "AUC_SCORE:  0.7128048780487805  acc:  0.4132231404958678 f1:  0.5170068027210885\n",
      "EPOCHS:12\n",
      "TRAIN\n"
     ]
    },
    {
     "name": "stderr",
     "output_type": "stream",
     "text": [
      "100%|████████████████████████████████████████| 963/963 [00:07<00:00, 121.38it/s]\n"
     ]
    },
    {
     "name": "stdout",
     "output_type": "stream",
     "text": [
      " Average training loss: 1.02\n"
     ]
    },
    {
     "name": "stderr",
     "output_type": "stream",
     "text": [
      "100%|████████████████████████████████████████| 120/120 [00:00<00:00, 889.60it/s]\n"
     ]
    },
    {
     "name": "stdout",
     "output_type": "stream",
     "text": [
      " Average valid loss: 1.04\n",
      "AUC_SCORE:  0.656066687249151  acc:  0.475 f1:  0.553191489361702\n",
      "11  EPOCH BEST MODEL!\n",
      "Test\n"
     ]
    },
    {
     "name": "stderr",
     "output_type": "stream",
     "text": [
      "100%|████████████████████████████████████████| 121/121 [00:00<00:00, 867.70it/s]\n"
     ]
    },
    {
     "name": "stdout",
     "output_type": "stream",
     "text": [
      " Average valid loss: 1.01\n",
      "AUC_SCORE:  0.7149390243902439  acc:  0.4132231404958678 f1:  0.5170068027210885\n",
      "EPOCHS:13\n",
      "TRAIN\n"
     ]
    },
    {
     "name": "stderr",
     "output_type": "stream",
     "text": [
      "100%|████████████████████████████████████████| 963/963 [00:08<00:00, 118.51it/s]\n"
     ]
    },
    {
     "name": "stdout",
     "output_type": "stream",
     "text": [
      " Average training loss: 1.02\n"
     ]
    },
    {
     "name": "stderr",
     "output_type": "stream",
     "text": [
      "100%|████████████████████████████████████████| 120/120 [00:00<00:00, 872.33it/s]\n"
     ]
    },
    {
     "name": "stdout",
     "output_type": "stream",
     "text": [
      " Average valid loss: 1.03\n",
      "AUC_SCORE:  0.6585365853658537  acc:  0.48333333333333334 f1:  0.557142857142857\n",
      "12  EPOCH BEST MODEL!\n",
      "Test\n"
     ]
    },
    {
     "name": "stderr",
     "output_type": "stream",
     "text": [
      "100%|████████████████████████████████████████| 121/121 [00:00<00:00, 851.83it/s]\n"
     ]
    },
    {
     "name": "stdout",
     "output_type": "stream",
     "text": [
      " Average valid loss: 1.01\n",
      "AUC_SCORE:  0.7170731707317073  acc:  0.4297520661157025 f1:  0.5241379310344828\n",
      "EPOCHS:14\n",
      "TRAIN\n"
     ]
    },
    {
     "name": "stderr",
     "output_type": "stream",
     "text": [
      "100%|████████████████████████████████████████| 963/963 [00:08<00:00, 118.31it/s]\n"
     ]
    },
    {
     "name": "stdout",
     "output_type": "stream",
     "text": [
      " Average training loss: 1.01\n"
     ]
    },
    {
     "name": "stderr",
     "output_type": "stream",
     "text": [
      "100%|████████████████████████████████████████| 120/120 [00:00<00:00, 852.16it/s]\n"
     ]
    },
    {
     "name": "stdout",
     "output_type": "stream",
     "text": [
      " Average valid loss: 1.03\n",
      "AUC_SCORE:  0.6637851188638468  acc:  0.48333333333333334 f1:  0.5507246376811594\n",
      "Test\n"
     ]
    },
    {
     "name": "stderr",
     "output_type": "stream",
     "text": [
      "100%|████████████████████████████████████████| 121/121 [00:00<00:00, 833.80it/s]\n"
     ]
    },
    {
     "name": "stdout",
     "output_type": "stream",
     "text": [
      " Average valid loss: 1.01\n",
      "AUC_SCORE:  0.7182926829268292  acc:  0.4380165289256198 f1:  0.5277777777777779\n",
      "EPOCHS:15\n",
      "TRAIN\n"
     ]
    },
    {
     "name": "stderr",
     "output_type": "stream",
     "text": [
      "100%|████████████████████████████████████████| 963/963 [00:08<00:00, 119.35it/s]\n"
     ]
    },
    {
     "name": "stdout",
     "output_type": "stream",
     "text": [
      " Average training loss: 1.01\n"
     ]
    },
    {
     "name": "stderr",
     "output_type": "stream",
     "text": [
      "100%|████████████████████████████████████████| 120/120 [00:00<00:00, 885.30it/s]\n"
     ]
    },
    {
     "name": "stdout",
     "output_type": "stream",
     "text": [
      " Average valid loss: 1.03\n",
      "AUC_SCORE:  0.665328805186786  acc:  0.48333333333333334 f1:  0.5507246376811594\n",
      "Test\n"
     ]
    },
    {
     "name": "stderr",
     "output_type": "stream",
     "text": [
      "100%|████████████████████████████████████████| 121/121 [00:00<00:00, 873.27it/s]\n"
     ]
    },
    {
     "name": "stdout",
     "output_type": "stream",
     "text": [
      " Average valid loss: 1.01\n",
      "AUC_SCORE:  0.7201219512195123  acc:  0.4462809917355372 f1:  0.5314685314685316\n",
      "EPOCHS:16\n",
      "TRAIN\n"
     ]
    },
    {
     "name": "stderr",
     "output_type": "stream",
     "text": [
      "100%|████████████████████████████████████████| 963/963 [00:08<00:00, 119.74it/s]\n"
     ]
    },
    {
     "name": "stdout",
     "output_type": "stream",
     "text": [
      " Average training loss: 1.00\n"
     ]
    },
    {
     "name": "stderr",
     "output_type": "stream",
     "text": [
      "100%|████████████████████████████████████████| 120/120 [00:00<00:00, 875.14it/s]\n"
     ]
    },
    {
     "name": "stdout",
     "output_type": "stream",
     "text": [
      " Average valid loss: 1.02\n",
      "AUC_SCORE:  0.6724297622723062  acc:  0.49166666666666664 f1:  0.5547445255474452\n",
      "Test\n"
     ]
    },
    {
     "name": "stderr",
     "output_type": "stream",
     "text": [
      "100%|████████████████████████████████████████| 121/121 [00:00<00:00, 873.29it/s]\n"
     ]
    },
    {
     "name": "stdout",
     "output_type": "stream",
     "text": [
      " Average valid loss: 1.00\n",
      "AUC_SCORE:  0.7192073170731708  acc:  0.47107438016528924 f1:  0.5428571428571428\n",
      "EPOCHS:17\n",
      "TRAIN\n"
     ]
    },
    {
     "name": "stderr",
     "output_type": "stream",
     "text": [
      "100%|████████████████████████████████████████| 963/963 [00:08<00:00, 119.55it/s]\n"
     ]
    },
    {
     "name": "stdout",
     "output_type": "stream",
     "text": [
      " Average training loss: 1.01\n"
     ]
    },
    {
     "name": "stderr",
     "output_type": "stream",
     "text": [
      "100%|████████████████████████████████████████| 120/120 [00:00<00:00, 872.80it/s]"
     ]
    },
    {
     "name": "stdout",
     "output_type": "stream",
     "text": [
      " Average valid loss: 1.02\n",
      "AUC_SCORE:  0.6733559740660698  acc:  0.5 f1:  0.5588235294117647\n",
      "16  EPOCH BEST MODEL!\n"
     ]
    },
    {
     "name": "stderr",
     "output_type": "stream",
     "text": [
      "\n"
     ]
    },
    {
     "name": "stdout",
     "output_type": "stream",
     "text": [
      "Test\n"
     ]
    },
    {
     "name": "stderr",
     "output_type": "stream",
     "text": [
      "100%|████████████████████████████████████████| 121/121 [00:00<00:00, 860.82it/s]\n"
     ]
    },
    {
     "name": "stdout",
     "output_type": "stream",
     "text": [
      " Average valid loss: 1.00\n",
      "AUC_SCORE:  0.7189024390243903  acc:  0.4793388429752066 f1:  0.5467625899280575\n",
      "EPOCHS:18\n",
      "TRAIN\n"
     ]
    },
    {
     "name": "stderr",
     "output_type": "stream",
     "text": [
      "100%|████████████████████████████████████████| 963/963 [00:08<00:00, 118.10it/s]\n"
     ]
    },
    {
     "name": "stdout",
     "output_type": "stream",
     "text": [
      " Average training loss: 1.00\n"
     ]
    },
    {
     "name": "stderr",
     "output_type": "stream",
     "text": [
      "100%|████████████████████████████████████████| 120/120 [00:00<00:00, 876.61it/s]"
     ]
    },
    {
     "name": "stdout",
     "output_type": "stream",
     "text": [
      " Average valid loss: 1.02\n",
      "AUC_SCORE:  0.68045693115159  acc:  0.5166666666666667 f1:  0.5671641791044776\n",
      "17  EPOCH BEST MODEL!\n"
     ]
    },
    {
     "name": "stderr",
     "output_type": "stream",
     "text": [
      "\n"
     ]
    },
    {
     "name": "stdout",
     "output_type": "stream",
     "text": [
      "Test\n"
     ]
    },
    {
     "name": "stderr",
     "output_type": "stream",
     "text": [
      "100%|████████████████████████████████████████| 121/121 [00:00<00:00, 849.20it/s]\n"
     ]
    },
    {
     "name": "stdout",
     "output_type": "stream",
     "text": [
      " Average valid loss: 1.00\n",
      "AUC_SCORE:  0.7189024390243903  acc:  0.5041322314049587 f1:  0.5588235294117647\n",
      "EPOCHS:19\n",
      "TRAIN\n"
     ]
    },
    {
     "name": "stderr",
     "output_type": "stream",
     "text": [
      "100%|████████████████████████████████████████| 963/963 [00:08<00:00, 118.81it/s]\n"
     ]
    },
    {
     "name": "stdout",
     "output_type": "stream",
     "text": [
      " Average training loss: 1.00\n"
     ]
    },
    {
     "name": "stderr",
     "output_type": "stream",
     "text": [
      "100%|████████████████████████████████████████| 120/120 [00:00<00:00, 867.97it/s]"
     ]
    },
    {
     "name": "stdout",
     "output_type": "stream",
     "text": [
      " Average valid loss: 1.02\n",
      "AUC_SCORE:  0.6813831429453535  acc:  0.525 f1:  0.5714285714285715\n",
      "18  EPOCH BEST MODEL!\n"
     ]
    },
    {
     "name": "stderr",
     "output_type": "stream",
     "text": [
      "\n"
     ]
    },
    {
     "name": "stdout",
     "output_type": "stream",
     "text": [
      "Test\n"
     ]
    },
    {
     "name": "stderr",
     "output_type": "stream",
     "text": [
      "100%|████████████████████████████████████████| 121/121 [00:00<00:00, 859.23it/s]\n"
     ]
    },
    {
     "name": "stdout",
     "output_type": "stream",
     "text": [
      " Average valid loss: 1.00\n",
      "AUC_SCORE:  0.7179878048780488  acc:  0.5041322314049587 f1:  0.5588235294117647\n",
      "EPOCHS:20\n",
      "TRAIN\n"
     ]
    },
    {
     "name": "stderr",
     "output_type": "stream",
     "text": [
      "100%|████████████████████████████████████████| 963/963 [00:08<00:00, 118.44it/s]\n"
     ]
    },
    {
     "name": "stdout",
     "output_type": "stream",
     "text": [
      " Average training loss: 0.98\n"
     ]
    },
    {
     "name": "stderr",
     "output_type": "stream",
     "text": [
      "100%|████████████████████████████████████████| 120/120 [00:00<00:00, 868.23it/s]\n"
     ]
    },
    {
     "name": "stdout",
     "output_type": "stream",
     "text": [
      " Average valid loss: 1.01\n",
      "AUC_SCORE:  0.684161778326644  acc:  0.5166666666666667 f1:  0.5671641791044776\n",
      "Test\n"
     ]
    },
    {
     "name": "stderr",
     "output_type": "stream",
     "text": [
      "100%|████████████████████████████████████████| 121/121 [00:00<00:00, 847.90it/s]\n"
     ]
    },
    {
     "name": "stdout",
     "output_type": "stream",
     "text": [
      " Average valid loss: 1.00\n",
      "AUC_SCORE:  0.7179878048780488  acc:  0.49586776859504134 f1:  0.5547445255474452\n",
      "EPOCHS:21\n",
      "TRAIN\n"
     ]
    },
    {
     "name": "stderr",
     "output_type": "stream",
     "text": [
      "100%|████████████████████████████████████████| 963/963 [00:08<00:00, 117.97it/s]\n"
     ]
    },
    {
     "name": "stdout",
     "output_type": "stream",
     "text": [
      " Average training loss: 0.99\n"
     ]
    },
    {
     "name": "stderr",
     "output_type": "stream",
     "text": [
      "100%|████████████████████████████████████████| 120/120 [00:00<00:00, 850.79it/s]\n"
     ]
    },
    {
     "name": "stdout",
     "output_type": "stream",
     "text": [
      " Average valid loss: 1.01\n",
      "AUC_SCORE:  0.6872491509725224  acc:  0.5333333333333333 f1:  0.5692307692307692\n",
      "Test\n"
     ]
    },
    {
     "name": "stderr",
     "output_type": "stream",
     "text": [
      "100%|████████████████████████████████████████| 121/121 [00:00<00:00, 844.54it/s]\n"
     ]
    },
    {
     "name": "stdout",
     "output_type": "stream",
     "text": [
      " Average valid loss: 1.00\n",
      "AUC_SCORE:  0.7173780487804878  acc:  0.512396694214876 f1:  0.562962962962963\n",
      "EPOCHS:22\n",
      "TRAIN\n"
     ]
    },
    {
     "name": "stderr",
     "output_type": "stream",
     "text": [
      "100%|████████████████████████████████████████| 963/963 [00:08<00:00, 117.47it/s]\n"
     ]
    },
    {
     "name": "stdout",
     "output_type": "stream",
     "text": [
      " Average training loss: 0.98\n"
     ]
    },
    {
     "name": "stderr",
     "output_type": "stream",
     "text": [
      "100%|████████████████████████████████████████| 120/120 [00:00<00:00, 878.25it/s]\n"
     ]
    },
    {
     "name": "stdout",
     "output_type": "stream",
     "text": [
      " Average valid loss: 1.01\n",
      "AUC_SCORE:  0.6891015745600494  acc:  0.5333333333333333 f1:  0.5757575757575758\n",
      "21  EPOCH BEST MODEL!\n",
      "Test\n"
     ]
    },
    {
     "name": "stderr",
     "output_type": "stream",
     "text": [
      "100%|████████████████████████████████████████| 121/121 [00:00<00:00, 877.68it/s]\n"
     ]
    },
    {
     "name": "stdout",
     "output_type": "stream",
     "text": [
      " Average valid loss: 1.00\n",
      "AUC_SCORE:  0.7179878048780488  acc:  0.5041322314049587 f1:  0.5588235294117647\n",
      "EPOCHS:23\n",
      "TRAIN\n"
     ]
    },
    {
     "name": "stderr",
     "output_type": "stream",
     "text": [
      "100%|████████████████████████████████████████| 963/963 [00:08<00:00, 118.58it/s]\n"
     ]
    },
    {
     "name": "stdout",
     "output_type": "stream",
     "text": [
      " Average training loss: 0.97\n"
     ]
    },
    {
     "name": "stderr",
     "output_type": "stream",
     "text": [
      "100%|████████████████████████████████████████| 120/120 [00:00<00:00, 881.24it/s]\n"
     ]
    },
    {
     "name": "stdout",
     "output_type": "stream",
     "text": [
      " Average valid loss: 1.00\n",
      "AUC_SCORE:  0.6900277863538129  acc:  0.5333333333333333 f1:  0.5625\n",
      "Test\n"
     ]
    },
    {
     "name": "stderr",
     "output_type": "stream",
     "text": [
      "100%|████████████████████████████████████████| 121/121 [00:00<00:00, 863.78it/s]\n"
     ]
    },
    {
     "name": "stdout",
     "output_type": "stream",
     "text": [
      " Average valid loss: 1.00\n",
      "AUC_SCORE:  0.7173780487804878  acc:  0.5289256198347108 f1:  0.5714285714285715\n",
      "EPOCHS:24\n",
      "TRAIN\n"
     ]
    },
    {
     "name": "stderr",
     "output_type": "stream",
     "text": [
      "100%|████████████████████████████████████████| 963/963 [00:08<00:00, 118.83it/s]\n"
     ]
    },
    {
     "name": "stdout",
     "output_type": "stream",
     "text": [
      " Average training loss: 0.98\n"
     ]
    },
    {
     "name": "stderr",
     "output_type": "stream",
     "text": [
      "100%|████████████████████████████████████████| 120/120 [00:00<00:00, 878.16it/s]\n"
     ]
    },
    {
     "name": "stdout",
     "output_type": "stream",
     "text": [
      " Average valid loss: 1.00\n",
      "AUC_SCORE:  0.6921889472059278  acc:  0.5333333333333333 f1:  0.5625\n",
      "Test\n"
     ]
    },
    {
     "name": "stderr",
     "output_type": "stream",
     "text": [
      "100%|████████████████████████████████████████| 121/121 [00:00<00:00, 863.79it/s]\n"
     ]
    },
    {
     "name": "stdout",
     "output_type": "stream",
     "text": [
      " Average valid loss: 1.00\n",
      "AUC_SCORE:  0.7161585365853659  acc:  0.512396694214876 f1:  0.562962962962963\n",
      "EPOCHS:25\n",
      "TRAIN\n"
     ]
    },
    {
     "name": "stderr",
     "output_type": "stream",
     "text": [
      "100%|████████████████████████████████████████| 963/963 [00:08<00:00, 118.63it/s]\n"
     ]
    },
    {
     "name": "stdout",
     "output_type": "stream",
     "text": [
      " Average training loss: 0.97\n"
     ]
    },
    {
     "name": "stderr",
     "output_type": "stream",
     "text": [
      "100%|████████████████████████████████████████| 120/120 [00:00<00:00, 884.22it/s]\n"
     ]
    },
    {
     "name": "stdout",
     "output_type": "stream",
     "text": [
      " Average valid loss: 1.00\n",
      "AUC_SCORE:  0.6986724297622723  acc:  0.5333333333333333 f1:  0.5757575757575758\n",
      "Test\n"
     ]
    },
    {
     "name": "stderr",
     "output_type": "stream",
     "text": [
      "100%|████████████████████████████████████████| 121/121 [00:00<00:00, 863.39it/s]\n"
     ]
    },
    {
     "name": "stdout",
     "output_type": "stream",
     "text": [
      " Average valid loss: 1.01\n",
      "AUC_SCORE:  0.7173780487804878  acc:  0.512396694214876 f1:  0.562962962962963\n",
      "EPOCHS:26\n",
      "TRAIN\n"
     ]
    },
    {
     "name": "stderr",
     "output_type": "stream",
     "text": [
      "100%|████████████████████████████████████████| 963/963 [00:08<00:00, 119.16it/s]\n"
     ]
    },
    {
     "name": "stdout",
     "output_type": "stream",
     "text": [
      " Average training loss: 0.97\n"
     ]
    },
    {
     "name": "stderr",
     "output_type": "stream",
     "text": [
      "100%|████████████████████████████████████████| 120/120 [00:00<00:00, 871.88it/s]\n"
     ]
    },
    {
     "name": "stdout",
     "output_type": "stream",
     "text": [
      " Average valid loss: 1.00\n",
      "AUC_SCORE:  0.7002161160852115  acc:  0.5333333333333333 f1:  0.5625\n",
      "Test\n"
     ]
    },
    {
     "name": "stderr",
     "output_type": "stream",
     "text": [
      "100%|████████████████████████████████████████| 121/121 [00:00<00:00, 860.09it/s]\n"
     ]
    },
    {
     "name": "stdout",
     "output_type": "stream",
     "text": [
      " Average valid loss: 1.00\n",
      "AUC_SCORE:  0.7167682926829267  acc:  0.5206611570247934 f1:  0.5671641791044776\n",
      "EPOCHS:27\n",
      "TRAIN\n"
     ]
    },
    {
     "name": "stderr",
     "output_type": "stream",
     "text": [
      "100%|████████████████████████████████████████| 963/963 [00:08<00:00, 118.57it/s]\n"
     ]
    },
    {
     "name": "stdout",
     "output_type": "stream",
     "text": [
      " Average training loss: 0.97\n"
     ]
    },
    {
     "name": "stderr",
     "output_type": "stream",
     "text": [
      "100%|████████████████████████████████████████| 120/120 [00:00<00:00, 858.91it/s]\n"
     ]
    },
    {
     "name": "stdout",
     "output_type": "stream",
     "text": [
      " Average valid loss: 1.00\n",
      "AUC_SCORE:  0.7045384377894411  acc:  0.5333333333333333 f1:  0.5625\n",
      "Test\n"
     ]
    },
    {
     "name": "stderr",
     "output_type": "stream",
     "text": [
      "100%|████████████████████████████████████████| 121/121 [00:00<00:00, 869.23it/s]\n"
     ]
    },
    {
     "name": "stdout",
     "output_type": "stream",
     "text": [
      " Average valid loss: 1.01\n",
      "AUC_SCORE:  0.7155487804878049  acc:  0.512396694214876 f1:  0.562962962962963\n",
      "EPOCHS:28\n",
      "TRAIN\n"
     ]
    },
    {
     "name": "stderr",
     "output_type": "stream",
     "text": [
      "100%|████████████████████████████████████████| 963/963 [00:08<00:00, 120.37it/s]\n"
     ]
    },
    {
     "name": "stdout",
     "output_type": "stream",
     "text": [
      " Average training loss: 0.96\n"
     ]
    },
    {
     "name": "stderr",
     "output_type": "stream",
     "text": [
      "100%|████████████████████████████████████████| 120/120 [00:00<00:00, 878.37it/s]\n"
     ]
    },
    {
     "name": "stdout",
     "output_type": "stream",
     "text": [
      " Average valid loss: 0.99\n",
      "AUC_SCORE:  0.7063908613769682  acc:  0.5416666666666666 f1:  0.5669291338582677\n",
      "Test\n"
     ]
    },
    {
     "name": "stderr",
     "output_type": "stream",
     "text": [
      "100%|████████████████████████████████████████| 121/121 [00:00<00:00, 868.44it/s]\n"
     ]
    },
    {
     "name": "stdout",
     "output_type": "stream",
     "text": [
      " Average valid loss: 1.00\n",
      "AUC_SCORE:  0.7179878048780488  acc:  0.5371900826446281 f1:  0.5757575757575758\n",
      "EPOCHS:29\n",
      "TRAIN\n"
     ]
    },
    {
     "name": "stderr",
     "output_type": "stream",
     "text": [
      "100%|████████████████████████████████████████| 963/963 [00:07<00:00, 120.61it/s]\n"
     ]
    },
    {
     "name": "stdout",
     "output_type": "stream",
     "text": [
      " Average training loss: 0.96\n"
     ]
    },
    {
     "name": "stderr",
     "output_type": "stream",
     "text": [
      "100%|████████████████████████████████████████| 120/120 [00:00<00:00, 884.58it/s]\n"
     ]
    },
    {
     "name": "stdout",
     "output_type": "stream",
     "text": [
      " Average valid loss: 0.99\n",
      "AUC_SCORE:  0.7107131830811979  acc:  0.5333333333333333 f1:  0.5625\n",
      "Test\n"
     ]
    },
    {
     "name": "stderr",
     "output_type": "stream",
     "text": [
      "100%|████████████████████████████████████████| 121/121 [00:00<00:00, 870.89it/s]\n"
     ]
    },
    {
     "name": "stdout",
     "output_type": "stream",
     "text": [
      " Average valid loss: 1.01\n",
      "AUC_SCORE:  0.7161585365853659  acc:  0.5041322314049587 f1:  0.5588235294117647\n",
      "EPOCHS:30\n",
      "TRAIN\n"
     ]
    },
    {
     "name": "stderr",
     "output_type": "stream",
     "text": [
      "100%|████████████████████████████████████████| 963/963 [00:07<00:00, 120.59it/s]\n"
     ]
    },
    {
     "name": "stdout",
     "output_type": "stream",
     "text": [
      " Average training loss: 0.95\n"
     ]
    },
    {
     "name": "stderr",
     "output_type": "stream",
     "text": [
      "100%|████████████████████████████████████████| 120/120 [00:00<00:00, 882.76it/s]\n"
     ]
    },
    {
     "name": "stdout",
     "output_type": "stream",
     "text": [
      " Average valid loss: 0.99\n",
      "AUC_SCORE:  0.7134918184624885  acc:  0.5333333333333333 f1:  0.5625\n",
      "Test\n"
     ]
    },
    {
     "name": "stderr",
     "output_type": "stream",
     "text": [
      "100%|████████████████████████████████████████| 121/121 [00:00<00:00, 869.29it/s]\n"
     ]
    },
    {
     "name": "stdout",
     "output_type": "stream",
     "text": [
      " Average valid loss: 1.02\n",
      "AUC_SCORE:  0.713719512195122  acc:  0.5041322314049587 f1:  0.5588235294117647\n",
      "EPOCHS:31\n",
      "TRAIN\n"
     ]
    },
    {
     "name": "stderr",
     "output_type": "stream",
     "text": [
      "100%|████████████████████████████████████████| 963/963 [00:08<00:00, 119.37it/s]\n"
     ]
    },
    {
     "name": "stdout",
     "output_type": "stream",
     "text": [
      " Average training loss: 0.95\n"
     ]
    },
    {
     "name": "stderr",
     "output_type": "stream",
     "text": [
      "100%|████████████████████████████████████████| 120/120 [00:00<00:00, 881.67it/s]\n"
     ]
    },
    {
     "name": "stdout",
     "output_type": "stream",
     "text": [
      " Average valid loss: 0.99\n",
      "AUC_SCORE:  0.7153442420500155  acc:  0.55 f1:  0.5714285714285715\n",
      "Test\n"
     ]
    },
    {
     "name": "stderr",
     "output_type": "stream",
     "text": [
      "100%|████████████████████████████████████████| 121/121 [00:00<00:00, 873.81it/s]\n"
     ]
    },
    {
     "name": "stdout",
     "output_type": "stream",
     "text": [
      " Average valid loss: 1.01\n",
      "AUC_SCORE:  0.713719512195122  acc:  0.512396694214876 f1:  0.562962962962963\n",
      "EPOCHS:32\n",
      "TRAIN\n"
     ]
    },
    {
     "name": "stderr",
     "output_type": "stream",
     "text": [
      "100%|████████████████████████████████████████| 963/963 [00:08<00:00, 118.66it/s]\n"
     ]
    },
    {
     "name": "stdout",
     "output_type": "stream",
     "text": [
      " Average training loss: 0.94\n"
     ]
    },
    {
     "name": "stderr",
     "output_type": "stream",
     "text": [
      "100%|████████████████████████████████████████| 120/120 [00:00<00:00, 876.37it/s]\n"
     ]
    },
    {
     "name": "stdout",
     "output_type": "stream",
     "text": [
      " Average valid loss: 0.99\n",
      "AUC_SCORE:  0.7175054029021302  acc:  0.55 f1:  0.5714285714285715\n",
      "Test\n"
     ]
    },
    {
     "name": "stderr",
     "output_type": "stream",
     "text": [
      "100%|████████████████████████████████████████| 121/121 [00:00<00:00, 864.70it/s]\n"
     ]
    },
    {
     "name": "stdout",
     "output_type": "stream",
     "text": [
      " Average valid loss: 1.01\n",
      "AUC_SCORE:  0.7134146341463414  acc:  0.5289256198347108 f1:  0.5714285714285715\n",
      "EPOCHS:33\n",
      "TRAIN\n"
     ]
    },
    {
     "name": "stderr",
     "output_type": "stream",
     "text": [
      "100%|████████████████████████████████████████| 963/963 [00:08<00:00, 119.10it/s]\n"
     ]
    },
    {
     "name": "stdout",
     "output_type": "stream",
     "text": [
      " Average training loss: 0.94\n"
     ]
    },
    {
     "name": "stderr",
     "output_type": "stream",
     "text": [
      "100%|████████████████████████████████████████| 120/120 [00:00<00:00, 874.61it/s]\n"
     ]
    },
    {
     "name": "stdout",
     "output_type": "stream",
     "text": [
      " Average valid loss: 0.99\n",
      "AUC_SCORE:  0.719975301018833  acc:  0.55 f1:  0.5714285714285715\n",
      "Test\n"
     ]
    },
    {
     "name": "stderr",
     "output_type": "stream",
     "text": [
      "100%|████████████████████████████████████████| 121/121 [00:00<00:00, 866.00it/s]\n"
     ]
    },
    {
     "name": "stdout",
     "output_type": "stream",
     "text": [
      " Average valid loss: 1.01\n",
      "AUC_SCORE:  0.7149390243902439  acc:  0.5371900826446281 f1:  0.5757575757575758\n",
      "EPOCHS:34\n",
      "TRAIN\n"
     ]
    },
    {
     "name": "stderr",
     "output_type": "stream",
     "text": [
      "100%|████████████████████████████████████████| 963/963 [00:08<00:00, 119.40it/s]\n"
     ]
    },
    {
     "name": "stdout",
     "output_type": "stream",
     "text": [
      " Average training loss: 0.94\n"
     ]
    },
    {
     "name": "stderr",
     "output_type": "stream",
     "text": [
      "100%|████████████████████████████████████████| 120/120 [00:00<00:00, 888.19it/s]"
     ]
    },
    {
     "name": "stdout",
     "output_type": "stream",
     "text": [
      " Average valid loss: 0.98\n",
      "AUC_SCORE:  0.7202840382834208  acc:  0.5583333333333333 f1:  0.576\n",
      "33  EPOCH BEST MODEL!\n"
     ]
    },
    {
     "name": "stderr",
     "output_type": "stream",
     "text": [
      "\n"
     ]
    },
    {
     "name": "stdout",
     "output_type": "stream",
     "text": [
      "Test\n"
     ]
    },
    {
     "name": "stderr",
     "output_type": "stream",
     "text": [
      "100%|████████████████████████████████████████| 121/121 [00:00<00:00, 863.30it/s]\n"
     ]
    },
    {
     "name": "stdout",
     "output_type": "stream",
     "text": [
      " Average valid loss: 1.01\n",
      "AUC_SCORE:  0.7179878048780488  acc:  0.5371900826446281 f1:  0.5757575757575758\n",
      "EPOCHS:35\n",
      "TRAIN\n"
     ]
    },
    {
     "name": "stderr",
     "output_type": "stream",
     "text": [
      "100%|████████████████████████████████████████| 963/963 [00:08<00:00, 118.99it/s]\n"
     ]
    },
    {
     "name": "stdout",
     "output_type": "stream",
     "text": [
      " Average training loss: 0.93\n"
     ]
    },
    {
     "name": "stderr",
     "output_type": "stream",
     "text": [
      "100%|████████████████████████████████████████| 120/120 [00:00<00:00, 881.29it/s]\n"
     ]
    },
    {
     "name": "stdout",
     "output_type": "stream",
     "text": [
      " Average valid loss: 0.98\n",
      "AUC_SCORE:  0.7202840382834208  acc:  0.575 f1:  0.578512396694215\n",
      "34  EPOCH BEST MODEL!\n",
      "Test\n"
     ]
    },
    {
     "name": "stderr",
     "output_type": "stream",
     "text": [
      "100%|████████████████████████████████████████| 121/121 [00:00<00:00, 878.67it/s]\n"
     ]
    },
    {
     "name": "stdout",
     "output_type": "stream",
     "text": [
      " Average valid loss: 1.01\n",
      "AUC_SCORE:  0.7155487804878049  acc:  0.5537190082644629 f1:  0.5846153846153846\n",
      "EPOCHS:36\n",
      "TRAIN\n"
     ]
    },
    {
     "name": "stderr",
     "output_type": "stream",
     "text": [
      "100%|████████████████████████████████████████| 963/963 [00:07<00:00, 121.80it/s]\n"
     ]
    },
    {
     "name": "stdout",
     "output_type": "stream",
     "text": [
      " Average training loss: 0.93\n"
     ]
    },
    {
     "name": "stderr",
     "output_type": "stream",
     "text": [
      "100%|████████████████████████████████████████| 120/120 [00:00<00:00, 878.49it/s]"
     ]
    },
    {
     "name": "stdout",
     "output_type": "stream",
     "text": [
      " Average valid loss: 0.98\n",
      "AUC_SCORE:  0.7230626736647113  acc:  0.5666666666666667 f1:  0.5806451612903226\n",
      "35  EPOCH BEST MODEL!\n"
     ]
    },
    {
     "name": "stderr",
     "output_type": "stream",
     "text": [
      "\n"
     ]
    },
    {
     "name": "stdout",
     "output_type": "stream",
     "text": [
      "Test\n"
     ]
    },
    {
     "name": "stderr",
     "output_type": "stream",
     "text": [
      "100%|████████████████████████████████████████| 121/121 [00:00<00:00, 839.98it/s]\n"
     ]
    },
    {
     "name": "stdout",
     "output_type": "stream",
     "text": [
      " Average valid loss: 1.02\n",
      "AUC_SCORE:  0.7146341463414634  acc:  0.5454545454545454 f1:  0.5801526717557252\n",
      "EPOCHS:37\n",
      "TRAIN\n"
     ]
    },
    {
     "name": "stderr",
     "output_type": "stream",
     "text": [
      "100%|████████████████████████████████████████| 963/963 [00:08<00:00, 119.59it/s]\n"
     ]
    },
    {
     "name": "stdout",
     "output_type": "stream",
     "text": [
      " Average training loss: 0.93\n"
     ]
    },
    {
     "name": "stderr",
     "output_type": "stream",
     "text": [
      "100%|████████████████████████████████████████| 120/120 [00:00<00:00, 878.84it/s]\n"
     ]
    },
    {
     "name": "stdout",
     "output_type": "stream",
     "text": [
      " Average valid loss: 0.98\n",
      "AUC_SCORE:  0.7221364618709479  acc:  0.5833333333333334 f1:  0.5901639344262294\n",
      "36  EPOCH BEST MODEL!\n",
      "Test\n"
     ]
    },
    {
     "name": "stderr",
     "output_type": "stream",
     "text": [
      "100%|████████████████████████████████████████| 121/121 [00:00<00:00, 865.11it/s]\n"
     ]
    },
    {
     "name": "stdout",
     "output_type": "stream",
     "text": [
      " Average valid loss: 1.01\n",
      "AUC_SCORE:  0.714329268292683  acc:  0.5454545454545454 f1:  0.5801526717557252\n",
      "EPOCHS:38\n",
      "TRAIN\n"
     ]
    },
    {
     "name": "stderr",
     "output_type": "stream",
     "text": [
      "100%|████████████████████████████████████████| 963/963 [00:07<00:00, 120.55it/s]\n"
     ]
    },
    {
     "name": "stdout",
     "output_type": "stream",
     "text": [
      " Average training loss: 0.91\n"
     ]
    },
    {
     "name": "stderr",
     "output_type": "stream",
     "text": [
      "100%|████████████████████████████████████████| 120/120 [00:00<00:00, 886.36it/s]\n"
     ]
    },
    {
     "name": "stdout",
     "output_type": "stream",
     "text": [
      " Average valid loss: 0.98\n",
      "AUC_SCORE:  0.725841309046002  acc:  0.575 f1:  0.5853658536585366\n",
      "Test\n"
     ]
    },
    {
     "name": "stderr",
     "output_type": "stream",
     "text": [
      "100%|████████████████████████████████████████| 121/121 [00:00<00:00, 874.17it/s]\n"
     ]
    },
    {
     "name": "stdout",
     "output_type": "stream",
     "text": [
      " Average valid loss: 1.02\n",
      "AUC_SCORE:  0.713719512195122  acc:  0.5371900826446281 f1:  0.5757575757575758\n",
      "EPOCHS:39\n",
      "TRAIN\n"
     ]
    },
    {
     "name": "stderr",
     "output_type": "stream",
     "text": [
      "100%|████████████████████████████████████████| 963/963 [00:07<00:00, 122.40it/s]\n"
     ]
    },
    {
     "name": "stdout",
     "output_type": "stream",
     "text": [
      " Average training loss: 0.91\n"
     ]
    },
    {
     "name": "stderr",
     "output_type": "stream",
     "text": [
      "100%|████████████████████████████████████████| 120/120 [00:00<00:00, 882.33it/s]\n"
     ]
    },
    {
     "name": "stdout",
     "output_type": "stream",
     "text": [
      " Average valid loss: 0.98\n",
      "AUC_SCORE:  0.7258413090460019  acc:  0.5916666666666667 f1:  0.5950413223140496\n",
      "38  EPOCH BEST MODEL!\n",
      "Test\n"
     ]
    },
    {
     "name": "stderr",
     "output_type": "stream",
     "text": [
      "100%|████████████████████████████████████████| 121/121 [00:00<00:00, 878.65it/s]\n"
     ]
    },
    {
     "name": "stdout",
     "output_type": "stream",
     "text": [
      " Average valid loss: 1.02\n",
      "AUC_SCORE:  0.7140243902439024  acc:  0.5371900826446281 f1:  0.5757575757575758\n",
      "EPOCHS:40\n",
      "TRAIN\n"
     ]
    },
    {
     "name": "stderr",
     "output_type": "stream",
     "text": [
      "100%|████████████████████████████████████████| 963/963 [00:08<00:00, 120.09it/s]\n"
     ]
    },
    {
     "name": "stdout",
     "output_type": "stream",
     "text": [
      " Average training loss: 0.92\n"
     ]
    },
    {
     "name": "stderr",
     "output_type": "stream",
     "text": [
      "100%|████████████████████████████████████████| 120/120 [00:00<00:00, 879.44it/s]\n"
     ]
    },
    {
     "name": "stdout",
     "output_type": "stream",
     "text": [
      " Average valid loss: 0.97\n",
      "AUC_SCORE:  0.7249150972522383  acc:  0.5833333333333334 f1:  0.5833333333333333\n",
      "Test\n"
     ]
    },
    {
     "name": "stderr",
     "output_type": "stream",
     "text": [
      "100%|████████████████████████████████████████| 121/121 [00:00<00:00, 870.82it/s]\n"
     ]
    },
    {
     "name": "stdout",
     "output_type": "stream",
     "text": [
      " Average valid loss: 1.01\n",
      "AUC_SCORE:  0.7134146341463415  acc:  0.5619834710743802 f1:  0.5891472868217055\n"
     ]
    },
    {
     "name": "stderr",
     "output_type": "stream",
     "text": [
      "100%|████████████████████████████████████████| 121/121 [00:00<00:00, 862.88it/s]\n"
     ]
    },
    {
     "name": "stdout",
     "output_type": "stream",
     "text": [
      " Average valid loss: 1.02\n",
      "AUC_SCORE:  0.7140243902439024  acc:  0.5371900826446281 f1:  0.5757575757575758\n",
      "BEST MODEL\n",
      "AUC_SCORE:  0.7140243902439024  acc:  0.5371900826446281 f1:  0.5757575757575758\n",
      "{'auc_micro': 0.7140243902439024, 'acc': 0.5371900826446281, 'f1': 0.5757575757575758, 'pred': [[1, 1, 0, 1, 0, 1, 1, 1, 1, 1], [1, 1, 1, 1, 1, 0, 0, 1, 1, 1], [1, 1, 1, 1, 0, 0, 1, 1, 1, 1], [1, 1, 0, 0, 1, 1, 1, 1, 1, 1], [1, 1, 1, 1, 1, 1, 0, 1, 0, 1], [1, 0, 1, 0, 0, 1, 1, 1, 1, 1], [1, 1, 0, 1, 1, 0, 0, 1, 1, 1], [1, 1, 1, 0, 1, 1, 0, 1, 1, 1], [0, 1, 1, 1, 1, 1, 1, 1, 0, 1], [1, 0, 0, 1, 1, 1, 1, 1, 1, 1], [0, 1, 0, 1, 1, 1, 1, 1, 1, 0], [1, 1, 1, 1, 0, 1, 0, 1, 0, 0], [0], [], [], [], [], [], [], []]}\n"
     ]
    }
   ],
   "source": [
    "bert2 = BertModel().to('cuda')\n",
    "score = fit(bert2, train_data,valid_data,test_data,EPOCHS=40)\n",
    "print(score)"
   ]
  },
  {
   "cell_type": "code",
   "execution_count": null,
   "id": "831c906a",
   "metadata": {},
   "outputs": [],
   "source": []
  },
  {
   "cell_type": "markdown",
   "id": "dc209ff8",
   "metadata": {},
   "source": [
    "# Main_act"
   ]
  },
  {
   "cell_type": "code",
   "execution_count": 26,
   "id": "a51811b4",
   "metadata": {},
   "outputs": [],
   "source": [
    "path1 = 'word2vec_model_extra+emb/'\n",
    "path2 = 'data/scriptbase/'\n",
    "filenames = os.listdir(path1)\n",
    "train_data = []\n",
    "valid_data = []\n",
    "test_data = []\n",
    "one = 0\n",
    "zero = 0\n",
    "end = torch.ones(1,1,384)\n",
    "\n",
    "for filename in filenames:\n",
    "    genres = []\n",
    "    movie_name = filename[:-14]\n",
    "    cult = 0\n",
    "    with open(path2+movie_name+'/processed/imdb_meta.txt','r') as f:\n",
    "        lines = f.readlines()\n",
    "        for line in lines:\n",
    "            if 'keyword' in line:\n",
    "                try:\n",
    "                    keyword  = line.strip().split('\\t')[1]\n",
    "                    keywords.append(keyword)\n",
    "                except:\n",
    "                    pass\n",
    "                if 'cult film'==keyword:\n",
    "                    cult = 1\n",
    "        \n",
    "    w2v=Word2Vec.load(path1 + filename)\n",
    "    base = 'scene_'\n",
    "    scene_num = 0\n",
    "    max_scene = 0\n",
    "    for node in w2v.wv.index_to_key:\n",
    "        if base in node:\n",
    "            scene_num += 1\n",
    "            if int(node[6:])>max_scene:\n",
    "                max_scene = int(node[6:])\n",
    "    embs = torch.zeros(1,scene_num+1,384)\n",
    "    k = 0\n",
    "    for i in range(1,max_scene+1):\n",
    "        emb_name = base + str(i)\n",
    "        if emb_name in w2v.wv.index_to_key:\n",
    "            emb = w2v.wv[emb_name]\n",
    "            emb = torch.from_numpy(emb)\n",
    "            embs[0][k] = emb\n",
    "            k += 1\n",
    "    embs[0][-1] = end\n",
    "        \n",
    "        \n",
    "    rand = random.randint(0,100)    \n",
    "    if movie_name in movie_split['train']:\n",
    "        train_data.append([embs, [cult]])\n",
    "    elif movie_name in movie_split['valid']:\n",
    "        valid_data.append([embs, [cult]])\n",
    "    \n",
    "    elif movie_name in movie_split['test']:\n",
    "        test_data.append([embs, [cult]])\n",
    "    \n",
    "    if cult:\n",
    "        one += 1\n",
    "    else:\n",
    "        zero += 1"
   ]
  },
  {
   "cell_type": "code",
   "execution_count": 27,
   "id": "74fa2690",
   "metadata": {},
   "outputs": [
    {
     "name": "stdout",
     "output_type": "stream",
     "text": [
      "EPOCHS:1\n",
      "TRAIN\n"
     ]
    },
    {
     "name": "stderr",
     "output_type": "stream",
     "text": [
      "100%|████████████████████████████████████████| 963/963 [00:08<00:00, 118.98it/s]\n"
     ]
    },
    {
     "name": "stdout",
     "output_type": "stream",
     "text": [
      " Average training loss: 1.10\n"
     ]
    },
    {
     "name": "stderr",
     "output_type": "stream",
     "text": [
      "100%|████████████████████████████████████████| 120/120 [00:00<00:00, 869.16it/s]"
     ]
    },
    {
     "name": "stdout",
     "output_type": "stream",
     "text": [
      " Average valid loss: 1.08\n",
      "AUC_SCORE:  0.6545230009262119  acc:  0.3416666666666667 f1:  0.5093167701863354\n"
     ]
    },
    {
     "name": "stderr",
     "output_type": "stream",
     "text": [
      "\n"
     ]
    },
    {
     "name": "stdout",
     "output_type": "stream",
     "text": [
      "Test\n"
     ]
    },
    {
     "name": "stderr",
     "output_type": "stream",
     "text": [
      "100%|████████████████████████████████████████| 121/121 [00:00<00:00, 840.20it/s]\n"
     ]
    },
    {
     "name": "stdout",
     "output_type": "stream",
     "text": [
      " Average valid loss: 1.07\n",
      "AUC_SCORE:  0.7091463414634146  acc:  0.33884297520661155 f1:  0.5061728395061729\n",
      "EPOCHS:2\n",
      "TRAIN\n"
     ]
    },
    {
     "name": "stderr",
     "output_type": "stream",
     "text": [
      "100%|████████████████████████████████████████| 963/963 [00:08<00:00, 119.17it/s]\n"
     ]
    },
    {
     "name": "stdout",
     "output_type": "stream",
     "text": [
      " Average training loss: 1.08\n"
     ]
    },
    {
     "name": "stderr",
     "output_type": "stream",
     "text": [
      "100%|████████████████████████████████████████| 120/120 [00:00<00:00, 870.38it/s]\n"
     ]
    },
    {
     "name": "stdout",
     "output_type": "stream",
     "text": [
      " Average valid loss: 1.07\n",
      "AUC_SCORE:  0.6677987033034888  acc:  0.3416666666666667 f1:  0.5093167701863354\n",
      "Test\n"
     ]
    },
    {
     "name": "stderr",
     "output_type": "stream",
     "text": [
      "100%|████████████████████████████████████████| 121/121 [00:00<00:00, 863.04it/s]\n"
     ]
    },
    {
     "name": "stdout",
     "output_type": "stream",
     "text": [
      " Average valid loss: 1.06\n",
      "AUC_SCORE:  0.7411585365853658  acc:  0.33884297520661155 f1:  0.5061728395061729\n",
      "EPOCHS:3\n",
      "TRAIN\n"
     ]
    },
    {
     "name": "stderr",
     "output_type": "stream",
     "text": [
      "100%|████████████████████████████████████████| 963/963 [00:08<00:00, 120.13it/s]\n"
     ]
    },
    {
     "name": "stdout",
     "output_type": "stream",
     "text": [
      " Average training loss: 1.08\n"
     ]
    },
    {
     "name": "stderr",
     "output_type": "stream",
     "text": [
      "100%|████████████████████████████████████████| 120/120 [00:00<00:00, 867.06it/s]\n"
     ]
    },
    {
     "name": "stdout",
     "output_type": "stream",
     "text": [
      " Average valid loss: 1.07\n",
      "AUC_SCORE:  0.6662550169805496  acc:  0.3416666666666667 f1:  0.5093167701863354\n",
      "Test\n"
     ]
    },
    {
     "name": "stderr",
     "output_type": "stream",
     "text": [
      "100%|████████████████████████████████████████| 121/121 [00:00<00:00, 860.20it/s]\n"
     ]
    },
    {
     "name": "stdout",
     "output_type": "stream",
     "text": [
      " Average valid loss: 1.05\n",
      "AUC_SCORE:  0.7445121951219512  acc:  0.33884297520661155 f1:  0.5061728395061729\n",
      "EPOCHS:4\n",
      "TRAIN\n"
     ]
    },
    {
     "name": "stderr",
     "output_type": "stream",
     "text": [
      "100%|████████████████████████████████████████| 963/963 [00:08<00:00, 119.55it/s]\n"
     ]
    },
    {
     "name": "stdout",
     "output_type": "stream",
     "text": [
      " Average training loss: 1.07\n"
     ]
    },
    {
     "name": "stderr",
     "output_type": "stream",
     "text": [
      "100%|████████████████████████████████████████| 120/120 [00:00<00:00, 873.06it/s]\n"
     ]
    },
    {
     "name": "stdout",
     "output_type": "stream",
     "text": [
      " Average valid loss: 1.06\n",
      "AUC_SCORE:  0.665328805186786  acc:  0.3416666666666667 f1:  0.5093167701863354\n",
      "Test\n"
     ]
    },
    {
     "name": "stderr",
     "output_type": "stream",
     "text": [
      "100%|████████████████████████████████████████| 121/121 [00:00<00:00, 864.88it/s]\n"
     ]
    },
    {
     "name": "stdout",
     "output_type": "stream",
     "text": [
      " Average valid loss: 1.04\n",
      "AUC_SCORE:  0.7451219512195121  acc:  0.33884297520661155 f1:  0.5061728395061729\n",
      "EPOCHS:5\n",
      "TRAIN\n"
     ]
    },
    {
     "name": "stderr",
     "output_type": "stream",
     "text": [
      "100%|████████████████████████████████████████| 963/963 [00:08<00:00, 118.90it/s]\n"
     ]
    },
    {
     "name": "stdout",
     "output_type": "stream",
     "text": [
      " Average training loss: 1.07\n"
     ]
    },
    {
     "name": "stderr",
     "output_type": "stream",
     "text": [
      "100%|████████████████████████████████████████| 120/120 [00:00<00:00, 840.44it/s]\n"
     ]
    },
    {
     "name": "stdout",
     "output_type": "stream",
     "text": [
      " Average valid loss: 1.06\n",
      "AUC_SCORE:  0.6696511268910158  acc:  0.35 f1:  0.5125\n",
      "4  EPOCH BEST MODEL!\n",
      "Test\n"
     ]
    },
    {
     "name": "stderr",
     "output_type": "stream",
     "text": [
      "100%|████████████████████████████████████████| 121/121 [00:00<00:00, 823.21it/s]\n"
     ]
    },
    {
     "name": "stdout",
     "output_type": "stream",
     "text": [
      " Average valid loss: 1.03\n",
      "AUC_SCORE:  0.7426829268292684  acc:  0.34710743801652894 f1:  0.5093167701863354\n",
      "EPOCHS:6\n",
      "TRAIN\n"
     ]
    },
    {
     "name": "stderr",
     "output_type": "stream",
     "text": [
      "100%|████████████████████████████████████████| 963/963 [00:08<00:00, 118.50it/s]\n"
     ]
    },
    {
     "name": "stdout",
     "output_type": "stream",
     "text": [
      " Average training loss: 1.06\n"
     ]
    },
    {
     "name": "stderr",
     "output_type": "stream",
     "text": [
      "100%|████████████████████████████████████████| 120/120 [00:00<00:00, 876.81it/s]"
     ]
    },
    {
     "name": "stdout",
     "output_type": "stream",
     "text": [
      " Average valid loss: 1.05\n",
      "AUC_SCORE:  0.6684161778326644  acc:  0.38333333333333336 f1:  0.5256410256410257\n",
      "5  EPOCH BEST MODEL!\n"
     ]
    },
    {
     "name": "stderr",
     "output_type": "stream",
     "text": [
      "\n"
     ]
    },
    {
     "name": "stdout",
     "output_type": "stream",
     "text": [
      "Test\n"
     ]
    },
    {
     "name": "stderr",
     "output_type": "stream",
     "text": [
      "100%|████████████████████████████████████████| 121/121 [00:00<00:00, 859.81it/s]\n"
     ]
    },
    {
     "name": "stdout",
     "output_type": "stream",
     "text": [
      " Average valid loss: 1.02\n",
      "AUC_SCORE:  0.7439024390243902  acc:  0.34710743801652894 f1:  0.5031446540880503\n",
      "EPOCHS:7\n",
      "TRAIN\n"
     ]
    },
    {
     "name": "stderr",
     "output_type": "stream",
     "text": [
      "100%|████████████████████████████████████████| 963/963 [00:08<00:00, 118.66it/s]\n"
     ]
    },
    {
     "name": "stdout",
     "output_type": "stream",
     "text": [
      " Average training loss: 1.05\n"
     ]
    },
    {
     "name": "stderr",
     "output_type": "stream",
     "text": [
      "100%|████████████████████████████████████████| 120/120 [00:00<00:00, 852.79it/s]\n"
     ]
    },
    {
     "name": "stdout",
     "output_type": "stream",
     "text": [
      " Average valid loss: 1.05\n",
      "AUC_SCORE:  0.6715035504785427  acc:  0.38333333333333336 f1:  0.5194805194805194\n",
      "Test\n"
     ]
    },
    {
     "name": "stderr",
     "output_type": "stream",
     "text": [
      "100%|████████████████████████████████████████| 121/121 [00:00<00:00, 864.87it/s]\n"
     ]
    },
    {
     "name": "stdout",
     "output_type": "stream",
     "text": [
      " Average valid loss: 1.01\n",
      "AUC_SCORE:  0.7429878048780487  acc:  0.35537190082644626 f1:  0.4999999999999999\n",
      "EPOCHS:8\n",
      "TRAIN\n"
     ]
    },
    {
     "name": "stderr",
     "output_type": "stream",
     "text": [
      "100%|████████████████████████████████████████| 963/963 [00:08<00:00, 118.53it/s]\n"
     ]
    },
    {
     "name": "stdout",
     "output_type": "stream",
     "text": [
      " Average training loss: 1.04\n"
     ]
    },
    {
     "name": "stderr",
     "output_type": "stream",
     "text": [
      "100%|████████████████████████████████████████| 120/120 [00:00<00:00, 851.31it/s]\n"
     ]
    },
    {
     "name": "stdout",
     "output_type": "stream",
     "text": [
      " Average valid loss: 1.04\n",
      "AUC_SCORE:  0.6727384995368941  acc:  0.4083333333333333 f1:  0.523489932885906\n",
      "Test\n"
     ]
    },
    {
     "name": "stderr",
     "output_type": "stream",
     "text": [
      "100%|████████████████████████████████████████| 121/121 [00:00<00:00, 836.09it/s]\n"
     ]
    },
    {
     "name": "stdout",
     "output_type": "stream",
     "text": [
      " Average valid loss: 1.01\n",
      "AUC_SCORE:  0.7442073170731708  acc:  0.3884297520661157 f1:  0.5131578947368421\n",
      "EPOCHS:9\n",
      "TRAIN\n"
     ]
    },
    {
     "name": "stderr",
     "output_type": "stream",
     "text": [
      "100%|████████████████████████████████████████| 963/963 [00:08<00:00, 118.68it/s]\n"
     ]
    },
    {
     "name": "stdout",
     "output_type": "stream",
     "text": [
      " Average training loss: 1.04\n"
     ]
    },
    {
     "name": "stderr",
     "output_type": "stream",
     "text": [
      "100%|████████████████████████████████████████| 120/120 [00:00<00:00, 841.62it/s]\n"
     ]
    },
    {
     "name": "stdout",
     "output_type": "stream",
     "text": [
      " Average valid loss: 1.04\n",
      "AUC_SCORE:  0.6711948132139549  acc:  0.425 f1:  0.5241379310344828\n",
      "Test\n"
     ]
    },
    {
     "name": "stderr",
     "output_type": "stream",
     "text": [
      "100%|████████████████████████████████████████| 121/121 [00:00<00:00, 830.59it/s]\n"
     ]
    },
    {
     "name": "stdout",
     "output_type": "stream",
     "text": [
      " Average valid loss: 1.00\n",
      "AUC_SCORE:  0.7426829268292682  acc:  0.4132231404958678 f1:  0.523489932885906\n",
      "EPOCHS:10\n",
      "TRAIN\n"
     ]
    },
    {
     "name": "stderr",
     "output_type": "stream",
     "text": [
      "100%|████████████████████████████████████████| 963/963 [00:08<00:00, 118.50it/s]\n"
     ]
    },
    {
     "name": "stdout",
     "output_type": "stream",
     "text": [
      " Average training loss: 1.03\n"
     ]
    },
    {
     "name": "stderr",
     "output_type": "stream",
     "text": [
      "100%|████████████████████████████████████████| 120/120 [00:00<00:00, 861.52it/s]"
     ]
    },
    {
     "name": "stdout",
     "output_type": "stream",
     "text": [
      " Average valid loss: 1.03\n",
      "AUC_SCORE:  0.6702686014201914  acc:  0.44166666666666665 f1:  0.5314685314685316\n",
      "9  EPOCH BEST MODEL!\n"
     ]
    },
    {
     "name": "stderr",
     "output_type": "stream",
     "text": [
      "\n"
     ]
    },
    {
     "name": "stdout",
     "output_type": "stream",
     "text": [
      "Test\n"
     ]
    },
    {
     "name": "stderr",
     "output_type": "stream",
     "text": [
      "100%|████████████████████████████████████████| 121/121 [00:00<00:00, 849.86it/s]\n"
     ]
    },
    {
     "name": "stdout",
     "output_type": "stream",
     "text": [
      " Average valid loss: 1.00\n",
      "AUC_SCORE:  0.7411585365853659  acc:  0.4132231404958678 f1:  0.523489932885906\n",
      "EPOCHS:11\n",
      "TRAIN\n"
     ]
    },
    {
     "name": "stderr",
     "output_type": "stream",
     "text": [
      "100%|████████████████████████████████████████| 963/963 [00:08<00:00, 118.92it/s]\n"
     ]
    },
    {
     "name": "stdout",
     "output_type": "stream",
     "text": [
      " Average training loss: 1.02\n"
     ]
    },
    {
     "name": "stderr",
     "output_type": "stream",
     "text": [
      "100%|████████████████████████████████████████| 120/120 [00:00<00:00, 865.51it/s]\n"
     ]
    },
    {
     "name": "stdout",
     "output_type": "stream",
     "text": [
      " Average valid loss: 1.03\n",
      "AUC_SCORE:  0.669342389626428  acc:  0.48333333333333334 f1:  0.5507246376811594\n",
      "10  EPOCH BEST MODEL!\n",
      "Test\n"
     ]
    },
    {
     "name": "stderr",
     "output_type": "stream",
     "text": [
      "100%|████████████████████████████████████████| 121/121 [00:00<00:00, 833.02it/s]\n"
     ]
    },
    {
     "name": "stdout",
     "output_type": "stream",
     "text": [
      " Average valid loss: 0.99\n",
      "AUC_SCORE:  0.7420731707317073  acc:  0.45454545454545453 f1:  0.5416666666666666\n",
      "EPOCHS:12\n",
      "TRAIN\n"
     ]
    },
    {
     "name": "stderr",
     "output_type": "stream",
     "text": [
      "100%|████████████████████████████████████████| 963/963 [00:08<00:00, 119.62it/s]\n"
     ]
    },
    {
     "name": "stdout",
     "output_type": "stream",
     "text": [
      " Average training loss: 1.02\n"
     ]
    },
    {
     "name": "stderr",
     "output_type": "stream",
     "text": [
      "100%|████████████████████████████████████████| 120/120 [00:00<00:00, 879.39it/s]\n"
     ]
    },
    {
     "name": "stdout",
     "output_type": "stream",
     "text": [
      " Average valid loss: 1.03\n",
      "AUC_SCORE:  0.6733559740660697  acc:  0.49166666666666664 f1:  0.5547445255474452\n",
      "11  EPOCH BEST MODEL!\n",
      "Test\n"
     ]
    },
    {
     "name": "stderr",
     "output_type": "stream",
     "text": [
      "100%|████████████████████████████████████████| 121/121 [00:00<00:00, 839.56it/s]\n"
     ]
    },
    {
     "name": "stdout",
     "output_type": "stream",
     "text": [
      " Average valid loss: 0.99\n",
      "AUC_SCORE:  0.7417682926829269  acc:  0.4462809917355372 f1:  0.5314685314685316\n",
      "EPOCHS:13\n",
      "TRAIN\n"
     ]
    },
    {
     "name": "stderr",
     "output_type": "stream",
     "text": [
      "100%|████████████████████████████████████████| 963/963 [00:08<00:00, 118.76it/s]\n"
     ]
    },
    {
     "name": "stdout",
     "output_type": "stream",
     "text": [
      " Average training loss: 1.01\n"
     ]
    },
    {
     "name": "stderr",
     "output_type": "stream",
     "text": [
      "100%|████████████████████████████████████████| 120/120 [00:00<00:00, 871.57it/s]"
     ]
    },
    {
     "name": "stdout",
     "output_type": "stream",
     "text": [
      " Average valid loss: 1.02\n",
      "AUC_SCORE:  0.6739734485952456  acc:  0.5083333333333333 f1:  0.562962962962963\n",
      "12  EPOCH BEST MODEL!\n"
     ]
    },
    {
     "name": "stderr",
     "output_type": "stream",
     "text": [
      "\n"
     ]
    },
    {
     "name": "stdout",
     "output_type": "stream",
     "text": [
      "Test\n"
     ]
    },
    {
     "name": "stderr",
     "output_type": "stream",
     "text": [
      "100%|████████████████████████████████████████| 121/121 [00:00<00:00, 857.96it/s]\n"
     ]
    },
    {
     "name": "stdout",
     "output_type": "stream",
     "text": [
      " Average valid loss: 0.99\n",
      "AUC_SCORE:  0.7426829268292683  acc:  0.4380165289256198 f1:  0.5211267605633803\n",
      "EPOCHS:14\n",
      "TRAIN\n"
     ]
    },
    {
     "name": "stderr",
     "output_type": "stream",
     "text": [
      "100%|████████████████████████████████████████| 963/963 [00:08<00:00, 118.30it/s]\n"
     ]
    },
    {
     "name": "stdout",
     "output_type": "stream",
     "text": [
      " Average training loss: 1.01\n"
     ]
    },
    {
     "name": "stderr",
     "output_type": "stream",
     "text": [
      "100%|████████████████████████████████████████| 120/120 [00:00<00:00, 871.45it/s]"
     ]
    },
    {
     "name": "stdout",
     "output_type": "stream",
     "text": [
      " Average valid loss: 1.02\n",
      "AUC_SCORE:  0.6739734485952456  acc:  0.525 f1:  0.5714285714285715\n",
      "13  EPOCH BEST MODEL!\n"
     ]
    },
    {
     "name": "stderr",
     "output_type": "stream",
     "text": [
      "\n"
     ]
    },
    {
     "name": "stdout",
     "output_type": "stream",
     "text": [
      "Test\n"
     ]
    },
    {
     "name": "stderr",
     "output_type": "stream",
     "text": [
      "100%|████████████████████████████████████████| 121/121 [00:00<00:00, 835.27it/s]\n"
     ]
    },
    {
     "name": "stdout",
     "output_type": "stream",
     "text": [
      " Average valid loss: 0.98\n",
      "AUC_SCORE:  0.7432926829268294  acc:  0.4628099173553719 f1:  0.5323741007194245\n",
      "EPOCHS:15\n",
      "TRAIN\n"
     ]
    },
    {
     "name": "stderr",
     "output_type": "stream",
     "text": [
      "100%|████████████████████████████████████████| 963/963 [00:08<00:00, 118.97it/s]\n"
     ]
    },
    {
     "name": "stdout",
     "output_type": "stream",
     "text": [
      " Average training loss: 1.01\n"
     ]
    },
    {
     "name": "stderr",
     "output_type": "stream",
     "text": [
      "100%|████████████████████████████████████████| 120/120 [00:00<00:00, 870.74it/s]"
     ]
    },
    {
     "name": "stdout",
     "output_type": "stream",
     "text": [
      " Average valid loss: 1.02\n",
      "AUC_SCORE:  0.6786045075640631  acc:  0.5333333333333333 f1:  0.5757575757575758\n",
      "14  EPOCH BEST MODEL!\n"
     ]
    },
    {
     "name": "stderr",
     "output_type": "stream",
     "text": [
      "\n"
     ]
    },
    {
     "name": "stdout",
     "output_type": "stream",
     "text": [
      "Test\n"
     ]
    },
    {
     "name": "stderr",
     "output_type": "stream",
     "text": [
      "100%|████████████████████████████████████████| 121/121 [00:00<00:00, 857.51it/s]\n"
     ]
    },
    {
     "name": "stdout",
     "output_type": "stream",
     "text": [
      " Average valid loss: 0.99\n",
      "AUC_SCORE:  0.7417682926829269  acc:  0.4628099173553719 f1:  0.5323741007194245\n",
      "EPOCHS:16\n",
      "TRAIN\n"
     ]
    },
    {
     "name": "stderr",
     "output_type": "stream",
     "text": [
      "100%|████████████████████████████████████████| 963/963 [00:08<00:00, 117.98it/s]\n"
     ]
    },
    {
     "name": "stdout",
     "output_type": "stream",
     "text": [
      " Average training loss: 0.99\n"
     ]
    },
    {
     "name": "stderr",
     "output_type": "stream",
     "text": [
      "100%|████████████████████████████████████████| 120/120 [00:00<00:00, 874.52it/s]\n"
     ]
    },
    {
     "name": "stdout",
     "output_type": "stream",
     "text": [
      " Average valid loss: 1.02\n",
      "AUC_SCORE:  0.6807656684161779  acc:  0.5583333333333333 f1:  0.5891472868217055\n",
      "15  EPOCH BEST MODEL!\n",
      "Test\n"
     ]
    },
    {
     "name": "stderr",
     "output_type": "stream",
     "text": [
      "100%|████████████████████████████████████████| 121/121 [00:00<00:00, 857.65it/s]\n"
     ]
    },
    {
     "name": "stdout",
     "output_type": "stream",
     "text": [
      " Average valid loss: 0.98\n",
      "AUC_SCORE:  0.739939024390244  acc:  0.4793388429752066 f1:  0.5401459854014599\n",
      "EPOCHS:17\n",
      "TRAIN\n"
     ]
    },
    {
     "name": "stderr",
     "output_type": "stream",
     "text": [
      "100%|████████████████████████████████████████| 963/963 [00:08<00:00, 118.23it/s]\n"
     ]
    },
    {
     "name": "stdout",
     "output_type": "stream",
     "text": [
      " Average training loss: 1.00\n"
     ]
    },
    {
     "name": "stderr",
     "output_type": "stream",
     "text": [
      "100%|████████████████████████████████████████| 120/120 [00:00<00:00, 871.89it/s]\n"
     ]
    },
    {
     "name": "stdout",
     "output_type": "stream",
     "text": [
      " Average valid loss: 1.01\n",
      "AUC_SCORE:  0.6807656684161779  acc:  0.5583333333333333 f1:  0.5891472868217055\n",
      "Test\n"
     ]
    },
    {
     "name": "stderr",
     "output_type": "stream",
     "text": [
      "100%|████████████████████████████████████████| 121/121 [00:00<00:00, 859.20it/s]\n"
     ]
    },
    {
     "name": "stdout",
     "output_type": "stream",
     "text": [
      " Average valid loss: 0.98\n",
      "AUC_SCORE:  0.7399390243902438  acc:  0.48760330578512395 f1:  0.5441176470588235\n",
      "EPOCHS:18\n",
      "TRAIN\n"
     ]
    },
    {
     "name": "stderr",
     "output_type": "stream",
     "text": [
      "100%|████████████████████████████████████████| 963/963 [00:08<00:00, 118.32it/s]\n"
     ]
    },
    {
     "name": "stdout",
     "output_type": "stream",
     "text": [
      " Average training loss: 1.00\n"
     ]
    },
    {
     "name": "stderr",
     "output_type": "stream",
     "text": [
      "100%|████████████████████████████████████████| 120/120 [00:00<00:00, 874.54it/s]\n"
     ]
    },
    {
     "name": "stdout",
     "output_type": "stream",
     "text": [
      " Average valid loss: 1.01\n",
      "AUC_SCORE:  0.6847792528558196  acc:  0.5666666666666667 f1:  0.59375\n",
      "17  EPOCH BEST MODEL!\n",
      "Test\n"
     ]
    },
    {
     "name": "stderr",
     "output_type": "stream",
     "text": [
      "100%|████████████████████████████████████████| 121/121 [00:00<00:00, 857.20it/s]\n"
     ]
    },
    {
     "name": "stdout",
     "output_type": "stream",
     "text": [
      " Average valid loss: 0.98\n",
      "AUC_SCORE:  0.7414634146341463  acc:  0.48760330578512395 f1:  0.5441176470588235\n",
      "EPOCHS:19\n",
      "TRAIN\n"
     ]
    },
    {
     "name": "stderr",
     "output_type": "stream",
     "text": [
      "100%|████████████████████████████████████████| 963/963 [00:08<00:00, 118.71it/s]\n"
     ]
    },
    {
     "name": "stdout",
     "output_type": "stream",
     "text": [
      " Average training loss: 0.99\n"
     ]
    },
    {
     "name": "stderr",
     "output_type": "stream",
     "text": [
      "100%|████████████████████████████████████████| 120/120 [00:00<00:00, 873.23it/s]\n"
     ]
    },
    {
     "name": "stdout",
     "output_type": "stream",
     "text": [
      " Average valid loss: 1.01\n",
      "AUC_SCORE:  0.6897190490892251  acc:  0.5583333333333333 f1:  0.5826771653543307\n",
      "Test\n"
     ]
    },
    {
     "name": "stderr",
     "output_type": "stream",
     "text": [
      "100%|████████████████████████████████████████| 121/121 [00:00<00:00, 865.46it/s]\n"
     ]
    },
    {
     "name": "stdout",
     "output_type": "stream",
     "text": [
      " Average valid loss: 0.99\n",
      "AUC_SCORE:  0.7417682926829269  acc:  0.48760330578512395 f1:  0.5441176470588235\n",
      "EPOCHS:20\n",
      "TRAIN\n"
     ]
    },
    {
     "name": "stderr",
     "output_type": "stream",
     "text": [
      "100%|████████████████████████████████████████| 963/963 [00:08<00:00, 118.51it/s]\n"
     ]
    },
    {
     "name": "stdout",
     "output_type": "stream",
     "text": [
      " Average training loss: 0.98\n"
     ]
    },
    {
     "name": "stderr",
     "output_type": "stream",
     "text": [
      "100%|████████████████████████████████████████| 120/120 [00:00<00:00, 866.20it/s]\n"
     ]
    },
    {
     "name": "stdout",
     "output_type": "stream",
     "text": [
      " Average valid loss: 1.01\n",
      "AUC_SCORE:  0.6897190490892251  acc:  0.5666666666666667 f1:  0.5873015873015872\n",
      "Test\n"
     ]
    },
    {
     "name": "stderr",
     "output_type": "stream",
     "text": [
      "100%|████████████████████████████████████████| 121/121 [00:00<00:00, 856.24it/s]\n"
     ]
    },
    {
     "name": "stdout",
     "output_type": "stream",
     "text": [
      " Average valid loss: 0.99\n",
      "AUC_SCORE:  0.7423780487804879  acc:  0.49586776859504134 f1:  0.5481481481481482\n",
      "EPOCHS:21\n",
      "TRAIN\n"
     ]
    },
    {
     "name": "stderr",
     "output_type": "stream",
     "text": [
      "100%|████████████████████████████████████████| 963/963 [00:08<00:00, 118.86it/s]\n"
     ]
    },
    {
     "name": "stdout",
     "output_type": "stream",
     "text": [
      " Average training loss: 0.99\n"
     ]
    },
    {
     "name": "stderr",
     "output_type": "stream",
     "text": [
      "100%|████████████████████████████████████████| 120/120 [00:00<00:00, 864.03it/s]\n"
     ]
    },
    {
     "name": "stdout",
     "output_type": "stream",
     "text": [
      " Average valid loss: 1.01\n",
      "AUC_SCORE:  0.6921889472059278  acc:  0.5583333333333333 f1:  0.5826771653543307\n",
      "Test\n"
     ]
    },
    {
     "name": "stderr",
     "output_type": "stream",
     "text": [
      "100%|████████████████████████████████████████| 121/121 [00:00<00:00, 853.55it/s]\n"
     ]
    },
    {
     "name": "stdout",
     "output_type": "stream",
     "text": [
      " Average valid loss: 0.99\n",
      "AUC_SCORE:  0.7411585365853658  acc:  0.49586776859504134 f1:  0.5481481481481482\n",
      "EPOCHS:22\n",
      "TRAIN\n"
     ]
    },
    {
     "name": "stderr",
     "output_type": "stream",
     "text": [
      "100%|████████████████████████████████████████| 963/963 [00:08<00:00, 118.43it/s]\n"
     ]
    },
    {
     "name": "stdout",
     "output_type": "stream",
     "text": [
      " Average training loss: 0.98\n"
     ]
    },
    {
     "name": "stderr",
     "output_type": "stream",
     "text": [
      "100%|████████████████████████████████████████| 120/120 [00:00<00:00, 868.72it/s]\n"
     ]
    },
    {
     "name": "stdout",
     "output_type": "stream",
     "text": [
      " Average valid loss: 1.01\n",
      "AUC_SCORE:  0.6934238962642791  acc:  0.5583333333333333 f1:  0.5826771653543307\n",
      "Test\n"
     ]
    },
    {
     "name": "stderr",
     "output_type": "stream",
     "text": [
      "100%|████████████████████████████████████████| 121/121 [00:00<00:00, 812.38it/s]\n"
     ]
    },
    {
     "name": "stdout",
     "output_type": "stream",
     "text": [
      " Average valid loss: 0.99\n",
      "AUC_SCORE:  0.7402439024390244  acc:  0.49586776859504134 f1:  0.5481481481481482\n",
      "EPOCHS:23\n",
      "TRAIN\n"
     ]
    },
    {
     "name": "stderr",
     "output_type": "stream",
     "text": [
      "100%|████████████████████████████████████████| 963/963 [00:08<00:00, 118.48it/s]\n"
     ]
    },
    {
     "name": "stdout",
     "output_type": "stream",
     "text": [
      " Average training loss: 0.97\n"
     ]
    },
    {
     "name": "stderr",
     "output_type": "stream",
     "text": [
      "100%|████████████████████████████████████████| 120/120 [00:00<00:00, 864.57it/s]\n"
     ]
    },
    {
     "name": "stdout",
     "output_type": "stream",
     "text": [
      " Average valid loss: 1.00\n",
      "AUC_SCORE:  0.695585057116394  acc:  0.5583333333333333 f1:  0.5826771653543307\n",
      "Test\n"
     ]
    },
    {
     "name": "stderr",
     "output_type": "stream",
     "text": [
      "100%|████████████████████████████████████████| 121/121 [00:00<00:00, 854.44it/s]\n"
     ]
    },
    {
     "name": "stdout",
     "output_type": "stream",
     "text": [
      " Average valid loss: 0.99\n",
      "AUC_SCORE:  0.7387195121951219  acc:  0.512396694214876 f1:  0.556390977443609\n",
      "EPOCHS:24\n",
      "TRAIN\n"
     ]
    },
    {
     "name": "stderr",
     "output_type": "stream",
     "text": [
      "100%|████████████████████████████████████████| 963/963 [00:08<00:00, 118.09it/s]\n"
     ]
    },
    {
     "name": "stdout",
     "output_type": "stream",
     "text": [
      " Average training loss: 0.96\n"
     ]
    },
    {
     "name": "stderr",
     "output_type": "stream",
     "text": [
      "100%|████████████████████████████████████████| 120/120 [00:00<00:00, 859.29it/s]\n"
     ]
    },
    {
     "name": "stdout",
     "output_type": "stream",
     "text": [
      " Average valid loss: 1.00\n",
      "AUC_SCORE:  0.699289904291448  acc:  0.5583333333333333 f1:  0.5826771653543307\n",
      "Test\n"
     ]
    },
    {
     "name": "stderr",
     "output_type": "stream",
     "text": [
      "100%|████████████████████████████████████████| 121/121 [00:00<00:00, 856.48it/s]\n"
     ]
    },
    {
     "name": "stdout",
     "output_type": "stream",
     "text": [
      " Average valid loss: 1.00\n",
      "AUC_SCORE:  0.7378048780487805  acc:  0.512396694214876 f1:  0.556390977443609\n",
      "EPOCHS:25\n",
      "TRAIN\n"
     ]
    },
    {
     "name": "stderr",
     "output_type": "stream",
     "text": [
      "100%|████████████████████████████████████████| 963/963 [00:08<00:00, 118.20it/s]\n"
     ]
    },
    {
     "name": "stdout",
     "output_type": "stream",
     "text": [
      " Average training loss: 0.96\n"
     ]
    },
    {
     "name": "stderr",
     "output_type": "stream",
     "text": [
      "100%|████████████████████████████████████████| 120/120 [00:00<00:00, 864.08it/s]\n"
     ]
    },
    {
     "name": "stdout",
     "output_type": "stream",
     "text": [
      " Average valid loss: 1.00\n",
      "AUC_SCORE:  0.702994751466502  acc:  0.5666666666666667 f1:  0.5806451612903226\n",
      "Test\n"
     ]
    },
    {
     "name": "stderr",
     "output_type": "stream",
     "text": [
      "100%|████████████████████████████████████████| 121/121 [00:00<00:00, 858.84it/s]\n"
     ]
    },
    {
     "name": "stdout",
     "output_type": "stream",
     "text": [
      " Average valid loss: 0.99\n",
      "AUC_SCORE:  0.7371951219512195  acc:  0.5206611570247934 f1:  0.5606060606060607\n",
      "EPOCHS:26\n",
      "TRAIN\n"
     ]
    },
    {
     "name": "stderr",
     "output_type": "stream",
     "text": [
      "100%|████████████████████████████████████████| 963/963 [00:08<00:00, 118.42it/s]\n"
     ]
    },
    {
     "name": "stdout",
     "output_type": "stream",
     "text": [
      " Average training loss: 0.95\n"
     ]
    },
    {
     "name": "stderr",
     "output_type": "stream",
     "text": [
      "100%|████████████████████████████████████████| 120/120 [00:00<00:00, 861.75it/s]\n"
     ]
    },
    {
     "name": "stdout",
     "output_type": "stream",
     "text": [
      " Average valid loss: 1.00\n",
      "AUC_SCORE:  0.707008335906144  acc:  0.5666666666666667 f1:  0.5806451612903226\n",
      "Test\n"
     ]
    },
    {
     "name": "stderr",
     "output_type": "stream",
     "text": [
      "100%|████████████████████████████████████████| 121/121 [00:00<00:00, 854.74it/s]\n"
     ]
    },
    {
     "name": "stdout",
     "output_type": "stream",
     "text": [
      " Average valid loss: 1.00\n",
      "AUC_SCORE:  0.7371951219512195  acc:  0.5371900826446281 f1:  0.5692307692307692\n",
      "EPOCHS:27\n",
      "TRAIN\n"
     ]
    },
    {
     "name": "stderr",
     "output_type": "stream",
     "text": [
      "100%|████████████████████████████████████████| 963/963 [00:08<00:00, 118.35it/s]\n"
     ]
    },
    {
     "name": "stdout",
     "output_type": "stream",
     "text": [
      " Average training loss: 0.95\n"
     ]
    },
    {
     "name": "stderr",
     "output_type": "stream",
     "text": [
      "100%|████████████████████████████████████████| 120/120 [00:00<00:00, 862.50it/s]\n"
     ]
    },
    {
     "name": "stdout",
     "output_type": "stream",
     "text": [
      " Average valid loss: 1.00\n",
      "AUC_SCORE:  0.7094782340228466  acc:  0.5666666666666667 f1:  0.5806451612903226\n",
      "Test\n"
     ]
    },
    {
     "name": "stderr",
     "output_type": "stream",
     "text": [
      "100%|████████████████████████████████████████| 121/121 [00:00<00:00, 857.95it/s]\n"
     ]
    },
    {
     "name": "stdout",
     "output_type": "stream",
     "text": [
      " Average valid loss: 1.00\n",
      "AUC_SCORE:  0.7350609756097561  acc:  0.5206611570247934 f1:  0.5606060606060607\n",
      "EPOCHS:28\n",
      "TRAIN\n"
     ]
    },
    {
     "name": "stderr",
     "output_type": "stream",
     "text": [
      "100%|████████████████████████████████████████| 963/963 [00:08<00:00, 117.90it/s]\n"
     ]
    },
    {
     "name": "stdout",
     "output_type": "stream",
     "text": [
      " Average training loss: 0.94\n"
     ]
    },
    {
     "name": "stderr",
     "output_type": "stream",
     "text": [
      "100%|████████████████████████████████████████| 120/120 [00:00<00:00, 866.08it/s]\n"
     ]
    },
    {
     "name": "stdout",
     "output_type": "stream",
     "text": [
      " Average valid loss: 1.00\n",
      "AUC_SCORE:  0.7131830811979006  acc:  0.5666666666666667 f1:  0.5806451612903226\n",
      "Test\n"
     ]
    },
    {
     "name": "stderr",
     "output_type": "stream",
     "text": [
      "100%|████████████████████████████████████████| 121/121 [00:00<00:00, 854.10it/s]\n"
     ]
    },
    {
     "name": "stdout",
     "output_type": "stream",
     "text": [
      " Average valid loss: 1.00\n",
      "AUC_SCORE:  0.7314024390243903  acc:  0.5289256198347108 f1:  0.5648854961832062\n",
      "EPOCHS:29\n",
      "TRAIN\n"
     ]
    },
    {
     "name": "stderr",
     "output_type": "stream",
     "text": [
      "100%|████████████████████████████████████████| 963/963 [00:08<00:00, 117.91it/s]\n"
     ]
    },
    {
     "name": "stdout",
     "output_type": "stream",
     "text": [
      " Average training loss: 0.94\n"
     ]
    },
    {
     "name": "stderr",
     "output_type": "stream",
     "text": [
      "100%|████████████████████████████████████████| 120/120 [00:00<00:00, 858.66it/s]\n"
     ]
    },
    {
     "name": "stdout",
     "output_type": "stream",
     "text": [
      " Average valid loss: 0.99\n",
      "AUC_SCORE:  0.7144180302562518  acc:  0.5666666666666667 f1:  0.5806451612903226\n",
      "Test\n"
     ]
    },
    {
     "name": "stderr",
     "output_type": "stream",
     "text": [
      "100%|████████████████████████████████████████| 121/121 [00:00<00:00, 857.99it/s]\n"
     ]
    },
    {
     "name": "stdout",
     "output_type": "stream",
     "text": [
      " Average valid loss: 1.00\n",
      "AUC_SCORE:  0.7298780487804878  acc:  0.5454545454545454 f1:  0.5736434108527132\n",
      "EPOCHS:30\n",
      "TRAIN\n"
     ]
    },
    {
     "name": "stderr",
     "output_type": "stream",
     "text": [
      "100%|████████████████████████████████████████| 963/963 [00:07<00:00, 120.55it/s]\n"
     ]
    },
    {
     "name": "stdout",
     "output_type": "stream",
     "text": [
      " Average training loss: 0.93\n"
     ]
    },
    {
     "name": "stderr",
     "output_type": "stream",
     "text": [
      "100%|████████████████████████████████████████| 120/120 [00:00<00:00, 876.45it/s]\n"
     ]
    },
    {
     "name": "stdout",
     "output_type": "stream",
     "text": [
      " Average valid loss: 0.99\n",
      "AUC_SCORE:  0.7178141401667181  acc:  0.5666666666666667 f1:  0.5806451612903226\n",
      "Test\n"
     ]
    },
    {
     "name": "stderr",
     "output_type": "stream",
     "text": [
      "100%|████████████████████████████████████████| 121/121 [00:00<00:00, 869.16it/s]\n"
     ]
    },
    {
     "name": "stdout",
     "output_type": "stream",
     "text": [
      " Average valid loss: 1.01\n",
      "AUC_SCORE:  0.7274390243902439  acc:  0.5454545454545454 f1:  0.5736434108527132\n",
      "EPOCHS:31\n",
      "TRAIN\n"
     ]
    },
    {
     "name": "stderr",
     "output_type": "stream",
     "text": [
      "100%|████████████████████████████████████████| 963/963 [00:07<00:00, 120.98it/s]\n"
     ]
    },
    {
     "name": "stdout",
     "output_type": "stream",
     "text": [
      " Average training loss: 0.93\n"
     ]
    },
    {
     "name": "stderr",
     "output_type": "stream",
     "text": [
      "100%|████████████████████████████████████████| 120/120 [00:00<00:00, 866.31it/s]\n"
     ]
    },
    {
     "name": "stdout",
     "output_type": "stream",
     "text": [
      " Average valid loss: 0.99\n",
      "AUC_SCORE:  0.7184316146958937  acc:  0.55 f1:  0.5714285714285715\n",
      "Test\n"
     ]
    },
    {
     "name": "stderr",
     "output_type": "stream",
     "text": [
      "100%|████████████████████████████████████████| 121/121 [00:00<00:00, 852.27it/s]\n"
     ]
    },
    {
     "name": "stdout",
     "output_type": "stream",
     "text": [
      " Average valid loss: 1.01\n",
      "AUC_SCORE:  0.7240853658536586  acc:  0.5371900826446281 f1:  0.5692307692307692\n",
      "EPOCHS:32\n",
      "TRAIN\n"
     ]
    },
    {
     "name": "stderr",
     "output_type": "stream",
     "text": [
      "100%|████████████████████████████████████████| 963/963 [00:08<00:00, 118.42it/s]\n"
     ]
    },
    {
     "name": "stdout",
     "output_type": "stream",
     "text": [
      " Average training loss: 0.93\n"
     ]
    },
    {
     "name": "stderr",
     "output_type": "stream",
     "text": [
      "100%|████████████████████████████████████████| 120/120 [00:00<00:00, 863.95it/s]\n"
     ]
    },
    {
     "name": "stdout",
     "output_type": "stream",
     "text": [
      " Average valid loss: 0.99\n",
      "AUC_SCORE:  0.7190490892250694  acc:  0.575 f1:  0.5853658536585366\n",
      "Test\n"
     ]
    },
    {
     "name": "stderr",
     "output_type": "stream",
     "text": [
      "100%|████████████████████████████████████████| 121/121 [00:00<00:00, 857.22it/s]\n"
     ]
    },
    {
     "name": "stdout",
     "output_type": "stream",
     "text": [
      " Average valid loss: 1.01\n",
      "AUC_SCORE:  0.7234756097560976  acc:  0.5537190082644629 f1:  0.578125\n",
      "EPOCHS:33\n",
      "TRAIN\n"
     ]
    },
    {
     "name": "stderr",
     "output_type": "stream",
     "text": [
      "100%|████████████████████████████████████████| 963/963 [00:08<00:00, 119.26it/s]\n"
     ]
    },
    {
     "name": "stdout",
     "output_type": "stream",
     "text": [
      " Average training loss: 0.93\n"
     ]
    },
    {
     "name": "stderr",
     "output_type": "stream",
     "text": [
      "100%|████████████████████████████████████████| 120/120 [00:00<00:00, 870.68it/s]\n"
     ]
    },
    {
     "name": "stdout",
     "output_type": "stream",
     "text": [
      " Average valid loss: 0.99\n",
      "AUC_SCORE:  0.7212102500771843  acc:  0.5666666666666667 f1:  0.5806451612903226\n",
      "Test\n"
     ]
    },
    {
     "name": "stderr",
     "output_type": "stream",
     "text": [
      "100%|████████████████████████████████████████| 121/121 [00:00<00:00, 862.53it/s]\n"
     ]
    },
    {
     "name": "stdout",
     "output_type": "stream",
     "text": [
      " Average valid loss: 1.01\n",
      "AUC_SCORE:  0.7216463414634147  acc:  0.5454545454545454 f1:  0.5736434108527132\n",
      "EPOCHS:34\n",
      "TRAIN\n"
     ]
    },
    {
     "name": "stderr",
     "output_type": "stream",
     "text": [
      "100%|████████████████████████████████████████| 963/963 [00:07<00:00, 121.41it/s]\n"
     ]
    },
    {
     "name": "stdout",
     "output_type": "stream",
     "text": [
      " Average training loss: 0.92\n"
     ]
    },
    {
     "name": "stderr",
     "output_type": "stream",
     "text": [
      "100%|████████████████████████████████████████| 120/120 [00:00<00:00, 880.10it/s]\n"
     ]
    },
    {
     "name": "stdout",
     "output_type": "stream",
     "text": [
      " Average valid loss: 0.99\n",
      "AUC_SCORE:  0.7233714109292991  acc:  0.5583333333333333 f1:  0.576\n",
      "Test\n"
     ]
    },
    {
     "name": "stderr",
     "output_type": "stream",
     "text": [
      "100%|████████████████████████████████████████| 121/121 [00:00<00:00, 869.27it/s]\n"
     ]
    },
    {
     "name": "stdout",
     "output_type": "stream",
     "text": [
      " Average valid loss: 1.02\n",
      "AUC_SCORE:  0.7179878048780488  acc:  0.5371900826446281 f1:  0.5692307692307692\n",
      "EPOCHS:35\n",
      "TRAIN\n"
     ]
    },
    {
     "name": "stderr",
     "output_type": "stream",
     "text": [
      "100%|████████████████████████████████████████| 963/963 [00:07<00:00, 120.67it/s]\n"
     ]
    },
    {
     "name": "stdout",
     "output_type": "stream",
     "text": [
      " Average training loss: 0.93\n"
     ]
    },
    {
     "name": "stderr",
     "output_type": "stream",
     "text": [
      "100%|████████████████████████████████████████| 120/120 [00:00<00:00, 880.58it/s]\n"
     ]
    },
    {
     "name": "stdout",
     "output_type": "stream",
     "text": [
      " Average valid loss: 0.99\n",
      "AUC_SCORE:  0.7252238345168261  acc:  0.5416666666666666 f1:  0.5669291338582677\n",
      "Test\n"
     ]
    },
    {
     "name": "stderr",
     "output_type": "stream",
     "text": [
      "100%|████████████████████████████████████████| 121/121 [00:00<00:00, 872.49it/s]\n"
     ]
    },
    {
     "name": "stdout",
     "output_type": "stream",
     "text": [
      " Average valid loss: 1.03\n",
      "AUC_SCORE:  0.7173780487804878  acc:  0.5371900826446281 f1:  0.5692307692307692\n",
      "EPOCHS:36\n",
      "TRAIN\n"
     ]
    },
    {
     "name": "stderr",
     "output_type": "stream",
     "text": [
      "100%|████████████████████████████████████████| 963/963 [00:07<00:00, 121.11it/s]\n"
     ]
    },
    {
     "name": "stdout",
     "output_type": "stream",
     "text": [
      " Average training loss: 0.91\n"
     ]
    },
    {
     "name": "stderr",
     "output_type": "stream",
     "text": [
      "100%|████████████████████████████████████████| 120/120 [00:00<00:00, 884.53it/s]\n"
     ]
    },
    {
     "name": "stdout",
     "output_type": "stream",
     "text": [
      " Average valid loss: 0.99\n",
      "AUC_SCORE:  0.7280024698981167  acc:  0.5583333333333333 f1:  0.576\n",
      "Test\n"
     ]
    },
    {
     "name": "stderr",
     "output_type": "stream",
     "text": [
      "100%|████████████████████████████████████████| 121/121 [00:00<00:00, 869.01it/s]\n"
     ]
    },
    {
     "name": "stdout",
     "output_type": "stream",
     "text": [
      " Average valid loss: 1.03\n",
      "AUC_SCORE:  0.7170731707317073  acc:  0.5371900826446281 f1:  0.5692307692307692\n",
      "EPOCHS:37\n",
      "TRAIN\n"
     ]
    },
    {
     "name": "stderr",
     "output_type": "stream",
     "text": [
      "100%|████████████████████████████████████████| 963/963 [00:07<00:00, 121.13it/s]\n"
     ]
    },
    {
     "name": "stdout",
     "output_type": "stream",
     "text": [
      " Average training loss: 0.91\n"
     ]
    },
    {
     "name": "stderr",
     "output_type": "stream",
     "text": [
      "100%|████████████████████████████████████████| 120/120 [00:00<00:00, 877.40it/s]\n"
     ]
    },
    {
     "name": "stdout",
     "output_type": "stream",
     "text": [
      " Average valid loss: 0.98\n",
      "AUC_SCORE:  0.729237418956468  acc:  0.575 f1:  0.5853658536585366\n",
      "Test\n"
     ]
    },
    {
     "name": "stderr",
     "output_type": "stream",
     "text": [
      "100%|████████████████████████████████████████| 121/121 [00:00<00:00, 859.25it/s]\n"
     ]
    },
    {
     "name": "stdout",
     "output_type": "stream",
     "text": [
      " Average valid loss: 1.02\n",
      "AUC_SCORE:  0.7140243902439024  acc:  0.5619834710743802 f1:  0.576\n",
      "EPOCHS:38\n",
      "TRAIN\n"
     ]
    },
    {
     "name": "stderr",
     "output_type": "stream",
     "text": [
      "100%|████████████████████████████████████████| 963/963 [00:08<00:00, 119.75it/s]\n"
     ]
    },
    {
     "name": "stdout",
     "output_type": "stream",
     "text": [
      " Average training loss: 0.90\n"
     ]
    },
    {
     "name": "stderr",
     "output_type": "stream",
     "text": [
      "100%|████████████████████████████████████████| 120/120 [00:00<00:00, 860.09it/s]\n"
     ]
    },
    {
     "name": "stdout",
     "output_type": "stream",
     "text": [
      " Average valid loss: 0.98\n",
      "AUC_SCORE:  0.7304723680148194  acc:  0.5583333333333333 f1:  0.576\n",
      "Test\n"
     ]
    },
    {
     "name": "stderr",
     "output_type": "stream",
     "text": [
      "100%|████████████████████████████████████████| 121/121 [00:00<00:00, 843.12it/s]\n"
     ]
    },
    {
     "name": "stdout",
     "output_type": "stream",
     "text": [
      " Average valid loss: 1.03\n",
      "AUC_SCORE:  0.711280487804878  acc:  0.5371900826446281 f1:  0.5625\n",
      "EPOCHS:39\n",
      "TRAIN\n"
     ]
    },
    {
     "name": "stderr",
     "output_type": "stream",
     "text": [
      "100%|████████████████████████████████████████| 963/963 [00:08<00:00, 119.02it/s]\n"
     ]
    },
    {
     "name": "stdout",
     "output_type": "stream",
     "text": [
      " Average training loss: 0.90\n"
     ]
    },
    {
     "name": "stderr",
     "output_type": "stream",
     "text": [
      "100%|████████████████████████████████████████| 120/120 [00:00<00:00, 881.50it/s]\n"
     ]
    },
    {
     "name": "stdout",
     "output_type": "stream",
     "text": [
      " Average valid loss: 0.98\n",
      "AUC_SCORE:  0.7326335288669342  acc:  0.5666666666666667 f1:  0.5806451612903226\n",
      "Test\n"
     ]
    },
    {
     "name": "stderr",
     "output_type": "stream",
     "text": [
      "100%|████████████████████████████████████████| 121/121 [00:00<00:00, 871.63it/s]\n"
     ]
    },
    {
     "name": "stdout",
     "output_type": "stream",
     "text": [
      " Average valid loss: 1.03\n",
      "AUC_SCORE:  0.7106707317073171  acc:  0.5537190082644629 f1:  0.5714285714285715\n",
      "EPOCHS:40\n",
      "TRAIN\n"
     ]
    },
    {
     "name": "stderr",
     "output_type": "stream",
     "text": [
      "100%|████████████████████████████████████████| 963/963 [00:08<00:00, 119.94it/s]\n"
     ]
    },
    {
     "name": "stdout",
     "output_type": "stream",
     "text": [
      " Average training loss: 0.90\n"
     ]
    },
    {
     "name": "stderr",
     "output_type": "stream",
     "text": [
      "100%|████████████████████████████████████████| 120/120 [00:00<00:00, 877.18it/s]\n"
     ]
    },
    {
     "name": "stdout",
     "output_type": "stream",
     "text": [
      " Average valid loss: 0.99\n",
      "AUC_SCORE:  0.7332510033961099  acc:  0.5583333333333333 f1:  0.576\n",
      "Test\n"
     ]
    },
    {
     "name": "stderr",
     "output_type": "stream",
     "text": [
      "100%|████████████████████████████████████████| 121/121 [00:00<00:00, 866.18it/s]\n"
     ]
    },
    {
     "name": "stdout",
     "output_type": "stream",
     "text": [
      " Average valid loss: 1.05\n",
      "AUC_SCORE:  0.7054878048780489  acc:  0.5206611570247934 f1:  0.5606060606060607\n"
     ]
    },
    {
     "name": "stderr",
     "output_type": "stream",
     "text": [
      "100%|████████████████████████████████████████| 121/121 [00:00<00:00, 863.78it/s]\n"
     ]
    },
    {
     "name": "stdout",
     "output_type": "stream",
     "text": [
      " Average valid loss: 0.98\n",
      "AUC_SCORE:  0.7414634146341463  acc:  0.48760330578512395 f1:  0.5441176470588235\n",
      "BEST MODEL\n",
      "AUC_SCORE:  0.7414634146341463  acc:  0.48760330578512395 f1:  0.5441176470588235\n",
      "{'auc_micro': 0.7414634146341463, 'acc': 0.48760330578512395, 'f1': 0.5441176470588235, 'pred': [[1, 1, 1, 1, 0, 1, 1, 1, 1, 1], [1, 1, 1, 1, 1, 1, 0, 1, 1, 1], [1, 1, 1, 1, 0, 1, 0, 1, 1, 1], [1, 1, 0, 0, 1, 1, 1, 1, 1, 1], [1, 0, 1, 0, 1, 1, 1, 1, 0, 1], [1, 0, 1, 0, 0, 1, 1, 1, 1, 1], [1, 1, 1, 1, 1, 0, 1, 1, 1, 1], [1, 1, 1, 0, 1, 1, 0, 1, 0, 1], [0, 1, 1, 1, 1, 1, 1, 1, 0, 1], [1, 0, 0, 1, 1, 1, 1, 1, 1, 1], [0, 1, 0, 0, 1, 1, 1, 1, 1, 0], [1, 1, 1, 1, 1, 1, 0, 1, 0, 1], [1], [], [], [], [], [], [], []]}\n"
     ]
    }
   ],
   "source": [
    "bert2 = BertModel().to('cuda')\n",
    "score = fit(bert2, train_data,valid_data,test_data,EPOCHS=40)\n",
    "print(score)"
   ]
  },
  {
   "cell_type": "code",
   "execution_count": null,
   "id": "64537856",
   "metadata": {},
   "outputs": [],
   "source": []
  },
  {
   "cell_type": "markdown",
   "id": "94f36604",
   "metadata": {},
   "source": [
    "# pos"
   ]
  },
  {
   "cell_type": "code",
   "execution_count": 28,
   "id": "7d05aec4",
   "metadata": {},
   "outputs": [],
   "source": [
    "path1 = 'word2vec_model_extra+pos/'\n",
    "path2 = 'data/scriptbase/'\n",
    "filenames = os.listdir(path1)\n",
    "train_data = []\n",
    "valid_data = []\n",
    "test_data = []\n",
    "one = 0\n",
    "zero = 0\n",
    "end = torch.ones(1,1,400)\n",
    "\n",
    "for filename in filenames:\n",
    "    genres = []\n",
    "    movie_name = filename[:-14]\n",
    "    cult = 0\n",
    "    with open(path2+movie_name+'/processed/imdb_meta.txt','r') as f:\n",
    "        lines = f.readlines()\n",
    "        for line in lines:\n",
    "            if 'keyword' in line:\n",
    "                try:\n",
    "                    keyword  = line.strip().split('\\t')[1]\n",
    "                    keywords.append(keyword)\n",
    "                except:\n",
    "                    pass\n",
    "                if 'cult film'==keyword:\n",
    "                    cult = 1\n",
    "        \n",
    "    w2v=Word2Vec.load(path1 + filename)\n",
    "    base = 'scene_'\n",
    "    scene_num = 0\n",
    "    max_scene = 0\n",
    "    for node in w2v.wv.index_to_key:\n",
    "        if base in node:\n",
    "            scene_num += 1\n",
    "            if int(node[6:])>max_scene:\n",
    "                max_scene = int(node[6:])\n",
    "    embs = torch.zeros(1,scene_num+1,400)\n",
    "    k = 0\n",
    "    for i in range(1,max_scene+1):\n",
    "        emb_name = base + str(i)\n",
    "        if emb_name in w2v.wv.index_to_key:\n",
    "            emb = w2v.wv[emb_name]\n",
    "            emb = torch.from_numpy(emb)\n",
    "            embs[0][k] = emb\n",
    "            k += 1\n",
    "    embs[0][-1] = end\n",
    "        \n",
    "        \n",
    "    rand = random.randint(0,100)    \n",
    "    if movie_name in movie_split['train']:\n",
    "        train_data.append([embs, [cult]])\n",
    "    elif movie_name in movie_split['valid']:\n",
    "        valid_data.append([embs, [cult]])\n",
    "    \n",
    "    elif movie_name in movie_split['test']:\n",
    "        test_data.append([embs, [cult]])\n",
    "    \n",
    "    if cult:\n",
    "        one += 1\n",
    "    else:\n",
    "        zero += 1"
   ]
  },
  {
   "cell_type": "code",
   "execution_count": 29,
   "id": "5153ca45",
   "metadata": {},
   "outputs": [
    {
     "name": "stdout",
     "output_type": "stream",
     "text": [
      "EPOCHS:1\n",
      "TRAIN\n"
     ]
    },
    {
     "name": "stderr",
     "output_type": "stream",
     "text": [
      "100%|████████████████████████████████████████| 962/962 [00:08<00:00, 119.27it/s]\n"
     ]
    },
    {
     "name": "stdout",
     "output_type": "stream",
     "text": [
      " Average training loss: 1.11\n"
     ]
    },
    {
     "name": "stderr",
     "output_type": "stream",
     "text": [
      "100%|████████████████████████████████████████| 120/120 [00:00<00:00, 850.64it/s]\n"
     ]
    },
    {
     "name": "stdout",
     "output_type": "stream",
     "text": [
      " Average valid loss: 1.08\n",
      "AUC_SCORE:  0.6523618400740969  acc:  0.3416666666666667 f1:  0.5093167701863354\n",
      "Test\n"
     ]
    },
    {
     "name": "stderr",
     "output_type": "stream",
     "text": [
      "100%|████████████████████████████████████████| 120/120 [00:00<00:00, 829.49it/s]\n"
     ]
    },
    {
     "name": "stdout",
     "output_type": "stream",
     "text": [
      " Average valid loss: 1.09\n",
      "AUC_SCORE:  0.6350725532571782  acc:  0.3416666666666667 f1:  0.5093167701863354\n",
      "EPOCHS:2\n",
      "TRAIN\n"
     ]
    },
    {
     "name": "stderr",
     "output_type": "stream",
     "text": [
      "100%|████████████████████████████████████████| 962/962 [00:08<00:00, 120.16it/s]\n"
     ]
    },
    {
     "name": "stdout",
     "output_type": "stream",
     "text": [
      " Average training loss: 1.10\n"
     ]
    },
    {
     "name": "stderr",
     "output_type": "stream",
     "text": [
      "100%|████████████████████████████████████████| 120/120 [00:00<00:00, 853.53it/s]\n"
     ]
    },
    {
     "name": "stdout",
     "output_type": "stream",
     "text": [
      " Average valid loss: 1.08\n",
      "AUC_SCORE:  0.6677987033034888  acc:  0.3416666666666667 f1:  0.5093167701863354\n",
      "Test\n"
     ]
    },
    {
     "name": "stderr",
     "output_type": "stream",
     "text": [
      "100%|████████████████████████████████████████| 120/120 [00:00<00:00, 844.10it/s]\n"
     ]
    },
    {
     "name": "stdout",
     "output_type": "stream",
     "text": [
      " Average valid loss: 1.08\n",
      "AUC_SCORE:  0.7122568694041371  acc:  0.3416666666666667 f1:  0.5093167701863354\n",
      "EPOCHS:3\n",
      "TRAIN\n"
     ]
    },
    {
     "name": "stderr",
     "output_type": "stream",
     "text": [
      "100%|████████████████████████████████████████| 962/962 [00:07<00:00, 120.88it/s]\n"
     ]
    },
    {
     "name": "stdout",
     "output_type": "stream",
     "text": [
      " Average training loss: 1.08\n"
     ]
    },
    {
     "name": "stderr",
     "output_type": "stream",
     "text": [
      "100%|████████████████████████████████████████| 120/120 [00:00<00:00, 860.41it/s]\n"
     ]
    },
    {
     "name": "stdout",
     "output_type": "stream",
     "text": [
      " Average valid loss: 1.07\n",
      "AUC_SCORE:  0.6687249150972523  acc:  0.3416666666666667 f1:  0.5093167701863354\n",
      "Test\n"
     ]
    },
    {
     "name": "stderr",
     "output_type": "stream",
     "text": [
      "100%|████████████████████████████████████████| 120/120 [00:00<00:00, 849.38it/s]\n"
     ]
    },
    {
     "name": "stdout",
     "output_type": "stream",
     "text": [
      " Average valid loss: 1.06\n",
      "AUC_SCORE:  0.7233714109292992  acc:  0.3416666666666667 f1:  0.5093167701863354\n",
      "EPOCHS:4\n",
      "TRAIN\n"
     ]
    },
    {
     "name": "stderr",
     "output_type": "stream",
     "text": [
      "100%|████████████████████████████████████████| 962/962 [00:07<00:00, 120.87it/s]\n"
     ]
    },
    {
     "name": "stdout",
     "output_type": "stream",
     "text": [
      " Average training loss: 1.07\n"
     ]
    },
    {
     "name": "stderr",
     "output_type": "stream",
     "text": [
      "100%|████████████████████████████████████████| 120/120 [00:00<00:00, 857.45it/s]\n"
     ]
    },
    {
     "name": "stdout",
     "output_type": "stream",
     "text": [
      " Average valid loss: 1.07\n",
      "AUC_SCORE:  0.6758258721827725  acc:  0.3416666666666667 f1:  0.5093167701863354\n",
      "Test\n"
     ]
    },
    {
     "name": "stderr",
     "output_type": "stream",
     "text": [
      "100%|████████████████████████████████████████| 120/120 [00:00<00:00, 850.74it/s]\n"
     ]
    },
    {
     "name": "stdout",
     "output_type": "stream",
     "text": [
      " Average valid loss: 1.05\n",
      "AUC_SCORE:  0.7119481321395492  acc:  0.3416666666666667 f1:  0.5093167701863354\n",
      "EPOCHS:5\n",
      "TRAIN\n"
     ]
    },
    {
     "name": "stderr",
     "output_type": "stream",
     "text": [
      "100%|████████████████████████████████████████| 962/962 [00:07<00:00, 120.46it/s]\n"
     ]
    },
    {
     "name": "stdout",
     "output_type": "stream",
     "text": [
      " Average training loss: 1.07\n"
     ]
    },
    {
     "name": "stderr",
     "output_type": "stream",
     "text": [
      "100%|████████████████████████████████████████| 120/120 [00:00<00:00, 832.74it/s]\n"
     ]
    },
    {
     "name": "stdout",
     "output_type": "stream",
     "text": [
      " Average valid loss: 1.06\n",
      "AUC_SCORE:  0.6782957702994752  acc:  0.3416666666666667 f1:  0.5093167701863354\n",
      "Test\n"
     ]
    },
    {
     "name": "stderr",
     "output_type": "stream",
     "text": [
      "100%|████████████████████████████████████████| 120/120 [00:00<00:00, 855.05it/s]\n"
     ]
    },
    {
     "name": "stdout",
     "output_type": "stream",
     "text": [
      " Average valid loss: 1.05\n",
      "AUC_SCORE:  0.7107131830811979  acc:  0.3416666666666667 f1:  0.5093167701863354\n",
      "EPOCHS:6\n",
      "TRAIN\n"
     ]
    },
    {
     "name": "stderr",
     "output_type": "stream",
     "text": [
      "100%|████████████████████████████████████████| 962/962 [00:07<00:00, 120.84it/s]\n"
     ]
    },
    {
     "name": "stdout",
     "output_type": "stream",
     "text": [
      " Average training loss: 1.06\n"
     ]
    },
    {
     "name": "stderr",
     "output_type": "stream",
     "text": [
      "100%|████████████████████████████████████████| 120/120 [00:00<00:00, 858.74it/s]\n"
     ]
    },
    {
     "name": "stdout",
     "output_type": "stream",
     "text": [
      " Average valid loss: 1.05\n",
      "AUC_SCORE:  0.6835443037974683  acc:  0.35833333333333334 f1:  0.5157232704402516\n",
      "5  EPOCH BEST MODEL!\n",
      "Test\n"
     ]
    },
    {
     "name": "stderr",
     "output_type": "stream",
     "text": [
      "100%|████████████████████████████████████████| 120/120 [00:00<00:00, 829.46it/s]\n"
     ]
    },
    {
     "name": "stdout",
     "output_type": "stream",
     "text": [
      " Average valid loss: 1.04\n",
      "AUC_SCORE:  0.7100957085520223  acc:  0.35 f1:  0.5125\n",
      "EPOCHS:7\n",
      "TRAIN\n"
     ]
    },
    {
     "name": "stderr",
     "output_type": "stream",
     "text": [
      "100%|████████████████████████████████████████| 962/962 [00:07<00:00, 121.13it/s]\n"
     ]
    },
    {
     "name": "stdout",
     "output_type": "stream",
     "text": [
      " Average training loss: 1.05\n"
     ]
    },
    {
     "name": "stderr",
     "output_type": "stream",
     "text": [
      "100%|████████████████████████████████████████| 120/120 [00:00<00:00, 858.01it/s]\n"
     ]
    },
    {
     "name": "stdout",
     "output_type": "stream",
     "text": [
      " Average valid loss: 1.05\n",
      "AUC_SCORE:  0.6810744056807656  acc:  0.4083333333333333 f1:  0.5359477124183006\n",
      "6  EPOCH BEST MODEL!\n",
      "Test\n"
     ]
    },
    {
     "name": "stderr",
     "output_type": "stream",
     "text": [
      "100%|████████████████████████████████████████| 120/120 [00:00<00:00, 847.67it/s]\n"
     ]
    },
    {
     "name": "stdout",
     "output_type": "stream",
     "text": [
      " Average valid loss: 1.03\n",
      "AUC_SCORE:  0.7113306576103736  acc:  0.375 f1:  0.5222929936305732\n",
      "EPOCHS:8\n",
      "TRAIN\n"
     ]
    },
    {
     "name": "stderr",
     "output_type": "stream",
     "text": [
      "100%|████████████████████████████████████████| 962/962 [00:07<00:00, 121.20it/s]\n"
     ]
    },
    {
     "name": "stdout",
     "output_type": "stream",
     "text": [
      " Average training loss: 1.05\n"
     ]
    },
    {
     "name": "stderr",
     "output_type": "stream",
     "text": [
      "100%|████████████████████████████████████████| 120/120 [00:00<00:00, 860.05it/s]\n"
     ]
    },
    {
     "name": "stdout",
     "output_type": "stream",
     "text": [
      " Average valid loss: 1.04\n",
      "AUC_SCORE:  0.68045693115159  acc:  0.4166666666666667 f1:  0.5394736842105263\n",
      "7  EPOCH BEST MODEL!\n",
      "Test\n"
     ]
    },
    {
     "name": "stderr",
     "output_type": "stream",
     "text": [
      "100%|████████████████████████████████████████| 120/120 [00:00<00:00, 824.63it/s]\n"
     ]
    },
    {
     "name": "stdout",
     "output_type": "stream",
     "text": [
      " Average valid loss: 1.03\n",
      "AUC_SCORE:  0.714109292991664  acc:  0.375 f1:  0.5222929936305732\n",
      "EPOCHS:9\n",
      "TRAIN\n"
     ]
    },
    {
     "name": "stderr",
     "output_type": "stream",
     "text": [
      "100%|████████████████████████████████████████| 962/962 [00:07<00:00, 121.08it/s]\n"
     ]
    },
    {
     "name": "stdout",
     "output_type": "stream",
     "text": [
      " Average training loss: 1.04\n"
     ]
    },
    {
     "name": "stderr",
     "output_type": "stream",
     "text": [
      "100%|████████████████████████████████████████| 120/120 [00:00<00:00, 866.04it/s]\n"
     ]
    },
    {
     "name": "stdout",
     "output_type": "stream",
     "text": [
      " Average valid loss: 1.04\n",
      "AUC_SCORE:  0.6838530410620561  acc:  0.43333333333333335 f1:  0.5405405405405405\n",
      "8  EPOCH BEST MODEL!\n",
      "Test\n"
     ]
    },
    {
     "name": "stderr",
     "output_type": "stream",
     "text": [
      "100%|████████████████████████████████████████| 120/120 [00:00<00:00, 846.56it/s]\n"
     ]
    },
    {
     "name": "stdout",
     "output_type": "stream",
     "text": [
      " Average valid loss: 1.02\n",
      "AUC_SCORE:  0.7138005557270762  acc:  0.36666666666666664 f1:  0.5064935064935066\n",
      "EPOCHS:10\n",
      "TRAIN\n"
     ]
    },
    {
     "name": "stderr",
     "output_type": "stream",
     "text": [
      "100%|████████████████████████████████████████| 962/962 [00:07<00:00, 121.12it/s]\n"
     ]
    },
    {
     "name": "stdout",
     "output_type": "stream",
     "text": [
      " Average training loss: 1.04\n"
     ]
    },
    {
     "name": "stderr",
     "output_type": "stream",
     "text": [
      "100%|████████████████████████████████████████| 120/120 [00:00<00:00, 852.09it/s]\n"
     ]
    },
    {
     "name": "stdout",
     "output_type": "stream",
     "text": [
      " Average valid loss: 1.03\n",
      "AUC_SCORE:  0.6866316764433467  acc:  0.45 f1:  0.5352112676056339\n",
      "Test\n"
     ]
    },
    {
     "name": "stderr",
     "output_type": "stream",
     "text": [
      "100%|████████████████████████████████████████| 120/120 [00:00<00:00, 846.86it/s]\n"
     ]
    },
    {
     "name": "stdout",
     "output_type": "stream",
     "text": [
      " Average valid loss: 1.01\n",
      "AUC_SCORE:  0.714418030256252  acc:  0.38333333333333336 f1:  0.5066666666666667\n",
      "EPOCHS:11\n",
      "TRAIN\n"
     ]
    },
    {
     "name": "stderr",
     "output_type": "stream",
     "text": [
      "100%|████████████████████████████████████████| 962/962 [00:08<00:00, 119.64it/s]\n"
     ]
    },
    {
     "name": "stdout",
     "output_type": "stream",
     "text": [
      " Average training loss: 1.02\n"
     ]
    },
    {
     "name": "stderr",
     "output_type": "stream",
     "text": [
      "100%|████████████████████████████████████████| 120/120 [00:00<00:00, 854.69it/s]\n"
     ]
    },
    {
     "name": "stdout",
     "output_type": "stream",
     "text": [
      " Average valid loss: 1.03\n",
      "AUC_SCORE:  0.6863229391787589  acc:  0.4666666666666667 f1:  0.5428571428571428\n",
      "10  EPOCH BEST MODEL!\n",
      "Test\n"
     ]
    },
    {
     "name": "stderr",
     "output_type": "stream",
     "text": [
      "100%|████████████████████████████████████████| 120/120 [00:00<00:00, 822.88it/s]\n"
     ]
    },
    {
     "name": "stdout",
     "output_type": "stream",
     "text": [
      " Average valid loss: 1.01\n",
      "AUC_SCORE:  0.7156529793146033  acc:  0.38333333333333336 f1:  0.5066666666666667\n",
      "EPOCHS:12\n",
      "TRAIN\n"
     ]
    },
    {
     "name": "stderr",
     "output_type": "stream",
     "text": [
      "100%|████████████████████████████████████████| 962/962 [00:08<00:00, 118.73it/s]\n"
     ]
    },
    {
     "name": "stdout",
     "output_type": "stream",
     "text": [
      " Average training loss: 1.02\n"
     ]
    },
    {
     "name": "stderr",
     "output_type": "stream",
     "text": [
      "100%|████████████████████████████████████████| 120/120 [00:00<00:00, 854.36it/s]\n"
     ]
    },
    {
     "name": "stdout",
     "output_type": "stream",
     "text": [
      " Average valid loss: 1.02\n",
      "AUC_SCORE:  0.6891015745600495  acc:  0.4583333333333333 f1:  0.5323741007194245\n",
      "Test\n"
     ]
    },
    {
     "name": "stderr",
     "output_type": "stream",
     "text": [
      "100%|████████████████████████████████████████| 120/120 [00:00<00:00, 846.77it/s]\n"
     ]
    },
    {
     "name": "stdout",
     "output_type": "stream",
     "text": [
      " Average valid loss: 1.01\n",
      "AUC_SCORE:  0.7165791911083668  acc:  0.39166666666666666 f1:  0.5100671140939598\n",
      "EPOCHS:13\n",
      "TRAIN\n"
     ]
    },
    {
     "name": "stderr",
     "output_type": "stream",
     "text": [
      "100%|████████████████████████████████████████| 962/962 [00:08<00:00, 119.26it/s]\n"
     ]
    },
    {
     "name": "stdout",
     "output_type": "stream",
     "text": [
      " Average training loss: 1.01\n"
     ]
    },
    {
     "name": "stderr",
     "output_type": "stream",
     "text": [
      "100%|████████████████████████████████████████| 120/120 [00:00<00:00, 856.72it/s]\n"
     ]
    },
    {
     "name": "stdout",
     "output_type": "stream",
     "text": [
      " Average valid loss: 1.02\n",
      "AUC_SCORE:  0.687866625501698  acc:  0.475 f1:  0.5401459854014599\n",
      "Test\n"
     ]
    },
    {
     "name": "stderr",
     "output_type": "stream",
     "text": [
      "100%|████████████████████████████████████████| 120/120 [00:00<00:00, 852.75it/s]\n"
     ]
    },
    {
     "name": "stdout",
     "output_type": "stream",
     "text": [
      " Average valid loss: 1.01\n",
      "AUC_SCORE:  0.7165791911083668  acc:  0.43333333333333335 f1:  0.5277777777777779\n",
      "EPOCHS:14\n",
      "TRAIN\n"
     ]
    },
    {
     "name": "stderr",
     "output_type": "stream",
     "text": [
      "100%|████████████████████████████████████████| 962/962 [00:08<00:00, 119.92it/s]\n"
     ]
    },
    {
     "name": "stdout",
     "output_type": "stream",
     "text": [
      " Average training loss: 1.01\n"
     ]
    },
    {
     "name": "stderr",
     "output_type": "stream",
     "text": [
      "100%|████████████████████████████████████████| 120/120 [00:00<00:00, 858.67it/s]\n"
     ]
    },
    {
     "name": "stdout",
     "output_type": "stream",
     "text": [
      " Average valid loss: 1.01\n",
      "AUC_SCORE:  0.6887928372954616  acc:  0.475 f1:  0.5401459854014599\n",
      "Test\n"
     ]
    },
    {
     "name": "stderr",
     "output_type": "stream",
     "text": [
      "100%|████████████████████████████████████████| 120/120 [00:00<00:00, 856.05it/s]\n"
     ]
    },
    {
     "name": "stdout",
     "output_type": "stream",
     "text": [
      " Average valid loss: 1.00\n",
      "AUC_SCORE:  0.7150355047854277  acc:  0.44166666666666665 f1:  0.5314685314685316\n",
      "EPOCHS:15\n",
      "TRAIN\n"
     ]
    },
    {
     "name": "stderr",
     "output_type": "stream",
     "text": [
      "100%|████████████████████████████████████████| 962/962 [00:08<00:00, 119.76it/s]\n"
     ]
    },
    {
     "name": "stdout",
     "output_type": "stream",
     "text": [
      " Average training loss: 1.00\n"
     ]
    },
    {
     "name": "stderr",
     "output_type": "stream",
     "text": [
      "100%|████████████████████████████████████████| 120/120 [00:00<00:00, 852.84it/s]\n"
     ]
    },
    {
     "name": "stdout",
     "output_type": "stream",
     "text": [
      " Average valid loss: 1.01\n",
      "AUC_SCORE:  0.6894103118246373  acc:  0.49166666666666664 f1:  0.5481481481481482\n",
      "14  EPOCH BEST MODEL!\n",
      "Test\n"
     ]
    },
    {
     "name": "stderr",
     "output_type": "stream",
     "text": [
      "100%|████████████████████████████████████████| 120/120 [00:00<00:00, 843.84it/s]\n"
     ]
    },
    {
     "name": "stdout",
     "output_type": "stream",
     "text": [
      " Average valid loss: 1.00\n",
      "AUC_SCORE:  0.7131830811979006  acc:  0.475 f1:  0.5467625899280575\n",
      "EPOCHS:16\n",
      "TRAIN\n"
     ]
    },
    {
     "name": "stderr",
     "output_type": "stream",
     "text": [
      "100%|████████████████████████████████████████| 962/962 [00:07<00:00, 120.58it/s]\n"
     ]
    },
    {
     "name": "stdout",
     "output_type": "stream",
     "text": [
      " Average training loss: 1.00\n"
     ]
    },
    {
     "name": "stderr",
     "output_type": "stream",
     "text": [
      "100%|████████████████████████████████████████| 120/120 [00:00<00:00, 863.68it/s]\n"
     ]
    },
    {
     "name": "stdout",
     "output_type": "stream",
     "text": [
      " Average valid loss: 1.01\n",
      "AUC_SCORE:  0.6884841000308737  acc:  0.49166666666666664 f1:  0.5481481481481482\n",
      "Test\n"
     ]
    },
    {
     "name": "stderr",
     "output_type": "stream",
     "text": [
      "100%|████████████████████████████████████████| 120/120 [00:00<00:00, 856.13it/s]\n"
     ]
    },
    {
     "name": "stdout",
     "output_type": "stream",
     "text": [
      " Average valid loss: 1.00\n",
      "AUC_SCORE:  0.7138005557270763  acc:  0.5083333333333333 f1:  0.562962962962963\n",
      "EPOCHS:17\n",
      "TRAIN\n"
     ]
    },
    {
     "name": "stderr",
     "output_type": "stream",
     "text": [
      "100%|████████████████████████████████████████| 962/962 [00:07<00:00, 120.88it/s]\n"
     ]
    },
    {
     "name": "stdout",
     "output_type": "stream",
     "text": [
      " Average training loss: 0.99\n"
     ]
    },
    {
     "name": "stderr",
     "output_type": "stream",
     "text": [
      "100%|████████████████████████████████████████| 120/120 [00:00<00:00, 860.74it/s]\n"
     ]
    },
    {
     "name": "stdout",
     "output_type": "stream",
     "text": [
      " Average valid loss: 1.01\n",
      "AUC_SCORE:  0.6918802099413399  acc:  0.49166666666666664 f1:  0.5481481481481482\n",
      "Test\n"
     ]
    },
    {
     "name": "stderr",
     "output_type": "stream",
     "text": [
      "100%|████████████████████████████████████████| 120/120 [00:00<00:00, 839.04it/s]\n"
     ]
    },
    {
     "name": "stdout",
     "output_type": "stream",
     "text": [
      " Average valid loss: 1.00\n",
      "AUC_SCORE:  0.7134918184624885  acc:  0.5 f1:  0.5588235294117647\n",
      "EPOCHS:18\n",
      "TRAIN\n"
     ]
    },
    {
     "name": "stderr",
     "output_type": "stream",
     "text": [
      "100%|████████████████████████████████████████| 962/962 [00:08<00:00, 120.21it/s]\n"
     ]
    },
    {
     "name": "stdout",
     "output_type": "stream",
     "text": [
      " Average training loss: 0.98\n"
     ]
    },
    {
     "name": "stderr",
     "output_type": "stream",
     "text": [
      "100%|████████████████████████████████████████| 120/120 [00:00<00:00, 869.07it/s]\n"
     ]
    },
    {
     "name": "stdout",
     "output_type": "stream",
     "text": [
      " Average valid loss: 1.01\n",
      "AUC_SCORE:  0.6931151589996913  acc:  0.5 f1:  0.5522388059701492\n",
      "17  EPOCH BEST MODEL!\n",
      "Test\n"
     ]
    },
    {
     "name": "stderr",
     "output_type": "stream",
     "text": [
      "100%|████████████████████████████████████████| 120/120 [00:00<00:00, 837.90it/s]\n"
     ]
    },
    {
     "name": "stdout",
     "output_type": "stream",
     "text": [
      " Average valid loss: 1.00\n",
      "AUC_SCORE:  0.7125656066687249  acc:  0.5083333333333333 f1:  0.562962962962963\n",
      "EPOCHS:19\n",
      "TRAIN\n"
     ]
    },
    {
     "name": "stderr",
     "output_type": "stream",
     "text": [
      "100%|████████████████████████████████████████| 962/962 [00:08<00:00, 119.84it/s]\n"
     ]
    },
    {
     "name": "stdout",
     "output_type": "stream",
     "text": [
      " Average training loss: 0.98\n"
     ]
    },
    {
     "name": "stderr",
     "output_type": "stream",
     "text": [
      "100%|████████████████████████████████████████| 120/120 [00:00<00:00, 852.32it/s]\n"
     ]
    },
    {
     "name": "stdout",
     "output_type": "stream",
     "text": [
      " Average valid loss: 1.01\n",
      "AUC_SCORE:  0.6952763198518062  acc:  0.5083333333333333 f1:  0.556390977443609\n",
      "18  EPOCH BEST MODEL!\n",
      "Test\n"
     ]
    },
    {
     "name": "stderr",
     "output_type": "stream",
     "text": [
      "100%|████████████████████████████████████████| 120/120 [00:00<00:00, 848.98it/s]\n"
     ]
    },
    {
     "name": "stdout",
     "output_type": "stream",
     "text": [
      " Average valid loss: 1.00\n",
      "AUC_SCORE:  0.7079345476999074  acc:  0.5166666666666667 f1:  0.5671641791044776\n",
      "EPOCHS:20\n",
      "TRAIN\n"
     ]
    },
    {
     "name": "stderr",
     "output_type": "stream",
     "text": [
      "100%|████████████████████████████████████████| 962/962 [00:08<00:00, 120.18it/s]\n"
     ]
    },
    {
     "name": "stdout",
     "output_type": "stream",
     "text": [
      " Average training loss: 0.97\n"
     ]
    },
    {
     "name": "stderr",
     "output_type": "stream",
     "text": [
      "100%|████████████████████████████████████████| 120/120 [00:00<00:00, 858.37it/s]\n"
     ]
    },
    {
     "name": "stdout",
     "output_type": "stream",
     "text": [
      " Average valid loss: 1.01\n",
      "AUC_SCORE:  0.695585057116394  acc:  0.5083333333333333 f1:  0.556390977443609\n",
      "Test\n"
     ]
    },
    {
     "name": "stderr",
     "output_type": "stream",
     "text": [
      "100%|████████████████████████████████████████| 120/120 [00:00<00:00, 859.99it/s]\n"
     ]
    },
    {
     "name": "stdout",
     "output_type": "stream",
     "text": [
      " Average valid loss: 1.00\n",
      "AUC_SCORE:  0.7082432849644953  acc:  0.5166666666666667 f1:  0.5671641791044776\n",
      "EPOCHS:21\n",
      "TRAIN\n"
     ]
    },
    {
     "name": "stderr",
     "output_type": "stream",
     "text": [
      "100%|████████████████████████████████████████| 962/962 [00:07<00:00, 121.44it/s]\n"
     ]
    },
    {
     "name": "stdout",
     "output_type": "stream",
     "text": [
      " Average training loss: 0.96\n"
     ]
    },
    {
     "name": "stderr",
     "output_type": "stream",
     "text": [
      "100%|████████████████████████████████████████| 120/120 [00:00<00:00, 861.07it/s]\n"
     ]
    },
    {
     "name": "stdout",
     "output_type": "stream",
     "text": [
      " Average valid loss: 1.01\n",
      "AUC_SCORE:  0.6931151589996913  acc:  0.5083333333333333 f1:  0.549618320610687\n",
      "Test\n"
     ]
    },
    {
     "name": "stderr",
     "output_type": "stream",
     "text": [
      "100%|████████████████████████████████████████| 120/120 [00:00<00:00, 852.65it/s]\n"
     ]
    },
    {
     "name": "stdout",
     "output_type": "stream",
     "text": [
      " Average valid loss: 1.01\n",
      "AUC_SCORE:  0.7063908613769683  acc:  0.5166666666666667 f1:  0.5671641791044776\n",
      "EPOCHS:22\n",
      "TRAIN\n"
     ]
    },
    {
     "name": "stderr",
     "output_type": "stream",
     "text": [
      "100%|████████████████████████████████████████| 962/962 [00:07<00:00, 120.47it/s]\n"
     ]
    },
    {
     "name": "stdout",
     "output_type": "stream",
     "text": [
      " Average training loss: 0.97\n"
     ]
    },
    {
     "name": "stderr",
     "output_type": "stream",
     "text": [
      "100%|████████████████████████████████████████| 120/120 [00:00<00:00, 864.48it/s]\n"
     ]
    },
    {
     "name": "stdout",
     "output_type": "stream",
     "text": [
      " Average valid loss: 1.01\n",
      "AUC_SCORE:  0.6949675825872184  acc:  0.5083333333333333 f1:  0.549618320610687\n",
      "Test\n"
     ]
    },
    {
     "name": "stderr",
     "output_type": "stream",
     "text": [
      "100%|████████████████████████████████████████| 120/120 [00:00<00:00, 856.76it/s]\n"
     ]
    },
    {
     "name": "stdout",
     "output_type": "stream",
     "text": [
      " Average valid loss: 1.01\n",
      "AUC_SCORE:  0.7042297005248535  acc:  0.5166666666666667 f1:  0.5671641791044776\n",
      "EPOCHS:23\n",
      "TRAIN\n"
     ]
    },
    {
     "name": "stderr",
     "output_type": "stream",
     "text": [
      "100%|████████████████████████████████████████| 962/962 [00:07<00:00, 120.43it/s]\n"
     ]
    },
    {
     "name": "stdout",
     "output_type": "stream",
     "text": [
      " Average training loss: 0.96\n"
     ]
    },
    {
     "name": "stderr",
     "output_type": "stream",
     "text": [
      "100%|████████████████████████████████████████| 120/120 [00:00<00:00, 858.89it/s]\n"
     ]
    },
    {
     "name": "stdout",
     "output_type": "stream",
     "text": [
      " Average valid loss: 1.00\n",
      "AUC_SCORE:  0.6962025316455697  acc:  0.5166666666666667 f1:  0.5538461538461539\n",
      "Test\n"
     ]
    },
    {
     "name": "stderr",
     "output_type": "stream",
     "text": [
      "100%|████████████████████████████████████████| 120/120 [00:00<00:00, 850.17it/s]\n"
     ]
    },
    {
     "name": "stdout",
     "output_type": "stream",
     "text": [
      " Average valid loss: 1.01\n",
      "AUC_SCORE:  0.7039209632602655  acc:  0.525 f1:  0.5714285714285715\n",
      "EPOCHS:24\n",
      "TRAIN\n"
     ]
    },
    {
     "name": "stderr",
     "output_type": "stream",
     "text": [
      "100%|████████████████████████████████████████| 962/962 [00:08<00:00, 120.25it/s]\n"
     ]
    },
    {
     "name": "stdout",
     "output_type": "stream",
     "text": [
      " Average training loss: 0.96\n"
     ]
    },
    {
     "name": "stderr",
     "output_type": "stream",
     "text": [
      "100%|████████████████████████████████████████| 120/120 [00:00<00:00, 862.64it/s]\n"
     ]
    },
    {
     "name": "stdout",
     "output_type": "stream",
     "text": [
      " Average valid loss: 1.00\n",
      "AUC_SCORE:  0.697437480703921  acc:  0.5333333333333333 f1:  0.5625\n",
      "23  EPOCH BEST MODEL!\n",
      "Test\n"
     ]
    },
    {
     "name": "stderr",
     "output_type": "stream",
     "text": [
      "100%|████████████████████████████████████████| 120/120 [00:00<00:00, 861.21it/s]\n"
     ]
    },
    {
     "name": "stdout",
     "output_type": "stream",
     "text": [
      " Average valid loss: 1.01\n",
      "AUC_SCORE:  0.704847175054029  acc:  0.5416666666666666 f1:  0.5801526717557252\n",
      "EPOCHS:25\n",
      "TRAIN\n"
     ]
    },
    {
     "name": "stderr",
     "output_type": "stream",
     "text": [
      "100%|████████████████████████████████████████| 962/962 [00:07<00:00, 121.86it/s]\n"
     ]
    },
    {
     "name": "stdout",
     "output_type": "stream",
     "text": [
      " Average training loss: 0.94\n"
     ]
    },
    {
     "name": "stderr",
     "output_type": "stream",
     "text": [
      "100%|████████████████████████████████████████| 120/120 [00:00<00:00, 862.75it/s]\n"
     ]
    },
    {
     "name": "stdout",
     "output_type": "stream",
     "text": [
      " Average valid loss: 1.00\n",
      "AUC_SCORE:  0.6995986415560359  acc:  0.525 f1:  0.5365853658536585\n",
      "Test\n"
     ]
    },
    {
     "name": "stderr",
     "output_type": "stream",
     "text": [
      "100%|████████████████████████████████████████| 120/120 [00:00<00:00, 853.22it/s]\n"
     ]
    },
    {
     "name": "stdout",
     "output_type": "stream",
     "text": [
      " Average valid loss: 1.01\n",
      "AUC_SCORE:  0.702994751466502  acc:  0.5583333333333333 f1:  0.5891472868217055\n"
     ]
    },
    {
     "name": "stderr",
     "output_type": "stream",
     "text": [
      "100%|████████████████████████████████████████| 120/120 [00:00<00:00, 854.61it/s]"
     ]
    },
    {
     "name": "stdout",
     "output_type": "stream",
     "text": [
      " Average valid loss: 1.01\n",
      "AUC_SCORE:  0.704847175054029  acc:  0.5416666666666666 f1:  0.5801526717557252\n",
      "BEST MODEL\n",
      "AUC_SCORE:  0.704847175054029  acc:  0.5416666666666666 f1:  0.5801526717557252\n",
      "{'auc_micro': 0.704847175054029, 'acc': 0.5416666666666666, 'f1': 0.5801526717557252, 'pred': [[1, 1, 0, 0, 1, 1, 1, 1, 1, 1], [1, 1, 1, 1, 1, 0, 1, 1, 1, 1], [1, 1, 1, 0, 0, 1, 1, 1, 1, 1], [1, 0, 0, 1, 0, 0, 1, 1, 1, 1], [1, 1, 0, 1, 1, 0, 1, 0, 1, 1], [0, 1, 0, 0, 1, 1, 1, 1, 1, 1], [1, 1, 1, 1, 0, 1, 1, 1, 1, 1], [1, 1, 0, 1, 1, 0, 1, 0, 1, 0], [1, 1, 1, 1, 1, 1, 1, 0, 1, 1], [0, 0, 1, 1, 1, 1, 1, 1, 1, 0], [1, 0, 1, 1, 1, 1, 1, 1, 0, 1], [1, 1, 0, 0, 1, 1, 1, 0, 0, 1], [], [], [], [], [], [], [], []]}\n"
     ]
    },
    {
     "name": "stderr",
     "output_type": "stream",
     "text": [
      "\n"
     ]
    }
   ],
   "source": [
    "bert2 = BertModel(d_model=400).to('cuda')\n",
    "score = fit(bert2, train_data,valid_data,test_data,EPOCHS=25)\n",
    "print(score)"
   ]
  },
  {
   "cell_type": "code",
   "execution_count": null,
   "id": "3d782c62",
   "metadata": {},
   "outputs": [],
   "source": []
  },
  {
   "cell_type": "markdown",
   "id": "52e282ac",
   "metadata": {},
   "source": [
    "# Text rank"
   ]
  },
  {
   "cell_type": "code",
   "execution_count": 30,
   "id": "e8b895a9",
   "metadata": {},
   "outputs": [],
   "source": [
    "path1 = 'word2vec_model_text/'\n",
    "path2 = 'data/scriptbase/'\n",
    "filenames = os.listdir(path1)\n",
    "train_data = []\n",
    "valid_data = []\n",
    "test_data = []\n",
    "one = 0\n",
    "zero = 0\n",
    "end = torch.ones(1,1,384)\n",
    "\n",
    "for filename in filenames:\n",
    "    genres = []\n",
    "    movie_name = filename[:-14]\n",
    "    cult = 0\n",
    "    with open(path2+movie_name+'/processed/imdb_meta.txt','r') as f:\n",
    "        lines = f.readlines()\n",
    "        for line in lines:\n",
    "            if 'keyword' in line:\n",
    "                try:\n",
    "                    keyword  = line.strip().split('\\t')[1]\n",
    "                    keywords.append(keyword)\n",
    "                except:\n",
    "                    pass\n",
    "                if 'cult film'==keyword:\n",
    "                    cult = 1\n",
    "        \n",
    "    w2v=Word2Vec.load(path1 + filename)\n",
    "    base = 'scene_'\n",
    "    scene_num = 0\n",
    "    max_scene = 0\n",
    "    for node in w2v.wv.index_to_key:\n",
    "        if base in node:\n",
    "            scene_num += 1\n",
    "            if int(node[6:])>max_scene:\n",
    "                max_scene = int(node[6:])\n",
    "    embs = torch.zeros(1,scene_num+1,384)\n",
    "    k = 0\n",
    "    for i in range(1,max_scene+1):\n",
    "        emb_name = base + str(i)\n",
    "        if emb_name in w2v.wv.index_to_key:\n",
    "            emb = w2v.wv[emb_name]\n",
    "            emb = torch.from_numpy(emb)\n",
    "            embs[0][k] = emb\n",
    "            k += 1\n",
    "    embs[0][-1] = end\n",
    "        \n",
    "        \n",
    "    rand = random.randint(0,100)    \n",
    "    if movie_name in movie_split['train']:\n",
    "        train_data.append([embs, [cult]])\n",
    "    elif movie_name in movie_split['valid']:\n",
    "        valid_data.append([embs, [cult]])\n",
    "    \n",
    "    elif movie_name in movie_split['test']:\n",
    "        test_data.append([embs, [cult]])\n",
    "    \n",
    "    if cult:\n",
    "        one += 1\n",
    "    else:\n",
    "        zero += 1"
   ]
  },
  {
   "cell_type": "code",
   "execution_count": 31,
   "id": "249597c7",
   "metadata": {},
   "outputs": [
    {
     "name": "stdout",
     "output_type": "stream",
     "text": [
      "EPOCHS:1\n",
      "TRAIN\n"
     ]
    },
    {
     "name": "stderr",
     "output_type": "stream",
     "text": [
      "100%|████████████████████████████████████████| 960/960 [00:08<00:00, 119.23it/s]\n"
     ]
    },
    {
     "name": "stdout",
     "output_type": "stream",
     "text": [
      " Average training loss: 1.11\n"
     ]
    },
    {
     "name": "stderr",
     "output_type": "stream",
     "text": [
      "100%|████████████████████████████████████████| 120/120 [00:00<00:00, 863.19it/s]\n"
     ]
    },
    {
     "name": "stdout",
     "output_type": "stream",
     "text": [
      " Average valid loss: 1.10\n",
      "AUC_SCORE:  0.5072553257178142  acc:  0.3416666666666667 f1:  0.5093167701863354\n",
      "Test\n"
     ]
    },
    {
     "name": "stderr",
     "output_type": "stream",
     "text": [
      "100%|████████████████████████████████████████| 121/121 [00:00<00:00, 848.26it/s]\n"
     ]
    },
    {
     "name": "stdout",
     "output_type": "stream",
     "text": [
      " Average valid loss: 1.09\n",
      "AUC_SCORE:  0.5  acc:  0.33884297520661155 f1:  0.5061728395061729\n",
      "EPOCHS:2\n",
      "TRAIN\n"
     ]
    },
    {
     "name": "stderr",
     "output_type": "stream",
     "text": [
      "100%|████████████████████████████████████████| 960/960 [00:08<00:00, 119.62it/s]\n"
     ]
    },
    {
     "name": "stdout",
     "output_type": "stream",
     "text": [
      " Average training loss: 1.09\n"
     ]
    },
    {
     "name": "stderr",
     "output_type": "stream",
     "text": [
      "100%|████████████████████████████████████████| 120/120 [00:00<00:00, 867.24it/s]\n"
     ]
    },
    {
     "name": "stdout",
     "output_type": "stream",
     "text": [
      " Average valid loss: 1.09\n",
      "AUC_SCORE:  0.5646804569311517  acc:  0.3416666666666667 f1:  0.5093167701863354\n",
      "Test\n"
     ]
    },
    {
     "name": "stderr",
     "output_type": "stream",
     "text": [
      "100%|████████████████████████████████████████| 121/121 [00:00<00:00, 857.89it/s]\n"
     ]
    },
    {
     "name": "stdout",
     "output_type": "stream",
     "text": [
      " Average valid loss: 1.08\n",
      "AUC_SCORE:  0.6323170731707317  acc:  0.33884297520661155 f1:  0.5061728395061729\n",
      "EPOCHS:3\n",
      "TRAIN\n"
     ]
    },
    {
     "name": "stderr",
     "output_type": "stream",
     "text": [
      "100%|████████████████████████████████████████| 960/960 [00:08<00:00, 119.30it/s]\n"
     ]
    },
    {
     "name": "stdout",
     "output_type": "stream",
     "text": [
      " Average training loss: 1.08\n"
     ]
    },
    {
     "name": "stderr",
     "output_type": "stream",
     "text": [
      "100%|████████████████████████████████████████| 120/120 [00:00<00:00, 870.23it/s]\n"
     ]
    },
    {
     "name": "stdout",
     "output_type": "stream",
     "text": [
      " Average valid loss: 1.08\n",
      "AUC_SCORE:  0.5992590305649892  acc:  0.3416666666666667 f1:  0.5093167701863354\n",
      "Test\n"
     ]
    },
    {
     "name": "stderr",
     "output_type": "stream",
     "text": [
      "100%|████████████████████████████████████████| 121/121 [00:00<00:00, 859.27it/s]\n"
     ]
    },
    {
     "name": "stdout",
     "output_type": "stream",
     "text": [
      " Average valid loss: 1.07\n",
      "AUC_SCORE:  0.6692073170731707  acc:  0.33884297520661155 f1:  0.5061728395061729\n",
      "EPOCHS:4\n",
      "TRAIN\n"
     ]
    },
    {
     "name": "stderr",
     "output_type": "stream",
     "text": [
      "100%|████████████████████████████████████████| 960/960 [00:08<00:00, 118.78it/s]\n"
     ]
    },
    {
     "name": "stdout",
     "output_type": "stream",
     "text": [
      " Average training loss: 1.08\n"
     ]
    },
    {
     "name": "stderr",
     "output_type": "stream",
     "text": [
      "100%|████████████████████████████████████████| 120/120 [00:00<00:00, 862.81it/s]\n"
     ]
    },
    {
     "name": "stdout",
     "output_type": "stream",
     "text": [
      " Average valid loss: 1.08\n",
      "AUC_SCORE:  0.6227230626736647  acc:  0.3416666666666667 f1:  0.5093167701863354\n",
      "Test\n"
     ]
    },
    {
     "name": "stderr",
     "output_type": "stream",
     "text": [
      "100%|████████████████████████████████████████| 121/121 [00:00<00:00, 852.37it/s]\n"
     ]
    },
    {
     "name": "stdout",
     "output_type": "stream",
     "text": [
      " Average valid loss: 1.06\n",
      "AUC_SCORE:  0.6899390243902439  acc:  0.33884297520661155 f1:  0.5061728395061729\n",
      "EPOCHS:5\n",
      "TRAIN\n"
     ]
    },
    {
     "name": "stderr",
     "output_type": "stream",
     "text": [
      "100%|████████████████████████████████████████| 960/960 [00:08<00:00, 119.28it/s]\n"
     ]
    },
    {
     "name": "stdout",
     "output_type": "stream",
     "text": [
      " Average training loss: 1.07\n"
     ]
    },
    {
     "name": "stderr",
     "output_type": "stream",
     "text": [
      "100%|████████████████████████████████████████| 120/120 [00:00<00:00, 871.67it/s]\n"
     ]
    },
    {
     "name": "stdout",
     "output_type": "stream",
     "text": [
      " Average valid loss: 1.07\n",
      "AUC_SCORE:  0.6366162395801173  acc:  0.3416666666666667 f1:  0.5093167701863354\n",
      "Test\n"
     ]
    },
    {
     "name": "stderr",
     "output_type": "stream",
     "text": [
      "100%|████████████████████████████████████████| 121/121 [00:00<00:00, 861.60it/s]\n"
     ]
    },
    {
     "name": "stdout",
     "output_type": "stream",
     "text": [
      " Average valid loss: 1.05\n",
      "AUC_SCORE:  0.7091463414634146  acc:  0.34710743801652894 f1:  0.5093167701863354\n",
      "EPOCHS:6\n",
      "TRAIN\n"
     ]
    },
    {
     "name": "stderr",
     "output_type": "stream",
     "text": [
      "100%|████████████████████████████████████████| 960/960 [00:08<00:00, 118.73it/s]\n"
     ]
    },
    {
     "name": "stdout",
     "output_type": "stream",
     "text": [
      " Average training loss: 1.07\n"
     ]
    },
    {
     "name": "stderr",
     "output_type": "stream",
     "text": [
      "100%|████████████████████████████████████████| 120/120 [00:00<00:00, 869.31it/s]"
     ]
    },
    {
     "name": "stdout",
     "output_type": "stream",
     "text": [
      " Average valid loss: 1.07\n",
      "AUC_SCORE:  0.6452608829885768  acc:  0.35833333333333334 f1:  0.5157232704402516\n",
      "5  EPOCH BEST MODEL!\n"
     ]
    },
    {
     "name": "stderr",
     "output_type": "stream",
     "text": [
      "\n"
     ]
    },
    {
     "name": "stdout",
     "output_type": "stream",
     "text": [
      "Test\n"
     ]
    },
    {
     "name": "stderr",
     "output_type": "stream",
     "text": [
      "100%|████████████████████████████████████████| 121/121 [00:00<00:00, 861.05it/s]\n"
     ]
    },
    {
     "name": "stdout",
     "output_type": "stream",
     "text": [
      " Average valid loss: 1.04\n",
      "AUC_SCORE:  0.7161585365853658  acc:  0.34710743801652894 f1:  0.5093167701863354\n",
      "EPOCHS:7\n",
      "TRAIN\n"
     ]
    },
    {
     "name": "stderr",
     "output_type": "stream",
     "text": [
      "100%|████████████████████████████████████████| 960/960 [00:08<00:00, 118.72it/s]\n"
     ]
    },
    {
     "name": "stdout",
     "output_type": "stream",
     "text": [
      " Average training loss: 1.05\n"
     ]
    },
    {
     "name": "stderr",
     "output_type": "stream",
     "text": [
      "100%|████████████████████████████████████████| 120/120 [00:00<00:00, 862.95it/s]\n"
     ]
    },
    {
     "name": "stdout",
     "output_type": "stream",
     "text": [
      " Average valid loss: 1.06\n",
      "AUC_SCORE:  0.6452608829885768  acc:  0.35833333333333334 f1:  0.5157232704402516\n",
      "Test\n"
     ]
    },
    {
     "name": "stderr",
     "output_type": "stream",
     "text": [
      "100%|████████████████████████████████████████| 121/121 [00:00<00:00, 853.61it/s]\n"
     ]
    },
    {
     "name": "stdout",
     "output_type": "stream",
     "text": [
      " Average valid loss: 1.04\n",
      "AUC_SCORE:  0.7222560975609756  acc:  0.36363636363636365 f1:  0.5095541401273885\n",
      "EPOCHS:8\n",
      "TRAIN\n"
     ]
    },
    {
     "name": "stderr",
     "output_type": "stream",
     "text": [
      "100%|████████████████████████████████████████| 960/960 [00:08<00:00, 118.62it/s]\n"
     ]
    },
    {
     "name": "stdout",
     "output_type": "stream",
     "text": [
      " Average training loss: 1.05\n"
     ]
    },
    {
     "name": "stderr",
     "output_type": "stream",
     "text": [
      "100%|████████████████████████████████████████| 120/120 [00:00<00:00, 872.41it/s]\n"
     ]
    },
    {
     "name": "stdout",
     "output_type": "stream",
     "text": [
      " Average valid loss: 1.06\n",
      "AUC_SCORE:  0.6498919419573943  acc:  0.39166666666666666 f1:  0.5290322580645161\n",
      "7  EPOCH BEST MODEL!\n",
      "Test\n"
     ]
    },
    {
     "name": "stderr",
     "output_type": "stream",
     "text": [
      "100%|████████████████████████████████████████| 121/121 [00:00<00:00, 822.22it/s]\n"
     ]
    },
    {
     "name": "stdout",
     "output_type": "stream",
     "text": [
      " Average valid loss: 1.03\n",
      "AUC_SCORE:  0.726829268292683  acc:  0.371900826446281 f1:  0.5128205128205128\n",
      "EPOCHS:9\n",
      "TRAIN\n"
     ]
    },
    {
     "name": "stderr",
     "output_type": "stream",
     "text": [
      "100%|████████████████████████████████████████| 960/960 [00:08<00:00, 119.60it/s]\n"
     ]
    },
    {
     "name": "stdout",
     "output_type": "stream",
     "text": [
      " Average training loss: 1.05\n"
     ]
    },
    {
     "name": "stderr",
     "output_type": "stream",
     "text": [
      "100%|████████████████████████████████████████| 120/120 [00:00<00:00, 870.94it/s]"
     ]
    },
    {
     "name": "stdout",
     "output_type": "stream",
     "text": [
      " Average valid loss: 1.05\n",
      "AUC_SCORE:  0.6523618400740969  acc:  0.4083333333333333 f1:  0.5298013245033113\n",
      "8  EPOCH BEST MODEL!\n"
     ]
    },
    {
     "name": "stderr",
     "output_type": "stream",
     "text": [
      "\n"
     ]
    },
    {
     "name": "stdout",
     "output_type": "stream",
     "text": [
      "Test\n"
     ]
    },
    {
     "name": "stderr",
     "output_type": "stream",
     "text": [
      "100%|████████████████████████████████████████| 121/121 [00:00<00:00, 853.29it/s]\n"
     ]
    },
    {
     "name": "stdout",
     "output_type": "stream",
     "text": [
      " Average valid loss: 1.02\n",
      "AUC_SCORE:  0.7329268292682926  acc:  0.371900826446281 f1:  0.5128205128205128\n",
      "EPOCHS:10\n",
      "TRAIN\n"
     ]
    },
    {
     "name": "stderr",
     "output_type": "stream",
     "text": [
      "100%|████████████████████████████████████████| 960/960 [00:08<00:00, 119.70it/s]\n"
     ]
    },
    {
     "name": "stdout",
     "output_type": "stream",
     "text": [
      " Average training loss: 1.04\n"
     ]
    },
    {
     "name": "stderr",
     "output_type": "stream",
     "text": [
      "100%|████████████████████████████████████████| 120/120 [00:00<00:00, 878.96it/s]"
     ]
    },
    {
     "name": "stdout",
     "output_type": "stream",
     "text": [
      " Average valid loss: 1.05\n",
      "AUC_SCORE:  0.6554492127199754  acc:  0.43333333333333335 f1:  0.5405405405405405\n",
      "9  EPOCH BEST MODEL!\n"
     ]
    },
    {
     "name": "stderr",
     "output_type": "stream",
     "text": [
      "\n"
     ]
    },
    {
     "name": "stdout",
     "output_type": "stream",
     "text": [
      "Test\n"
     ]
    },
    {
     "name": "stderr",
     "output_type": "stream",
     "text": [
      "100%|████████████████████████████████████████| 121/121 [00:00<00:00, 861.83it/s]\n"
     ]
    },
    {
     "name": "stdout",
     "output_type": "stream",
     "text": [
      " Average valid loss: 1.02\n",
      "AUC_SCORE:  0.7341463414634146  acc:  0.4049586776859504 f1:  0.5263157894736842\n",
      "EPOCHS:11\n",
      "TRAIN\n"
     ]
    },
    {
     "name": "stderr",
     "output_type": "stream",
     "text": [
      "100%|████████████████████████████████████████| 960/960 [00:08<00:00, 119.40it/s]\n"
     ]
    },
    {
     "name": "stdout",
     "output_type": "stream",
     "text": [
      " Average training loss: 1.04\n"
     ]
    },
    {
     "name": "stderr",
     "output_type": "stream",
     "text": [
      "100%|████████████████████████████████████████| 120/120 [00:00<00:00, 862.09it/s]\n"
     ]
    },
    {
     "name": "stdout",
     "output_type": "stream",
     "text": [
      " Average valid loss: 1.04\n",
      "AUC_SCORE:  0.6591540598950294  acc:  0.43333333333333335 f1:  0.5342465753424658\n",
      "Test\n"
     ]
    },
    {
     "name": "stderr",
     "output_type": "stream",
     "text": [
      "100%|████████████████████████████████████████| 121/121 [00:00<00:00, 853.17it/s]\n"
     ]
    },
    {
     "name": "stdout",
     "output_type": "stream",
     "text": [
      " Average valid loss: 1.01\n",
      "AUC_SCORE:  0.735670731707317  acc:  0.4132231404958678 f1:  0.5298013245033113\n",
      "EPOCHS:12\n",
      "TRAIN\n"
     ]
    },
    {
     "name": "stderr",
     "output_type": "stream",
     "text": [
      "100%|████████████████████████████████████████| 960/960 [00:08<00:00, 119.54it/s]\n"
     ]
    },
    {
     "name": "stdout",
     "output_type": "stream",
     "text": [
      " Average training loss: 1.02\n"
     ]
    },
    {
     "name": "stderr",
     "output_type": "stream",
     "text": [
      "100%|████████████████████████████████████████| 120/120 [00:00<00:00, 878.67it/s]\n"
     ]
    },
    {
     "name": "stdout",
     "output_type": "stream",
     "text": [
      " Average valid loss: 1.04\n",
      "AUC_SCORE:  0.661623958011732  acc:  0.43333333333333335 f1:  0.5342465753424658\n",
      "Test\n"
     ]
    },
    {
     "name": "stderr",
     "output_type": "stream",
     "text": [
      "100%|████████████████████████████████████████| 121/121 [00:00<00:00, 877.28it/s]\n"
     ]
    },
    {
     "name": "stdout",
     "output_type": "stream",
     "text": [
      " Average valid loss: 1.01\n",
      "AUC_SCORE:  0.7368902439024391  acc:  0.4297520661157025 f1:  0.5369127516778524\n",
      "EPOCHS:13\n",
      "TRAIN\n"
     ]
    },
    {
     "name": "stderr",
     "output_type": "stream",
     "text": [
      "100%|████████████████████████████████████████| 960/960 [00:07<00:00, 120.05it/s]\n"
     ]
    },
    {
     "name": "stdout",
     "output_type": "stream",
     "text": [
      " Average training loss: 1.02\n"
     ]
    },
    {
     "name": "stderr",
     "output_type": "stream",
     "text": [
      "100%|████████████████████████████████████████| 120/120 [00:00<00:00, 882.96it/s]\n"
     ]
    },
    {
     "name": "stdout",
     "output_type": "stream",
     "text": [
      " Average valid loss: 1.04\n",
      "AUC_SCORE:  0.6644025933930225  acc:  0.425 f1:  0.5241379310344828\n",
      "Test\n"
     ]
    },
    {
     "name": "stderr",
     "output_type": "stream",
     "text": [
      "100%|████████████████████████████████████████| 121/121 [00:00<00:00, 875.68it/s]\n"
     ]
    },
    {
     "name": "stdout",
     "output_type": "stream",
     "text": [
      " Average valid loss: 1.01\n",
      "AUC_SCORE:  0.7353658536585366  acc:  0.4214876033057851 f1:  0.5205479452054795\n",
      "EPOCHS:14\n",
      "TRAIN\n"
     ]
    },
    {
     "name": "stderr",
     "output_type": "stream",
     "text": [
      "100%|████████████████████████████████████████| 960/960 [00:07<00:00, 120.25it/s]\n"
     ]
    },
    {
     "name": "stdout",
     "output_type": "stream",
     "text": [
      " Average training loss: 1.02\n"
     ]
    },
    {
     "name": "stderr",
     "output_type": "stream",
     "text": [
      "100%|████████████████████████████████████████| 120/120 [00:00<00:00, 883.53it/s]\n"
     ]
    },
    {
     "name": "stdout",
     "output_type": "stream",
     "text": [
      " Average valid loss: 1.04\n",
      "AUC_SCORE:  0.6640938561284347  acc:  0.44166666666666665 f1:  0.5314685314685316\n",
      "Test\n"
     ]
    },
    {
     "name": "stderr",
     "output_type": "stream",
     "text": [
      "100%|████████████████████████████████████████| 121/121 [00:00<00:00, 867.30it/s]\n"
     ]
    },
    {
     "name": "stdout",
     "output_type": "stream",
     "text": [
      " Average valid loss: 1.00\n",
      "AUC_SCORE:  0.738109756097561  acc:  0.4214876033057851 f1:  0.5205479452054795\n",
      "EPOCHS:15\n",
      "TRAIN\n"
     ]
    },
    {
     "name": "stderr",
     "output_type": "stream",
     "text": [
      "100%|████████████████████████████████████████| 960/960 [00:08<00:00, 119.85it/s]\n"
     ]
    },
    {
     "name": "stdout",
     "output_type": "stream",
     "text": [
      " Average training loss: 1.01\n"
     ]
    },
    {
     "name": "stderr",
     "output_type": "stream",
     "text": [
      "100%|████████████████████████████████████████| 120/120 [00:00<00:00, 879.79it/s]\n"
     ]
    },
    {
     "name": "stdout",
     "output_type": "stream",
     "text": [
      " Average valid loss: 1.03\n",
      "AUC_SCORE:  0.6656375424513739  acc:  0.4666666666666667 f1:  0.5294117647058824\n",
      "Test\n"
     ]
    },
    {
     "name": "stderr",
     "output_type": "stream",
     "text": [
      "100%|████████████████████████████████████████| 121/121 [00:00<00:00, 871.23it/s]\n"
     ]
    },
    {
     "name": "stdout",
     "output_type": "stream",
     "text": [
      " Average valid loss: 1.00\n",
      "AUC_SCORE:  0.738719512195122  acc:  0.4462809917355372 f1:  0.5314685314685316\n",
      "EPOCHS:16\n",
      "TRAIN\n"
     ]
    },
    {
     "name": "stderr",
     "output_type": "stream",
     "text": [
      "100%|████████████████████████████████████████| 960/960 [00:07<00:00, 120.32it/s]\n"
     ]
    },
    {
     "name": "stdout",
     "output_type": "stream",
     "text": [
      " Average training loss: 1.01\n"
     ]
    },
    {
     "name": "stderr",
     "output_type": "stream",
     "text": [
      "100%|████████████████████████████████████████| 120/120 [00:00<00:00, 882.10it/s]\n"
     ]
    },
    {
     "name": "stdout",
     "output_type": "stream",
     "text": [
      " Average valid loss: 1.03\n",
      "AUC_SCORE:  0.665328805186786  acc:  0.4583333333333333 f1:  0.5255474452554745\n",
      "Test\n"
     ]
    },
    {
     "name": "stderr",
     "output_type": "stream",
     "text": [
      "100%|████████████████████████████████████████| 121/121 [00:00<00:00, 877.03it/s]\n"
     ]
    },
    {
     "name": "stdout",
     "output_type": "stream",
     "text": [
      " Average valid loss: 1.00\n",
      "AUC_SCORE:  0.7393292682926831  acc:  0.4462809917355372 f1:  0.5314685314685316\n",
      "EPOCHS:17\n",
      "TRAIN\n"
     ]
    },
    {
     "name": "stderr",
     "output_type": "stream",
     "text": [
      "100%|████████████████████████████████████████| 960/960 [00:07<00:00, 120.43it/s]\n"
     ]
    },
    {
     "name": "stdout",
     "output_type": "stream",
     "text": [
      " Average training loss: 1.00\n"
     ]
    },
    {
     "name": "stderr",
     "output_type": "stream",
     "text": [
      "100%|████████████████████████████████████████| 120/120 [00:00<00:00, 883.19it/s]\n"
     ]
    },
    {
     "name": "stdout",
     "output_type": "stream",
     "text": [
      " Average valid loss: 1.03\n",
      "AUC_SCORE:  0.6668724915097252  acc:  0.475 f1:  0.5333333333333333\n",
      "Test\n"
     ]
    },
    {
     "name": "stderr",
     "output_type": "stream",
     "text": [
      "100%|████████████████████████████████████████| 121/121 [00:00<00:00, 869.77it/s]\n"
     ]
    },
    {
     "name": "stdout",
     "output_type": "stream",
     "text": [
      " Average valid loss: 1.00\n",
      "AUC_SCORE:  0.738109756097561  acc:  0.4462809917355372 f1:  0.5314685314685316\n",
      "EPOCHS:18\n",
      "TRAIN\n"
     ]
    },
    {
     "name": "stderr",
     "output_type": "stream",
     "text": [
      "100%|████████████████████████████████████████| 960/960 [00:07<00:00, 120.29it/s]\n"
     ]
    },
    {
     "name": "stdout",
     "output_type": "stream",
     "text": [
      " Average training loss: 0.99\n"
     ]
    },
    {
     "name": "stderr",
     "output_type": "stream",
     "text": [
      "100%|████████████████████████████████████████| 120/120 [00:00<00:00, 878.76it/s]\n"
     ]
    },
    {
     "name": "stdout",
     "output_type": "stream",
     "text": [
      " Average valid loss: 1.03\n",
      "AUC_SCORE:  0.6702686014201914  acc:  0.48333333333333334 f1:  0.5373134328358209\n",
      "Test\n"
     ]
    },
    {
     "name": "stderr",
     "output_type": "stream",
     "text": [
      "100%|████████████████████████████████████████| 121/121 [00:00<00:00, 866.14it/s]\n"
     ]
    },
    {
     "name": "stdout",
     "output_type": "stream",
     "text": [
      " Average valid loss: 1.00\n",
      "AUC_SCORE:  0.7362804878048781  acc:  0.45454545454545453 f1:  0.5352112676056339\n",
      "EPOCHS:19\n",
      "TRAIN\n"
     ]
    },
    {
     "name": "stderr",
     "output_type": "stream",
     "text": [
      "100%|████████████████████████████████████████| 960/960 [00:08<00:00, 119.76it/s]\n"
     ]
    },
    {
     "name": "stdout",
     "output_type": "stream",
     "text": [
      " Average training loss: 0.99\n"
     ]
    },
    {
     "name": "stderr",
     "output_type": "stream",
     "text": [
      "100%|████████████████████████████████████████| 120/120 [00:00<00:00, 879.87it/s]"
     ]
    },
    {
     "name": "stdout",
     "output_type": "stream",
     "text": [
      " Average valid loss: 1.03\n",
      "AUC_SCORE:  0.6730472368014819  acc:  0.49166666666666664 f1:  0.5413533834586466\n",
      "18  EPOCH BEST MODEL!\n"
     ]
    },
    {
     "name": "stderr",
     "output_type": "stream",
     "text": [
      "\n"
     ]
    },
    {
     "name": "stdout",
     "output_type": "stream",
     "text": [
      "Test\n"
     ]
    },
    {
     "name": "stderr",
     "output_type": "stream",
     "text": [
      "100%|████████████████████████████████████████| 121/121 [00:00<00:00, 865.80it/s]\n"
     ]
    },
    {
     "name": "stdout",
     "output_type": "stream",
     "text": [
      " Average valid loss: 1.00\n",
      "AUC_SCORE:  0.7365853658536585  acc:  0.4628099173553719 f1:  0.5390070921985816\n",
      "EPOCHS:20\n",
      "TRAIN\n"
     ]
    },
    {
     "name": "stderr",
     "output_type": "stream",
     "text": [
      "100%|████████████████████████████████████████| 960/960 [00:08<00:00, 119.95it/s]\n"
     ]
    },
    {
     "name": "stdout",
     "output_type": "stream",
     "text": [
      " Average training loss: 0.99\n"
     ]
    },
    {
     "name": "stderr",
     "output_type": "stream",
     "text": [
      "100%|████████████████████████████████████████| 120/120 [00:00<00:00, 882.10it/s]"
     ]
    },
    {
     "name": "stdout",
     "output_type": "stream",
     "text": [
      " Average valid loss: 1.03\n",
      "AUC_SCORE:  0.6736647113306575  acc:  0.5 f1:  0.5454545454545454\n",
      "19  EPOCH BEST MODEL!\n"
     ]
    },
    {
     "name": "stderr",
     "output_type": "stream",
     "text": [
      "\n"
     ]
    },
    {
     "name": "stdout",
     "output_type": "stream",
     "text": [
      "Test\n"
     ]
    },
    {
     "name": "stderr",
     "output_type": "stream",
     "text": [
      "100%|████████████████████████████████████████| 121/121 [00:00<00:00, 866.16it/s]\n"
     ]
    },
    {
     "name": "stdout",
     "output_type": "stream",
     "text": [
      " Average valid loss: 1.00\n",
      "AUC_SCORE:  0.7375  acc:  0.4793388429752066 f1:  0.5467625899280575\n",
      "EPOCHS:21\n",
      "TRAIN\n"
     ]
    },
    {
     "name": "stderr",
     "output_type": "stream",
     "text": [
      "100%|████████████████████████████████████████| 960/960 [00:07<00:00, 120.04it/s]\n"
     ]
    },
    {
     "name": "stdout",
     "output_type": "stream",
     "text": [
      " Average training loss: 0.98\n"
     ]
    },
    {
     "name": "stderr",
     "output_type": "stream",
     "text": [
      "100%|████████████████████████████████████████| 120/120 [00:00<00:00, 884.73it/s]\n"
     ]
    },
    {
     "name": "stdout",
     "output_type": "stream",
     "text": [
      " Average valid loss: 1.03\n",
      "AUC_SCORE:  0.6736647113306576  acc:  0.5 f1:  0.5454545454545454\n",
      "Test\n"
     ]
    },
    {
     "name": "stderr",
     "output_type": "stream",
     "text": [
      "100%|████████████████████████████████████████| 121/121 [00:00<00:00, 876.49it/s]\n"
     ]
    },
    {
     "name": "stdout",
     "output_type": "stream",
     "text": [
      " Average valid loss: 1.00\n",
      "AUC_SCORE:  0.7341463414634146  acc:  0.47107438016528924 f1:  0.5428571428571428\n",
      "EPOCHS:22\n",
      "TRAIN\n"
     ]
    },
    {
     "name": "stderr",
     "output_type": "stream",
     "text": [
      "100%|████████████████████████████████████████| 960/960 [00:08<00:00, 119.69it/s]\n"
     ]
    },
    {
     "name": "stdout",
     "output_type": "stream",
     "text": [
      " Average training loss: 0.97\n"
     ]
    },
    {
     "name": "stderr",
     "output_type": "stream",
     "text": [
      "100%|████████████████████████████████████████| 120/120 [00:00<00:00, 874.69it/s]"
     ]
    },
    {
     "name": "stdout",
     "output_type": "stream",
     "text": [
      " Average valid loss: 1.03\n",
      "AUC_SCORE:  0.6764433467119483  acc:  0.5083333333333333 f1:  0.549618320610687\n",
      "21  EPOCH BEST MODEL!\n"
     ]
    },
    {
     "name": "stderr",
     "output_type": "stream",
     "text": [
      "\n"
     ]
    },
    {
     "name": "stdout",
     "output_type": "stream",
     "text": [
      "Test\n"
     ]
    },
    {
     "name": "stderr",
     "output_type": "stream",
     "text": [
      "100%|████████████████████████████████████████| 121/121 [00:00<00:00, 866.11it/s]\n"
     ]
    },
    {
     "name": "stdout",
     "output_type": "stream",
     "text": [
      " Average valid loss: 1.00\n",
      "AUC_SCORE:  0.7320121951219511  acc:  0.47107438016528924 f1:  0.5428571428571428\n",
      "EPOCHS:23\n",
      "TRAIN\n"
     ]
    },
    {
     "name": "stderr",
     "output_type": "stream",
     "text": [
      "100%|████████████████████████████████████████| 960/960 [00:08<00:00, 118.76it/s]\n"
     ]
    },
    {
     "name": "stdout",
     "output_type": "stream",
     "text": [
      " Average training loss: 0.98\n"
     ]
    },
    {
     "name": "stderr",
     "output_type": "stream",
     "text": [
      "100%|████████████████████████████████████████| 120/120 [00:00<00:00, 881.05it/s]\n"
     ]
    },
    {
     "name": "stdout",
     "output_type": "stream",
     "text": [
      " Average valid loss: 1.03\n",
      "AUC_SCORE:  0.6798394566224143  acc:  0.5083333333333333 f1:  0.549618320610687\n",
      "Test\n"
     ]
    },
    {
     "name": "stderr",
     "output_type": "stream",
     "text": [
      "100%|████████████████████████████████████████| 121/121 [00:00<00:00, 875.39it/s]\n"
     ]
    },
    {
     "name": "stdout",
     "output_type": "stream",
     "text": [
      " Average valid loss: 1.01\n",
      "AUC_SCORE:  0.7310975609756099  acc:  0.47107438016528924 f1:  0.5428571428571428\n",
      "EPOCHS:24\n",
      "TRAIN\n"
     ]
    },
    {
     "name": "stderr",
     "output_type": "stream",
     "text": [
      "100%|████████████████████████████████████████| 960/960 [00:07<00:00, 120.31it/s]\n"
     ]
    },
    {
     "name": "stdout",
     "output_type": "stream",
     "text": [
      " Average training loss: 0.97\n"
     ]
    },
    {
     "name": "stderr",
     "output_type": "stream",
     "text": [
      "100%|████████████████████████████████████████| 120/120 [00:00<00:00, 887.23it/s]\n"
     ]
    },
    {
     "name": "stdout",
     "output_type": "stream",
     "text": [
      " Average valid loss: 1.03\n",
      "AUC_SCORE:  0.6820006174745292  acc:  0.5083333333333333 f1:  0.549618320610687\n",
      "Test\n"
     ]
    },
    {
     "name": "stderr",
     "output_type": "stream",
     "text": [
      "100%|████████████████████████████████████████| 121/121 [00:00<00:00, 875.41it/s]\n"
     ]
    },
    {
     "name": "stdout",
     "output_type": "stream",
     "text": [
      " Average valid loss: 1.00\n",
      "AUC_SCORE:  0.7317073170731708  acc:  0.4793388429752066 f1:  0.5467625899280575\n",
      "EPOCHS:25\n",
      "TRAIN\n"
     ]
    },
    {
     "name": "stderr",
     "output_type": "stream",
     "text": [
      "100%|████████████████████████████████████████| 960/960 [00:07<00:00, 120.53it/s]\n"
     ]
    },
    {
     "name": "stdout",
     "output_type": "stream",
     "text": [
      " Average training loss: 0.96\n"
     ]
    },
    {
     "name": "stderr",
     "output_type": "stream",
     "text": [
      "100%|████████████████████████████████████████| 120/120 [00:00<00:00, 886.96it/s]\n"
     ]
    },
    {
     "name": "stdout",
     "output_type": "stream",
     "text": [
      " Average valid loss: 1.03\n",
      "AUC_SCORE:  0.6835443037974682  acc:  0.5083333333333333 f1:  0.549618320610687\n",
      "Test\n"
     ]
    },
    {
     "name": "stderr",
     "output_type": "stream",
     "text": [
      "100%|████████████████████████████████████████| 121/121 [00:00<00:00, 877.51it/s]\n"
     ]
    },
    {
     "name": "stdout",
     "output_type": "stream",
     "text": [
      " Average valid loss: 1.01\n",
      "AUC_SCORE:  0.7335365853658538  acc:  0.4628099173553719 f1:  0.5390070921985816\n",
      "EPOCHS:26\n",
      "TRAIN\n"
     ]
    },
    {
     "name": "stderr",
     "output_type": "stream",
     "text": [
      "100%|████████████████████████████████████████| 960/960 [00:07<00:00, 120.31it/s]\n"
     ]
    },
    {
     "name": "stdout",
     "output_type": "stream",
     "text": [
      " Average training loss: 0.98\n"
     ]
    },
    {
     "name": "stderr",
     "output_type": "stream",
     "text": [
      "100%|████████████████████████████████████████| 120/120 [00:00<00:00, 881.25it/s]\n"
     ]
    },
    {
     "name": "stdout",
     "output_type": "stream",
     "text": [
      " Average valid loss: 1.03\n",
      "AUC_SCORE:  0.6823093547391169  acc:  0.5083333333333333 f1:  0.549618320610687\n",
      "Test\n"
     ]
    },
    {
     "name": "stderr",
     "output_type": "stream",
     "text": [
      "100%|████████████████████████████████████████| 121/121 [00:00<00:00, 870.60it/s]\n"
     ]
    },
    {
     "name": "stdout",
     "output_type": "stream",
     "text": [
      " Average valid loss: 1.01\n",
      "AUC_SCORE:  0.7317073170731708  acc:  0.4628099173553719 f1:  0.5390070921985816\n",
      "EPOCHS:27\n",
      "TRAIN\n"
     ]
    },
    {
     "name": "stderr",
     "output_type": "stream",
     "text": [
      "100%|████████████████████████████████████████| 960/960 [00:08<00:00, 119.72it/s]\n"
     ]
    },
    {
     "name": "stdout",
     "output_type": "stream",
     "text": [
      " Average training loss: 0.96\n"
     ]
    },
    {
     "name": "stderr",
     "output_type": "stream",
     "text": [
      "100%|████████████████████████████████████████| 120/120 [00:00<00:00, 884.72it/s]\n"
     ]
    },
    {
     "name": "stdout",
     "output_type": "stream",
     "text": [
      " Average valid loss: 1.03\n",
      "AUC_SCORE:  0.6866316764433468  acc:  0.5083333333333333 f1:  0.549618320610687\n",
      "Test\n"
     ]
    },
    {
     "name": "stderr",
     "output_type": "stream",
     "text": [
      "100%|████████████████████████████████████████| 121/121 [00:00<00:00, 863.87it/s]\n"
     ]
    },
    {
     "name": "stdout",
     "output_type": "stream",
     "text": [
      " Average valid loss: 1.01\n",
      "AUC_SCORE:  0.7323170731707317  acc:  0.47107438016528924 f1:  0.5428571428571428\n",
      "EPOCHS:28\n",
      "TRAIN\n"
     ]
    },
    {
     "name": "stderr",
     "output_type": "stream",
     "text": [
      "100%|████████████████████████████████████████| 960/960 [00:07<00:00, 120.40it/s]\n"
     ]
    },
    {
     "name": "stdout",
     "output_type": "stream",
     "text": [
      " Average training loss: 0.97\n"
     ]
    },
    {
     "name": "stderr",
     "output_type": "stream",
     "text": [
      "100%|████████████████████████████████████████| 120/120 [00:00<00:00, 885.16it/s]\n"
     ]
    },
    {
     "name": "stdout",
     "output_type": "stream",
     "text": [
      " Average valid loss: 1.03\n",
      "AUC_SCORE:  0.6900277863538129  acc:  0.5083333333333333 f1:  0.549618320610687\n",
      "Test\n"
     ]
    },
    {
     "name": "stderr",
     "output_type": "stream",
     "text": [
      "100%|████████████████████████████████████████| 121/121 [00:00<00:00, 877.07it/s]\n"
     ]
    },
    {
     "name": "stdout",
     "output_type": "stream",
     "text": [
      " Average valid loss: 1.01\n",
      "AUC_SCORE:  0.7292682926829268  acc:  0.49586776859504134 f1:  0.5547445255474452\n",
      "EPOCHS:29\n",
      "TRAIN\n"
     ]
    },
    {
     "name": "stderr",
     "output_type": "stream",
     "text": [
      "100%|████████████████████████████████████████| 960/960 [00:07<00:00, 120.39it/s]\n"
     ]
    },
    {
     "name": "stdout",
     "output_type": "stream",
     "text": [
      " Average training loss: 0.95\n"
     ]
    },
    {
     "name": "stderr",
     "output_type": "stream",
     "text": [
      "100%|████████████████████████████████████████| 120/120 [00:00<00:00, 873.56it/s]\n"
     ]
    },
    {
     "name": "stdout",
     "output_type": "stream",
     "text": [
      " Average valid loss: 1.03\n",
      "AUC_SCORE:  0.6909539981475764  acc:  0.5166666666666667 f1:  0.5538461538461539\n",
      "28  EPOCH BEST MODEL!\n",
      "Test\n"
     ]
    },
    {
     "name": "stderr",
     "output_type": "stream",
     "text": [
      "100%|████████████████████████████████████████| 121/121 [00:00<00:00, 853.71it/s]\n"
     ]
    },
    {
     "name": "stdout",
     "output_type": "stream",
     "text": [
      " Average valid loss: 1.01\n",
      "AUC_SCORE:  0.7280487804878049  acc:  0.49586776859504134 f1:  0.5547445255474452\n",
      "EPOCHS:30\n",
      "TRAIN\n"
     ]
    },
    {
     "name": "stderr",
     "output_type": "stream",
     "text": [
      "100%|████████████████████████████████████████| 960/960 [00:08<00:00, 119.68it/s]\n"
     ]
    },
    {
     "name": "stdout",
     "output_type": "stream",
     "text": [
      " Average training loss: 0.94\n"
     ]
    },
    {
     "name": "stderr",
     "output_type": "stream",
     "text": [
      "100%|████████████████████████████████████████| 120/120 [00:00<00:00, 884.45it/s]\n"
     ]
    },
    {
     "name": "stdout",
     "output_type": "stream",
     "text": [
      " Average valid loss: 1.03\n",
      "AUC_SCORE:  0.6943501080580425  acc:  0.5083333333333333 f1:  0.549618320610687\n",
      "Test\n"
     ]
    },
    {
     "name": "stderr",
     "output_type": "stream",
     "text": [
      "100%|████████████████████████████████████████| 121/121 [00:00<00:00, 866.26it/s]\n"
     ]
    },
    {
     "name": "stdout",
     "output_type": "stream",
     "text": [
      " Average valid loss: 1.02\n",
      "AUC_SCORE:  0.7280487804878049  acc:  0.49586776859504134 f1:  0.5547445255474452\n",
      "EPOCHS:31\n",
      "TRAIN\n"
     ]
    },
    {
     "name": "stderr",
     "output_type": "stream",
     "text": [
      "100%|████████████████████████████████████████| 960/960 [00:07<00:00, 120.00it/s]\n"
     ]
    },
    {
     "name": "stdout",
     "output_type": "stream",
     "text": [
      " Average training loss: 0.94\n"
     ]
    },
    {
     "name": "stderr",
     "output_type": "stream",
     "text": [
      "100%|████████████████████████████████████████| 120/120 [00:00<00:00, 884.11it/s]\n"
     ]
    },
    {
     "name": "stdout",
     "output_type": "stream",
     "text": [
      " Average valid loss: 1.03\n",
      "AUC_SCORE:  0.6943501080580425  acc:  0.5083333333333333 f1:  0.549618320610687\n",
      "Test\n"
     ]
    },
    {
     "name": "stderr",
     "output_type": "stream",
     "text": [
      "100%|████████████████████████████████████████| 121/121 [00:00<00:00, 868.04it/s]\n"
     ]
    },
    {
     "name": "stdout",
     "output_type": "stream",
     "text": [
      " Average valid loss: 1.02\n",
      "AUC_SCORE:  0.725609756097561  acc:  0.5041322314049587 f1:  0.5522388059701492\n",
      "EPOCHS:32\n",
      "TRAIN\n"
     ]
    },
    {
     "name": "stderr",
     "output_type": "stream",
     "text": [
      "100%|████████████████████████████████████████| 960/960 [00:07<00:00, 120.68it/s]\n"
     ]
    },
    {
     "name": "stdout",
     "output_type": "stream",
     "text": [
      " Average training loss: 0.94\n"
     ]
    },
    {
     "name": "stderr",
     "output_type": "stream",
     "text": [
      "100%|████████████████████████████████████████| 120/120 [00:00<00:00, 888.83it/s]\n"
     ]
    },
    {
     "name": "stdout",
     "output_type": "stream",
     "text": [
      " Average valid loss: 1.03\n",
      "AUC_SCORE:  0.6971287434393332  acc:  0.5083333333333333 f1:  0.549618320610687\n",
      "Test\n"
     ]
    },
    {
     "name": "stderr",
     "output_type": "stream",
     "text": [
      "100%|████████████████████████████████████████| 121/121 [00:00<00:00, 878.16it/s]\n"
     ]
    },
    {
     "name": "stdout",
     "output_type": "stream",
     "text": [
      " Average valid loss: 1.03\n",
      "AUC_SCORE:  0.7240853658536586  acc:  0.49586776859504134 f1:  0.5547445255474452\n",
      "EPOCHS:33\n",
      "TRAIN\n"
     ]
    },
    {
     "name": "stderr",
     "output_type": "stream",
     "text": [
      "100%|████████████████████████████████████████| 960/960 [00:07<00:00, 121.48it/s]\n"
     ]
    },
    {
     "name": "stdout",
     "output_type": "stream",
     "text": [
      " Average training loss: 0.92\n"
     ]
    },
    {
     "name": "stderr",
     "output_type": "stream",
     "text": [
      "100%|████████████████████████████████████████| 120/120 [00:00<00:00, 880.28it/s]\n"
     ]
    },
    {
     "name": "stdout",
     "output_type": "stream",
     "text": [
      " Average valid loss: 1.02\n",
      "AUC_SCORE:  0.6983636924976845  acc:  0.5166666666666667 f1:  0.546875\n",
      "Test\n"
     ]
    },
    {
     "name": "stderr",
     "output_type": "stream",
     "text": [
      "100%|████████████████████████████████████████| 121/121 [00:00<00:00, 872.00it/s]\n"
     ]
    },
    {
     "name": "stdout",
     "output_type": "stream",
     "text": [
      " Average valid loss: 1.02\n",
      "AUC_SCORE:  0.7219512195121952  acc:  0.5206611570247934 f1:  0.5606060606060607\n",
      "EPOCHS:34\n",
      "TRAIN\n"
     ]
    },
    {
     "name": "stderr",
     "output_type": "stream",
     "text": [
      "100%|████████████████████████████████████████| 960/960 [00:07<00:00, 120.76it/s]\n"
     ]
    },
    {
     "name": "stdout",
     "output_type": "stream",
     "text": [
      " Average training loss: 0.93\n"
     ]
    },
    {
     "name": "stderr",
     "output_type": "stream",
     "text": [
      "100%|████████████████████████████████████████| 120/120 [00:00<00:00, 881.21it/s]\n"
     ]
    },
    {
     "name": "stdout",
     "output_type": "stream",
     "text": [
      " Average valid loss: 1.03\n",
      "AUC_SCORE:  0.6995986415560358  acc:  0.49166666666666664 f1:  0.5343511450381678\n",
      "Test\n"
     ]
    },
    {
     "name": "stderr",
     "output_type": "stream",
     "text": [
      "100%|████████████████████████████████████████| 121/121 [00:00<00:00, 873.46it/s]\n"
     ]
    },
    {
     "name": "stdout",
     "output_type": "stream",
     "text": [
      " Average valid loss: 1.04\n",
      "AUC_SCORE:  0.7195121951219513  acc:  0.5041322314049587 f1:  0.5588235294117647\n",
      "EPOCHS:35\n",
      "TRAIN\n"
     ]
    },
    {
     "name": "stderr",
     "output_type": "stream",
     "text": [
      "100%|████████████████████████████████████████| 960/960 [00:07<00:00, 122.75it/s]\n"
     ]
    },
    {
     "name": "stdout",
     "output_type": "stream",
     "text": [
      " Average training loss: 0.92\n"
     ]
    },
    {
     "name": "stderr",
     "output_type": "stream",
     "text": [
      "100%|████████████████████████████████████████| 120/120 [00:00<00:00, 877.94it/s]\n"
     ]
    },
    {
     "name": "stdout",
     "output_type": "stream",
     "text": [
      " Average valid loss: 1.03\n",
      "AUC_SCORE:  0.6992899042914479  acc:  0.5166666666666667 f1:  0.546875\n",
      "Test\n"
     ]
    },
    {
     "name": "stderr",
     "output_type": "stream",
     "text": [
      "100%|████████████████████████████████████████| 121/121 [00:00<00:00, 879.42it/s]\n"
     ]
    },
    {
     "name": "stdout",
     "output_type": "stream",
     "text": [
      " Average valid loss: 1.03\n",
      "AUC_SCORE:  0.7176829268292682  acc:  0.5289256198347108 f1:  0.5714285714285715\n",
      "EPOCHS:36\n",
      "TRAIN\n"
     ]
    },
    {
     "name": "stderr",
     "output_type": "stream",
     "text": [
      "100%|████████████████████████████████████████| 960/960 [00:08<00:00, 119.39it/s]\n"
     ]
    },
    {
     "name": "stdout",
     "output_type": "stream",
     "text": [
      " Average training loss: 0.92\n"
     ]
    },
    {
     "name": "stderr",
     "output_type": "stream",
     "text": [
      "100%|████████████████████████████████████████| 120/120 [00:00<00:00, 856.72it/s]\n"
     ]
    },
    {
     "name": "stdout",
     "output_type": "stream",
     "text": [
      " Average valid loss: 1.03\n",
      "AUC_SCORE:  0.6986724297622723  acc:  0.5166666666666667 f1:  0.546875\n",
      "Test\n"
     ]
    },
    {
     "name": "stderr",
     "output_type": "stream",
     "text": [
      "100%|████████████████████████████████████████| 121/121 [00:00<00:00, 860.88it/s]\n"
     ]
    },
    {
     "name": "stdout",
     "output_type": "stream",
     "text": [
      " Average valid loss: 1.03\n",
      "AUC_SCORE:  0.7173780487804879  acc:  0.5206611570247934 f1:  0.5671641791044776\n",
      "EPOCHS:37\n",
      "TRAIN\n"
     ]
    },
    {
     "name": "stderr",
     "output_type": "stream",
     "text": [
      "100%|████████████████████████████████████████| 960/960 [00:08<00:00, 119.21it/s]\n"
     ]
    },
    {
     "name": "stdout",
     "output_type": "stream",
     "text": [
      " Average training loss: 0.92\n"
     ]
    },
    {
     "name": "stderr",
     "output_type": "stream",
     "text": [
      "100%|████████████████████████████████████████| 120/120 [00:00<00:00, 863.38it/s]\n"
     ]
    },
    {
     "name": "stdout",
     "output_type": "stream",
     "text": [
      " Average valid loss: 1.03\n",
      "AUC_SCORE:  0.6986724297622723  acc:  0.5083333333333333 f1:  0.5426356589147285\n",
      "Test\n"
     ]
    },
    {
     "name": "stderr",
     "output_type": "stream",
     "text": [
      "100%|████████████████████████████████████████| 121/121 [00:00<00:00, 856.06it/s]\n"
     ]
    },
    {
     "name": "stdout",
     "output_type": "stream",
     "text": [
      " Average valid loss: 1.04\n",
      "AUC_SCORE:  0.7152439024390245  acc:  0.5206611570247934 f1:  0.5671641791044776\n",
      "EPOCHS:38\n",
      "TRAIN\n"
     ]
    },
    {
     "name": "stderr",
     "output_type": "stream",
     "text": [
      "100%|████████████████████████████████████████| 960/960 [00:08<00:00, 118.47it/s]\n"
     ]
    },
    {
     "name": "stdout",
     "output_type": "stream",
     "text": [
      " Average training loss: 0.92\n"
     ]
    },
    {
     "name": "stderr",
     "output_type": "stream",
     "text": [
      "100%|████████████████████████████████████████| 120/120 [00:00<00:00, 855.01it/s]\n"
     ]
    },
    {
     "name": "stdout",
     "output_type": "stream",
     "text": [
      " Average valid loss: 1.03\n",
      "AUC_SCORE:  0.6999073788206236  acc:  0.5083333333333333 f1:  0.5426356589147285\n",
      "Test\n"
     ]
    },
    {
     "name": "stderr",
     "output_type": "stream",
     "text": [
      "100%|████████████████████████████████████████| 121/121 [00:00<00:00, 854.95it/s]\n"
     ]
    },
    {
     "name": "stdout",
     "output_type": "stream",
     "text": [
      " Average valid loss: 1.04\n",
      "AUC_SCORE:  0.711890243902439  acc:  0.5206611570247934 f1:  0.5671641791044776\n",
      "EPOCHS:39\n",
      "TRAIN\n"
     ]
    },
    {
     "name": "stderr",
     "output_type": "stream",
     "text": [
      "100%|████████████████████████████████████████| 960/960 [00:08<00:00, 118.60it/s]\n"
     ]
    },
    {
     "name": "stdout",
     "output_type": "stream",
     "text": [
      " Average training loss: 0.90\n"
     ]
    },
    {
     "name": "stderr",
     "output_type": "stream",
     "text": [
      "100%|████████████████████████████████████████| 120/120 [00:00<00:00, 884.69it/s]\n"
     ]
    },
    {
     "name": "stdout",
     "output_type": "stream",
     "text": [
      " Average valid loss: 1.03\n",
      "AUC_SCORE:  0.7008335906143872  acc:  0.5166666666666667 f1:  0.546875\n",
      "Test\n"
     ]
    },
    {
     "name": "stderr",
     "output_type": "stream",
     "text": [
      "100%|████████████████████████████████████████| 121/121 [00:00<00:00, 875.75it/s]\n"
     ]
    },
    {
     "name": "stdout",
     "output_type": "stream",
     "text": [
      " Average valid loss: 1.04\n",
      "AUC_SCORE:  0.710060975609756  acc:  0.5289256198347108 f1:  0.5714285714285715\n",
      "EPOCHS:40\n",
      "TRAIN\n"
     ]
    },
    {
     "name": "stderr",
     "output_type": "stream",
     "text": [
      "100%|████████████████████████████████████████| 960/960 [00:07<00:00, 121.56it/s]\n"
     ]
    },
    {
     "name": "stdout",
     "output_type": "stream",
     "text": [
      " Average training loss: 0.90\n"
     ]
    },
    {
     "name": "stderr",
     "output_type": "stream",
     "text": [
      "100%|████████████████████████████████████████| 120/120 [00:00<00:00, 886.62it/s]\n"
     ]
    },
    {
     "name": "stdout",
     "output_type": "stream",
     "text": [
      " Average valid loss: 1.03\n",
      "AUC_SCORE:  0.702994751466502  acc:  0.5166666666666667 f1:  0.546875\n",
      "Test\n"
     ]
    },
    {
     "name": "stderr",
     "output_type": "stream",
     "text": [
      "100%|████████████████████████████████████████| 121/121 [00:00<00:00, 880.17it/s]\n"
     ]
    },
    {
     "name": "stdout",
     "output_type": "stream",
     "text": [
      " Average valid loss: 1.05\n",
      "AUC_SCORE:  0.7085365853658536  acc:  0.5289256198347108 f1:  0.5714285714285715\n"
     ]
    },
    {
     "name": "stderr",
     "output_type": "stream",
     "text": [
      "100%|████████████████████████████████████████| 121/121 [00:00<00:00, 874.37it/s]"
     ]
    },
    {
     "name": "stdout",
     "output_type": "stream",
     "text": [
      " Average valid loss: 1.01\n",
      "AUC_SCORE:  0.7280487804878049  acc:  0.49586776859504134 f1:  0.5547445255474452\n",
      "BEST MODEL\n",
      "AUC_SCORE:  0.7280487804878049  acc:  0.49586776859504134 f1:  0.5547445255474452\n",
      "{'auc_micro': 0.7280487804878049, 'acc': 0.49586776859504134, 'f1': 0.5547445255474452, 'pred': [[1, 1, 0, 1, 0, 1, 1, 1, 1, 1], [1, 1, 1, 1, 1, 1, 0, 1, 1, 1], [1, 1, 1, 1, 0, 1, 0, 1, 1, 1], [1, 1, 0, 0, 1, 1, 1, 1, 1, 1], [1, 0, 1, 0, 1, 1, 0, 1, 0, 1], [1, 1, 1, 0, 0, 1, 1, 1, 1, 1], [1, 1, 0, 1, 1, 0, 1, 1, 1, 1], [1, 1, 1, 0, 1, 1, 1, 1, 1, 1], [0, 1, 1, 1, 1, 1, 1, 1, 1, 1], [1, 0, 0, 1, 1, 1, 1, 1, 1, 1], [0, 1, 0, 0, 1, 1, 1, 1, 1, 0], [1, 0, 1, 1, 1, 1, 1, 1, 0, 1], [1], [], [], [], [], [], [], []]}\n"
     ]
    },
    {
     "name": "stderr",
     "output_type": "stream",
     "text": [
      "\n"
     ]
    }
   ],
   "source": [
    "bert2 = BertModel().to('cuda')\n",
    "score = fit(bert2, train_data,valid_data,test_data,EPOCHS=40)\n",
    "print(score)"
   ]
  },
  {
   "cell_type": "code",
   "execution_count": 32,
   "id": "2b3df0c2",
   "metadata": {},
   "outputs": [],
   "source": [
    "path1 = 'word2vec_model_text2/'\n",
    "path2 = 'data/scriptbase/'\n",
    "filenames = os.listdir(path1)\n",
    "train_data = []\n",
    "valid_data = []\n",
    "test_data = []\n",
    "one = 0\n",
    "zero = 0\n",
    "end = torch.ones(1,1,384)\n",
    "\n",
    "for filename in filenames:\n",
    "    genres = []\n",
    "    movie_name = filename[:-14]\n",
    "    cult = 0\n",
    "    with open(path2+movie_name+'/processed/imdb_meta.txt','r') as f:\n",
    "        lines = f.readlines()\n",
    "        for line in lines:\n",
    "            if 'keyword' in line:\n",
    "                try:\n",
    "                    keyword  = line.strip().split('\\t')[1]\n",
    "                    keywords.append(keyword)\n",
    "                except:\n",
    "                    pass\n",
    "                if 'cult film'==keyword:\n",
    "                    cult = 1\n",
    "        \n",
    "    w2v=Word2Vec.load(path1 + filename)\n",
    "    base = 'scene_'\n",
    "    scene_num = 0\n",
    "    max_scene = 0\n",
    "    for node in w2v.wv.index_to_key:\n",
    "        if base in node:\n",
    "            scene_num += 1\n",
    "            if int(node[6:])>max_scene:\n",
    "                max_scene = int(node[6:])\n",
    "    embs = torch.zeros(1,scene_num+1,384)\n",
    "    k = 0\n",
    "    for i in range(1,max_scene+1):\n",
    "        emb_name = base + str(i)\n",
    "        if emb_name in w2v.wv.index_to_key:\n",
    "            emb = w2v.wv[emb_name]\n",
    "            emb = torch.from_numpy(emb)\n",
    "            embs[0][k] = emb\n",
    "            k += 1\n",
    "    embs[0][-1] = end\n",
    "        \n",
    "        \n",
    "    rand = random.randint(0,100)    \n",
    "    if movie_name in movie_split['train']:\n",
    "        train_data.append([embs, [cult]])\n",
    "    elif movie_name in movie_split['valid']:\n",
    "        valid_data.append([embs, [cult]])\n",
    "    \n",
    "    elif movie_name in movie_split['test']:\n",
    "        test_data.append([embs, [cult]])\n",
    "    \n",
    "    if cult:\n",
    "        one += 1\n",
    "    else:\n",
    "        zero += 1"
   ]
  },
  {
   "cell_type": "code",
   "execution_count": 33,
   "id": "67e3a13c",
   "metadata": {},
   "outputs": [
    {
     "name": "stdout",
     "output_type": "stream",
     "text": [
      "EPOCHS:1\n",
      "TRAIN\n"
     ]
    },
    {
     "name": "stderr",
     "output_type": "stream",
     "text": [
      "100%|████████████████████████████████████████| 960/960 [00:07<00:00, 120.61it/s]\n"
     ]
    },
    {
     "name": "stdout",
     "output_type": "stream",
     "text": [
      " Average training loss: 1.11\n"
     ]
    },
    {
     "name": "stderr",
     "output_type": "stream",
     "text": [
      "100%|████████████████████████████████████████| 120/120 [00:00<00:00, 869.54it/s]\n"
     ]
    },
    {
     "name": "stdout",
     "output_type": "stream",
     "text": [
      " Average valid loss: 1.08\n",
      "AUC_SCORE:  0.6554492127199754  acc:  0.3416666666666667 f1:  0.5093167701863354\n",
      "Test\n"
     ]
    },
    {
     "name": "stderr",
     "output_type": "stream",
     "text": [
      "100%|████████████████████████████████████████| 121/121 [00:00<00:00, 847.56it/s]\n"
     ]
    },
    {
     "name": "stdout",
     "output_type": "stream",
     "text": [
      " Average valid loss: 1.10\n",
      "AUC_SCORE:  0.5018292682926829  acc:  0.33884297520661155 f1:  0.5061728395061729\n",
      "EPOCHS:2\n",
      "TRAIN\n"
     ]
    },
    {
     "name": "stderr",
     "output_type": "stream",
     "text": [
      "100%|████████████████████████████████████████| 960/960 [00:07<00:00, 120.15it/s]\n"
     ]
    },
    {
     "name": "stdout",
     "output_type": "stream",
     "text": [
      " Average training loss: 1.09\n"
     ]
    },
    {
     "name": "stderr",
     "output_type": "stream",
     "text": [
      "100%|████████████████████████████████████████| 120/120 [00:00<00:00, 871.90it/s]\n"
     ]
    },
    {
     "name": "stdout",
     "output_type": "stream",
     "text": [
      " Average valid loss: 1.07\n",
      "AUC_SCORE:  0.6977462179685088  acc:  0.3416666666666667 f1:  0.5093167701863354\n",
      "Test\n"
     ]
    },
    {
     "name": "stderr",
     "output_type": "stream",
     "text": [
      "100%|████████████████████████████████████████| 121/121 [00:00<00:00, 863.47it/s]\n"
     ]
    },
    {
     "name": "stdout",
     "output_type": "stream",
     "text": [
      " Average valid loss: 1.08\n",
      "AUC_SCORE:  0.6341463414634145  acc:  0.33884297520661155 f1:  0.5061728395061729\n",
      "EPOCHS:3\n",
      "TRAIN\n"
     ]
    },
    {
     "name": "stderr",
     "output_type": "stream",
     "text": [
      "100%|████████████████████████████████████████| 960/960 [00:08<00:00, 119.64it/s]\n"
     ]
    },
    {
     "name": "stdout",
     "output_type": "stream",
     "text": [
      " Average training loss: 1.09\n"
     ]
    },
    {
     "name": "stderr",
     "output_type": "stream",
     "text": [
      "100%|████████████████████████████████████████| 120/120 [00:00<00:00, 867.80it/s]\n"
     ]
    },
    {
     "name": "stdout",
     "output_type": "stream",
     "text": [
      " Average valid loss: 1.06\n",
      "AUC_SCORE:  0.7073170731707317  acc:  0.3416666666666667 f1:  0.5093167701863354\n",
      "Test\n"
     ]
    },
    {
     "name": "stderr",
     "output_type": "stream",
     "text": [
      "100%|████████████████████████████████████████| 121/121 [00:00<00:00, 862.02it/s]\n"
     ]
    },
    {
     "name": "stdout",
     "output_type": "stream",
     "text": [
      " Average valid loss: 1.07\n",
      "AUC_SCORE:  0.6865853658536586  acc:  0.33884297520661155 f1:  0.5061728395061729\n",
      "EPOCHS:4\n",
      "TRAIN\n"
     ]
    },
    {
     "name": "stderr",
     "output_type": "stream",
     "text": [
      "100%|████████████████████████████████████████| 960/960 [00:08<00:00, 119.71it/s]\n"
     ]
    },
    {
     "name": "stdout",
     "output_type": "stream",
     "text": [
      " Average training loss: 1.07\n"
     ]
    },
    {
     "name": "stderr",
     "output_type": "stream",
     "text": [
      "100%|████████████████████████████████████████| 120/120 [00:00<00:00, 875.07it/s]\n"
     ]
    },
    {
     "name": "stdout",
     "output_type": "stream",
     "text": [
      " Average valid loss: 1.06\n",
      "AUC_SCORE:  0.6965112689101574  acc:  0.35 f1:  0.5125\n",
      "3  EPOCH BEST MODEL!\n",
      "Test\n"
     ]
    },
    {
     "name": "stderr",
     "output_type": "stream",
     "text": [
      "100%|████████████████████████████████████████| 121/121 [00:00<00:00, 859.39it/s]\n"
     ]
    },
    {
     "name": "stdout",
     "output_type": "stream",
     "text": [
      " Average valid loss: 1.06\n",
      "AUC_SCORE:  0.6987804878048781  acc:  0.33884297520661155 f1:  0.5061728395061729\n",
      "EPOCHS:5\n",
      "TRAIN\n"
     ]
    },
    {
     "name": "stderr",
     "output_type": "stream",
     "text": [
      "100%|████████████████████████████████████████| 960/960 [00:07<00:00, 120.11it/s]\n"
     ]
    },
    {
     "name": "stdout",
     "output_type": "stream",
     "text": [
      " Average training loss: 1.06\n"
     ]
    },
    {
     "name": "stderr",
     "output_type": "stream",
     "text": [
      "100%|████████████████████████████████████████| 120/120 [00:00<00:00, 875.11it/s]\n"
     ]
    },
    {
     "name": "stdout",
     "output_type": "stream",
     "text": [
      " Average valid loss: 1.05\n",
      "AUC_SCORE:  0.6924976844705156  acc:  0.36666666666666664 f1:  0.5189873417721518\n",
      "4  EPOCH BEST MODEL!\n",
      "Test\n"
     ]
    },
    {
     "name": "stderr",
     "output_type": "stream",
     "text": [
      "100%|████████████████████████████████████████| 121/121 [00:00<00:00, 840.25it/s]\n"
     ]
    },
    {
     "name": "stdout",
     "output_type": "stream",
     "text": [
      " Average valid loss: 1.05\n",
      "AUC_SCORE:  0.7015243902439025  acc:  0.34710743801652894 f1:  0.5093167701863354\n",
      "EPOCHS:6\n",
      "TRAIN\n"
     ]
    },
    {
     "name": "stderr",
     "output_type": "stream",
     "text": [
      "100%|████████████████████████████████████████| 960/960 [00:08<00:00, 119.90it/s]\n"
     ]
    },
    {
     "name": "stdout",
     "output_type": "stream",
     "text": [
      " Average training loss: 1.05\n"
     ]
    },
    {
     "name": "stderr",
     "output_type": "stream",
     "text": [
      "100%|████████████████████████████████████████| 120/120 [00:00<00:00, 880.65it/s]\n"
     ]
    },
    {
     "name": "stdout",
     "output_type": "stream",
     "text": [
      " Average valid loss: 1.04\n",
      "AUC_SCORE:  0.6884841000308738  acc:  0.36666666666666664 f1:  0.5189873417721518\n",
      "Test\n"
     ]
    },
    {
     "name": "stderr",
     "output_type": "stream",
     "text": [
      "100%|████████████████████████████████████████| 121/121 [00:00<00:00, 860.00it/s]\n"
     ]
    },
    {
     "name": "stdout",
     "output_type": "stream",
     "text": [
      " Average valid loss: 1.04\n",
      "AUC_SCORE:  0.7039634146341465  acc:  0.33884297520661155 f1:  0.5\n",
      "EPOCHS:7\n",
      "TRAIN\n"
     ]
    },
    {
     "name": "stderr",
     "output_type": "stream",
     "text": [
      "100%|████████████████████████████████████████| 960/960 [00:08<00:00, 119.44it/s]\n"
     ]
    },
    {
     "name": "stdout",
     "output_type": "stream",
     "text": [
      " Average training loss: 1.05\n"
     ]
    },
    {
     "name": "stderr",
     "output_type": "stream",
     "text": [
      "100%|████████████████████████████████████████| 120/120 [00:00<00:00, 884.74it/s]\n"
     ]
    },
    {
     "name": "stdout",
     "output_type": "stream",
     "text": [
      " Average valid loss: 1.04\n",
      "AUC_SCORE:  0.6853967273849954  acc:  0.4 f1:  0.5324675324675325\n",
      "6  EPOCH BEST MODEL!\n",
      "Test\n"
     ]
    },
    {
     "name": "stderr",
     "output_type": "stream",
     "text": [
      "100%|████████████████████████████████████████| 121/121 [00:00<00:00, 873.18it/s]\n"
     ]
    },
    {
     "name": "stdout",
     "output_type": "stream",
     "text": [
      " Average valid loss: 1.03\n",
      "AUC_SCORE:  0.7057926829268293  acc:  0.36363636363636365 f1:  0.5095541401273885\n",
      "EPOCHS:8\n",
      "TRAIN\n"
     ]
    },
    {
     "name": "stderr",
     "output_type": "stream",
     "text": [
      "100%|████████████████████████████████████████| 960/960 [00:07<00:00, 120.97it/s]\n"
     ]
    },
    {
     "name": "stdout",
     "output_type": "stream",
     "text": [
      " Average training loss: 1.04\n"
     ]
    },
    {
     "name": "stderr",
     "output_type": "stream",
     "text": [
      "100%|████████████████████████████████████████| 120/120 [00:00<00:00, 872.42it/s]\n"
     ]
    },
    {
     "name": "stdout",
     "output_type": "stream",
     "text": [
      " Average valid loss: 1.03\n",
      "AUC_SCORE:  0.6838530410620562  acc:  0.4166666666666667 f1:  0.5394736842105263\n",
      "7  EPOCH BEST MODEL!\n",
      "Test\n"
     ]
    },
    {
     "name": "stderr",
     "output_type": "stream",
     "text": [
      "100%|████████████████████████████████████████| 121/121 [00:00<00:00, 861.75it/s]\n"
     ]
    },
    {
     "name": "stdout",
     "output_type": "stream",
     "text": [
      " Average valid loss: 1.03\n",
      "AUC_SCORE:  0.7070121951219512  acc:  0.371900826446281 f1:  0.5064935064935066\n",
      "EPOCHS:9\n",
      "TRAIN\n"
     ]
    },
    {
     "name": "stderr",
     "output_type": "stream",
     "text": [
      "100%|████████████████████████████████████████| 960/960 [00:07<00:00, 120.98it/s]\n"
     ]
    },
    {
     "name": "stdout",
     "output_type": "stream",
     "text": [
      " Average training loss: 1.04\n"
     ]
    },
    {
     "name": "stderr",
     "output_type": "stream",
     "text": [
      "100%|████████████████████████████████████████| 120/120 [00:00<00:00, 889.23it/s]\n"
     ]
    },
    {
     "name": "stdout",
     "output_type": "stream",
     "text": [
      " Average valid loss: 1.03\n",
      "AUC_SCORE:  0.6816918802099413  acc:  0.4166666666666667 f1:  0.5333333333333333\n",
      "Test\n"
     ]
    },
    {
     "name": "stderr",
     "output_type": "stream",
     "text": [
      "100%|████████████████████████████████████████| 121/121 [00:00<00:00, 874.75it/s]\n"
     ]
    },
    {
     "name": "stdout",
     "output_type": "stream",
     "text": [
      " Average valid loss: 1.03\n",
      "AUC_SCORE:  0.7082317073170732  acc:  0.371900826446281 f1:  0.5064935064935066\n",
      "EPOCHS:10\n",
      "TRAIN\n"
     ]
    },
    {
     "name": "stderr",
     "output_type": "stream",
     "text": [
      "100%|████████████████████████████████████████| 960/960 [00:07<00:00, 121.71it/s]\n"
     ]
    },
    {
     "name": "stdout",
     "output_type": "stream",
     "text": [
      " Average training loss: 1.03\n"
     ]
    },
    {
     "name": "stderr",
     "output_type": "stream",
     "text": [
      "100%|████████████████████████████████████████| 120/120 [00:00<00:00, 881.18it/s]\n"
     ]
    },
    {
     "name": "stdout",
     "output_type": "stream",
     "text": [
      " Average valid loss: 1.02\n",
      "AUC_SCORE:  0.6829268292682926  acc:  0.4666666666666667 f1:  0.5555555555555556\n",
      "9  EPOCH BEST MODEL!\n",
      "Test\n"
     ]
    },
    {
     "name": "stderr",
     "output_type": "stream",
     "text": [
      "100%|████████████████████████████████████████| 121/121 [00:00<00:00, 834.07it/s]\n"
     ]
    },
    {
     "name": "stdout",
     "output_type": "stream",
     "text": [
      " Average valid loss: 1.02\n",
      "AUC_SCORE:  0.7103658536585367  acc:  0.38016528925619836 f1:  0.5098039215686275\n",
      "EPOCHS:11\n",
      "TRAIN\n"
     ]
    },
    {
     "name": "stderr",
     "output_type": "stream",
     "text": [
      "100%|████████████████████████████████████████| 960/960 [00:07<00:00, 120.86it/s]\n"
     ]
    },
    {
     "name": "stdout",
     "output_type": "stream",
     "text": [
      " Average training loss: 1.01\n"
     ]
    },
    {
     "name": "stderr",
     "output_type": "stream",
     "text": [
      "100%|████████████████████████████████████████| 120/120 [00:00<00:00, 881.02it/s]\n"
     ]
    },
    {
     "name": "stdout",
     "output_type": "stream",
     "text": [
      " Average valid loss: 1.02\n",
      "AUC_SCORE:  0.6838530410620562  acc:  0.4666666666666667 f1:  0.5492957746478874\n",
      "Test\n"
     ]
    },
    {
     "name": "stderr",
     "output_type": "stream",
     "text": [
      "100%|████████████████████████████████████████| 121/121 [00:00<00:00, 872.38it/s]\n"
     ]
    },
    {
     "name": "stdout",
     "output_type": "stream",
     "text": [
      " Average valid loss: 1.02\n",
      "AUC_SCORE:  0.7079268292682928  acc:  0.4132231404958678 f1:  0.523489932885906\n",
      "EPOCHS:12\n",
      "TRAIN\n"
     ]
    },
    {
     "name": "stderr",
     "output_type": "stream",
     "text": [
      "100%|████████████████████████████████████████| 960/960 [00:07<00:00, 121.23it/s]\n"
     ]
    },
    {
     "name": "stdout",
     "output_type": "stream",
     "text": [
      " Average training loss: 1.02\n"
     ]
    },
    {
     "name": "stderr",
     "output_type": "stream",
     "text": [
      "100%|████████████████████████████████████████| 120/120 [00:00<00:00, 884.65it/s]\n"
     ]
    },
    {
     "name": "stdout",
     "output_type": "stream",
     "text": [
      " Average valid loss: 1.01\n",
      "AUC_SCORE:  0.6857054646495833  acc:  0.4666666666666667 f1:  0.5492957746478874\n",
      "Test\n"
     ]
    },
    {
     "name": "stderr",
     "output_type": "stream",
     "text": [
      "100%|████████████████████████████████████████| 121/121 [00:00<00:00, 878.34it/s]\n"
     ]
    },
    {
     "name": "stdout",
     "output_type": "stream",
     "text": [
      " Average valid loss: 1.01\n",
      "AUC_SCORE:  0.708841463414634  acc:  0.4132231404958678 f1:  0.523489932885906\n",
      "EPOCHS:13\n",
      "TRAIN\n"
     ]
    },
    {
     "name": "stderr",
     "output_type": "stream",
     "text": [
      "100%|████████████████████████████████████████| 960/960 [00:07<00:00, 120.91it/s]\n"
     ]
    },
    {
     "name": "stdout",
     "output_type": "stream",
     "text": [
      " Average training loss: 1.02\n"
     ]
    },
    {
     "name": "stderr",
     "output_type": "stream",
     "text": [
      "100%|████████████████████████████████████████| 120/120 [00:00<00:00, 889.27it/s]\n"
     ]
    },
    {
     "name": "stdout",
     "output_type": "stream",
     "text": [
      " Average valid loss: 1.01\n",
      "AUC_SCORE:  0.6869404137079346  acc:  0.48333333333333334 f1:  0.5507246376811594\n",
      "Test\n"
     ]
    },
    {
     "name": "stderr",
     "output_type": "stream",
     "text": [
      "100%|████████████████████████████████████████| 121/121 [00:00<00:00, 878.27it/s]\n"
     ]
    },
    {
     "name": "stdout",
     "output_type": "stream",
     "text": [
      " Average valid loss: 1.01\n",
      "AUC_SCORE:  0.7137195121951221  acc:  0.4132231404958678 f1:  0.523489932885906\n",
      "EPOCHS:14\n",
      "TRAIN\n"
     ]
    },
    {
     "name": "stderr",
     "output_type": "stream",
     "text": [
      "100%|████████████████████████████████████████| 960/960 [00:07<00:00, 121.35it/s]\n"
     ]
    },
    {
     "name": "stdout",
     "output_type": "stream",
     "text": [
      " Average training loss: 1.00\n"
     ]
    },
    {
     "name": "stderr",
     "output_type": "stream",
     "text": [
      "100%|████████████████████████████████████████| 120/120 [00:00<00:00, 887.54it/s]\n"
     ]
    },
    {
     "name": "stdout",
     "output_type": "stream",
     "text": [
      " Average valid loss: 1.01\n",
      "AUC_SCORE:  0.6891015745600495  acc:  0.5083333333333333 f1:  0.562962962962963\n",
      "13  EPOCH BEST MODEL!\n",
      "Test\n"
     ]
    },
    {
     "name": "stderr",
     "output_type": "stream",
     "text": [
      "100%|████████████████████████████████████████| 121/121 [00:00<00:00, 878.81it/s]\n"
     ]
    },
    {
     "name": "stdout",
     "output_type": "stream",
     "text": [
      " Average valid loss: 1.01\n",
      "AUC_SCORE:  0.7140243902439024  acc:  0.4297520661157025 f1:  0.5306122448979591\n",
      "EPOCHS:15\n",
      "TRAIN\n"
     ]
    },
    {
     "name": "stderr",
     "output_type": "stream",
     "text": [
      "100%|████████████████████████████████████████| 960/960 [00:07<00:00, 120.81it/s]\n"
     ]
    },
    {
     "name": "stdout",
     "output_type": "stream",
     "text": [
      " Average training loss: 1.00\n"
     ]
    },
    {
     "name": "stderr",
     "output_type": "stream",
     "text": [
      "100%|████████████████████████████████████████| 120/120 [00:00<00:00, 883.37it/s]\n"
     ]
    },
    {
     "name": "stdout",
     "output_type": "stream",
     "text": [
      " Average valid loss: 1.00\n",
      "AUC_SCORE:  0.6931151589996913  acc:  0.5083333333333333 f1:  0.556390977443609\n",
      "Test\n"
     ]
    },
    {
     "name": "stderr",
     "output_type": "stream",
     "text": [
      "100%|████████████████████████████████████████| 121/121 [00:00<00:00, 873.46it/s]\n"
     ]
    },
    {
     "name": "stdout",
     "output_type": "stream",
     "text": [
      " Average valid loss: 1.01\n",
      "AUC_SCORE:  0.7146341463414634  acc:  0.4462809917355372 f1:  0.5379310344827586\n",
      "EPOCHS:16\n",
      "TRAIN\n"
     ]
    },
    {
     "name": "stderr",
     "output_type": "stream",
     "text": [
      "100%|████████████████████████████████████████| 960/960 [00:07<00:00, 120.66it/s]\n"
     ]
    },
    {
     "name": "stdout",
     "output_type": "stream",
     "text": [
      " Average training loss: 0.99\n"
     ]
    },
    {
     "name": "stderr",
     "output_type": "stream",
     "text": [
      "100%|████████████████████████████████████████| 120/120 [00:00<00:00, 790.87it/s]\n"
     ]
    },
    {
     "name": "stdout",
     "output_type": "stream",
     "text": [
      " Average valid loss: 1.00\n",
      "AUC_SCORE:  0.6962025316455697  acc:  0.5416666666666666 f1:  0.5736434108527132\n",
      "15  EPOCH BEST MODEL!\n",
      "Test\n"
     ]
    },
    {
     "name": "stderr",
     "output_type": "stream",
     "text": [
      "100%|████████████████████████████████████████| 121/121 [00:00<00:00, 829.46it/s]\n"
     ]
    },
    {
     "name": "stdout",
     "output_type": "stream",
     "text": [
      " Average valid loss: 1.01\n",
      "AUC_SCORE:  0.7140243902439025  acc:  0.47107438016528924 f1:  0.5492957746478874\n",
      "EPOCHS:17\n",
      "TRAIN\n"
     ]
    },
    {
     "name": "stderr",
     "output_type": "stream",
     "text": [
      "100%|████████████████████████████████████████| 960/960 [00:07<00:00, 120.01it/s]\n"
     ]
    },
    {
     "name": "stdout",
     "output_type": "stream",
     "text": [
      " Average training loss: 0.99\n"
     ]
    },
    {
     "name": "stderr",
     "output_type": "stream",
     "text": [
      "100%|████████████████████████████████████████| 120/120 [00:00<00:00, 876.92it/s]\n"
     ]
    },
    {
     "name": "stdout",
     "output_type": "stream",
     "text": [
      " Average valid loss: 1.00\n",
      "AUC_SCORE:  0.699289904291448  acc:  0.5333333333333333 f1:  0.5692307692307692\n",
      "Test\n"
     ]
    },
    {
     "name": "stderr",
     "output_type": "stream",
     "text": [
      "100%|████████████████████████████████████████| 121/121 [00:00<00:00, 863.94it/s]\n"
     ]
    },
    {
     "name": "stdout",
     "output_type": "stream",
     "text": [
      " Average valid loss: 1.01\n",
      "AUC_SCORE:  0.7152439024390244  acc:  0.4628099173553719 f1:  0.5454545454545454\n",
      "EPOCHS:18\n",
      "TRAIN\n"
     ]
    },
    {
     "name": "stderr",
     "output_type": "stream",
     "text": [
      "100%|████████████████████████████████████████| 960/960 [00:08<00:00, 119.27it/s]\n"
     ]
    },
    {
     "name": "stdout",
     "output_type": "stream",
     "text": [
      " Average training loss: 0.99\n"
     ]
    },
    {
     "name": "stderr",
     "output_type": "stream",
     "text": [
      "100%|████████████████████████████████████████| 120/120 [00:00<00:00, 877.95it/s]\n"
     ]
    },
    {
     "name": "stdout",
     "output_type": "stream",
     "text": [
      " Average valid loss: 1.00\n",
      "AUC_SCORE:  0.7014510651435628  acc:  0.55 f1:  0.578125\n",
      "17  EPOCH BEST MODEL!\n",
      "Test\n"
     ]
    },
    {
     "name": "stderr",
     "output_type": "stream",
     "text": [
      "100%|████████████████████████████████████████| 121/121 [00:00<00:00, 868.53it/s]\n"
     ]
    },
    {
     "name": "stdout",
     "output_type": "stream",
     "text": [
      " Average valid loss: 1.01\n",
      "AUC_SCORE:  0.7161585365853659  acc:  0.47107438016528924 f1:  0.5492957746478874\n",
      "EPOCHS:19\n",
      "TRAIN\n"
     ]
    },
    {
     "name": "stderr",
     "output_type": "stream",
     "text": [
      "100%|████████████████████████████████████████| 960/960 [00:08<00:00, 119.42it/s]\n"
     ]
    },
    {
     "name": "stdout",
     "output_type": "stream",
     "text": [
      " Average training loss: 0.98\n"
     ]
    },
    {
     "name": "stderr",
     "output_type": "stream",
     "text": [
      "100%|████████████████████████████████████████| 120/120 [00:00<00:00, 886.43it/s]"
     ]
    },
    {
     "name": "stdout",
     "output_type": "stream",
     "text": [
      " Average valid loss: 0.99\n",
      "AUC_SCORE:  0.7023772769373263  acc:  0.5583333333333333 f1:  0.5826771653543307\n",
      "18  EPOCH BEST MODEL!\n"
     ]
    },
    {
     "name": "stderr",
     "output_type": "stream",
     "text": [
      "\n"
     ]
    },
    {
     "name": "stdout",
     "output_type": "stream",
     "text": [
      "Test\n"
     ]
    },
    {
     "name": "stderr",
     "output_type": "stream",
     "text": [
      "100%|████████████████████████████████████████| 121/121 [00:00<00:00, 837.83it/s]\n"
     ]
    },
    {
     "name": "stdout",
     "output_type": "stream",
     "text": [
      " Average valid loss: 1.01\n",
      "AUC_SCORE:  0.7161585365853659  acc:  0.4793388429752066 f1:  0.553191489361702\n",
      "EPOCHS:20\n",
      "TRAIN\n"
     ]
    },
    {
     "name": "stderr",
     "output_type": "stream",
     "text": [
      "100%|████████████████████████████████████████| 960/960 [00:07<00:00, 121.27it/s]\n"
     ]
    },
    {
     "name": "stdout",
     "output_type": "stream",
     "text": [
      " Average training loss: 0.98\n"
     ]
    },
    {
     "name": "stderr",
     "output_type": "stream",
     "text": [
      "100%|████████████████████████████████████████| 120/120 [00:00<00:00, 879.17it/s]\n"
     ]
    },
    {
     "name": "stdout",
     "output_type": "stream",
     "text": [
      " Average valid loss: 0.99\n",
      "AUC_SCORE:  0.7039209632602654  acc:  0.5416666666666666 f1:  0.5669291338582677\n",
      "Test\n"
     ]
    },
    {
     "name": "stderr",
     "output_type": "stream",
     "text": [
      "100%|████████████████████████████████████████| 121/121 [00:00<00:00, 864.05it/s]\n"
     ]
    },
    {
     "name": "stdout",
     "output_type": "stream",
     "text": [
      " Average valid loss: 1.02\n",
      "AUC_SCORE:  0.7167682926829269  acc:  0.4793388429752066 f1:  0.553191489361702\n",
      "EPOCHS:21\n",
      "TRAIN\n"
     ]
    },
    {
     "name": "stderr",
     "output_type": "stream",
     "text": [
      "100%|████████████████████████████████████████| 960/960 [00:08<00:00, 119.70it/s]\n"
     ]
    },
    {
     "name": "stdout",
     "output_type": "stream",
     "text": [
      " Average training loss: 0.97\n"
     ]
    },
    {
     "name": "stderr",
     "output_type": "stream",
     "text": [
      "100%|████████████████████████████████████████| 120/120 [00:00<00:00, 875.51it/s]\n"
     ]
    },
    {
     "name": "stdout",
     "output_type": "stream",
     "text": [
      " Average valid loss: 0.99\n",
      "AUC_SCORE:  0.7057733868477924  acc:  0.5583333333333333 f1:  0.576\n",
      "Test\n"
     ]
    },
    {
     "name": "stderr",
     "output_type": "stream",
     "text": [
      "100%|████████████████████████████████████████| 121/121 [00:00<00:00, 865.77it/s]\n"
     ]
    },
    {
     "name": "stdout",
     "output_type": "stream",
     "text": [
      " Average valid loss: 1.02\n",
      "AUC_SCORE:  0.714329268292683  acc:  0.48760330578512395 f1:  0.557142857142857\n",
      "EPOCHS:22\n",
      "TRAIN\n"
     ]
    },
    {
     "name": "stderr",
     "output_type": "stream",
     "text": [
      "100%|████████████████████████████████████████| 960/960 [00:08<00:00, 119.14it/s]\n"
     ]
    },
    {
     "name": "stdout",
     "output_type": "stream",
     "text": [
      " Average training loss: 0.97\n"
     ]
    },
    {
     "name": "stderr",
     "output_type": "stream",
     "text": [
      "100%|████████████████████████████████████████| 120/120 [00:00<00:00, 885.36it/s]\n"
     ]
    },
    {
     "name": "stdout",
     "output_type": "stream",
     "text": [
      " Average valid loss: 0.99\n",
      "AUC_SCORE:  0.7097869712874344  acc:  0.5666666666666667 f1:  0.5806451612903226\n",
      "Test\n"
     ]
    },
    {
     "name": "stderr",
     "output_type": "stream",
     "text": [
      "100%|████████████████████████████████████████| 121/121 [00:00<00:00, 873.65it/s]\n"
     ]
    },
    {
     "name": "stdout",
     "output_type": "stream",
     "text": [
      " Average valid loss: 1.02\n",
      "AUC_SCORE:  0.7106707317073171  acc:  0.48760330578512395 f1:  0.557142857142857\n",
      "EPOCHS:23\n",
      "TRAIN\n"
     ]
    },
    {
     "name": "stderr",
     "output_type": "stream",
     "text": [
      "100%|████████████████████████████████████████| 960/960 [00:07<00:00, 123.18it/s]\n"
     ]
    },
    {
     "name": "stdout",
     "output_type": "stream",
     "text": [
      " Average training loss: 0.95\n"
     ]
    },
    {
     "name": "stderr",
     "output_type": "stream",
     "text": [
      "100%|████████████████████████████████████████| 120/120 [00:00<00:00, 886.29it/s]\n"
     ]
    },
    {
     "name": "stdout",
     "output_type": "stream",
     "text": [
      " Average valid loss: 0.99\n",
      "AUC_SCORE:  0.7122568694041371  acc:  0.5666666666666667 f1:  0.5806451612903226\n",
      "Test\n"
     ]
    },
    {
     "name": "stderr",
     "output_type": "stream",
     "text": [
      "100%|████████████████████████████████████████| 121/121 [00:00<00:00, 872.38it/s]\n"
     ]
    },
    {
     "name": "stdout",
     "output_type": "stream",
     "text": [
      " Average valid loss: 1.03\n",
      "AUC_SCORE:  0.7103658536585366  acc:  0.48760330578512395 f1:  0.557142857142857\n",
      "EPOCHS:24\n",
      "TRAIN\n"
     ]
    },
    {
     "name": "stderr",
     "output_type": "stream",
     "text": [
      "100%|████████████████████████████████████████| 960/960 [00:07<00:00, 120.37it/s]\n"
     ]
    },
    {
     "name": "stdout",
     "output_type": "stream",
     "text": [
      " Average training loss: 0.96\n"
     ]
    },
    {
     "name": "stderr",
     "output_type": "stream",
     "text": [
      "100%|████████████████████████████████████████| 120/120 [00:00<00:00, 876.04it/s]\n"
     ]
    },
    {
     "name": "stdout",
     "output_type": "stream",
     "text": [
      " Average valid loss: 0.98\n",
      "AUC_SCORE:  0.716270453843779  acc:  0.575 f1:  0.5853658536585366\n",
      "23  EPOCH BEST MODEL!\n",
      "Test\n"
     ]
    },
    {
     "name": "stderr",
     "output_type": "stream",
     "text": [
      "100%|████████████████████████████████████████| 121/121 [00:00<00:00, 866.75it/s]\n"
     ]
    },
    {
     "name": "stdout",
     "output_type": "stream",
     "text": [
      " Average valid loss: 1.03\n",
      "AUC_SCORE:  0.7094512195121951  acc:  0.48760330578512395 f1:  0.5507246376811594\n",
      "EPOCHS:25\n",
      "TRAIN\n"
     ]
    },
    {
     "name": "stderr",
     "output_type": "stream",
     "text": [
      "100%|████████████████████████████████████████| 960/960 [00:08<00:00, 119.30it/s]\n"
     ]
    },
    {
     "name": "stdout",
     "output_type": "stream",
     "text": [
      " Average training loss: 0.95\n"
     ]
    },
    {
     "name": "stderr",
     "output_type": "stream",
     "text": [
      "100%|████████████████████████████████████████| 120/120 [00:00<00:00, 873.36it/s]\n"
     ]
    },
    {
     "name": "stdout",
     "output_type": "stream",
     "text": [
      " Average valid loss: 0.98\n",
      "AUC_SCORE:  0.7175054029021303  acc:  0.5666666666666667 f1:  0.5737704918032787\n",
      "Test\n"
     ]
    },
    {
     "name": "stderr",
     "output_type": "stream",
     "text": [
      "100%|████████████████████████████████████████| 121/121 [00:00<00:00, 864.60it/s]\n"
     ]
    },
    {
     "name": "stdout",
     "output_type": "stream",
     "text": [
      " Average valid loss: 1.03\n",
      "AUC_SCORE:  0.7085365853658536  acc:  0.5206611570247934 f1:  0.5671641791044776\n",
      "EPOCHS:26\n",
      "TRAIN\n"
     ]
    },
    {
     "name": "stderr",
     "output_type": "stream",
     "text": [
      "100%|████████████████████████████████████████| 960/960 [00:08<00:00, 118.68it/s]\n"
     ]
    },
    {
     "name": "stdout",
     "output_type": "stream",
     "text": [
      " Average training loss: 0.95\n"
     ]
    },
    {
     "name": "stderr",
     "output_type": "stream",
     "text": [
      "100%|████████████████████████████████████████| 120/120 [00:00<00:00, 875.83it/s]\n"
     ]
    },
    {
     "name": "stdout",
     "output_type": "stream",
     "text": [
      " Average valid loss: 0.98\n",
      "AUC_SCORE:  0.7196665637542451  acc:  0.575 f1:  0.5853658536585366\n",
      "Test\n"
     ]
    },
    {
     "name": "stderr",
     "output_type": "stream",
     "text": [
      "100%|████████████████████████████████████████| 121/121 [00:00<00:00, 864.02it/s]\n"
     ]
    },
    {
     "name": "stdout",
     "output_type": "stream",
     "text": [
      " Average valid loss: 1.04\n",
      "AUC_SCORE:  0.7039634146341462  acc:  0.5206611570247934 f1:  0.5671641791044776\n",
      "EPOCHS:27\n",
      "TRAIN\n"
     ]
    },
    {
     "name": "stderr",
     "output_type": "stream",
     "text": [
      "100%|████████████████████████████████████████| 960/960 [00:07<00:00, 120.89it/s]\n"
     ]
    },
    {
     "name": "stdout",
     "output_type": "stream",
     "text": [
      " Average training loss: 0.94\n"
     ]
    },
    {
     "name": "stderr",
     "output_type": "stream",
     "text": [
      "100%|████████████████████████████████████████| 120/120 [00:00<00:00, 884.73it/s]\n"
     ]
    },
    {
     "name": "stdout",
     "output_type": "stream",
     "text": [
      " Average valid loss: 0.98\n",
      "AUC_SCORE:  0.7196665637542451  acc:  0.575 f1:  0.5853658536585366\n",
      "Test\n"
     ]
    },
    {
     "name": "stderr",
     "output_type": "stream",
     "text": [
      "100%|████████████████████████████████████████| 121/121 [00:00<00:00, 874.39it/s]\n"
     ]
    },
    {
     "name": "stdout",
     "output_type": "stream",
     "text": [
      " Average valid loss: 1.04\n",
      "AUC_SCORE:  0.7021341463414634  acc:  0.512396694214876 f1:  0.562962962962963\n",
      "EPOCHS:28\n",
      "TRAIN\n"
     ]
    },
    {
     "name": "stderr",
     "output_type": "stream",
     "text": [
      "100%|████████████████████████████████████████| 960/960 [00:07<00:00, 121.21it/s]\n"
     ]
    },
    {
     "name": "stdout",
     "output_type": "stream",
     "text": [
      " Average training loss: 0.93\n"
     ]
    },
    {
     "name": "stderr",
     "output_type": "stream",
     "text": [
      "100%|████████████████████████████████████████| 120/120 [00:00<00:00, 887.54it/s]\n"
     ]
    },
    {
     "name": "stdout",
     "output_type": "stream",
     "text": [
      " Average valid loss: 0.98\n",
      "AUC_SCORE:  0.7236801481938869  acc:  0.5666666666666667 f1:  0.5737704918032787\n",
      "Test\n"
     ]
    },
    {
     "name": "stderr",
     "output_type": "stream",
     "text": [
      "100%|████████████████████████████████████████| 121/121 [00:00<00:00, 880.09it/s]\n"
     ]
    },
    {
     "name": "stdout",
     "output_type": "stream",
     "text": [
      " Average valid loss: 1.04\n",
      "AUC_SCORE:  0.698780487804878  acc:  0.5206611570247934 f1:  0.5671641791044776\n",
      "EPOCHS:29\n",
      "TRAIN\n"
     ]
    },
    {
     "name": "stderr",
     "output_type": "stream",
     "text": [
      "100%|████████████████████████████████████████| 960/960 [00:08<00:00, 119.91it/s]\n"
     ]
    },
    {
     "name": "stdout",
     "output_type": "stream",
     "text": [
      " Average training loss: 0.94\n"
     ]
    },
    {
     "name": "stderr",
     "output_type": "stream",
     "text": [
      "100%|████████████████████████████████████████| 120/120 [00:00<00:00, 885.07it/s]\n"
     ]
    },
    {
     "name": "stdout",
     "output_type": "stream",
     "text": [
      " Average valid loss: 0.98\n",
      "AUC_SCORE:  0.7276937326335289  acc:  0.575 f1:  0.5853658536585366\n",
      "Test\n"
     ]
    },
    {
     "name": "stderr",
     "output_type": "stream",
     "text": [
      "100%|████████████████████████████████████████| 121/121 [00:00<00:00, 876.09it/s]\n"
     ]
    },
    {
     "name": "stdout",
     "output_type": "stream",
     "text": [
      " Average valid loss: 1.05\n",
      "AUC_SCORE:  0.697560975609756  acc:  0.5206611570247934 f1:  0.5671641791044776\n",
      "EPOCHS:30\n",
      "TRAIN\n"
     ]
    },
    {
     "name": "stderr",
     "output_type": "stream",
     "text": [
      "100%|████████████████████████████████████████| 960/960 [00:07<00:00, 121.17it/s]\n"
     ]
    },
    {
     "name": "stdout",
     "output_type": "stream",
     "text": [
      " Average training loss: 0.93\n"
     ]
    },
    {
     "name": "stderr",
     "output_type": "stream",
     "text": [
      "100%|████████████████████████████████████████| 120/120 [00:00<00:00, 885.03it/s]\n"
     ]
    },
    {
     "name": "stdout",
     "output_type": "stream",
     "text": [
      " Average valid loss: 0.98\n",
      "AUC_SCORE:  0.7298548934856437  acc:  0.575 f1:  0.5853658536585366\n",
      "Test\n"
     ]
    },
    {
     "name": "stderr",
     "output_type": "stream",
     "text": [
      "100%|████████████████████████████████████████| 121/121 [00:00<00:00, 875.32it/s]\n"
     ]
    },
    {
     "name": "stdout",
     "output_type": "stream",
     "text": [
      " Average valid loss: 1.05\n",
      "AUC_SCORE:  0.6957317073170732  acc:  0.512396694214876 f1:  0.562962962962963\n",
      "EPOCHS:31\n",
      "TRAIN\n"
     ]
    },
    {
     "name": "stderr",
     "output_type": "stream",
     "text": [
      "100%|████████████████████████████████████████| 960/960 [00:08<00:00, 118.14it/s]\n"
     ]
    },
    {
     "name": "stdout",
     "output_type": "stream",
     "text": [
      " Average training loss: 0.93\n"
     ]
    },
    {
     "name": "stderr",
     "output_type": "stream",
     "text": [
      "100%|████████████████████████████████████████| 120/120 [00:00<00:00, 872.09it/s]\n"
     ]
    },
    {
     "name": "stdout",
     "output_type": "stream",
     "text": [
      " Average valid loss: 0.97\n",
      "AUC_SCORE:  0.7320160543377585  acc:  0.5833333333333334 f1:  0.5901639344262294\n",
      "30  EPOCH BEST MODEL!\n",
      "Test\n"
     ]
    },
    {
     "name": "stderr",
     "output_type": "stream",
     "text": [
      "100%|████████████████████████████████████████| 121/121 [00:00<00:00, 839.54it/s]\n"
     ]
    },
    {
     "name": "stdout",
     "output_type": "stream",
     "text": [
      " Average valid loss: 1.06\n",
      "AUC_SCORE:  0.6948170731707317  acc:  0.5206611570247934 f1:  0.5671641791044776\n",
      "EPOCHS:32\n",
      "TRAIN\n"
     ]
    },
    {
     "name": "stderr",
     "output_type": "stream",
     "text": [
      "100%|████████████████████████████████████████| 960/960 [00:08<00:00, 119.53it/s]\n"
     ]
    },
    {
     "name": "stdout",
     "output_type": "stream",
     "text": [
      " Average training loss: 0.93\n"
     ]
    },
    {
     "name": "stderr",
     "output_type": "stream",
     "text": [
      "100%|████████████████████████████████████████| 120/120 [00:00<00:00, 874.96it/s]\n"
     ]
    },
    {
     "name": "stdout",
     "output_type": "stream",
     "text": [
      " Average valid loss: 0.97\n",
      "AUC_SCORE:  0.7338684779252855  acc:  0.575 f1:  0.578512396694215\n",
      "Test\n"
     ]
    },
    {
     "name": "stderr",
     "output_type": "stream",
     "text": [
      "100%|████████████████████████████████████████| 121/121 [00:00<00:00, 867.76it/s]\n"
     ]
    },
    {
     "name": "stdout",
     "output_type": "stream",
     "text": [
      " Average valid loss: 1.06\n",
      "AUC_SCORE:  0.6942073170731707  acc:  0.5206611570247934 f1:  0.5671641791044776\n",
      "EPOCHS:33\n",
      "TRAIN\n"
     ]
    },
    {
     "name": "stderr",
     "output_type": "stream",
     "text": [
      "100%|████████████████████████████████████████| 960/960 [00:08<00:00, 118.64it/s]\n"
     ]
    },
    {
     "name": "stdout",
     "output_type": "stream",
     "text": [
      " Average training loss: 0.93\n"
     ]
    },
    {
     "name": "stderr",
     "output_type": "stream",
     "text": [
      "100%|████████████████████████████████████████| 120/120 [00:00<00:00, 870.38it/s]\n"
     ]
    },
    {
     "name": "stdout",
     "output_type": "stream",
     "text": [
      " Average valid loss: 0.97\n",
      "AUC_SCORE:  0.7363383760419883  acc:  0.5833333333333334 f1:  0.5901639344262294\n",
      "Test\n"
     ]
    },
    {
     "name": "stderr",
     "output_type": "stream",
     "text": [
      "100%|████████████████████████████████████████| 121/121 [00:00<00:00, 863.81it/s]\n"
     ]
    },
    {
     "name": "stdout",
     "output_type": "stream",
     "text": [
      " Average valid loss: 1.07\n",
      "AUC_SCORE:  0.6914634146341463  acc:  0.5206611570247934 f1:  0.5671641791044776\n",
      "EPOCHS:34\n",
      "TRAIN\n"
     ]
    },
    {
     "name": "stderr",
     "output_type": "stream",
     "text": [
      "100%|████████████████████████████████████████| 960/960 [00:08<00:00, 118.70it/s]\n"
     ]
    },
    {
     "name": "stdout",
     "output_type": "stream",
     "text": [
      " Average training loss: 0.93\n"
     ]
    },
    {
     "name": "stderr",
     "output_type": "stream",
     "text": [
      "100%|████████████████████████████████████████| 120/120 [00:00<00:00, 866.15it/s]\n"
     ]
    },
    {
     "name": "stdout",
     "output_type": "stream",
     "text": [
      " Average valid loss: 0.97\n",
      "AUC_SCORE:  0.7366471133065761  acc:  0.575 f1:  0.578512396694215\n",
      "Test\n"
     ]
    },
    {
     "name": "stderr",
     "output_type": "stream",
     "text": [
      "100%|████████████████████████████████████████| 121/121 [00:00<00:00, 851.42it/s]\n"
     ]
    },
    {
     "name": "stdout",
     "output_type": "stream",
     "text": [
      " Average valid loss: 1.07\n",
      "AUC_SCORE:  0.6908536585365854  acc:  0.5206611570247934 f1:  0.5671641791044776\n",
      "EPOCHS:35\n",
      "TRAIN\n"
     ]
    },
    {
     "name": "stderr",
     "output_type": "stream",
     "text": [
      "100%|████████████████████████████████████████| 960/960 [00:08<00:00, 118.98it/s]\n"
     ]
    },
    {
     "name": "stdout",
     "output_type": "stream",
     "text": [
      " Average training loss: 0.92\n"
     ]
    },
    {
     "name": "stderr",
     "output_type": "stream",
     "text": [
      "100%|████████████████████████████████████████| 120/120 [00:00<00:00, 876.07it/s]\n"
     ]
    },
    {
     "name": "stdout",
     "output_type": "stream",
     "text": [
      " Average valid loss: 0.97\n",
      "AUC_SCORE:  0.7384995368941031  acc:  0.575 f1:  0.5853658536585366\n",
      "Test\n"
     ]
    },
    {
     "name": "stderr",
     "output_type": "stream",
     "text": [
      "100%|████████████████████████████████████████| 121/121 [00:00<00:00, 862.13it/s]\n"
     ]
    },
    {
     "name": "stdout",
     "output_type": "stream",
     "text": [
      " Average valid loss: 1.07\n",
      "AUC_SCORE:  0.688109756097561  acc:  0.5206611570247934 f1:  0.5671641791044776\n",
      "EPOCHS:36\n",
      "TRAIN\n"
     ]
    },
    {
     "name": "stderr",
     "output_type": "stream",
     "text": [
      "100%|████████████████████████████████████████| 960/960 [00:08<00:00, 119.15it/s]\n"
     ]
    },
    {
     "name": "stdout",
     "output_type": "stream",
     "text": [
      " Average training loss: 0.91\n"
     ]
    },
    {
     "name": "stderr",
     "output_type": "stream",
     "text": [
      "100%|████████████████████████████████████████| 120/120 [00:00<00:00, 875.20it/s]\n"
     ]
    },
    {
     "name": "stdout",
     "output_type": "stream",
     "text": [
      " Average valid loss: 0.96\n",
      "AUC_SCORE:  0.7394257486878666  acc:  0.575 f1:  0.578512396694215\n",
      "Test\n"
     ]
    },
    {
     "name": "stderr",
     "output_type": "stream",
     "text": [
      "100%|████████████████████████████████████████| 121/121 [00:00<00:00, 863.32it/s]\n"
     ]
    },
    {
     "name": "stdout",
     "output_type": "stream",
     "text": [
      " Average valid loss: 1.07\n",
      "AUC_SCORE:  0.686890243902439  acc:  0.5206611570247934 f1:  0.5606060606060607\n",
      "EPOCHS:37\n",
      "TRAIN\n"
     ]
    },
    {
     "name": "stderr",
     "output_type": "stream",
     "text": [
      "100%|████████████████████████████████████████| 960/960 [00:08<00:00, 118.71it/s]\n"
     ]
    },
    {
     "name": "stdout",
     "output_type": "stream",
     "text": [
      " Average training loss: 0.93\n"
     ]
    },
    {
     "name": "stderr",
     "output_type": "stream",
     "text": [
      "100%|████████████████████████████████████████| 120/120 [00:00<00:00, 877.91it/s]\n"
     ]
    },
    {
     "name": "stdout",
     "output_type": "stream",
     "text": [
      " Average valid loss: 0.97\n",
      "AUC_SCORE:  0.7415869095399814  acc:  0.575 f1:  0.5853658536585366\n",
      "Test\n"
     ]
    },
    {
     "name": "stderr",
     "output_type": "stream",
     "text": [
      "100%|████████████████████████████████████████| 121/121 [00:00<00:00, 870.42it/s]\n"
     ]
    },
    {
     "name": "stdout",
     "output_type": "stream",
     "text": [
      " Average valid loss: 1.08\n",
      "AUC_SCORE:  0.6829268292682926  acc:  0.5206611570247934 f1:  0.5671641791044776\n",
      "EPOCHS:38\n",
      "TRAIN\n"
     ]
    },
    {
     "name": "stderr",
     "output_type": "stream",
     "text": [
      "100%|████████████████████████████████████████| 960/960 [00:08<00:00, 119.51it/s]\n"
     ]
    },
    {
     "name": "stdout",
     "output_type": "stream",
     "text": [
      " Average training loss: 0.90\n"
     ]
    },
    {
     "name": "stderr",
     "output_type": "stream",
     "text": [
      "100%|████████████████████████████████████████| 120/120 [00:00<00:00, 869.89it/s]\n"
     ]
    },
    {
     "name": "stdout",
     "output_type": "stream",
     "text": [
      " Average valid loss: 0.97\n",
      "AUC_SCORE:  0.744365544921272  acc:  0.5666666666666667 f1:  0.5806451612903226\n",
      "Test\n"
     ]
    },
    {
     "name": "stderr",
     "output_type": "stream",
     "text": [
      "100%|████████████████████████████████████████| 121/121 [00:00<00:00, 852.68it/s]\n"
     ]
    },
    {
     "name": "stdout",
     "output_type": "stream",
     "text": [
      " Average valid loss: 1.09\n",
      "AUC_SCORE:  0.6823170731707318  acc:  0.512396694214876 f1:  0.562962962962963\n",
      "EPOCHS:39\n",
      "TRAIN\n"
     ]
    },
    {
     "name": "stderr",
     "output_type": "stream",
     "text": [
      "100%|████████████████████████████████████████| 960/960 [00:08<00:00, 119.45it/s]\n"
     ]
    },
    {
     "name": "stdout",
     "output_type": "stream",
     "text": [
      " Average training loss: 0.91\n"
     ]
    },
    {
     "name": "stderr",
     "output_type": "stream",
     "text": [
      "100%|████████████████████████████████████████| 120/120 [00:00<00:00, 884.97it/s]\n"
     ]
    },
    {
     "name": "stdout",
     "output_type": "stream",
     "text": [
      " Average valid loss: 0.96\n",
      "AUC_SCORE:  0.7437480703920963  acc:  0.575 f1:  0.578512396694215\n",
      "Test\n"
     ]
    },
    {
     "name": "stderr",
     "output_type": "stream",
     "text": [
      "100%|████████████████████████████████████████| 121/121 [00:00<00:00, 876.30it/s]\n"
     ]
    },
    {
     "name": "stdout",
     "output_type": "stream",
     "text": [
      " Average valid loss: 1.09\n",
      "AUC_SCORE:  0.6823170731707316  acc:  0.5289256198347108 f1:  0.5648854961832062\n",
      "EPOCHS:40\n",
      "TRAIN\n"
     ]
    },
    {
     "name": "stderr",
     "output_type": "stream",
     "text": [
      "100%|████████████████████████████████████████| 960/960 [00:08<00:00, 119.68it/s]\n"
     ]
    },
    {
     "name": "stdout",
     "output_type": "stream",
     "text": [
      " Average training loss: 0.91\n"
     ]
    },
    {
     "name": "stderr",
     "output_type": "stream",
     "text": [
      "100%|████████████████████████████████████████| 120/120 [00:00<00:00, 878.06it/s]\n"
     ]
    },
    {
     "name": "stdout",
     "output_type": "stream",
     "text": [
      " Average valid loss: 0.96\n",
      "AUC_SCORE:  0.7452917567150354  acc:  0.5833333333333334 f1:  0.5833333333333333\n",
      "Test\n"
     ]
    },
    {
     "name": "stderr",
     "output_type": "stream",
     "text": [
      "100%|████████████████████████████████████████| 121/121 [00:00<00:00, 864.53it/s]\n"
     ]
    },
    {
     "name": "stdout",
     "output_type": "stream",
     "text": [
      " Average valid loss: 1.09\n",
      "AUC_SCORE:  0.6810975609756098  acc:  0.5289256198347108 f1:  0.5648854961832062\n"
     ]
    },
    {
     "name": "stderr",
     "output_type": "stream",
     "text": [
      "100%|████████████████████████████████████████| 121/121 [00:00<00:00, 864.32it/s]\n"
     ]
    },
    {
     "name": "stdout",
     "output_type": "stream",
     "text": [
      " Average valid loss: 1.06\n",
      "AUC_SCORE:  0.6948170731707317  acc:  0.5206611570247934 f1:  0.5671641791044776\n",
      "BEST MODEL\n",
      "AUC_SCORE:  0.6948170731707317  acc:  0.5206611570247934 f1:  0.5671641791044776\n",
      "{'auc_micro': 0.6948170731707317, 'acc': 0.5206611570247934, 'f1': 0.5671641791044776, 'pred': [[1, 1, 0, 1, 0, 1, 1, 1, 0, 1], [1, 1, 1, 1, 1, 1, 0, 1, 1, 1], [1, 1, 1, 1, 0, 0, 0, 1, 1, 1], [1, 1, 0, 0, 1, 1, 1, 1, 1, 1], [1, 0, 1, 1, 1, 1, 0, 1, 0, 1], [1, 1, 1, 0, 0, 1, 1, 1, 1, 1], [1, 1, 0, 1, 1, 0, 1, 1, 1, 1], [1, 1, 1, 0, 1, 1, 0, 1, 1, 1], [0, 1, 1, 1, 1, 1, 1, 1, 0, 1], [1, 0, 0, 1, 1, 1, 1, 1, 1, 1], [0, 1, 0, 1, 1, 1, 1, 1, 1, 0], [1, 1, 1, 1, 0, 1, 0, 1, 0, 1], [1], [], [], [], [], [], [], []]}\n"
     ]
    }
   ],
   "source": [
    "bert2 = BertModel().to('cuda')\n",
    "score = fit(bert2, train_data,valid_data,test_data,EPOCHS=40)\n",
    "print(score)"
   ]
  },
  {
   "cell_type": "code",
   "execution_count": 34,
   "id": "6365c8e6",
   "metadata": {},
   "outputs": [],
   "source": [
    "path1 = 'word2vec_model_text3/'\n",
    "path2 = 'data/scriptbase/'\n",
    "filenames = os.listdir(path1)\n",
    "train_data = []\n",
    "valid_data = []\n",
    "test_data = []\n",
    "one = 0\n",
    "zero = 0\n",
    "end = torch.ones(1,1,384)\n",
    "\n",
    "for filename in filenames:\n",
    "    genres = []\n",
    "    movie_name = filename[:-14]\n",
    "    cult = 0\n",
    "    with open(path2+movie_name+'/processed/imdb_meta.txt','r') as f:\n",
    "        lines = f.readlines()\n",
    "        for line in lines:\n",
    "            if 'keyword' in line:\n",
    "                try:\n",
    "                    keyword  = line.strip().split('\\t')[1]\n",
    "                    keywords.append(keyword)\n",
    "                except:\n",
    "                    pass\n",
    "                if 'cult film'==keyword:\n",
    "                    cult = 1\n",
    "        \n",
    "    w2v=Word2Vec.load(path1 + filename)\n",
    "    base = 'scene_'\n",
    "    scene_num = 0\n",
    "    max_scene = 0\n",
    "    for node in w2v.wv.index_to_key:\n",
    "        if base in node:\n",
    "            scene_num += 1\n",
    "            if int(node[6:])>max_scene:\n",
    "                max_scene = int(node[6:])\n",
    "    embs = torch.zeros(1,scene_num+1,384)\n",
    "    k = 0\n",
    "    for i in range(1,max_scene+1):\n",
    "        emb_name = base + str(i)\n",
    "        if emb_name in w2v.wv.index_to_key:\n",
    "            emb = w2v.wv[emb_name]\n",
    "            emb = torch.from_numpy(emb)\n",
    "            embs[0][k] = emb\n",
    "            k += 1\n",
    "    embs[0][-1] = end\n",
    "        \n",
    "        \n",
    "    rand = random.randint(0,100)    \n",
    "    if movie_name in movie_split['train']:\n",
    "        train_data.append([embs, [cult]])\n",
    "    elif movie_name in movie_split['valid']:\n",
    "        valid_data.append([embs, [cult]])\n",
    "    \n",
    "    elif movie_name in movie_split['test']:\n",
    "        test_data.append([embs, [cult]])\n",
    "    \n",
    "    if cult:\n",
    "        one += 1\n",
    "    else:\n",
    "        zero += 1"
   ]
  },
  {
   "cell_type": "code",
   "execution_count": 35,
   "id": "c1d539ce",
   "metadata": {},
   "outputs": [
    {
     "name": "stdout",
     "output_type": "stream",
     "text": [
      "EPOCHS:1\n",
      "TRAIN\n"
     ]
    },
    {
     "name": "stderr",
     "output_type": "stream",
     "text": [
      "100%|████████████████████████████████████████| 960/960 [00:08<00:00, 119.36it/s]\n"
     ]
    },
    {
     "name": "stdout",
     "output_type": "stream",
     "text": [
      " Average training loss: 1.10\n"
     ]
    },
    {
     "name": "stderr",
     "output_type": "stream",
     "text": [
      "100%|████████████████████████████████████████| 120/120 [00:00<00:00, 707.33it/s]\n"
     ]
    },
    {
     "name": "stdout",
     "output_type": "stream",
     "text": [
      " Average valid loss: 1.08\n",
      "AUC_SCORE:  0.693423896264279  acc:  0.3416666666666667 f1:  0.5093167701863354\n",
      "Test\n"
     ]
    },
    {
     "name": "stderr",
     "output_type": "stream",
     "text": [
      "100%|████████████████████████████████████████| 121/121 [00:00<00:00, 834.47it/s]\n"
     ]
    },
    {
     "name": "stdout",
     "output_type": "stream",
     "text": [
      " Average valid loss: 1.09\n",
      "AUC_SCORE:  0.5475609756097561  acc:  0.33884297520661155 f1:  0.5061728395061729\n",
      "EPOCHS:2\n",
      "TRAIN\n"
     ]
    },
    {
     "name": "stderr",
     "output_type": "stream",
     "text": [
      "100%|████████████████████████████████████████| 960/960 [00:08<00:00, 119.85it/s]\n"
     ]
    },
    {
     "name": "stdout",
     "output_type": "stream",
     "text": [
      " Average training loss: 1.08\n"
     ]
    },
    {
     "name": "stderr",
     "output_type": "stream",
     "text": [
      "100%|████████████████████████████████████████| 120/120 [00:00<00:00, 873.75it/s]\n"
     ]
    },
    {
     "name": "stdout",
     "output_type": "stream",
     "text": [
      " Average valid loss: 1.07\n",
      "AUC_SCORE:  0.7023772769373263  acc:  0.3416666666666667 f1:  0.5093167701863354\n",
      "Test\n"
     ]
    },
    {
     "name": "stderr",
     "output_type": "stream",
     "text": [
      "100%|████████████████████████████████████████| 121/121 [00:00<00:00, 865.67it/s]\n"
     ]
    },
    {
     "name": "stdout",
     "output_type": "stream",
     "text": [
      " Average valid loss: 1.08\n",
      "AUC_SCORE:  0.6326219512195123  acc:  0.33884297520661155 f1:  0.5061728395061729\n",
      "EPOCHS:3\n",
      "TRAIN\n"
     ]
    },
    {
     "name": "stderr",
     "output_type": "stream",
     "text": [
      "100%|████████████████████████████████████████| 960/960 [00:08<00:00, 118.99it/s]\n"
     ]
    },
    {
     "name": "stdout",
     "output_type": "stream",
     "text": [
      " Average training loss: 1.08\n"
     ]
    },
    {
     "name": "stderr",
     "output_type": "stream",
     "text": [
      "100%|████████████████████████████████████████| 120/120 [00:00<00:00, 872.86it/s]\n"
     ]
    },
    {
     "name": "stdout",
     "output_type": "stream",
     "text": [
      " Average valid loss: 1.07\n",
      "AUC_SCORE:  0.6940413707934547  acc:  0.3416666666666667 f1:  0.5093167701863354\n",
      "Test\n"
     ]
    },
    {
     "name": "stderr",
     "output_type": "stream",
     "text": [
      "100%|████████████████████████████████████████| 121/121 [00:00<00:00, 866.11it/s]\n"
     ]
    },
    {
     "name": "stdout",
     "output_type": "stream",
     "text": [
      " Average valid loss: 1.07\n",
      "AUC_SCORE:  0.6780487804878049  acc:  0.33884297520661155 f1:  0.5061728395061729\n",
      "EPOCHS:4\n",
      "TRAIN\n"
     ]
    },
    {
     "name": "stderr",
     "output_type": "stream",
     "text": [
      "100%|████████████████████████████████████████| 960/960 [00:08<00:00, 119.21it/s]\n"
     ]
    },
    {
     "name": "stdout",
     "output_type": "stream",
     "text": [
      " Average training loss: 1.07\n"
     ]
    },
    {
     "name": "stderr",
     "output_type": "stream",
     "text": [
      "100%|████████████████████████████████████████| 120/120 [00:00<00:00, 880.02it/s]\n"
     ]
    },
    {
     "name": "stdout",
     "output_type": "stream",
     "text": [
      " Average valid loss: 1.06\n",
      "AUC_SCORE:  0.6853967273849954  acc:  0.3416666666666667 f1:  0.5093167701863354\n",
      "Test\n"
     ]
    },
    {
     "name": "stderr",
     "output_type": "stream",
     "text": [
      "100%|████████████████████████████████████████| 121/121 [00:00<00:00, 870.76it/s]\n"
     ]
    },
    {
     "name": "stdout",
     "output_type": "stream",
     "text": [
      " Average valid loss: 1.06\n",
      "AUC_SCORE:  0.7012195121951219  acc:  0.33884297520661155 f1:  0.5061728395061729\n",
      "EPOCHS:5\n",
      "TRAIN\n"
     ]
    },
    {
     "name": "stderr",
     "output_type": "stream",
     "text": [
      "100%|████████████████████████████████████████| 960/960 [00:08<00:00, 119.83it/s]\n"
     ]
    },
    {
     "name": "stdout",
     "output_type": "stream",
     "text": [
      " Average training loss: 1.07\n"
     ]
    },
    {
     "name": "stderr",
     "output_type": "stream",
     "text": [
      "100%|████████████████████████████████████████| 120/120 [00:00<00:00, 870.62it/s]\n"
     ]
    },
    {
     "name": "stdout",
     "output_type": "stream",
     "text": [
      " Average valid loss: 1.06\n",
      "AUC_SCORE:  0.6829268292682926  acc:  0.3416666666666667 f1:  0.5093167701863354\n",
      "Test\n"
     ]
    },
    {
     "name": "stderr",
     "output_type": "stream",
     "text": [
      "100%|████████████████████████████████████████| 121/121 [00:00<00:00, 865.82it/s]\n"
     ]
    },
    {
     "name": "stdout",
     "output_type": "stream",
     "text": [
      " Average valid loss: 1.05\n",
      "AUC_SCORE:  0.7149390243902438  acc:  0.33884297520661155 f1:  0.5061728395061729\n",
      "EPOCHS:6\n",
      "TRAIN\n"
     ]
    },
    {
     "name": "stderr",
     "output_type": "stream",
     "text": [
      "100%|████████████████████████████████████████| 960/960 [00:08<00:00, 119.75it/s]\n"
     ]
    },
    {
     "name": "stdout",
     "output_type": "stream",
     "text": [
      " Average training loss: 1.06\n"
     ]
    },
    {
     "name": "stderr",
     "output_type": "stream",
     "text": [
      "100%|████████████████████████████████████████| 120/120 [00:00<00:00, 880.91it/s]\n"
     ]
    },
    {
     "name": "stdout",
     "output_type": "stream",
     "text": [
      " Average valid loss: 1.05\n",
      "AUC_SCORE:  0.6816918802099414  acc:  0.36666666666666664 f1:  0.5189873417721518\n",
      "5  EPOCH BEST MODEL!\n",
      "Test\n"
     ]
    },
    {
     "name": "stderr",
     "output_type": "stream",
     "text": [
      "100%|████████████████████████████████████████| 121/121 [00:00<00:00, 867.76it/s]\n"
     ]
    },
    {
     "name": "stdout",
     "output_type": "stream",
     "text": [
      " Average valid loss: 1.04\n",
      "AUC_SCORE:  0.7228658536585366  acc:  0.33884297520661155 f1:  0.5061728395061729\n",
      "EPOCHS:7\n",
      "TRAIN\n"
     ]
    },
    {
     "name": "stderr",
     "output_type": "stream",
     "text": [
      "100%|████████████████████████████████████████| 960/960 [00:08<00:00, 118.82it/s]\n"
     ]
    },
    {
     "name": "stdout",
     "output_type": "stream",
     "text": [
      " Average training loss: 1.05\n"
     ]
    },
    {
     "name": "stderr",
     "output_type": "stream",
     "text": [
      "100%|████████████████████████████████████████| 120/120 [00:00<00:00, 875.35it/s]\n"
     ]
    },
    {
     "name": "stdout",
     "output_type": "stream",
     "text": [
      " Average valid loss: 1.04\n",
      "AUC_SCORE:  0.682309354739117  acc:  0.38333333333333336 f1:  0.5194805194805194\n",
      "6  EPOCH BEST MODEL!\n",
      "Test\n"
     ]
    },
    {
     "name": "stderr",
     "output_type": "stream",
     "text": [
      "100%|████████████████████████████████████████| 121/121 [00:00<00:00, 853.64it/s]\n"
     ]
    },
    {
     "name": "stdout",
     "output_type": "stream",
     "text": [
      " Average valid loss: 1.03\n",
      "AUC_SCORE:  0.7277439024390243  acc:  0.35537190082644626 f1:  0.5063291139240506\n",
      "EPOCHS:8\n",
      "TRAIN\n"
     ]
    },
    {
     "name": "stderr",
     "output_type": "stream",
     "text": [
      "100%|████████████████████████████████████████| 960/960 [00:08<00:00, 118.98it/s]\n"
     ]
    },
    {
     "name": "stdout",
     "output_type": "stream",
     "text": [
      " Average training loss: 1.04\n"
     ]
    },
    {
     "name": "stderr",
     "output_type": "stream",
     "text": [
      "100%|████████████████████████████████████████| 120/120 [00:00<00:00, 875.89it/s]"
     ]
    },
    {
     "name": "stdout",
     "output_type": "stream",
     "text": [
      " Average valid loss: 1.04\n",
      "AUC_SCORE:  0.6804569311515899  acc:  0.4 f1:  0.5263157894736842\n",
      "7  EPOCH BEST MODEL!\n"
     ]
    },
    {
     "name": "stderr",
     "output_type": "stream",
     "text": [
      "\n"
     ]
    },
    {
     "name": "stdout",
     "output_type": "stream",
     "text": [
      "Test\n"
     ]
    },
    {
     "name": "stderr",
     "output_type": "stream",
     "text": [
      "100%|████████████████████████████████████████| 121/121 [00:00<00:00, 820.03it/s]\n"
     ]
    },
    {
     "name": "stdout",
     "output_type": "stream",
     "text": [
      " Average valid loss: 1.03\n",
      "AUC_SCORE:  0.7314024390243903  acc:  0.38016528925619836 f1:  0.5161290322580645\n",
      "EPOCHS:9\n",
      "TRAIN\n"
     ]
    },
    {
     "name": "stderr",
     "output_type": "stream",
     "text": [
      "100%|████████████████████████████████████████| 960/960 [00:08<00:00, 118.88it/s]\n"
     ]
    },
    {
     "name": "stdout",
     "output_type": "stream",
     "text": [
      " Average training loss: 1.04\n"
     ]
    },
    {
     "name": "stderr",
     "output_type": "stream",
     "text": [
      "100%|████████████████████████████████████████| 120/120 [00:00<00:00, 873.75it/s]\n"
     ]
    },
    {
     "name": "stdout",
     "output_type": "stream",
     "text": [
      " Average valid loss: 1.04\n",
      "AUC_SCORE:  0.6820006174745292  acc:  0.4083333333333333 f1:  0.5298013245033113\n",
      "8  EPOCH BEST MODEL!\n",
      "Test\n"
     ]
    },
    {
     "name": "stderr",
     "output_type": "stream",
     "text": [
      "100%|████████████████████████████████████████| 121/121 [00:00<00:00, 867.11it/s]\n"
     ]
    },
    {
     "name": "stdout",
     "output_type": "stream",
     "text": [
      " Average valid loss: 1.02\n",
      "AUC_SCORE:  0.7329268292682927  acc:  0.38016528925619836 f1:  0.5098039215686275\n",
      "EPOCHS:10\n",
      "TRAIN\n"
     ]
    },
    {
     "name": "stderr",
     "output_type": "stream",
     "text": [
      "100%|████████████████████████████████████████| 960/960 [00:07<00:00, 120.08it/s]\n"
     ]
    },
    {
     "name": "stdout",
     "output_type": "stream",
     "text": [
      " Average training loss: 1.03\n"
     ]
    },
    {
     "name": "stderr",
     "output_type": "stream",
     "text": [
      "100%|████████████████████████████████████████| 120/120 [00:00<00:00, 874.59it/s]\n"
     ]
    },
    {
     "name": "stdout",
     "output_type": "stream",
     "text": [
      " Average valid loss: 1.03\n",
      "AUC_SCORE:  0.6810744056807657  acc:  0.425 f1:  0.5306122448979591\n",
      "9  EPOCH BEST MODEL!\n",
      "Test\n"
     ]
    },
    {
     "name": "stderr",
     "output_type": "stream",
     "text": [
      "100%|████████████████████████████████████████| 121/121 [00:00<00:00, 826.67it/s]\n"
     ]
    },
    {
     "name": "stdout",
     "output_type": "stream",
     "text": [
      " Average valid loss: 1.01\n",
      "AUC_SCORE:  0.7338414634146342  acc:  0.3884297520661157 f1:  0.5066666666666667\n",
      "EPOCHS:11\n",
      "TRAIN\n"
     ]
    },
    {
     "name": "stderr",
     "output_type": "stream",
     "text": [
      "100%|████████████████████████████████████████| 960/960 [00:08<00:00, 119.39it/s]\n"
     ]
    },
    {
     "name": "stdout",
     "output_type": "stream",
     "text": [
      " Average training loss: 1.02\n"
     ]
    },
    {
     "name": "stderr",
     "output_type": "stream",
     "text": [
      "100%|████████████████████████████████████████| 120/120 [00:00<00:00, 878.56it/s]\n"
     ]
    },
    {
     "name": "stdout",
     "output_type": "stream",
     "text": [
      " Average valid loss: 1.03\n",
      "AUC_SCORE:  0.6841617783266439  acc:  0.44166666666666665 f1:  0.5379310344827586\n",
      "10  EPOCH BEST MODEL!\n",
      "Test\n"
     ]
    },
    {
     "name": "stderr",
     "output_type": "stream",
     "text": [
      "100%|████████████████████████████████████████| 121/121 [00:00<00:00, 858.22it/s]\n"
     ]
    },
    {
     "name": "stdout",
     "output_type": "stream",
     "text": [
      " Average valid loss: 1.01\n",
      "AUC_SCORE:  0.7362804878048781  acc:  0.39669421487603307 f1:  0.5100671140939598\n",
      "EPOCHS:12\n",
      "TRAIN\n"
     ]
    },
    {
     "name": "stderr",
     "output_type": "stream",
     "text": [
      "100%|████████████████████████████████████████| 960/960 [00:08<00:00, 119.37it/s]\n"
     ]
    },
    {
     "name": "stdout",
     "output_type": "stream",
     "text": [
      " Average training loss: 1.02\n"
     ]
    },
    {
     "name": "stderr",
     "output_type": "stream",
     "text": [
      "100%|████████████████████████████████████████| 120/120 [00:00<00:00, 883.27it/s]\n"
     ]
    },
    {
     "name": "stdout",
     "output_type": "stream",
     "text": [
      " Average valid loss: 1.02\n",
      "AUC_SCORE:  0.6838530410620561  acc:  0.44166666666666665 f1:  0.5314685314685316\n",
      "Test\n"
     ]
    },
    {
     "name": "stderr",
     "output_type": "stream",
     "text": [
      "100%|████████████████████████████████████████| 121/121 [00:00<00:00, 871.06it/s]\n"
     ]
    },
    {
     "name": "stdout",
     "output_type": "stream",
     "text": [
      " Average valid loss: 1.01\n",
      "AUC_SCORE:  0.7375  acc:  0.4049586776859504 f1:  0.5135135135135136\n",
      "EPOCHS:13\n",
      "TRAIN\n"
     ]
    },
    {
     "name": "stderr",
     "output_type": "stream",
     "text": [
      "100%|████████████████████████████████████████| 960/960 [00:08<00:00, 119.40it/s]\n"
     ]
    },
    {
     "name": "stdout",
     "output_type": "stream",
     "text": [
      " Average training loss: 1.01\n"
     ]
    },
    {
     "name": "stderr",
     "output_type": "stream",
     "text": [
      "100%|████████████████████████████████████████| 120/120 [00:00<00:00, 874.40it/s]\n"
     ]
    },
    {
     "name": "stdout",
     "output_type": "stream",
     "text": [
      " Average valid loss: 1.02\n",
      "AUC_SCORE:  0.6853967273849954  acc:  0.4666666666666667 f1:  0.536231884057971\n",
      "Test\n"
     ]
    },
    {
     "name": "stderr",
     "output_type": "stream",
     "text": [
      "100%|████████████████████████████████████████| 121/121 [00:00<00:00, 865.80it/s]\n"
     ]
    },
    {
     "name": "stdout",
     "output_type": "stream",
     "text": [
      " Average valid loss: 1.00\n",
      "AUC_SCORE:  0.7371951219512195  acc:  0.4297520661157025 f1:  0.5241379310344828\n",
      "EPOCHS:14\n",
      "TRAIN\n"
     ]
    },
    {
     "name": "stderr",
     "output_type": "stream",
     "text": [
      "100%|████████████████████████████████████████| 960/960 [00:08<00:00, 119.21it/s]\n"
     ]
    },
    {
     "name": "stdout",
     "output_type": "stream",
     "text": [
      " Average training loss: 1.01\n"
     ]
    },
    {
     "name": "stderr",
     "output_type": "stream",
     "text": [
      "100%|████████████████████████████████████████| 120/120 [00:00<00:00, 880.03it/s]\n"
     ]
    },
    {
     "name": "stdout",
     "output_type": "stream",
     "text": [
      " Average valid loss: 1.01\n",
      "AUC_SCORE:  0.6860142019141711  acc:  0.48333333333333334 f1:  0.5441176470588235\n",
      "13  EPOCH BEST MODEL!\n",
      "Test\n"
     ]
    },
    {
     "name": "stderr",
     "output_type": "stream",
     "text": [
      "100%|████████████████████████████████████████| 121/121 [00:00<00:00, 858.12it/s]\n"
     ]
    },
    {
     "name": "stdout",
     "output_type": "stream",
     "text": [
      " Average valid loss: 1.00\n",
      "AUC_SCORE:  0.7365853658536585  acc:  0.4380165289256198 f1:  0.5277777777777779\n",
      "EPOCHS:15\n",
      "TRAIN\n"
     ]
    },
    {
     "name": "stderr",
     "output_type": "stream",
     "text": [
      "100%|████████████████████████████████████████| 960/960 [00:08<00:00, 119.96it/s]\n"
     ]
    },
    {
     "name": "stdout",
     "output_type": "stream",
     "text": [
      " Average training loss: 0.99\n"
     ]
    },
    {
     "name": "stderr",
     "output_type": "stream",
     "text": [
      "100%|████████████████████████████████████████| 120/120 [00:00<00:00, 877.49it/s]\n"
     ]
    },
    {
     "name": "stdout",
     "output_type": "stream",
     "text": [
      " Average valid loss: 1.01\n",
      "AUC_SCORE:  0.6897190490892251  acc:  0.5083333333333333 f1:  0.556390977443609\n",
      "14  EPOCH BEST MODEL!\n",
      "Test\n"
     ]
    },
    {
     "name": "stderr",
     "output_type": "stream",
     "text": [
      "100%|████████████████████████████████████████| 121/121 [00:00<00:00, 865.52it/s]\n"
     ]
    },
    {
     "name": "stdout",
     "output_type": "stream",
     "text": [
      " Average valid loss: 1.00\n",
      "AUC_SCORE:  0.738719512195122  acc:  0.47107438016528924 f1:  0.536231884057971\n",
      "EPOCHS:16\n",
      "TRAIN\n"
     ]
    },
    {
     "name": "stderr",
     "output_type": "stream",
     "text": [
      "100%|████████████████████████████████████████| 960/960 [00:07<00:00, 120.31it/s]\n"
     ]
    },
    {
     "name": "stdout",
     "output_type": "stream",
     "text": [
      " Average training loss: 1.00\n"
     ]
    },
    {
     "name": "stderr",
     "output_type": "stream",
     "text": [
      "100%|████████████████████████████████████████| 120/120 [00:00<00:00, 880.52it/s]"
     ]
    },
    {
     "name": "stdout",
     "output_type": "stream",
     "text": [
      " Average valid loss: 1.01\n",
      "AUC_SCORE:  0.6934238962642791  acc:  0.5166666666666667 f1:  0.5606060606060607\n",
      "15  EPOCH BEST MODEL!\n"
     ]
    },
    {
     "name": "stderr",
     "output_type": "stream",
     "text": [
      "\n"
     ]
    },
    {
     "name": "stdout",
     "output_type": "stream",
     "text": [
      "Test\n"
     ]
    },
    {
     "name": "stderr",
     "output_type": "stream",
     "text": [
      "100%|████████████████████████████████████████| 121/121 [00:00<00:00, 845.68it/s]\n"
     ]
    },
    {
     "name": "stdout",
     "output_type": "stream",
     "text": [
      " Average valid loss: 1.00\n",
      "AUC_SCORE:  0.7420731707317074  acc:  0.4793388429752066 f1:  0.5401459854014599\n",
      "EPOCHS:17\n",
      "TRAIN\n"
     ]
    },
    {
     "name": "stderr",
     "output_type": "stream",
     "text": [
      "100%|████████████████████████████████████████| 960/960 [00:08<00:00, 119.01it/s]\n"
     ]
    },
    {
     "name": "stdout",
     "output_type": "stream",
     "text": [
      " Average training loss: 0.99\n"
     ]
    },
    {
     "name": "stderr",
     "output_type": "stream",
     "text": [
      "100%|████████████████████████████████████████| 120/120 [00:00<00:00, 877.94it/s]\n"
     ]
    },
    {
     "name": "stdout",
     "output_type": "stream",
     "text": [
      " Average valid loss: 1.01\n",
      "AUC_SCORE:  0.6962025316455697  acc:  0.525 f1:  0.5648854961832062\n",
      "16  EPOCH BEST MODEL!\n",
      "Test\n"
     ]
    },
    {
     "name": "stderr",
     "output_type": "stream",
     "text": [
      "100%|████████████████████████████████████████| 121/121 [00:00<00:00, 830.44it/s]\n"
     ]
    },
    {
     "name": "stdout",
     "output_type": "stream",
     "text": [
      " Average valid loss: 1.00\n",
      "AUC_SCORE:  0.738719512195122  acc:  0.4793388429752066 f1:  0.5401459854014599\n",
      "EPOCHS:18\n",
      "TRAIN\n"
     ]
    },
    {
     "name": "stderr",
     "output_type": "stream",
     "text": [
      "100%|████████████████████████████████████████| 960/960 [00:08<00:00, 118.32it/s]\n"
     ]
    },
    {
     "name": "stdout",
     "output_type": "stream",
     "text": [
      " Average training loss: 0.99\n"
     ]
    },
    {
     "name": "stderr",
     "output_type": "stream",
     "text": [
      "100%|████████████████████████████████████████| 120/120 [00:00<00:00, 867.81it/s]"
     ]
    },
    {
     "name": "stdout",
     "output_type": "stream",
     "text": [
      " Average valid loss: 1.00\n",
      "AUC_SCORE:  0.6974374807039209  acc:  0.55 f1:  0.578125\n",
      "17  EPOCH BEST MODEL!\n"
     ]
    },
    {
     "name": "stderr",
     "output_type": "stream",
     "text": [
      "\n"
     ]
    },
    {
     "name": "stdout",
     "output_type": "stream",
     "text": [
      "Test\n"
     ]
    },
    {
     "name": "stderr",
     "output_type": "stream",
     "text": [
      "100%|████████████████████████████████████████| 121/121 [00:00<00:00, 859.81it/s]\n"
     ]
    },
    {
     "name": "stdout",
     "output_type": "stream",
     "text": [
      " Average valid loss: 1.00\n",
      "AUC_SCORE:  0.7353658536585366  acc:  0.4793388429752066 f1:  0.5401459854014599\n",
      "EPOCHS:19\n",
      "TRAIN\n"
     ]
    },
    {
     "name": "stderr",
     "output_type": "stream",
     "text": [
      "100%|████████████████████████████████████████| 960/960 [00:07<00:00, 120.40it/s]\n"
     ]
    },
    {
     "name": "stdout",
     "output_type": "stream",
     "text": [
      " Average training loss: 0.98\n"
     ]
    },
    {
     "name": "stderr",
     "output_type": "stream",
     "text": [
      "100%|████████████████████████████████████████| 120/120 [00:00<00:00, 875.87it/s]\n"
     ]
    },
    {
     "name": "stdout",
     "output_type": "stream",
     "text": [
      " Average valid loss: 1.00\n",
      "AUC_SCORE:  0.7017598024081506  acc:  0.525 f1:  0.5648854961832062\n",
      "Test\n"
     ]
    },
    {
     "name": "stderr",
     "output_type": "stream",
     "text": [
      "100%|████████████████████████████████████████| 121/121 [00:00<00:00, 860.59it/s]\n"
     ]
    },
    {
     "name": "stdout",
     "output_type": "stream",
     "text": [
      " Average valid loss: 1.00\n",
      "AUC_SCORE:  0.7317073170731708  acc:  0.4793388429752066 f1:  0.5401459854014599\n",
      "EPOCHS:20\n",
      "TRAIN\n"
     ]
    },
    {
     "name": "stderr",
     "output_type": "stream",
     "text": [
      "100%|████████████████████████████████████████| 960/960 [00:08<00:00, 118.49it/s]\n"
     ]
    },
    {
     "name": "stdout",
     "output_type": "stream",
     "text": [
      " Average training loss: 0.98\n"
     ]
    },
    {
     "name": "stderr",
     "output_type": "stream",
     "text": [
      "100%|████████████████████████████████████████| 120/120 [00:00<00:00, 876.96it/s]\n"
     ]
    },
    {
     "name": "stdout",
     "output_type": "stream",
     "text": [
      " Average valid loss: 1.00\n",
      "AUC_SCORE:  0.7051559123186169  acc:  0.5416666666666666 f1:  0.5736434108527132\n",
      "Test\n"
     ]
    },
    {
     "name": "stderr",
     "output_type": "stream",
     "text": [
      "100%|████████████████████████████████████████| 121/121 [00:00<00:00, 863.56it/s]\n"
     ]
    },
    {
     "name": "stdout",
     "output_type": "stream",
     "text": [
      " Average valid loss: 1.00\n",
      "AUC_SCORE:  0.7314024390243902  acc:  0.4793388429752066 f1:  0.5401459854014599\n",
      "EPOCHS:21\n",
      "TRAIN\n"
     ]
    },
    {
     "name": "stderr",
     "output_type": "stream",
     "text": [
      "100%|████████████████████████████████████████| 960/960 [00:07<00:00, 120.88it/s]\n"
     ]
    },
    {
     "name": "stdout",
     "output_type": "stream",
     "text": [
      " Average training loss: 0.97\n"
     ]
    },
    {
     "name": "stderr",
     "output_type": "stream",
     "text": [
      "100%|████████████████████████████████████████| 120/120 [00:00<00:00, 873.30it/s]\n"
     ]
    },
    {
     "name": "stdout",
     "output_type": "stream",
     "text": [
      " Average valid loss: 1.00\n",
      "AUC_SCORE:  0.7107131830811978  acc:  0.5416666666666666 f1:  0.5736434108527132\n",
      "Test\n"
     ]
    },
    {
     "name": "stderr",
     "output_type": "stream",
     "text": [
      "100%|████████████████████████████████████████| 121/121 [00:00<00:00, 856.60it/s]\n"
     ]
    },
    {
     "name": "stdout",
     "output_type": "stream",
     "text": [
      " Average valid loss: 1.00\n",
      "AUC_SCORE:  0.7274390243902439  acc:  0.4793388429752066 f1:  0.5401459854014599\n",
      "EPOCHS:22\n",
      "TRAIN\n"
     ]
    },
    {
     "name": "stderr",
     "output_type": "stream",
     "text": [
      "100%|████████████████████████████████████████| 960/960 [00:07<00:00, 120.20it/s]\n"
     ]
    },
    {
     "name": "stdout",
     "output_type": "stream",
     "text": [
      " Average training loss: 0.96\n"
     ]
    },
    {
     "name": "stderr",
     "output_type": "stream",
     "text": [
      "100%|████████████████████████████████████████| 120/120 [00:00<00:00, 871.51it/s]"
     ]
    },
    {
     "name": "stdout",
     "output_type": "stream",
     "text": [
      " Average valid loss: 0.99\n",
      "AUC_SCORE:  0.712256869404137  acc:  0.5583333333333333 f1:  0.5826771653543307\n",
      "21  EPOCH BEST MODEL!\n"
     ]
    },
    {
     "name": "stderr",
     "output_type": "stream",
     "text": [
      "\n"
     ]
    },
    {
     "name": "stdout",
     "output_type": "stream",
     "text": [
      "Test\n"
     ]
    },
    {
     "name": "stderr",
     "output_type": "stream",
     "text": [
      "100%|████████████████████████████████████████| 121/121 [00:00<00:00, 861.73it/s]\n"
     ]
    },
    {
     "name": "stdout",
     "output_type": "stream",
     "text": [
      " Average valid loss: 1.00\n",
      "AUC_SCORE:  0.7277439024390243  acc:  0.48760330578512395 f1:  0.5373134328358209\n",
      "EPOCHS:23\n",
      "TRAIN\n"
     ]
    },
    {
     "name": "stderr",
     "output_type": "stream",
     "text": [
      "100%|████████████████████████████████████████| 960/960 [00:07<00:00, 120.02it/s]\n"
     ]
    },
    {
     "name": "stdout",
     "output_type": "stream",
     "text": [
      " Average training loss: 0.97\n"
     ]
    },
    {
     "name": "stderr",
     "output_type": "stream",
     "text": [
      "100%|████████████████████████████████████████| 120/120 [00:00<00:00, 872.81it/s]\n"
     ]
    },
    {
     "name": "stdout",
     "output_type": "stream",
     "text": [
      " Average valid loss: 1.00\n",
      "AUC_SCORE:  0.7178141401667182  acc:  0.5416666666666666 f1:  0.5736434108527132\n",
      "Test\n"
     ]
    },
    {
     "name": "stderr",
     "output_type": "stream",
     "text": [
      "100%|████████████████████████████████████████| 121/121 [00:00<00:00, 866.41it/s]\n"
     ]
    },
    {
     "name": "stdout",
     "output_type": "stream",
     "text": [
      " Average valid loss: 1.01\n",
      "AUC_SCORE:  0.724390243902439  acc:  0.47107438016528924 f1:  0.5294117647058824\n",
      "EPOCHS:24\n",
      "TRAIN\n"
     ]
    },
    {
     "name": "stderr",
     "output_type": "stream",
     "text": [
      "100%|████████████████████████████████████████| 960/960 [00:07<00:00, 121.11it/s]\n"
     ]
    },
    {
     "name": "stdout",
     "output_type": "stream",
     "text": [
      " Average training loss: 0.97\n"
     ]
    },
    {
     "name": "stderr",
     "output_type": "stream",
     "text": [
      "100%|████████████████████████████████████████| 120/120 [00:00<00:00, 877.03it/s]\n"
     ]
    },
    {
     "name": "stdout",
     "output_type": "stream",
     "text": [
      " Average valid loss: 0.99\n",
      "AUC_SCORE:  0.7205927755480087  acc:  0.55 f1:  0.578125\n",
      "Test\n"
     ]
    },
    {
     "name": "stderr",
     "output_type": "stream",
     "text": [
      "100%|████████████████████████████████████████| 121/121 [00:00<00:00, 864.63it/s]\n"
     ]
    },
    {
     "name": "stdout",
     "output_type": "stream",
     "text": [
      " Average valid loss: 1.01\n",
      "AUC_SCORE:  0.7240853658536586  acc:  0.48760330578512395 f1:  0.5373134328358209\n",
      "EPOCHS:25\n",
      "TRAIN\n"
     ]
    },
    {
     "name": "stderr",
     "output_type": "stream",
     "text": [
      "100%|████████████████████████████████████████| 960/960 [00:08<00:00, 119.87it/s]\n"
     ]
    },
    {
     "name": "stdout",
     "output_type": "stream",
     "text": [
      " Average training loss: 0.95\n"
     ]
    },
    {
     "name": "stderr",
     "output_type": "stream",
     "text": [
      "100%|████████████████████████████████████████| 120/120 [00:00<00:00, 870.46it/s]\n"
     ]
    },
    {
     "name": "stdout",
     "output_type": "stream",
     "text": [
      " Average valid loss: 0.99\n",
      "AUC_SCORE:  0.72182772460636  acc:  0.5583333333333333 f1:  0.5826771653543307\n",
      "Test\n"
     ]
    },
    {
     "name": "stderr",
     "output_type": "stream",
     "text": [
      "100%|████████████████████████████████████████| 121/121 [00:00<00:00, 861.61it/s]\n"
     ]
    },
    {
     "name": "stdout",
     "output_type": "stream",
     "text": [
      " Average valid loss: 1.01\n",
      "AUC_SCORE:  0.7240853658536586  acc:  0.512396694214876 f1:  0.549618320610687\n",
      "EPOCHS:26\n",
      "TRAIN\n"
     ]
    },
    {
     "name": "stderr",
     "output_type": "stream",
     "text": [
      "100%|████████████████████████████████████████| 960/960 [00:08<00:00, 119.42it/s]\n"
     ]
    },
    {
     "name": "stdout",
     "output_type": "stream",
     "text": [
      " Average training loss: 0.96\n"
     ]
    },
    {
     "name": "stderr",
     "output_type": "stream",
     "text": [
      "100%|████████████████████████████████████████| 120/120 [00:00<00:00, 870.37it/s]\n"
     ]
    },
    {
     "name": "stdout",
     "output_type": "stream",
     "text": [
      " Average valid loss: 1.00\n",
      "AUC_SCORE:  0.7252238345168263  acc:  0.55 f1:  0.578125\n",
      "Test\n"
     ]
    },
    {
     "name": "stderr",
     "output_type": "stream",
     "text": [
      "100%|████████████████████████████████████████| 121/121 [00:00<00:00, 862.00it/s]\n"
     ]
    },
    {
     "name": "stdout",
     "output_type": "stream",
     "text": [
      " Average valid loss: 1.02\n",
      "AUC_SCORE:  0.7219512195121951  acc:  0.47107438016528924 f1:  0.5294117647058824\n",
      "EPOCHS:27\n",
      "TRAIN\n"
     ]
    },
    {
     "name": "stderr",
     "output_type": "stream",
     "text": [
      "100%|████████████████████████████████████████| 960/960 [00:08<00:00, 118.28it/s]\n"
     ]
    },
    {
     "name": "stdout",
     "output_type": "stream",
     "text": [
      " Average training loss: 0.95\n"
     ]
    },
    {
     "name": "stderr",
     "output_type": "stream",
     "text": [
      "100%|████████████████████████████████████████| 120/120 [00:00<00:00, 841.76it/s]\n"
     ]
    },
    {
     "name": "stdout",
     "output_type": "stream",
     "text": [
      " Average valid loss: 0.99\n",
      "AUC_SCORE:  0.7283112071627045  acc:  0.5583333333333333 f1:  0.5826771653543307\n",
      "Test\n"
     ]
    },
    {
     "name": "stderr",
     "output_type": "stream",
     "text": [
      "100%|████████████████████████████████████████| 121/121 [00:00<00:00, 840.86it/s]\n"
     ]
    },
    {
     "name": "stdout",
     "output_type": "stream",
     "text": [
      " Average valid loss: 1.01\n",
      "AUC_SCORE:  0.7216463414634146  acc:  0.5041322314049587 f1:  0.5454545454545454\n",
      "EPOCHS:28\n",
      "TRAIN\n"
     ]
    },
    {
     "name": "stderr",
     "output_type": "stream",
     "text": [
      "100%|████████████████████████████████████████| 960/960 [00:08<00:00, 118.19it/s]\n"
     ]
    },
    {
     "name": "stdout",
     "output_type": "stream",
     "text": [
      " Average training loss: 0.94\n"
     ]
    },
    {
     "name": "stderr",
     "output_type": "stream",
     "text": [
      "100%|████████████████████████████████████████| 120/120 [00:00<00:00, 875.62it/s]\n"
     ]
    },
    {
     "name": "stdout",
     "output_type": "stream",
     "text": [
      " Average valid loss: 0.99\n",
      "AUC_SCORE:  0.7280024698981167  acc:  0.5583333333333333 f1:  0.5826771653543307\n",
      "Test\n"
     ]
    },
    {
     "name": "stderr",
     "output_type": "stream",
     "text": [
      "100%|████████████████████████████████████████| 121/121 [00:00<00:00, 864.73it/s]\n"
     ]
    },
    {
     "name": "stdout",
     "output_type": "stream",
     "text": [
      " Average valid loss: 1.02\n",
      "AUC_SCORE:  0.7179878048780488  acc:  0.49586776859504134 f1:  0.5413533834586466\n",
      "EPOCHS:29\n",
      "TRAIN\n"
     ]
    },
    {
     "name": "stderr",
     "output_type": "stream",
     "text": [
      "100%|████████████████████████████████████████| 960/960 [00:08<00:00, 118.80it/s]\n"
     ]
    },
    {
     "name": "stdout",
     "output_type": "stream",
     "text": [
      " Average training loss: 0.94\n"
     ]
    },
    {
     "name": "stderr",
     "output_type": "stream",
     "text": [
      "100%|████████████████████████████████████████| 120/120 [00:00<00:00, 869.62it/s]\n"
     ]
    },
    {
     "name": "stdout",
     "output_type": "stream",
     "text": [
      " Average valid loss: 0.99\n",
      "AUC_SCORE:  0.7301636307502315  acc:  0.5666666666666667 f1:  0.5873015873015872\n",
      "28  EPOCH BEST MODEL!\n",
      "Test\n"
     ]
    },
    {
     "name": "stderr",
     "output_type": "stream",
     "text": [
      "100%|████████████████████████████████████████| 121/121 [00:00<00:00, 854.36it/s]\n"
     ]
    },
    {
     "name": "stdout",
     "output_type": "stream",
     "text": [
      " Average valid loss: 1.01\n",
      "AUC_SCORE:  0.7176829268292684  acc:  0.512396694214876 f1:  0.549618320610687\n",
      "EPOCHS:30\n",
      "TRAIN\n"
     ]
    },
    {
     "name": "stderr",
     "output_type": "stream",
     "text": [
      "100%|████████████████████████████████████████| 960/960 [00:07<00:00, 120.21it/s]\n"
     ]
    },
    {
     "name": "stdout",
     "output_type": "stream",
     "text": [
      " Average training loss: 0.94\n"
     ]
    },
    {
     "name": "stderr",
     "output_type": "stream",
     "text": [
      "100%|████████████████████████████████████████| 120/120 [00:00<00:00, 871.99it/s]\n"
     ]
    },
    {
     "name": "stdout",
     "output_type": "stream",
     "text": [
      " Average valid loss: 0.98\n",
      "AUC_SCORE:  0.7304723680148194  acc:  0.5666666666666667 f1:  0.5873015873015872\n",
      "Test\n"
     ]
    },
    {
     "name": "stderr",
     "output_type": "stream",
     "text": [
      "100%|████████████████████████████████████████| 121/121 [00:00<00:00, 863.07it/s]\n"
     ]
    },
    {
     "name": "stdout",
     "output_type": "stream",
     "text": [
      " Average valid loss: 1.01\n",
      "AUC_SCORE:  0.7164634146341464  acc:  0.5206611570247934 f1:  0.5538461538461539\n",
      "EPOCHS:31\n",
      "TRAIN\n"
     ]
    },
    {
     "name": "stderr",
     "output_type": "stream",
     "text": [
      "100%|████████████████████████████████████████| 960/960 [00:07<00:00, 121.03it/s]\n"
     ]
    },
    {
     "name": "stdout",
     "output_type": "stream",
     "text": [
      " Average training loss: 0.93\n"
     ]
    },
    {
     "name": "stderr",
     "output_type": "stream",
     "text": [
      "100%|████████████████████████████████████████| 120/120 [00:00<00:00, 877.19it/s]\n"
     ]
    },
    {
     "name": "stdout",
     "output_type": "stream",
     "text": [
      " Average valid loss: 0.99\n",
      "AUC_SCORE:  0.7298548934856438  acc:  0.5666666666666667 f1:  0.5873015873015872\n",
      "Test\n"
     ]
    },
    {
     "name": "stderr",
     "output_type": "stream",
     "text": [
      "100%|████████████████████████████████████████| 121/121 [00:00<00:00, 862.82it/s]\n"
     ]
    },
    {
     "name": "stdout",
     "output_type": "stream",
     "text": [
      " Average valid loss: 1.03\n",
      "AUC_SCORE:  0.7121951219512195  acc:  0.5041322314049587 f1:  0.5454545454545454\n",
      "EPOCHS:32\n",
      "TRAIN\n"
     ]
    },
    {
     "name": "stderr",
     "output_type": "stream",
     "text": [
      "100%|████████████████████████████████████████| 960/960 [00:07<00:00, 120.63it/s]\n"
     ]
    },
    {
     "name": "stdout",
     "output_type": "stream",
     "text": [
      " Average training loss: 0.94\n"
     ]
    },
    {
     "name": "stderr",
     "output_type": "stream",
     "text": [
      "100%|████████████████████████████████████████| 120/120 [00:00<00:00, 876.38it/s]\n"
     ]
    },
    {
     "name": "stdout",
     "output_type": "stream",
     "text": [
      " Average valid loss: 0.99\n",
      "AUC_SCORE:  0.7310898425439951  acc:  0.5666666666666667 f1:  0.5873015873015872\n",
      "Test\n"
     ]
    },
    {
     "name": "stderr",
     "output_type": "stream",
     "text": [
      "100%|████████████████████████████████████████| 121/121 [00:00<00:00, 869.62it/s]\n"
     ]
    },
    {
     "name": "stdout",
     "output_type": "stream",
     "text": [
      " Average valid loss: 1.03\n",
      "AUC_SCORE:  0.7128048780487806  acc:  0.512396694214876 f1:  0.549618320610687\n",
      "EPOCHS:33\n",
      "TRAIN\n"
     ]
    },
    {
     "name": "stderr",
     "output_type": "stream",
     "text": [
      "100%|████████████████████████████████████████| 960/960 [00:07<00:00, 120.47it/s]\n"
     ]
    },
    {
     "name": "stdout",
     "output_type": "stream",
     "text": [
      " Average training loss: 0.94\n"
     ]
    },
    {
     "name": "stderr",
     "output_type": "stream",
     "text": [
      "100%|████████████████████████████████████████| 120/120 [00:00<00:00, 869.46it/s]\n"
     ]
    },
    {
     "name": "stdout",
     "output_type": "stream",
     "text": [
      " Average valid loss: 0.98\n",
      "AUC_SCORE:  0.7320160543377586  acc:  0.5666666666666667 f1:  0.5873015873015872\n",
      "Test\n"
     ]
    },
    {
     "name": "stderr",
     "output_type": "stream",
     "text": [
      "100%|████████████████████████████████████████| 121/121 [00:00<00:00, 859.58it/s]\n"
     ]
    },
    {
     "name": "stdout",
     "output_type": "stream",
     "text": [
      " Average valid loss: 1.03\n",
      "AUC_SCORE:  0.7115853658536585  acc:  0.5206611570247934 f1:  0.5538461538461539\n",
      "EPOCHS:34\n",
      "TRAIN\n"
     ]
    },
    {
     "name": "stderr",
     "output_type": "stream",
     "text": [
      "100%|████████████████████████████████████████| 960/960 [00:08<00:00, 119.98it/s]\n"
     ]
    },
    {
     "name": "stdout",
     "output_type": "stream",
     "text": [
      " Average training loss: 0.92\n"
     ]
    },
    {
     "name": "stderr",
     "output_type": "stream",
     "text": [
      "100%|████████████████████████████████████████| 120/120 [00:00<00:00, 873.46it/s]\n"
     ]
    },
    {
     "name": "stdout",
     "output_type": "stream",
     "text": [
      " Average valid loss: 0.99\n",
      "AUC_SCORE:  0.7332510033961099  acc:  0.5666666666666667 f1:  0.5873015873015872\n",
      "Test\n"
     ]
    },
    {
     "name": "stderr",
     "output_type": "stream",
     "text": [
      "100%|████████████████████████████████████████| 121/121 [00:00<00:00, 866.53it/s]\n"
     ]
    },
    {
     "name": "stdout",
     "output_type": "stream",
     "text": [
      " Average valid loss: 1.03\n",
      "AUC_SCORE:  0.7097560975609756  acc:  0.5206611570247934 f1:  0.5538461538461539\n",
      "EPOCHS:35\n",
      "TRAIN\n"
     ]
    },
    {
     "name": "stderr",
     "output_type": "stream",
     "text": [
      "100%|████████████████████████████████████████| 960/960 [00:07<00:00, 121.07it/s]\n"
     ]
    },
    {
     "name": "stdout",
     "output_type": "stream",
     "text": [
      " Average training loss: 0.92\n"
     ]
    },
    {
     "name": "stderr",
     "output_type": "stream",
     "text": [
      "100%|████████████████████████████████████████| 120/120 [00:00<00:00, 869.66it/s]\n"
     ]
    },
    {
     "name": "stdout",
     "output_type": "stream",
     "text": [
      " Average valid loss: 0.98\n",
      "AUC_SCORE:  0.7323247916023464  acc:  0.575 f1:  0.592\n",
      "34  EPOCH BEST MODEL!\n",
      "Test\n"
     ]
    },
    {
     "name": "stderr",
     "output_type": "stream",
     "text": [
      "100%|████████████████████████████████████████| 121/121 [00:00<00:00, 857.55it/s]\n"
     ]
    },
    {
     "name": "stdout",
     "output_type": "stream",
     "text": [
      " Average valid loss: 1.03\n",
      "AUC_SCORE:  0.7076219512195122  acc:  0.5289256198347108 f1:  0.558139534883721\n",
      "EPOCHS:36\n",
      "TRAIN\n"
     ]
    },
    {
     "name": "stderr",
     "output_type": "stream",
     "text": [
      "100%|████████████████████████████████████████| 960/960 [00:07<00:00, 120.92it/s]\n"
     ]
    },
    {
     "name": "stdout",
     "output_type": "stream",
     "text": [
      " Average training loss: 0.91\n"
     ]
    },
    {
     "name": "stderr",
     "output_type": "stream",
     "text": [
      "100%|████████████████████████████████████████| 120/120 [00:00<00:00, 869.36it/s]\n"
     ]
    },
    {
     "name": "stdout",
     "output_type": "stream",
     "text": [
      " Average valid loss: 0.98\n",
      "AUC_SCORE:  0.7341772151898734  acc:  0.575 f1:  0.592\n",
      "Test\n"
     ]
    },
    {
     "name": "stderr",
     "output_type": "stream",
     "text": [
      "100%|████████████████████████████████████████| 121/121 [00:00<00:00, 861.03it/s]\n"
     ]
    },
    {
     "name": "stdout",
     "output_type": "stream",
     "text": [
      " Average valid loss: 1.03\n",
      "AUC_SCORE:  0.7051829268292683  acc:  0.5289256198347108 f1:  0.558139534883721\n",
      "EPOCHS:37\n",
      "TRAIN\n"
     ]
    },
    {
     "name": "stderr",
     "output_type": "stream",
     "text": [
      "100%|████████████████████████████████████████| 960/960 [00:07<00:00, 120.30it/s]\n"
     ]
    },
    {
     "name": "stdout",
     "output_type": "stream",
     "text": [
      " Average training loss: 0.91\n"
     ]
    },
    {
     "name": "stderr",
     "output_type": "stream",
     "text": [
      "100%|████████████████████████████████████████| 120/120 [00:00<00:00, 871.71it/s]\n"
     ]
    },
    {
     "name": "stdout",
     "output_type": "stream",
     "text": [
      " Average valid loss: 0.98\n",
      "AUC_SCORE:  0.735103426983637  acc:  0.5833333333333334 f1:  0.596774193548387\n",
      "36  EPOCH BEST MODEL!\n",
      "Test\n"
     ]
    },
    {
     "name": "stderr",
     "output_type": "stream",
     "text": [
      "100%|████████████████████████████████████████| 121/121 [00:00<00:00, 857.56it/s]\n"
     ]
    },
    {
     "name": "stdout",
     "output_type": "stream",
     "text": [
      " Average valid loss: 1.03\n",
      "AUC_SCORE:  0.7048780487804879  acc:  0.5371900826446281 f1:  0.5625\n",
      "EPOCHS:38\n",
      "TRAIN\n"
     ]
    },
    {
     "name": "stderr",
     "output_type": "stream",
     "text": [
      "100%|████████████████████████████████████████| 960/960 [00:07<00:00, 120.26it/s]\n"
     ]
    },
    {
     "name": "stdout",
     "output_type": "stream",
     "text": [
      " Average training loss: 0.91\n"
     ]
    },
    {
     "name": "stderr",
     "output_type": "stream",
     "text": [
      "100%|████████████████████████████████████████| 120/120 [00:00<00:00, 872.14it/s]\n"
     ]
    },
    {
     "name": "stdout",
     "output_type": "stream",
     "text": [
      " Average valid loss: 0.99\n",
      "AUC_SCORE:  0.738808274158691  acc:  0.575 f1:  0.592\n",
      "Test\n"
     ]
    },
    {
     "name": "stderr",
     "output_type": "stream",
     "text": [
      "100%|████████████████████████████████████████| 121/121 [00:00<00:00, 866.20it/s]\n"
     ]
    },
    {
     "name": "stdout",
     "output_type": "stream",
     "text": [
      " Average valid loss: 1.04\n",
      "AUC_SCORE:  0.7021341463414635  acc:  0.512396694214876 f1:  0.549618320610687\n",
      "EPOCHS:39\n",
      "TRAIN\n"
     ]
    },
    {
     "name": "stderr",
     "output_type": "stream",
     "text": [
      "100%|████████████████████████████████████████| 960/960 [00:07<00:00, 120.90it/s]\n"
     ]
    },
    {
     "name": "stdout",
     "output_type": "stream",
     "text": [
      " Average training loss: 0.90\n"
     ]
    },
    {
     "name": "stderr",
     "output_type": "stream",
     "text": [
      "100%|████████████████████████████████████████| 120/120 [00:00<00:00, 875.72it/s]\n"
     ]
    },
    {
     "name": "stdout",
     "output_type": "stream",
     "text": [
      " Average valid loss: 0.98\n",
      "AUC_SCORE:  0.7403519604816301  acc:  0.5833333333333334 f1:  0.596774193548387\n",
      "Test\n"
     ]
    },
    {
     "name": "stderr",
     "output_type": "stream",
     "text": [
      "100%|████████████████████████████████████████| 121/121 [00:00<00:00, 863.53it/s]\n"
     ]
    },
    {
     "name": "stdout",
     "output_type": "stream",
     "text": [
      " Average valid loss: 1.04\n",
      "AUC_SCORE:  0.7015243902439025  acc:  0.5289256198347108 f1:  0.558139534883721\n",
      "EPOCHS:40\n",
      "TRAIN\n"
     ]
    },
    {
     "name": "stderr",
     "output_type": "stream",
     "text": [
      "100%|████████████████████████████████████████| 960/960 [00:07<00:00, 120.58it/s]\n"
     ]
    },
    {
     "name": "stdout",
     "output_type": "stream",
     "text": [
      " Average training loss: 0.91\n"
     ]
    },
    {
     "name": "stderr",
     "output_type": "stream",
     "text": [
      "100%|████████████████████████████████████████| 120/120 [00:00<00:00, 873.58it/s]\n"
     ]
    },
    {
     "name": "stdout",
     "output_type": "stream",
     "text": [
      " Average valid loss: 0.99\n",
      "AUC_SCORE:  0.7434393331275084  acc:  0.575 f1:  0.592\n",
      "Test\n"
     ]
    },
    {
     "name": "stderr",
     "output_type": "stream",
     "text": [
      "100%|████████████████████████████████████████| 121/121 [00:00<00:00, 863.95it/s]\n"
     ]
    },
    {
     "name": "stdout",
     "output_type": "stream",
     "text": [
      " Average valid loss: 1.05\n",
      "AUC_SCORE:  0.6969512195121951  acc:  0.512396694214876 f1:  0.549618320610687\n"
     ]
    },
    {
     "name": "stderr",
     "output_type": "stream",
     "text": [
      "100%|████████████████████████████████████████| 121/121 [00:00<00:00, 866.67it/s]\n"
     ]
    },
    {
     "name": "stdout",
     "output_type": "stream",
     "text": [
      " Average valid loss: 1.03\n",
      "AUC_SCORE:  0.7048780487804879  acc:  0.5371900826446281 f1:  0.5625\n",
      "BEST MODEL\n",
      "AUC_SCORE:  0.7048780487804879  acc:  0.5371900826446281 f1:  0.5625\n",
      "{'auc_micro': 0.7048780487804879, 'acc': 0.5371900826446281, 'f1': 0.5625, 'pred': [[1, 1, 0, 1, 0, 1, 1, 1, 0, 1], [1, 1, 1, 1, 1, 0, 0, 1, 1, 1], [1, 1, 1, 1, 0, 1, 1, 1, 1, 0], [1, 1, 0, 0, 1, 1, 1, 1, 1, 1], [1, 1, 1, 0, 0, 1, 0, 1, 0, 1], [1, 0, 1, 0, 0, 0, 1, 1, 1, 1], [1, 1, 1, 1, 1, 0, 0, 1, 1, 1], [1, 1, 1, 0, 1, 0, 0, 1, 1, 1], [0, 1, 1, 1, 1, 1, 1, 1, 0, 1], [1, 0, 0, 1, 1, 1, 1, 1, 1, 1], [0, 1, 0, 1, 1, 1, 1, 1, 1, 0], [1, 1, 1, 0, 0, 1, 0, 1, 0, 0], [1], [], [], [], [], [], [], []]}\n"
     ]
    }
   ],
   "source": [
    "bert2 = BertModel().to('cuda')\n",
    "score = fit(bert2, train_data,valid_data,test_data,EPOCHS=40)\n",
    "print(score)"
   ]
  },
  {
   "cell_type": "code",
   "execution_count": null,
   "id": "5304c7a1",
   "metadata": {},
   "outputs": [],
   "source": []
  },
  {
   "cell_type": "code",
   "execution_count": null,
   "id": "2a7c10b5",
   "metadata": {},
   "outputs": [],
   "source": []
  },
  {
   "cell_type": "code",
   "execution_count": null,
   "id": "cd94159c",
   "metadata": {},
   "outputs": [],
   "source": []
  },
  {
   "cell_type": "markdown",
   "id": "4c30b5f1",
   "metadata": {},
   "source": [
    "# 거리로 분석"
   ]
  },
  {
   "cell_type": "code",
   "execution_count": 156,
   "id": "fd90d26f",
   "metadata": {},
   "outputs": [],
   "source": [
    "path1 = 'word2vec_model_dim=384/'\n",
    "path2 = 'data/scriptbase/'\n",
    "filenames = os.listdir(path1)\n",
    "train_data = []\n",
    "valid_data = []\n",
    "test_data = []\n",
    "one = 0\n",
    "zero = 0\n",
    "end = torch.ones(1,1,384)\n",
    "\n",
    "for filename in filenames:\n",
    "    genres = []\n",
    "    movie_name = filename[:-14]\n",
    "    cult = 0\n",
    "    with open(path2+movie_name+'/processed/imdb_meta.txt','r') as f:\n",
    "        lines = f.readlines()\n",
    "        for line in lines:\n",
    "            if 'keyword' in line:\n",
    "                try:\n",
    "                    keyword  = line.strip().split('\\t')[1]\n",
    "                    keywords.append(keyword)\n",
    "                except:\n",
    "                    pass\n",
    "                if 'cult film'==keyword:\n",
    "                    cult = 1\n",
    "        \n",
    "    w2v=Word2Vec.load(path1 + filename)\n",
    "    base = 'scene_'\n",
    "    scene_num = 0\n",
    "    max_scene = 0\n",
    "    for node in w2v.wv.index_to_key:\n",
    "        if base in node:\n",
    "            scene_num += 1\n",
    "            if int(node[6:])>max_scene:\n",
    "                max_scene = int(node[6:])\n",
    "    embs = torch.zeros(1,scene_num,384)\n",
    "    k = 0\n",
    "    for i in range(1,max_scene+1):\n",
    "        emb_name = base + str(i)\n",
    "        if emb_name in w2v.wv.index_to_key:\n",
    "            emb = w2v.wv[emb_name]\n",
    "            emb = torch.from_numpy(emb)\n",
    "            embs[0][k] = emb\n",
    "            k += 1\n",
    "\n",
    "    ans = torch.zeros(1,1,512)\n",
    "    for i in range(scene_num):\n",
    "        if i ==0:\n",
    "            continue\n",
    "        #ans[0,0,i] += util.cos_sim(embs[0][i],embs[0][i-1])[0][0]\n",
    "        ans[0,0,i] += torch.cdist(embs[0][i].unsqueeze(0),embs[0][i-1].unsqueeze(0))[0][0]\n",
    "        \n",
    "    embs = ans\n",
    "    \n",
    "        \n",
    "    rand = random.randint(0,100)    \n",
    "    if movie_name in movie_split['train']:\n",
    "        train_data.append([embs, [cult]])\n",
    "    elif movie_name in movie_split['valid']:\n",
    "        valid_data.append([embs, [cult]])\n",
    "    \n",
    "    elif movie_name in movie_split['test']:\n",
    "        test_data.append([embs, [cult]])\n",
    "    \n",
    "    if cult:\n",
    "        one += 1\n",
    "    else:\n",
    "        zero += 1"
   ]
  },
  {
   "cell_type": "code",
   "execution_count": 157,
   "id": "8cb7443c",
   "metadata": {},
   "outputs": [
    {
     "name": "stdout",
     "output_type": "stream",
     "text": [
      "EPOCHS:1\n",
      "TRAIN\n"
     ]
    },
    {
     "name": "stderr",
     "output_type": "stream",
     "text": [
      "100%|████████████████████████████████████████| 929/929 [00:07<00:00, 127.24it/s]\n"
     ]
    },
    {
     "name": "stdout",
     "output_type": "stream",
     "text": [
      " Average training loss: 1.07\n"
     ]
    },
    {
     "name": "stderr",
     "output_type": "stream",
     "text": [
      "100%|████████████████████████████████████████| 117/117 [00:00<00:00, 980.24it/s]\n"
     ]
    },
    {
     "name": "stdout",
     "output_type": "stream",
     "text": [
      " Average valid loss: 1.06\n",
      "AUC_SCORE:  0.5272873194221509  acc:  0.4700854700854701 f1:  0.3404255319148936\n",
      "EPOCHS:2\n",
      "TRAIN\n"
     ]
    },
    {
     "name": "stderr",
     "output_type": "stream",
     "text": [
      "100%|████████████████████████████████████████| 929/929 [00:07<00:00, 123.76it/s]\n"
     ]
    },
    {
     "name": "stdout",
     "output_type": "stream",
     "text": [
      " Average training loss: 1.06\n"
     ]
    },
    {
     "name": "stderr",
     "output_type": "stream",
     "text": [
      "100%|████████████████████████████████████████| 117/117 [00:00<00:00, 986.09it/s]\n"
     ]
    },
    {
     "name": "stdout",
     "output_type": "stream",
     "text": [
      " Average valid loss: 1.07\n",
      "AUC_SCORE:  0.5112359550561797  acc:  0.46153846153846156 f1:  0.32258064516129037\n",
      "EPOCHS:3\n",
      "TRAIN\n"
     ]
    },
    {
     "name": "stderr",
     "output_type": "stream",
     "text": [
      "100%|████████████████████████████████████████| 929/929 [00:07<00:00, 125.93it/s]\n"
     ]
    },
    {
     "name": "stdout",
     "output_type": "stream",
     "text": [
      " Average training loss: 1.05\n"
     ]
    },
    {
     "name": "stderr",
     "output_type": "stream",
     "text": [
      "100%|████████████████████████████████████████| 117/117 [00:00<00:00, 958.22it/s]\n"
     ]
    },
    {
     "name": "stdout",
     "output_type": "stream",
     "text": [
      " Average valid loss: 1.08\n",
      "AUC_SCORE:  0.49357945425361155  acc:  0.47863247863247865 f1:  0.3296703296703297\n",
      "EPOCHS:4\n",
      "TRAIN\n"
     ]
    },
    {
     "name": "stderr",
     "output_type": "stream",
     "text": [
      "100%|████████████████████████████████████████| 929/929 [00:07<00:00, 124.12it/s]\n"
     ]
    },
    {
     "name": "stdout",
     "output_type": "stream",
     "text": [
      " Average training loss: 1.05\n"
     ]
    },
    {
     "name": "stderr",
     "output_type": "stream",
     "text": [
      "100%|████████████████████████████████████████| 117/117 [00:00<00:00, 982.98it/s]\n"
     ]
    },
    {
     "name": "stdout",
     "output_type": "stream",
     "text": [
      " Average valid loss: 1.08\n",
      "AUC_SCORE:  0.4903691813804173  acc:  0.47863247863247865 f1:  0.3296703296703297\n",
      "EPOCHS:5\n",
      "TRAIN\n"
     ]
    },
    {
     "name": "stderr",
     "output_type": "stream",
     "text": [
      "100%|████████████████████████████████████████| 929/929 [00:07<00:00, 126.37it/s]\n"
     ]
    },
    {
     "name": "stdout",
     "output_type": "stream",
     "text": [
      " Average training loss: 1.05\n"
     ]
    },
    {
     "name": "stderr",
     "output_type": "stream",
     "text": [
      "100%|████████████████████████████████████████| 117/117 [00:00<00:00, 961.17it/s]\n"
     ]
    },
    {
     "name": "stdout",
     "output_type": "stream",
     "text": [
      " Average valid loss: 1.09\n",
      "AUC_SCORE:  0.4875601926163724  acc:  0.47863247863247865 f1:  0.3296703296703297\n",
      "EPOCHS:6\n",
      "TRAIN\n"
     ]
    },
    {
     "name": "stderr",
     "output_type": "stream",
     "text": [
      "100%|████████████████████████████████████████| 929/929 [00:07<00:00, 126.48it/s]\n"
     ]
    },
    {
     "name": "stdout",
     "output_type": "stream",
     "text": [
      " Average training loss: 1.04\n"
     ]
    },
    {
     "name": "stderr",
     "output_type": "stream",
     "text": [
      "100%|████████████████████████████████████████| 117/117 [00:00<00:00, 987.17it/s]\n"
     ]
    },
    {
     "name": "stdout",
     "output_type": "stream",
     "text": [
      " Average valid loss: 1.09\n",
      "AUC_SCORE:  0.4759229534510433  acc:  0.48717948717948717 f1:  0.33333333333333337\n",
      "EPOCHS:7\n",
      "TRAIN\n"
     ]
    },
    {
     "name": "stderr",
     "output_type": "stream",
     "text": [
      "100%|████████████████████████████████████████| 929/929 [00:07<00:00, 125.93it/s]\n"
     ]
    },
    {
     "name": "stdout",
     "output_type": "stream",
     "text": [
      " Average training loss: 1.05\n"
     ]
    },
    {
     "name": "stderr",
     "output_type": "stream",
     "text": [
      "100%|████████████████████████████████████████| 117/117 [00:00<00:00, 991.71it/s]\n"
     ]
    },
    {
     "name": "stdout",
     "output_type": "stream",
     "text": [
      " Average valid loss: 1.10\n",
      "AUC_SCORE:  0.4751203852327447  acc:  0.47863247863247865 f1:  0.3146067415730337\n",
      "EPOCHS:8\n",
      "TRAIN\n"
     ]
    },
    {
     "name": "stderr",
     "output_type": "stream",
     "text": [
      "100%|████████████████████████████████████████| 929/929 [00:07<00:00, 126.48it/s]\n"
     ]
    },
    {
     "name": "stdout",
     "output_type": "stream",
     "text": [
      " Average training loss: 1.05\n"
     ]
    },
    {
     "name": "stderr",
     "output_type": "stream",
     "text": [
      "100%|████████████████████████████████████████| 117/117 [00:00<00:00, 953.18it/s]\n"
     ]
    },
    {
     "name": "stdout",
     "output_type": "stream",
     "text": [
      " Average valid loss: 1.10\n",
      "AUC_SCORE:  0.4695024077046549  acc:  0.48717948717948717 f1:  0.33333333333333337\n",
      "EPOCHS:9\n",
      "TRAIN\n"
     ]
    },
    {
     "name": "stderr",
     "output_type": "stream",
     "text": [
      "100%|████████████████████████████████████████| 929/929 [00:07<00:00, 126.18it/s]\n"
     ]
    },
    {
     "name": "stdout",
     "output_type": "stream",
     "text": [
      " Average training loss: 1.04\n"
     ]
    },
    {
     "name": "stderr",
     "output_type": "stream",
     "text": [
      "100%|████████████████████████████████████████| 117/117 [00:00<00:00, 960.79it/s]\n"
     ]
    },
    {
     "name": "stdout",
     "output_type": "stream",
     "text": [
      " Average valid loss: 1.10\n",
      "AUC_SCORE:  0.47351524879614765  acc:  0.47863247863247865 f1:  0.3296703296703297\n",
      "EPOCHS:10\n",
      "TRAIN\n"
     ]
    },
    {
     "name": "stderr",
     "output_type": "stream",
     "text": [
      "100%|████████████████████████████████████████| 929/929 [00:07<00:00, 125.41it/s]\n"
     ]
    },
    {
     "name": "stdout",
     "output_type": "stream",
     "text": [
      " Average training loss: 1.05\n"
     ]
    },
    {
     "name": "stderr",
     "output_type": "stream",
     "text": [
      "100%|████████████████████████████████████████| 117/117 [00:00<00:00, 958.61it/s]\n"
     ]
    },
    {
     "name": "stdout",
     "output_type": "stream",
     "text": [
      " Average valid loss: 1.10\n",
      "AUC_SCORE:  0.4715088282504013  acc:  0.4700854700854701 f1:  0.3111111111111111\n",
      "EPOCHS:11\n",
      "TRAIN\n"
     ]
    },
    {
     "name": "stderr",
     "output_type": "stream",
     "text": [
      "100%|████████████████████████████████████████| 929/929 [00:07<00:00, 126.36it/s]\n"
     ]
    },
    {
     "name": "stdout",
     "output_type": "stream",
     "text": [
      " Average training loss: 1.03\n"
     ]
    },
    {
     "name": "stderr",
     "output_type": "stream",
     "text": [
      "100%|████████████████████████████████████████| 117/117 [00:00<00:00, 982.94it/s]\n"
     ]
    },
    {
     "name": "stdout",
     "output_type": "stream",
     "text": [
      " Average valid loss: 1.10\n",
      "AUC_SCORE:  0.471107544141252  acc:  0.47863247863247865 f1:  0.3296703296703297\n",
      "EPOCHS:12\n",
      "TRAIN\n"
     ]
    },
    {
     "name": "stderr",
     "output_type": "stream",
     "text": [
      "100%|████████████████████████████████████████| 929/929 [00:07<00:00, 126.74it/s]\n"
     ]
    },
    {
     "name": "stdout",
     "output_type": "stream",
     "text": [
      " Average training loss: 1.04\n"
     ]
    },
    {
     "name": "stderr",
     "output_type": "stream",
     "text": [
      "100%|████████████████████████████████████████| 117/117 [00:00<00:00, 924.25it/s]\n"
     ]
    },
    {
     "name": "stdout",
     "output_type": "stream",
     "text": [
      " Average valid loss: 1.10\n",
      "AUC_SCORE:  0.47110754414125194  acc:  0.46153846153846156 f1:  0.32258064516129037\n",
      "EPOCHS:13\n",
      "TRAIN\n"
     ]
    },
    {
     "name": "stderr",
     "output_type": "stream",
     "text": [
      "100%|████████████████████████████████████████| 929/929 [00:07<00:00, 123.17it/s]\n"
     ]
    },
    {
     "name": "stdout",
     "output_type": "stream",
     "text": [
      " Average training loss: 1.03\n"
     ]
    },
    {
     "name": "stderr",
     "output_type": "stream",
     "text": [
      "100%|████████████████████████████████████████| 117/117 [00:00<00:00, 964.84it/s]\n"
     ]
    },
    {
     "name": "stdout",
     "output_type": "stream",
     "text": [
      " Average valid loss: 1.11\n",
      "AUC_SCORE:  0.46709470304975925  acc:  0.4700854700854701 f1:  0.29545454545454547\n",
      "EPOCHS:14\n",
      "TRAIN\n"
     ]
    },
    {
     "name": "stderr",
     "output_type": "stream",
     "text": [
      "100%|████████████████████████████████████████| 929/929 [00:07<00:00, 122.37it/s]\n"
     ]
    },
    {
     "name": "stdout",
     "output_type": "stream",
     "text": [
      " Average training loss: 1.03\n"
     ]
    },
    {
     "name": "stderr",
     "output_type": "stream",
     "text": [
      "100%|████████████████████████████████████████| 117/117 [00:00<00:00, 947.42it/s]\n"
     ]
    },
    {
     "name": "stdout",
     "output_type": "stream",
     "text": [
      " Average valid loss: 1.11\n",
      "AUC_SCORE:  0.46629213483146065  acc:  0.452991452991453 f1:  0.30434782608695654\n",
      "EPOCHS:15\n",
      "TRAIN\n"
     ]
    },
    {
     "name": "stderr",
     "output_type": "stream",
     "text": [
      "100%|████████████████████████████████████████| 929/929 [00:07<00:00, 125.93it/s]\n"
     ]
    },
    {
     "name": "stdout",
     "output_type": "stream",
     "text": [
      " Average training loss: 1.02\n"
     ]
    },
    {
     "name": "stderr",
     "output_type": "stream",
     "text": [
      "100%|████████████████████████████████████████| 117/117 [00:00<00:00, 967.50it/s]\n"
     ]
    },
    {
     "name": "stdout",
     "output_type": "stream",
     "text": [
      " Average valid loss: 1.11\n",
      "AUC_SCORE:  0.4634831460674157  acc:  0.452991452991453 f1:  0.27272727272727276\n",
      "EPOCHS:16\n",
      "TRAIN\n"
     ]
    },
    {
     "name": "stderr",
     "output_type": "stream",
     "text": [
      "100%|████████████████████████████████████████| 929/929 [00:07<00:00, 126.36it/s]\n"
     ]
    },
    {
     "name": "stdout",
     "output_type": "stream",
     "text": [
      " Average training loss: 1.02\n"
     ]
    },
    {
     "name": "stderr",
     "output_type": "stream",
     "text": [
      "100%|████████████████████████████████████████| 117/117 [00:00<00:00, 981.79it/s]\n"
     ]
    },
    {
     "name": "stdout",
     "output_type": "stream",
     "text": [
      " Average valid loss: 1.12\n",
      "AUC_SCORE:  0.4610754414125201  acc:  0.4444444444444444 f1:  0.2857142857142857\n",
      "EPOCHS:17\n",
      "TRAIN\n"
     ]
    },
    {
     "name": "stderr",
     "output_type": "stream",
     "text": [
      "100%|████████████████████████████████████████| 929/929 [00:07<00:00, 126.53it/s]\n"
     ]
    },
    {
     "name": "stdout",
     "output_type": "stream",
     "text": [
      " Average training loss: 1.03\n"
     ]
    },
    {
     "name": "stderr",
     "output_type": "stream",
     "text": [
      "100%|████████████████████████████████████████| 117/117 [00:00<00:00, 979.93it/s]\n"
     ]
    },
    {
     "name": "stdout",
     "output_type": "stream",
     "text": [
      " Average valid loss: 1.12\n",
      "AUC_SCORE:  0.45947030497592295  acc:  0.4444444444444444 f1:  0.2696629213483146\n",
      "EPOCHS:18\n",
      "TRAIN\n"
     ]
    },
    {
     "name": "stderr",
     "output_type": "stream",
     "text": [
      "100%|████████████████████████████████████████| 929/929 [00:07<00:00, 126.62it/s]\n"
     ]
    },
    {
     "name": "stdout",
     "output_type": "stream",
     "text": [
      " Average training loss: 1.03\n"
     ]
    },
    {
     "name": "stderr",
     "output_type": "stream",
     "text": [
      "100%|████████████████████████████████████████| 117/117 [00:00<00:00, 974.33it/s]\n"
     ]
    },
    {
     "name": "stdout",
     "output_type": "stream",
     "text": [
      " Average valid loss: 1.12\n",
      "AUC_SCORE:  0.4550561797752809  acc:  0.46153846153846156 f1:  0.2758620689655173\n",
      "EPOCHS:19\n",
      "TRAIN\n"
     ]
    },
    {
     "name": "stderr",
     "output_type": "stream",
     "text": [
      "100%|████████████████████████████████████████| 929/929 [00:07<00:00, 127.12it/s]\n"
     ]
    },
    {
     "name": "stdout",
     "output_type": "stream",
     "text": [
      " Average training loss: 1.02\n"
     ]
    },
    {
     "name": "stderr",
     "output_type": "stream",
     "text": [
      "100%|████████████████████████████████████████| 117/117 [00:00<00:00, 985.75it/s]\n"
     ]
    },
    {
     "name": "stdout",
     "output_type": "stream",
     "text": [
      " Average valid loss: 1.12\n",
      "AUC_SCORE:  0.45626003210272875  acc:  0.4444444444444444 f1:  0.2857142857142857\n",
      "EPOCHS:20\n",
      "TRAIN\n"
     ]
    },
    {
     "name": "stderr",
     "output_type": "stream",
     "text": [
      "100%|████████████████████████████████████████| 929/929 [00:07<00:00, 127.28it/s]\n"
     ]
    },
    {
     "name": "stdout",
     "output_type": "stream",
     "text": [
      " Average training loss: 1.02\n"
     ]
    },
    {
     "name": "stderr",
     "output_type": "stream",
     "text": [
      "100%|████████████████████████████████████████| 117/117 [00:00<00:00, 989.84it/s]\n"
     ]
    },
    {
     "name": "stdout",
     "output_type": "stream",
     "text": [
      " Average valid loss: 1.13\n",
      "AUC_SCORE:  0.4562600321027287  acc:  0.47863247863247865 f1:  0.2823529411764706\n"
     ]
    },
    {
     "name": "stderr",
     "output_type": "stream",
     "text": [
      "100%|████████████████████████████████████████| 117/117 [00:00<00:00, 985.66it/s]"
     ]
    },
    {
     "name": "stdout",
     "output_type": "stream",
     "text": [
      " Average valid loss: 1.06\n",
      "AUC_SCORE:  0.5497592295345104  acc:  0.41025641025641024 f1:  0.3551401869158879\n",
      "BEST MODEL\n",
      "AUC_SCORE:  0.5497592295345104  acc:  0.41025641025641024 f1:  0.3551401869158879\n",
      "{'auc_micro': 0.5497592295345104, 'acc': 0.41025641025641024, 'f1': 0.3551401869158879, 'pred': [[1, 1, 1, 1, 1, 1, 1, 1, 0, 1], [1, 1, 0, 1, 1, 0, 0, 0, 1, 1], [0, 1, 1, 0, 1, 1, 1, 0, 1, 0], [1, 1, 1, 1, 1, 1, 0, 0, 1, 0], [0, 1, 0, 1, 1, 1, 1, 1, 1, 1], [1, 1, 0, 1, 0, 1, 1, 1, 0, 1], [1, 1, 1, 0, 1, 1, 0, 0, 1, 1], [0, 1, 1, 1, 1, 1, 0, 1, 1, 0], [1, 0, 1, 0, 1, 1, 0, 1, 0, 1], [1, 1, 1, 0, 1, 0, 0, 0, 0, 1], [1, 1, 1, 1, 0, 0, 1, 1, 0, 1], [1, 0, 1, 0, 1, 1, 0], [], [], [], [], [], [], []]}\n"
     ]
    },
    {
     "name": "stderr",
     "output_type": "stream",
     "text": [
      "\n"
     ]
    }
   ],
   "source": [
    "bert2 = BertModel(d_model=512).to('cuda')\n",
    "score = fit(bert2, train_data,valid_data,test_data,EPOCHS=20)\n",
    "print(score)"
   ]
  },
  {
   "cell_type": "code",
   "execution_count": null,
   "id": "35fab6ac",
   "metadata": {},
   "outputs": [],
   "source": []
  }
 ],
 "metadata": {
  "kernelspec": {
   "display_name": "Network_x",
   "language": "python",
   "name": "network_x"
  },
  "language_info": {
   "codemirror_mode": {
    "name": "ipython",
    "version": 3
   },
   "file_extension": ".py",
   "mimetype": "text/x-python",
   "name": "python",
   "nbconvert_exporter": "python",
   "pygments_lexer": "ipython3",
   "version": "3.8.12"
  }
 },
 "nbformat": 4,
 "nbformat_minor": 5
}
